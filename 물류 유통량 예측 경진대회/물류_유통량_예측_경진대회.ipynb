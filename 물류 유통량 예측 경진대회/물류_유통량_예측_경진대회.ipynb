{
  "nbformat": 4,
  "nbformat_minor": 0,
  "metadata": {
    "colab": {
      "name": "물류 유통량 예측 경진대회.ipynb",
      "provenance": [],
      "mount_file_id": "1CM55BznRqILKwF8EyuVskgAoyFXlQiqw",
      "authorship_tag": "ABX9TyOXYSPVSCTTRV4G4ReJg2c6",
      "include_colab_link": true
    },
    "kernelspec": {
      "name": "python3",
      "display_name": "Python 3"
    },
    "language_info": {
      "name": "python"
    }
  },
  "cells": [
    {
      "cell_type": "markdown",
      "metadata": {
        "id": "view-in-github",
        "colab_type": "text"
      },
      "source": [
        "<a href=\"https://colab.research.google.com/github/jiin124/Dacon/blob/main/%EB%AC%BC%EB%A5%98%20%EC%9C%A0%ED%86%B5%EB%9F%89%20%EC%98%88%EC%B8%A1%20%EA%B2%BD%EC%A7%84%EB%8C%80%ED%9A%8C/%EB%AC%BC%EB%A5%98_%EC%9C%A0%ED%86%B5%EB%9F%89_%EC%98%88%EC%B8%A1_%EA%B2%BD%EC%A7%84%EB%8C%80%ED%9A%8C.ipynb\" target=\"_parent\"><img src=\"https://colab.research.google.com/assets/colab-badge.svg\" alt=\"Open In Colab\"/></a>"
      ]
    },
    {
      "cell_type": "code",
      "execution_count": 1,
      "metadata": {
        "id": "aHZmOqoa8Rtq"
      },
      "outputs": [],
      "source": [
        "import pandas as pd\n",
        "import numpy as np\n",
        "import matplotlib.pyplot as plt\n",
        "import seaborn as sns\n",
        "import os\n",
        "plt.style.use('ggplot')\n",
        "import warnings\n",
        "warnings.filterwarnings('ignore')"
      ]
    },
    {
      "cell_type": "markdown",
      "source": [
        "https://dacon.io/competitions/official/235867/codeshare/3888?page=1&dtype=recent"
      ],
      "metadata": {
        "id": "XbCPeC5vOXfW"
      }
    },
    {
      "cell_type": "code",
      "source": [
        "train=pd.read_csv('/content/drive/MyDrive/물류 유통량 예측 경진대회/train.csv')\n",
        "test=pd.read_csv('/content/drive/MyDrive/물류 유통량 예측 경진대회/test.csv')\n",
        "sample=pd.read_csv('/content/drive/MyDrive/물류 유통량 예측 경진대회/sample_submission.csv')"
      ],
      "metadata": {
        "id": "sy3Lc_Fl8qTV"
      },
      "execution_count": 2,
      "outputs": []
    },
    {
      "cell_type": "code",
      "source": [
        "train.head()"
      ],
      "metadata": {
        "colab": {
          "base_uri": "https://localhost:8080/",
          "height": 206
        },
        "id": "c108oGw496-t",
        "outputId": "91f77cbd-bc44-4145-b77e-bb4783326bb1"
      },
      "execution_count": 3,
      "outputs": [
        {
          "output_type": "execute_result",
          "data": {
            "text/html": [
              "\n",
              "  <div id=\"df-f46b3746-65b6-4b05-b6ed-54b9f8ef6bd7\">\n",
              "    <div class=\"colab-df-container\">\n",
              "      <div>\n",
              "<style scoped>\n",
              "    .dataframe tbody tr th:only-of-type {\n",
              "        vertical-align: middle;\n",
              "    }\n",
              "\n",
              "    .dataframe tbody tr th {\n",
              "        vertical-align: top;\n",
              "    }\n",
              "\n",
              "    .dataframe thead th {\n",
              "        text-align: right;\n",
              "    }\n",
              "</style>\n",
              "<table border=\"1\" class=\"dataframe\">\n",
              "  <thead>\n",
              "    <tr style=\"text-align: right;\">\n",
              "      <th></th>\n",
              "      <th>index</th>\n",
              "      <th>송하인_격자공간고유번호</th>\n",
              "      <th>수하인_격자공간고유번호</th>\n",
              "      <th>물품_카테고리</th>\n",
              "      <th>운송장_건수</th>\n",
              "    </tr>\n",
              "  </thead>\n",
              "  <tbody>\n",
              "    <tr>\n",
              "      <th>0</th>\n",
              "      <td>0</td>\n",
              "      <td>5011000595017300</td>\n",
              "      <td>2871000192069300</td>\n",
              "      <td>음반</td>\n",
              "      <td>3</td>\n",
              "    </tr>\n",
              "    <tr>\n",
              "      <th>1</th>\n",
              "      <td>1</td>\n",
              "      <td>4148000690043300</td>\n",
              "      <td>5011000264024400</td>\n",
              "      <td>문화컨텐츠</td>\n",
              "      <td>3</td>\n",
              "    </tr>\n",
              "    <tr>\n",
              "      <th>2</th>\n",
              "      <td>2</td>\n",
              "      <td>5011000078068400</td>\n",
              "      <td>1120000007005400</td>\n",
              "      <td>농산물</td>\n",
              "      <td>3</td>\n",
              "    </tr>\n",
              "    <tr>\n",
              "      <th>3</th>\n",
              "      <td>3</td>\n",
              "      <td>4127100048006400</td>\n",
              "      <td>5011000587019400</td>\n",
              "      <td>기타식품</td>\n",
              "      <td>7</td>\n",
              "    </tr>\n",
              "    <tr>\n",
              "      <th>4</th>\n",
              "      <td>4</td>\n",
              "      <td>5011000078068400</td>\n",
              "      <td>2823700010076300</td>\n",
              "      <td>농산물</td>\n",
              "      <td>3</td>\n",
              "    </tr>\n",
              "  </tbody>\n",
              "</table>\n",
              "</div>\n",
              "      <button class=\"colab-df-convert\" onclick=\"convertToInteractive('df-f46b3746-65b6-4b05-b6ed-54b9f8ef6bd7')\"\n",
              "              title=\"Convert this dataframe to an interactive table.\"\n",
              "              style=\"display:none;\">\n",
              "        \n",
              "  <svg xmlns=\"http://www.w3.org/2000/svg\" height=\"24px\"viewBox=\"0 0 24 24\"\n",
              "       width=\"24px\">\n",
              "    <path d=\"M0 0h24v24H0V0z\" fill=\"none\"/>\n",
              "    <path d=\"M18.56 5.44l.94 2.06.94-2.06 2.06-.94-2.06-.94-.94-2.06-.94 2.06-2.06.94zm-11 1L8.5 8.5l.94-2.06 2.06-.94-2.06-.94L8.5 2.5l-.94 2.06-2.06.94zm10 10l.94 2.06.94-2.06 2.06-.94-2.06-.94-.94-2.06-.94 2.06-2.06.94z\"/><path d=\"M17.41 7.96l-1.37-1.37c-.4-.4-.92-.59-1.43-.59-.52 0-1.04.2-1.43.59L10.3 9.45l-7.72 7.72c-.78.78-.78 2.05 0 2.83L4 21.41c.39.39.9.59 1.41.59.51 0 1.02-.2 1.41-.59l7.78-7.78 2.81-2.81c.8-.78.8-2.07 0-2.86zM5.41 20L4 18.59l7.72-7.72 1.47 1.35L5.41 20z\"/>\n",
              "  </svg>\n",
              "      </button>\n",
              "      \n",
              "  <style>\n",
              "    .colab-df-container {\n",
              "      display:flex;\n",
              "      flex-wrap:wrap;\n",
              "      gap: 12px;\n",
              "    }\n",
              "\n",
              "    .colab-df-convert {\n",
              "      background-color: #E8F0FE;\n",
              "      border: none;\n",
              "      border-radius: 50%;\n",
              "      cursor: pointer;\n",
              "      display: none;\n",
              "      fill: #1967D2;\n",
              "      height: 32px;\n",
              "      padding: 0 0 0 0;\n",
              "      width: 32px;\n",
              "    }\n",
              "\n",
              "    .colab-df-convert:hover {\n",
              "      background-color: #E2EBFA;\n",
              "      box-shadow: 0px 1px 2px rgba(60, 64, 67, 0.3), 0px 1px 3px 1px rgba(60, 64, 67, 0.15);\n",
              "      fill: #174EA6;\n",
              "    }\n",
              "\n",
              "    [theme=dark] .colab-df-convert {\n",
              "      background-color: #3B4455;\n",
              "      fill: #D2E3FC;\n",
              "    }\n",
              "\n",
              "    [theme=dark] .colab-df-convert:hover {\n",
              "      background-color: #434B5C;\n",
              "      box-shadow: 0px 1px 3px 1px rgba(0, 0, 0, 0.15);\n",
              "      filter: drop-shadow(0px 1px 2px rgba(0, 0, 0, 0.3));\n",
              "      fill: #FFFFFF;\n",
              "    }\n",
              "  </style>\n",
              "\n",
              "      <script>\n",
              "        const buttonEl =\n",
              "          document.querySelector('#df-f46b3746-65b6-4b05-b6ed-54b9f8ef6bd7 button.colab-df-convert');\n",
              "        buttonEl.style.display =\n",
              "          google.colab.kernel.accessAllowed ? 'block' : 'none';\n",
              "\n",
              "        async function convertToInteractive(key) {\n",
              "          const element = document.querySelector('#df-f46b3746-65b6-4b05-b6ed-54b9f8ef6bd7');\n",
              "          const dataTable =\n",
              "            await google.colab.kernel.invokeFunction('convertToInteractive',\n",
              "                                                     [key], {});\n",
              "          if (!dataTable) return;\n",
              "\n",
              "          const docLinkHtml = 'Like what you see? Visit the ' +\n",
              "            '<a target=\"_blank\" href=https://colab.research.google.com/notebooks/data_table.ipynb>data table notebook</a>'\n",
              "            + ' to learn more about interactive tables.';\n",
              "          element.innerHTML = '';\n",
              "          dataTable['output_type'] = 'display_data';\n",
              "          await google.colab.output.renderOutput(dataTable, element);\n",
              "          const docLink = document.createElement('div');\n",
              "          docLink.innerHTML = docLinkHtml;\n",
              "          element.appendChild(docLink);\n",
              "        }\n",
              "      </script>\n",
              "    </div>\n",
              "  </div>\n",
              "  "
            ],
            "text/plain": [
              "   index      송하인_격자공간고유번호      수하인_격자공간고유번호 물품_카테고리  운송장_건수\n",
              "0      0  5011000595017300  2871000192069300      음반       3\n",
              "1      1  4148000690043300  5011000264024400   문화컨텐츠       3\n",
              "2      2  5011000078068400  1120000007005400     농산물       3\n",
              "3      3  4127100048006400  5011000587019400    기타식품       7\n",
              "4      4  5011000078068400  2823700010076300     농산물       3"
            ]
          },
          "metadata": {},
          "execution_count": 3
        }
      ]
    },
    {
      "cell_type": "code",
      "source": [
        "test.head()"
      ],
      "metadata": {
        "colab": {
          "base_uri": "https://localhost:8080/",
          "height": 206
        },
        "id": "a5NsvpM59_Lf",
        "outputId": "9c1e9b32-7b3e-447d-ae23-f2f7d7f1ba94"
      },
      "execution_count": 4,
      "outputs": [
        {
          "output_type": "execute_result",
          "data": {
            "text/html": [
              "\n",
              "  <div id=\"df-9bef1b6b-e772-4a42-8555-4d5e59fa7dc5\">\n",
              "    <div class=\"colab-df-container\">\n",
              "      <div>\n",
              "<style scoped>\n",
              "    .dataframe tbody tr th:only-of-type {\n",
              "        vertical-align: middle;\n",
              "    }\n",
              "\n",
              "    .dataframe tbody tr th {\n",
              "        vertical-align: top;\n",
              "    }\n",
              "\n",
              "    .dataframe thead th {\n",
              "        text-align: right;\n",
              "    }\n",
              "</style>\n",
              "<table border=\"1\" class=\"dataframe\">\n",
              "  <thead>\n",
              "    <tr style=\"text-align: right;\">\n",
              "      <th></th>\n",
              "      <th>index</th>\n",
              "      <th>송하인_격자공간고유번호</th>\n",
              "      <th>수하인_격자공간고유번호</th>\n",
              "      <th>물품_카테고리</th>\n",
              "    </tr>\n",
              "  </thead>\n",
              "  <tbody>\n",
              "    <tr>\n",
              "      <th>0</th>\n",
              "      <td>0</td>\n",
              "      <td>4167000577042200</td>\n",
              "      <td>5011000435014100</td>\n",
              "      <td>선케어</td>\n",
              "    </tr>\n",
              "    <tr>\n",
              "      <th>1</th>\n",
              "      <td>1</td>\n",
              "      <td>1156000009012200</td>\n",
              "      <td>5011000172034400</td>\n",
              "      <td>구강위생용품</td>\n",
              "    </tr>\n",
              "    <tr>\n",
              "      <th>2</th>\n",
              "      <td>2</td>\n",
              "      <td>4122000363057300</td>\n",
              "      <td>5011000361097300</td>\n",
              "      <td>캠핑</td>\n",
              "    </tr>\n",
              "    <tr>\n",
              "      <th>3</th>\n",
              "      <td>3</td>\n",
              "      <td>5011000436041400</td>\n",
              "      <td>2826000084036400</td>\n",
              "      <td>아웃도어가구</td>\n",
              "    </tr>\n",
              "    <tr>\n",
              "      <th>4</th>\n",
              "      <td>4</td>\n",
              "      <td>4150000241065200</td>\n",
              "      <td>5011000169044300</td>\n",
              "      <td>분유/이유식/아기간식</td>\n",
              "    </tr>\n",
              "  </tbody>\n",
              "</table>\n",
              "</div>\n",
              "      <button class=\"colab-df-convert\" onclick=\"convertToInteractive('df-9bef1b6b-e772-4a42-8555-4d5e59fa7dc5')\"\n",
              "              title=\"Convert this dataframe to an interactive table.\"\n",
              "              style=\"display:none;\">\n",
              "        \n",
              "  <svg xmlns=\"http://www.w3.org/2000/svg\" height=\"24px\"viewBox=\"0 0 24 24\"\n",
              "       width=\"24px\">\n",
              "    <path d=\"M0 0h24v24H0V0z\" fill=\"none\"/>\n",
              "    <path d=\"M18.56 5.44l.94 2.06.94-2.06 2.06-.94-2.06-.94-.94-2.06-.94 2.06-2.06.94zm-11 1L8.5 8.5l.94-2.06 2.06-.94-2.06-.94L8.5 2.5l-.94 2.06-2.06.94zm10 10l.94 2.06.94-2.06 2.06-.94-2.06-.94-.94-2.06-.94 2.06-2.06.94z\"/><path d=\"M17.41 7.96l-1.37-1.37c-.4-.4-.92-.59-1.43-.59-.52 0-1.04.2-1.43.59L10.3 9.45l-7.72 7.72c-.78.78-.78 2.05 0 2.83L4 21.41c.39.39.9.59 1.41.59.51 0 1.02-.2 1.41-.59l7.78-7.78 2.81-2.81c.8-.78.8-2.07 0-2.86zM5.41 20L4 18.59l7.72-7.72 1.47 1.35L5.41 20z\"/>\n",
              "  </svg>\n",
              "      </button>\n",
              "      \n",
              "  <style>\n",
              "    .colab-df-container {\n",
              "      display:flex;\n",
              "      flex-wrap:wrap;\n",
              "      gap: 12px;\n",
              "    }\n",
              "\n",
              "    .colab-df-convert {\n",
              "      background-color: #E8F0FE;\n",
              "      border: none;\n",
              "      border-radius: 50%;\n",
              "      cursor: pointer;\n",
              "      display: none;\n",
              "      fill: #1967D2;\n",
              "      height: 32px;\n",
              "      padding: 0 0 0 0;\n",
              "      width: 32px;\n",
              "    }\n",
              "\n",
              "    .colab-df-convert:hover {\n",
              "      background-color: #E2EBFA;\n",
              "      box-shadow: 0px 1px 2px rgba(60, 64, 67, 0.3), 0px 1px 3px 1px rgba(60, 64, 67, 0.15);\n",
              "      fill: #174EA6;\n",
              "    }\n",
              "\n",
              "    [theme=dark] .colab-df-convert {\n",
              "      background-color: #3B4455;\n",
              "      fill: #D2E3FC;\n",
              "    }\n",
              "\n",
              "    [theme=dark] .colab-df-convert:hover {\n",
              "      background-color: #434B5C;\n",
              "      box-shadow: 0px 1px 3px 1px rgba(0, 0, 0, 0.15);\n",
              "      filter: drop-shadow(0px 1px 2px rgba(0, 0, 0, 0.3));\n",
              "      fill: #FFFFFF;\n",
              "    }\n",
              "  </style>\n",
              "\n",
              "      <script>\n",
              "        const buttonEl =\n",
              "          document.querySelector('#df-9bef1b6b-e772-4a42-8555-4d5e59fa7dc5 button.colab-df-convert');\n",
              "        buttonEl.style.display =\n",
              "          google.colab.kernel.accessAllowed ? 'block' : 'none';\n",
              "\n",
              "        async function convertToInteractive(key) {\n",
              "          const element = document.querySelector('#df-9bef1b6b-e772-4a42-8555-4d5e59fa7dc5');\n",
              "          const dataTable =\n",
              "            await google.colab.kernel.invokeFunction('convertToInteractive',\n",
              "                                                     [key], {});\n",
              "          if (!dataTable) return;\n",
              "\n",
              "          const docLinkHtml = 'Like what you see? Visit the ' +\n",
              "            '<a target=\"_blank\" href=https://colab.research.google.com/notebooks/data_table.ipynb>data table notebook</a>'\n",
              "            + ' to learn more about interactive tables.';\n",
              "          element.innerHTML = '';\n",
              "          dataTable['output_type'] = 'display_data';\n",
              "          await google.colab.output.renderOutput(dataTable, element);\n",
              "          const docLink = document.createElement('div');\n",
              "          docLink.innerHTML = docLinkHtml;\n",
              "          element.appendChild(docLink);\n",
              "        }\n",
              "      </script>\n",
              "    </div>\n",
              "  </div>\n",
              "  "
            ],
            "text/plain": [
              "   index      송하인_격자공간고유번호      수하인_격자공간고유번호      물품_카테고리\n",
              "0      0  4167000577042200  5011000435014100          선케어\n",
              "1      1  1156000009012200  5011000172034400       구강위생용품\n",
              "2      2  4122000363057300  5011000361097300           캠핑\n",
              "3      3  5011000436041400  2826000084036400       아웃도어가구\n",
              "4      4  4150000241065200  5011000169044300  분유/이유식/아기간식"
            ]
          },
          "metadata": {},
          "execution_count": 4
        }
      ]
    },
    {
      "cell_type": "code",
      "source": [
        "train.info()"
      ],
      "metadata": {
        "colab": {
          "base_uri": "https://localhost:8080/"
        },
        "id": "wsH5dDvM-And",
        "outputId": "b88b9b66-b64d-4dd1-a514-5e456a5ee5c6"
      },
      "execution_count": 5,
      "outputs": [
        {
          "output_type": "stream",
          "name": "stdout",
          "text": [
            "<class 'pandas.core.frame.DataFrame'>\n",
            "RangeIndex: 31684 entries, 0 to 31683\n",
            "Data columns (total 5 columns):\n",
            " #   Column        Non-Null Count  Dtype \n",
            "---  ------        --------------  ----- \n",
            " 0   index         31684 non-null  int64 \n",
            " 1   송하인_격자공간고유번호  31684 non-null  int64 \n",
            " 2   수하인_격자공간고유번호  31684 non-null  int64 \n",
            " 3   물품_카테고리       31684 non-null  object\n",
            " 4   운송장_건수        31684 non-null  int64 \n",
            "dtypes: int64(4), object(1)\n",
            "memory usage: 1.2+ MB\n"
          ]
        }
      ]
    },
    {
      "cell_type": "markdown",
      "source": [
        "# EDA"
      ],
      "metadata": {
        "id": "P3-qq9nI-RWF"
      }
    },
    {
      "cell_type": "code",
      "source": [
        "train.columns"
      ],
      "metadata": {
        "colab": {
          "base_uri": "https://localhost:8080/"
        },
        "id": "NyCygkwu-HpL",
        "outputId": "80b32ddb-93de-4ddf-c3ae-2d188eb721b3"
      },
      "execution_count": 6,
      "outputs": [
        {
          "output_type": "execute_result",
          "data": {
            "text/plain": [
              "Index(['index', '송하인_격자공간고유번호', '수하인_격자공간고유번호', '물품_카테고리', '운송장_건수'], dtype='object')"
            ]
          },
          "metadata": {},
          "execution_count": 6
        }
      ]
    },
    {
      "cell_type": "code",
      "source": [
        "train['송하인_격자공간고유번호'].value_counts()"
      ],
      "metadata": {
        "colab": {
          "base_uri": "https://localhost:8080/"
        },
        "id": "5yV26_An-TAF",
        "outputId": "e0013d53-03eb-49ab-e2a1-44c2d4b77e97"
      },
      "execution_count": 7,
      "outputs": [
        {
          "output_type": "execute_result",
          "data": {
            "text/plain": [
              "5011000078068400    3882\n",
              "5013000610049100    1790\n",
              "5013000731055200    1235\n",
              "5011000137030100    1137\n",
              "5013000821028200     731\n",
              "                    ... \n",
              "4511300030055300       1\n",
              "4719000321023400       1\n",
              "4423000423020300       1\n",
              "4711300748080100       1\n",
              "2811000139076100       1\n",
              "Name: 송하인_격자공간고유번호, Length: 4229, dtype: int64"
            ]
          },
          "metadata": {},
          "execution_count": 7
        }
      ]
    },
    {
      "cell_type": "code",
      "source": [
        "train['수하인_격자공간고유번호'].value_counts()"
      ],
      "metadata": {
        "colab": {
          "base_uri": "https://localhost:8080/"
        },
        "id": "efHMhS10-WUR",
        "outputId": "5977372d-aaf4-4cc0-e7b4-90ec2d55109a"
      },
      "execution_count": 8,
      "outputs": [
        {
          "output_type": "execute_result",
          "data": {
            "text/plain": [
              "5013000635005300    35\n",
              "5011000543041100    33\n",
              "5011000314069300    33\n",
              "5011000544072300    30\n",
              "5011000318044100    30\n",
              "                    ..\n",
              "5011000109040100     1\n",
              "4183000550093100     1\n",
              "4425000028078200     1\n",
              "1147000011064300     1\n",
              "5011000263065200     1\n",
              "Name: 수하인_격자공간고유번호, Length: 26875, dtype: int64"
            ]
          },
          "metadata": {},
          "execution_count": 8
        }
      ]
    },
    {
      "cell_type": "markdown",
      "source": [
        "https://www.bigdata-region.kr/#/dataset/7193fc33-73c6-4dcf-b06b-534f4998cb72\n",
        "여기 자료를 보니 시군구코드가 앞의 5자리 숫자인가보다. \n",
        "\n",
        "송하인 격자공간고유번호는 1 ~ 5, 6 ~ 9, 10, 11 ~ 16자릿수로 나누고 수하인 격자공간고유번호는 자릿수 별로 변수를 생성하였습니다.\n",
        "\n",
        "총 22개의 설명변수로 이루어진 데이터로 변환하였습니다."
      ],
      "metadata": {
        "id": "ipSYhtPYC8_Y"
      }
    },
    {
      "cell_type": "code",
      "source": [
        "def numround(number, digit):\n",
        "  num=[]\n",
        "  while(number!=0):\n",
        "    num.append(number % 10)\n",
        "    number = number //10\n",
        "\n",
        "  return int(num[-digit])"
      ],
      "metadata": {
        "id": "993H8yGpA1XG"
      },
      "execution_count": 3,
      "outputs": []
    },
    {
      "cell_type": "code",
      "source": [
        "from tqdm import tqdm"
      ],
      "metadata": {
        "id": "jbyVXit6GKOs"
      },
      "execution_count": 4,
      "outputs": []
    },
    {
      "cell_type": "code",
      "source": [
        "for i in tqdm(range(16)):\n",
        "  train[f'SEND_SPG_INNB_{i+1}'] = 0\n",
        "  train[f'REC_SPG_INNB_{i+1}'] = 0\n",
        "  test[f'SEND_SPG_INNB_{i+1}'] = 0\n",
        "  test[f'REC_SPG_INNB_{i+1}'] = 0\n",
        "  for j in range(train.shape[0]):\n",
        "    train.loc[j,f'SEND_SPG_INNB_{i+1}']=numround(train.loc[j,'송하인_격자공간고유번호'],i+1)\n",
        "    train.loc[j,f'REC_SPG_INNB_{i+1}']=numround(train.loc[j,'수하인_격자공간고유번호'],i+1)\n",
        "\n",
        "  for j in range(test.shape[0]):\n",
        "    test.loc[j,f'SEND_SPG_INNB_{i+1}']=numround(test.loc[j,'송하인_격자공간고유번호'],i+1)\n",
        "    test.loc[j,f'REC_SPG_INNB_{i+1}']=numround(test.loc[j,'수하인_격자공간고유번호'],i+1)"
      ],
      "metadata": {
        "colab": {
          "base_uri": "https://localhost:8080/"
        },
        "id": "fkaUAyVQF0eN",
        "outputId": "687e37a1-bb5b-4905-90ae-d3763f5d0a83"
      },
      "execution_count": 5,
      "outputs": [
        {
          "output_type": "stream",
          "name": "stderr",
          "text": [
            "100%|██████████| 16/16 [08:01<00:00, 30.09s/it]\n"
          ]
        }
      ]
    },
    {
      "cell_type": "code",
      "source": [
        "train['SEND_SPG_INNB_1~5']=train['SEND_SPG_INNB_1']+train['SEND_SPG_INNB_2']+train['SEND_SPG_INNB_3']+train['SEND_SPG_INNB_4']+train['SEND_SPG_INNB_5']\n",
        "train['SEND_SPG_INNB_6~9']=train['SEND_SPG_INNB_6']+train['SEND_SPG_INNB_7']+train['SEND_SPG_INNB_8']+train['SEND_SPG_INNB_9']\n",
        "train['SEND_SPG_INNB_10']=train['SEND_SPG_INNB_10']\n",
        "train['SEND_SPG_INNB_11~16']=train['SEND_SPG_INNB_11']+train['SEND_SPG_INNB_12']+train['SEND_SPG_INNB_13']+train['SEND_SPG_INNB_14']+train['SEND_SPG_INNB_15']+train['SEND_SPG_INNB_16']\n",
        "\n",
        "test['SEND_SPG_INNB_1~5']=test['SEND_SPG_INNB_1']+test['SEND_SPG_INNB_2']+test['SEND_SPG_INNB_3']+test['SEND_SPG_INNB_4']+test['SEND_SPG_INNB_5']\n",
        "test['SEND_SPG_INNB_6~9']=test['SEND_SPG_INNB_6']+test['SEND_SPG_INNB_7']+test['SEND_SPG_INNB_8']+test['SEND_SPG_INNB_9']\n",
        "test['SEND_SPG_INNB_10']=test['SEND_SPG_INNB_10']\n",
        "test['SEND_SPG_INNB_11~16']=test['SEND_SPG_INNB_11']+test['SEND_SPG_INNB_12']+test['SEND_SPG_INNB_13']+test['SEND_SPG_INNB_14']+test['SEND_SPG_INNB_15']+test['SEND_SPG_INNB_16']"
      ],
      "metadata": {
        "id": "EBCbBi10GIVc"
      },
      "execution_count": 6,
      "outputs": []
    },
    {
      "cell_type": "code",
      "source": [
        "train.index=train['index']\n",
        "test.index=test['index']\n",
        "train.drop(['수하인_격자공간고유번호','송하인_격자공간고유번호','SEND_SPG_INNB_1','SEND_SPG_INNB_2','SEND_SPG_INNB_3','SEND_SPG_INNB_4','SEND_SPG_INNB_5','SEND_SPG_INNB_6','SEND_SPG_INNB_7',\n",
        "            'SEND_SPG_INNB_8','SEND_SPG_INNB_9','SEND_SPG_INNB_11','SEND_SPG_INNB_12','SEND_SPG_INNB_13','SEND_SPG_INNB_14','SEND_SPG_INNB_15','SEND_SPG_INNB_16','index'],axis=1,inplace=True)\n",
        "test.drop(['수하인_격자공간고유번호','송하인_격자공간고유번호','SEND_SPG_INNB_1','SEND_SPG_INNB_2','SEND_SPG_INNB_3','SEND_SPG_INNB_4','SEND_SPG_INNB_5','SEND_SPG_INNB_6','SEND_SPG_INNB_7',\n",
        "            'SEND_SPG_INNB_8','SEND_SPG_INNB_9','SEND_SPG_INNB_11','SEND_SPG_INNB_12','SEND_SPG_INNB_13','SEND_SPG_INNB_14','SEND_SPG_INNB_15','SEND_SPG_INNB_16','index'],axis=1,inplace=True)"
      ],
      "metadata": {
        "id": "yXlgBQVhG9Fy"
      },
      "execution_count": 7,
      "outputs": []
    },
    {
      "cell_type": "code",
      "source": [
        "for col in test.columns:\n",
        "  train[col]=train[col].astype('category')\n",
        "  test[col]=test[col].astype('category')"
      ],
      "metadata": {
        "id": "5uHo3gYCG-bl"
      },
      "execution_count": 8,
      "outputs": []
    },
    {
      "cell_type": "code",
      "source": [
        "train.head()"
      ],
      "metadata": {
        "colab": {
          "base_uri": "https://localhost:8080/",
          "height": 614
        },
        "id": "ZTTXVXdBI8Se",
        "outputId": "602292c9-4090-4760-f2f1-4288c147998f"
      },
      "execution_count": 9,
      "outputs": [
        {
          "output_type": "execute_result",
          "data": {
            "text/html": [
              "\n",
              "  <div id=\"df-f9ab7ff3-76a0-40ee-956e-550fe616d8d9\">\n",
              "    <div class=\"colab-df-container\">\n",
              "      <div>\n",
              "<style scoped>\n",
              "    .dataframe tbody tr th:only-of-type {\n",
              "        vertical-align: middle;\n",
              "    }\n",
              "\n",
              "    .dataframe tbody tr th {\n",
              "        vertical-align: top;\n",
              "    }\n",
              "\n",
              "    .dataframe thead th {\n",
              "        text-align: right;\n",
              "    }\n",
              "</style>\n",
              "<table border=\"1\" class=\"dataframe\">\n",
              "  <thead>\n",
              "    <tr style=\"text-align: right;\">\n",
              "      <th></th>\n",
              "      <th>물품_카테고리</th>\n",
              "      <th>운송장_건수</th>\n",
              "      <th>REC_SPG_INNB_1</th>\n",
              "      <th>REC_SPG_INNB_2</th>\n",
              "      <th>REC_SPG_INNB_3</th>\n",
              "      <th>REC_SPG_INNB_4</th>\n",
              "      <th>REC_SPG_INNB_5</th>\n",
              "      <th>REC_SPG_INNB_6</th>\n",
              "      <th>REC_SPG_INNB_7</th>\n",
              "      <th>REC_SPG_INNB_8</th>\n",
              "      <th>REC_SPG_INNB_9</th>\n",
              "      <th>SEND_SPG_INNB_10</th>\n",
              "      <th>REC_SPG_INNB_10</th>\n",
              "      <th>REC_SPG_INNB_11</th>\n",
              "      <th>REC_SPG_INNB_12</th>\n",
              "      <th>REC_SPG_INNB_13</th>\n",
              "      <th>REC_SPG_INNB_14</th>\n",
              "      <th>REC_SPG_INNB_15</th>\n",
              "      <th>REC_SPG_INNB_16</th>\n",
              "      <th>SEND_SPG_INNB_1~5</th>\n",
              "      <th>SEND_SPG_INNB_6~9</th>\n",
              "      <th>SEND_SPG_INNB_11~16</th>\n",
              "    </tr>\n",
              "    <tr>\n",
              "      <th>index</th>\n",
              "      <th></th>\n",
              "      <th></th>\n",
              "      <th></th>\n",
              "      <th></th>\n",
              "      <th></th>\n",
              "      <th></th>\n",
              "      <th></th>\n",
              "      <th></th>\n",
              "      <th></th>\n",
              "      <th></th>\n",
              "      <th></th>\n",
              "      <th></th>\n",
              "      <th></th>\n",
              "      <th></th>\n",
              "      <th></th>\n",
              "      <th></th>\n",
              "      <th></th>\n",
              "      <th></th>\n",
              "      <th></th>\n",
              "      <th></th>\n",
              "      <th></th>\n",
              "      <th></th>\n",
              "    </tr>\n",
              "  </thead>\n",
              "  <tbody>\n",
              "    <tr>\n",
              "      <th>0</th>\n",
              "      <td>음반</td>\n",
              "      <td>3</td>\n",
              "      <td>2</td>\n",
              "      <td>8</td>\n",
              "      <td>7</td>\n",
              "      <td>1</td>\n",
              "      <td>0</td>\n",
              "      <td>0</td>\n",
              "      <td>0</td>\n",
              "      <td>1</td>\n",
              "      <td>9</td>\n",
              "      <td>5</td>\n",
              "      <td>2</td>\n",
              "      <td>0</td>\n",
              "      <td>6</td>\n",
              "      <td>9</td>\n",
              "      <td>3</td>\n",
              "      <td>0</td>\n",
              "      <td>0</td>\n",
              "      <td>7</td>\n",
              "      <td>14</td>\n",
              "      <td>11</td>\n",
              "    </tr>\n",
              "    <tr>\n",
              "      <th>1</th>\n",
              "      <td>문화컨텐츠</td>\n",
              "      <td>3</td>\n",
              "      <td>5</td>\n",
              "      <td>0</td>\n",
              "      <td>1</td>\n",
              "      <td>1</td>\n",
              "      <td>0</td>\n",
              "      <td>0</td>\n",
              "      <td>0</td>\n",
              "      <td>2</td>\n",
              "      <td>6</td>\n",
              "      <td>0</td>\n",
              "      <td>4</td>\n",
              "      <td>0</td>\n",
              "      <td>2</td>\n",
              "      <td>4</td>\n",
              "      <td>4</td>\n",
              "      <td>0</td>\n",
              "      <td>0</td>\n",
              "      <td>17</td>\n",
              "      <td>15</td>\n",
              "      <td>10</td>\n",
              "    </tr>\n",
              "    <tr>\n",
              "      <th>2</th>\n",
              "      <td>농산물</td>\n",
              "      <td>3</td>\n",
              "      <td>1</td>\n",
              "      <td>1</td>\n",
              "      <td>2</td>\n",
              "      <td>0</td>\n",
              "      <td>0</td>\n",
              "      <td>0</td>\n",
              "      <td>0</td>\n",
              "      <td>0</td>\n",
              "      <td>0</td>\n",
              "      <td>8</td>\n",
              "      <td>7</td>\n",
              "      <td>0</td>\n",
              "      <td>0</td>\n",
              "      <td>5</td>\n",
              "      <td>4</td>\n",
              "      <td>0</td>\n",
              "      <td>0</td>\n",
              "      <td>7</td>\n",
              "      <td>7</td>\n",
              "      <td>18</td>\n",
              "    </tr>\n",
              "    <tr>\n",
              "      <th>3</th>\n",
              "      <td>기타식품</td>\n",
              "      <td>7</td>\n",
              "      <td>5</td>\n",
              "      <td>0</td>\n",
              "      <td>1</td>\n",
              "      <td>1</td>\n",
              "      <td>0</td>\n",
              "      <td>0</td>\n",
              "      <td>0</td>\n",
              "      <td>5</td>\n",
              "      <td>8</td>\n",
              "      <td>8</td>\n",
              "      <td>7</td>\n",
              "      <td>0</td>\n",
              "      <td>1</td>\n",
              "      <td>9</td>\n",
              "      <td>4</td>\n",
              "      <td>0</td>\n",
              "      <td>0</td>\n",
              "      <td>15</td>\n",
              "      <td>4</td>\n",
              "      <td>10</td>\n",
              "    </tr>\n",
              "    <tr>\n",
              "      <th>4</th>\n",
              "      <td>농산물</td>\n",
              "      <td>3</td>\n",
              "      <td>2</td>\n",
              "      <td>8</td>\n",
              "      <td>2</td>\n",
              "      <td>3</td>\n",
              "      <td>7</td>\n",
              "      <td>0</td>\n",
              "      <td>0</td>\n",
              "      <td>0</td>\n",
              "      <td>1</td>\n",
              "      <td>8</td>\n",
              "      <td>0</td>\n",
              "      <td>0</td>\n",
              "      <td>7</td>\n",
              "      <td>6</td>\n",
              "      <td>3</td>\n",
              "      <td>0</td>\n",
              "      <td>0</td>\n",
              "      <td>7</td>\n",
              "      <td>7</td>\n",
              "      <td>18</td>\n",
              "    </tr>\n",
              "  </tbody>\n",
              "</table>\n",
              "</div>\n",
              "      <button class=\"colab-df-convert\" onclick=\"convertToInteractive('df-f9ab7ff3-76a0-40ee-956e-550fe616d8d9')\"\n",
              "              title=\"Convert this dataframe to an interactive table.\"\n",
              "              style=\"display:none;\">\n",
              "        \n",
              "  <svg xmlns=\"http://www.w3.org/2000/svg\" height=\"24px\"viewBox=\"0 0 24 24\"\n",
              "       width=\"24px\">\n",
              "    <path d=\"M0 0h24v24H0V0z\" fill=\"none\"/>\n",
              "    <path d=\"M18.56 5.44l.94 2.06.94-2.06 2.06-.94-2.06-.94-.94-2.06-.94 2.06-2.06.94zm-11 1L8.5 8.5l.94-2.06 2.06-.94-2.06-.94L8.5 2.5l-.94 2.06-2.06.94zm10 10l.94 2.06.94-2.06 2.06-.94-2.06-.94-.94-2.06-.94 2.06-2.06.94z\"/><path d=\"M17.41 7.96l-1.37-1.37c-.4-.4-.92-.59-1.43-.59-.52 0-1.04.2-1.43.59L10.3 9.45l-7.72 7.72c-.78.78-.78 2.05 0 2.83L4 21.41c.39.39.9.59 1.41.59.51 0 1.02-.2 1.41-.59l7.78-7.78 2.81-2.81c.8-.78.8-2.07 0-2.86zM5.41 20L4 18.59l7.72-7.72 1.47 1.35L5.41 20z\"/>\n",
              "  </svg>\n",
              "      </button>\n",
              "      \n",
              "  <style>\n",
              "    .colab-df-container {\n",
              "      display:flex;\n",
              "      flex-wrap:wrap;\n",
              "      gap: 12px;\n",
              "    }\n",
              "\n",
              "    .colab-df-convert {\n",
              "      background-color: #E8F0FE;\n",
              "      border: none;\n",
              "      border-radius: 50%;\n",
              "      cursor: pointer;\n",
              "      display: none;\n",
              "      fill: #1967D2;\n",
              "      height: 32px;\n",
              "      padding: 0 0 0 0;\n",
              "      width: 32px;\n",
              "    }\n",
              "\n",
              "    .colab-df-convert:hover {\n",
              "      background-color: #E2EBFA;\n",
              "      box-shadow: 0px 1px 2px rgba(60, 64, 67, 0.3), 0px 1px 3px 1px rgba(60, 64, 67, 0.15);\n",
              "      fill: #174EA6;\n",
              "    }\n",
              "\n",
              "    [theme=dark] .colab-df-convert {\n",
              "      background-color: #3B4455;\n",
              "      fill: #D2E3FC;\n",
              "    }\n",
              "\n",
              "    [theme=dark] .colab-df-convert:hover {\n",
              "      background-color: #434B5C;\n",
              "      box-shadow: 0px 1px 3px 1px rgba(0, 0, 0, 0.15);\n",
              "      filter: drop-shadow(0px 1px 2px rgba(0, 0, 0, 0.3));\n",
              "      fill: #FFFFFF;\n",
              "    }\n",
              "  </style>\n",
              "\n",
              "      <script>\n",
              "        const buttonEl =\n",
              "          document.querySelector('#df-f9ab7ff3-76a0-40ee-956e-550fe616d8d9 button.colab-df-convert');\n",
              "        buttonEl.style.display =\n",
              "          google.colab.kernel.accessAllowed ? 'block' : 'none';\n",
              "\n",
              "        async function convertToInteractive(key) {\n",
              "          const element = document.querySelector('#df-f9ab7ff3-76a0-40ee-956e-550fe616d8d9');\n",
              "          const dataTable =\n",
              "            await google.colab.kernel.invokeFunction('convertToInteractive',\n",
              "                                                     [key], {});\n",
              "          if (!dataTable) return;\n",
              "\n",
              "          const docLinkHtml = 'Like what you see? Visit the ' +\n",
              "            '<a target=\"_blank\" href=https://colab.research.google.com/notebooks/data_table.ipynb>data table notebook</a>'\n",
              "            + ' to learn more about interactive tables.';\n",
              "          element.innerHTML = '';\n",
              "          dataTable['output_type'] = 'display_data';\n",
              "          await google.colab.output.renderOutput(dataTable, element);\n",
              "          const docLink = document.createElement('div');\n",
              "          docLink.innerHTML = docLinkHtml;\n",
              "          element.appendChild(docLink);\n",
              "        }\n",
              "      </script>\n",
              "    </div>\n",
              "  </div>\n",
              "  "
            ],
            "text/plain": [
              "      물품_카테고리  운송장_건수  ... SEND_SPG_INNB_6~9 SEND_SPG_INNB_11~16\n",
              "index                  ...                                      \n",
              "0          음반       3  ...                14                  11\n",
              "1       문화컨텐츠       3  ...                15                  10\n",
              "2         농산물       3  ...                 7                  18\n",
              "3        기타식품       7  ...                 4                  10\n",
              "4         농산물       3  ...                 7                  18\n",
              "\n",
              "[5 rows x 22 columns]"
            ]
          },
          "metadata": {},
          "execution_count": 9
        }
      ]
    },
    {
      "cell_type": "code",
      "source": [
        "col=train['물품_카테고리'].value_counts()\n",
        "col"
      ],
      "metadata": {
        "colab": {
          "base_uri": "https://localhost:8080/"
        },
        "id": "rimS4mqZI-M6",
        "outputId": "2c2eecc6-089f-4910-a959-620b05b54eac"
      },
      "execution_count": 12,
      "outputs": [
        {
          "output_type": "execute_result",
          "data": {
            "text/plain": [
              "농산물              20321\n",
              "문화컨텐츠             1091\n",
              "음료                1034\n",
              "수산                 860\n",
              "가공식품               846\n",
              "                 ...  \n",
              "태블릿PC/노트북액세서리        4\n",
              "기타출산/육아              4\n",
              "선케어                  4\n",
              "유아가구                 4\n",
              "스포츠잡화                4\n",
              "Name: 물품_카테고리, Length: 100, dtype: int64"
            ]
          },
          "metadata": {},
          "execution_count": 12
        }
      ]
    },
    {
      "cell_type": "code",
      "source": [
        "train['물품_카테고리'].value_counts()"
      ],
      "metadata": {
        "colab": {
          "base_uri": "https://localhost:8080/"
        },
        "id": "nioIt988KJ59",
        "outputId": "888842a4-6211-4b5a-e6d8-f6379bccd596"
      },
      "execution_count": 13,
      "outputs": [
        {
          "output_type": "execute_result",
          "data": {
            "text/plain": [
              "농산물              20321\n",
              "문화컨텐츠             1091\n",
              "음료                1034\n",
              "수산                 860\n",
              "가공식품               846\n",
              "                 ...  \n",
              "태블릿PC/노트북액세서리        4\n",
              "기타출산/육아              4\n",
              "선케어                  4\n",
              "유아가구                 4\n",
              "스포츠잡화                4\n",
              "Name: 물품_카테고리, Length: 100, dtype: int64"
            ]
          },
          "metadata": {},
          "execution_count": 13
        }
      ]
    },
    {
      "cell_type": "code",
      "source": [
        "train['물품_카테고리']=train['물품_카테고리'].astype('category')"
      ],
      "metadata": {
        "id": "_1fRQdUdM9T2"
      },
      "execution_count": 10,
      "outputs": []
    },
    {
      "cell_type": "code",
      "source": [
        "train.info()"
      ],
      "metadata": {
        "colab": {
          "base_uri": "https://localhost:8080/"
        },
        "id": "-TROqP8DM5q7",
        "outputId": "99eb69ce-1f27-494a-df37-e28d38593413"
      },
      "execution_count": 11,
      "outputs": [
        {
          "output_type": "stream",
          "name": "stdout",
          "text": [
            "<class 'pandas.core.frame.DataFrame'>\n",
            "Int64Index: 31684 entries, 0 to 31683\n",
            "Data columns (total 22 columns):\n",
            " #   Column               Non-Null Count  Dtype   \n",
            "---  ------               --------------  -----   \n",
            " 0   물품_카테고리              31684 non-null  category\n",
            " 1   운송장_건수               31684 non-null  int64   \n",
            " 2   REC_SPG_INNB_1       31684 non-null  category\n",
            " 3   REC_SPG_INNB_2       31684 non-null  category\n",
            " 4   REC_SPG_INNB_3       31684 non-null  category\n",
            " 5   REC_SPG_INNB_4       31684 non-null  category\n",
            " 6   REC_SPG_INNB_5       31684 non-null  category\n",
            " 7   REC_SPG_INNB_6       31684 non-null  category\n",
            " 8   REC_SPG_INNB_7       31684 non-null  category\n",
            " 9   REC_SPG_INNB_8       31684 non-null  category\n",
            " 10  REC_SPG_INNB_9       31684 non-null  category\n",
            " 11  SEND_SPG_INNB_10     31684 non-null  category\n",
            " 12  REC_SPG_INNB_10      31684 non-null  category\n",
            " 13  REC_SPG_INNB_11      31684 non-null  category\n",
            " 14  REC_SPG_INNB_12      31684 non-null  category\n",
            " 15  REC_SPG_INNB_13      31684 non-null  category\n",
            " 16  REC_SPG_INNB_14      31684 non-null  category\n",
            " 17  REC_SPG_INNB_15      31684 non-null  category\n",
            " 18  REC_SPG_INNB_16      31684 non-null  category\n",
            " 19  SEND_SPG_INNB_1~5    31684 non-null  category\n",
            " 20  SEND_SPG_INNB_6~9    31684 non-null  category\n",
            " 21  SEND_SPG_INNB_11~16  31684 non-null  category\n",
            "dtypes: category(21), int64(1)\n",
            "memory usage: 1.1 MB\n"
          ]
        }
      ]
    },
    {
      "cell_type": "code",
      "source": [
        "X_train=train.drop('운송장_건수',axis=1)\n",
        "y_train=train['운송장_건수']\n",
        "X_test=test"
      ],
      "metadata": {
        "id": "9qxpGYfKKNLw"
      },
      "execution_count": 12,
      "outputs": []
    },
    {
      "cell_type": "code",
      "source": [
        "cat_param={'learning_rate': 0.018272261776066247, \n",
        "           'bagging_temperature': 63.512210106407046, \n",
        "           'n_estimators': 3794, \n",
        "           'max_depth': 11, \n",
        "           'random_strength': 15, \n",
        "           'colsample_bylevel': 0.49359671220172163, \n",
        "           'l2_leaf_reg': 1.7519275289243016e-06, \n",
        "           'min_child_samples': 88, \n",
        "           'max_bin': 380, \n",
        "           'od_type': 'IncToDec'\n",
        "           }"
      ],
      "metadata": {
        "id": "EEZv1Oh6VJxs"
      },
      "execution_count": 16,
      "outputs": []
    },
    {
      "cell_type": "code",
      "source": [
        "pip install catboost"
      ],
      "metadata": {
        "colab": {
          "base_uri": "https://localhost:8080/"
        },
        "id": "reJ4ccpAHYbv",
        "outputId": "b7c3666c-49f8-425c-97cf-fcacae8064d5"
      },
      "execution_count": 24,
      "outputs": [
        {
          "output_type": "stream",
          "name": "stdout",
          "text": [
            "Collecting catboost\n",
            "  Downloading catboost-1.0.4-cp37-none-manylinux1_x86_64.whl (76.1 MB)\n",
            "\u001b[K     |████████████████████████████████| 76.1 MB 48 kB/s \n",
            "\u001b[?25hRequirement already satisfied: plotly in /usr/local/lib/python3.7/dist-packages (from catboost) (5.5.0)\n",
            "Requirement already satisfied: numpy>=1.16.0 in /usr/local/lib/python3.7/dist-packages (from catboost) (1.19.5)\n",
            "Requirement already satisfied: scipy in /usr/local/lib/python3.7/dist-packages (from catboost) (1.5.4)\n",
            "Requirement already satisfied: matplotlib in /usr/local/lib/python3.7/dist-packages (from catboost) (3.2.2)\n",
            "Requirement already satisfied: graphviz in /usr/local/lib/python3.7/dist-packages (from catboost) (0.10.1)\n",
            "Requirement already satisfied: pandas>=0.24.0 in /usr/local/lib/python3.7/dist-packages (from catboost) (1.3.5)\n",
            "Requirement already satisfied: six in /usr/local/lib/python3.7/dist-packages (from catboost) (1.15.0)\n",
            "Requirement already satisfied: python-dateutil>=2.7.3 in /usr/local/lib/python3.7/dist-packages (from pandas>=0.24.0->catboost) (2.8.2)\n",
            "Requirement already satisfied: pytz>=2017.3 in /usr/local/lib/python3.7/dist-packages (from pandas>=0.24.0->catboost) (2018.9)\n",
            "Requirement already satisfied: cycler>=0.10 in /usr/local/lib/python3.7/dist-packages (from matplotlib->catboost) (0.11.0)\n",
            "Requirement already satisfied: pyparsing!=2.0.4,!=2.1.2,!=2.1.6,>=2.0.1 in /usr/local/lib/python3.7/dist-packages (from matplotlib->catboost) (3.0.7)\n",
            "Requirement already satisfied: kiwisolver>=1.0.1 in /usr/local/lib/python3.7/dist-packages (from matplotlib->catboost) (1.3.2)\n",
            "Requirement already satisfied: tenacity>=6.2.0 in /usr/local/lib/python3.7/dist-packages (from plotly->catboost) (8.0.1)\n",
            "Installing collected packages: catboost\n",
            "Successfully installed catboost-1.0.4\n"
          ]
        }
      ]
    },
    {
      "cell_type": "code",
      "source": [
        "from tqdm import tqdm\n",
        "from sklearn.model_selection import StratifiedKFold,train_test_split\n",
        "from sklearn.metrics import mean_squared_error\n",
        "\n",
        "import random\n",
        "from catboost import CatBoostRegressor"
      ],
      "metadata": {
        "id": "TPDJ4yMBFx0z"
      },
      "execution_count": 25,
      "outputs": []
    },
    {
      "cell_type": "code",
      "source": [
        "skf = StratifiedKFold(n_splits=10, shuffle=True, random_state=42)\n",
        "folds = []\n",
        "for train_idx, valid_idx in skf.split(train, train['운송장_건수']):\n",
        "  folds.append((train_idx,valid_idx))"
      ],
      "metadata": {
        "id": "o_BPRuuKFtPk"
      },
      "execution_count": 26,
      "outputs": []
    },
    {
      "cell_type": "code",
      "source": [
        "skf = StratifiedKFold(n_splits=10, shuffle=True, random_state=42)\n",
        "folds = []\n",
        "for train_idx, valid_idx in skf.split(train, train['운송장_건수']):\n",
        "  folds.append((train_idx,valid_idx))\n",
        "\n",
        "random.seed(42)\n",
        "cat_models={}\n",
        "\n",
        "cat_features =range(X_test.shape[1])\n",
        "\n",
        "for fold in range(10):\n",
        "  print(f'===================================={fold+1}============================================')\n",
        "  train_idx, valid_idx = folds[fold]\n",
        "  X_train = train.drop(['운송장_건수'],axis=1).iloc[train_idx]\n",
        "  X_valid = train.drop(['운송장_건수'],axis=1).iloc[valid_idx]\n",
        "  y_train = train['운송장_건수'][train_idx].values\n",
        "  y_valid = train['운송장_건수'][valid_idx].values\n",
        "\n",
        "  cat = CatBoostRegressor(**cat_param)\n",
        "  cat.fit(X_train, y_train,\n",
        "          eval_set=[(X_train, y_train), (X_valid,y_valid)],\n",
        "          early_stopping_rounds=35,cat_features=cat_features,\n",
        "          verbose=100)\n",
        "  cat_models[fold] = cat\n",
        "  print(f'================================================================================\\n\\n')"
      ],
      "metadata": {
        "colab": {
          "base_uri": "https://localhost:8080/"
        },
        "id": "7IpGaQRpFvTa",
        "outputId": "3a00b960-5955-4c0d-e9cd-483278f1fcf7"
      },
      "execution_count": 27,
      "outputs": [
        {
          "output_type": "stream",
          "name": "stdout",
          "text": [
            "====================================1============================================\n",
            "0:\tlearn: 6.7477473\ttest: 6.7645931\ttest1: 6.6566720\tbest: 6.6566720 (0)\ttotal: 403ms\tremaining: 25m 30s\n",
            "100:\tlearn: 6.6416440\ttest: 6.6767254\ttest1: 6.5505933\tbest: 6.5505933 (100)\ttotal: 12.9s\tremaining: 7m 53s\n",
            "200:\tlearn: 6.5929003\ttest: 6.6445401\ttest1: 6.5214463\tbest: 6.5214463 (200)\ttotal: 23.5s\tremaining: 7m\n",
            "300:\tlearn: 6.5303157\ttest: 6.6089577\ttest1: 6.4887432\tbest: 6.4887432 (300)\ttotal: 42.9s\tremaining: 8m 18s\n",
            "400:\tlearn: 6.5083367\ttest: 6.5946205\ttest1: 6.4770041\tbest: 6.4769531 (398)\ttotal: 53.3s\tremaining: 7m 30s\n",
            "500:\tlearn: 6.4737775\ttest: 6.5794197\ttest1: 6.4600776\tbest: 6.4600776 (500)\ttotal: 1m 5s\tremaining: 7m 13s\n",
            "600:\tlearn: 6.3849242\ttest: 6.5379705\ttest1: 6.4089630\tbest: 6.4089630 (600)\ttotal: 1m 19s\tremaining: 7m\n",
            "700:\tlearn: 6.0644270\ttest: 6.3824159\ttest1: 6.1876716\tbest: 6.1866786 (695)\ttotal: 1m 37s\tremaining: 7m 12s\n",
            "800:\tlearn: 5.6891302\ttest: 6.2474066\ttest1: 6.0554334\tbest: 6.0548250 (794)\ttotal: 2m 7s\tremaining: 7m 55s\n",
            "900:\tlearn: 5.4180605\ttest: 6.1704010\ttest1: 6.0383897\tbest: 6.0380148 (886)\ttotal: 2m 37s\tremaining: 8m 24s\n",
            "Stopped by overfitting detector  (35 iterations wait)\n",
            "\n",
            "bestTest = 6.03801479\n",
            "bestIteration = 886\n",
            "\n",
            "Shrink model to first 887 iterations.\n",
            "================================================================================\n",
            "\n",
            "\n",
            "====================================2============================================\n",
            "0:\tlearn: 6.6266478\ttest: 6.6267484\ttest1: 7.8033072\tbest: 7.8033072 (0)\ttotal: 347ms\tremaining: 21m 55s\n",
            "100:\tlearn: 6.5358376\ttest: 6.5314483\ttest1: 7.6896591\tbest: 7.6896591 (100)\ttotal: 12.2s\tremaining: 7m 25s\n",
            "200:\tlearn: 6.4527108\ttest: 6.4203720\ttest1: 7.4953473\tbest: 7.4953473 (200)\ttotal: 23.4s\tremaining: 6m 58s\n",
            "300:\tlearn: 6.4016019\ttest: 6.3608981\ttest1: 7.4510158\tbest: 7.4510158 (300)\ttotal: 35s\tremaining: 6m 45s\n",
            "400:\tlearn: 6.3651324\ttest: 6.3263866\ttest1: 7.3950920\tbest: 7.3950920 (400)\ttotal: 46.3s\tremaining: 6m 31s\n",
            "500:\tlearn: 6.3201055\ttest: 6.2855392\ttest1: 7.3408733\tbest: 7.3408642 (499)\ttotal: 58.2s\tremaining: 6m 22s\n",
            "600:\tlearn: 6.2068723\ttest: 6.1877483\ttest1: 7.1923814\tbest: 7.1916439 (595)\ttotal: 1m 12s\tremaining: 6m 22s\n",
            "700:\tlearn: 5.9046682\ttest: 6.0047894\ttest1: 6.9526684\tbest: 6.9526684 (700)\ttotal: 1m 32s\tremaining: 6m 50s\n",
            "800:\tlearn: 5.4928518\ttest: 5.8237990\ttest1: 6.6774744\tbest: 6.6774744 (800)\ttotal: 2m 1s\tremaining: 7m 34s\n",
            "900:\tlearn: 5.2422022\ttest: 5.7510074\ttest1: 6.4960011\tbest: 6.4960011 (900)\ttotal: 2m 31s\tremaining: 8m 6s\n",
            "Stopped by overfitting detector  (35 iterations wait)\n",
            "\n",
            "bestTest = 6.490623676\n",
            "bestIteration = 908\n",
            "\n",
            "Shrink model to first 909 iterations.\n",
            "================================================================================\n",
            "\n",
            "\n",
            "====================================3============================================\n",
            "0:\tlearn: 6.7312111\ttest: 6.7316362\ttest1: 6.9474439\tbest: 6.9474439 (0)\ttotal: 337ms\tremaining: 21m 17s\n",
            "100:\tlearn: 6.6344389\ttest: 6.6462379\ttest1: 6.8889023\tbest: 6.8889023 (100)\ttotal: 13.6s\tremaining: 8m 17s\n",
            "200:\tlearn: 6.5702339\ttest: 6.5812407\ttest1: 6.8656242\tbest: 6.8656242 (200)\ttotal: 26.3s\tremaining: 7m 50s\n",
            "300:\tlearn: 6.5064699\ttest: 6.5241152\ttest1: 6.8564033\tbest: 6.8564033 (300)\ttotal: 36.1s\tremaining: 6m 59s\n",
            "400:\tlearn: 6.4611450\ttest: 6.4762970\ttest1: 6.8477540\tbest: 6.8477540 (400)\ttotal: 48s\tremaining: 6m 46s\n",
            "500:\tlearn: 6.3983611\ttest: 6.4408073\ttest1: 6.8441722\tbest: 6.8441722 (500)\ttotal: 1m\tremaining: 6m 39s\n",
            "600:\tlearn: 6.2984459\ttest: 6.3417776\ttest1: 6.8377688\tbest: 6.8377688 (600)\ttotal: 1m 13s\tremaining: 6m 28s\n",
            "700:\tlearn: 5.8417823\ttest: 6.0660931\ttest1: 6.8206699\tbest: 6.8205777 (696)\ttotal: 1m 34s\tremaining: 6m 57s\n",
            "Stopped by overfitting detector  (35 iterations wait)\n",
            "\n",
            "bestTest = 6.785122284\n",
            "bestIteration = 764\n",
            "\n",
            "Shrink model to first 765 iterations.\n",
            "================================================================================\n",
            "\n",
            "\n",
            "====================================4============================================\n",
            "0:\tlearn: 6.8626115\ttest: 6.8642197\ttest1: 5.6618291\tbest: 5.6618291 (0)\ttotal: 344ms\tremaining: 21m 44s\n",
            "100:\tlearn: 6.7588278\ttest: 6.7586425\ttest1: 5.5887168\tbest: 5.5887101 (99)\ttotal: 14.1s\tremaining: 8m 33s\n",
            "200:\tlearn: 6.7017863\ttest: 6.7025772\ttest1: 5.5669256\tbest: 5.5669256 (200)\ttotal: 27.2s\tremaining: 8m 5s\n",
            "300:\tlearn: 6.6532851\ttest: 6.6452847\ttest1: 5.5512911\tbest: 5.5512856 (295)\ttotal: 37.3s\tremaining: 7m 12s\n",
            "400:\tlearn: 6.6220216\ttest: 6.5987533\ttest1: 5.5459443\tbest: 5.5459443 (399)\ttotal: 47.2s\tremaining: 6m 39s\n",
            "500:\tlearn: 6.5744913\ttest: 6.5422151\ttest1: 5.5424989\tbest: 5.5424989 (500)\ttotal: 57.2s\tremaining: 6m 16s\n",
            "600:\tlearn: 6.5162445\ttest: 6.4959176\ttest1: 5.5373149\tbest: 5.5372872 (598)\ttotal: 1m 8s\tremaining: 6m 1s\n",
            "700:\tlearn: 6.0662365\ttest: 6.2188164\ttest1: 5.5276782\tbest: 5.5244272 (679)\ttotal: 1m 30s\tremaining: 6m 37s\n",
            "Stopped by overfitting detector  (35 iterations wait)\n",
            "\n",
            "bestTest = 5.524427179\n",
            "bestIteration = 679\n",
            "\n",
            "Shrink model to first 680 iterations.\n",
            "================================================================================\n",
            "\n",
            "\n",
            "====================================5============================================\n",
            "0:\tlearn: 6.7394378\ttest: 6.7394378\ttest1: 6.9068752\tbest: 6.9068752 (0)\ttotal: 12.2ms\tremaining: 46.3s\n",
            "100:\tlearn: 6.6376673\ttest: 6.6580385\ttest1: 6.8340912\tbest: 6.8340912 (100)\ttotal: 12.9s\tremaining: 7m 51s\n",
            "200:\tlearn: 6.5828631\ttest: 6.6236219\ttest1: 6.8048324\tbest: 6.8048292 (199)\ttotal: 25.2s\tremaining: 7m 30s\n",
            "300:\tlearn: 6.5446667\ttest: 6.6022727\ttest1: 6.7918150\tbest: 6.7918150 (300)\ttotal: 37.2s\tremaining: 7m 12s\n",
            "400:\tlearn: 6.5042883\ttest: 6.5872244\ttest1: 6.7852938\tbest: 6.7852938 (400)\ttotal: 48.5s\tremaining: 6m 50s\n",
            "500:\tlearn: 6.4713778\ttest: 6.5705788\ttest1: 6.7739785\tbest: 6.7739645 (498)\ttotal: 58.9s\tremaining: 6m 27s\n",
            "600:\tlearn: 6.3885793\ttest: 6.5329185\ttest1: 6.7550443\tbest: 6.7550443 (600)\ttotal: 1m 12s\tremaining: 6m 26s\n",
            "700:\tlearn: 6.1682777\ttest: 6.4632352\ttest1: 6.6814715\tbest: 6.6814715 (700)\ttotal: 1m 34s\tremaining: 6m 55s\n",
            "800:\tlearn: 5.7639428\ttest: 6.3014479\ttest1: 6.4617080\tbest: 6.4610192 (791)\ttotal: 2m 2s\tremaining: 7m 38s\n",
            "900:\tlearn: 5.5081107\ttest: 6.2149304\ttest1: 6.3653531\tbest: 6.3653531 (900)\ttotal: 2m 31s\tremaining: 8m 7s\n",
            "1000:\tlearn: 5.2896215\ttest: 6.1474881\ttest1: 6.2955292\tbest: 6.2955292 (1000)\ttotal: 3m 1s\tremaining: 8m 27s\n",
            "Stopped by overfitting detector  (35 iterations wait)\n",
            "\n",
            "bestTest = 6.287002205\n",
            "bestIteration = 1003\n",
            "\n",
            "Shrink model to first 1004 iterations.\n",
            "================================================================================\n",
            "\n",
            "\n",
            "====================================6============================================\n",
            "0:\tlearn: 6.8107163\ttest: 6.8107163\ttest1: 6.2458966\tbest: 6.2458966 (0)\ttotal: 14.3ms\tremaining: 54.2s\n",
            "100:\tlearn: 6.7137315\ttest: 6.7143772\ttest1: 6.1975787\tbest: 6.1974109 (92)\ttotal: 11.5s\tremaining: 7m\n",
            "200:\tlearn: 6.6273237\ttest: 6.6348269\ttest1: 6.1848353\tbest: 6.1834646 (188)\ttotal: 23.6s\tremaining: 7m 2s\n",
            "300:\tlearn: 6.5750609\ttest: 6.5976572\ttest1: 6.1757338\tbest: 6.1756934 (299)\ttotal: 36s\tremaining: 6m 58s\n",
            "400:\tlearn: 6.5468276\ttest: 6.5567485\ttest1: 6.1665443\tbest: 6.1665285 (397)\ttotal: 44.7s\tremaining: 6m 18s\n",
            "500:\tlearn: 6.4730632\ttest: 6.4982989\ttest1: 6.1595477\tbest: 6.1593701 (498)\ttotal: 57.9s\tremaining: 6m 20s\n",
            "600:\tlearn: 6.3879182\ttest: 6.4428695\ttest1: 6.1536035\tbest: 6.1534364 (596)\ttotal: 1m 9s\tremaining: 6m 6s\n",
            "700:\tlearn: 5.9718204\ttest: 6.1512332\ttest1: 6.1415575\tbest: 6.1415575 (700)\ttotal: 1m 30s\tremaining: 6m 37s\n",
            "Stopped by overfitting detector  (35 iterations wait)\n",
            "\n",
            "bestTest = 6.141162254\n",
            "bestIteration = 705\n",
            "\n",
            "Shrink model to first 706 iterations.\n",
            "================================================================================\n",
            "\n",
            "\n",
            "====================================7============================================\n",
            "0:\tlearn: 6.3773434\ttest: 6.3773434\ttest1: 9.5109287\tbest: 9.5109287 (0)\ttotal: 11.1ms\tremaining: 42.1s\n",
            "100:\tlearn: 6.2972000\ttest: 6.3025902\ttest1: 9.4531395\tbest: 9.4531395 (100)\ttotal: 10.6s\tremaining: 6m 27s\n",
            "200:\tlearn: 6.2451101\ttest: 6.2614331\ttest1: 9.4051221\tbest: 9.4051221 (200)\ttotal: 23.2s\tremaining: 6m 54s\n",
            "300:\tlearn: 6.2158508\ttest: 6.2273647\ttest1: 9.3661152\tbest: 9.3661152 (300)\ttotal: 33.4s\tremaining: 6m 27s\n",
            "400:\tlearn: 6.1881851\ttest: 6.2140417\ttest1: 9.3588088\tbest: 9.3588086 (399)\ttotal: 44s\tremaining: 6m 12s\n",
            "500:\tlearn: 6.1623135\ttest: 6.1900196\ttest1: 9.3481624\tbest: 9.3481624 (500)\ttotal: 54.3s\tremaining: 5m 57s\n",
            "600:\tlearn: 6.0704723\ttest: 6.1174936\ttest1: 9.2881016\tbest: 9.2881016 (600)\ttotal: 1m 9s\tremaining: 6m 8s\n",
            "700:\tlearn: 5.7963856\ttest: 5.9373916\ttest1: 9.0214217\tbest: 9.0214217 (700)\ttotal: 1m 30s\tremaining: 6m 40s\n",
            "800:\tlearn: 5.5307093\ttest: 5.8131074\ttest1: 8.9559195\tbest: 8.9559195 (800)\ttotal: 2m\tremaining: 7m 28s\n",
            "900:\tlearn: 5.2803912\ttest: 5.7094242\ttest1: 8.8500047\tbest: 8.8500047 (900)\ttotal: 2m 29s\tremaining: 8m 1s\n",
            "1000:\tlearn: 5.0759179\ttest: 5.6183000\ttest1: 8.7475751\tbest: 8.7475209 (994)\ttotal: 2m 59s\tremaining: 8m 21s\n",
            "1100:\tlearn: 4.8947964\ttest: 5.5439455\ttest1: 8.7116978\tbest: 8.7115707 (1098)\ttotal: 3m 29s\tremaining: 8m 32s\n",
            "Stopped by overfitting detector  (35 iterations wait)\n",
            "\n",
            "bestTest = 8.696682026\n",
            "bestIteration = 1129\n",
            "\n",
            "Shrink model to first 1130 iterations.\n",
            "================================================================================\n",
            "\n",
            "\n",
            "====================================8============================================\n",
            "0:\tlearn: 6.8939355\ttest: 6.8939355\ttest1: 5.3615038\tbest: 5.3615038 (0)\ttotal: 11.5ms\tremaining: 43.5s\n",
            "100:\tlearn: 6.7995014\ttest: 6.8152151\ttest1: 5.2892161\tbest: 5.2892161 (100)\ttotal: 12.7s\tremaining: 7m 44s\n",
            "200:\tlearn: 6.7243322\ttest: 6.7374095\ttest1: 5.2447073\tbest: 5.2447073 (199)\ttotal: 28.4s\tremaining: 8m 27s\n",
            "300:\tlearn: 6.6047709\ttest: 6.5981762\ttest1: 5.1889333\tbest: 5.1889333 (300)\ttotal: 41.1s\tremaining: 7m 56s\n",
            "400:\tlearn: 6.5423238\ttest: 6.5523705\ttest1: 5.1749698\tbest: 5.1746147 (395)\ttotal: 52.6s\tremaining: 7m 25s\n",
            "500:\tlearn: 6.4963544\ttest: 6.4962158\ttest1: 5.1531808\tbest: 5.1531808 (500)\ttotal: 1m 3s\tremaining: 6m 58s\n",
            "Stopped by overfitting detector  (35 iterations wait)\n",
            "\n",
            "bestTest = 5.152327853\n",
            "bestIteration = 515\n",
            "\n",
            "Shrink model to first 516 iterations.\n",
            "================================================================================\n",
            "\n",
            "\n",
            "====================================9============================================\n",
            "0:\tlearn: 6.8900115\ttest: 6.8900115\ttest1: 5.4067558\tbest: 5.4067558 (0)\ttotal: 12.6ms\tremaining: 47.9s\n",
            "100:\tlearn: 6.7688966\ttest: 6.7596755\ttest1: 5.3442997\tbest: 5.3442997 (100)\ttotal: 10.9s\tremaining: 6m 39s\n",
            "200:\tlearn: 6.7190136\ttest: 6.7098377\ttest1: 5.3253583\tbest: 5.3253583 (199)\ttotal: 21s\tremaining: 6m 16s\n",
            "300:\tlearn: 6.6667190\ttest: 6.6489454\ttest1: 5.3151211\tbest: 5.3151211 (297)\ttotal: 31.1s\tremaining: 6m\n",
            "400:\tlearn: 6.6333958\ttest: 6.6186903\ttest1: 5.3116887\tbest: 5.3109157 (377)\ttotal: 42.4s\tremaining: 5m 58s\n",
            "Stopped by overfitting detector  (35 iterations wait)\n",
            "\n",
            "bestTest = 5.310915665\n",
            "bestIteration = 377\n",
            "\n",
            "Shrink model to first 378 iterations.\n",
            "================================================================================\n",
            "\n",
            "\n",
            "====================================10============================================\n",
            "0:\tlearn: 6.8378136\ttest: 6.8378136\ttest1: 5.9734641\tbest: 5.9734641 (0)\ttotal: 12.2ms\tremaining: 46.3s\n",
            "100:\tlearn: 6.7488034\ttest: 6.7573406\ttest1: 5.8818709\tbest: 5.8818709 (100)\ttotal: 14.1s\tremaining: 8m 34s\n",
            "200:\tlearn: 6.7174590\ttest: 6.7284605\ttest1: 5.8527030\tbest: 5.8527030 (199)\ttotal: 24s\tremaining: 7m 8s\n",
            "300:\tlearn: 6.6774705\ttest: 6.6913520\ttest1: 5.8140971\tbest: 5.8140676 (299)\ttotal: 36.4s\tremaining: 7m 2s\n",
            "400:\tlearn: 6.6482348\ttest: 6.6758262\ttest1: 5.8041604\tbest: 5.8041431 (396)\ttotal: 47.6s\tremaining: 6m 42s\n",
            "500:\tlearn: 6.6250758\ttest: 6.6635040\ttest1: 5.7963553\tbest: 5.7963550 (499)\ttotal: 58.7s\tremaining: 6m 25s\n",
            "600:\tlearn: 6.5458777\ttest: 6.6316138\ttest1: 5.7572815\tbest: 5.7572670 (597)\ttotal: 1m 11s\tremaining: 6m 17s\n",
            "700:\tlearn: 6.1840590\ttest: 6.4110215\ttest1: 5.5624353\tbest: 5.5617490 (697)\ttotal: 1m 30s\tremaining: 6m 41s\n",
            "800:\tlearn: 5.7150576\ttest: 6.2012515\ttest1: 5.4359021\tbest: 5.4353918 (798)\ttotal: 1m 59s\tremaining: 7m 27s\n",
            "900:\tlearn: 5.4152822\ttest: 6.0997922\ttest1: 5.3684323\tbest: 5.3684323 (900)\ttotal: 2m 29s\tremaining: 7m 58s\n",
            "1000:\tlearn: 5.1852944\ttest: 6.0136131\ttest1: 5.3543959\tbest: 5.3535677 (993)\ttotal: 2m 58s\tremaining: 8m 18s\n",
            "Stopped by overfitting detector  (35 iterations wait)\n",
            "\n",
            "bestTest = 5.353567744\n",
            "bestIteration = 993\n",
            "\n",
            "Shrink model to first 994 iterations.\n",
            "================================================================================\n",
            "\n",
            "\n"
          ]
        }
      ]
    },
    {
      "cell_type": "code",
      "source": [
        "sample.loc[:,'운송장_건수']=0\n",
        "for fold in range(10):\n",
        "  sample.loc[:,'운송장_건수'] += cat_models[fold].predict(test)/10"
      ],
      "metadata": {
        "id": "rFVPbexQG21L"
      },
      "execution_count": 29,
      "outputs": []
    },
    {
      "cell_type": "code",
      "source": [
        "sample.loc[sample.운송장_건수>30,'운송장_건수']=sample.loc[sample.운송장_건수>30,'운송장_건수']*4.8\n",
        "sample.to_csv('sample.csv',index = False)"
      ],
      "metadata": {
        "id": "-AIiFa33HsDS"
      },
      "execution_count": 31,
      "outputs": []
    },
    {
      "cell_type": "code",
      "source": [
        ""
      ],
      "metadata": {
        "id": "3fK545ppHsF0"
      },
      "execution_count": null,
      "outputs": []
    },
    {
      "cell_type": "code",
      "source": [
        ""
      ],
      "metadata": {
        "id": "khs3bgcCHsIa"
      },
      "execution_count": null,
      "outputs": []
    }
  ]
}