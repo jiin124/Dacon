{
  "nbformat": 4,
  "nbformat_minor": 0,
  "metadata": {
    "colab": {
      "name": "집값 예측 경진대회.ipynb",
      "provenance": [],
      "collapsed_sections": [],
      "mount_file_id": "1khSX6C-aA54xImDEmD4GJgOCs0TiUMDJ",
      "authorship_tag": "ABX9TyN+kFdaM43ZTxeNqWTscaab",
      "include_colab_link": true
    },
    "kernelspec": {
      "name": "python3",
      "display_name": "Python 3"
    },
    "language_info": {
      "name": "python"
    },
    "widgets": {
      "application/vnd.jupyter.widget-state+json": {
        "5d95699ed283469e9f044c1bf4cb3199": {
          "model_module": "@jupyter-widgets/controls",
          "model_name": "HBoxModel",
          "model_module_version": "1.5.0",
          "state": {
            "_view_name": "HBoxView",
            "_dom_classes": [],
            "_model_name": "HBoxModel",
            "_view_module": "@jupyter-widgets/controls",
            "_model_module_version": "1.5.0",
            "_view_count": null,
            "_view_module_version": "1.5.0",
            "box_style": "",
            "layout": "IPY_MODEL_59f72736f4f14f6ca1ce809f9cea945f",
            "_model_module": "@jupyter-widgets/controls",
            "children": [
              "IPY_MODEL_530ab9f7dd0343899b15b5815266a888",
              "IPY_MODEL_4009c5ca988c49628781d2af5aad5e04",
              "IPY_MODEL_343c42c6feca421baffd3e01d02daa87"
            ]
          }
        },
        "59f72736f4f14f6ca1ce809f9cea945f": {
          "model_module": "@jupyter-widgets/base",
          "model_name": "LayoutModel",
          "model_module_version": "1.2.0",
          "state": {
            "_view_name": "LayoutView",
            "grid_template_rows": null,
            "right": null,
            "justify_content": null,
            "_view_module": "@jupyter-widgets/base",
            "overflow": null,
            "_model_module_version": "1.2.0",
            "_view_count": null,
            "flex_flow": null,
            "width": null,
            "min_width": null,
            "border": null,
            "align_items": null,
            "bottom": null,
            "_model_module": "@jupyter-widgets/base",
            "top": null,
            "grid_column": null,
            "overflow_y": null,
            "overflow_x": null,
            "grid_auto_flow": null,
            "grid_area": null,
            "grid_template_columns": null,
            "flex": null,
            "_model_name": "LayoutModel",
            "justify_items": null,
            "grid_row": null,
            "max_height": null,
            "align_content": null,
            "visibility": null,
            "align_self": null,
            "height": null,
            "min_height": null,
            "padding": null,
            "grid_auto_rows": null,
            "grid_gap": null,
            "max_width": null,
            "order": null,
            "_view_module_version": "1.2.0",
            "grid_template_areas": null,
            "object_position": null,
            "object_fit": null,
            "grid_auto_columns": null,
            "margin": null,
            "display": null,
            "left": null
          }
        },
        "530ab9f7dd0343899b15b5815266a888": {
          "model_module": "@jupyter-widgets/controls",
          "model_name": "HTMLModel",
          "model_module_version": "1.5.0",
          "state": {
            "_view_name": "HTMLView",
            "style": "IPY_MODEL_c9b8690f5e2b4d2e8e0e0f204ccf302b",
            "_dom_classes": [],
            "description": "",
            "_model_name": "HTMLModel",
            "placeholder": "​",
            "_view_module": "@jupyter-widgets/controls",
            "_model_module_version": "1.5.0",
            "value": "100%",
            "_view_count": null,
            "_view_module_version": "1.5.0",
            "description_tooltip": null,
            "_model_module": "@jupyter-widgets/controls",
            "layout": "IPY_MODEL_3ffa629b253c4906b9fd20035d20ad1b"
          }
        },
        "4009c5ca988c49628781d2af5aad5e04": {
          "model_module": "@jupyter-widgets/controls",
          "model_name": "FloatProgressModel",
          "model_module_version": "1.5.0",
          "state": {
            "_view_name": "ProgressView",
            "style": "IPY_MODEL_ab421db28a2445b5bd3d35bbd75db299",
            "_dom_classes": [],
            "description": "",
            "_model_name": "FloatProgressModel",
            "bar_style": "success",
            "max": 3,
            "_view_module": "@jupyter-widgets/controls",
            "_model_module_version": "1.5.0",
            "value": 3,
            "_view_count": null,
            "_view_module_version": "1.5.0",
            "orientation": "horizontal",
            "min": 0,
            "description_tooltip": null,
            "_model_module": "@jupyter-widgets/controls",
            "layout": "IPY_MODEL_5f7daa8841ff46a59ffa2add43f04371"
          }
        },
        "343c42c6feca421baffd3e01d02daa87": {
          "model_module": "@jupyter-widgets/controls",
          "model_name": "HTMLModel",
          "model_module_version": "1.5.0",
          "state": {
            "_view_name": "HTMLView",
            "style": "IPY_MODEL_8043357a93324eb59f3b509be46f4623",
            "_dom_classes": [],
            "description": "",
            "_model_name": "HTMLModel",
            "placeholder": "​",
            "_view_module": "@jupyter-widgets/controls",
            "_model_module_version": "1.5.0",
            "value": " 3/3 [01:01&lt;00:00, 19.35s/it]",
            "_view_count": null,
            "_view_module_version": "1.5.0",
            "description_tooltip": null,
            "_model_module": "@jupyter-widgets/controls",
            "layout": "IPY_MODEL_c526ffd8980e4a20a6fee775fa92f8e3"
          }
        },
        "c9b8690f5e2b4d2e8e0e0f204ccf302b": {
          "model_module": "@jupyter-widgets/controls",
          "model_name": "DescriptionStyleModel",
          "model_module_version": "1.5.0",
          "state": {
            "_view_name": "StyleView",
            "_model_name": "DescriptionStyleModel",
            "description_width": "",
            "_view_module": "@jupyter-widgets/base",
            "_model_module_version": "1.5.0",
            "_view_count": null,
            "_view_module_version": "1.2.0",
            "_model_module": "@jupyter-widgets/controls"
          }
        },
        "3ffa629b253c4906b9fd20035d20ad1b": {
          "model_module": "@jupyter-widgets/base",
          "model_name": "LayoutModel",
          "model_module_version": "1.2.0",
          "state": {
            "_view_name": "LayoutView",
            "grid_template_rows": null,
            "right": null,
            "justify_content": null,
            "_view_module": "@jupyter-widgets/base",
            "overflow": null,
            "_model_module_version": "1.2.0",
            "_view_count": null,
            "flex_flow": null,
            "width": null,
            "min_width": null,
            "border": null,
            "align_items": null,
            "bottom": null,
            "_model_module": "@jupyter-widgets/base",
            "top": null,
            "grid_column": null,
            "overflow_y": null,
            "overflow_x": null,
            "grid_auto_flow": null,
            "grid_area": null,
            "grid_template_columns": null,
            "flex": null,
            "_model_name": "LayoutModel",
            "justify_items": null,
            "grid_row": null,
            "max_height": null,
            "align_content": null,
            "visibility": null,
            "align_self": null,
            "height": null,
            "min_height": null,
            "padding": null,
            "grid_auto_rows": null,
            "grid_gap": null,
            "max_width": null,
            "order": null,
            "_view_module_version": "1.2.0",
            "grid_template_areas": null,
            "object_position": null,
            "object_fit": null,
            "grid_auto_columns": null,
            "margin": null,
            "display": null,
            "left": null
          }
        },
        "ab421db28a2445b5bd3d35bbd75db299": {
          "model_module": "@jupyter-widgets/controls",
          "model_name": "ProgressStyleModel",
          "model_module_version": "1.5.0",
          "state": {
            "_view_name": "StyleView",
            "_model_name": "ProgressStyleModel",
            "description_width": "",
            "_view_module": "@jupyter-widgets/base",
            "_model_module_version": "1.5.0",
            "_view_count": null,
            "_view_module_version": "1.2.0",
            "bar_color": null,
            "_model_module": "@jupyter-widgets/controls"
          }
        },
        "5f7daa8841ff46a59ffa2add43f04371": {
          "model_module": "@jupyter-widgets/base",
          "model_name": "LayoutModel",
          "model_module_version": "1.2.0",
          "state": {
            "_view_name": "LayoutView",
            "grid_template_rows": null,
            "right": null,
            "justify_content": null,
            "_view_module": "@jupyter-widgets/base",
            "overflow": null,
            "_model_module_version": "1.2.0",
            "_view_count": null,
            "flex_flow": null,
            "width": null,
            "min_width": null,
            "border": null,
            "align_items": null,
            "bottom": null,
            "_model_module": "@jupyter-widgets/base",
            "top": null,
            "grid_column": null,
            "overflow_y": null,
            "overflow_x": null,
            "grid_auto_flow": null,
            "grid_area": null,
            "grid_template_columns": null,
            "flex": null,
            "_model_name": "LayoutModel",
            "justify_items": null,
            "grid_row": null,
            "max_height": null,
            "align_content": null,
            "visibility": null,
            "align_self": null,
            "height": null,
            "min_height": null,
            "padding": null,
            "grid_auto_rows": null,
            "grid_gap": null,
            "max_width": null,
            "order": null,
            "_view_module_version": "1.2.0",
            "grid_template_areas": null,
            "object_position": null,
            "object_fit": null,
            "grid_auto_columns": null,
            "margin": null,
            "display": null,
            "left": null
          }
        },
        "8043357a93324eb59f3b509be46f4623": {
          "model_module": "@jupyter-widgets/controls",
          "model_name": "DescriptionStyleModel",
          "model_module_version": "1.5.0",
          "state": {
            "_view_name": "StyleView",
            "_model_name": "DescriptionStyleModel",
            "description_width": "",
            "_view_module": "@jupyter-widgets/base",
            "_model_module_version": "1.5.0",
            "_view_count": null,
            "_view_module_version": "1.2.0",
            "_model_module": "@jupyter-widgets/controls"
          }
        },
        "c526ffd8980e4a20a6fee775fa92f8e3": {
          "model_module": "@jupyter-widgets/base",
          "model_name": "LayoutModel",
          "model_module_version": "1.2.0",
          "state": {
            "_view_name": "LayoutView",
            "grid_template_rows": null,
            "right": null,
            "justify_content": null,
            "_view_module": "@jupyter-widgets/base",
            "overflow": null,
            "_model_module_version": "1.2.0",
            "_view_count": null,
            "flex_flow": null,
            "width": null,
            "min_width": null,
            "border": null,
            "align_items": null,
            "bottom": null,
            "_model_module": "@jupyter-widgets/base",
            "top": null,
            "grid_column": null,
            "overflow_y": null,
            "overflow_x": null,
            "grid_auto_flow": null,
            "grid_area": null,
            "grid_template_columns": null,
            "flex": null,
            "_model_name": "LayoutModel",
            "justify_items": null,
            "grid_row": null,
            "max_height": null,
            "align_content": null,
            "visibility": null,
            "align_self": null,
            "height": null,
            "min_height": null,
            "padding": null,
            "grid_auto_rows": null,
            "grid_gap": null,
            "max_width": null,
            "order": null,
            "_view_module_version": "1.2.0",
            "grid_template_areas": null,
            "object_position": null,
            "object_fit": null,
            "grid_auto_columns": null,
            "margin": null,
            "display": null,
            "left": null
          }
        }
      }
    }
  },
  "cells": [
    {
      "cell_type": "markdown",
      "metadata": {
        "id": "view-in-github",
        "colab_type": "text"
      },
      "source": [
        "<a href=\"https://colab.research.google.com/github/jiin124/Dacon/blob/main/%EC%A7%91%EA%B0%92%20%EC%98%88%EC%B8%A1%20%EA%B2%BD%EC%A7%84%EB%8C%80%ED%9A%8C/%EC%A7%91%EA%B0%92_%EC%98%88%EC%B8%A1_%EA%B2%BD%EC%A7%84%EB%8C%80%ED%9A%8C.ipynb\" target=\"_parent\"><img src=\"https://colab.research.google.com/assets/colab-badge.svg\" alt=\"Open In Colab\"/></a>"
      ]
    },
    {
      "cell_type": "code",
      "execution_count": 53,
      "metadata": {
        "id": "gVlzjkTtQA-4"
      },
      "outputs": [],
      "source": [
        "import pandas as pd\n",
        "import numpy as np\n",
        "import matplotlib.pyplot as plt\n",
        "import seaborn as sns\n",
        "import warnings\n",
        "plt.style.use('ggplot')\n",
        "warnings.filterwarnings('ignore')"
      ]
    },
    {
      "cell_type": "markdown",
      "source": [
        "1. train.csv : 학습 데이터\n",
        "- id : 데이터 고유 id\n",
        "- OverallQual : 전반적 재료와 마감 품질\n",
        "- YearBuilt : 완공 연도\n",
        "- YearRemodAdd : 리모델링 연도\n",
        "- ExterQual : 외관 재료 품질\n",
        "- BsmtQual : 지하실 높이\n",
        "- TotalBsmtSF : 지하실 면적 \n",
        "- 1stFlrSF : 1층 면적 \n",
        "- GrLivArea : 지상층 생활 면적\n",
        "- FullBath : 지상층 화장실 개수 \n",
        "- KitchenQual : 부억 품질 \n",
        "- GarageYrBlt : 차고 완공 연도\n",
        "- GarageCars: 차고 자리 개수\n",
        "- GarageArea: 차고 면적 \n",
        "- target : 집값(달러 단위)\n",
        "\n",
        "\n",
        "2.test.csv\n",
        "- id : 데이터 고유 id\n",
        "- OverallQual : 전반적 재료와 마감 품질\n",
        "- YearBuilt : 완공 연도\n",
        "- YearRemodAdd : 리모델링 연도\n",
        "- ExterQual : 외관 재료 품질\n",
        "- BsmtQual : 지하실 높이\n",
        "- TotalBsmtSF : 지하실 면적 \n",
        "- 1stFlrSF : 1층 면적 \n",
        "- GrLivArea : 지상층 생활 면적\n",
        "- FullBath : 지상층 화장실 개수 \n",
        "- KitchenQual : 부억 품질 \n",
        "- GarageYrBlt : 차고 완공 연도\n",
        "- GarageCars: 차고 자리 개수\n",
        "- GarageArea: 차고 면적 \n",
        "\n",
        "\n",
        "3.sample_submission.csv \n",
        "- id : 데이터 고유 id\n",
        "- target : 집값(달러 단위)"
      ],
      "metadata": {
        "id": "ooUhU0_GTbtR"
      }
    },
    {
      "cell_type": "code",
      "source": [
        "train=pd.read_csv(\"/content/drive/MyDrive/housing/train.csv\")\n",
        "test=pd.read_csv(\"/content/drive/MyDrive/housing/test.csv\")\n",
        "sample=pd.read_csv('/content/drive/MyDrive/housing/sample_submission.csv')"
      ],
      "metadata": {
        "id": "FniTVL-gRIFS"
      },
      "execution_count": 54,
      "outputs": []
    },
    {
      "cell_type": "code",
      "source": [
        "train.head()"
      ],
      "metadata": {
        "colab": {
          "base_uri": "https://localhost:8080/",
          "height": 305
        },
        "id": "BV2LwKbMSmrt",
        "outputId": "ea75d03b-6cb0-4159-9ab0-0fdd3bd3c98a"
      },
      "execution_count": 55,
      "outputs": [
        {
          "output_type": "execute_result",
          "data": {
            "text/html": [
              "\n",
              "  <div id=\"df-1b68c99d-f46f-408a-8a0e-3a9276659d7e\">\n",
              "    <div class=\"colab-df-container\">\n",
              "      <div>\n",
              "<style scoped>\n",
              "    .dataframe tbody tr th:only-of-type {\n",
              "        vertical-align: middle;\n",
              "    }\n",
              "\n",
              "    .dataframe tbody tr th {\n",
              "        vertical-align: top;\n",
              "    }\n",
              "\n",
              "    .dataframe thead th {\n",
              "        text-align: right;\n",
              "    }\n",
              "</style>\n",
              "<table border=\"1\" class=\"dataframe\">\n",
              "  <thead>\n",
              "    <tr style=\"text-align: right;\">\n",
              "      <th></th>\n",
              "      <th>id</th>\n",
              "      <th>Overall Qual</th>\n",
              "      <th>Gr Liv Area</th>\n",
              "      <th>Exter Qual</th>\n",
              "      <th>Garage Cars</th>\n",
              "      <th>Garage Area</th>\n",
              "      <th>Kitchen Qual</th>\n",
              "      <th>Total Bsmt SF</th>\n",
              "      <th>1st Flr SF</th>\n",
              "      <th>Bsmt Qual</th>\n",
              "      <th>Full Bath</th>\n",
              "      <th>Year Built</th>\n",
              "      <th>Year Remod/Add</th>\n",
              "      <th>Garage Yr Blt</th>\n",
              "      <th>target</th>\n",
              "    </tr>\n",
              "  </thead>\n",
              "  <tbody>\n",
              "    <tr>\n",
              "      <th>0</th>\n",
              "      <td>1</td>\n",
              "      <td>10</td>\n",
              "      <td>2392</td>\n",
              "      <td>Ex</td>\n",
              "      <td>3</td>\n",
              "      <td>968</td>\n",
              "      <td>Ex</td>\n",
              "      <td>2392</td>\n",
              "      <td>2392</td>\n",
              "      <td>Ex</td>\n",
              "      <td>2</td>\n",
              "      <td>2003</td>\n",
              "      <td>2003</td>\n",
              "      <td>2003</td>\n",
              "      <td>386250</td>\n",
              "    </tr>\n",
              "    <tr>\n",
              "      <th>1</th>\n",
              "      <td>2</td>\n",
              "      <td>7</td>\n",
              "      <td>1352</td>\n",
              "      <td>Gd</td>\n",
              "      <td>2</td>\n",
              "      <td>466</td>\n",
              "      <td>Gd</td>\n",
              "      <td>1352</td>\n",
              "      <td>1352</td>\n",
              "      <td>Ex</td>\n",
              "      <td>2</td>\n",
              "      <td>2006</td>\n",
              "      <td>2007</td>\n",
              "      <td>2006</td>\n",
              "      <td>194000</td>\n",
              "    </tr>\n",
              "    <tr>\n",
              "      <th>2</th>\n",
              "      <td>3</td>\n",
              "      <td>5</td>\n",
              "      <td>900</td>\n",
              "      <td>TA</td>\n",
              "      <td>1</td>\n",
              "      <td>288</td>\n",
              "      <td>TA</td>\n",
              "      <td>864</td>\n",
              "      <td>900</td>\n",
              "      <td>TA</td>\n",
              "      <td>1</td>\n",
              "      <td>1967</td>\n",
              "      <td>1967</td>\n",
              "      <td>1967</td>\n",
              "      <td>123000</td>\n",
              "    </tr>\n",
              "    <tr>\n",
              "      <th>3</th>\n",
              "      <td>4</td>\n",
              "      <td>5</td>\n",
              "      <td>1174</td>\n",
              "      <td>TA</td>\n",
              "      <td>2</td>\n",
              "      <td>576</td>\n",
              "      <td>Gd</td>\n",
              "      <td>680</td>\n",
              "      <td>680</td>\n",
              "      <td>TA</td>\n",
              "      <td>1</td>\n",
              "      <td>1900</td>\n",
              "      <td>2006</td>\n",
              "      <td>2000</td>\n",
              "      <td>135000</td>\n",
              "    </tr>\n",
              "    <tr>\n",
              "      <th>4</th>\n",
              "      <td>5</td>\n",
              "      <td>7</td>\n",
              "      <td>1958</td>\n",
              "      <td>Gd</td>\n",
              "      <td>3</td>\n",
              "      <td>936</td>\n",
              "      <td>Gd</td>\n",
              "      <td>1026</td>\n",
              "      <td>1026</td>\n",
              "      <td>Gd</td>\n",
              "      <td>2</td>\n",
              "      <td>2005</td>\n",
              "      <td>2005</td>\n",
              "      <td>2005</td>\n",
              "      <td>250000</td>\n",
              "    </tr>\n",
              "  </tbody>\n",
              "</table>\n",
              "</div>\n",
              "      <button class=\"colab-df-convert\" onclick=\"convertToInteractive('df-1b68c99d-f46f-408a-8a0e-3a9276659d7e')\"\n",
              "              title=\"Convert this dataframe to an interactive table.\"\n",
              "              style=\"display:none;\">\n",
              "        \n",
              "  <svg xmlns=\"http://www.w3.org/2000/svg\" height=\"24px\"viewBox=\"0 0 24 24\"\n",
              "       width=\"24px\">\n",
              "    <path d=\"M0 0h24v24H0V0z\" fill=\"none\"/>\n",
              "    <path d=\"M18.56 5.44l.94 2.06.94-2.06 2.06-.94-2.06-.94-.94-2.06-.94 2.06-2.06.94zm-11 1L8.5 8.5l.94-2.06 2.06-.94-2.06-.94L8.5 2.5l-.94 2.06-2.06.94zm10 10l.94 2.06.94-2.06 2.06-.94-2.06-.94-.94-2.06-.94 2.06-2.06.94z\"/><path d=\"M17.41 7.96l-1.37-1.37c-.4-.4-.92-.59-1.43-.59-.52 0-1.04.2-1.43.59L10.3 9.45l-7.72 7.72c-.78.78-.78 2.05 0 2.83L4 21.41c.39.39.9.59 1.41.59.51 0 1.02-.2 1.41-.59l7.78-7.78 2.81-2.81c.8-.78.8-2.07 0-2.86zM5.41 20L4 18.59l7.72-7.72 1.47 1.35L5.41 20z\"/>\n",
              "  </svg>\n",
              "      </button>\n",
              "      \n",
              "  <style>\n",
              "    .colab-df-container {\n",
              "      display:flex;\n",
              "      flex-wrap:wrap;\n",
              "      gap: 12px;\n",
              "    }\n",
              "\n",
              "    .colab-df-convert {\n",
              "      background-color: #E8F0FE;\n",
              "      border: none;\n",
              "      border-radius: 50%;\n",
              "      cursor: pointer;\n",
              "      display: none;\n",
              "      fill: #1967D2;\n",
              "      height: 32px;\n",
              "      padding: 0 0 0 0;\n",
              "      width: 32px;\n",
              "    }\n",
              "\n",
              "    .colab-df-convert:hover {\n",
              "      background-color: #E2EBFA;\n",
              "      box-shadow: 0px 1px 2px rgba(60, 64, 67, 0.3), 0px 1px 3px 1px rgba(60, 64, 67, 0.15);\n",
              "      fill: #174EA6;\n",
              "    }\n",
              "\n",
              "    [theme=dark] .colab-df-convert {\n",
              "      background-color: #3B4455;\n",
              "      fill: #D2E3FC;\n",
              "    }\n",
              "\n",
              "    [theme=dark] .colab-df-convert:hover {\n",
              "      background-color: #434B5C;\n",
              "      box-shadow: 0px 1px 3px 1px rgba(0, 0, 0, 0.15);\n",
              "      filter: drop-shadow(0px 1px 2px rgba(0, 0, 0, 0.3));\n",
              "      fill: #FFFFFF;\n",
              "    }\n",
              "  </style>\n",
              "\n",
              "      <script>\n",
              "        const buttonEl =\n",
              "          document.querySelector('#df-1b68c99d-f46f-408a-8a0e-3a9276659d7e button.colab-df-convert');\n",
              "        buttonEl.style.display =\n",
              "          google.colab.kernel.accessAllowed ? 'block' : 'none';\n",
              "\n",
              "        async function convertToInteractive(key) {\n",
              "          const element = document.querySelector('#df-1b68c99d-f46f-408a-8a0e-3a9276659d7e');\n",
              "          const dataTable =\n",
              "            await google.colab.kernel.invokeFunction('convertToInteractive',\n",
              "                                                     [key], {});\n",
              "          if (!dataTable) return;\n",
              "\n",
              "          const docLinkHtml = 'Like what you see? Visit the ' +\n",
              "            '<a target=\"_blank\" href=https://colab.research.google.com/notebooks/data_table.ipynb>data table notebook</a>'\n",
              "            + ' to learn more about interactive tables.';\n",
              "          element.innerHTML = '';\n",
              "          dataTable['output_type'] = 'display_data';\n",
              "          await google.colab.output.renderOutput(dataTable, element);\n",
              "          const docLink = document.createElement('div');\n",
              "          docLink.innerHTML = docLinkHtml;\n",
              "          element.appendChild(docLink);\n",
              "        }\n",
              "      </script>\n",
              "    </div>\n",
              "  </div>\n",
              "  "
            ],
            "text/plain": [
              "   id  Overall Qual  Gr Liv Area  ... Year Remod/Add  Garage Yr Blt  target\n",
              "0   1            10         2392  ...           2003           2003  386250\n",
              "1   2             7         1352  ...           2007           2006  194000\n",
              "2   3             5          900  ...           1967           1967  123000\n",
              "3   4             5         1174  ...           2006           2000  135000\n",
              "4   5             7         1958  ...           2005           2005  250000\n",
              "\n",
              "[5 rows x 15 columns]"
            ]
          },
          "metadata": {},
          "execution_count": 55
        }
      ]
    },
    {
      "cell_type": "code",
      "source": [
        "test.head()"
      ],
      "metadata": {
        "colab": {
          "base_uri": "https://localhost:8080/",
          "height": 305
        },
        "id": "EP3dJFDWSwsA",
        "outputId": "1ee48c80-f698-4f7f-950a-0885160da117"
      },
      "execution_count": 56,
      "outputs": [
        {
          "output_type": "execute_result",
          "data": {
            "text/html": [
              "\n",
              "  <div id=\"df-a827b38a-d12c-460b-b814-35b867c77a27\">\n",
              "    <div class=\"colab-df-container\">\n",
              "      <div>\n",
              "<style scoped>\n",
              "    .dataframe tbody tr th:only-of-type {\n",
              "        vertical-align: middle;\n",
              "    }\n",
              "\n",
              "    .dataframe tbody tr th {\n",
              "        vertical-align: top;\n",
              "    }\n",
              "\n",
              "    .dataframe thead th {\n",
              "        text-align: right;\n",
              "    }\n",
              "</style>\n",
              "<table border=\"1\" class=\"dataframe\">\n",
              "  <thead>\n",
              "    <tr style=\"text-align: right;\">\n",
              "      <th></th>\n",
              "      <th>id</th>\n",
              "      <th>Overall Qual</th>\n",
              "      <th>Gr Liv Area</th>\n",
              "      <th>Exter Qual</th>\n",
              "      <th>Garage Cars</th>\n",
              "      <th>Garage Area</th>\n",
              "      <th>Kitchen Qual</th>\n",
              "      <th>Total Bsmt SF</th>\n",
              "      <th>1st Flr SF</th>\n",
              "      <th>Bsmt Qual</th>\n",
              "      <th>Full Bath</th>\n",
              "      <th>Year Built</th>\n",
              "      <th>Year Remod/Add</th>\n",
              "      <th>Garage Yr Blt</th>\n",
              "    </tr>\n",
              "  </thead>\n",
              "  <tbody>\n",
              "    <tr>\n",
              "      <th>0</th>\n",
              "      <td>1</td>\n",
              "      <td>9</td>\n",
              "      <td>1800</td>\n",
              "      <td>Gd</td>\n",
              "      <td>2</td>\n",
              "      <td>702</td>\n",
              "      <td>Ex</td>\n",
              "      <td>1800</td>\n",
              "      <td>1800</td>\n",
              "      <td>Ex</td>\n",
              "      <td>2</td>\n",
              "      <td>2007</td>\n",
              "      <td>2007</td>\n",
              "      <td>2007</td>\n",
              "    </tr>\n",
              "    <tr>\n",
              "      <th>1</th>\n",
              "      <td>2</td>\n",
              "      <td>6</td>\n",
              "      <td>1082</td>\n",
              "      <td>TA</td>\n",
              "      <td>1</td>\n",
              "      <td>240</td>\n",
              "      <td>TA</td>\n",
              "      <td>1082</td>\n",
              "      <td>1082</td>\n",
              "      <td>TA</td>\n",
              "      <td>1</td>\n",
              "      <td>1948</td>\n",
              "      <td>1950</td>\n",
              "      <td>1948</td>\n",
              "    </tr>\n",
              "    <tr>\n",
              "      <th>2</th>\n",
              "      <td>3</td>\n",
              "      <td>6</td>\n",
              "      <td>1573</td>\n",
              "      <td>Gd</td>\n",
              "      <td>2</td>\n",
              "      <td>440</td>\n",
              "      <td>Gd</td>\n",
              "      <td>756</td>\n",
              "      <td>769</td>\n",
              "      <td>Gd</td>\n",
              "      <td>2</td>\n",
              "      <td>2000</td>\n",
              "      <td>2000</td>\n",
              "      <td>2000</td>\n",
              "    </tr>\n",
              "    <tr>\n",
              "      <th>3</th>\n",
              "      <td>4</td>\n",
              "      <td>6</td>\n",
              "      <td>2443</td>\n",
              "      <td>Gd</td>\n",
              "      <td>3</td>\n",
              "      <td>744</td>\n",
              "      <td>Gd</td>\n",
              "      <td>1158</td>\n",
              "      <td>1158</td>\n",
              "      <td>Gd</td>\n",
              "      <td>2</td>\n",
              "      <td>2004</td>\n",
              "      <td>2004</td>\n",
              "      <td>2004</td>\n",
              "    </tr>\n",
              "    <tr>\n",
              "      <th>4</th>\n",
              "      <td>5</td>\n",
              "      <td>5</td>\n",
              "      <td>1040</td>\n",
              "      <td>TA</td>\n",
              "      <td>2</td>\n",
              "      <td>686</td>\n",
              "      <td>TA</td>\n",
              "      <td>1040</td>\n",
              "      <td>1040</td>\n",
              "      <td>TA</td>\n",
              "      <td>1</td>\n",
              "      <td>1968</td>\n",
              "      <td>1968</td>\n",
              "      <td>1991</td>\n",
              "    </tr>\n",
              "  </tbody>\n",
              "</table>\n",
              "</div>\n",
              "      <button class=\"colab-df-convert\" onclick=\"convertToInteractive('df-a827b38a-d12c-460b-b814-35b867c77a27')\"\n",
              "              title=\"Convert this dataframe to an interactive table.\"\n",
              "              style=\"display:none;\">\n",
              "        \n",
              "  <svg xmlns=\"http://www.w3.org/2000/svg\" height=\"24px\"viewBox=\"0 0 24 24\"\n",
              "       width=\"24px\">\n",
              "    <path d=\"M0 0h24v24H0V0z\" fill=\"none\"/>\n",
              "    <path d=\"M18.56 5.44l.94 2.06.94-2.06 2.06-.94-2.06-.94-.94-2.06-.94 2.06-2.06.94zm-11 1L8.5 8.5l.94-2.06 2.06-.94-2.06-.94L8.5 2.5l-.94 2.06-2.06.94zm10 10l.94 2.06.94-2.06 2.06-.94-2.06-.94-.94-2.06-.94 2.06-2.06.94z\"/><path d=\"M17.41 7.96l-1.37-1.37c-.4-.4-.92-.59-1.43-.59-.52 0-1.04.2-1.43.59L10.3 9.45l-7.72 7.72c-.78.78-.78 2.05 0 2.83L4 21.41c.39.39.9.59 1.41.59.51 0 1.02-.2 1.41-.59l7.78-7.78 2.81-2.81c.8-.78.8-2.07 0-2.86zM5.41 20L4 18.59l7.72-7.72 1.47 1.35L5.41 20z\"/>\n",
              "  </svg>\n",
              "      </button>\n",
              "      \n",
              "  <style>\n",
              "    .colab-df-container {\n",
              "      display:flex;\n",
              "      flex-wrap:wrap;\n",
              "      gap: 12px;\n",
              "    }\n",
              "\n",
              "    .colab-df-convert {\n",
              "      background-color: #E8F0FE;\n",
              "      border: none;\n",
              "      border-radius: 50%;\n",
              "      cursor: pointer;\n",
              "      display: none;\n",
              "      fill: #1967D2;\n",
              "      height: 32px;\n",
              "      padding: 0 0 0 0;\n",
              "      width: 32px;\n",
              "    }\n",
              "\n",
              "    .colab-df-convert:hover {\n",
              "      background-color: #E2EBFA;\n",
              "      box-shadow: 0px 1px 2px rgba(60, 64, 67, 0.3), 0px 1px 3px 1px rgba(60, 64, 67, 0.15);\n",
              "      fill: #174EA6;\n",
              "    }\n",
              "\n",
              "    [theme=dark] .colab-df-convert {\n",
              "      background-color: #3B4455;\n",
              "      fill: #D2E3FC;\n",
              "    }\n",
              "\n",
              "    [theme=dark] .colab-df-convert:hover {\n",
              "      background-color: #434B5C;\n",
              "      box-shadow: 0px 1px 3px 1px rgba(0, 0, 0, 0.15);\n",
              "      filter: drop-shadow(0px 1px 2px rgba(0, 0, 0, 0.3));\n",
              "      fill: #FFFFFF;\n",
              "    }\n",
              "  </style>\n",
              "\n",
              "      <script>\n",
              "        const buttonEl =\n",
              "          document.querySelector('#df-a827b38a-d12c-460b-b814-35b867c77a27 button.colab-df-convert');\n",
              "        buttonEl.style.display =\n",
              "          google.colab.kernel.accessAllowed ? 'block' : 'none';\n",
              "\n",
              "        async function convertToInteractive(key) {\n",
              "          const element = document.querySelector('#df-a827b38a-d12c-460b-b814-35b867c77a27');\n",
              "          const dataTable =\n",
              "            await google.colab.kernel.invokeFunction('convertToInteractive',\n",
              "                                                     [key], {});\n",
              "          if (!dataTable) return;\n",
              "\n",
              "          const docLinkHtml = 'Like what you see? Visit the ' +\n",
              "            '<a target=\"_blank\" href=https://colab.research.google.com/notebooks/data_table.ipynb>data table notebook</a>'\n",
              "            + ' to learn more about interactive tables.';\n",
              "          element.innerHTML = '';\n",
              "          dataTable['output_type'] = 'display_data';\n",
              "          await google.colab.output.renderOutput(dataTable, element);\n",
              "          const docLink = document.createElement('div');\n",
              "          docLink.innerHTML = docLinkHtml;\n",
              "          element.appendChild(docLink);\n",
              "        }\n",
              "      </script>\n",
              "    </div>\n",
              "  </div>\n",
              "  "
            ],
            "text/plain": [
              "   id  Overall Qual  Gr Liv Area  ... Year Built  Year Remod/Add  Garage Yr Blt\n",
              "0   1             9         1800  ...       2007            2007           2007\n",
              "1   2             6         1082  ...       1948            1950           1948\n",
              "2   3             6         1573  ...       2000            2000           2000\n",
              "3   4             6         2443  ...       2004            2004           2004\n",
              "4   5             5         1040  ...       1968            1968           1991\n",
              "\n",
              "[5 rows x 14 columns]"
            ]
          },
          "metadata": {},
          "execution_count": 56
        }
      ]
    },
    {
      "cell_type": "code",
      "source": [
        "train.info()"
      ],
      "metadata": {
        "colab": {
          "base_uri": "https://localhost:8080/"
        },
        "id": "ec2lNzgnTTQV",
        "outputId": "bfe62d10-8276-4fe1-8110-2bcd9a7c7ff9"
      },
      "execution_count": 57,
      "outputs": [
        {
          "output_type": "stream",
          "name": "stdout",
          "text": [
            "<class 'pandas.core.frame.DataFrame'>\n",
            "RangeIndex: 1350 entries, 0 to 1349\n",
            "Data columns (total 15 columns):\n",
            " #   Column          Non-Null Count  Dtype \n",
            "---  ------          --------------  ----- \n",
            " 0   id              1350 non-null   int64 \n",
            " 1   Overall Qual    1350 non-null   int64 \n",
            " 2   Gr Liv Area     1350 non-null   int64 \n",
            " 3   Exter Qual      1350 non-null   object\n",
            " 4   Garage Cars     1350 non-null   int64 \n",
            " 5   Garage Area     1350 non-null   int64 \n",
            " 6   Kitchen Qual    1350 non-null   object\n",
            " 7   Total Bsmt SF   1350 non-null   int64 \n",
            " 8   1st Flr SF      1350 non-null   int64 \n",
            " 9   Bsmt Qual       1350 non-null   object\n",
            " 10  Full Bath       1350 non-null   int64 \n",
            " 11  Year Built      1350 non-null   int64 \n",
            " 12  Year Remod/Add  1350 non-null   int64 \n",
            " 13  Garage Yr Blt   1350 non-null   int64 \n",
            " 14  target          1350 non-null   int64 \n",
            "dtypes: int64(12), object(3)\n",
            "memory usage: 158.3+ KB\n"
          ]
        }
      ]
    },
    {
      "cell_type": "markdown",
      "source": [
        "## EDA"
      ],
      "metadata": {
        "id": "U0uYBASHUtvZ"
      }
    },
    {
      "cell_type": "code",
      "source": [
        "train.columns"
      ],
      "metadata": {
        "colab": {
          "base_uri": "https://localhost:8080/"
        },
        "id": "GWm1awFTTVuB",
        "outputId": "191495b8-0627-4e3c-d305-096ee2b53b4f"
      },
      "execution_count": 43,
      "outputs": [
        {
          "output_type": "execute_result",
          "data": {
            "text/plain": [
              "Index(['id', 'Overall Qual', 'Gr Liv Area', 'Exter Qual', 'Garage Cars',\n",
              "       'Garage Area', 'Kitchen Qual', 'Total Bsmt SF', '1st Flr SF',\n",
              "       'Bsmt Qual', 'Full Bath', 'Year Built', 'Year Remod/Add',\n",
              "       'Garage Yr Blt', 'target'],\n",
              "      dtype='object')"
            ]
          },
          "metadata": {},
          "execution_count": 43
        }
      ]
    },
    {
      "cell_type": "code",
      "source": [
        "train.select_dtypes('object').columns.tolist()\n"
      ],
      "metadata": {
        "colab": {
          "base_uri": "https://localhost:8080/"
        },
        "id": "MvMS5R0edaa_",
        "outputId": "1a92b4a9-2fed-4744-e6f5-fe6f1992133d"
      },
      "execution_count": 44,
      "outputs": [
        {
          "output_type": "execute_result",
          "data": {
            "text/plain": [
              "['Exter Qual', 'Kitchen Qual', 'Bsmt Qual']"
            ]
          },
          "metadata": {},
          "execution_count": 44
        }
      ]
    },
    {
      "cell_type": "code",
      "source": [
        "sns.histplot(data=train,x='target')"
      ],
      "metadata": {
        "colab": {
          "base_uri": "https://localhost:8080/",
          "height": 300
        },
        "id": "7s1KZbBNVg7J",
        "outputId": "e76277af-92be-4d8b-8564-5f23aea8d8ce"
      },
      "execution_count": 45,
      "outputs": [
        {
          "output_type": "execute_result",
          "data": {
            "text/plain": [
              "<matplotlib.axes._subplots.AxesSubplot at 0x7f0fb9d01d50>"
            ]
          },
          "metadata": {},
          "execution_count": 45
        },
        {
          "output_type": "display_data",
          "data": {
            "image/png": "[encoded data removed]",
            "text/plain": [
              "<Figure size 432x288 with 1 Axes>"
            ]
          },
          "metadata": {}
        }
      ]
    },
    {
      "cell_type": "code",
      "source": [
        "#전반적 재료와 마감 품질\n",
        "sns.countplot(data=train,x='Overall Qual')"
      ],
      "metadata": {
        "colab": {
          "base_uri": "https://localhost:8080/",
          "height": 300
        },
        "id": "7cy_9K6nUxDQ",
        "outputId": "9034dca0-ff24-4bff-921b-f557b5c3ff9d"
      },
      "execution_count": null,
      "outputs": [
        {
          "output_type": "execute_result",
          "data": {
            "text/plain": [
              "<matplotlib.axes._subplots.AxesSubplot at 0x7f4fbfc4a4d0>"
            ]
          },
          "metadata": {},
          "execution_count": 13
        },
        {
          "output_type": "display_data",
          "data": {
            "image/png": "[encoded data removed]",
            "text/plain": [
              "<Figure size 432x288 with 1 Axes>"
            ]
          },
          "metadata": {
            "needs_background": "light"
          }
        }
      ]
    },
    {
      "cell_type": "markdown",
      "source": [
        "5값이 가장 많다. 그리고 1은 없나보다. 2가 가장 작다. "
      ],
      "metadata": {
        "id": "nzYNUnptHCqF"
      }
    },
    {
      "cell_type": "code",
      "source": [
        "#지상층 생활면적은 거의 1000에서 2000사이에 분포\n",
        "sns.distplot(train['Gr Liv Area'])"
      ],
      "metadata": {
        "colab": {
          "base_uri": "https://localhost:8080/",
          "height": 300
        },
        "id": "L-8e9e_0U6ox",
        "outputId": "8b2b1e30-562f-4be0-d4b8-d027b2610b10"
      },
      "execution_count": null,
      "outputs": [
        {
          "output_type": "execute_result",
          "data": {
            "text/plain": [
              "<matplotlib.axes._subplots.AxesSubplot at 0x7f4fbaf82a50>"
            ]
          },
          "metadata": {},
          "execution_count": 18
        },
        {
          "output_type": "display_data",
          "data": {
            "image/png": "[encoded data removed]",
            "text/plain": [
              "<Figure size 432x288 with 1 Axes>"
            ]
          },
          "metadata": {
            "needs_background": "light"
          }
        }
      ]
    },
    {
      "cell_type": "code",
      "source": [
        "#지상층 생활 면적\n",
        "sns.lineplot(data=train,\n",
        "             x='Gr Liv Area',\n",
        "             y='target')"
      ],
      "metadata": {
        "colab": {
          "base_uri": "https://localhost:8080/",
          "height": 300
        },
        "id": "Utc_LFegVd0T",
        "outputId": "350d8e99-b0b4-4ec5-b256-1ebb7ece8b01"
      },
      "execution_count": null,
      "outputs": [
        {
          "output_type": "execute_result",
          "data": {
            "text/plain": [
              "<matplotlib.axes._subplots.AxesSubplot at 0x7f4fbfa72290>"
            ]
          },
          "metadata": {},
          "execution_count": 16
        },
        {
          "output_type": "display_data",
          "data": {
            "image/png": "[encoded data removed]",
            "text/plain": [
              "<Figure size 432x288 with 1 Axes>"
            ]
          },
          "metadata": {
            "needs_background": "light"
          }
        }
      ]
    },
    {
      "cell_type": "markdown",
      "source": [
        "target값하고 어느정도 관련이 있어보인다. "
      ],
      "metadata": {
        "id": "81LJkFhYHPrF"
      }
    },
    {
      "cell_type": "code",
      "source": [
        "#외관 재료 품질\n",
        "sns.countplot(data=train,x='Exter Qual')"
      ],
      "metadata": {
        "colab": {
          "base_uri": "https://localhost:8080/",
          "height": 300
        },
        "id": "Pn_E0kgOYDVO",
        "outputId": "22112a99-82a6-419a-a9c7-bd581c81dbc8"
      },
      "execution_count": null,
      "outputs": [
        {
          "output_type": "execute_result",
          "data": {
            "text/plain": [
              "<matplotlib.axes._subplots.AxesSubplot at 0x7f4fb89fb950>"
            ]
          },
          "metadata": {},
          "execution_count": 31
        },
        {
          "output_type": "display_data",
          "data": {
            "image/png": "[encoded data removed]",
            "text/plain": [
              "<Figure size 432x288 with 1 Axes>"
            ]
          },
          "metadata": {
            "needs_background": "light"
          }
        }
      ]
    },
    {
      "cell_type": "code",
      "source": [
        "#외관재료 품질에 따른 집값 확인\n",
        "sns.lineplot(data=train,\n",
        "             x='Exter Qual',\n",
        "             y='target')\n"
      ],
      "metadata": {
        "colab": {
          "base_uri": "https://localhost:8080/",
          "height": 300
        },
        "id": "Vwd_bh8BWSYy",
        "outputId": "a2d38e98-b156-4601-c4cc-5ace51f2eb97"
      },
      "execution_count": null,
      "outputs": [
        {
          "output_type": "execute_result",
          "data": {
            "text/plain": [
              "<matplotlib.axes._subplots.AxesSubplot at 0x7f4fb8ec9190>"
            ]
          },
          "metadata": {},
          "execution_count": 19
        },
        {
          "output_type": "display_data",
          "data": {
            "image/png": "[encoded data removed]",
            "text/plain": [
              "<Figure size 432x288 with 1 Axes>"
            ]
          },
          "metadata": {
            "needs_background": "light"
          }
        }
      ]
    },
    {
      "cell_type": "markdown",
      "source": [
        "Ex일떄 집값이 가장 비싸고, Fa일때 집값이 안비쌈"
      ],
      "metadata": {
        "id": "vBIgVYqRHilT"
      }
    },
    {
      "cell_type": "code",
      "source": [
        "#차고 자리 개수\n",
        "sns.countplot(data=train,x='Garage Cars')"
      ],
      "metadata": {
        "colab": {
          "base_uri": "https://localhost:8080/",
          "height": 300
        },
        "id": "VxEv1pKnX3Ee",
        "outputId": "a0e50082-0dc6-44c9-da8d-6e1a71eef581"
      },
      "execution_count": null,
      "outputs": [
        {
          "output_type": "execute_result",
          "data": {
            "text/plain": [
              "<matplotlib.axes._subplots.AxesSubplot at 0x7f4fb8cfdb50>"
            ]
          },
          "metadata": {},
          "execution_count": 22
        },
        {
          "output_type": "display_data",
          "data": {
            "image/png": "[encoded data removed]",
            "text/plain": [
              "<Figure size 432x288 with 1 Axes>"
            ]
          },
          "metadata": {
            "needs_background": "light"
          }
        }
      ]
    },
    {
      "cell_type": "code",
      "source": [
        "#차고 면적\n",
        "sns.distplot(train['Garage Area'])"
      ],
      "metadata": {
        "colab": {
          "base_uri": "https://localhost:8080/",
          "height": 301
        },
        "id": "bcUxmm8AYzkx",
        "outputId": "23075f8b-89f6-4e9e-dd3b-c836ae7ac166"
      },
      "execution_count": null,
      "outputs": [
        {
          "output_type": "execute_result",
          "data": {
            "text/plain": [
              "<matplotlib.axes._subplots.AxesSubplot at 0x7f4fb8c84c90>"
            ]
          },
          "metadata": {},
          "execution_count": 25
        },
        {
          "output_type": "display_data",
          "data": {
            "image/png": "[encoded data removed]",
            "text/plain": [
              "<Figure size 432x288 with 1 Axes>"
            ]
          },
          "metadata": {
            "needs_background": "light"
          }
        }
      ]
    },
    {
      "cell_type": "code",
      "source": [
        "sns.lineplot(data=train,\n",
        "             x='Garage Area',\n",
        "             y='target')"
      ],
      "metadata": {
        "colab": {
          "base_uri": "https://localhost:8080/",
          "height": 300
        },
        "id": "cxjDhF2RZYto",
        "outputId": "57da2481-b001-4747-bae3-e6971920b5ab"
      },
      "execution_count": null,
      "outputs": [
        {
          "output_type": "execute_result",
          "data": {
            "text/plain": [
              "<matplotlib.axes._subplots.AxesSubplot at 0x7f4fb8b9d3d0>"
            ]
          },
          "metadata": {},
          "execution_count": 27
        },
        {
          "output_type": "display_data",
          "data": {
            "image/png": "[encoded data removed]",
            "text/plain": [
              "<Figure size 432x288 with 1 Axes>"
            ]
          },
          "metadata": {
            "needs_background": "light"
          }
        }
      ]
    },
    {
      "cell_type": "code",
      "source": [
        "#부억 품질\n",
        "sns.countplot(data=train,x='Kitchen Qual')"
      ],
      "metadata": {
        "colab": {
          "base_uri": "https://localhost:8080/",
          "height": 300
        },
        "id": "COW0GAg5Z9EM",
        "outputId": "3c155e9a-9b75-4882-f471-0fdeb2da6ab0"
      },
      "execution_count": null,
      "outputs": [
        {
          "output_type": "execute_result",
          "data": {
            "text/plain": [
              "<matplotlib.axes._subplots.AxesSubplot at 0x7f4fb8ab0590>"
            ]
          },
          "metadata": {},
          "execution_count": 30
        },
        {
          "output_type": "display_data",
          "data": {
            "image/png": "[encoded data removed]",
            "text/plain": [
              "<Figure size 432x288 with 1 Axes>"
            ]
          },
          "metadata": {
            "needs_background": "light"
          }
        }
      ]
    },
    {
      "cell_type": "code",
      "source": [
        "#지하실 면적\n",
        "sns.distplot(train['Total Bsmt SF'])"
      ],
      "metadata": {
        "colab": {
          "base_uri": "https://localhost:8080/",
          "height": 300
        },
        "id": "RL5zlRhkaGY9",
        "outputId": "ee38db17-9248-4074-8ca9-363bd9dd6fc4"
      },
      "execution_count": null,
      "outputs": [
        {
          "output_type": "execute_result",
          "data": {
            "text/plain": [
              "<matplotlib.axes._subplots.AxesSubplot at 0x7f4fb8854a10>"
            ]
          },
          "metadata": {},
          "execution_count": 35
        },
        {
          "output_type": "display_data",
          "data": {
            "image/png": "[encoded data removed]",
            "text/plain": [
              "<Figure size 432x288 with 1 Axes>"
            ]
          },
          "metadata": {
            "needs_background": "light"
          }
        }
      ]
    },
    {
      "cell_type": "code",
      "source": [
        "#지하실 면적\n",
        "sns.lineplot(data=train,\n",
        "             x='Total Bsmt SF',\n",
        "             y='target')"
      ],
      "metadata": {
        "colab": {
          "base_uri": "https://localhost:8080/",
          "height": 300
        },
        "id": "QV82IPuVajK5",
        "outputId": "b659ab79-f95a-4ecb-bafd-007e7a43aa5f"
      },
      "execution_count": null,
      "outputs": [
        {
          "output_type": "execute_result",
          "data": {
            "text/plain": [
              "<matplotlib.axes._subplots.AxesSubplot at 0x7f4fb87c5450>"
            ]
          },
          "metadata": {},
          "execution_count": 36
        },
        {
          "output_type": "display_data",
          "data": {
            "image/png": "[encoded data removed]",
            "text/plain": [
              "<Figure size 432x288 with 1 Axes>"
            ]
          },
          "metadata": {
            "needs_background": "light"
          }
        }
      ]
    },
    {
      "cell_type": "code",
      "source": [
        "#1층 면적\n",
        "sns.distplot(train['1st Flr SF'])"
      ],
      "metadata": {
        "colab": {
          "base_uri": "https://localhost:8080/",
          "height": 301
        },
        "id": "h_kXOlyLbJq_",
        "outputId": "93f90b07-0e4d-4c37-dbae-c838c2bdf4ca"
      },
      "execution_count": null,
      "outputs": [
        {
          "output_type": "execute_result",
          "data": {
            "text/plain": [
              "<matplotlib.axes._subplots.AxesSubplot at 0x7f4fb8d0f310>"
            ]
          },
          "metadata": {},
          "execution_count": 37
        },
        {
          "output_type": "display_data",
          "data": {
            "image/png": "[encoded data removed]",
            "text/plain": [
              "<Figure size 432x288 with 1 Axes>"
            ]
          },
          "metadata": {
            "needs_background": "light"
          }
        }
      ]
    },
    {
      "cell_type": "code",
      "source": [
        "#지하실 높이\n",
        "sns.countplot(train['Bsmt Qual'])"
      ],
      "metadata": {
        "colab": {
          "base_uri": "https://localhost:8080/",
          "height": 300
        },
        "id": "yf482zwNbSOm",
        "outputId": "4ef64bde-f8a8-4bec-a58c-3770f7378a97"
      },
      "execution_count": null,
      "outputs": [
        {
          "output_type": "execute_result",
          "data": {
            "text/plain": [
              "<matplotlib.axes._subplots.AxesSubplot at 0x7f4fb8960b10>"
            ]
          },
          "metadata": {},
          "execution_count": 39
        },
        {
          "output_type": "display_data",
          "data": {
            "image/png": "[encoded data removed]",
            "text/plain": [
              "<Figure size 432x288 with 1 Axes>"
            ]
          },
          "metadata": {
            "needs_background": "light"
          }
        }
      ]
    },
    {
      "cell_type": "code",
      "source": [
        "#지상층 화장실 개수\n",
        "sns.countplot(train['Full Bath'])"
      ],
      "metadata": {
        "colab": {
          "base_uri": "https://localhost:8080/",
          "height": 300
        },
        "id": "nItSea_8bWnV",
        "outputId": "00597090-5b67-45cd-a544-2942460d6ffb"
      },
      "execution_count": null,
      "outputs": [
        {
          "output_type": "execute_result",
          "data": {
            "text/plain": [
              "<matplotlib.axes._subplots.AxesSubplot at 0x7f4fb855d350>"
            ]
          },
          "metadata": {},
          "execution_count": 43
        },
        {
          "output_type": "display_data",
          "data": {
            "image/png": "[encoded data removed]",
            "text/plain": [
              "<Figure size 432x288 with 1 Axes>"
            ]
          },
          "metadata": {
            "needs_background": "light"
          }
        }
      ]
    },
    {
      "cell_type": "code",
      "source": [
        "#완공연도\n",
        "sns.histplot(train['Year Built'])"
      ],
      "metadata": {
        "colab": {
          "base_uri": "https://localhost:8080/",
          "height": 300
        },
        "id": "Cu-jPWp3bh6C",
        "outputId": "e6e0eaca-08aa-4afb-df5b-be8e55f4fa06"
      },
      "execution_count": null,
      "outputs": [
        {
          "output_type": "execute_result",
          "data": {
            "text/plain": [
              "<matplotlib.axes._subplots.AxesSubplot at 0x7f4fb8213ad0>"
            ]
          },
          "metadata": {},
          "execution_count": 45
        },
        {
          "output_type": "display_data",
          "data": {
            "image/png": "[encoded data removed]",
            "text/plain": [
              "<Figure size 432x288 with 1 Axes>"
            ]
          },
          "metadata": {
            "needs_background": "light"
          }
        }
      ]
    },
    {
      "cell_type": "code",
      "source": [
        "train['Year Built'].value_counts()"
      ],
      "metadata": {
        "colab": {
          "base_uri": "https://localhost:8080/"
        },
        "id": "hLBC-R2cKoer",
        "outputId": "57aeb0be-3b75-49c7-c7a0-a49791558105"
      },
      "execution_count": null,
      "outputs": [
        {
          "output_type": "execute_result",
          "data": {
            "text/plain": [
              "2005    71\n",
              "2006    63\n",
              "2003    48\n",
              "2007    48\n",
              "2004    48\n",
              "        ..\n",
              "1919     1\n",
              "1892     1\n",
              "2010     1\n",
              "1917     1\n",
              "1912     1\n",
              "Name: Year Built, Length: 105, dtype: int64"
            ]
          },
          "metadata": {},
          "execution_count": 8
        }
      ]
    },
    {
      "cell_type": "code",
      "source": [
        "#리모델링 연도\n",
        "sns.histplot(train['Year Remod/Add'])"
      ],
      "metadata": {
        "colab": {
          "base_uri": "https://localhost:8080/",
          "height": 303
        },
        "id": "MH3RgpSQbtLh",
        "outputId": "73d16415-f633-4981-f3e3-ab5554a25a2b"
      },
      "execution_count": null,
      "outputs": [
        {
          "output_type": "execute_result",
          "data": {
            "text/plain": [
              "<matplotlib.axes._subplots.AxesSubplot at 0x7f4fb816d3d0>"
            ]
          },
          "metadata": {},
          "execution_count": 46
        },
        {
          "output_type": "display_data",
          "data": {
            "image/png": "[encoded data removed]",
            "text/plain": [
              "<Figure size 432x288 with 1 Axes>"
            ]
          },
          "metadata": {
            "needs_background": "light"
          }
        }
      ]
    },
    {
      "cell_type": "code",
      "source": [
        "#차고 완공 연도\n",
        "sns.histplot(train['Garage Yr Blt'])"
      ],
      "metadata": {
        "colab": {
          "base_uri": "https://localhost:8080/",
          "height": 300
        },
        "id": "WKsUg61rb0N9",
        "outputId": "29b58029-b750-41d1-9006-360d6d0627b1"
      },
      "execution_count": null,
      "outputs": [
        {
          "output_type": "execute_result",
          "data": {
            "text/plain": [
              "<matplotlib.axes._subplots.AxesSubplot at 0x7f4fb80f44d0>"
            ]
          },
          "metadata": {},
          "execution_count": 47
        },
        {
          "output_type": "display_data",
          "data": {
            "image/png": "[encoded data removed]",
            "text/plain": [
              "<Figure size 432x288 with 1 Axes>"
            ]
          },
          "metadata": {
            "needs_background": "light"
          }
        }
      ]
    },
    {
      "cell_type": "markdown",
      "source": [
        "뭔가 이상치가 있는 것 같다. 싸늘하다"
      ],
      "metadata": {
        "id": "uu_2RUheb_CR"
      }
    },
    {
      "cell_type": "code",
      "source": [
        "train['Garage Yr Blt'].value_counts()"
      ],
      "metadata": {
        "colab": {
          "base_uri": "https://localhost:8080/"
        },
        "id": "ptLrxNfgMSuA",
        "outputId": "41da455c-396c-46cb-dabd-72ff1c629e72"
      },
      "execution_count": null,
      "outputs": [
        {
          "output_type": "execute_result",
          "data": {
            "text/plain": [
              "2005    70\n",
              "2006    53\n",
              "2007    51\n",
              "2004    50\n",
              "2003    49\n",
              "        ..\n",
              "1919     1\n",
              "2010     1\n",
              "1924     1\n",
              "1923     1\n",
              "1929     1\n",
              "Name: Garage Yr Blt, Length: 97, dtype: int64"
            ]
          },
          "metadata": {},
          "execution_count": 13
        }
      ]
    },
    {
      "cell_type": "code",
      "source": [
        "sns.boxplot(train['Garage Yr Blt'])"
      ],
      "metadata": {
        "colab": {
          "base_uri": "https://localhost:8080/",
          "height": 300
        },
        "id": "YiaMq-W2cBXI",
        "outputId": "bdb4c0c7-a508-4d04-b89e-35dc723e4163"
      },
      "execution_count": null,
      "outputs": [
        {
          "output_type": "execute_result",
          "data": {
            "text/plain": [
              "<matplotlib.axes._subplots.AxesSubplot at 0x7f8e74623f10>"
            ]
          },
          "metadata": {},
          "execution_count": 7
        },
        {
          "output_type": "display_data",
          "data": {
            "image/png": "[encoded data removed]",
            "text/plain": [
              "<Figure size 432x288 with 1 Axes>"
            ]
          },
          "metadata": {
            "needs_background": "light"
          }
        }
      ]
    },
    {
      "cell_type": "markdown",
      "source": [
        "제거해버려야지"
      ],
      "metadata": {
        "id": "eXTueXf3cE2K"
      }
    },
    {
      "cell_type": "code",
      "source": [
        "\n",
        "plt.figure(figsize=(10,5))\n",
        "sns.lineplot(data=train,\n",
        "             x='Gr Liv Area',\n",
        "             y='target',\n",
        "             hue='Exter Qual',#외관 재료 품질\n",
        "             legend='full',ci=None)"
      ],
      "metadata": {
        "colab": {
          "base_uri": "https://localhost:8080/",
          "height": 355
        },
        "id": "H-eymqqAb8YE",
        "outputId": "d9262d3f-e737-4120-be09-f0d1ca7ce364"
      },
      "execution_count": null,
      "outputs": [
        {
          "output_type": "execute_result",
          "data": {
            "text/plain": [
              "<matplotlib.axes._subplots.AxesSubplot at 0x7f4fb57a2710>"
            ]
          },
          "metadata": {},
          "execution_count": 56
        },
        {
          "output_type": "display_data",
          "data": {
            "image/png": "[encoded data removed]",
            "text/plain": [
              "<Figure size 720x360 with 1 Axes>"
            ]
          },
          "metadata": {
            "needs_background": "light"
          }
        }
      ]
    },
    {
      "cell_type": "markdown",
      "source": [
        "외관 재료 품질과 지상층 생활면적에 따른 집값 분포를 확인해보았다. 대부분의 외관 재료는 Gd로 만들어졌으며 외관이 EX로 만들어졌을 때 집값이 비싼 것을 볼 수 있었다."
      ],
      "metadata": {
        "id": "B1S58ChngX5L"
      }
    },
    {
      "cell_type": "code",
      "source": [
        "plt.figure(figsize=(10,5))\n",
        "sns.lineplot(data=train,\n",
        "             x='Year Built',\n",
        "             y='target',\n",
        "             legend='full',ci=None)"
      ],
      "metadata": {
        "colab": {
          "base_uri": "https://localhost:8080/",
          "height": 355
        },
        "id": "AJy5FOMHcwLA",
        "outputId": "a6455097-fb77-4777-ad48-4667e08c0952"
      },
      "execution_count": null,
      "outputs": [
        {
          "output_type": "execute_result",
          "data": {
            "text/plain": [
              "<matplotlib.axes._subplots.AxesSubplot at 0x7f4fb3ea6090>"
            ]
          },
          "metadata": {},
          "execution_count": 57
        },
        {
          "output_type": "display_data",
          "data": {
            "image/png": "[encoded data removed]",
            "text/plain": [
              "<Figure size 720x360 with 1 Axes>"
            ]
          },
          "metadata": {
            "needs_background": "light"
          }
        }
      ]
    },
    {
      "cell_type": "markdown",
      "source": [
        "1880년과 1900년 사이에 집값이 엄청 비쌌다가 점점 집값이 비싸지는 추세를 볼 수 있다."
      ],
      "metadata": {
        "id": "Em8WyH_AvSwn"
      }
    },
    {
      "cell_type": "code",
      "source": [
        "plt.figure(figsize=(8,8))\n",
        "sns.heatmap(train.corr(),annot=True)"
      ],
      "metadata": {
        "colab": {
          "base_uri": "https://localhost:8080/",
          "height": 576
        },
        "id": "SnaNEo7TwjhB",
        "outputId": "efb794f2-e8eb-404a-98ad-b27aa2e4e9d6"
      },
      "execution_count": null,
      "outputs": [
        {
          "output_type": "execute_result",
          "data": {
            "text/plain": [
              "<matplotlib.axes._subplots.AxesSubplot at 0x7f8e69d08610>"
            ]
          },
          "metadata": {},
          "execution_count": 32
        },
        {
          "output_type": "display_data",
          "data": {
            "image/png": "[encoded data removed]",
            "text/plain": [
              "<Figure size 576x576 with 2 Axes>"
            ]
          },
          "metadata": {
            "needs_background": "light"
          }
        }
      ]
    },
    {
      "cell_type": "markdown",
      "source": [
        "피처들간의 상관관계가 높은 걸 보니 다중공선성문제가 일어날 수 있음. 다중공선성 문제를 해결하려면..?\n",
        "이상치를 제거해볼까?"
      ],
      "metadata": {
        "id": "2cIA-4ZYTodT"
      }
    },
    {
      "cell_type": "markdown",
      "source": [
        "## 데이터 전처리"
      ],
      "metadata": {
        "id": "Wu0MtZ3pw5FJ"
      }
    },
    {
      "cell_type": "markdown",
      "source": [
        "### 1) 이상치 제거 Garage Yr Blt"
      ],
      "metadata": {
        "id": "HWC4OcgTtLAT"
      }
    },
    {
      "cell_type": "code",
      "source": [
        "#Garage Yr Blt이상치 제거\n",
        "#가장 많은 값인 2005년으로 바꿔주었다.\n",
        "train.loc[train['Garage Yr Blt']==2207,'Garage Yr Blt']=2007"
      ],
      "metadata": {
        "id": "lj3rSkCAwoO5"
      },
      "execution_count": 58,
      "outputs": []
    },
    {
      "cell_type": "code",
      "source": [
        "train['Garage Yr Blt'].max()"
      ],
      "metadata": {
        "colab": {
          "base_uri": "https://localhost:8080/"
        },
        "id": "ICNyoNuAKzXE",
        "outputId": "19049e8e-d000-4e94-c2d2-b4c901207383"
      },
      "execution_count": 59,
      "outputs": [
        {
          "output_type": "execute_result",
          "data": {
            "text/plain": [
              "2010"
            ]
          },
          "metadata": {},
          "execution_count": 59
        }
      ]
    },
    {
      "cell_type": "code",
      "source": [
        "train.info()"
      ],
      "metadata": {
        "colab": {
          "base_uri": "https://localhost:8080/"
        },
        "id": "QEvCb9xtOBpL",
        "outputId": "3e17ea00-1af0-4a51-c77c-201976e905ff"
      },
      "execution_count": 60,
      "outputs": [
        {
          "output_type": "stream",
          "name": "stdout",
          "text": [
            "<class 'pandas.core.frame.DataFrame'>\n",
            "RangeIndex: 1350 entries, 0 to 1349\n",
            "Data columns (total 15 columns):\n",
            " #   Column          Non-Null Count  Dtype \n",
            "---  ------          --------------  ----- \n",
            " 0   id              1350 non-null   int64 \n",
            " 1   Overall Qual    1350 non-null   int64 \n",
            " 2   Gr Liv Area     1350 non-null   int64 \n",
            " 3   Exter Qual      1350 non-null   object\n",
            " 4   Garage Cars     1350 non-null   int64 \n",
            " 5   Garage Area     1350 non-null   int64 \n",
            " 6   Kitchen Qual    1350 non-null   object\n",
            " 7   Total Bsmt SF   1350 non-null   int64 \n",
            " 8   1st Flr SF      1350 non-null   int64 \n",
            " 9   Bsmt Qual       1350 non-null   object\n",
            " 10  Full Bath       1350 non-null   int64 \n",
            " 11  Year Built      1350 non-null   int64 \n",
            " 12  Year Remod/Add  1350 non-null   int64 \n",
            " 13  Garage Yr Blt   1350 non-null   int64 \n",
            " 14  target          1350 non-null   int64 \n",
            "dtypes: int64(12), object(3)\n",
            "memory usage: 158.3+ KB\n"
          ]
        }
      ]
    },
    {
      "cell_type": "code",
      "source": [
        "sns.boxplot(data=test,x='Garage Yr Blt')"
      ],
      "metadata": {
        "colab": {
          "base_uri": "https://localhost:8080/",
          "height": 300
        },
        "id": "MCQPMCqMOgZH",
        "outputId": "9f6c523f-397c-4be8-ff12-bc4770465301"
      },
      "execution_count": 61,
      "outputs": [
        {
          "output_type": "execute_result",
          "data": {
            "text/plain": [
              "<matplotlib.axes._subplots.AxesSubplot at 0x7f0fb93abed0>"
            ]
          },
          "metadata": {},
          "execution_count": 61
        },
        {
          "output_type": "display_data",
          "data": {
            "image/png": "[encoded data removed]",
            "text/plain": [
              "<Figure size 432x288 with 1 Axes>"
            ]
          },
          "metadata": {}
        }
      ]
    },
    {
      "cell_type": "code",
      "source": [
        "test.loc[test['Garage Yr Blt']<1900]"
      ],
      "metadata": {
        "colab": {
          "base_uri": "https://localhost:8080/",
          "height": 210
        },
        "id": "JXC8icqIPO-H",
        "outputId": "af1086a9-637e-4fac-d20e-21458e9cba8d"
      },
      "execution_count": 138,
      "outputs": [
        {
          "output_type": "execute_result",
          "data": {
            "text/html": [
              "\n",
              "  <div id=\"df-f683312f-8304-4c65-b7c0-24457511d4b1\">\n",
              "    <div class=\"colab-df-container\">\n",
              "      <div>\n",
              "<style scoped>\n",
              "    .dataframe tbody tr th:only-of-type {\n",
              "        vertical-align: middle;\n",
              "    }\n",
              "\n",
              "    .dataframe tbody tr th {\n",
              "        vertical-align: top;\n",
              "    }\n",
              "\n",
              "    .dataframe thead th {\n",
              "        text-align: right;\n",
              "    }\n",
              "</style>\n",
              "<table border=\"1\" class=\"dataframe\">\n",
              "  <thead>\n",
              "    <tr style=\"text-align: right;\">\n",
              "      <th></th>\n",
              "      <th>id</th>\n",
              "      <th>Overall Qual</th>\n",
              "      <th>Gr Liv Area</th>\n",
              "      <th>Exter Qual</th>\n",
              "      <th>Garage Cars</th>\n",
              "      <th>Garage Area</th>\n",
              "      <th>Kitchen Qual</th>\n",
              "      <th>Total Bsmt SF</th>\n",
              "      <th>1st Flr SF</th>\n",
              "      <th>Bsmt Qual</th>\n",
              "      <th>Full Bath</th>\n",
              "      <th>Year Built</th>\n",
              "      <th>Year Remod/Add</th>\n",
              "      <th>Garage Yr Blt</th>\n",
              "    </tr>\n",
              "  </thead>\n",
              "  <tbody>\n",
              "    <tr>\n",
              "      <th>1035</th>\n",
              "      <td>1036</td>\n",
              "      <td>4</td>\n",
              "      <td>952</td>\n",
              "      <td>Fa</td>\n",
              "      <td>1</td>\n",
              "      <td>330</td>\n",
              "      <td>TA</td>\n",
              "      <td>756</td>\n",
              "      <td>952</td>\n",
              "      <td>TA</td>\n",
              "      <td>1</td>\n",
              "      <td>1896</td>\n",
              "      <td>1950</td>\n",
              "      <td>1896</td>\n",
              "    </tr>\n",
              "    <tr>\n",
              "      <th>1286</th>\n",
              "      <td>1287</td>\n",
              "      <td>4</td>\n",
              "      <td>1361</td>\n",
              "      <td>TA</td>\n",
              "      <td>1</td>\n",
              "      <td>185</td>\n",
              "      <td>TA</td>\n",
              "      <td>173</td>\n",
              "      <td>825</td>\n",
              "      <td>Po</td>\n",
              "      <td>1</td>\n",
              "      <td>1895</td>\n",
              "      <td>1950</td>\n",
              "      <td>1895</td>\n",
              "    </tr>\n",
              "  </tbody>\n",
              "</table>\n",
              "</div>\n",
              "      <button class=\"colab-df-convert\" onclick=\"convertToInteractive('df-f683312f-8304-4c65-b7c0-24457511d4b1')\"\n",
              "              title=\"Convert this dataframe to an interactive table.\"\n",
              "              style=\"display:none;\">\n",
              "        \n",
              "  <svg xmlns=\"http://www.w3.org/2000/svg\" height=\"24px\"viewBox=\"0 0 24 24\"\n",
              "       width=\"24px\">\n",
              "    <path d=\"M0 0h24v24H0V0z\" fill=\"none\"/>\n",
              "    <path d=\"M18.56 5.44l.94 2.06.94-2.06 2.06-.94-2.06-.94-.94-2.06-.94 2.06-2.06.94zm-11 1L8.5 8.5l.94-2.06 2.06-.94-2.06-.94L8.5 2.5l-.94 2.06-2.06.94zm10 10l.94 2.06.94-2.06 2.06-.94-2.06-.94-.94-2.06-.94 2.06-2.06.94z\"/><path d=\"M17.41 7.96l-1.37-1.37c-.4-.4-.92-.59-1.43-.59-.52 0-1.04.2-1.43.59L10.3 9.45l-7.72 7.72c-.78.78-.78 2.05 0 2.83L4 21.41c.39.39.9.59 1.41.59.51 0 1.02-.2 1.41-.59l7.78-7.78 2.81-2.81c.8-.78.8-2.07 0-2.86zM5.41 20L4 18.59l7.72-7.72 1.47 1.35L5.41 20z\"/>\n",
              "  </svg>\n",
              "      </button>\n",
              "      \n",
              "  <style>\n",
              "    .colab-df-container {\n",
              "      display:flex;\n",
              "      flex-wrap:wrap;\n",
              "      gap: 12px;\n",
              "    }\n",
              "\n",
              "    .colab-df-convert {\n",
              "      background-color: #E8F0FE;\n",
              "      border: none;\n",
              "      border-radius: 50%;\n",
              "      cursor: pointer;\n",
              "      display: none;\n",
              "      fill: #1967D2;\n",
              "      height: 32px;\n",
              "      padding: 0 0 0 0;\n",
              "      width: 32px;\n",
              "    }\n",
              "\n",
              "    .colab-df-convert:hover {\n",
              "      background-color: #E2EBFA;\n",
              "      box-shadow: 0px 1px 2px rgba(60, 64, 67, 0.3), 0px 1px 3px 1px rgba(60, 64, 67, 0.15);\n",
              "      fill: #174EA6;\n",
              "    }\n",
              "\n",
              "    [theme=dark] .colab-df-convert {\n",
              "      background-color: #3B4455;\n",
              "      fill: #D2E3FC;\n",
              "    }\n",
              "\n",
              "    [theme=dark] .colab-df-convert:hover {\n",
              "      background-color: #434B5C;\n",
              "      box-shadow: 0px 1px 3px 1px rgba(0, 0, 0, 0.15);\n",
              "      filter: drop-shadow(0px 1px 2px rgba(0, 0, 0, 0.3));\n",
              "      fill: #FFFFFF;\n",
              "    }\n",
              "  </style>\n",
              "\n",
              "      <script>\n",
              "        const buttonEl =\n",
              "          document.querySelector('#df-f683312f-8304-4c65-b7c0-24457511d4b1 button.colab-df-convert');\n",
              "        buttonEl.style.display =\n",
              "          google.colab.kernel.accessAllowed ? 'block' : 'none';\n",
              "\n",
              "        async function convertToInteractive(key) {\n",
              "          const element = document.querySelector('#df-f683312f-8304-4c65-b7c0-24457511d4b1');\n",
              "          const dataTable =\n",
              "            await google.colab.kernel.invokeFunction('convertToInteractive',\n",
              "                                                     [key], {});\n",
              "          if (!dataTable) return;\n",
              "\n",
              "          const docLinkHtml = 'Like what you see? Visit the ' +\n",
              "            '<a target=\"_blank\" href=https://colab.research.google.com/notebooks/data_table.ipynb>data table notebook</a>'\n",
              "            + ' to learn more about interactive tables.';\n",
              "          element.innerHTML = '';\n",
              "          dataTable['output_type'] = 'display_data';\n",
              "          await google.colab.output.renderOutput(dataTable, element);\n",
              "          const docLink = document.createElement('div');\n",
              "          docLink.innerHTML = docLinkHtml;\n",
              "          element.appendChild(docLink);\n",
              "        }\n",
              "      </script>\n",
              "    </div>\n",
              "  </div>\n",
              "  "
            ],
            "text/plain": [
              "        id  Overall Qual  ...  Year Remod/Add Garage Yr Blt\n",
              "1035  1036             4  ...            1950          1896\n",
              "1286  1287             4  ...            1950          1895\n",
              "\n",
              "[2 rows x 14 columns]"
            ]
          },
          "metadata": {},
          "execution_count": 138
        }
      ]
    },
    {
      "cell_type": "markdown",
      "source": [
        "### 2) object값을 category로 변환\n",
        "\n"
      ],
      "metadata": {
        "id": "hvt3efC3PmMe"
      }
    },
    {
      "cell_type": "code",
      "source": [
        "train.select_dtypes('object').columns.tolist()"
      ],
      "metadata": {
        "colab": {
          "base_uri": "https://localhost:8080/"
        },
        "id": "YZkxGchHPbcP",
        "outputId": "690b72d1-8e72-4568-c9d4-b5cb46f276cf"
      },
      "execution_count": 62,
      "outputs": [
        {
          "output_type": "execute_result",
          "data": {
            "text/plain": [
              "['Exter Qual', 'Kitchen Qual', 'Bsmt Qual']"
            ]
          },
          "metadata": {},
          "execution_count": 62
        }
      ]
    },
    {
      "cell_type": "code",
      "source": [
        "cat=['Exter Qual', 'Kitchen Qual', 'Bsmt Qual']"
      ],
      "metadata": {
        "id": "rddIdkKVRoYu"
      },
      "execution_count": 63,
      "outputs": []
    },
    {
      "cell_type": "code",
      "source": [
        "train.select_dtypes('int').columns.tolist()"
      ],
      "metadata": {
        "colab": {
          "base_uri": "https://localhost:8080/"
        },
        "id": "IwGowme9Qyk5",
        "outputId": "f15bfcfc-2b5a-422e-bbcf-4f484ab87b64"
      },
      "execution_count": 64,
      "outputs": [
        {
          "output_type": "execute_result",
          "data": {
            "text/plain": [
              "['id',\n",
              " 'Overall Qual',\n",
              " 'Gr Liv Area',\n",
              " 'Garage Cars',\n",
              " 'Garage Area',\n",
              " 'Total Bsmt SF',\n",
              " '1st Flr SF',\n",
              " 'Full Bath',\n",
              " 'Year Built',\n",
              " 'Year Remod/Add',\n",
              " 'Garage Yr Blt',\n",
              " 'target']"
            ]
          },
          "metadata": {},
          "execution_count": 64
        }
      ]
    },
    {
      "cell_type": "code",
      "source": [
        "#id는 없앨거니까 삭제\n",
        "num=[\n",
        " 'Overall Qual',\n",
        " 'Gr Liv Area',\n",
        " 'Garage Cars',\n",
        " 'Garage Area',\n",
        " 'Total Bsmt SF',\n",
        " '1st Flr SF',\n",
        " 'Full Bath',\n",
        " 'Year Built',\n",
        " 'Year Remod/Add',\n",
        " 'Garage Yr Blt']"
      ],
      "metadata": {
        "id": "cenRkzO2Rn_-"
      },
      "execution_count": 65,
      "outputs": []
    },
    {
      "cell_type": "code",
      "source": [
        "cat=['Exter Qual', 'Kitchen Qual', 'Bsmt Qual']\n",
        "\n",
        "for col in cat:\n",
        "  train[col]=train[col].astype('category')\n",
        "  test[col]=test[col].astype('category')\n",
        "\n",
        "print(train.info())\n",
        "print(test.info())"
      ],
      "metadata": {
        "colab": {
          "base_uri": "https://localhost:8080/"
        },
        "id": "ASsYPv_VP1Pi",
        "outputId": "631dabc6-c578-482b-dfbf-f578e2807ac3"
      },
      "execution_count": 66,
      "outputs": [
        {
          "output_type": "stream",
          "name": "stdout",
          "text": [
            "<class 'pandas.core.frame.DataFrame'>\n",
            "RangeIndex: 1350 entries, 0 to 1349\n",
            "Data columns (total 15 columns):\n",
            " #   Column          Non-Null Count  Dtype   \n",
            "---  ------          --------------  -----   \n",
            " 0   id              1350 non-null   int64   \n",
            " 1   Overall Qual    1350 non-null   int64   \n",
            " 2   Gr Liv Area     1350 non-null   int64   \n",
            " 3   Exter Qual      1350 non-null   category\n",
            " 4   Garage Cars     1350 non-null   int64   \n",
            " 5   Garage Area     1350 non-null   int64   \n",
            " 6   Kitchen Qual    1350 non-null   category\n",
            " 7   Total Bsmt SF   1350 non-null   int64   \n",
            " 8   1st Flr SF      1350 non-null   int64   \n",
            " 9   Bsmt Qual       1350 non-null   category\n",
            " 10  Full Bath       1350 non-null   int64   \n",
            " 11  Year Built      1350 non-null   int64   \n",
            " 12  Year Remod/Add  1350 non-null   int64   \n",
            " 13  Garage Yr Blt   1350 non-null   int64   \n",
            " 14  target          1350 non-null   int64   \n",
            "dtypes: category(3), int64(12)\n",
            "memory usage: 131.2 KB\n",
            "None\n",
            "<class 'pandas.core.frame.DataFrame'>\n",
            "RangeIndex: 1350 entries, 0 to 1349\n",
            "Data columns (total 14 columns):\n",
            " #   Column          Non-Null Count  Dtype   \n",
            "---  ------          --------------  -----   \n",
            " 0   id              1350 non-null   int64   \n",
            " 1   Overall Qual    1350 non-null   int64   \n",
            " 2   Gr Liv Area     1350 non-null   int64   \n",
            " 3   Exter Qual      1350 non-null   category\n",
            " 4   Garage Cars     1350 non-null   int64   \n",
            " 5   Garage Area     1350 non-null   int64   \n",
            " 6   Kitchen Qual    1350 non-null   category\n",
            " 7   Total Bsmt SF   1350 non-null   int64   \n",
            " 8   1st Flr SF      1350 non-null   int64   \n",
            " 9   Bsmt Qual       1350 non-null   category\n",
            " 10  Full Bath       1350 non-null   int64   \n",
            " 11  Year Built      1350 non-null   int64   \n",
            " 12  Year Remod/Add  1350 non-null   int64   \n",
            " 13  Garage Yr Blt   1350 non-null   int64   \n",
            "dtypes: category(3), int64(11)\n",
            "memory usage: 120.7 KB\n",
            "None\n"
          ]
        }
      ]
    },
    {
      "cell_type": "code",
      "source": [
        "#category형 변수 숫자로 변환\n",
        "\n",
        "mapping={'Ex':5,'Gd':4,'TA':3,'Fa':2,'Po':1}\n",
        "\n",
        "for col in cat:\n",
        "  train[col]=train[col].map(mapping)\n",
        "  test[col]=test[col].map(mapping)\n"
      ],
      "metadata": {
        "id": "KXLLdQP5QUQr"
      },
      "execution_count": 67,
      "outputs": []
    },
    {
      "cell_type": "markdown",
      "source": [
        "### 3) 이상치 제거"
      ],
      "metadata": {
        "id": "Xx_magoTQ2o_"
      }
    },
    {
      "cell_type": "code",
      "source": [
        "def outlier(df=None,column=None,weight=1.5):\n",
        "\n",
        "  #column 데이터만 추출, 1/4분위와 3/4분위 지점을 np.percentile로 구함. \n",
        "  data=df[column]\n",
        "  quantile_25=np.percentile(data.values,25)\n",
        "  quantile_75=np.percentile(data.values,75)\n",
        "\n",
        "  #IQR 구하고 IQR에 1.5를 곲해 최댓값과 최솟값 지점 구하기\n",
        "  iqr=quantile_75-quantile_25\n",
        "  iqr_weight=iqr*weight\n",
        "  lowest_val=quantile_25-iqr_weight#이상치 최소 기준\n",
        "  highest_val=quantile_75+iqr_weight#이상치 최대 기준\n",
        "\n",
        "  #최댓값보다 크거나 최솟값보다 작은 값을 아웃라이어로 설정하고  DataFrame index 반환. \n",
        "  outlier_index=data[(data < lowest_val) | (data > highest_val)].index\n",
        "\n",
        "  return outlier_index"
      ],
      "metadata": {
        "id": "XLyxu4ZlQ4ek"
      },
      "execution_count": 68,
      "outputs": []
    },
    {
      "cell_type": "code",
      "source": [
        "outlier_index={}\n",
        "\n",
        "for i,colName in enumerate(num):\n",
        "  outlier_index[i]=outlier(df=train,column=f'{colName}',weight=1.5)\n",
        "  \n",
        "outlier_index\n"
      ],
      "metadata": {
        "colab": {
          "base_uri": "https://localhost:8080/"
        },
        "id": "ajCVMmORUq5L",
        "outputId": "4fdda912-5c7b-4958-f533-e0ab8e49dcf2"
      },
      "execution_count": 69,
      "outputs": [
        {
          "output_type": "execute_result",
          "data": {
            "text/plain": [
              "{0: Int64Index([], dtype='int64'),\n",
              " 1: Int64Index([  18,   94,  110,  132,  201,  297,  462,  476,  586,  663,  677,\n",
              "              683,  686,  735,  747,  752,  816,  856,  864,  939,  941,  948,\n",
              "              962, 1087, 1098, 1138, 1258, 1264, 1346],\n",
              "            dtype='int64'),\n",
              " 2: Int64Index([93, 297, 398, 503, 718, 735, 812, 939, 1010, 1163, 1173, 1228], dtype='int64'),\n",
              " 3: Int64Index([   0,    4,   42,   90,  118,  242,  282,  297,  327,  377,  380,\n",
              "              503,  511,  660,  664,  721,  732,  839,  859,  934,  973, 1002,\n",
              "             1006, 1010, 1055, 1113, 1163, 1173, 1185, 1194, 1212, 1230, 1241,\n",
              "             1251, 1259, 1298],\n",
              "            dtype='int64'),\n",
              " 4: Int64Index([   0,    7,  163,  263,  273,  327,  380,  628,  732,  745,  856,\n",
              "              871,  942, 1002, 1034, 1101, 1221, 1298, 1311],\n",
              "            dtype='int64'),\n",
              " 5: Int64Index([   0,    7,  163,  263,  665,  732,  745,  811,  856,  871, 1002,\n",
              "             1034, 1098, 1149, 1161, 1191, 1221, 1311],\n",
              "            dtype='int64'),\n",
              " 6: Int64Index([735, 939], dtype='int64'),\n",
              " 7: Int64Index([286, 812, 888, 940], dtype='int64'),\n",
              " 8: Int64Index([], dtype='int64'),\n",
              " 9: Int64Index([], dtype='int64')}"
            ]
          },
          "metadata": {},
          "execution_count": 69
        }
      ]
    },
    {
      "cell_type": "markdown",
      "source": [
        " 0번째와 8번째 즉, Overall Qual, Year Remod/Add 변수는 이상치가 없다."
      ],
      "metadata": {
        "id": "MK5n8Do3iulo"
      }
    },
    {
      "cell_type": "code",
      "source": [
        "#각각의 숫자들 리스트 안에 넣기\n",
        "outlier_list=[]\n",
        "\n",
        "for i in range(len(outlier_index)):\n",
        "  if list(outlier_index[i].values)==[]:\n",
        "    continue\n",
        "  outlier_list.append(list(outlier_index[i].values))\n",
        "print(outlier_list)"
      ],
      "metadata": {
        "colab": {
          "base_uri": "https://localhost:8080/"
        },
        "id": "QZP-Aq4chcRe",
        "outputId": "0f94af79-15f3-47af-b027-2e6e826611c9"
      },
      "execution_count": 70,
      "outputs": [
        {
          "output_type": "stream",
          "name": "stdout",
          "text": [
            "[[18, 94, 110, 132, 201, 297, 462, 476, 586, 663, 677, 683, 686, 735, 747, 752, 816, 856, 864, 939, 941, 948, 962, 1087, 1098, 1138, 1258, 1264, 1346], [93, 297, 398, 503, 718, 735, 812, 939, 1010, 1163, 1173, 1228], [0, 4, 42, 90, 118, 242, 282, 297, 327, 377, 380, 503, 511, 660, 664, 721, 732, 839, 859, 934, 973, 1002, 1006, 1010, 1055, 1113, 1163, 1173, 1185, 1194, 1212, 1230, 1241, 1251, 1259, 1298], [0, 7, 163, 263, 273, 327, 380, 628, 732, 745, 856, 871, 942, 1002, 1034, 1101, 1221, 1298, 1311], [0, 7, 163, 263, 665, 732, 745, 811, 856, 871, 1002, 1034, 1098, 1149, 1161, 1191, 1221, 1311], [735, 939], [286, 812, 888, 940]]\n"
          ]
        }
      ]
    },
    {
      "cell_type": "code",
      "source": [
        "#리스트 안의 리스트들을 하나로 합치기\n",
        "outlier_list=sum(outlier_list,[])\n",
        "print(outlier_list)\n",
        "print('개수 :',len(outlier_list))"
      ],
      "metadata": {
        "colab": {
          "base_uri": "https://localhost:8080/"
        },
        "id": "I28GujHjj_Gl",
        "outputId": "ce5cc085-078f-4e24-f60f-190e4d702d52"
      },
      "execution_count": 71,
      "outputs": [
        {
          "output_type": "stream",
          "name": "stdout",
          "text": [
            "[18, 94, 110, 132, 201, 297, 462, 476, 586, 663, 677, 683, 686, 735, 747, 752, 816, 856, 864, 939, 941, 948, 962, 1087, 1098, 1138, 1258, 1264, 1346, 93, 297, 398, 503, 718, 735, 812, 939, 1010, 1163, 1173, 1228, 0, 4, 42, 90, 118, 242, 282, 297, 327, 377, 380, 503, 511, 660, 664, 721, 732, 839, 859, 934, 973, 1002, 1006, 1010, 1055, 1113, 1163, 1173, 1185, 1194, 1212, 1230, 1241, 1251, 1259, 1298, 0, 7, 163, 263, 273, 327, 380, 628, 732, 745, 856, 871, 942, 1002, 1034, 1101, 1221, 1298, 1311, 0, 7, 163, 263, 665, 732, 745, 811, 856, 871, 1002, 1034, 1098, 1149, 1161, 1191, 1221, 1311, 735, 939, 286, 812, 888, 940]\n",
            "개수 : 120\n"
          ]
        }
      ]
    },
    {
      "cell_type": "code",
      "source": [
        "#중복숫자제거\n",
        "outlier_list=set(outlier_list)\n",
        "print(outlier_list)\n",
        "print('개수:',len(outlier_list))"
      ],
      "metadata": {
        "colab": {
          "base_uri": "https://localhost:8080/"
        },
        "id": "OxNJZ99akHEI",
        "outputId": "4df7682f-221c-47b8-feca-d24ff745d8cb"
      },
      "execution_count": 72,
      "outputs": [
        {
          "output_type": "stream",
          "name": "stdout",
          "text": [
            "{0, 4, 7, 1034, 18, 1055, 42, 1087, 586, 1098, 1101, 1113, 90, 93, 94, 110, 1138, 628, 118, 1149, 132, 1161, 1163, 660, 1173, 663, 664, 665, 1185, 163, 677, 1191, 1194, 683, 686, 1212, 1221, 201, 1228, 718, 1230, 721, 1241, 732, 735, 1251, 745, 1258, 747, 1259, 752, 1264, 242, 263, 273, 1298, 282, 286, 1311, 297, 811, 812, 816, 1346, 327, 839, 856, 859, 864, 871, 888, 377, 380, 398, 934, 939, 940, 941, 942, 948, 962, 973, 462, 476, 1002, 1006, 1010, 503, 511}\n",
            "개수: 89\n"
          ]
        }
      ]
    },
    {
      "cell_type": "code",
      "source": [
        "#다시 리스트로 변환\n",
        "outlier_list=list(outlier_list)\n",
        "print(type(outlier_list))\n",
        "print(outlier_list)"
      ],
      "metadata": {
        "colab": {
          "base_uri": "https://localhost:8080/"
        },
        "id": "gb6l57cUkpx3",
        "outputId": "093badd1-a363-45a0-af6a-df8f2c91f6e1"
      },
      "execution_count": 73,
      "outputs": [
        {
          "output_type": "stream",
          "name": "stdout",
          "text": [
            "<class 'list'>\n",
            "[0, 4, 7, 1034, 18, 1055, 42, 1087, 586, 1098, 1101, 1113, 90, 93, 94, 110, 1138, 628, 118, 1149, 132, 1161, 1163, 660, 1173, 663, 664, 665, 1185, 163, 677, 1191, 1194, 683, 686, 1212, 1221, 201, 1228, 718, 1230, 721, 1241, 732, 735, 1251, 745, 1258, 747, 1259, 752, 1264, 242, 263, 273, 1298, 282, 286, 1311, 297, 811, 812, 816, 1346, 327, 839, 856, 859, 864, 871, 888, 377, 380, 398, 934, 939, 940, 941, 942, 948, 962, 973, 462, 476, 1002, 1006, 1010, 503, 511]\n"
          ]
        }
      ]
    },
    {
      "cell_type": "code",
      "source": [
        "# 리스트 숫자 정렬\n",
        "outlier_list.sort()\n",
        "print(outlier_list)"
      ],
      "metadata": {
        "colab": {
          "base_uri": "https://localhost:8080/"
        },
        "id": "dUJSIhzdkxr5",
        "outputId": "5edbb300-f3d2-48eb-8979-baa6af070d3d"
      },
      "execution_count": 74,
      "outputs": [
        {
          "output_type": "stream",
          "name": "stdout",
          "text": [
            "[0, 4, 7, 18, 42, 90, 93, 94, 110, 118, 132, 163, 201, 242, 263, 273, 282, 286, 297, 327, 377, 380, 398, 462, 476, 503, 511, 586, 628, 660, 663, 664, 665, 677, 683, 686, 718, 721, 732, 735, 745, 747, 752, 811, 812, 816, 839, 856, 859, 864, 871, 888, 934, 939, 940, 941, 942, 948, 962, 973, 1002, 1006, 1010, 1034, 1055, 1087, 1098, 1101, 1113, 1138, 1149, 1161, 1163, 1173, 1185, 1191, 1194, 1212, 1221, 1228, 1230, 1241, 1251, 1258, 1259, 1264, 1298, 1311, 1346]\n"
          ]
        }
      ]
    },
    {
      "cell_type": "code",
      "source": [
        "#ㅈㅔ거\n",
        "for i in outlier_list:\n",
        "  train.drop(i,axis=0,inplace=True)\n",
        "\n",
        "train.shape"
      ],
      "metadata": {
        "colab": {
          "base_uri": "https://localhost:8080/"
        },
        "id": "-DHAaLfikzhl",
        "outputId": "da28b207-177c-4b52-cd82-ec117a628a4b"
      },
      "execution_count": 75,
      "outputs": [
        {
          "output_type": "execute_result",
          "data": {
            "text/plain": [
              "(1261, 15)"
            ]
          },
          "metadata": {},
          "execution_count": 75
        }
      ]
    },
    {
      "cell_type": "markdown",
      "source": [
        "### 3) 너무 치우쳐져있으면 로그변환?!\n"
      ],
      "metadata": {
        "id": "CCr14Jfyk_bv"
      }
    },
    {
      "cell_type": "code",
      "source": [
        "import warnings\n",
        "warnings.filterwarnings(action='ignore')\n",
        "\n",
        "plt.figure(figsize=(12,12))\n",
        "for i,colName in enumerate(num):\n",
        "  plt.subplot(3,4,i+1)\n",
        "  sns.distplot(train.loc[:,colName])\n",
        "plt.tight_layout()\n",
        "plt.show()"
      ],
      "metadata": {
        "colab": {
          "base_uri": "https://localhost:8080/",
          "height": 662
        },
        "id": "fm4hc4IWk6sr",
        "outputId": "cd9e09c0-1e71-4132-adbe-9277ea46258a"
      },
      "execution_count": 76,
      "outputs": [
        {
          "output_type": "display_data",
          "data": {
            "image/png": "[encoded data removed]",
            "text/plain": [
              "<Figure size 864x864 with 10 Axes>"
            ]
          },
          "metadata": {}
        }
      ]
    },
    {
      "cell_type": "markdown",
      "source": [
        "딱히 치우쳐진게 없어서 그냥 안하기로 했다."
      ],
      "metadata": {
        "id": "OOJFBWN7lcBO"
      }
    },
    {
      "cell_type": "markdown",
      "source": [
        "### 4) StandardScaler"
      ],
      "metadata": {
        "id": "lMYNL88Zl-8m"
      }
    },
    {
      "cell_type": "markdown",
      "source": [
        "## 파생변수 만들기\n",
        "\n",
        "- 리모델링 연도-완공연도\n",
        "- 지상층 넓이>1층 넓이, 지상층=1층, 지상층<1층\n",
        "- "
      ],
      "metadata": {
        "id": "5qUUZjFht6j9"
      }
    },
    {
      "cell_type": "markdown",
      "source": [
        "### 1) 지상층 넓이>1층 넓이, 지상층=1층, 지상층<1층"
      ],
      "metadata": {
        "id": "963n5EvUzz7T"
      }
    },
    {
      "cell_type": "code",
      "source": [
        "print(sum(train['Total Bsmt SF']>train['1st Flr SF']))\n",
        "print(sum(train['Total Bsmt SF']==train['1st Flr SF']))\n",
        "print(sum(train['Total Bsmt SF']<train['1st Flr SF']))\n",
        "\n",
        "print(train['target'][train['Total Bsmt SF']>train['1st Flr SF']].mean())\n",
        "print(train['target'][train['Total Bsmt SF']==train['1st Flr SF']].mean())\n",
        "print(train['target'][train['Total Bsmt SF']<train['1st Flr SF']].mean())"
      ],
      "metadata": {
        "colab": {
          "base_uri": "https://localhost:8080/"
        },
        "id": "v-V6sWrTt6Dj",
        "outputId": "027efaaf-b2d7-49de-a2b0-19a66c1ede4d"
      },
      "execution_count": 77,
      "outputs": [
        {
          "output_type": "stream",
          "name": "stdout",
          "text": [
            "34\n",
            "661\n",
            "566\n",
            "184513.58823529413\n",
            "172634.41301059\n",
            "183080.85335689047\n"
          ]
        }
      ]
    },
    {
      "cell_type": "markdown",
      "source": [
        "지상층 넓이가 1,2층, 차고 까지 포함하는 거 아닌가? 근데 지상층 넓이가 1층 넓이보다 작은 경우도 있어서 당황했다. "
      ],
      "metadata": {
        "id": "k_OdD0Lcy2ps"
      }
    },
    {
      "cell_type": "code",
      "source": [
        "train['1st Flr SF'][train['Total Bsmt SF']>train['1st Flr SF']]=-1\n",
        "train['1st Flr SF'][train['Total Bsmt SF']==train['1st Flr SF']]=0\n",
        "train['1st Flr SF'][train['Total Bsmt SF']<train['1st Flr SF']]=1\n",
        "\n",
        "\n",
        "train.rename(columns={'1st Flr SF':'1st - Total'},inplace=True)\n",
        "\n",
        "test['1st Flr SF'][test['Total Bsmt SF'] > test['1st Flr SF']] = -1\n",
        "test['1st Flr SF'][test['Total Bsmt SF'] == test['1st Flr SF']] = 0\n",
        "test['1st Flr SF'][test['Total Bsmt SF'] < test['1st Flr SF']] = 1\n",
        "\n",
        "test.rename(columns={'1st Flr SF':'1st - Total'}, inplace=True)"
      ],
      "metadata": {
        "id": "MHnoVzoQzAcx"
      },
      "execution_count": 78,
      "outputs": []
    },
    {
      "cell_type": "code",
      "source": [
        "train.columns"
      ],
      "metadata": {
        "colab": {
          "base_uri": "https://localhost:8080/"
        },
        "id": "GqyMVbIz3Asc",
        "outputId": "cb9d90c9-4129-4330-b9d0-9caa45123faa"
      },
      "execution_count": 79,
      "outputs": [
        {
          "output_type": "execute_result",
          "data": {
            "text/plain": [
              "Index(['id', 'Overall Qual', 'Gr Liv Area', 'Exter Qual', 'Garage Cars',\n",
              "       'Garage Area', 'Kitchen Qual', 'Total Bsmt SF', '1st - Total',\n",
              "       'Bsmt Qual', 'Full Bath', 'Year Built', 'Year Remod/Add',\n",
              "       'Garage Yr Blt', 'target'],\n",
              "      dtype='object')"
            ]
          },
          "metadata": {},
          "execution_count": 79
        }
      ]
    },
    {
      "cell_type": "markdown",
      "source": [
        "### 2) 연도, 리모델링"
      ],
      "metadata": {
        "id": "0fbyry1_z42G"
      }
    },
    {
      "cell_type": "code",
      "source": [
        "print(sum(train['Year Built']==train['Year Remod/Add']))\n",
        "print(sum(train['Year Built']>train['Year Remod/Add']))\n",
        "print(sum(train['Year Built']<train['Year Remod/Add']))\n",
        "\n"
      ],
      "metadata": {
        "colab": {
          "base_uri": "https://localhost:8080/"
        },
        "id": "t2oRghFXz4eJ",
        "outputId": "a843b97f-5628-4d3f-fd27-71f82975d40d"
      },
      "execution_count": 80,
      "outputs": [
        {
          "output_type": "stream",
          "name": "stdout",
          "text": [
            "697\n",
            "0\n",
            "564\n"
          ]
        }
      ]
    },
    {
      "cell_type": "code",
      "source": [
        "print(train['target'][train['Year Built'] < train['Year Remod/Add']].mean())\n",
        "print(train['target'][train['Year Built'] == train['Year Remod/Add']].mean())"
      ],
      "metadata": {
        "colab": {
          "base_uri": "https://localhost:8080/"
        },
        "id": "-BwMMXaK0Ojd",
        "outputId": "3f998602-af02-4c72-d610-ef1e02a953cc"
      },
      "execution_count": 81,
      "outputs": [
        {
          "output_type": "stream",
          "name": "stdout",
          "text": [
            "175157.87943262412\n",
            "179654.9899569584\n"
          ]
        }
      ]
    },
    {
      "cell_type": "code",
      "source": [
        "train['Year Remod/Add'][train['Year Built'] < train['Year Remod/Add']] = -1\n",
        "train['Year Remod/Add'][train['Year Built'] == train['Year Remod/Add']] = 1\n",
        "train.rename(columns={'Year Remod/Add':'Remod'}, inplace=True)"
      ],
      "metadata": {
        "id": "RULvb5kq0Uh1"
      },
      "execution_count": 82,
      "outputs": []
    },
    {
      "cell_type": "code",
      "source": [
        "test['Year Remod/Add'][test['Year Built'] < test['Year Remod/Add']] = -1\n",
        "test['Year Remod/Add'][test['Year Built'] == test['Year Remod/Add']] = 1\n",
        "test.rename(columns={'Year Remod/Add':'Remod'}, inplace=True)"
      ],
      "metadata": {
        "id": "opb6W21O0ab0"
      },
      "execution_count": 83,
      "outputs": []
    },
    {
      "cell_type": "code",
      "source": [
        "train.info()"
      ],
      "metadata": {
        "colab": {
          "base_uri": "https://localhost:8080/"
        },
        "id": "y86NcI8x08Y2",
        "outputId": "acc2dbfc-2b74-4499-ba7b-17d93054c099"
      },
      "execution_count": 84,
      "outputs": [
        {
          "output_type": "stream",
          "name": "stdout",
          "text": [
            "<class 'pandas.core.frame.DataFrame'>\n",
            "Int64Index: 1261 entries, 1 to 1349\n",
            "Data columns (total 15 columns):\n",
            " #   Column         Non-Null Count  Dtype   \n",
            "---  ------         --------------  -----   \n",
            " 0   id             1261 non-null   int64   \n",
            " 1   Overall Qual   1261 non-null   int64   \n",
            " 2   Gr Liv Area    1261 non-null   int64   \n",
            " 3   Exter Qual     1261 non-null   category\n",
            " 4   Garage Cars    1261 non-null   int64   \n",
            " 5   Garage Area    1261 non-null   int64   \n",
            " 6   Kitchen Qual   1261 non-null   category\n",
            " 7   Total Bsmt SF  1261 non-null   int64   \n",
            " 8   1st - Total    1261 non-null   int64   \n",
            " 9   Bsmt Qual      1261 non-null   category\n",
            " 10  Full Bath      1261 non-null   int64   \n",
            " 11  Year Built     1261 non-null   int64   \n",
            " 12  Remod          1261 non-null   int64   \n",
            " 13  Garage Yr Blt  1261 non-null   int64   \n",
            " 14  target         1261 non-null   int64   \n",
            "dtypes: category(3), int64(12)\n",
            "memory usage: 132.4 KB\n"
          ]
        }
      ]
    },
    {
      "cell_type": "code",
      "source": [
        "test.info()"
      ],
      "metadata": {
        "colab": {
          "base_uri": "https://localhost:8080/"
        },
        "id": "H_Aj70kJ1CtW",
        "outputId": "1c4ef62e-46e4-4465-c3c6-eb4d6683133d"
      },
      "execution_count": 85,
      "outputs": [
        {
          "output_type": "stream",
          "name": "stdout",
          "text": [
            "<class 'pandas.core.frame.DataFrame'>\n",
            "RangeIndex: 1350 entries, 0 to 1349\n",
            "Data columns (total 14 columns):\n",
            " #   Column         Non-Null Count  Dtype   \n",
            "---  ------         --------------  -----   \n",
            " 0   id             1350 non-null   int64   \n",
            " 1   Overall Qual   1350 non-null   int64   \n",
            " 2   Gr Liv Area    1350 non-null   int64   \n",
            " 3   Exter Qual     1350 non-null   category\n",
            " 4   Garage Cars    1350 non-null   int64   \n",
            " 5   Garage Area    1350 non-null   int64   \n",
            " 6   Kitchen Qual   1350 non-null   category\n",
            " 7   Total Bsmt SF  1350 non-null   int64   \n",
            " 8   1st - Total    1350 non-null   int64   \n",
            " 9   Bsmt Qual      1350 non-null   category\n",
            " 10  Full Bath      1350 non-null   int64   \n",
            " 11  Year Built     1350 non-null   int64   \n",
            " 12  Remod          1350 non-null   int64   \n",
            " 13  Garage Yr Blt  1350 non-null   int64   \n",
            "dtypes: category(3), int64(11)\n",
            "memory usage: 120.7 KB\n"
          ]
        }
      ]
    },
    {
      "cell_type": "code",
      "source": [
        "train.select_dtypes('int').columns.tolist()"
      ],
      "metadata": {
        "colab": {
          "base_uri": "https://localhost:8080/"
        },
        "id": "4u_a0dA61UJy",
        "outputId": "0d2ea059-6e08-4f41-acf8-882fec369819"
      },
      "execution_count": 86,
      "outputs": [
        {
          "output_type": "execute_result",
          "data": {
            "text/plain": [
              "['id',\n",
              " 'Overall Qual',\n",
              " 'Gr Liv Area',\n",
              " 'Garage Cars',\n",
              " 'Garage Area',\n",
              " 'Total Bsmt SF',\n",
              " '1st - Total',\n",
              " 'Full Bath',\n",
              " 'Year Built',\n",
              " 'Remod',\n",
              " 'Garage Yr Blt',\n",
              " 'target']"
            ]
          },
          "metadata": {},
          "execution_count": 86
        }
      ]
    },
    {
      "cell_type": "code",
      "source": [
        "num=['Overall Qual',\n",
        " 'Gr Liv Area',\n",
        " 'Garage Cars',\n",
        " 'Garage Area',\n",
        " 'Total Bsmt SF',\n",
        " '1st - Total',\n",
        " 'Full Bath',\n",
        " 'Year Built',\n",
        " 'Remod',\n",
        " 'Garage Yr Blt']"
      ],
      "metadata": {
        "id": "AxvDMY2z1SWX"
      },
      "execution_count": 87,
      "outputs": []
    },
    {
      "cell_type": "code",
      "source": [
        "from sklearn.preprocessing import StandardScaler\n",
        "\n",
        "min=StandardScaler()\n",
        "for col in num:\n",
        "  train[col]=min.fit_transform(train[col].values.reshape(-1,1))\n",
        "  test[col]=min.transform(test[col].values.reshape(-1,1))\n",
        "\n",
        "display(train.head())\n",
        "print()\n",
        "display(test.head())\n"
      ],
      "metadata": {
        "colab": {
          "base_uri": "https://localhost:8080/",
          "height": 512
        },
        "id": "viUyTZBzlXGz",
        "outputId": "3ce3b81a-0407-4be6-b56c-e75ad5d50417"
      },
      "execution_count": 88,
      "outputs": [
        {
          "output_type": "display_data",
          "data": {
            "text/html": [
              "\n",
              "  <div id=\"df-41747de5-b91a-490c-9fec-92eb6669c792\">\n",
              "    <div class=\"colab-df-container\">\n",
              "      <div>\n",
              "<style scoped>\n",
              "    .dataframe tbody tr th:only-of-type {\n",
              "        vertical-align: middle;\n",
              "    }\n",
              "\n",
              "    .dataframe tbody tr th {\n",
              "        vertical-align: top;\n",
              "    }\n",
              "\n",
              "    .dataframe thead th {\n",
              "        text-align: right;\n",
              "    }\n",
              "</style>\n",
              "<table border=\"1\" class=\"dataframe\">\n",
              "  <thead>\n",
              "    <tr style=\"text-align: right;\">\n",
              "      <th></th>\n",
              "      <th>id</th>\n",
              "      <th>Overall Qual</th>\n",
              "      <th>Gr Liv Area</th>\n",
              "      <th>Exter Qual</th>\n",
              "      <th>Garage Cars</th>\n",
              "      <th>Garage Area</th>\n",
              "      <th>Kitchen Qual</th>\n",
              "      <th>Total Bsmt SF</th>\n",
              "      <th>1st - Total</th>\n",
              "      <th>Bsmt Qual</th>\n",
              "      <th>Full Bath</th>\n",
              "      <th>Year Built</th>\n",
              "      <th>Remod</th>\n",
              "      <th>Garage Yr Blt</th>\n",
              "      <th>target</th>\n",
              "    </tr>\n",
              "  </thead>\n",
              "  <tbody>\n",
              "    <tr>\n",
              "      <th>1</th>\n",
              "      <td>2</td>\n",
              "      <td>0.694928</td>\n",
              "      <td>-0.250296</td>\n",
              "      <td>4</td>\n",
              "      <td>0.323241</td>\n",
              "      <td>-0.083236</td>\n",
              "      <td>4</td>\n",
              "      <td>0.876797</td>\n",
              "      <td>-0.773066</td>\n",
              "      <td>5</td>\n",
              "      <td>0.873314</td>\n",
              "      <td>1.160321</td>\n",
              "      <td>-1.111672</td>\n",
              "      <td>1.147816</td>\n",
              "      <td>194000</td>\n",
              "    </tr>\n",
              "    <tr>\n",
              "      <th>2</th>\n",
              "      <td>3</td>\n",
              "      <td>-0.878330</td>\n",
              "      <td>-1.322032</td>\n",
              "      <td>3</td>\n",
              "      <td>-1.354152</td>\n",
              "      <td>-1.162434</td>\n",
              "      <td>3</td>\n",
              "      <td>-0.528581</td>\n",
              "      <td>1.059333</td>\n",
              "      <td>3</td>\n",
              "      <td>-0.993210</td>\n",
              "      <td>-0.195975</td>\n",
              "      <td>0.899546</td>\n",
              "      <td>-0.434614</td>\n",
              "      <td>123000</td>\n",
              "    </tr>\n",
              "    <tr>\n",
              "      <th>3</th>\n",
              "      <td>4</td>\n",
              "      <td>-0.878330</td>\n",
              "      <td>-0.672351</td>\n",
              "      <td>3</td>\n",
              "      <td>0.323241</td>\n",
              "      <td>0.583683</td>\n",
              "      <td>4</td>\n",
              "      <td>-1.058478</td>\n",
              "      <td>-0.773066</td>\n",
              "      <td>3</td>\n",
              "      <td>-0.993210</td>\n",
              "      <td>-2.526022</td>\n",
              "      <td>-1.111672</td>\n",
              "      <td>0.904365</td>\n",
              "      <td>135000</td>\n",
              "    </tr>\n",
              "    <tr>\n",
              "      <th>5</th>\n",
              "      <td>6</td>\n",
              "      <td>1.481558</td>\n",
              "      <td>1.210299</td>\n",
              "      <td>4</td>\n",
              "      <td>2.000633</td>\n",
              "      <td>1.214226</td>\n",
              "      <td>5</td>\n",
              "      <td>-0.787770</td>\n",
              "      <td>-0.773066</td>\n",
              "      <td>5</td>\n",
              "      <td>0.873314</td>\n",
              "      <td>1.264652</td>\n",
              "      <td>-1.111672</td>\n",
              "      <td>1.269541</td>\n",
              "      <td>269500</td>\n",
              "    </tr>\n",
              "    <tr>\n",
              "      <th>6</th>\n",
              "      <td>7</td>\n",
              "      <td>-0.091701</td>\n",
              "      <td>0.048462</td>\n",
              "      <td>3</td>\n",
              "      <td>0.323241</td>\n",
              "      <td>-0.228746</td>\n",
              "      <td>3</td>\n",
              "      <td>1.239661</td>\n",
              "      <td>-0.773066</td>\n",
              "      <td>3</td>\n",
              "      <td>-0.993210</td>\n",
              "      <td>-0.543743</td>\n",
              "      <td>0.899546</td>\n",
              "      <td>-0.840365</td>\n",
              "      <td>156500</td>\n",
              "    </tr>\n",
              "  </tbody>\n",
              "</table>\n",
              "</div>\n",
              "      <button class=\"colab-df-convert\" onclick=\"convertToInteractive('df-41747de5-b91a-490c-9fec-92eb6669c792')\"\n",
              "              title=\"Convert this dataframe to an interactive table.\"\n",
              "              style=\"display:none;\">\n",
              "        \n",
              "  <svg xmlns=\"http://www.w3.org/2000/svg\" height=\"24px\"viewBox=\"0 0 24 24\"\n",
              "       width=\"24px\">\n",
              "    <path d=\"M0 0h24v24H0V0z\" fill=\"none\"/>\n",
              "    <path d=\"M18.56 5.44l.94 2.06.94-2.06 2.06-.94-2.06-.94-.94-2.06-.94 2.06-2.06.94zm-11 1L8.5 8.5l.94-2.06 2.06-.94-2.06-.94L8.5 2.5l-.94 2.06-2.06.94zm10 10l.94 2.06.94-2.06 2.06-.94-2.06-.94-.94-2.06-.94 2.06-2.06.94z\"/><path d=\"M17.41 7.96l-1.37-1.37c-.4-.4-.92-.59-1.43-.59-.52 0-1.04.2-1.43.59L10.3 9.45l-7.72 7.72c-.78.78-.78 2.05 0 2.83L4 21.41c.39.39.9.59 1.41.59.51 0 1.02-.2 1.41-.59l7.78-7.78 2.81-2.81c.8-.78.8-2.07 0-2.86zM5.41 20L4 18.59l7.72-7.72 1.47 1.35L5.41 20z\"/>\n",
              "  </svg>\n",
              "      </button>\n",
              "      \n",
              "  <style>\n",
              "    .colab-df-container {\n",
              "      display:flex;\n",
              "      flex-wrap:wrap;\n",
              "      gap: 12px;\n",
              "    }\n",
              "\n",
              "    .colab-df-convert {\n",
              "      background-color: #E8F0FE;\n",
              "      border: none;\n",
              "      border-radius: 50%;\n",
              "      cursor: pointer;\n",
              "      display: none;\n",
              "      fill: #1967D2;\n",
              "      height: 32px;\n",
              "      padding: 0 0 0 0;\n",
              "      width: 32px;\n",
              "    }\n",
              "\n",
              "    .colab-df-convert:hover {\n",
              "      background-color: #E2EBFA;\n",
              "      box-shadow: 0px 1px 2px rgba(60, 64, 67, 0.3), 0px 1px 3px 1px rgba(60, 64, 67, 0.15);\n",
              "      fill: #174EA6;\n",
              "    }\n",
              "\n",
              "    [theme=dark] .colab-df-convert {\n",
              "      background-color: #3B4455;\n",
              "      fill: #D2E3FC;\n",
              "    }\n",
              "\n",
              "    [theme=dark] .colab-df-convert:hover {\n",
              "      background-color: #434B5C;\n",
              "      box-shadow: 0px 1px 3px 1px rgba(0, 0, 0, 0.15);\n",
              "      filter: drop-shadow(0px 1px 2px rgba(0, 0, 0, 0.3));\n",
              "      fill: #FFFFFF;\n",
              "    }\n",
              "  </style>\n",
              "\n",
              "      <script>\n",
              "        const buttonEl =\n",
              "          document.querySelector('#df-41747de5-b91a-490c-9fec-92eb6669c792 button.colab-df-convert');\n",
              "        buttonEl.style.display =\n",
              "          google.colab.kernel.accessAllowed ? 'block' : 'none';\n",
              "\n",
              "        async function convertToInteractive(key) {\n",
              "          const element = document.querySelector('#df-41747de5-b91a-490c-9fec-92eb6669c792');\n",
              "          const dataTable =\n",
              "            await google.colab.kernel.invokeFunction('convertToInteractive',\n",
              "                                                     [key], {});\n",
              "          if (!dataTable) return;\n",
              "\n",
              "          const docLinkHtml = 'Like what you see? Visit the ' +\n",
              "            '<a target=\"_blank\" href=https://colab.research.google.com/notebooks/data_table.ipynb>data table notebook</a>'\n",
              "            + ' to learn more about interactive tables.';\n",
              "          element.innerHTML = '';\n",
              "          dataTable['output_type'] = 'display_data';\n",
              "          await google.colab.output.renderOutput(dataTable, element);\n",
              "          const docLink = document.createElement('div');\n",
              "          docLink.innerHTML = docLinkHtml;\n",
              "          element.appendChild(docLink);\n",
              "        }\n",
              "      </script>\n",
              "    </div>\n",
              "  </div>\n",
              "  "
            ],
            "text/plain": [
              "   id  Overall Qual  Gr Liv Area  ...     Remod  Garage Yr Blt  target\n",
              "1   2      0.694928    -0.250296  ... -1.111672       1.147816  194000\n",
              "2   3     -0.878330    -1.322032  ...  0.899546      -0.434614  123000\n",
              "3   4     -0.878330    -0.672351  ... -1.111672       0.904365  135000\n",
              "5   6      1.481558     1.210299  ... -1.111672       1.269541  269500\n",
              "6   7     -0.091701     0.048462  ...  0.899546      -0.840365  156500\n",
              "\n",
              "[5 rows x 15 columns]"
            ]
          },
          "metadata": {}
        },
        {
          "output_type": "stream",
          "name": "stdout",
          "text": [
            "\n"
          ]
        },
        {
          "output_type": "display_data",
          "data": {
            "text/html": [
              "\n",
              "  <div id=\"df-03ec1ba6-336a-429d-b99a-73457317f980\">\n",
              "    <div class=\"colab-df-container\">\n",
              "      <div>\n",
              "<style scoped>\n",
              "    .dataframe tbody tr th:only-of-type {\n",
              "        vertical-align: middle;\n",
              "    }\n",
              "\n",
              "    .dataframe tbody tr th {\n",
              "        vertical-align: top;\n",
              "    }\n",
              "\n",
              "    .dataframe thead th {\n",
              "        text-align: right;\n",
              "    }\n",
              "</style>\n",
              "<table border=\"1\" class=\"dataframe\">\n",
              "  <thead>\n",
              "    <tr style=\"text-align: right;\">\n",
              "      <th></th>\n",
              "      <th>id</th>\n",
              "      <th>Overall Qual</th>\n",
              "      <th>Gr Liv Area</th>\n",
              "      <th>Exter Qual</th>\n",
              "      <th>Garage Cars</th>\n",
              "      <th>Garage Area</th>\n",
              "      <th>Kitchen Qual</th>\n",
              "      <th>Total Bsmt SF</th>\n",
              "      <th>1st - Total</th>\n",
              "      <th>Bsmt Qual</th>\n",
              "      <th>Full Bath</th>\n",
              "      <th>Year Built</th>\n",
              "      <th>Remod</th>\n",
              "      <th>Garage Yr Blt</th>\n",
              "    </tr>\n",
              "  </thead>\n",
              "  <tbody>\n",
              "    <tr>\n",
              "      <th>0</th>\n",
              "      <td>1</td>\n",
              "      <td>2.268187</td>\n",
              "      <td>0.811955</td>\n",
              "      <td>4</td>\n",
              "      <td>0.323241</td>\n",
              "      <td>1.347610</td>\n",
              "      <td>5</td>\n",
              "      <td>2.166980</td>\n",
              "      <td>-0.773066</td>\n",
              "      <td>5</td>\n",
              "      <td>0.873314</td>\n",
              "      <td>1.195098</td>\n",
              "      <td>0.899546</td>\n",
              "      <td>1.188391</td>\n",
              "    </tr>\n",
              "    <tr>\n",
              "      <th>1</th>\n",
              "      <td>2</td>\n",
              "      <td>-0.091701</td>\n",
              "      <td>-0.890492</td>\n",
              "      <td>3</td>\n",
              "      <td>-1.354152</td>\n",
              "      <td>-1.453453</td>\n",
              "      <td>3</td>\n",
              "      <td>0.099231</td>\n",
              "      <td>-0.773066</td>\n",
              "      <td>3</td>\n",
              "      <td>-0.993210</td>\n",
              "      <td>-0.856734</td>\n",
              "      <td>-1.111672</td>\n",
              "      <td>-1.205541</td>\n",
              "    </tr>\n",
              "    <tr>\n",
              "      <th>2</th>\n",
              "      <td>3</td>\n",
              "      <td>-0.091701</td>\n",
              "      <td>0.273716</td>\n",
              "      <td>4</td>\n",
              "      <td>0.323241</td>\n",
              "      <td>-0.240872</td>\n",
              "      <td>4</td>\n",
              "      <td>-0.839607</td>\n",
              "      <td>1.059333</td>\n",
              "      <td>4</td>\n",
              "      <td>0.873314</td>\n",
              "      <td>0.951660</td>\n",
              "      <td>0.899546</td>\n",
              "      <td>0.904365</td>\n",
              "    </tr>\n",
              "    <tr>\n",
              "      <th>3</th>\n",
              "      <td>4</td>\n",
              "      <td>-0.091701</td>\n",
              "      <td>2.336569</td>\n",
              "      <td>4</td>\n",
              "      <td>2.000633</td>\n",
              "      <td>1.602252</td>\n",
              "      <td>4</td>\n",
              "      <td>0.318101</td>\n",
              "      <td>-0.773066</td>\n",
              "      <td>4</td>\n",
              "      <td>0.873314</td>\n",
              "      <td>1.090768</td>\n",
              "      <td>0.899546</td>\n",
              "      <td>1.066666</td>\n",
              "    </tr>\n",
              "    <tr>\n",
              "      <th>4</th>\n",
              "      <td>5</td>\n",
              "      <td>-0.878330</td>\n",
              "      <td>-0.990078</td>\n",
              "      <td>3</td>\n",
              "      <td>0.323241</td>\n",
              "      <td>1.250603</td>\n",
              "      <td>3</td>\n",
              "      <td>-0.021724</td>\n",
              "      <td>-0.773066</td>\n",
              "      <td>3</td>\n",
              "      <td>-0.993210</td>\n",
              "      <td>-0.161198</td>\n",
              "      <td>0.899546</td>\n",
              "      <td>0.539189</td>\n",
              "    </tr>\n",
              "  </tbody>\n",
              "</table>\n",
              "</div>\n",
              "      <button class=\"colab-df-convert\" onclick=\"convertToInteractive('df-03ec1ba6-336a-429d-b99a-73457317f980')\"\n",
              "              title=\"Convert this dataframe to an interactive table.\"\n",
              "              style=\"display:none;\">\n",
              "        \n",
              "  <svg xmlns=\"http://www.w3.org/2000/svg\" height=\"24px\"viewBox=\"0 0 24 24\"\n",
              "       width=\"24px\">\n",
              "    <path d=\"M0 0h24v24H0V0z\" fill=\"none\"/>\n",
              "    <path d=\"M18.56 5.44l.94 2.06.94-2.06 2.06-.94-2.06-.94-.94-2.06-.94 2.06-2.06.94zm-11 1L8.5 8.5l.94-2.06 2.06-.94-2.06-.94L8.5 2.5l-.94 2.06-2.06.94zm10 10l.94 2.06.94-2.06 2.06-.94-2.06-.94-.94-2.06-.94 2.06-2.06.94z\"/><path d=\"M17.41 7.96l-1.37-1.37c-.4-.4-.92-.59-1.43-.59-.52 0-1.04.2-1.43.59L10.3 9.45l-7.72 7.72c-.78.78-.78 2.05 0 2.83L4 21.41c.39.39.9.59 1.41.59.51 0 1.02-.2 1.41-.59l7.78-7.78 2.81-2.81c.8-.78.8-2.07 0-2.86zM5.41 20L4 18.59l7.72-7.72 1.47 1.35L5.41 20z\"/>\n",
              "  </svg>\n",
              "      </button>\n",
              "      \n",
              "  <style>\n",
              "    .colab-df-container {\n",
              "      display:flex;\n",
              "      flex-wrap:wrap;\n",
              "      gap: 12px;\n",
              "    }\n",
              "\n",
              "    .colab-df-convert {\n",
              "      background-color: #E8F0FE;\n",
              "      border: none;\n",
              "      border-radius: 50%;\n",
              "      cursor: pointer;\n",
              "      display: none;\n",
              "      fill: #1967D2;\n",
              "      height: 32px;\n",
              "      padding: 0 0 0 0;\n",
              "      width: 32px;\n",
              "    }\n",
              "\n",
              "    .colab-df-convert:hover {\n",
              "      background-color: #E2EBFA;\n",
              "      box-shadow: 0px 1px 2px rgba(60, 64, 67, 0.3), 0px 1px 3px 1px rgba(60, 64, 67, 0.15);\n",
              "      fill: #174EA6;\n",
              "    }\n",
              "\n",
              "    [theme=dark] .colab-df-convert {\n",
              "      background-color: #3B4455;\n",
              "      fill: #D2E3FC;\n",
              "    }\n",
              "\n",
              "    [theme=dark] .colab-df-convert:hover {\n",
              "      background-color: #434B5C;\n",
              "      box-shadow: 0px 1px 3px 1px rgba(0, 0, 0, 0.15);\n",
              "      filter: drop-shadow(0px 1px 2px rgba(0, 0, 0, 0.3));\n",
              "      fill: #FFFFFF;\n",
              "    }\n",
              "  </style>\n",
              "\n",
              "      <script>\n",
              "        const buttonEl =\n",
              "          document.querySelector('#df-03ec1ba6-336a-429d-b99a-73457317f980 button.colab-df-convert');\n",
              "        buttonEl.style.display =\n",
              "          google.colab.kernel.accessAllowed ? 'block' : 'none';\n",
              "\n",
              "        async function convertToInteractive(key) {\n",
              "          const element = document.querySelector('#df-03ec1ba6-336a-429d-b99a-73457317f980');\n",
              "          const dataTable =\n",
              "            await google.colab.kernel.invokeFunction('convertToInteractive',\n",
              "                                                     [key], {});\n",
              "          if (!dataTable) return;\n",
              "\n",
              "          const docLinkHtml = 'Like what you see? Visit the ' +\n",
              "            '<a target=\"_blank\" href=https://colab.research.google.com/notebooks/data_table.ipynb>data table notebook</a>'\n",
              "            + ' to learn more about interactive tables.';\n",
              "          element.innerHTML = '';\n",
              "          dataTable['output_type'] = 'display_data';\n",
              "          await google.colab.output.renderOutput(dataTable, element);\n",
              "          const docLink = document.createElement('div');\n",
              "          docLink.innerHTML = docLinkHtml;\n",
              "          element.appendChild(docLink);\n",
              "        }\n",
              "      </script>\n",
              "    </div>\n",
              "  </div>\n",
              "  "
            ],
            "text/plain": [
              "   id  Overall Qual  Gr Liv Area  ... Year Built     Remod  Garage Yr Blt\n",
              "0   1      2.268187     0.811955  ...   1.195098  0.899546       1.188391\n",
              "1   2     -0.091701    -0.890492  ...  -0.856734 -1.111672      -1.205541\n",
              "2   3     -0.091701     0.273716  ...   0.951660  0.899546       0.904365\n",
              "3   4     -0.091701     2.336569  ...   1.090768  0.899546       1.066666\n",
              "4   5     -0.878330    -0.990078  ...  -0.161198  0.899546       0.539189\n",
              "\n",
              "[5 rows x 14 columns]"
            ]
          },
          "metadata": {}
        }
      ]
    },
    {
      "cell_type": "markdown",
      "source": [
        ""
      ],
      "metadata": {
        "id": "mzU0-uZbt6cw"
      }
    },
    {
      "cell_type": "markdown",
      "source": [
        "## 데이터 나눠주기\n"
      ],
      "metadata": {
        "id": "HP99oQucoG9W"
      }
    },
    {
      "cell_type": "code",
      "source": [
        "for i in cat:\n",
        "  train[i]=train[i].astype('int')\n",
        "  test[i]=test[i].astype('int')\n",
        "\n",
        "print(train.info())\n",
        "print(test.info())"
      ],
      "metadata": {
        "colab": {
          "base_uri": "https://localhost:8080/"
        },
        "id": "W1hzjoVKv456",
        "outputId": "49aefc58-7e05-460b-ece2-d72d45a0e6c7"
      },
      "execution_count": 89,
      "outputs": [
        {
          "output_type": "stream",
          "name": "stdout",
          "text": [
            "<class 'pandas.core.frame.DataFrame'>\n",
            "Int64Index: 1261 entries, 1 to 1349\n",
            "Data columns (total 15 columns):\n",
            " #   Column         Non-Null Count  Dtype  \n",
            "---  ------         --------------  -----  \n",
            " 0   id             1261 non-null   int64  \n",
            " 1   Overall Qual   1261 non-null   float64\n",
            " 2   Gr Liv Area    1261 non-null   float64\n",
            " 3   Exter Qual     1261 non-null   int64  \n",
            " 4   Garage Cars    1261 non-null   float64\n",
            " 5   Garage Area    1261 non-null   float64\n",
            " 6   Kitchen Qual   1261 non-null   int64  \n",
            " 7   Total Bsmt SF  1261 non-null   float64\n",
            " 8   1st - Total    1261 non-null   float64\n",
            " 9   Bsmt Qual      1261 non-null   int64  \n",
            " 10  Full Bath      1261 non-null   float64\n",
            " 11  Year Built     1261 non-null   float64\n",
            " 12  Remod          1261 non-null   float64\n",
            " 13  Garage Yr Blt  1261 non-null   float64\n",
            " 14  target         1261 non-null   int64  \n",
            "dtypes: float64(10), int64(5)\n",
            "memory usage: 157.6 KB\n",
            "None\n",
            "<class 'pandas.core.frame.DataFrame'>\n",
            "RangeIndex: 1350 entries, 0 to 1349\n",
            "Data columns (total 14 columns):\n",
            " #   Column         Non-Null Count  Dtype  \n",
            "---  ------         --------------  -----  \n",
            " 0   id             1350 non-null   int64  \n",
            " 1   Overall Qual   1350 non-null   float64\n",
            " 2   Gr Liv Area    1350 non-null   float64\n",
            " 3   Exter Qual     1350 non-null   int64  \n",
            " 4   Garage Cars    1350 non-null   float64\n",
            " 5   Garage Area    1350 non-null   float64\n",
            " 6   Kitchen Qual   1350 non-null   int64  \n",
            " 7   Total Bsmt SF  1350 non-null   float64\n",
            " 8   1st - Total    1350 non-null   float64\n",
            " 9   Bsmt Qual      1350 non-null   int64  \n",
            " 10  Full Bath      1350 non-null   float64\n",
            " 11  Year Built     1350 non-null   float64\n",
            " 12  Remod          1350 non-null   float64\n",
            " 13  Garage Yr Blt  1350 non-null   float64\n",
            "dtypes: float64(10), int64(4)\n",
            "memory usage: 147.8 KB\n",
            "None\n"
          ]
        }
      ]
    },
    {
      "cell_type": "code",
      "source": [
        "X_train=train.drop(['target','id'],axis=1)\n",
        "y_train=train['target']\n",
        "X_test=test.drop('id',axis=1)"
      ],
      "metadata": {
        "id": "fGSYcHxsoOq6"
      },
      "execution_count": 90,
      "outputs": []
    },
    {
      "cell_type": "code",
      "source": [
        "print(X_train.shape)\n",
        "print(y_train.shape)\n",
        "print(X_test.shape)"
      ],
      "metadata": {
        "colab": {
          "base_uri": "https://localhost:8080/"
        },
        "id": "8OzX8l9Pobd0",
        "outputId": "4d9d4f17-eb72-429d-98d3-4b4ef65640f7"
      },
      "execution_count": 91,
      "outputs": [
        {
          "output_type": "stream",
          "name": "stdout",
          "text": [
            "(1261, 13)\n",
            "(1261,)\n",
            "(1350, 13)\n"
          ]
        }
      ]
    },
    {
      "cell_type": "code",
      "source": [
        "X_train.head()"
      ],
      "metadata": {
        "colab": {
          "base_uri": "https://localhost:8080/",
          "height": 287
        },
        "id": "O6IJooiYu_YB",
        "outputId": "5d3044b4-b0f6-46a2-fa10-d8bea2b65ee4"
      },
      "execution_count": 92,
      "outputs": [
        {
          "output_type": "execute_result",
          "data": {
            "text/html": [
              "\n",
              "  <div id=\"df-38ea7850-d6e5-4fbd-a32d-c3da1443542e\">\n",
              "    <div class=\"colab-df-container\">\n",
              "      <div>\n",
              "<style scoped>\n",
              "    .dataframe tbody tr th:only-of-type {\n",
              "        vertical-align: middle;\n",
              "    }\n",
              "\n",
              "    .dataframe tbody tr th {\n",
              "        vertical-align: top;\n",
              "    }\n",
              "\n",
              "    .dataframe thead th {\n",
              "        text-align: right;\n",
              "    }\n",
              "</style>\n",
              "<table border=\"1\" class=\"dataframe\">\n",
              "  <thead>\n",
              "    <tr style=\"text-align: right;\">\n",
              "      <th></th>\n",
              "      <th>Overall Qual</th>\n",
              "      <th>Gr Liv Area</th>\n",
              "      <th>Exter Qual</th>\n",
              "      <th>Garage Cars</th>\n",
              "      <th>Garage Area</th>\n",
              "      <th>Kitchen Qual</th>\n",
              "      <th>Total Bsmt SF</th>\n",
              "      <th>1st - Total</th>\n",
              "      <th>Bsmt Qual</th>\n",
              "      <th>Full Bath</th>\n",
              "      <th>Year Built</th>\n",
              "      <th>Remod</th>\n",
              "      <th>Garage Yr Blt</th>\n",
              "    </tr>\n",
              "  </thead>\n",
              "  <tbody>\n",
              "    <tr>\n",
              "      <th>1</th>\n",
              "      <td>0.694928</td>\n",
              "      <td>-0.250296</td>\n",
              "      <td>4</td>\n",
              "      <td>0.323241</td>\n",
              "      <td>-0.083236</td>\n",
              "      <td>4</td>\n",
              "      <td>0.876797</td>\n",
              "      <td>-0.773066</td>\n",
              "      <td>5</td>\n",
              "      <td>0.873314</td>\n",
              "      <td>1.160321</td>\n",
              "      <td>-1.111672</td>\n",
              "      <td>1.147816</td>\n",
              "    </tr>\n",
              "    <tr>\n",
              "      <th>2</th>\n",
              "      <td>-0.878330</td>\n",
              "      <td>-1.322032</td>\n",
              "      <td>3</td>\n",
              "      <td>-1.354152</td>\n",
              "      <td>-1.162434</td>\n",
              "      <td>3</td>\n",
              "      <td>-0.528581</td>\n",
              "      <td>1.059333</td>\n",
              "      <td>3</td>\n",
              "      <td>-0.993210</td>\n",
              "      <td>-0.195975</td>\n",
              "      <td>0.899546</td>\n",
              "      <td>-0.434614</td>\n",
              "    </tr>\n",
              "    <tr>\n",
              "      <th>3</th>\n",
              "      <td>-0.878330</td>\n",
              "      <td>-0.672351</td>\n",
              "      <td>3</td>\n",
              "      <td>0.323241</td>\n",
              "      <td>0.583683</td>\n",
              "      <td>4</td>\n",
              "      <td>-1.058478</td>\n",
              "      <td>-0.773066</td>\n",
              "      <td>3</td>\n",
              "      <td>-0.993210</td>\n",
              "      <td>-2.526022</td>\n",
              "      <td>-1.111672</td>\n",
              "      <td>0.904365</td>\n",
              "    </tr>\n",
              "    <tr>\n",
              "      <th>5</th>\n",
              "      <td>1.481558</td>\n",
              "      <td>1.210299</td>\n",
              "      <td>4</td>\n",
              "      <td>2.000633</td>\n",
              "      <td>1.214226</td>\n",
              "      <td>5</td>\n",
              "      <td>-0.787770</td>\n",
              "      <td>-0.773066</td>\n",
              "      <td>5</td>\n",
              "      <td>0.873314</td>\n",
              "      <td>1.264652</td>\n",
              "      <td>-1.111672</td>\n",
              "      <td>1.269541</td>\n",
              "    </tr>\n",
              "    <tr>\n",
              "      <th>6</th>\n",
              "      <td>-0.091701</td>\n",
              "      <td>0.048462</td>\n",
              "      <td>3</td>\n",
              "      <td>0.323241</td>\n",
              "      <td>-0.228746</td>\n",
              "      <td>3</td>\n",
              "      <td>1.239661</td>\n",
              "      <td>-0.773066</td>\n",
              "      <td>3</td>\n",
              "      <td>-0.993210</td>\n",
              "      <td>-0.543743</td>\n",
              "      <td>0.899546</td>\n",
              "      <td>-0.840365</td>\n",
              "    </tr>\n",
              "  </tbody>\n",
              "</table>\n",
              "</div>\n",
              "      <button class=\"colab-df-convert\" onclick=\"convertToInteractive('df-38ea7850-d6e5-4fbd-a32d-c3da1443542e')\"\n",
              "              title=\"Convert this dataframe to an interactive table.\"\n",
              "              style=\"display:none;\">\n",
              "        \n",
              "  <svg xmlns=\"http://www.w3.org/2000/svg\" height=\"24px\"viewBox=\"0 0 24 24\"\n",
              "       width=\"24px\">\n",
              "    <path d=\"M0 0h24v24H0V0z\" fill=\"none\"/>\n",
              "    <path d=\"M18.56 5.44l.94 2.06.94-2.06 2.06-.94-2.06-.94-.94-2.06-.94 2.06-2.06.94zm-11 1L8.5 8.5l.94-2.06 2.06-.94-2.06-.94L8.5 2.5l-.94 2.06-2.06.94zm10 10l.94 2.06.94-2.06 2.06-.94-2.06-.94-.94-2.06-.94 2.06-2.06.94z\"/><path d=\"M17.41 7.96l-1.37-1.37c-.4-.4-.92-.59-1.43-.59-.52 0-1.04.2-1.43.59L10.3 9.45l-7.72 7.72c-.78.78-.78 2.05 0 2.83L4 21.41c.39.39.9.59 1.41.59.51 0 1.02-.2 1.41-.59l7.78-7.78 2.81-2.81c.8-.78.8-2.07 0-2.86zM5.41 20L4 18.59l7.72-7.72 1.47 1.35L5.41 20z\"/>\n",
              "  </svg>\n",
              "      </button>\n",
              "      \n",
              "  <style>\n",
              "    .colab-df-container {\n",
              "      display:flex;\n",
              "      flex-wrap:wrap;\n",
              "      gap: 12px;\n",
              "    }\n",
              "\n",
              "    .colab-df-convert {\n",
              "      background-color: #E8F0FE;\n",
              "      border: none;\n",
              "      border-radius: 50%;\n",
              "      cursor: pointer;\n",
              "      display: none;\n",
              "      fill: #1967D2;\n",
              "      height: 32px;\n",
              "      padding: 0 0 0 0;\n",
              "      width: 32px;\n",
              "    }\n",
              "\n",
              "    .colab-df-convert:hover {\n",
              "      background-color: #E2EBFA;\n",
              "      box-shadow: 0px 1px 2px rgba(60, 64, 67, 0.3), 0px 1px 3px 1px rgba(60, 64, 67, 0.15);\n",
              "      fill: #174EA6;\n",
              "    }\n",
              "\n",
              "    [theme=dark] .colab-df-convert {\n",
              "      background-color: #3B4455;\n",
              "      fill: #D2E3FC;\n",
              "    }\n",
              "\n",
              "    [theme=dark] .colab-df-convert:hover {\n",
              "      background-color: #434B5C;\n",
              "      box-shadow: 0px 1px 3px 1px rgba(0, 0, 0, 0.15);\n",
              "      filter: drop-shadow(0px 1px 2px rgba(0, 0, 0, 0.3));\n",
              "      fill: #FFFFFF;\n",
              "    }\n",
              "  </style>\n",
              "\n",
              "      <script>\n",
              "        const buttonEl =\n",
              "          document.querySelector('#df-38ea7850-d6e5-4fbd-a32d-c3da1443542e button.colab-df-convert');\n",
              "        buttonEl.style.display =\n",
              "          google.colab.kernel.accessAllowed ? 'block' : 'none';\n",
              "\n",
              "        async function convertToInteractive(key) {\n",
              "          const element = document.querySelector('#df-38ea7850-d6e5-4fbd-a32d-c3da1443542e');\n",
              "          const dataTable =\n",
              "            await google.colab.kernel.invokeFunction('convertToInteractive',\n",
              "                                                     [key], {});\n",
              "          if (!dataTable) return;\n",
              "\n",
              "          const docLinkHtml = 'Like what you see? Visit the ' +\n",
              "            '<a target=\"_blank\" href=https://colab.research.google.com/notebooks/data_table.ipynb>data table notebook</a>'\n",
              "            + ' to learn more about interactive tables.';\n",
              "          element.innerHTML = '';\n",
              "          dataTable['output_type'] = 'display_data';\n",
              "          await google.colab.output.renderOutput(dataTable, element);\n",
              "          const docLink = document.createElement('div');\n",
              "          docLink.innerHTML = docLinkHtml;\n",
              "          element.appendChild(docLink);\n",
              "        }\n",
              "      </script>\n",
              "    </div>\n",
              "  </div>\n",
              "  "
            ],
            "text/plain": [
              "   Overall Qual  Gr Liv Area  Exter Qual  ...  Year Built     Remod  Garage Yr Blt\n",
              "1      0.694928    -0.250296           4  ...    1.160321 -1.111672       1.147816\n",
              "2     -0.878330    -1.322032           3  ...   -0.195975  0.899546      -0.434614\n",
              "3     -0.878330    -0.672351           3  ...   -2.526022 -1.111672       0.904365\n",
              "5      1.481558     1.210299           4  ...    1.264652 -1.111672       1.269541\n",
              "6     -0.091701     0.048462           3  ...   -0.543743  0.899546      -0.840365\n",
              "\n",
              "[5 rows x 13 columns]"
            ]
          },
          "metadata": {},
          "execution_count": 92
        }
      ]
    },
    {
      "cell_type": "markdown",
      "source": [
        "## 모델 학습 및 예측"
      ],
      "metadata": {
        "id": "i2Xl-6x7n6l3"
      }
    },
    {
      "cell_type": "code",
      "source": [
        "from xgboost import XGBRegressor\n",
        "from sklearn.ensemble import RandomForestRegressor\n",
        "from sklearn.ensemble import ExtraTreesRegressor\n",
        "\n",
        "from sklearn.model_selection import GridSearchCV\n",
        "\n",
        "estimators=[]\n",
        "\n",
        "rf=RandomForestRegressor()\n",
        "estimators.append(rf)\n",
        "\n",
        "xgb=XGBRegressor()\n",
        "estimators.append(xgb)\n",
        "\n",
        "etr=ExtraTreesRegressor()\n",
        "estimators.append(etr)\n",
        "\n",
        "#모듈의 파라미터들을 할당할 리스트 만들어주기\n",
        "params=[]\n",
        "\n",
        "params_rf={'n_estimators':[90,100,110,120],\n",
        "           'min_samples_split':[1,2,3,4]}\n",
        "params.append(params_rf)\n",
        "\n",
        "params_xgb={'n_estimatros':[100,300,500],\n",
        "            'learning_rate':[0.05,0.1,0.3],\n",
        "            'max_depth':[3,5,7],\n",
        "            'subsample':[0.1,0.3]}\n",
        "\n",
        "params.append(params_xgb)\n",
        "\n",
        "params_etr={\n",
        "    'n_estimators':[50,60,70,80,90,100,110,120,130,140,150]\n",
        "}\n",
        "params.append(params_etr)"
      ],
      "metadata": {
        "id": "yTJWMei70LYH"
      },
      "execution_count": 93,
      "outputs": []
    },
    {
      "cell_type": "code",
      "source": [
        "params"
      ],
      "metadata": {
        "colab": {
          "base_uri": "https://localhost:8080/"
        },
        "id": "3bQTHoS3r622",
        "outputId": "4a7d6a5a-bafe-49c9-9274-6d7165808028"
      },
      "execution_count": 94,
      "outputs": [
        {
          "output_type": "execute_result",
          "data": {
            "text/plain": [
              "[{'min_samples_split': [1, 2, 3, 4], 'n_estimators': [90, 100, 110, 120]},\n",
              " {'learning_rate': [0.05, 0.1, 0.3],\n",
              "  'max_depth': [3, 5, 7],\n",
              "  'n_estimatros': [100, 300, 500],\n",
              "  'subsample': [0.1, 0.3]},\n",
              " {'n_estimators': [50, 60, 70, 80, 90, 100, 110, 120, 130, 140, 150]}]"
            ]
          },
          "metadata": {},
          "execution_count": 94
        }
      ]
    },
    {
      "cell_type": "code",
      "source": [
        "estimators"
      ],
      "metadata": {
        "colab": {
          "base_uri": "https://localhost:8080/"
        },
        "id": "FayA4B2Cr8oK",
        "outputId": "a6505018-0157-49e1-d398-e09677d5f5f1"
      },
      "execution_count": 95,
      "outputs": [
        {
          "output_type": "execute_result",
          "data": {
            "text/plain": [
              "[RandomForestRegressor(), XGBRegressor(), ExtraTreesRegressor()]"
            ]
          },
          "metadata": {},
          "execution_count": 95
        }
      ]
    },
    {
      "cell_type": "code",
      "source": [
        "#GridsearchCV를 이용해 모델 최적화\n",
        "\n",
        "from tqdm.auto import tqdm#진행도를 확인하는 것\n",
        "\n",
        "def gridSearchCV(models,params):\n",
        "  best_models=[]\n",
        "\n",
        "  for i in tqdm(range(0,len(models))):\n",
        "    model_grid=GridSearchCV(models[i],params[i],n_jobs=-1,verbose=1,cv=5)\n",
        "    model_grid.fit(X_train,y_train)\n",
        "    best_models.append(model_grid.best_estimator_)\n",
        "  return best_models\n",
        "\n",
        "\n",
        "best_model_list=gridSearchCV(estimators,params)"
      ],
      "metadata": {
        "colab": {
          "base_uri": "https://localhost:8080/",
          "height": 142,
          "referenced_widgets": [
            "5d95699ed283469e9f044c1bf4cb3199",
            "59f72736f4f14f6ca1ce809f9cea945f",
            "530ab9f7dd0343899b15b5815266a888",
            "4009c5ca988c49628781d2af5aad5e04",
            "343c42c6feca421baffd3e01d02daa87",
            "c9b8690f5e2b4d2e8e0e0f204ccf302b",
            "3ffa629b253c4906b9fd20035d20ad1b",
            "ab421db28a2445b5bd3d35bbd75db299",
            "5f7daa8841ff46a59ffa2add43f04371",
            "8043357a93324eb59f3b509be46f4623",
            "c526ffd8980e4a20a6fee775fa92f8e3"
          ]
        },
        "id": "Emy53Rraq8Lb",
        "outputId": "bb0c5c7e-180b-4730-9632-28a654f2852b"
      },
      "execution_count": 96,
      "outputs": [
        {
          "output_type": "display_data",
          "data": {
            "application/vnd.jupyter.widget-view+json": {
              "model_id": "5d95699ed283469e9f044c1bf4cb3199",
              "version_minor": 0,
              "version_major": 2
            },
            "text/plain": [
              "  0%|          | 0/3 [00:00<?, ?it/s]"
            ]
          },
          "metadata": {}
        },
        {
          "output_type": "stream",
          "name": "stdout",
          "text": [
            "Fitting 5 folds for each of 16 candidates, totalling 80 fits\n",
            "Fitting 5 folds for each of 54 candidates, totalling 270 fits\n",
            "[08:15:30] WARNING: /workspace/src/objective/regression_obj.cu:152: reg:linear is now deprecated in favor of reg:squarederror.\n",
            "Fitting 5 folds for each of 11 candidates, totalling 55 fits\n"
          ]
        }
      ]
    },
    {
      "cell_type": "code",
      "source": [
        "best_model_list"
      ],
      "metadata": {
        "colab": {
          "base_uri": "https://localhost:8080/"
        },
        "id": "akwj_KJ0r_H-",
        "outputId": "1e24d4d9-9a38-47e1-eeaf-470dc174a311"
      },
      "execution_count": 97,
      "outputs": [
        {
          "output_type": "execute_result",
          "data": {
            "text/plain": [
              "[RandomForestRegressor(min_samples_split=4),\n",
              " XGBRegressor(learning_rate=0.05, max_depth=5, n_estimatros=100, subsample=0.3),\n",
              " ExtraTreesRegressor(n_estimators=150)]"
            ]
          },
          "metadata": {},
          "execution_count": 97
        }
      ]
    },
    {
      "cell_type": "code",
      "source": [
        "best_models=[\n",
        "    ('rf',RandomForestRegressor(min_samples_split=4)),\n",
        "    ('xgb',XGBRegressor(learning_rate=0.05, max_depth=5, n_estimatros=100, subsample=0.3)),\n",
        "    ('ex',ExtraTreesRegressor(n_estimators=150))\n",
        "]\n",
        "\n",
        "from sklearn.ensemble import VotingRegressor\n",
        "\n",
        "voting_rg=VotingRegressor(estimators=best_models)\n",
        "voting_rg.fit(X_train,y_train)"
      ],
      "metadata": {
        "colab": {
          "base_uri": "https://localhost:8080/"
        },
        "id": "6YywkUGF1fz7",
        "outputId": "364ba531-fd0e-4a6f-c523-d8c24ff6d8bb"
      },
      "execution_count": 99,
      "outputs": [
        {
          "output_type": "stream",
          "name": "stdout",
          "text": [
            "[08:28:38] WARNING: /workspace/src/objective/regression_obj.cu:152: reg:linear is now deprecated in favor of reg:squarederror.\n"
          ]
        },
        {
          "output_type": "execute_result",
          "data": {
            "text/plain": [
              "VotingRegressor(estimators=[('rf', RandomForestRegressor(min_samples_split=4)),\n",
              "                            ('xgb',\n",
              "                             XGBRegressor(learning_rate=0.05, max_depth=5,\n",
              "                                          n_estimatros=100, subsample=0.3)),\n",
              "                            ('ex', ExtraTreesRegressor(n_estimators=150))])"
            ]
          },
          "metadata": {},
          "execution_count": 99
        }
      ]
    },
    {
      "cell_type": "code",
      "source": [
        "pred=voting_rg.predict(X_test)\n",
        "\n",
        "sample=sample.copy()\n",
        "sample['target']=pred\n",
        "sample.to_csv('sample.csv',index=False)"
      ],
      "metadata": {
        "id": "vHwdOqFI2Wp0"
      },
      "execution_count": 101,
      "outputs": []
    },
    {
      "cell_type": "code",
      "source": [
        ""
      ],
      "metadata": {
        "id": "sjIOvCOk2kMj"
      },
      "execution_count": null,
      "outputs": []
    }
  ]
}