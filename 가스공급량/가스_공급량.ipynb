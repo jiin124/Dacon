{
  "cells": [
    {
      "cell_type": "markdown",
      "metadata": {
        "id": "view-in-github",
        "colab_type": "text"
      },
      "source": [
        "<a href=\"https://colab.research.google.com/github/jiin124/Dacon/blob/main/%EA%B0%80%EC%8A%A4%EA%B3%B5%EA%B8%89%EB%9F%89/%EA%B0%80%EC%8A%A4_%EA%B3%B5%EA%B8%89%EB%9F%89.ipynb\" target=\"_parent\"><img src=\"https://colab.research.google.com/assets/colab-badge.svg\" alt=\"Open In Colab\"/></a>"
      ]
    },
    {
      "cell_type": "code",
      "execution_count": null,
      "metadata": {
        "id": "tsnTEpiLABEm"
      },
      "outputs": [],
      "source": [
        "from matplotlib import pyplot as plt\n",
        "import pandas as pd\n",
        "import numpy as np\n",
        "import seaborn as sns\n",
        "%matplotlib inline\n",
        "\n",
        "plt.style.use('ggplot')\n",
        "import warnings\n",
        "warnings.filterwarnings('ignore')"
      ]
    },
    {
      "cell_type": "code",
      "execution_count": null,
      "metadata": {
        "colab": {
          "base_uri": "https://localhost:8080/",
          "height": 206
        },
        "id": "N9QeLw4cF95f",
        "outputId": "5fcac441-b68b-4953-8cef-8c55bb1a40b3"
      },
      "outputs": [
        {
          "output_type": "execute_result",
          "data": {
            "text/html": [
              "\n",
              "  <div id=\"df-0bdb9589-058d-43d1-aecc-ca551076241c\">\n",
              "    <div class=\"colab-df-container\">\n",
              "      <div>\n",
              "<style scoped>\n",
              "    .dataframe tbody tr th:only-of-type {\n",
              "        vertical-align: middle;\n",
              "    }\n",
              "\n",
              "    .dataframe tbody tr th {\n",
              "        vertical-align: top;\n",
              "    }\n",
              "\n",
              "    .dataframe thead th {\n",
              "        text-align: right;\n",
              "    }\n",
              "</style>\n",
              "<table border=\"1\" class=\"dataframe\">\n",
              "  <thead>\n",
              "    <tr style=\"text-align: right;\">\n",
              "      <th></th>\n",
              "      <th>연월일</th>\n",
              "      <th>시간</th>\n",
              "      <th>구분</th>\n",
              "      <th>공급량</th>\n",
              "    </tr>\n",
              "  </thead>\n",
              "  <tbody>\n",
              "    <tr>\n",
              "      <th>0</th>\n",
              "      <td>2013-01-01</td>\n",
              "      <td>1</td>\n",
              "      <td>A</td>\n",
              "      <td>2497.129</td>\n",
              "    </tr>\n",
              "    <tr>\n",
              "      <th>1</th>\n",
              "      <td>2013-01-01</td>\n",
              "      <td>2</td>\n",
              "      <td>A</td>\n",
              "      <td>2363.265</td>\n",
              "    </tr>\n",
              "    <tr>\n",
              "      <th>2</th>\n",
              "      <td>2013-01-01</td>\n",
              "      <td>3</td>\n",
              "      <td>A</td>\n",
              "      <td>2258.505</td>\n",
              "    </tr>\n",
              "    <tr>\n",
              "      <th>3</th>\n",
              "      <td>2013-01-01</td>\n",
              "      <td>4</td>\n",
              "      <td>A</td>\n",
              "      <td>2243.969</td>\n",
              "    </tr>\n",
              "    <tr>\n",
              "      <th>4</th>\n",
              "      <td>2013-01-01</td>\n",
              "      <td>5</td>\n",
              "      <td>A</td>\n",
              "      <td>2344.105</td>\n",
              "    </tr>\n",
              "  </tbody>\n",
              "</table>\n",
              "</div>\n",
              "      <button class=\"colab-df-convert\" onclick=\"convertToInteractive('df-0bdb9589-058d-43d1-aecc-ca551076241c')\"\n",
              "              title=\"Convert this dataframe to an interactive table.\"\n",
              "              style=\"display:none;\">\n",
              "        \n",
              "  <svg xmlns=\"http://www.w3.org/2000/svg\" height=\"24px\"viewBox=\"0 0 24 24\"\n",
              "       width=\"24px\">\n",
              "    <path d=\"M0 0h24v24H0V0z\" fill=\"none\"/>\n",
              "    <path d=\"M18.56 5.44l.94 2.06.94-2.06 2.06-.94-2.06-.94-.94-2.06-.94 2.06-2.06.94zm-11 1L8.5 8.5l.94-2.06 2.06-.94-2.06-.94L8.5 2.5l-.94 2.06-2.06.94zm10 10l.94 2.06.94-2.06 2.06-.94-2.06-.94-.94-2.06-.94 2.06-2.06.94z\"/><path d=\"M17.41 7.96l-1.37-1.37c-.4-.4-.92-.59-1.43-.59-.52 0-1.04.2-1.43.59L10.3 9.45l-7.72 7.72c-.78.78-.78 2.05 0 2.83L4 21.41c.39.39.9.59 1.41.59.51 0 1.02-.2 1.41-.59l7.78-7.78 2.81-2.81c.8-.78.8-2.07 0-2.86zM5.41 20L4 18.59l7.72-7.72 1.47 1.35L5.41 20z\"/>\n",
              "  </svg>\n",
              "      </button>\n",
              "      \n",
              "  <style>\n",
              "    .colab-df-container {\n",
              "      display:flex;\n",
              "      flex-wrap:wrap;\n",
              "      gap: 12px;\n",
              "    }\n",
              "\n",
              "    .colab-df-convert {\n",
              "      background-color: #E8F0FE;\n",
              "      border: none;\n",
              "      border-radius: 50%;\n",
              "      cursor: pointer;\n",
              "      display: none;\n",
              "      fill: #1967D2;\n",
              "      height: 32px;\n",
              "      padding: 0 0 0 0;\n",
              "      width: 32px;\n",
              "    }\n",
              "\n",
              "    .colab-df-convert:hover {\n",
              "      background-color: #E2EBFA;\n",
              "      box-shadow: 0px 1px 2px rgba(60, 64, 67, 0.3), 0px 1px 3px 1px rgba(60, 64, 67, 0.15);\n",
              "      fill: #174EA6;\n",
              "    }\n",
              "\n",
              "    [theme=dark] .colab-df-convert {\n",
              "      background-color: #3B4455;\n",
              "      fill: #D2E3FC;\n",
              "    }\n",
              "\n",
              "    [theme=dark] .colab-df-convert:hover {\n",
              "      background-color: #434B5C;\n",
              "      box-shadow: 0px 1px 3px 1px rgba(0, 0, 0, 0.15);\n",
              "      filter: drop-shadow(0px 1px 2px rgba(0, 0, 0, 0.3));\n",
              "      fill: #FFFFFF;\n",
              "    }\n",
              "  </style>\n",
              "\n",
              "      <script>\n",
              "        const buttonEl =\n",
              "          document.querySelector('#df-0bdb9589-058d-43d1-aecc-ca551076241c button.colab-df-convert');\n",
              "        buttonEl.style.display =\n",
              "          google.colab.kernel.accessAllowed ? 'block' : 'none';\n",
              "\n",
              "        async function convertToInteractive(key) {\n",
              "          const element = document.querySelector('#df-0bdb9589-058d-43d1-aecc-ca551076241c');\n",
              "          const dataTable =\n",
              "            await google.colab.kernel.invokeFunction('convertToInteractive',\n",
              "                                                     [key], {});\n",
              "          if (!dataTable) return;\n",
              "\n",
              "          const docLinkHtml = 'Like what you see? Visit the ' +\n",
              "            '<a target=\"_blank\" href=https://colab.research.google.com/notebooks/data_table.ipynb>data table notebook</a>'\n",
              "            + ' to learn more about interactive tables.';\n",
              "          element.innerHTML = '';\n",
              "          dataTable['output_type'] = 'display_data';\n",
              "          await google.colab.output.renderOutput(dataTable, element);\n",
              "          const docLink = document.createElement('div');\n",
              "          docLink.innerHTML = docLinkHtml;\n",
              "          element.appendChild(docLink);\n",
              "        }\n",
              "      </script>\n",
              "    </div>\n",
              "  </div>\n",
              "  "
            ],
            "text/plain": [
              "          연월일  시간 구분       공급량\n",
              "0  2013-01-01   1  A  2497.129\n",
              "1  2013-01-01   2  A  2363.265\n",
              "2  2013-01-01   3  A  2258.505\n",
              "3  2013-01-01   4  A  2243.969\n",
              "4  2013-01-01   5  A  2344.105"
            ]
          },
          "metadata": {},
          "execution_count": 35
        }
      ],
      "source": [
        "df=pd.read_csv('/content/한국가스공사_시간별 공급량_20181231 (1).csv', encoding='utf-8')\n",
        "df.head()"
      ]
    },
    {
      "cell_type": "code",
      "execution_count": null,
      "metadata": {
        "colab": {
          "base_uri": "https://localhost:8080/"
        },
        "id": "NSISecbUGC5r",
        "outputId": "8ba83f48-ede6-4617-ef9a-f44ab229d62f"
      },
      "outputs": [
        {
          "output_type": "stream",
          "name": "stdout",
          "text": [
            "<class 'pandas.core.frame.DataFrame'>\n",
            "RangeIndex: 368088 entries, 0 to 368087\n",
            "Data columns (total 4 columns):\n",
            " #   Column  Non-Null Count   Dtype  \n",
            "---  ------  --------------   -----  \n",
            " 0   연월일     368088 non-null  object \n",
            " 1   시간      368088 non-null  int64  \n",
            " 2   구분      368088 non-null  object \n",
            " 3   공급량     368088 non-null  float64\n",
            "dtypes: float64(1), int64(1), object(2)\n",
            "memory usage: 11.2+ MB\n"
          ]
        }
      ],
      "source": [
        "df.info()"
      ]
    },
    {
      "cell_type": "code",
      "execution_count": null,
      "metadata": {
        "colab": {
          "base_uri": "https://localhost:8080/",
          "height": 423
        },
        "id": "g91_UFkdLW81",
        "outputId": "36feba20-1fb2-4229-9372-2146e08b98cf"
      },
      "outputs": [
        {
          "data": {
            "text/html": [
              "\n",
              "  <div id=\"df-969a37a6-7ba3-45fe-8b5f-efc4414cd711\">\n",
              "    <div class=\"colab-df-container\">\n",
              "      <div>\n",
              "<style scoped>\n",
              "    .dataframe tbody tr th:only-of-type {\n",
              "        vertical-align: middle;\n",
              "    }\n",
              "\n",
              "    .dataframe tbody tr th {\n",
              "        vertical-align: top;\n",
              "    }\n",
              "\n",
              "    .dataframe thead th {\n",
              "        text-align: right;\n",
              "    }\n",
              "</style>\n",
              "<table border=\"1\" class=\"dataframe\">\n",
              "  <thead>\n",
              "    <tr style=\"text-align: right;\">\n",
              "      <th></th>\n",
              "      <th>연월일</th>\n",
              "      <th>시간</th>\n",
              "      <th>구분</th>\n",
              "      <th>공급량</th>\n",
              "    </tr>\n",
              "  </thead>\n",
              "  <tbody>\n",
              "    <tr>\n",
              "      <th>0</th>\n",
              "      <td>2013-01-01</td>\n",
              "      <td>1</td>\n",
              "      <td>A</td>\n",
              "      <td>2497.129</td>\n",
              "    </tr>\n",
              "    <tr>\n",
              "      <th>1</th>\n",
              "      <td>2013-01-01</td>\n",
              "      <td>2</td>\n",
              "      <td>A</td>\n",
              "      <td>2363.265</td>\n",
              "    </tr>\n",
              "    <tr>\n",
              "      <th>2</th>\n",
              "      <td>2013-01-01</td>\n",
              "      <td>3</td>\n",
              "      <td>A</td>\n",
              "      <td>2258.505</td>\n",
              "    </tr>\n",
              "    <tr>\n",
              "      <th>3</th>\n",
              "      <td>2013-01-01</td>\n",
              "      <td>4</td>\n",
              "      <td>A</td>\n",
              "      <td>2243.969</td>\n",
              "    </tr>\n",
              "    <tr>\n",
              "      <th>4</th>\n",
              "      <td>2013-01-01</td>\n",
              "      <td>5</td>\n",
              "      <td>A</td>\n",
              "      <td>2344.105</td>\n",
              "    </tr>\n",
              "    <tr>\n",
              "      <th>...</th>\n",
              "      <td>...</td>\n",
              "      <td>...</td>\n",
              "      <td>...</td>\n",
              "      <td>...</td>\n",
              "    </tr>\n",
              "    <tr>\n",
              "      <th>368083</th>\n",
              "      <td>2018-12-31</td>\n",
              "      <td>20</td>\n",
              "      <td>H</td>\n",
              "      <td>681.033</td>\n",
              "    </tr>\n",
              "    <tr>\n",
              "      <th>368084</th>\n",
              "      <td>2018-12-31</td>\n",
              "      <td>21</td>\n",
              "      <td>H</td>\n",
              "      <td>669.961</td>\n",
              "    </tr>\n",
              "    <tr>\n",
              "      <th>368085</th>\n",
              "      <td>2018-12-31</td>\n",
              "      <td>22</td>\n",
              "      <td>H</td>\n",
              "      <td>657.941</td>\n",
              "    </tr>\n",
              "    <tr>\n",
              "      <th>368086</th>\n",
              "      <td>2018-12-31</td>\n",
              "      <td>23</td>\n",
              "      <td>H</td>\n",
              "      <td>610.953</td>\n",
              "    </tr>\n",
              "    <tr>\n",
              "      <th>368087</th>\n",
              "      <td>2018-12-31</td>\n",
              "      <td>24</td>\n",
              "      <td>H</td>\n",
              "      <td>560.896</td>\n",
              "    </tr>\n",
              "  </tbody>\n",
              "</table>\n",
              "<p>368088 rows × 4 columns</p>\n",
              "</div>\n",
              "      <button class=\"colab-df-convert\" onclick=\"convertToInteractive('df-969a37a6-7ba3-45fe-8b5f-efc4414cd711')\"\n",
              "              title=\"Convert this dataframe to an interactive table.\"\n",
              "              style=\"display:none;\">\n",
              "        \n",
              "  <svg xmlns=\"http://www.w3.org/2000/svg\" height=\"24px\"viewBox=\"0 0 24 24\"\n",
              "       width=\"24px\">\n",
              "    <path d=\"M0 0h24v24H0V0z\" fill=\"none\"/>\n",
              "    <path d=\"M18.56 5.44l.94 2.06.94-2.06 2.06-.94-2.06-.94-.94-2.06-.94 2.06-2.06.94zm-11 1L8.5 8.5l.94-2.06 2.06-.94-2.06-.94L8.5 2.5l-.94 2.06-2.06.94zm10 10l.94 2.06.94-2.06 2.06-.94-2.06-.94-.94-2.06-.94 2.06-2.06.94z\"/><path d=\"M17.41 7.96l-1.37-1.37c-.4-.4-.92-.59-1.43-.59-.52 0-1.04.2-1.43.59L10.3 9.45l-7.72 7.72c-.78.78-.78 2.05 0 2.83L4 21.41c.39.39.9.59 1.41.59.51 0 1.02-.2 1.41-.59l7.78-7.78 2.81-2.81c.8-.78.8-2.07 0-2.86zM5.41 20L4 18.59l7.72-7.72 1.47 1.35L5.41 20z\"/>\n",
              "  </svg>\n",
              "      </button>\n",
              "      \n",
              "  <style>\n",
              "    .colab-df-container {\n",
              "      display:flex;\n",
              "      flex-wrap:wrap;\n",
              "      gap: 12px;\n",
              "    }\n",
              "\n",
              "    .colab-df-convert {\n",
              "      background-color: #E8F0FE;\n",
              "      border: none;\n",
              "      border-radius: 50%;\n",
              "      cursor: pointer;\n",
              "      display: none;\n",
              "      fill: #1967D2;\n",
              "      height: 32px;\n",
              "      padding: 0 0 0 0;\n",
              "      width: 32px;\n",
              "    }\n",
              "\n",
              "    .colab-df-convert:hover {\n",
              "      background-color: #E2EBFA;\n",
              "      box-shadow: 0px 1px 2px rgba(60, 64, 67, 0.3), 0px 1px 3px 1px rgba(60, 64, 67, 0.15);\n",
              "      fill: #174EA6;\n",
              "    }\n",
              "\n",
              "    [theme=dark] .colab-df-convert {\n",
              "      background-color: #3B4455;\n",
              "      fill: #D2E3FC;\n",
              "    }\n",
              "\n",
              "    [theme=dark] .colab-df-convert:hover {\n",
              "      background-color: #434B5C;\n",
              "      box-shadow: 0px 1px 3px 1px rgba(0, 0, 0, 0.15);\n",
              "      filter: drop-shadow(0px 1px 2px rgba(0, 0, 0, 0.3));\n",
              "      fill: #FFFFFF;\n",
              "    }\n",
              "  </style>\n",
              "\n",
              "      <script>\n",
              "        const buttonEl =\n",
              "          document.querySelector('#df-969a37a6-7ba3-45fe-8b5f-efc4414cd711 button.colab-df-convert');\n",
              "        buttonEl.style.display =\n",
              "          google.colab.kernel.accessAllowed ? 'block' : 'none';\n",
              "\n",
              "        async function convertToInteractive(key) {\n",
              "          const element = document.querySelector('#df-969a37a6-7ba3-45fe-8b5f-efc4414cd711');\n",
              "          const dataTable =\n",
              "            await google.colab.kernel.invokeFunction('convertToInteractive',\n",
              "                                                     [key], {});\n",
              "          if (!dataTable) return;\n",
              "\n",
              "          const docLinkHtml = 'Like what you see? Visit the ' +\n",
              "            '<a target=\"_blank\" href=https://colab.research.google.com/notebooks/data_table.ipynb>data table notebook</a>'\n",
              "            + ' to learn more about interactive tables.';\n",
              "          element.innerHTML = '';\n",
              "          dataTable['output_type'] = 'display_data';\n",
              "          await google.colab.output.renderOutput(dataTable, element);\n",
              "          const docLink = document.createElement('div');\n",
              "          docLink.innerHTML = docLinkHtml;\n",
              "          element.appendChild(docLink);\n",
              "        }\n",
              "      </script>\n",
              "    </div>\n",
              "  </div>\n",
              "  "
            ],
            "text/plain": [
              "               연월일  시간 구분       공급량\n",
              "0       2013-01-01   1  A  2497.129\n",
              "1       2013-01-01   2  A  2363.265\n",
              "2       2013-01-01   3  A  2258.505\n",
              "3       2013-01-01   4  A  2243.969\n",
              "4       2013-01-01   5  A  2344.105\n",
              "...            ...  .. ..       ...\n",
              "368083  2018-12-31  20  H   681.033\n",
              "368084  2018-12-31  21  H   669.961\n",
              "368085  2018-12-31  22  H   657.941\n",
              "368086  2018-12-31  23  H   610.953\n",
              "368087  2018-12-31  24  H   560.896\n",
              "\n",
              "[368088 rows x 4 columns]"
            ]
          },
          "execution_count": 8,
          "metadata": {},
          "output_type": "execute_result"
        }
      ],
      "source": [
        "df"
      ]
    },
    {
      "cell_type": "code",
      "execution_count": null,
      "metadata": {
        "id": "wQ9UAfLzMO6u"
      },
      "outputs": [],
      "source": [
        "df['연월일']=pd.to_datetime(df['연월일'])"
      ]
    },
    {
      "cell_type": "code",
      "execution_count": null,
      "metadata": {
        "id": "xoFx8pBpNUaF"
      },
      "outputs": [],
      "source": [
        "import datetime\n",
        "\n",
        "df['year']=df['연월일'].dt.year\n",
        "df['month']=df['연월일'].dt.month\n",
        "df['day']=df['연월일'].dt.day\n",
        "df['weekday']=df['연월일'].dt.weekday"
      ]
    },
    {
      "cell_type": "code",
      "execution_count": null,
      "metadata": {
        "colab": {
          "base_uri": "https://localhost:8080/",
          "height": 206
        },
        "id": "n_h-aEF6cZIq",
        "outputId": "ff0e8f55-627a-4ab9-c1c4-b3120f16d8d0"
      },
      "outputs": [
        {
          "output_type": "execute_result",
          "data": {
            "text/html": [
              "\n",
              "  <div id=\"df-df5d74cc-a912-4d21-b5e7-c2a23e5968c6\">\n",
              "    <div class=\"colab-df-container\">\n",
              "      <div>\n",
              "<style scoped>\n",
              "    .dataframe tbody tr th:only-of-type {\n",
              "        vertical-align: middle;\n",
              "    }\n",
              "\n",
              "    .dataframe tbody tr th {\n",
              "        vertical-align: top;\n",
              "    }\n",
              "\n",
              "    .dataframe thead th {\n",
              "        text-align: right;\n",
              "    }\n",
              "</style>\n",
              "<table border=\"1\" class=\"dataframe\">\n",
              "  <thead>\n",
              "    <tr style=\"text-align: right;\">\n",
              "      <th></th>\n",
              "      <th>연월일</th>\n",
              "      <th>시간</th>\n",
              "      <th>구분</th>\n",
              "      <th>공급량</th>\n",
              "      <th>year</th>\n",
              "      <th>month</th>\n",
              "      <th>day</th>\n",
              "      <th>weekday</th>\n",
              "    </tr>\n",
              "  </thead>\n",
              "  <tbody>\n",
              "    <tr>\n",
              "      <th>0</th>\n",
              "      <td>2013-01-01</td>\n",
              "      <td>1</td>\n",
              "      <td>A</td>\n",
              "      <td>2497.129</td>\n",
              "      <td>2013</td>\n",
              "      <td>1</td>\n",
              "      <td>1</td>\n",
              "      <td>1</td>\n",
              "    </tr>\n",
              "    <tr>\n",
              "      <th>1</th>\n",
              "      <td>2013-01-01</td>\n",
              "      <td>2</td>\n",
              "      <td>A</td>\n",
              "      <td>2363.265</td>\n",
              "      <td>2013</td>\n",
              "      <td>1</td>\n",
              "      <td>1</td>\n",
              "      <td>1</td>\n",
              "    </tr>\n",
              "    <tr>\n",
              "      <th>2</th>\n",
              "      <td>2013-01-01</td>\n",
              "      <td>3</td>\n",
              "      <td>A</td>\n",
              "      <td>2258.505</td>\n",
              "      <td>2013</td>\n",
              "      <td>1</td>\n",
              "      <td>1</td>\n",
              "      <td>1</td>\n",
              "    </tr>\n",
              "    <tr>\n",
              "      <th>3</th>\n",
              "      <td>2013-01-01</td>\n",
              "      <td>4</td>\n",
              "      <td>A</td>\n",
              "      <td>2243.969</td>\n",
              "      <td>2013</td>\n",
              "      <td>1</td>\n",
              "      <td>1</td>\n",
              "      <td>1</td>\n",
              "    </tr>\n",
              "    <tr>\n",
              "      <th>4</th>\n",
              "      <td>2013-01-01</td>\n",
              "      <td>5</td>\n",
              "      <td>A</td>\n",
              "      <td>2344.105</td>\n",
              "      <td>2013</td>\n",
              "      <td>1</td>\n",
              "      <td>1</td>\n",
              "      <td>1</td>\n",
              "    </tr>\n",
              "  </tbody>\n",
              "</table>\n",
              "</div>\n",
              "      <button class=\"colab-df-convert\" onclick=\"convertToInteractive('df-df5d74cc-a912-4d21-b5e7-c2a23e5968c6')\"\n",
              "              title=\"Convert this dataframe to an interactive table.\"\n",
              "              style=\"display:none;\">\n",
              "        \n",
              "  <svg xmlns=\"http://www.w3.org/2000/svg\" height=\"24px\"viewBox=\"0 0 24 24\"\n",
              "       width=\"24px\">\n",
              "    <path d=\"M0 0h24v24H0V0z\" fill=\"none\"/>\n",
              "    <path d=\"M18.56 5.44l.94 2.06.94-2.06 2.06-.94-2.06-.94-.94-2.06-.94 2.06-2.06.94zm-11 1L8.5 8.5l.94-2.06 2.06-.94-2.06-.94L8.5 2.5l-.94 2.06-2.06.94zm10 10l.94 2.06.94-2.06 2.06-.94-2.06-.94-.94-2.06-.94 2.06-2.06.94z\"/><path d=\"M17.41 7.96l-1.37-1.37c-.4-.4-.92-.59-1.43-.59-.52 0-1.04.2-1.43.59L10.3 9.45l-7.72 7.72c-.78.78-.78 2.05 0 2.83L4 21.41c.39.39.9.59 1.41.59.51 0 1.02-.2 1.41-.59l7.78-7.78 2.81-2.81c.8-.78.8-2.07 0-2.86zM5.41 20L4 18.59l7.72-7.72 1.47 1.35L5.41 20z\"/>\n",
              "  </svg>\n",
              "      </button>\n",
              "      \n",
              "  <style>\n",
              "    .colab-df-container {\n",
              "      display:flex;\n",
              "      flex-wrap:wrap;\n",
              "      gap: 12px;\n",
              "    }\n",
              "\n",
              "    .colab-df-convert {\n",
              "      background-color: #E8F0FE;\n",
              "      border: none;\n",
              "      border-radius: 50%;\n",
              "      cursor: pointer;\n",
              "      display: none;\n",
              "      fill: #1967D2;\n",
              "      height: 32px;\n",
              "      padding: 0 0 0 0;\n",
              "      width: 32px;\n",
              "    }\n",
              "\n",
              "    .colab-df-convert:hover {\n",
              "      background-color: #E2EBFA;\n",
              "      box-shadow: 0px 1px 2px rgba(60, 64, 67, 0.3), 0px 1px 3px 1px rgba(60, 64, 67, 0.15);\n",
              "      fill: #174EA6;\n",
              "    }\n",
              "\n",
              "    [theme=dark] .colab-df-convert {\n",
              "      background-color: #3B4455;\n",
              "      fill: #D2E3FC;\n",
              "    }\n",
              "\n",
              "    [theme=dark] .colab-df-convert:hover {\n",
              "      background-color: #434B5C;\n",
              "      box-shadow: 0px 1px 3px 1px rgba(0, 0, 0, 0.15);\n",
              "      filter: drop-shadow(0px 1px 2px rgba(0, 0, 0, 0.3));\n",
              "      fill: #FFFFFF;\n",
              "    }\n",
              "  </style>\n",
              "\n",
              "      <script>\n",
              "        const buttonEl =\n",
              "          document.querySelector('#df-df5d74cc-a912-4d21-b5e7-c2a23e5968c6 button.colab-df-convert');\n",
              "        buttonEl.style.display =\n",
              "          google.colab.kernel.accessAllowed ? 'block' : 'none';\n",
              "\n",
              "        async function convertToInteractive(key) {\n",
              "          const element = document.querySelector('#df-df5d74cc-a912-4d21-b5e7-c2a23e5968c6');\n",
              "          const dataTable =\n",
              "            await google.colab.kernel.invokeFunction('convertToInteractive',\n",
              "                                                     [key], {});\n",
              "          if (!dataTable) return;\n",
              "\n",
              "          const docLinkHtml = 'Like what you see? Visit the ' +\n",
              "            '<a target=\"_blank\" href=https://colab.research.google.com/notebooks/data_table.ipynb>data table notebook</a>'\n",
              "            + ' to learn more about interactive tables.';\n",
              "          element.innerHTML = '';\n",
              "          dataTable['output_type'] = 'display_data';\n",
              "          await google.colab.output.renderOutput(dataTable, element);\n",
              "          const docLink = document.createElement('div');\n",
              "          docLink.innerHTML = docLinkHtml;\n",
              "          element.appendChild(docLink);\n",
              "        }\n",
              "      </script>\n",
              "    </div>\n",
              "  </div>\n",
              "  "
            ],
            "text/plain": [
              "         연월일  시간 구분       공급량  year  month  day  weekday\n",
              "0 2013-01-01   1  A  2497.129  2013      1    1        1\n",
              "1 2013-01-01   2  A  2363.265  2013      1    1        1\n",
              "2 2013-01-01   3  A  2258.505  2013      1    1        1\n",
              "3 2013-01-01   4  A  2243.969  2013      1    1        1\n",
              "4 2013-01-01   5  A  2344.105  2013      1    1        1"
            ]
          },
          "metadata": {},
          "execution_count": 22
        }
      ],
      "source": [
        "df.head()"
      ]
    },
    {
      "cell_type": "code",
      "execution_count": null,
      "metadata": {
        "colab": {
          "base_uri": "https://localhost:8080/",
          "height": 300
        },
        "id": "Vw_13YJhfNP4",
        "outputId": "c3ad48e8-94db-48f5-fdaf-67b8f0e9a22b"
      },
      "outputs": [
        {
          "data": {
            "text/plain": [
              "<matplotlib.axes._subplots.AxesSubplot at 0x7fea31eafa50>"
            ]
          },
          "execution_count": 20,
          "metadata": {},
          "output_type": "execute_result"
        },
        {
          "data": {
            "image/png": "[encoded data removed]",
            "text/plain": [
              "<Figure size 432x288 with 1 Axes>"
            ]
          },
          "metadata": {},
          "output_type": "display_data"
        }
      ],
      "source": [
        "sns.lineplot(data=df,\n",
        "             x='연월일',\n",
        "             y='공급량',\n",
        "             style='year')"
      ]
    },
    {
      "cell_type": "code",
      "execution_count": null,
      "metadata": {
        "colab": {
          "base_uri": "https://localhost:8080/",
          "height": 300
        },
        "id": "3c7MX_kUgSR1",
        "outputId": "90f3c00e-6b93-4584-b8ef-bf2d81843e8d"
      },
      "outputs": [
        {
          "data": {
            "text/plain": [
              "<matplotlib.axes._subplots.AxesSubplot at 0x7fea31d42490>"
            ]
          },
          "execution_count": 21,
          "metadata": {},
          "output_type": "execute_result"
        },
        {
          "data": {
            "image/png": "[encoded data removed]",
            "text/plain": [
              "<Figure size 432x288 with 1 Axes>"
            ]
          },
          "metadata": {},
          "output_type": "display_data"
        }
      ],
      "source": [
        "sns.barplot(data=df,x='year',y='공급량')"
      ]
    },
    {
      "cell_type": "code",
      "execution_count": null,
      "metadata": {
        "colab": {
          "base_uri": "https://localhost:8080/",
          "height": 300
        },
        "id": "NdLDmOY_hst2",
        "outputId": "b7274dc4-7beb-4c90-8a17-d9a13beb2681"
      },
      "outputs": [
        {
          "data": {
            "text/plain": [
              "<matplotlib.axes._subplots.AxesSubplot at 0x7fea3246c590>"
            ]
          },
          "execution_count": 22,
          "metadata": {},
          "output_type": "execute_result"
        },
        {
          "data": {
            "image/png": "[encoded data removed]",
            "text/plain": [
              "<Figure size 432x288 with 1 Axes>"
            ]
          },
          "metadata": {},
          "output_type": "display_data"
        }
      ],
      "source": [
        "sns.barplot(data=df,x='month',y='공급량')"
      ]
    },
    {
      "cell_type": "code",
      "execution_count": null,
      "metadata": {
        "colab": {
          "base_uri": "https://localhost:8080/",
          "height": 300
        },
        "id": "rXa3QecWjQTA",
        "outputId": "d95b87c1-aa1e-4c3a-a9a9-c27291e057f9"
      },
      "outputs": [
        {
          "data": {
            "text/plain": [
              "<matplotlib.axes._subplots.AxesSubplot at 0x7fea31cbab10>"
            ]
          },
          "execution_count": 23,
          "metadata": {},
          "output_type": "execute_result"
        },
        {
          "data": {
            "image/png": "[encoded data removed]",
            "text/plain": [
              "<Figure size 432x288 with 1 Axes>"
            ]
          },
          "metadata": {},
          "output_type": "display_data"
        }
      ],
      "source": [
        "sns.barplot(data=df,x='weekday',y='공급량')"
      ]
    },
    {
      "cell_type": "code",
      "execution_count": null,
      "metadata": {
        "colab": {
          "base_uri": "https://localhost:8080/",
          "height": 301
        },
        "id": "g_u1ocdtjTyR",
        "outputId": "b14d7d0d-4fce-4c24-8859-50ca91f5bb7f"
      },
      "outputs": [
        {
          "data": {
            "text/plain": [
              "<matplotlib.axes._subplots.AxesSubplot at 0x7fea31aabad0>"
            ]
          },
          "execution_count": 27,
          "metadata": {},
          "output_type": "execute_result"
        },
        {
          "data": {
            "image/png": "[encoded data removed]",
            "text/plain": [
              "<Figure size 432x288 with 1 Axes>"
            ]
          },
          "metadata": {},
          "output_type": "display_data"
        }
      ],
      "source": [
        "sns.boxplot(data=df,x='구분',y='공급량')"
      ]
    },
    {
      "cell_type": "code",
      "execution_count": null,
      "metadata": {
        "colab": {
          "base_uri": "https://localhost:8080/",
          "height": 467
        },
        "id": "yMYOkhe5qsQ4",
        "outputId": "294f5230-ebd8-41c8-acd8-0987316e0a85"
      },
      "outputs": [
        {
          "output_type": "execute_result",
          "data": {
            "text/html": [
              "\n",
              "  <div id=\"df-c94b3ff2-0fbf-4811-a941-ba1592e6a308\">\n",
              "    <div class=\"colab-df-container\">\n",
              "      <div>\n",
              "<style scoped>\n",
              "    .dataframe tbody tr th:only-of-type {\n",
              "        vertical-align: middle;\n",
              "    }\n",
              "\n",
              "    .dataframe tbody tr th {\n",
              "        vertical-align: top;\n",
              "    }\n",
              "\n",
              "    .dataframe thead th {\n",
              "        text-align: right;\n",
              "    }\n",
              "</style>\n",
              "<table border=\"1\" class=\"dataframe\">\n",
              "  <thead>\n",
              "    <tr style=\"text-align: right;\">\n",
              "      <th></th>\n",
              "      <th>연월일</th>\n",
              "      <th>시간</th>\n",
              "      <th>공급량</th>\n",
              "      <th>year</th>\n",
              "      <th>month</th>\n",
              "      <th>day</th>\n",
              "      <th>weekday</th>\n",
              "      <th>A</th>\n",
              "      <th>B</th>\n",
              "      <th>C</th>\n",
              "      <th>D</th>\n",
              "      <th>E</th>\n",
              "      <th>G</th>\n",
              "      <th>H</th>\n",
              "    </tr>\n",
              "  </thead>\n",
              "  <tbody>\n",
              "    <tr>\n",
              "      <th>0</th>\n",
              "      <td>2013-01-01</td>\n",
              "      <td>1</td>\n",
              "      <td>2497.129</td>\n",
              "      <td>2013</td>\n",
              "      <td>1</td>\n",
              "      <td>1</td>\n",
              "      <td>1</td>\n",
              "      <td>1</td>\n",
              "      <td>0</td>\n",
              "      <td>0</td>\n",
              "      <td>0</td>\n",
              "      <td>0</td>\n",
              "      <td>0</td>\n",
              "      <td>0</td>\n",
              "    </tr>\n",
              "    <tr>\n",
              "      <th>1</th>\n",
              "      <td>2013-01-01</td>\n",
              "      <td>2</td>\n",
              "      <td>2363.265</td>\n",
              "      <td>2013</td>\n",
              "      <td>1</td>\n",
              "      <td>1</td>\n",
              "      <td>1</td>\n",
              "      <td>1</td>\n",
              "      <td>0</td>\n",
              "      <td>0</td>\n",
              "      <td>0</td>\n",
              "      <td>0</td>\n",
              "      <td>0</td>\n",
              "      <td>0</td>\n",
              "    </tr>\n",
              "    <tr>\n",
              "      <th>2</th>\n",
              "      <td>2013-01-01</td>\n",
              "      <td>3</td>\n",
              "      <td>2258.505</td>\n",
              "      <td>2013</td>\n",
              "      <td>1</td>\n",
              "      <td>1</td>\n",
              "      <td>1</td>\n",
              "      <td>1</td>\n",
              "      <td>0</td>\n",
              "      <td>0</td>\n",
              "      <td>0</td>\n",
              "      <td>0</td>\n",
              "      <td>0</td>\n",
              "      <td>0</td>\n",
              "    </tr>\n",
              "    <tr>\n",
              "      <th>3</th>\n",
              "      <td>2013-01-01</td>\n",
              "      <td>4</td>\n",
              "      <td>2243.969</td>\n",
              "      <td>2013</td>\n",
              "      <td>1</td>\n",
              "      <td>1</td>\n",
              "      <td>1</td>\n",
              "      <td>1</td>\n",
              "      <td>0</td>\n",
              "      <td>0</td>\n",
              "      <td>0</td>\n",
              "      <td>0</td>\n",
              "      <td>0</td>\n",
              "      <td>0</td>\n",
              "    </tr>\n",
              "    <tr>\n",
              "      <th>4</th>\n",
              "      <td>2013-01-01</td>\n",
              "      <td>5</td>\n",
              "      <td>2344.105</td>\n",
              "      <td>2013</td>\n",
              "      <td>1</td>\n",
              "      <td>1</td>\n",
              "      <td>1</td>\n",
              "      <td>1</td>\n",
              "      <td>0</td>\n",
              "      <td>0</td>\n",
              "      <td>0</td>\n",
              "      <td>0</td>\n",
              "      <td>0</td>\n",
              "      <td>0</td>\n",
              "    </tr>\n",
              "    <tr>\n",
              "      <th>...</th>\n",
              "      <td>...</td>\n",
              "      <td>...</td>\n",
              "      <td>...</td>\n",
              "      <td>...</td>\n",
              "      <td>...</td>\n",
              "      <td>...</td>\n",
              "      <td>...</td>\n",
              "      <td>...</td>\n",
              "      <td>...</td>\n",
              "      <td>...</td>\n",
              "      <td>...</td>\n",
              "      <td>...</td>\n",
              "      <td>...</td>\n",
              "      <td>...</td>\n",
              "    </tr>\n",
              "    <tr>\n",
              "      <th>368083</th>\n",
              "      <td>2018-12-31</td>\n",
              "      <td>20</td>\n",
              "      <td>681.033</td>\n",
              "      <td>2018</td>\n",
              "      <td>12</td>\n",
              "      <td>31</td>\n",
              "      <td>0</td>\n",
              "      <td>0</td>\n",
              "      <td>0</td>\n",
              "      <td>0</td>\n",
              "      <td>0</td>\n",
              "      <td>0</td>\n",
              "      <td>0</td>\n",
              "      <td>1</td>\n",
              "    </tr>\n",
              "    <tr>\n",
              "      <th>368084</th>\n",
              "      <td>2018-12-31</td>\n",
              "      <td>21</td>\n",
              "      <td>669.961</td>\n",
              "      <td>2018</td>\n",
              "      <td>12</td>\n",
              "      <td>31</td>\n",
              "      <td>0</td>\n",
              "      <td>0</td>\n",
              "      <td>0</td>\n",
              "      <td>0</td>\n",
              "      <td>0</td>\n",
              "      <td>0</td>\n",
              "      <td>0</td>\n",
              "      <td>1</td>\n",
              "    </tr>\n",
              "    <tr>\n",
              "      <th>368085</th>\n",
              "      <td>2018-12-31</td>\n",
              "      <td>22</td>\n",
              "      <td>657.941</td>\n",
              "      <td>2018</td>\n",
              "      <td>12</td>\n",
              "      <td>31</td>\n",
              "      <td>0</td>\n",
              "      <td>0</td>\n",
              "      <td>0</td>\n",
              "      <td>0</td>\n",
              "      <td>0</td>\n",
              "      <td>0</td>\n",
              "      <td>0</td>\n",
              "      <td>1</td>\n",
              "    </tr>\n",
              "    <tr>\n",
              "      <th>368086</th>\n",
              "      <td>2018-12-31</td>\n",
              "      <td>23</td>\n",
              "      <td>610.953</td>\n",
              "      <td>2018</td>\n",
              "      <td>12</td>\n",
              "      <td>31</td>\n",
              "      <td>0</td>\n",
              "      <td>0</td>\n",
              "      <td>0</td>\n",
              "      <td>0</td>\n",
              "      <td>0</td>\n",
              "      <td>0</td>\n",
              "      <td>0</td>\n",
              "      <td>1</td>\n",
              "    </tr>\n",
              "    <tr>\n",
              "      <th>368087</th>\n",
              "      <td>2018-12-31</td>\n",
              "      <td>24</td>\n",
              "      <td>560.896</td>\n",
              "      <td>2018</td>\n",
              "      <td>12</td>\n",
              "      <td>31</td>\n",
              "      <td>0</td>\n",
              "      <td>0</td>\n",
              "      <td>0</td>\n",
              "      <td>0</td>\n",
              "      <td>0</td>\n",
              "      <td>0</td>\n",
              "      <td>0</td>\n",
              "      <td>1</td>\n",
              "    </tr>\n",
              "  </tbody>\n",
              "</table>\n",
              "<p>368088 rows × 14 columns</p>\n",
              "</div>\n",
              "      <button class=\"colab-df-convert\" onclick=\"convertToInteractive('df-c94b3ff2-0fbf-4811-a941-ba1592e6a308')\"\n",
              "              title=\"Convert this dataframe to an interactive table.\"\n",
              "              style=\"display:none;\">\n",
              "        \n",
              "  <svg xmlns=\"http://www.w3.org/2000/svg\" height=\"24px\"viewBox=\"0 0 24 24\"\n",
              "       width=\"24px\">\n",
              "    <path d=\"M0 0h24v24H0V0z\" fill=\"none\"/>\n",
              "    <path d=\"M18.56 5.44l.94 2.06.94-2.06 2.06-.94-2.06-.94-.94-2.06-.94 2.06-2.06.94zm-11 1L8.5 8.5l.94-2.06 2.06-.94-2.06-.94L8.5 2.5l-.94 2.06-2.06.94zm10 10l.94 2.06.94-2.06 2.06-.94-2.06-.94-.94-2.06-.94 2.06-2.06.94z\"/><path d=\"M17.41 7.96l-1.37-1.37c-.4-.4-.92-.59-1.43-.59-.52 0-1.04.2-1.43.59L10.3 9.45l-7.72 7.72c-.78.78-.78 2.05 0 2.83L4 21.41c.39.39.9.59 1.41.59.51 0 1.02-.2 1.41-.59l7.78-7.78 2.81-2.81c.8-.78.8-2.07 0-2.86zM5.41 20L4 18.59l7.72-7.72 1.47 1.35L5.41 20z\"/>\n",
              "  </svg>\n",
              "      </button>\n",
              "      \n",
              "  <style>\n",
              "    .colab-df-container {\n",
              "      display:flex;\n",
              "      flex-wrap:wrap;\n",
              "      gap: 12px;\n",
              "    }\n",
              "\n",
              "    .colab-df-convert {\n",
              "      background-color: #E8F0FE;\n",
              "      border: none;\n",
              "      border-radius: 50%;\n",
              "      cursor: pointer;\n",
              "      display: none;\n",
              "      fill: #1967D2;\n",
              "      height: 32px;\n",
              "      padding: 0 0 0 0;\n",
              "      width: 32px;\n",
              "    }\n",
              "\n",
              "    .colab-df-convert:hover {\n",
              "      background-color: #E2EBFA;\n",
              "      box-shadow: 0px 1px 2px rgba(60, 64, 67, 0.3), 0px 1px 3px 1px rgba(60, 64, 67, 0.15);\n",
              "      fill: #174EA6;\n",
              "    }\n",
              "\n",
              "    [theme=dark] .colab-df-convert {\n",
              "      background-color: #3B4455;\n",
              "      fill: #D2E3FC;\n",
              "    }\n",
              "\n",
              "    [theme=dark] .colab-df-convert:hover {\n",
              "      background-color: #434B5C;\n",
              "      box-shadow: 0px 1px 3px 1px rgba(0, 0, 0, 0.15);\n",
              "      filter: drop-shadow(0px 1px 2px rgba(0, 0, 0, 0.3));\n",
              "      fill: #FFFFFF;\n",
              "    }\n",
              "  </style>\n",
              "\n",
              "      <script>\n",
              "        const buttonEl =\n",
              "          document.querySelector('#df-c94b3ff2-0fbf-4811-a941-ba1592e6a308 button.colab-df-convert');\n",
              "        buttonEl.style.display =\n",
              "          google.colab.kernel.accessAllowed ? 'block' : 'none';\n",
              "\n",
              "        async function convertToInteractive(key) {\n",
              "          const element = document.querySelector('#df-c94b3ff2-0fbf-4811-a941-ba1592e6a308');\n",
              "          const dataTable =\n",
              "            await google.colab.kernel.invokeFunction('convertToInteractive',\n",
              "                                                     [key], {});\n",
              "          if (!dataTable) return;\n",
              "\n",
              "          const docLinkHtml = 'Like what you see? Visit the ' +\n",
              "            '<a target=\"_blank\" href=https://colab.research.google.com/notebooks/data_table.ipynb>data table notebook</a>'\n",
              "            + ' to learn more about interactive tables.';\n",
              "          element.innerHTML = '';\n",
              "          dataTable['output_type'] = 'display_data';\n",
              "          await google.colab.output.renderOutput(dataTable, element);\n",
              "          const docLink = document.createElement('div');\n",
              "          docLink.innerHTML = docLinkHtml;\n",
              "          element.appendChild(docLink);\n",
              "        }\n",
              "      </script>\n",
              "    </div>\n",
              "  </div>\n",
              "  "
            ],
            "text/plain": [
              "              연월일  시간       공급량  year  month  day  weekday  A  B  C  D  E  G  H\n",
              "0      2013-01-01   1  2497.129  2013      1    1        1  1  0  0  0  0  0  0\n",
              "1      2013-01-01   2  2363.265  2013      1    1        1  1  0  0  0  0  0  0\n",
              "2      2013-01-01   3  2258.505  2013      1    1        1  1  0  0  0  0  0  0\n",
              "3      2013-01-01   4  2243.969  2013      1    1        1  1  0  0  0  0  0  0\n",
              "4      2013-01-01   5  2344.105  2013      1    1        1  1  0  0  0  0  0  0\n",
              "...           ...  ..       ...   ...    ...  ...      ... .. .. .. .. .. .. ..\n",
              "368083 2018-12-31  20   681.033  2018     12   31        0  0  0  0  0  0  0  1\n",
              "368084 2018-12-31  21   669.961  2018     12   31        0  0  0  0  0  0  0  1\n",
              "368085 2018-12-31  22   657.941  2018     12   31        0  0  0  0  0  0  0  1\n",
              "368086 2018-12-31  23   610.953  2018     12   31        0  0  0  0  0  0  0  1\n",
              "368087 2018-12-31  24   560.896  2018     12   31        0  0  0  0  0  0  0  1\n",
              "\n",
              "[368088 rows x 14 columns]"
            ]
          },
          "metadata": {},
          "execution_count": 38
        }
      ],
      "source": [
        "df_one=pd.get_dummies(df['구분'])\n",
        "df.drop('구분',axis=1,inplace=True)\n",
        "df=pd.concat([df,df_one],axis=1)\n",
        "df"
      ]
    },
    {
      "cell_type": "code",
      "execution_count": null,
      "metadata": {
        "colab": {
          "base_uri": "https://localhost:8080/",
          "height": 287
        },
        "id": "-GraVLrWkNf0",
        "outputId": "afa84024-711b-4eb0-e333-ba9fda9e14d8"
      },
      "outputs": [
        {
          "data": {
            "text/plain": [
              "<matplotlib.axes._subplots.AxesSubplot at 0x7fea319698d0>"
            ]
          },
          "execution_count": 28,
          "metadata": {},
          "output_type": "execute_result"
        },
        {
          "data": {
            "image/png": "[encoded data removed]",
            "text/plain": [
              "<Figure size 432x288 with 2 Axes>"
            ]
          },
          "metadata": {},
          "output_type": "display_data"
        }
      ],
      "source": [
        "sns.heatmap(df.corr())"
      ]
    },
    {
      "cell_type": "code",
      "execution_count": null,
      "metadata": {
        "id": "FzHTulWUk5jW"
      },
      "outputs": [],
      "source": [
        "train_years = [2013,2014,2015,2016,2017]\n",
        "val_years = [2018]"
      ]
    },
    {
      "cell_type": "code",
      "execution_count": null,
      "metadata": {
        "id": "pDCJhSwDlozn"
      },
      "outputs": [],
      "source": [
        "train = df[df['year'].isin(train_years)]\n",
        "val = df[df['year'].isin(val_years)]"
      ]
    },
    {
      "cell_type": "code",
      "execution_count": null,
      "metadata": {
        "colab": {
          "base_uri": "https://localhost:8080/"
        },
        "id": "-YcSzhfslqGd",
        "outputId": "0c59e011-c7ff-47a2-ace8-97404952af97"
      },
      "outputs": [
        {
          "output_type": "stream",
          "name": "stdout",
          "text": [
            "<class 'pandas.core.frame.DataFrame'>\n",
            "Int64Index: 306768 entries, 0 to 306767\n",
            "Data columns (total 14 columns):\n",
            " #   Column   Non-Null Count   Dtype         \n",
            "---  ------   --------------   -----         \n",
            " 0   연월일      306768 non-null  datetime64[ns]\n",
            " 1   시간       306768 non-null  int64         \n",
            " 2   공급량      306768 non-null  float64       \n",
            " 3   year     306768 non-null  int64         \n",
            " 4   month    306768 non-null  int64         \n",
            " 5   day      306768 non-null  int64         \n",
            " 6   weekday  306768 non-null  int64         \n",
            " 7   A        306768 non-null  uint8         \n",
            " 8   B        306768 non-null  uint8         \n",
            " 9   C        306768 non-null  uint8         \n",
            " 10  D        306768 non-null  uint8         \n",
            " 11  E        306768 non-null  uint8         \n",
            " 12  G        306768 non-null  uint8         \n",
            " 13  H        306768 non-null  uint8         \n",
            "dtypes: datetime64[ns](1), float64(1), int64(5), uint8(7)\n",
            "memory usage: 20.8 MB\n"
          ]
        }
      ],
      "source": [
        "train.info()"
      ]
    },
    {
      "cell_type": "code",
      "execution_count": null,
      "metadata": {
        "colab": {
          "base_uri": "https://localhost:8080/"
        },
        "id": "57CJoWDulu_0",
        "outputId": "f628d245-44bd-421e-e19e-e2a8859d3438"
      },
      "outputs": [
        {
          "output_type": "stream",
          "name": "stdout",
          "text": [
            "<class 'pandas.core.frame.DataFrame'>\n",
            "Int64Index: 61320 entries, 306768 to 368087\n",
            "Data columns (total 14 columns):\n",
            " #   Column   Non-Null Count  Dtype         \n",
            "---  ------   --------------  -----         \n",
            " 0   연월일      61320 non-null  datetime64[ns]\n",
            " 1   시간       61320 non-null  int64         \n",
            " 2   공급량      61320 non-null  float64       \n",
            " 3   year     61320 non-null  int64         \n",
            " 4   month    61320 non-null  int64         \n",
            " 5   day      61320 non-null  int64         \n",
            " 6   weekday  61320 non-null  int64         \n",
            " 7   A        61320 non-null  uint8         \n",
            " 8   B        61320 non-null  uint8         \n",
            " 9   C        61320 non-null  uint8         \n",
            " 10  D        61320 non-null  uint8         \n",
            " 11  E        61320 non-null  uint8         \n",
            " 12  G        61320 non-null  uint8         \n",
            " 13  H        61320 non-null  uint8         \n",
            "dtypes: datetime64[ns](1), float64(1), int64(5), uint8(7)\n",
            "memory usage: 4.2 MB\n"
          ]
        }
      ],
      "source": [
        "val.info()"
      ]
    },
    {
      "cell_type": "code",
      "execution_count": null,
      "metadata": {
        "id": "h-FSxh_ml3Wm"
      },
      "outputs": [],
      "source": [
        "x_train=train.drop('공급량',axis=1)\n",
        "y_train=train['공급량']\n",
        "x_test=val.drop('공급량',axis=1)\n",
        "y_test=val['공급량']"
      ]
    },
    {
      "cell_type": "code",
      "execution_count": null,
      "metadata": {
        "colab": {
          "base_uri": "https://localhost:8080/"
        },
        "id": "mSOVXg4mnEFJ",
        "outputId": "45dabf42-eed6-4aae-e731-314abbc8c6d4"
      },
      "outputs": [
        {
          "output_type": "stream",
          "name": "stdout",
          "text": [
            "(306768, 13)\n",
            "(61320, 13)\n",
            "(306768,)\n",
            "(61320,)\n"
          ]
        }
      ],
      "source": [
        "print(x_train.shape)\n",
        "print(x_test.shape)\n",
        "print(y_train.shape)\n",
        "print(y_test.shape)"
      ]
    },
    {
      "cell_type": "code",
      "execution_count": null,
      "metadata": {
        "id": "uM5EwFqeon-N"
      },
      "outputs": [],
      "source": [
        "x_train.drop('연월일',axis=1,inplace=True)\n",
        "x_test.drop('연월일',axis=1,inplace=True)"
      ]
    },
    {
      "cell_type": "code",
      "source": [
        "x_train.head()"
      ],
      "metadata": {
        "colab": {
          "base_uri": "https://localhost:8080/",
          "height": 206
        },
        "id": "glAgJnlZ-jWu",
        "outputId": "48f02074-03c1-4f06-e363-af8135a2c71e"
      },
      "execution_count": null,
      "outputs": [
        {
          "output_type": "execute_result",
          "data": {
            "text/html": [
              "\n",
              "  <div id=\"df-10b72fd5-6beb-4f1f-a41a-41e80a8df05c\">\n",
              "    <div class=\"colab-df-container\">\n",
              "      <div>\n",
              "<style scoped>\n",
              "    .dataframe tbody tr th:only-of-type {\n",
              "        vertical-align: middle;\n",
              "    }\n",
              "\n",
              "    .dataframe tbody tr th {\n",
              "        vertical-align: top;\n",
              "    }\n",
              "\n",
              "    .dataframe thead th {\n",
              "        text-align: right;\n",
              "    }\n",
              "</style>\n",
              "<table border=\"1\" class=\"dataframe\">\n",
              "  <thead>\n",
              "    <tr style=\"text-align: right;\">\n",
              "      <th></th>\n",
              "      <th>시간</th>\n",
              "      <th>구분</th>\n",
              "      <th>year</th>\n",
              "      <th>month</th>\n",
              "      <th>day</th>\n",
              "      <th>weekday</th>\n",
              "    </tr>\n",
              "  </thead>\n",
              "  <tbody>\n",
              "    <tr>\n",
              "      <th>0</th>\n",
              "      <td>1</td>\n",
              "      <td>A</td>\n",
              "      <td>2013</td>\n",
              "      <td>1</td>\n",
              "      <td>1</td>\n",
              "      <td>1</td>\n",
              "    </tr>\n",
              "    <tr>\n",
              "      <th>1</th>\n",
              "      <td>2</td>\n",
              "      <td>A</td>\n",
              "      <td>2013</td>\n",
              "      <td>1</td>\n",
              "      <td>1</td>\n",
              "      <td>1</td>\n",
              "    </tr>\n",
              "    <tr>\n",
              "      <th>2</th>\n",
              "      <td>3</td>\n",
              "      <td>A</td>\n",
              "      <td>2013</td>\n",
              "      <td>1</td>\n",
              "      <td>1</td>\n",
              "      <td>1</td>\n",
              "    </tr>\n",
              "    <tr>\n",
              "      <th>3</th>\n",
              "      <td>4</td>\n",
              "      <td>A</td>\n",
              "      <td>2013</td>\n",
              "      <td>1</td>\n",
              "      <td>1</td>\n",
              "      <td>1</td>\n",
              "    </tr>\n",
              "    <tr>\n",
              "      <th>4</th>\n",
              "      <td>5</td>\n",
              "      <td>A</td>\n",
              "      <td>2013</td>\n",
              "      <td>1</td>\n",
              "      <td>1</td>\n",
              "      <td>1</td>\n",
              "    </tr>\n",
              "  </tbody>\n",
              "</table>\n",
              "</div>\n",
              "      <button class=\"colab-df-convert\" onclick=\"convertToInteractive('df-10b72fd5-6beb-4f1f-a41a-41e80a8df05c')\"\n",
              "              title=\"Convert this dataframe to an interactive table.\"\n",
              "              style=\"display:none;\">\n",
              "        \n",
              "  <svg xmlns=\"http://www.w3.org/2000/svg\" height=\"24px\"viewBox=\"0 0 24 24\"\n",
              "       width=\"24px\">\n",
              "    <path d=\"M0 0h24v24H0V0z\" fill=\"none\"/>\n",
              "    <path d=\"M18.56 5.44l.94 2.06.94-2.06 2.06-.94-2.06-.94-.94-2.06-.94 2.06-2.06.94zm-11 1L8.5 8.5l.94-2.06 2.06-.94-2.06-.94L8.5 2.5l-.94 2.06-2.06.94zm10 10l.94 2.06.94-2.06 2.06-.94-2.06-.94-.94-2.06-.94 2.06-2.06.94z\"/><path d=\"M17.41 7.96l-1.37-1.37c-.4-.4-.92-.59-1.43-.59-.52 0-1.04.2-1.43.59L10.3 9.45l-7.72 7.72c-.78.78-.78 2.05 0 2.83L4 21.41c.39.39.9.59 1.41.59.51 0 1.02-.2 1.41-.59l7.78-7.78 2.81-2.81c.8-.78.8-2.07 0-2.86zM5.41 20L4 18.59l7.72-7.72 1.47 1.35L5.41 20z\"/>\n",
              "  </svg>\n",
              "      </button>\n",
              "      \n",
              "  <style>\n",
              "    .colab-df-container {\n",
              "      display:flex;\n",
              "      flex-wrap:wrap;\n",
              "      gap: 12px;\n",
              "    }\n",
              "\n",
              "    .colab-df-convert {\n",
              "      background-color: #E8F0FE;\n",
              "      border: none;\n",
              "      border-radius: 50%;\n",
              "      cursor: pointer;\n",
              "      display: none;\n",
              "      fill: #1967D2;\n",
              "      height: 32px;\n",
              "      padding: 0 0 0 0;\n",
              "      width: 32px;\n",
              "    }\n",
              "\n",
              "    .colab-df-convert:hover {\n",
              "      background-color: #E2EBFA;\n",
              "      box-shadow: 0px 1px 2px rgba(60, 64, 67, 0.3), 0px 1px 3px 1px rgba(60, 64, 67, 0.15);\n",
              "      fill: #174EA6;\n",
              "    }\n",
              "\n",
              "    [theme=dark] .colab-df-convert {\n",
              "      background-color: #3B4455;\n",
              "      fill: #D2E3FC;\n",
              "    }\n",
              "\n",
              "    [theme=dark] .colab-df-convert:hover {\n",
              "      background-color: #434B5C;\n",
              "      box-shadow: 0px 1px 3px 1px rgba(0, 0, 0, 0.15);\n",
              "      filter: drop-shadow(0px 1px 2px rgba(0, 0, 0, 0.3));\n",
              "      fill: #FFFFFF;\n",
              "    }\n",
              "  </style>\n",
              "\n",
              "      <script>\n",
              "        const buttonEl =\n",
              "          document.querySelector('#df-10b72fd5-6beb-4f1f-a41a-41e80a8df05c button.colab-df-convert');\n",
              "        buttonEl.style.display =\n",
              "          google.colab.kernel.accessAllowed ? 'block' : 'none';\n",
              "\n",
              "        async function convertToInteractive(key) {\n",
              "          const element = document.querySelector('#df-10b72fd5-6beb-4f1f-a41a-41e80a8df05c');\n",
              "          const dataTable =\n",
              "            await google.colab.kernel.invokeFunction('convertToInteractive',\n",
              "                                                     [key], {});\n",
              "          if (!dataTable) return;\n",
              "\n",
              "          const docLinkHtml = 'Like what you see? Visit the ' +\n",
              "            '<a target=\"_blank\" href=https://colab.research.google.com/notebooks/data_table.ipynb>data table notebook</a>'\n",
              "            + ' to learn more about interactive tables.';\n",
              "          element.innerHTML = '';\n",
              "          dataTable['output_type'] = 'display_data';\n",
              "          await google.colab.output.renderOutput(dataTable, element);\n",
              "          const docLink = document.createElement('div');\n",
              "          docLink.innerHTML = docLinkHtml;\n",
              "          element.appendChild(docLink);\n",
              "        }\n",
              "      </script>\n",
              "    </div>\n",
              "  </div>\n",
              "  "
            ],
            "text/plain": [
              "   시간 구분  year  month  day  weekday\n",
              "0   1  A  2013      1    1        1\n",
              "1   2  A  2013      1    1        1\n",
              "2   3  A  2013      1    1        1\n",
              "3   4  A  2013      1    1        1\n",
              "4   5  A  2013      1    1        1"
            ]
          },
          "metadata": {},
          "execution_count": 34
        }
      ]
    },
    {
      "cell_type": "markdown",
      "source": [
        "## pycaret"
      ],
      "metadata": {
        "id": "gl5J3tGk6i1L"
      }
    },
    {
      "cell_type": "code",
      "execution_count": null,
      "metadata": {
        "colab": {
          "base_uri": "https://localhost:8080/"
        },
        "id": "wF43aVf91oge",
        "outputId": "1a18f9cb-c6f6-4749-e497-ab8d62ee1ad8"
      },
      "outputs": [
        {
          "name": "stdout",
          "output_type": "stream",
          "text": [
            "Requirement already satisfied: numpy in /usr/local/lib/python3.7/dist-packages (1.19.5)\n"
          ]
        }
      ],
      "source": [
        "import sys\n",
        "!{sys.executable} -m pip install numpy"
      ]
    },
    {
      "cell_type": "code",
      "execution_count": null,
      "metadata": {
        "id": "0Tv-loYq2ODk"
      },
      "outputs": [],
      "source": [
        "df.drop('연월일',axis=1,inplace=True)"
      ]
    },
    {
      "cell_type": "code",
      "execution_count": null,
      "metadata": {
        "colab": {
          "base_uri": "https://localhost:8080/",
          "height": 423
        },
        "id": "UKYDGHkN2OGB",
        "outputId": "4580f250-2fb6-47ba-86f8-fba74b093f40"
      },
      "outputs": [
        {
          "data": {
            "text/html": [
              "\n",
              "  <div id=\"df-4895a3c2-0220-4eba-bf05-22e274e17f03\">\n",
              "    <div class=\"colab-df-container\">\n",
              "      <div>\n",
              "<style scoped>\n",
              "    .dataframe tbody tr th:only-of-type {\n",
              "        vertical-align: middle;\n",
              "    }\n",
              "\n",
              "    .dataframe tbody tr th {\n",
              "        vertical-align: top;\n",
              "    }\n",
              "\n",
              "    .dataframe thead th {\n",
              "        text-align: right;\n",
              "    }\n",
              "</style>\n",
              "<table border=\"1\" class=\"dataframe\">\n",
              "  <thead>\n",
              "    <tr style=\"text-align: right;\">\n",
              "      <th></th>\n",
              "      <th>시간</th>\n",
              "      <th>공급량</th>\n",
              "      <th>year</th>\n",
              "      <th>month</th>\n",
              "      <th>day</th>\n",
              "      <th>weekday</th>\n",
              "      <th>A</th>\n",
              "      <th>B</th>\n",
              "      <th>C</th>\n",
              "      <th>D</th>\n",
              "      <th>E</th>\n",
              "      <th>G</th>\n",
              "      <th>H</th>\n",
              "    </tr>\n",
              "  </thead>\n",
              "  <tbody>\n",
              "    <tr>\n",
              "      <th>0</th>\n",
              "      <td>1</td>\n",
              "      <td>2497.129</td>\n",
              "      <td>2013</td>\n",
              "      <td>1</td>\n",
              "      <td>1</td>\n",
              "      <td>1</td>\n",
              "      <td>1</td>\n",
              "      <td>0</td>\n",
              "      <td>0</td>\n",
              "      <td>0</td>\n",
              "      <td>0</td>\n",
              "      <td>0</td>\n",
              "      <td>0</td>\n",
              "    </tr>\n",
              "    <tr>\n",
              "      <th>1</th>\n",
              "      <td>2</td>\n",
              "      <td>2363.265</td>\n",
              "      <td>2013</td>\n",
              "      <td>1</td>\n",
              "      <td>1</td>\n",
              "      <td>1</td>\n",
              "      <td>1</td>\n",
              "      <td>0</td>\n",
              "      <td>0</td>\n",
              "      <td>0</td>\n",
              "      <td>0</td>\n",
              "      <td>0</td>\n",
              "      <td>0</td>\n",
              "    </tr>\n",
              "    <tr>\n",
              "      <th>2</th>\n",
              "      <td>3</td>\n",
              "      <td>2258.505</td>\n",
              "      <td>2013</td>\n",
              "      <td>1</td>\n",
              "      <td>1</td>\n",
              "      <td>1</td>\n",
              "      <td>1</td>\n",
              "      <td>0</td>\n",
              "      <td>0</td>\n",
              "      <td>0</td>\n",
              "      <td>0</td>\n",
              "      <td>0</td>\n",
              "      <td>0</td>\n",
              "    </tr>\n",
              "    <tr>\n",
              "      <th>3</th>\n",
              "      <td>4</td>\n",
              "      <td>2243.969</td>\n",
              "      <td>2013</td>\n",
              "      <td>1</td>\n",
              "      <td>1</td>\n",
              "      <td>1</td>\n",
              "      <td>1</td>\n",
              "      <td>0</td>\n",
              "      <td>0</td>\n",
              "      <td>0</td>\n",
              "      <td>0</td>\n",
              "      <td>0</td>\n",
              "      <td>0</td>\n",
              "    </tr>\n",
              "    <tr>\n",
              "      <th>4</th>\n",
              "      <td>5</td>\n",
              "      <td>2344.105</td>\n",
              "      <td>2013</td>\n",
              "      <td>1</td>\n",
              "      <td>1</td>\n",
              "      <td>1</td>\n",
              "      <td>1</td>\n",
              "      <td>0</td>\n",
              "      <td>0</td>\n",
              "      <td>0</td>\n",
              "      <td>0</td>\n",
              "      <td>0</td>\n",
              "      <td>0</td>\n",
              "    </tr>\n",
              "    <tr>\n",
              "      <th>...</th>\n",
              "      <td>...</td>\n",
              "      <td>...</td>\n",
              "      <td>...</td>\n",
              "      <td>...</td>\n",
              "      <td>...</td>\n",
              "      <td>...</td>\n",
              "      <td>...</td>\n",
              "      <td>...</td>\n",
              "      <td>...</td>\n",
              "      <td>...</td>\n",
              "      <td>...</td>\n",
              "      <td>...</td>\n",
              "      <td>...</td>\n",
              "    </tr>\n",
              "    <tr>\n",
              "      <th>368083</th>\n",
              "      <td>20</td>\n",
              "      <td>681.033</td>\n",
              "      <td>2018</td>\n",
              "      <td>12</td>\n",
              "      <td>31</td>\n",
              "      <td>0</td>\n",
              "      <td>0</td>\n",
              "      <td>0</td>\n",
              "      <td>0</td>\n",
              "      <td>0</td>\n",
              "      <td>0</td>\n",
              "      <td>0</td>\n",
              "      <td>1</td>\n",
              "    </tr>\n",
              "    <tr>\n",
              "      <th>368084</th>\n",
              "      <td>21</td>\n",
              "      <td>669.961</td>\n",
              "      <td>2018</td>\n",
              "      <td>12</td>\n",
              "      <td>31</td>\n",
              "      <td>0</td>\n",
              "      <td>0</td>\n",
              "      <td>0</td>\n",
              "      <td>0</td>\n",
              "      <td>0</td>\n",
              "      <td>0</td>\n",
              "      <td>0</td>\n",
              "      <td>1</td>\n",
              "    </tr>\n",
              "    <tr>\n",
              "      <th>368085</th>\n",
              "      <td>22</td>\n",
              "      <td>657.941</td>\n",
              "      <td>2018</td>\n",
              "      <td>12</td>\n",
              "      <td>31</td>\n",
              "      <td>0</td>\n",
              "      <td>0</td>\n",
              "      <td>0</td>\n",
              "      <td>0</td>\n",
              "      <td>0</td>\n",
              "      <td>0</td>\n",
              "      <td>0</td>\n",
              "      <td>1</td>\n",
              "    </tr>\n",
              "    <tr>\n",
              "      <th>368086</th>\n",
              "      <td>23</td>\n",
              "      <td>610.953</td>\n",
              "      <td>2018</td>\n",
              "      <td>12</td>\n",
              "      <td>31</td>\n",
              "      <td>0</td>\n",
              "      <td>0</td>\n",
              "      <td>0</td>\n",
              "      <td>0</td>\n",
              "      <td>0</td>\n",
              "      <td>0</td>\n",
              "      <td>0</td>\n",
              "      <td>1</td>\n",
              "    </tr>\n",
              "    <tr>\n",
              "      <th>368087</th>\n",
              "      <td>24</td>\n",
              "      <td>560.896</td>\n",
              "      <td>2018</td>\n",
              "      <td>12</td>\n",
              "      <td>31</td>\n",
              "      <td>0</td>\n",
              "      <td>0</td>\n",
              "      <td>0</td>\n",
              "      <td>0</td>\n",
              "      <td>0</td>\n",
              "      <td>0</td>\n",
              "      <td>0</td>\n",
              "      <td>1</td>\n",
              "    </tr>\n",
              "  </tbody>\n",
              "</table>\n",
              "<p>368088 rows × 13 columns</p>\n",
              "</div>\n",
              "      <button class=\"colab-df-convert\" onclick=\"convertToInteractive('df-4895a3c2-0220-4eba-bf05-22e274e17f03')\"\n",
              "              title=\"Convert this dataframe to an interactive table.\"\n",
              "              style=\"display:none;\">\n",
              "        \n",
              "  <svg xmlns=\"http://www.w3.org/2000/svg\" height=\"24px\"viewBox=\"0 0 24 24\"\n",
              "       width=\"24px\">\n",
              "    <path d=\"M0 0h24v24H0V0z\" fill=\"none\"/>\n",
              "    <path d=\"M18.56 5.44l.94 2.06.94-2.06 2.06-.94-2.06-.94-.94-2.06-.94 2.06-2.06.94zm-11 1L8.5 8.5l.94-2.06 2.06-.94-2.06-.94L8.5 2.5l-.94 2.06-2.06.94zm10 10l.94 2.06.94-2.06 2.06-.94-2.06-.94-.94-2.06-.94 2.06-2.06.94z\"/><path d=\"M17.41 7.96l-1.37-1.37c-.4-.4-.92-.59-1.43-.59-.52 0-1.04.2-1.43.59L10.3 9.45l-7.72 7.72c-.78.78-.78 2.05 0 2.83L4 21.41c.39.39.9.59 1.41.59.51 0 1.02-.2 1.41-.59l7.78-7.78 2.81-2.81c.8-.78.8-2.07 0-2.86zM5.41 20L4 18.59l7.72-7.72 1.47 1.35L5.41 20z\"/>\n",
              "  </svg>\n",
              "      </button>\n",
              "      \n",
              "  <style>\n",
              "    .colab-df-container {\n",
              "      display:flex;\n",
              "      flex-wrap:wrap;\n",
              "      gap: 12px;\n",
              "    }\n",
              "\n",
              "    .colab-df-convert {\n",
              "      background-color: #E8F0FE;\n",
              "      border: none;\n",
              "      border-radius: 50%;\n",
              "      cursor: pointer;\n",
              "      display: none;\n",
              "      fill: #1967D2;\n",
              "      height: 32px;\n",
              "      padding: 0 0 0 0;\n",
              "      width: 32px;\n",
              "    }\n",
              "\n",
              "    .colab-df-convert:hover {\n",
              "      background-color: #E2EBFA;\n",
              "      box-shadow: 0px 1px 2px rgba(60, 64, 67, 0.3), 0px 1px 3px 1px rgba(60, 64, 67, 0.15);\n",
              "      fill: #174EA6;\n",
              "    }\n",
              "\n",
              "    [theme=dark] .colab-df-convert {\n",
              "      background-color: #3B4455;\n",
              "      fill: #D2E3FC;\n",
              "    }\n",
              "\n",
              "    [theme=dark] .colab-df-convert:hover {\n",
              "      background-color: #434B5C;\n",
              "      box-shadow: 0px 1px 3px 1px rgba(0, 0, 0, 0.15);\n",
              "      filter: drop-shadow(0px 1px 2px rgba(0, 0, 0, 0.3));\n",
              "      fill: #FFFFFF;\n",
              "    }\n",
              "  </style>\n",
              "\n",
              "      <script>\n",
              "        const buttonEl =\n",
              "          document.querySelector('#df-4895a3c2-0220-4eba-bf05-22e274e17f03 button.colab-df-convert');\n",
              "        buttonEl.style.display =\n",
              "          google.colab.kernel.accessAllowed ? 'block' : 'none';\n",
              "\n",
              "        async function convertToInteractive(key) {\n",
              "          const element = document.querySelector('#df-4895a3c2-0220-4eba-bf05-22e274e17f03');\n",
              "          const dataTable =\n",
              "            await google.colab.kernel.invokeFunction('convertToInteractive',\n",
              "                                                     [key], {});\n",
              "          if (!dataTable) return;\n",
              "\n",
              "          const docLinkHtml = 'Like what you see? Visit the ' +\n",
              "            '<a target=\"_blank\" href=https://colab.research.google.com/notebooks/data_table.ipynb>data table notebook</a>'\n",
              "            + ' to learn more about interactive tables.';\n",
              "          element.innerHTML = '';\n",
              "          dataTable['output_type'] = 'display_data';\n",
              "          await google.colab.output.renderOutput(dataTable, element);\n",
              "          const docLink = document.createElement('div');\n",
              "          docLink.innerHTML = docLinkHtml;\n",
              "          element.appendChild(docLink);\n",
              "        }\n",
              "      </script>\n",
              "    </div>\n",
              "  </div>\n",
              "  "
            ],
            "text/plain": [
              "        시간       공급량  year  month  day  weekday  A  B  C  D  E  G  H\n",
              "0        1  2497.129  2013      1    1        1  1  0  0  0  0  0  0\n",
              "1        2  2363.265  2013      1    1        1  1  0  0  0  0  0  0\n",
              "2        3  2258.505  2013      1    1        1  1  0  0  0  0  0  0\n",
              "3        4  2243.969  2013      1    1        1  1  0  0  0  0  0  0\n",
              "4        5  2344.105  2013      1    1        1  1  0  0  0  0  0  0\n",
              "...     ..       ...   ...    ...  ...      ... .. .. .. .. .. .. ..\n",
              "368083  20   681.033  2018     12   31        0  0  0  0  0  0  0  1\n",
              "368084  21   669.961  2018     12   31        0  0  0  0  0  0  0  1\n",
              "368085  22   657.941  2018     12   31        0  0  0  0  0  0  0  1\n",
              "368086  23   610.953  2018     12   31        0  0  0  0  0  0  0  1\n",
              "368087  24   560.896  2018     12   31        0  0  0  0  0  0  0  1\n",
              "\n",
              "[368088 rows x 13 columns]"
            ]
          },
          "execution_count": 29,
          "metadata": {},
          "output_type": "execute_result"
        }
      ],
      "source": [
        "df"
      ]
    },
    {
      "cell_type": "code",
      "execution_count": null,
      "metadata": {
        "colab": {
          "base_uri": "https://localhost:8080/",
          "height": 1000
        },
        "id": "0fNzicYX0_g3",
        "outputId": "da2f8232-d896-4e4a-fb63-8407ab94f5d3"
      },
      "outputs": [
        {
          "name": "stdout",
          "output_type": "stream",
          "text": [
            "Collecting pycaret\n",
            "  Downloading pycaret-2.3.6-py3-none-any.whl (301 kB)\n",
            "\u001b[K     |████████████████████████████████| 301 kB 6.6 MB/s \n",
            "\u001b[?25hRequirement already satisfied: seaborn in /usr/local/lib/python3.7/dist-packages (from pycaret) (0.11.2)\n",
            "Requirement already satisfied: wordcloud in /usr/local/lib/python3.7/dist-packages (from pycaret) (1.5.0)\n",
            "Requirement already satisfied: matplotlib in /usr/local/lib/python3.7/dist-packages (from pycaret) (3.2.2)\n",
            "Requirement already satisfied: nltk in /usr/local/lib/python3.7/dist-packages (from pycaret) (3.2.5)\n",
            "Requirement already satisfied: cufflinks>=0.17.0 in /usr/local/lib/python3.7/dist-packages (from pycaret) (0.17.3)\n",
            "Requirement already satisfied: textblob in /usr/local/lib/python3.7/dist-packages (from pycaret) (0.15.3)\n",
            "Requirement already satisfied: plotly>=4.4.1 in /usr/local/lib/python3.7/dist-packages (from pycaret) (5.5.0)\n",
            "Collecting umap-learn\n",
            "  Downloading umap-learn-0.5.2.tar.gz (86 kB)\n",
            "\u001b[K     |████████████████████████████████| 86 kB 5.0 MB/s \n",
            "\u001b[?25hCollecting pyod\n",
            "  Downloading pyod-0.9.7.tar.gz (114 kB)\n",
            "\u001b[K     |████████████████████████████████| 114 kB 16.6 MB/s \n",
            "\u001b[?25hRequirement already satisfied: IPython in /usr/local/lib/python3.7/dist-packages (from pycaret) (5.5.0)\n",
            "Requirement already satisfied: gensim<4.0.0 in /usr/local/lib/python3.7/dist-packages (from pycaret) (3.6.0)\n",
            "Requirement already satisfied: ipywidgets in /usr/local/lib/python3.7/dist-packages (from pycaret) (7.6.5)\n",
            "Collecting imbalanced-learn==0.7.0\n",
            "  Downloading imbalanced_learn-0.7.0-py3-none-any.whl (167 kB)\n",
            "\u001b[K     |████████████████████████████████| 167 kB 16.4 MB/s \n",
            "\u001b[?25hCollecting kmodes>=0.10.1\n",
            "  Downloading kmodes-0.11.1-py2.py3-none-any.whl (19 kB)\n",
            "Requirement already satisfied: joblib in /usr/local/lib/python3.7/dist-packages (from pycaret) (1.1.0)\n",
            "Collecting mlxtend>=0.17.0\n",
            "  Downloading mlxtend-0.19.0-py2.py3-none-any.whl (1.3 MB)\n",
            "\u001b[K     |████████████████████████████████| 1.3 MB 17.0 MB/s \n",
            "\u001b[?25hCollecting pandas-profiling>=2.8.0\n",
            "  Downloading pandas_profiling-3.1.0-py2.py3-none-any.whl (261 kB)\n",
            "\u001b[K     |████████████████████████████████| 261 kB 38.2 MB/s \n",
            "\u001b[?25hRequirement already satisfied: pyyaml<6.0.0 in /usr/local/lib/python3.7/dist-packages (from pycaret) (3.13)\n",
            "Collecting scikit-learn==0.23.2\n",
            "  Downloading scikit_learn-0.23.2-cp37-cp37m-manylinux1_x86_64.whl (6.8 MB)\n",
            "\u001b[K     |████████████████████████████████| 6.8 MB 29.4 MB/s \n",
            "\u001b[?25hCollecting mlflow\n",
            "  Downloading mlflow-1.23.1-py3-none-any.whl (15.6 MB)\n",
            "\u001b[K     |████████████████████████████████| 15.6 MB 57.5 MB/s \n",
            "\u001b[?25hRequirement already satisfied: spacy<2.4.0 in /usr/local/lib/python3.7/dist-packages (from pycaret) (2.2.4)\n",
            "Requirement already satisfied: scipy<=1.5.4 in /usr/local/lib/python3.7/dist-packages (from pycaret) (1.4.1)\n",
            "Requirement already satisfied: pandas in /usr/local/lib/python3.7/dist-packages (from pycaret) (1.3.5)\n",
            "Collecting pyLDAvis\n",
            "  Downloading pyLDAvis-3.3.1.tar.gz (1.7 MB)\n",
            "\u001b[K     |████████████████████████████████| 1.7 MB 51.2 MB/s \n",
            "\u001b[?25h  Installing build dependencies ... \u001b[?25l\u001b[?25hdone\n",
            "  Getting requirements to build wheel ... \u001b[?25l\u001b[?25hdone\n",
            "  Installing backend dependencies ... \u001b[?25l\u001b[?25hdone\n",
            "    Preparing wheel metadata ... \u001b[?25l\u001b[?25hdone\n",
            "Collecting lightgbm>=2.3.1\n",
            "  Downloading lightgbm-3.3.2-py3-none-manylinux1_x86_64.whl (2.0 MB)\n",
            "\u001b[K     |████████████████████████████████| 2.0 MB 53.7 MB/s \n",
            "\u001b[?25hCollecting Boruta\n",
            "  Downloading Boruta-0.3-py3-none-any.whl (56 kB)\n",
            "\u001b[K     |████████████████████████████████| 56 kB 5.8 MB/s \n",
            "\u001b[?25hCollecting scikit-plot\n",
            "  Downloading scikit_plot-0.3.7-py3-none-any.whl (33 kB)\n",
            "Collecting yellowbrick>=1.0.1\n",
            "  Downloading yellowbrick-1.4-py3-none-any.whl (274 kB)\n",
            "\u001b[K     |████████████████████████████████| 274 kB 77.7 MB/s \n",
            "\u001b[?25hRequirement already satisfied: numpy>=1.13.3 in /usr/local/lib/python3.7/dist-packages (from imbalanced-learn==0.7.0->pycaret) (1.21.5)\n",
            "Requirement already satisfied: threadpoolctl>=2.0.0 in /usr/local/lib/python3.7/dist-packages (from scikit-learn==0.23.2->pycaret) (3.1.0)\n",
            "Requirement already satisfied: setuptools>=34.4.1 in /usr/local/lib/python3.7/dist-packages (from cufflinks>=0.17.0->pycaret) (57.4.0)\n",
            "Requirement already satisfied: colorlover>=0.2.1 in /usr/local/lib/python3.7/dist-packages (from cufflinks>=0.17.0->pycaret) (0.3.0)\n",
            "Requirement already satisfied: six>=1.9.0 in /usr/local/lib/python3.7/dist-packages (from cufflinks>=0.17.0->pycaret) (1.15.0)\n",
            "Requirement already satisfied: smart-open>=1.2.1 in /usr/local/lib/python3.7/dist-packages (from gensim<4.0.0->pycaret) (5.2.1)\n",
            "Requirement already satisfied: prompt-toolkit<2.0.0,>=1.0.4 in /usr/local/lib/python3.7/dist-packages (from IPython->pycaret) (1.0.18)\n",
            "Requirement already satisfied: pexpect in /usr/local/lib/python3.7/dist-packages (from IPython->pycaret) (4.8.0)\n",
            "Requirement already satisfied: pickleshare in /usr/local/lib/python3.7/dist-packages (from IPython->pycaret) (0.7.5)\n",
            "Requirement already satisfied: pygments in /usr/local/lib/python3.7/dist-packages (from IPython->pycaret) (2.6.1)\n",
            "Requirement already satisfied: simplegeneric>0.8 in /usr/local/lib/python3.7/dist-packages (from IPython->pycaret) (0.8.1)\n",
            "Requirement already satisfied: traitlets>=4.2 in /usr/local/lib/python3.7/dist-packages (from IPython->pycaret) (5.1.1)\n",
            "Requirement already satisfied: decorator in /usr/local/lib/python3.7/dist-packages (from IPython->pycaret) (4.4.2)\n",
            "Requirement already satisfied: widgetsnbextension~=3.5.0 in /usr/local/lib/python3.7/dist-packages (from ipywidgets->pycaret) (3.5.2)\n",
            "Requirement already satisfied: jupyterlab-widgets>=1.0.0 in /usr/local/lib/python3.7/dist-packages (from ipywidgets->pycaret) (1.0.2)\n",
            "Requirement already satisfied: ipykernel>=4.5.1 in /usr/local/lib/python3.7/dist-packages (from ipywidgets->pycaret) (4.10.1)\n",
            "Requirement already satisfied: nbformat>=4.2.0 in /usr/local/lib/python3.7/dist-packages (from ipywidgets->pycaret) (5.1.3)\n",
            "Requirement already satisfied: ipython-genutils~=0.2.0 in /usr/local/lib/python3.7/dist-packages (from ipywidgets->pycaret) (0.2.0)\n",
            "Requirement already satisfied: tornado>=4.0 in /usr/local/lib/python3.7/dist-packages (from ipykernel>=4.5.1->ipywidgets->pycaret) (5.1.1)\n",
            "Requirement already satisfied: jupyter-client in /usr/local/lib/python3.7/dist-packages (from ipykernel>=4.5.1->ipywidgets->pycaret) (5.3.5)\n",
            "Requirement already satisfied: wheel in /usr/local/lib/python3.7/dist-packages (from lightgbm>=2.3.1->pycaret) (0.37.1)\n",
            "Requirement already satisfied: kiwisolver>=1.0.1 in /usr/local/lib/python3.7/dist-packages (from matplotlib->pycaret) (1.3.2)\n",
            "Requirement already satisfied: pyparsing!=2.0.4,!=2.1.2,!=2.1.6,>=2.0.1 in /usr/local/lib/python3.7/dist-packages (from matplotlib->pycaret) (3.0.7)\n",
            "Requirement already satisfied: cycler>=0.10 in /usr/local/lib/python3.7/dist-packages (from matplotlib->pycaret) (0.11.0)\n",
            "Requirement already satisfied: python-dateutil>=2.1 in /usr/local/lib/python3.7/dist-packages (from matplotlib->pycaret) (2.8.2)\n",
            "Requirement already satisfied: jsonschema!=2.5.0,>=2.4 in /usr/local/lib/python3.7/dist-packages (from nbformat>=4.2.0->ipywidgets->pycaret) (4.3.3)\n",
            "Requirement already satisfied: jupyter-core in /usr/local/lib/python3.7/dist-packages (from nbformat>=4.2.0->ipywidgets->pycaret) (4.9.1)\n",
            "Requirement already satisfied: pyrsistent!=0.17.0,!=0.17.1,!=0.17.2,>=0.14.0 in /usr/local/lib/python3.7/dist-packages (from jsonschema!=2.5.0,>=2.4->nbformat>=4.2.0->ipywidgets->pycaret) (0.18.1)\n",
            "Requirement already satisfied: importlib-resources>=1.4.0 in /usr/local/lib/python3.7/dist-packages (from jsonschema!=2.5.0,>=2.4->nbformat>=4.2.0->ipywidgets->pycaret) (5.4.0)\n",
            "Requirement already satisfied: typing-extensions in /usr/local/lib/python3.7/dist-packages (from jsonschema!=2.5.0,>=2.4->nbformat>=4.2.0->ipywidgets->pycaret) (3.10.0.2)\n",
            "Requirement already satisfied: attrs>=17.4.0 in /usr/local/lib/python3.7/dist-packages (from jsonschema!=2.5.0,>=2.4->nbformat>=4.2.0->ipywidgets->pycaret) (21.4.0)\n",
            "Requirement already satisfied: importlib-metadata in /usr/local/lib/python3.7/dist-packages (from jsonschema!=2.5.0,>=2.4->nbformat>=4.2.0->ipywidgets->pycaret) (4.11.0)\n",
            "Requirement already satisfied: zipp>=3.1.0 in /usr/local/lib/python3.7/dist-packages (from importlib-resources>=1.4.0->jsonschema!=2.5.0,>=2.4->nbformat>=4.2.0->ipywidgets->pycaret) (3.7.0)\n",
            "Requirement already satisfied: pytz>=2017.3 in /usr/local/lib/python3.7/dist-packages (from pandas->pycaret) (2018.9)\n",
            "Collecting visions[type_image_path]==0.7.4\n",
            "  Downloading visions-0.7.4-py3-none-any.whl (102 kB)\n",
            "\u001b[K     |████████████████████████████████| 102 kB 13.8 MB/s \n",
            "\u001b[?25hRequirement already satisfied: markupsafe~=2.0.1 in /usr/local/lib/python3.7/dist-packages (from pandas-profiling>=2.8.0->pycaret) (2.0.1)\n",
            "Requirement already satisfied: jinja2>=2.11.1 in /usr/local/lib/python3.7/dist-packages (from pandas-profiling>=2.8.0->pycaret) (2.11.3)\n",
            "Collecting htmlmin>=0.1.12\n",
            "  Downloading htmlmin-0.1.12.tar.gz (19 kB)\n",
            "Collecting phik>=0.11.1\n",
            "  Downloading phik-0.12.0-cp37-cp37m-manylinux2010_x86_64.whl (675 kB)\n",
            "\u001b[K     |████████████████████████████████| 675 kB 45.4 MB/s \n",
            "\u001b[?25hCollecting tangled-up-in-unicode==0.1.0\n",
            "  Downloading tangled_up_in_unicode-0.1.0-py3-none-any.whl (3.1 MB)\n",
            "\u001b[K     |████████████████████████████████| 3.1 MB 48.3 MB/s \n",
            "\u001b[?25hCollecting requests>=2.24.0\n",
            "  Downloading requests-2.27.1-py2.py3-none-any.whl (63 kB)\n",
            "\u001b[K     |████████████████████████████████| 63 kB 1.8 MB/s \n",
            "\u001b[?25hCollecting joblib\n",
            "  Downloading joblib-1.0.1-py3-none-any.whl (303 kB)\n",
            "\u001b[K     |████████████████████████████████| 303 kB 58.4 MB/s \n",
            "\u001b[?25hCollecting pydantic>=1.8.1\n",
            "  Downloading pydantic-1.9.0-cp37-cp37m-manylinux_2_17_x86_64.manylinux2014_x86_64.whl (10.9 MB)\n",
            "\u001b[K     |████████████████████████████████| 10.9 MB 50.6 MB/s \n",
            "\u001b[?25hRequirement already satisfied: missingno>=0.4.2 in /usr/local/lib/python3.7/dist-packages (from pandas-profiling>=2.8.0->pycaret) (0.5.0)\n",
            "Requirement already satisfied: tqdm>=4.48.2 in /usr/local/lib/python3.7/dist-packages (from pandas-profiling>=2.8.0->pycaret) (4.62.3)\n",
            "Collecting pyyaml<6.0.0\n",
            "  Downloading PyYAML-5.4.1-cp37-cp37m-manylinux1_x86_64.whl (636 kB)\n",
            "\u001b[K     |████████████████████████████████| 636 kB 56.7 MB/s \n",
            "\u001b[?25hCollecting multimethod>=1.4\n",
            "  Downloading multimethod-1.7-py3-none-any.whl (9.5 kB)\n",
            "Requirement already satisfied: networkx>=2.4 in /usr/local/lib/python3.7/dist-packages (from visions[type_image_path]==0.7.4->pandas-profiling>=2.8.0->pycaret) (2.6.3)\n",
            "Collecting imagehash\n",
            "  Downloading ImageHash-4.2.1.tar.gz (812 kB)\n",
            "\u001b[K     |████████████████████████████████| 812 kB 41.3 MB/s \n",
            "\u001b[?25hRequirement already satisfied: Pillow in /usr/local/lib/python3.7/dist-packages (from visions[type_image_path]==0.7.4->pandas-profiling>=2.8.0->pycaret) (7.1.2)\n",
            "Collecting scipy<=1.5.4\n",
            "  Downloading scipy-1.5.4-cp37-cp37m-manylinux1_x86_64.whl (25.9 MB)\n",
            "\u001b[K     |████████████████████████████████| 25.9 MB 1.2 MB/s \n",
            "\u001b[?25hRequirement already satisfied: tenacity>=6.2.0 in /usr/local/lib/python3.7/dist-packages (from plotly>=4.4.1->pycaret) (8.0.1)\n",
            "Requirement already satisfied: wcwidth in /usr/local/lib/python3.7/dist-packages (from prompt-toolkit<2.0.0,>=1.0.4->IPython->pycaret) (0.2.5)\n",
            "Requirement already satisfied: charset-normalizer~=2.0.0 in /usr/local/lib/python3.7/dist-packages (from requests>=2.24.0->pandas-profiling>=2.8.0->pycaret) (2.0.11)\n",
            "Requirement already satisfied: idna<4,>=2.5 in /usr/local/lib/python3.7/dist-packages (from requests>=2.24.0->pandas-profiling>=2.8.0->pycaret) (2.10)\n",
            "Requirement already satisfied: certifi>=2017.4.17 in /usr/local/lib/python3.7/dist-packages (from requests>=2.24.0->pandas-profiling>=2.8.0->pycaret) (2021.10.8)\n",
            "Requirement already satisfied: urllib3<1.27,>=1.21.1 in /usr/local/lib/python3.7/dist-packages (from requests>=2.24.0->pandas-profiling>=2.8.0->pycaret) (1.24.3)\n",
            "Requirement already satisfied: preshed<3.1.0,>=3.0.2 in /usr/local/lib/python3.7/dist-packages (from spacy<2.4.0->pycaret) (3.0.6)\n",
            "Requirement already satisfied: plac<1.2.0,>=0.9.6 in /usr/local/lib/python3.7/dist-packages (from spacy<2.4.0->pycaret) (1.1.3)\n",
            "Requirement already satisfied: srsly<1.1.0,>=1.0.2 in /usr/local/lib/python3.7/dist-packages (from spacy<2.4.0->pycaret) (1.0.5)\n",
            "Requirement already satisfied: cymem<2.1.0,>=2.0.2 in /usr/local/lib/python3.7/dist-packages (from spacy<2.4.0->pycaret) (2.0.6)\n",
            "Requirement already satisfied: murmurhash<1.1.0,>=0.28.0 in /usr/local/lib/python3.7/dist-packages (from spacy<2.4.0->pycaret) (1.0.6)\n",
            "Requirement already satisfied: wasabi<1.1.0,>=0.4.0 in /usr/local/lib/python3.7/dist-packages (from spacy<2.4.0->pycaret) (0.9.0)\n",
            "Requirement already satisfied: blis<0.5.0,>=0.4.0 in /usr/local/lib/python3.7/dist-packages (from spacy<2.4.0->pycaret) (0.4.1)\n",
            "Requirement already satisfied: thinc==7.4.0 in /usr/local/lib/python3.7/dist-packages (from spacy<2.4.0->pycaret) (7.4.0)\n",
            "Requirement already satisfied: catalogue<1.1.0,>=0.0.7 in /usr/local/lib/python3.7/dist-packages (from spacy<2.4.0->pycaret) (1.0.0)\n",
            "Requirement already satisfied: notebook>=4.4.1 in /usr/local/lib/python3.7/dist-packages (from widgetsnbextension~=3.5.0->ipywidgets->pycaret) (5.3.1)\n",
            "Requirement already satisfied: terminado>=0.8.1 in /usr/local/lib/python3.7/dist-packages (from notebook>=4.4.1->widgetsnbextension~=3.5.0->ipywidgets->pycaret) (0.13.1)\n",
            "Requirement already satisfied: nbconvert in /usr/local/lib/python3.7/dist-packages (from notebook>=4.4.1->widgetsnbextension~=3.5.0->ipywidgets->pycaret) (5.6.1)\n",
            "Requirement already satisfied: Send2Trash in /usr/local/lib/python3.7/dist-packages (from notebook>=4.4.1->widgetsnbextension~=3.5.0->ipywidgets->pycaret) (1.8.0)\n",
            "Requirement already satisfied: pyzmq>=13 in /usr/local/lib/python3.7/dist-packages (from jupyter-client->ipykernel>=4.5.1->ipywidgets->pycaret) (22.3.0)\n",
            "Requirement already satisfied: ptyprocess in /usr/local/lib/python3.7/dist-packages (from terminado>=0.8.1->notebook>=4.4.1->widgetsnbextension~=3.5.0->ipywidgets->pycaret) (0.7.0)\n",
            "Collecting yellowbrick>=1.0.1\n",
            "  Downloading yellowbrick-1.3.post1-py3-none-any.whl (271 kB)\n",
            "\u001b[K     |████████████████████████████████| 271 kB 59.2 MB/s \n",
            "\u001b[?25hCollecting numpy>=1.13.3\n",
            "  Downloading numpy-1.19.5-cp37-cp37m-manylinux2010_x86_64.whl (14.8 MB)\n",
            "\u001b[K     |████████████████████████████████| 14.8 MB 47.4 MB/s \n",
            "\u001b[?25hRequirement already satisfied: PyWavelets in /usr/local/lib/python3.7/dist-packages (from imagehash->visions[type_image_path]==0.7.4->pandas-profiling>=2.8.0->pycaret) (1.2.0)\n",
            "Requirement already satisfied: click>=7.0 in /usr/local/lib/python3.7/dist-packages (from mlflow->pycaret) (7.1.2)\n",
            "Collecting gitpython>=2.1.0\n",
            "  Downloading GitPython-3.1.27-py3-none-any.whl (181 kB)\n",
            "\u001b[K     |████████████████████████████████| 181 kB 74.9 MB/s \n",
            "\u001b[?25hRequirement already satisfied: sqlalchemy in /usr/local/lib/python3.7/dist-packages (from mlflow->pycaret) (1.4.31)\n",
            "Collecting databricks-cli>=0.8.7\n",
            "  Downloading databricks-cli-0.16.4.tar.gz (58 kB)\n",
            "\u001b[K     |████████████████████████████████| 58 kB 7.0 MB/s \n",
            "\u001b[?25hRequirement already satisfied: sqlparse>=0.3.1 in /usr/local/lib/python3.7/dist-packages (from mlflow->pycaret) (0.4.2)\n",
            "Requirement already satisfied: cloudpickle in /usr/local/lib/python3.7/dist-packages (from mlflow->pycaret) (1.3.0)\n",
            "Collecting docker>=4.0.0\n",
            "  Downloading docker-5.0.3-py2.py3-none-any.whl (146 kB)\n",
            "\u001b[K     |████████████████████████████████| 146 kB 56.5 MB/s \n",
            "\u001b[?25hCollecting querystring-parser\n",
            "  Downloading querystring_parser-1.2.4-py2.py3-none-any.whl (7.9 kB)\n",
            "Requirement already satisfied: packaging in /usr/local/lib/python3.7/dist-packages (from mlflow->pycaret) (21.3)\n",
            "Requirement already satisfied: alembic in /usr/local/lib/python3.7/dist-packages (from mlflow->pycaret) (1.7.6)\n",
            "Collecting prometheus-flask-exporter\n",
            "  Downloading prometheus_flask_exporter-0.18.7-py3-none-any.whl (17 kB)\n",
            "Collecting gunicorn\n",
            "  Downloading gunicorn-20.1.0-py3-none-any.whl (79 kB)\n",
            "\u001b[K     |████████████████████████████████| 79 kB 9.2 MB/s \n",
            "\u001b[?25hRequirement already satisfied: entrypoints in /usr/local/lib/python3.7/dist-packages (from mlflow->pycaret) (0.4)\n",
            "Requirement already satisfied: protobuf>=3.7.0 in /usr/local/lib/python3.7/dist-packages (from mlflow->pycaret) (3.17.3)\n",
            "Requirement already satisfied: Flask in /usr/local/lib/python3.7/dist-packages (from mlflow->pycaret) (1.1.4)\n",
            "Requirement already satisfied: tabulate>=0.7.7 in /usr/local/lib/python3.7/dist-packages (from databricks-cli>=0.8.7->mlflow->pycaret) (0.8.9)\n",
            "Collecting websocket-client>=0.32.0\n",
            "  Downloading websocket_client-1.2.3-py3-none-any.whl (53 kB)\n",
            "\u001b[K     |████████████████████████████████| 53 kB 2.4 MB/s \n",
            "\u001b[?25hCollecting gitdb<5,>=4.0.1\n",
            "  Downloading gitdb-4.0.9-py3-none-any.whl (63 kB)\n",
            "\u001b[K     |████████████████████████████████| 63 kB 2.1 MB/s \n",
            "\u001b[?25hCollecting smmap<6,>=3.0.1\n",
            "  Downloading smmap-5.0.0-py3-none-any.whl (24 kB)\n",
            "Requirement already satisfied: Mako in /usr/local/lib/python3.7/dist-packages (from alembic->mlflow->pycaret) (1.1.6)\n",
            "Requirement already satisfied: greenlet!=0.4.17 in /usr/local/lib/python3.7/dist-packages (from sqlalchemy->mlflow->pycaret) (1.1.2)\n",
            "Requirement already satisfied: Werkzeug<2.0,>=0.15 in /usr/local/lib/python3.7/dist-packages (from Flask->mlflow->pycaret) (1.0.1)\n",
            "Requirement already satisfied: itsdangerous<2.0,>=0.24 in /usr/local/lib/python3.7/dist-packages (from Flask->mlflow->pycaret) (1.1.0)\n",
            "Requirement already satisfied: testpath in /usr/local/lib/python3.7/dist-packages (from nbconvert->notebook>=4.4.1->widgetsnbextension~=3.5.0->ipywidgets->pycaret) (0.5.0)\n",
            "Requirement already satisfied: pandocfilters>=1.4.1 in /usr/local/lib/python3.7/dist-packages (from nbconvert->notebook>=4.4.1->widgetsnbextension~=3.5.0->ipywidgets->pycaret) (1.5.0)\n",
            "Requirement already satisfied: mistune<2,>=0.8.1 in /usr/local/lib/python3.7/dist-packages (from nbconvert->notebook>=4.4.1->widgetsnbextension~=3.5.0->ipywidgets->pycaret) (0.8.4)\n",
            "Requirement already satisfied: defusedxml in /usr/local/lib/python3.7/dist-packages (from nbconvert->notebook>=4.4.1->widgetsnbextension~=3.5.0->ipywidgets->pycaret) (0.7.1)\n",
            "Requirement already satisfied: bleach in /usr/local/lib/python3.7/dist-packages (from nbconvert->notebook>=4.4.1->widgetsnbextension~=3.5.0->ipywidgets->pycaret) (4.1.0)\n",
            "Requirement already satisfied: webencodings in /usr/local/lib/python3.7/dist-packages (from bleach->nbconvert->notebook>=4.4.1->widgetsnbextension~=3.5.0->ipywidgets->pycaret) (0.5.1)\n",
            "Requirement already satisfied: prometheus-client in /usr/local/lib/python3.7/dist-packages (from prometheus-flask-exporter->mlflow->pycaret) (0.13.1)\n",
            "Collecting funcy\n",
            "  Downloading funcy-1.17-py2.py3-none-any.whl (33 kB)\n",
            "Requirement already satisfied: sklearn in /usr/local/lib/python3.7/dist-packages (from pyLDAvis->pycaret) (0.0)\n",
            "Collecting pyLDAvis\n",
            "  Downloading pyLDAvis-3.3.0.tar.gz (1.7 MB)\n",
            "\u001b[K     |████████████████████████████████| 1.7 MB 51.3 MB/s \n",
            "\u001b[?25h  Installing build dependencies ... \u001b[?25l\u001b[?25hdone\n",
            "  Getting requirements to build wheel ... \u001b[?25l\u001b[?25hdone\n",
            "  Installing backend dependencies ... \u001b[?25l\u001b[?25hdone\n",
            "    Preparing wheel metadata ... \u001b[?25l\u001b[?25hdone\n",
            "  Downloading pyLDAvis-3.2.2.tar.gz (1.7 MB)\n",
            "\u001b[K     |████████████████████████████████| 1.7 MB 44.9 MB/s \n",
            "\u001b[?25hRequirement already satisfied: numexpr in /usr/local/lib/python3.7/dist-packages (from pyLDAvis->pycaret) (2.8.1)\n",
            "Requirement already satisfied: future in /usr/local/lib/python3.7/dist-packages (from pyLDAvis->pycaret) (0.16.0)\n",
            "Requirement already satisfied: numba>=0.35 in /usr/local/lib/python3.7/dist-packages (from pyod->pycaret) (0.51.2)\n",
            "Requirement already satisfied: statsmodels in /usr/local/lib/python3.7/dist-packages (from pyod->pycaret) (0.10.2)\n",
            "Requirement already satisfied: llvmlite<0.35,>=0.34.0.dev0 in /usr/local/lib/python3.7/dist-packages (from numba>=0.35->pyod->pycaret) (0.34.0)\n",
            "Requirement already satisfied: patsy>=0.4.0 in /usr/local/lib/python3.7/dist-packages (from statsmodels->pyod->pycaret) (0.5.2)\n",
            "Collecting pynndescent>=0.5\n",
            "  Downloading pynndescent-0.5.6.tar.gz (1.1 MB)\n",
            "\u001b[K     |████████████████████████████████| 1.1 MB 54.8 MB/s \n",
            "\u001b[?25hBuilding wheels for collected packages: htmlmin, imagehash, databricks-cli, pyLDAvis, pyod, umap-learn, pynndescent\n",
            "  Building wheel for htmlmin (setup.py) ... \u001b[?25l\u001b[?25hdone\n",
            "  Created wheel for htmlmin: filename=htmlmin-0.1.12-py3-none-any.whl size=27098 sha256=67556749e685dd932a3791770674192faee064e575b7500809d37e37e6507151\n",
            "  Stored in directory: /root/.cache/pip/wheels/70/e1/52/5b14d250ba868768823940c3229e9950d201a26d0bd3ee8655\n",
            "  Building wheel for imagehash (setup.py) ... \u001b[?25l\u001b[?25hdone\n",
            "  Created wheel for imagehash: filename=ImageHash-4.2.1-py2.py3-none-any.whl size=295206 sha256=b24546ec6ed2a6874d4cf95a28d98c47853f8a691baf700a7bfc8a9a82e1ca8b\n",
            "  Stored in directory: /root/.cache/pip/wheels/4c/d5/59/5e3e297533ddb09407769762985d134135064c6831e29a914e\n",
            "  Building wheel for databricks-cli (setup.py) ... \u001b[?25l\u001b[?25hdone\n",
            "  Created wheel for databricks-cli: filename=databricks_cli-0.16.4-py3-none-any.whl size=106877 sha256=5210e1264521fa70ba1a8d941d69a5c6b8ceeb71964b53787cae73af5667a200\n",
            "  Stored in directory: /root/.cache/pip/wheels/a2/a1/6d/fa1d22ea25ed8593887437fe1c7e00f6ef307fc240ccd4dc5c\n",
            "  Building wheel for pyLDAvis (setup.py) ... \u001b[?25l\u001b[?25hdone\n",
            "  Created wheel for pyLDAvis: filename=pyLDAvis-3.2.2-py2.py3-none-any.whl size=135617 sha256=1eb6021246884fcf1fa6e2d82962594dfafc147db185cd6b8884f3c4a415e841\n",
            "  Stored in directory: /root/.cache/pip/wheels/f8/b1/9b/560ac1931796b7303f7b517b949d2d31a4fbc512aad3b9f284\n",
            "  Building wheel for pyod (setup.py) ... \u001b[?25l\u001b[?25hdone\n",
            "  Created wheel for pyod: filename=pyod-0.9.7-py3-none-any.whl size=136279 sha256=fcbf511b5ab469e470660f6be441ef76eb858db72324db6333b4d4ef28bdab66\n",
            "  Stored in directory: /root/.cache/pip/wheels/ce/14/ae/60cbb36511e59bc12f8f0883805f586db3b315972b54865d33\n",
            "  Building wheel for umap-learn (setup.py) ... \u001b[?25l\u001b[?25hdone\n",
            "  Created wheel for umap-learn: filename=umap_learn-0.5.2-py3-none-any.whl size=82708 sha256=30e6f5ab114cd7ad0bebe3a46575cc28fbe6b2bdffc83a1955ac721494e371fc\n",
            "  Stored in directory: /root/.cache/pip/wheels/84/1b/c6/aaf68a748122632967cef4dffef68224eb16798b6793257d82\n",
            "  Building wheel for pynndescent (setup.py) ... \u001b[?25l\u001b[?25hdone\n",
            "  Created wheel for pynndescent: filename=pynndescent-0.5.6-py3-none-any.whl size=53943 sha256=4b0e83c6dac7850921d363e4227618f47fdffbd11999a3944ad888ee1dd8b2f8\n",
            "  Stored in directory: /root/.cache/pip/wheels/03/f1/56/f80d72741e400345b5a5b50ec3d929aca581bf45e0225d5c50\n",
            "Successfully built htmlmin imagehash databricks-cli pyLDAvis pyod umap-learn pynndescent\n",
            "Installing collected packages: numpy, tangled-up-in-unicode, smmap, scipy, multimethod, joblib, websocket-client, visions, scikit-learn, requests, imagehash, gitdb, querystring-parser, pyyaml, pynndescent, pydantic, prometheus-flask-exporter, phik, htmlmin, gunicorn, gitpython, funcy, docker, databricks-cli, yellowbrick, umap-learn, scikit-plot, pyod, pyLDAvis, pandas-profiling, mlxtend, mlflow, lightgbm, kmodes, imbalanced-learn, Boruta, pycaret\n",
            "  Attempting uninstall: numpy\n",
            "    Found existing installation: numpy 1.21.5\n",
            "    Uninstalling numpy-1.21.5:\n",
            "      Successfully uninstalled numpy-1.21.5\n",
            "  Attempting uninstall: scipy\n",
            "    Found existing installation: scipy 1.4.1\n",
            "    Uninstalling scipy-1.4.1:\n",
            "      Successfully uninstalled scipy-1.4.1\n",
            "  Attempting uninstall: joblib\n",
            "    Found existing installation: joblib 1.1.0\n",
            "    Uninstalling joblib-1.1.0:\n",
            "      Successfully uninstalled joblib-1.1.0\n",
            "  Attempting uninstall: scikit-learn\n",
            "    Found existing installation: scikit-learn 1.0.2\n",
            "    Uninstalling scikit-learn-1.0.2:\n",
            "      Successfully uninstalled scikit-learn-1.0.2\n",
            "  Attempting uninstall: requests\n",
            "    Found existing installation: requests 2.23.0\n",
            "    Uninstalling requests-2.23.0:\n",
            "      Successfully uninstalled requests-2.23.0\n",
            "  Attempting uninstall: pyyaml\n",
            "    Found existing installation: PyYAML 3.13\n",
            "    Uninstalling PyYAML-3.13:\n",
            "      Successfully uninstalled PyYAML-3.13\n",
            "  Attempting uninstall: pandas-profiling\n",
            "    Found existing installation: pandas-profiling 1.4.1\n",
            "    Uninstalling pandas-profiling-1.4.1:\n",
            "      Successfully uninstalled pandas-profiling-1.4.1\n",
            "  Attempting uninstall: mlxtend\n",
            "    Found existing installation: mlxtend 0.14.0\n",
            "    Uninstalling mlxtend-0.14.0:\n",
            "      Successfully uninstalled mlxtend-0.14.0\n",
            "  Attempting uninstall: lightgbm\n",
            "    Found existing installation: lightgbm 2.2.3\n",
            "    Uninstalling lightgbm-2.2.3:\n",
            "      Successfully uninstalled lightgbm-2.2.3\n",
            "  Attempting uninstall: imbalanced-learn\n",
            "    Found existing installation: imbalanced-learn 0.8.1\n",
            "    Uninstalling imbalanced-learn-0.8.1:\n",
            "      Successfully uninstalled imbalanced-learn-0.8.1\n",
            "\u001b[31mERROR: pip's dependency resolver does not currently take into account all the packages that are installed. This behaviour is the source of the following dependency conflicts.\n",
            "tensorflow 2.8.0 requires tf-estimator-nightly==2.8.0.dev2021122109, which is not installed.\n",
            "tensorflow 2.8.0 requires numpy>=1.20, but you have numpy 1.19.5 which is incompatible.\n",
            "google-colab 1.0.0 requires requests~=2.23.0, but you have requests 2.27.1 which is incompatible.\n",
            "datascience 0.10.6 requires folium==0.2.1, but you have folium 0.8.3 which is incompatible.\n",
            "albumentations 0.1.12 requires imgaug<0.2.7,>=0.2.5, but you have imgaug 0.2.9 which is incompatible.\u001b[0m\n",
            "Successfully installed Boruta-0.3 databricks-cli-0.16.4 docker-5.0.3 funcy-1.17 gitdb-4.0.9 gitpython-3.1.27 gunicorn-20.1.0 htmlmin-0.1.12 imagehash-4.2.1 imbalanced-learn-0.7.0 joblib-1.0.1 kmodes-0.11.1 lightgbm-3.3.2 mlflow-1.23.1 mlxtend-0.19.0 multimethod-1.7 numpy-1.19.5 pandas-profiling-3.1.0 phik-0.12.0 prometheus-flask-exporter-0.18.7 pyLDAvis-3.2.2 pycaret-2.3.6 pydantic-1.9.0 pynndescent-0.5.6 pyod-0.9.7 pyyaml-5.4.1 querystring-parser-1.2.4 requests-2.27.1 scikit-learn-0.23.2 scikit-plot-0.3.7 scipy-1.5.4 smmap-5.0.0 tangled-up-in-unicode-0.1.0 umap-learn-0.5.2 visions-0.7.4 websocket-client-1.2.3 yellowbrick-1.3.post1\n"
          ]
        },
        {
          "data": {
            "application/vnd.colab-display-data+json": {
              "pip_warning": {
                "packages": [
                  "joblib",
                  "numpy",
                  "requests",
                  "scipy",
                  "sklearn"
                ]
              }
            }
          },
          "metadata": {},
          "output_type": "display_data"
        }
      ],
      "source": [
        "pip install pycaret"
      ]
    },
    {
      "cell_type": "code",
      "execution_count": null,
      "metadata": {
        "id": "JZWBL0vx0_2S"
      },
      "outputs": [],
      "source": [
        "from pycaret.regression import *"
      ]
    },
    {
      "cell_type": "code",
      "execution_count": null,
      "metadata": {
        "colab": {
          "base_uri": "https://localhost:8080/",
          "height": 1000
        },
        "id": "lsM4PF071kwL",
        "outputId": "ba40a707-c399-4404-ecc9-8dcc5a57277d"
      },
      "outputs": [
        {
          "data": {
            "text/html": [
              "\n",
              "  <div id=\"df-71c674b8-df48-422a-92da-a3688be49617\">\n",
              "    <div class=\"colab-df-container\">\n",
              "      <div>\n",
              "<style scoped>\n",
              "    .dataframe tbody tr th:only-of-type {\n",
              "        vertical-align: middle;\n",
              "    }\n",
              "\n",
              "    .dataframe tbody tr th {\n",
              "        vertical-align: top;\n",
              "    }\n",
              "\n",
              "    .dataframe thead th {\n",
              "        text-align: right;\n",
              "    }\n",
              "</style>\n",
              "<table border=\"1\" class=\"dataframe\">\n",
              "  <thead>\n",
              "    <tr style=\"text-align: right;\">\n",
              "      <th></th>\n",
              "      <th>Description</th>\n",
              "      <th>Value</th>\n",
              "    </tr>\n",
              "  </thead>\n",
              "  <tbody>\n",
              "    <tr>\n",
              "      <th>0</th>\n",
              "      <td>session_id</td>\n",
              "      <td>20201809</td>\n",
              "    </tr>\n",
              "    <tr>\n",
              "      <th>1</th>\n",
              "      <td>Target</td>\n",
              "      <td>공급량</td>\n",
              "    </tr>\n",
              "    <tr>\n",
              "      <th>2</th>\n",
              "      <td>Original Data</td>\n",
              "      <td>(368088, 13)</td>\n",
              "    </tr>\n",
              "    <tr>\n",
              "      <th>3</th>\n",
              "      <td>Missing Values</td>\n",
              "      <td>False</td>\n",
              "    </tr>\n",
              "    <tr>\n",
              "      <th>4</th>\n",
              "      <td>Numeric Features</td>\n",
              "      <td>9</td>\n",
              "    </tr>\n",
              "    <tr>\n",
              "      <th>5</th>\n",
              "      <td>Categorical Features</td>\n",
              "      <td>3</td>\n",
              "    </tr>\n",
              "    <tr>\n",
              "      <th>6</th>\n",
              "      <td>Ordinal Features</td>\n",
              "      <td>False</td>\n",
              "    </tr>\n",
              "    <tr>\n",
              "      <th>7</th>\n",
              "      <td>High Cardinality Features</td>\n",
              "      <td>False</td>\n",
              "    </tr>\n",
              "    <tr>\n",
              "      <th>8</th>\n",
              "      <td>High Cardinality Method</td>\n",
              "      <td>None</td>\n",
              "    </tr>\n",
              "    <tr>\n",
              "      <th>9</th>\n",
              "      <td>Transformed Train Set</td>\n",
              "      <td>(257661, 34)</td>\n",
              "    </tr>\n",
              "    <tr>\n",
              "      <th>10</th>\n",
              "      <td>Transformed Test Set</td>\n",
              "      <td>(110427, 34)</td>\n",
              "    </tr>\n",
              "    <tr>\n",
              "      <th>11</th>\n",
              "      <td>Shuffle Train-Test</td>\n",
              "      <td>True</td>\n",
              "    </tr>\n",
              "    <tr>\n",
              "      <th>12</th>\n",
              "      <td>Stratify Train-Test</td>\n",
              "      <td>False</td>\n",
              "    </tr>\n",
              "    <tr>\n",
              "      <th>13</th>\n",
              "      <td>Fold Generator</td>\n",
              "      <td>KFold</td>\n",
              "    </tr>\n",
              "    <tr>\n",
              "      <th>14</th>\n",
              "      <td>Fold Number</td>\n",
              "      <td>10</td>\n",
              "    </tr>\n",
              "    <tr>\n",
              "      <th>15</th>\n",
              "      <td>CPU Jobs</td>\n",
              "      <td>7</td>\n",
              "    </tr>\n",
              "    <tr>\n",
              "      <th>16</th>\n",
              "      <td>Use GPU</td>\n",
              "      <td>False</td>\n",
              "    </tr>\n",
              "    <tr>\n",
              "      <th>17</th>\n",
              "      <td>Log Experiment</td>\n",
              "      <td>False</td>\n",
              "    </tr>\n",
              "    <tr>\n",
              "      <th>18</th>\n",
              "      <td>Experiment Name</td>\n",
              "      <td>reg-default-name</td>\n",
              "    </tr>\n",
              "    <tr>\n",
              "      <th>19</th>\n",
              "      <td>USI</td>\n",
              "      <td>6215</td>\n",
              "    </tr>\n",
              "    <tr>\n",
              "      <th>20</th>\n",
              "      <td>Imputation Type</td>\n",
              "      <td>simple</td>\n",
              "    </tr>\n",
              "    <tr>\n",
              "      <th>21</th>\n",
              "      <td>Iterative Imputation Iteration</td>\n",
              "      <td>None</td>\n",
              "    </tr>\n",
              "    <tr>\n",
              "      <th>22</th>\n",
              "      <td>Numeric Imputer</td>\n",
              "      <td>mean</td>\n",
              "    </tr>\n",
              "    <tr>\n",
              "      <th>23</th>\n",
              "      <td>Iterative Imputation Numeric Model</td>\n",
              "      <td>None</td>\n",
              "    </tr>\n",
              "    <tr>\n",
              "      <th>24</th>\n",
              "      <td>Categorical Imputer</td>\n",
              "      <td>constant</td>\n",
              "    </tr>\n",
              "    <tr>\n",
              "      <th>25</th>\n",
              "      <td>Iterative Imputation Categorical Model</td>\n",
              "      <td>None</td>\n",
              "    </tr>\n",
              "    <tr>\n",
              "      <th>26</th>\n",
              "      <td>Unknown Categoricals Handling</td>\n",
              "      <td>least_frequent</td>\n",
              "    </tr>\n",
              "    <tr>\n",
              "      <th>27</th>\n",
              "      <td>Normalize</td>\n",
              "      <td>False</td>\n",
              "    </tr>\n",
              "    <tr>\n",
              "      <th>28</th>\n",
              "      <td>Normalize Method</td>\n",
              "      <td>None</td>\n",
              "    </tr>\n",
              "    <tr>\n",
              "      <th>29</th>\n",
              "      <td>Transformation</td>\n",
              "      <td>False</td>\n",
              "    </tr>\n",
              "    <tr>\n",
              "      <th>30</th>\n",
              "      <td>Transformation Method</td>\n",
              "      <td>None</td>\n",
              "    </tr>\n",
              "    <tr>\n",
              "      <th>31</th>\n",
              "      <td>PCA</td>\n",
              "      <td>False</td>\n",
              "    </tr>\n",
              "    <tr>\n",
              "      <th>32</th>\n",
              "      <td>PCA Method</td>\n",
              "      <td>None</td>\n",
              "    </tr>\n",
              "    <tr>\n",
              "      <th>33</th>\n",
              "      <td>PCA Components</td>\n",
              "      <td>None</td>\n",
              "    </tr>\n",
              "    <tr>\n",
              "      <th>34</th>\n",
              "      <td>Ignore Low Variance</td>\n",
              "      <td>False</td>\n",
              "    </tr>\n",
              "    <tr>\n",
              "      <th>35</th>\n",
              "      <td>Combine Rare Levels</td>\n",
              "      <td>False</td>\n",
              "    </tr>\n",
              "    <tr>\n",
              "      <th>36</th>\n",
              "      <td>Rare Level Threshold</td>\n",
              "      <td>None</td>\n",
              "    </tr>\n",
              "    <tr>\n",
              "      <th>37</th>\n",
              "      <td>Numeric Binning</td>\n",
              "      <td>False</td>\n",
              "    </tr>\n",
              "    <tr>\n",
              "      <th>38</th>\n",
              "      <td>Remove Outliers</td>\n",
              "      <td>False</td>\n",
              "    </tr>\n",
              "    <tr>\n",
              "      <th>39</th>\n",
              "      <td>Outliers Threshold</td>\n",
              "      <td>None</td>\n",
              "    </tr>\n",
              "    <tr>\n",
              "      <th>40</th>\n",
              "      <td>Remove Multicollinearity</td>\n",
              "      <td>False</td>\n",
              "    </tr>\n",
              "    <tr>\n",
              "      <th>41</th>\n",
              "      <td>Multicollinearity Threshold</td>\n",
              "      <td>None</td>\n",
              "    </tr>\n",
              "    <tr>\n",
              "      <th>42</th>\n",
              "      <td>Remove Perfect Collinearity</td>\n",
              "      <td>True</td>\n",
              "    </tr>\n",
              "    <tr>\n",
              "      <th>43</th>\n",
              "      <td>Clustering</td>\n",
              "      <td>False</td>\n",
              "    </tr>\n",
              "    <tr>\n",
              "      <th>44</th>\n",
              "      <td>Clustering Iteration</td>\n",
              "      <td>None</td>\n",
              "    </tr>\n",
              "    <tr>\n",
              "      <th>45</th>\n",
              "      <td>Polynomial Features</td>\n",
              "      <td>False</td>\n",
              "    </tr>\n",
              "    <tr>\n",
              "      <th>46</th>\n",
              "      <td>Polynomial Degree</td>\n",
              "      <td>None</td>\n",
              "    </tr>\n",
              "    <tr>\n",
              "      <th>47</th>\n",
              "      <td>Trignometry Features</td>\n",
              "      <td>False</td>\n",
              "    </tr>\n",
              "    <tr>\n",
              "      <th>48</th>\n",
              "      <td>Polynomial Threshold</td>\n",
              "      <td>None</td>\n",
              "    </tr>\n",
              "    <tr>\n",
              "      <th>49</th>\n",
              "      <td>Group Features</td>\n",
              "      <td>False</td>\n",
              "    </tr>\n",
              "    <tr>\n",
              "      <th>50</th>\n",
              "      <td>Feature Selection</td>\n",
              "      <td>False</td>\n",
              "    </tr>\n",
              "    <tr>\n",
              "      <th>51</th>\n",
              "      <td>Feature Selection Method</td>\n",
              "      <td>classic</td>\n",
              "    </tr>\n",
              "    <tr>\n",
              "      <th>52</th>\n",
              "      <td>Features Selection Threshold</td>\n",
              "      <td>None</td>\n",
              "    </tr>\n",
              "    <tr>\n",
              "      <th>53</th>\n",
              "      <td>Feature Interaction</td>\n",
              "      <td>False</td>\n",
              "    </tr>\n",
              "    <tr>\n",
              "      <th>54</th>\n",
              "      <td>Feature Ratio</td>\n",
              "      <td>False</td>\n",
              "    </tr>\n",
              "    <tr>\n",
              "      <th>55</th>\n",
              "      <td>Interaction Threshold</td>\n",
              "      <td>None</td>\n",
              "    </tr>\n",
              "    <tr>\n",
              "      <th>56</th>\n",
              "      <td>Transform Target</td>\n",
              "      <td>False</td>\n",
              "    </tr>\n",
              "    <tr>\n",
              "      <th>57</th>\n",
              "      <td>Transform Target Method</td>\n",
              "      <td>box-cox</td>\n",
              "    </tr>\n",
              "  </tbody>\n",
              "</table>\n",
              "</div>\n",
              "      <button class=\"colab-df-convert\" onclick=\"convertToInteractive('df-71c674b8-df48-422a-92da-a3688be49617')\"\n",
              "              title=\"Convert this dataframe to an interactive table.\"\n",
              "              style=\"display:none;\">\n",
              "        \n",
              "  <svg xmlns=\"http://www.w3.org/2000/svg\" height=\"24px\"viewBox=\"0 0 24 24\"\n",
              "       width=\"24px\">\n",
              "    <path d=\"M0 0h24v24H0V0z\" fill=\"none\"/>\n",
              "    <path d=\"M18.56 5.44l.94 2.06.94-2.06 2.06-.94-2.06-.94-.94-2.06-.94 2.06-2.06.94zm-11 1L8.5 8.5l.94-2.06 2.06-.94-2.06-.94L8.5 2.5l-.94 2.06-2.06.94zm10 10l.94 2.06.94-2.06 2.06-.94-2.06-.94-.94-2.06-.94 2.06-2.06.94z\"/><path d=\"M17.41 7.96l-1.37-1.37c-.4-.4-.92-.59-1.43-.59-.52 0-1.04.2-1.43.59L10.3 9.45l-7.72 7.72c-.78.78-.78 2.05 0 2.83L4 21.41c.39.39.9.59 1.41.59.51 0 1.02-.2 1.41-.59l7.78-7.78 2.81-2.81c.8-.78.8-2.07 0-2.86zM5.41 20L4 18.59l7.72-7.72 1.47 1.35L5.41 20z\"/>\n",
              "  </svg>\n",
              "      </button>\n",
              "      \n",
              "  <style>\n",
              "    .colab-df-container {\n",
              "      display:flex;\n",
              "      flex-wrap:wrap;\n",
              "      gap: 12px;\n",
              "    }\n",
              "\n",
              "    .colab-df-convert {\n",
              "      background-color: #E8F0FE;\n",
              "      border: none;\n",
              "      border-radius: 50%;\n",
              "      cursor: pointer;\n",
              "      display: none;\n",
              "      fill: #1967D2;\n",
              "      height: 32px;\n",
              "      padding: 0 0 0 0;\n",
              "      width: 32px;\n",
              "    }\n",
              "\n",
              "    .colab-df-convert:hover {\n",
              "      background-color: #E2EBFA;\n",
              "      box-shadow: 0px 1px 2px rgba(60, 64, 67, 0.3), 0px 1px 3px 1px rgba(60, 64, 67, 0.15);\n",
              "      fill: #174EA6;\n",
              "    }\n",
              "\n",
              "    [theme=dark] .colab-df-convert {\n",
              "      background-color: #3B4455;\n",
              "      fill: #D2E3FC;\n",
              "    }\n",
              "\n",
              "    [theme=dark] .colab-df-convert:hover {\n",
              "      background-color: #434B5C;\n",
              "      box-shadow: 0px 1px 3px 1px rgba(0, 0, 0, 0.15);\n",
              "      filter: drop-shadow(0px 1px 2px rgba(0, 0, 0, 0.3));\n",
              "      fill: #FFFFFF;\n",
              "    }\n",
              "  </style>\n",
              "\n",
              "      <script>\n",
              "        const buttonEl =\n",
              "          document.querySelector('#df-71c674b8-df48-422a-92da-a3688be49617 button.colab-df-convert');\n",
              "        buttonEl.style.display =\n",
              "          google.colab.kernel.accessAllowed ? 'block' : 'none';\n",
              "\n",
              "        async function convertToInteractive(key) {\n",
              "          const element = document.querySelector('#df-71c674b8-df48-422a-92da-a3688be49617');\n",
              "          const dataTable =\n",
              "            await google.colab.kernel.invokeFunction('convertToInteractive',\n",
              "                                                     [key], {});\n",
              "          if (!dataTable) return;\n",
              "\n",
              "          const docLinkHtml = 'Like what you see? Visit the ' +\n",
              "            '<a target=\"_blank\" href=https://colab.research.google.com/notebooks/data_table.ipynb>data table notebook</a>'\n",
              "            + ' to learn more about interactive tables.';\n",
              "          element.innerHTML = '';\n",
              "          dataTable['output_type'] = 'display_data';\n",
              "          await google.colab.output.renderOutput(dataTable, element);\n",
              "          const docLink = document.createElement('div');\n",
              "          docLink.innerHTML = docLinkHtml;\n",
              "          element.appendChild(docLink);\n",
              "        }\n",
              "      </script>\n",
              "    </div>\n",
              "  </div>\n",
              "  "
            ],
            "text/plain": [
              "                               Description             Value\n",
              "0                               session_id          20201809\n",
              "1                                   Target               공급량\n",
              "2                            Original Data      (368088, 13)\n",
              "3                           Missing Values             False\n",
              "4                         Numeric Features                 9\n",
              "5                     Categorical Features                 3\n",
              "6                         Ordinal Features             False\n",
              "7                High Cardinality Features             False\n",
              "8                  High Cardinality Method              None\n",
              "9                    Transformed Train Set      (257661, 34)\n",
              "10                    Transformed Test Set      (110427, 34)\n",
              "11                      Shuffle Train-Test              True\n",
              "12                     Stratify Train-Test             False\n",
              "13                          Fold Generator             KFold\n",
              "14                             Fold Number                10\n",
              "15                                CPU Jobs                 7\n",
              "16                                 Use GPU             False\n",
              "17                          Log Experiment             False\n",
              "18                         Experiment Name  reg-default-name\n",
              "19                                     USI              6215\n",
              "20                         Imputation Type            simple\n",
              "21          Iterative Imputation Iteration              None\n",
              "22                         Numeric Imputer              mean\n",
              "23      Iterative Imputation Numeric Model              None\n",
              "24                     Categorical Imputer          constant\n",
              "25  Iterative Imputation Categorical Model              None\n",
              "26           Unknown Categoricals Handling    least_frequent\n",
              "27                               Normalize             False\n",
              "28                        Normalize Method              None\n",
              "29                          Transformation             False\n",
              "30                   Transformation Method              None\n",
              "31                                     PCA             False\n",
              "32                              PCA Method              None\n",
              "33                          PCA Components              None\n",
              "34                     Ignore Low Variance             False\n",
              "35                     Combine Rare Levels             False\n",
              "36                    Rare Level Threshold              None\n",
              "37                         Numeric Binning             False\n",
              "38                         Remove Outliers             False\n",
              "39                      Outliers Threshold              None\n",
              "40                Remove Multicollinearity             False\n",
              "41             Multicollinearity Threshold              None\n",
              "42             Remove Perfect Collinearity              True\n",
              "43                              Clustering             False\n",
              "44                    Clustering Iteration              None\n",
              "45                     Polynomial Features             False\n",
              "46                       Polynomial Degree              None\n",
              "47                    Trignometry Features             False\n",
              "48                    Polynomial Threshold              None\n",
              "49                          Group Features             False\n",
              "50                       Feature Selection             False\n",
              "51                Feature Selection Method           classic\n",
              "52            Features Selection Threshold              None\n",
              "53                     Feature Interaction             False\n",
              "54                           Feature Ratio             False\n",
              "55                   Interaction Threshold              None\n",
              "56                        Transform Target             False\n",
              "57                 Transform Target Method           box-cox"
            ]
          },
          "metadata": {},
          "output_type": "display_data"
        }
      ],
      "source": [
        "clf1 = setup(data = df,\n",
        "             silent = True,\n",
        "             target = '공급량',\n",
        "             session_id = 20201809,\n",
        "             n_jobs = 7)"
      ]
    },
    {
      "cell_type": "code",
      "execution_count": null,
      "metadata": {
        "colab": {
          "base_uri": "https://localhost:8080/",
          "height": 1000
        },
        "id": "B-kjQJDu23ZM",
        "outputId": "e7ea042d-addd-476d-fd14-5b0c897ef079"
      },
      "outputs": [
        {
          "data": {
            "text/html": [
              "\n",
              "  <div id=\"df-6fc5e130-4ec3-4a93-9cab-fd55cc74d9c5\">\n",
              "    <div class=\"colab-df-container\">\n",
              "      <div>\n",
              "<style scoped>\n",
              "    .dataframe tbody tr th:only-of-type {\n",
              "        vertical-align: middle;\n",
              "    }\n",
              "\n",
              "    .dataframe tbody tr th {\n",
              "        vertical-align: top;\n",
              "    }\n",
              "\n",
              "    .dataframe thead th {\n",
              "        text-align: right;\n",
              "    }\n",
              "</style>\n",
              "<table border=\"1\" class=\"dataframe\">\n",
              "  <thead>\n",
              "    <tr style=\"text-align: right;\">\n",
              "      <th></th>\n",
              "      <th>Model</th>\n",
              "      <th>MAE</th>\n",
              "      <th>MSE</th>\n",
              "      <th>RMSE</th>\n",
              "      <th>R2</th>\n",
              "      <th>RMSLE</th>\n",
              "      <th>MAPE</th>\n",
              "      <th>TT (Sec)</th>\n",
              "    </tr>\n",
              "  </thead>\n",
              "  <tbody>\n",
              "    <tr>\n",
              "      <th>catboost</th>\n",
              "      <td>CatBoost Regressor</td>\n",
              "      <td>74.3440</td>\n",
              "      <td>13741.7534</td>\n",
              "      <td>117.0664</td>\n",
              "      <td>0.9841</td>\n",
              "      <td>0.4097</td>\n",
              "      <td>0.4656</td>\n",
              "      <td>31.888</td>\n",
              "    </tr>\n",
              "    <tr>\n",
              "      <th>dt</th>\n",
              "      <td>Decision Tree Regressor</td>\n",
              "      <td>59.3060</td>\n",
              "      <td>15651.8148</td>\n",
              "      <td>124.8640</td>\n",
              "      <td>0.9818</td>\n",
              "      <td>0.1066</td>\n",
              "      <td>0.0675</td>\n",
              "      <td>1.593</td>\n",
              "    </tr>\n",
              "    <tr>\n",
              "      <th>lightgbm</th>\n",
              "      <td>Light Gradient Boosting Machine</td>\n",
              "      <td>99.2182</td>\n",
              "      <td>25352.4066</td>\n",
              "      <td>159.1496</td>\n",
              "      <td>0.9706</td>\n",
              "      <td>0.4325</td>\n",
              "      <td>0.5214</td>\n",
              "      <td>2.144</td>\n",
              "    </tr>\n",
              "    <tr>\n",
              "      <th>gbr</th>\n",
              "      <td>Gradient Boosting Regressor</td>\n",
              "      <td>198.0787</td>\n",
              "      <td>88108.8923</td>\n",
              "      <td>296.8001</td>\n",
              "      <td>0.8977</td>\n",
              "      <td>0.6147</td>\n",
              "      <td>0.7175</td>\n",
              "      <td>25.315</td>\n",
              "    </tr>\n",
              "    <tr>\n",
              "      <th>ridge</th>\n",
              "      <td>Ridge Regression</td>\n",
              "      <td>331.0279</td>\n",
              "      <td>191321.3125</td>\n",
              "      <td>437.3850</td>\n",
              "      <td>0.7780</td>\n",
              "      <td>0.8328</td>\n",
              "      <td>2.4330</td>\n",
              "      <td>0.129</td>\n",
              "    </tr>\n",
              "    <tr>\n",
              "      <th>lar</th>\n",
              "      <td>Least Angle Regression</td>\n",
              "      <td>331.0413</td>\n",
              "      <td>191319.7949</td>\n",
              "      <td>437.3832</td>\n",
              "      <td>0.7780</td>\n",
              "      <td>0.8329</td>\n",
              "      <td>2.4335</td>\n",
              "      <td>0.146</td>\n",
              "    </tr>\n",
              "    <tr>\n",
              "      <th>br</th>\n",
              "      <td>Bayesian Ridge</td>\n",
              "      <td>331.0280</td>\n",
              "      <td>191321.3145</td>\n",
              "      <td>437.3850</td>\n",
              "      <td>0.7780</td>\n",
              "      <td>0.8328</td>\n",
              "      <td>2.4330</td>\n",
              "      <td>0.631</td>\n",
              "    </tr>\n",
              "    <tr>\n",
              "      <th>lasso</th>\n",
              "      <td>Lasso Regression</td>\n",
              "      <td>329.0126</td>\n",
              "      <td>191577.9000</td>\n",
              "      <td>437.6778</td>\n",
              "      <td>0.7777</td>\n",
              "      <td>0.8180</td>\n",
              "      <td>2.3281</td>\n",
              "      <td>0.315</td>\n",
              "    </tr>\n",
              "    <tr>\n",
              "      <th>lr</th>\n",
              "      <td>Linear Regression</td>\n",
              "      <td>331.3953</td>\n",
              "      <td>191546.3750</td>\n",
              "      <td>437.6411</td>\n",
              "      <td>0.7777</td>\n",
              "      <td>0.8363</td>\n",
              "      <td>2.4438</td>\n",
              "      <td>1.511</td>\n",
              "    </tr>\n",
              "    <tr>\n",
              "      <th>huber</th>\n",
              "      <td>Huber Regressor</td>\n",
              "      <td>316.6150</td>\n",
              "      <td>202950.9225</td>\n",
              "      <td>450.4807</td>\n",
              "      <td>0.7645</td>\n",
              "      <td>0.7636</td>\n",
              "      <td>1.6059</td>\n",
              "      <td>8.972</td>\n",
              "    </tr>\n",
              "    <tr>\n",
              "      <th>par</th>\n",
              "      <td>Passive Aggressive Regressor</td>\n",
              "      <td>446.9773</td>\n",
              "      <td>348848.3683</td>\n",
              "      <td>571.6732</td>\n",
              "      <td>0.5955</td>\n",
              "      <td>0.9782</td>\n",
              "      <td>3.0915</td>\n",
              "      <td>0.852</td>\n",
              "    </tr>\n",
              "    <tr>\n",
              "      <th>knn</th>\n",
              "      <td>K Neighbors Regressor</td>\n",
              "      <td>438.9162</td>\n",
              "      <td>370841.3906</td>\n",
              "      <td>608.9580</td>\n",
              "      <td>0.5696</td>\n",
              "      <td>0.9415</td>\n",
              "      <td>3.1971</td>\n",
              "      <td>12.334</td>\n",
              "    </tr>\n",
              "    <tr>\n",
              "      <th>omp</th>\n",
              "      <td>Orthogonal Matching Pursuit</td>\n",
              "      <td>543.1954</td>\n",
              "      <td>508881.5489</td>\n",
              "      <td>713.3538</td>\n",
              "      <td>0.4093</td>\n",
              "      <td>1.0790</td>\n",
              "      <td>4.0735</td>\n",
              "      <td>0.110</td>\n",
              "    </tr>\n",
              "    <tr>\n",
              "      <th>en</th>\n",
              "      <td>Elastic Net</td>\n",
              "      <td>606.3511</td>\n",
              "      <td>626813.6438</td>\n",
              "      <td>791.6957</td>\n",
              "      <td>0.2725</td>\n",
              "      <td>1.1718</td>\n",
              "      <td>5.2200</td>\n",
              "      <td>0.157</td>\n",
              "    </tr>\n",
              "    <tr>\n",
              "      <th>ada</th>\n",
              "      <td>AdaBoost Regressor</td>\n",
              "      <td>737.1161</td>\n",
              "      <td>685107.8212</td>\n",
              "      <td>827.1940</td>\n",
              "      <td>0.2048</td>\n",
              "      <td>1.3799</td>\n",
              "      <td>7.8572</td>\n",
              "      <td>14.838</td>\n",
              "    </tr>\n",
              "    <tr>\n",
              "      <th>llar</th>\n",
              "      <td>Lasso Least Angle Regression</td>\n",
              "      <td>722.7965</td>\n",
              "      <td>861651.2238</td>\n",
              "      <td>928.2337</td>\n",
              "      <td>-0.0000</td>\n",
              "      <td>1.3195</td>\n",
              "      <td>6.8958</td>\n",
              "      <td>0.131</td>\n",
              "    </tr>\n",
              "    <tr>\n",
              "      <th>dummy</th>\n",
              "      <td>Dummy Regressor</td>\n",
              "      <td>722.7965</td>\n",
              "      <td>861651.2125</td>\n",
              "      <td>928.2336</td>\n",
              "      <td>-0.0000</td>\n",
              "      <td>1.3195</td>\n",
              "      <td>6.8958</td>\n",
              "      <td>0.058</td>\n",
              "    </tr>\n",
              "  </tbody>\n",
              "</table>\n",
              "</div>\n",
              "      <button class=\"colab-df-convert\" onclick=\"convertToInteractive('df-6fc5e130-4ec3-4a93-9cab-fd55cc74d9c5')\"\n",
              "              title=\"Convert this dataframe to an interactive table.\"\n",
              "              style=\"display:none;\">\n",
              "        \n",
              "  <svg xmlns=\"http://www.w3.org/2000/svg\" height=\"24px\"viewBox=\"0 0 24 24\"\n",
              "       width=\"24px\">\n",
              "    <path d=\"M0 0h24v24H0V0z\" fill=\"none\"/>\n",
              "    <path d=\"M18.56 5.44l.94 2.06.94-2.06 2.06-.94-2.06-.94-.94-2.06-.94 2.06-2.06.94zm-11 1L8.5 8.5l.94-2.06 2.06-.94-2.06-.94L8.5 2.5l-.94 2.06-2.06.94zm10 10l.94 2.06.94-2.06 2.06-.94-2.06-.94-.94-2.06-.94 2.06-2.06.94z\"/><path d=\"M17.41 7.96l-1.37-1.37c-.4-.4-.92-.59-1.43-.59-.52 0-1.04.2-1.43.59L10.3 9.45l-7.72 7.72c-.78.78-.78 2.05 0 2.83L4 21.41c.39.39.9.59 1.41.59.51 0 1.02-.2 1.41-.59l7.78-7.78 2.81-2.81c.8-.78.8-2.07 0-2.86zM5.41 20L4 18.59l7.72-7.72 1.47 1.35L5.41 20z\"/>\n",
              "  </svg>\n",
              "      </button>\n",
              "      \n",
              "  <style>\n",
              "    .colab-df-container {\n",
              "      display:flex;\n",
              "      flex-wrap:wrap;\n",
              "      gap: 12px;\n",
              "    }\n",
              "\n",
              "    .colab-df-convert {\n",
              "      background-color: #E8F0FE;\n",
              "      border: none;\n",
              "      border-radius: 50%;\n",
              "      cursor: pointer;\n",
              "      display: none;\n",
              "      fill: #1967D2;\n",
              "      height: 32px;\n",
              "      padding: 0 0 0 0;\n",
              "      width: 32px;\n",
              "    }\n",
              "\n",
              "    .colab-df-convert:hover {\n",
              "      background-color: #E2EBFA;\n",
              "      box-shadow: 0px 1px 2px rgba(60, 64, 67, 0.3), 0px 1px 3px 1px rgba(60, 64, 67, 0.15);\n",
              "      fill: #174EA6;\n",
              "    }\n",
              "\n",
              "    [theme=dark] .colab-df-convert {\n",
              "      background-color: #3B4455;\n",
              "      fill: #D2E3FC;\n",
              "    }\n",
              "\n",
              "    [theme=dark] .colab-df-convert:hover {\n",
              "      background-color: #434B5C;\n",
              "      box-shadow: 0px 1px 3px 1px rgba(0, 0, 0, 0.15);\n",
              "      filter: drop-shadow(0px 1px 2px rgba(0, 0, 0, 0.3));\n",
              "      fill: #FFFFFF;\n",
              "    }\n",
              "  </style>\n",
              "\n",
              "      <script>\n",
              "        const buttonEl =\n",
              "          document.querySelector('#df-6fc5e130-4ec3-4a93-9cab-fd55cc74d9c5 button.colab-df-convert');\n",
              "        buttonEl.style.display =\n",
              "          google.colab.kernel.accessAllowed ? 'block' : 'none';\n",
              "\n",
              "        async function convertToInteractive(key) {\n",
              "          const element = document.querySelector('#df-6fc5e130-4ec3-4a93-9cab-fd55cc74d9c5');\n",
              "          const dataTable =\n",
              "            await google.colab.kernel.invokeFunction('convertToInteractive',\n",
              "                                                     [key], {});\n",
              "          if (!dataTable) return;\n",
              "\n",
              "          const docLinkHtml = 'Like what you see? Visit the ' +\n",
              "            '<a target=\"_blank\" href=https://colab.research.google.com/notebooks/data_table.ipynb>data table notebook</a>'\n",
              "            + ' to learn more about interactive tables.';\n",
              "          element.innerHTML = '';\n",
              "          dataTable['output_type'] = 'display_data';\n",
              "          await google.colab.output.renderOutput(dataTable, element);\n",
              "          const docLink = document.createElement('div');\n",
              "          docLink.innerHTML = docLinkHtml;\n",
              "          element.appendChild(docLink);\n",
              "        }\n",
              "      </script>\n",
              "    </div>\n",
              "  </div>\n",
              "  "
            ],
            "text/plain": [
              "                                    Model       MAE          MSE      RMSE  \\\n",
              "catboost               CatBoost Regressor   74.3440   13741.7534  117.0664   \n",
              "dt                Decision Tree Regressor   59.3060   15651.8148  124.8640   \n",
              "lightgbm  Light Gradient Boosting Machine   99.2182   25352.4066  159.1496   \n",
              "gbr           Gradient Boosting Regressor  198.0787   88108.8923  296.8001   \n",
              "ridge                    Ridge Regression  331.0279  191321.3125  437.3850   \n",
              "lar                Least Angle Regression  331.0413  191319.7949  437.3832   \n",
              "br                         Bayesian Ridge  331.0280  191321.3145  437.3850   \n",
              "lasso                    Lasso Regression  329.0126  191577.9000  437.6778   \n",
              "lr                      Linear Regression  331.3953  191546.3750  437.6411   \n",
              "huber                     Huber Regressor  316.6150  202950.9225  450.4807   \n",
              "par          Passive Aggressive Regressor  446.9773  348848.3683  571.6732   \n",
              "knn                 K Neighbors Regressor  438.9162  370841.3906  608.9580   \n",
              "omp           Orthogonal Matching Pursuit  543.1954  508881.5489  713.3538   \n",
              "en                            Elastic Net  606.3511  626813.6438  791.6957   \n",
              "ada                    AdaBoost Regressor  737.1161  685107.8212  827.1940   \n",
              "llar         Lasso Least Angle Regression  722.7965  861651.2238  928.2337   \n",
              "dummy                     Dummy Regressor  722.7965  861651.2125  928.2336   \n",
              "\n",
              "              R2   RMSLE    MAPE  TT (Sec)  \n",
              "catboost  0.9841  0.4097  0.4656    31.888  \n",
              "dt        0.9818  0.1066  0.0675     1.593  \n",
              "lightgbm  0.9706  0.4325  0.5214     2.144  \n",
              "gbr       0.8977  0.6147  0.7175    25.315  \n",
              "ridge     0.7780  0.8328  2.4330     0.129  \n",
              "lar       0.7780  0.8329  2.4335     0.146  \n",
              "br        0.7780  0.8328  2.4330     0.631  \n",
              "lasso     0.7777  0.8180  2.3281     0.315  \n",
              "lr        0.7777  0.8363  2.4438     1.511  \n",
              "huber     0.7645  0.7636  1.6059     8.972  \n",
              "par       0.5955  0.9782  3.0915     0.852  \n",
              "knn       0.5696  0.9415  3.1971    12.334  \n",
              "omp       0.4093  1.0790  4.0735     0.110  \n",
              "en        0.2725  1.1718  5.2200     0.157  \n",
              "ada       0.2048  1.3799  7.8572    14.838  \n",
              "llar     -0.0000  1.3195  6.8958     0.131  \n",
              "dummy    -0.0000  1.3195  6.8958     0.058  "
            ]
          },
          "metadata": {},
          "output_type": "display_data"
        }
      ],
      "source": [
        "best=compare_models(n_select=4,fold=10)"
      ]
    },
    {
      "cell_type": "code",
      "execution_count": null,
      "metadata": {
        "colab": {
          "base_uri": "https://localhost:8080/",
          "height": 426
        },
        "id": "PoiXRFyb3Rul",
        "outputId": "9f5aa021-0813-481d-fe79-a4e947a922c1"
      },
      "outputs": [
        {
          "data": {
            "text/html": [
              "\n",
              "  <div id=\"df-7bf12ac9-ccd6-454b-8344-c33abe089b04\">\n",
              "    <div class=\"colab-df-container\">\n",
              "      <div>\n",
              "<style scoped>\n",
              "    .dataframe tbody tr th:only-of-type {\n",
              "        vertical-align: middle;\n",
              "    }\n",
              "\n",
              "    .dataframe tbody tr th {\n",
              "        vertical-align: top;\n",
              "    }\n",
              "\n",
              "    .dataframe thead th {\n",
              "        text-align: right;\n",
              "    }\n",
              "</style>\n",
              "<table border=\"1\" class=\"dataframe\">\n",
              "  <thead>\n",
              "    <tr style=\"text-align: right;\">\n",
              "      <th></th>\n",
              "      <th>MAE</th>\n",
              "      <th>MSE</th>\n",
              "      <th>RMSE</th>\n",
              "      <th>R2</th>\n",
              "      <th>RMSLE</th>\n",
              "      <th>MAPE</th>\n",
              "    </tr>\n",
              "  </thead>\n",
              "  <tbody>\n",
              "    <tr>\n",
              "      <th>0</th>\n",
              "      <td>74.8957</td>\n",
              "      <td>13323.4761</td>\n",
              "      <td>115.4274</td>\n",
              "      <td>0.9847</td>\n",
              "      <td>0.3883</td>\n",
              "      <td>0.4171</td>\n",
              "    </tr>\n",
              "    <tr>\n",
              "      <th>1</th>\n",
              "      <td>74.3800</td>\n",
              "      <td>13606.6799</td>\n",
              "      <td>116.6477</td>\n",
              "      <td>0.9842</td>\n",
              "      <td>0.4197</td>\n",
              "      <td>0.4684</td>\n",
              "    </tr>\n",
              "    <tr>\n",
              "      <th>2</th>\n",
              "      <td>74.2924</td>\n",
              "      <td>12768.6796</td>\n",
              "      <td>112.9986</td>\n",
              "      <td>0.9851</td>\n",
              "      <td>0.4026</td>\n",
              "      <td>0.4447</td>\n",
              "    </tr>\n",
              "    <tr>\n",
              "      <th>3</th>\n",
              "      <td>75.1349</td>\n",
              "      <td>16570.5778</td>\n",
              "      <td>128.7268</td>\n",
              "      <td>0.9809</td>\n",
              "      <td>0.4225</td>\n",
              "      <td>0.5267</td>\n",
              "    </tr>\n",
              "    <tr>\n",
              "      <th>4</th>\n",
              "      <td>73.6563</td>\n",
              "      <td>12493.9810</td>\n",
              "      <td>111.7765</td>\n",
              "      <td>0.9852</td>\n",
              "      <td>0.4297</td>\n",
              "      <td>0.5186</td>\n",
              "    </tr>\n",
              "    <tr>\n",
              "      <th>5</th>\n",
              "      <td>73.8505</td>\n",
              "      <td>12573.6027</td>\n",
              "      <td>112.1321</td>\n",
              "      <td>0.9855</td>\n",
              "      <td>0.3927</td>\n",
              "      <td>0.4159</td>\n",
              "    </tr>\n",
              "    <tr>\n",
              "      <th>6</th>\n",
              "      <td>74.1150</td>\n",
              "      <td>16569.2896</td>\n",
              "      <td>128.7218</td>\n",
              "      <td>0.9807</td>\n",
              "      <td>0.3908</td>\n",
              "      <td>0.4206</td>\n",
              "    </tr>\n",
              "    <tr>\n",
              "      <th>7</th>\n",
              "      <td>74.6088</td>\n",
              "      <td>13037.8159</td>\n",
              "      <td>114.1833</td>\n",
              "      <td>0.9852</td>\n",
              "      <td>0.4315</td>\n",
              "      <td>0.5443</td>\n",
              "    </tr>\n",
              "    <tr>\n",
              "      <th>8</th>\n",
              "      <td>74.1444</td>\n",
              "      <td>12676.4609</td>\n",
              "      <td>112.5898</td>\n",
              "      <td>0.9853</td>\n",
              "      <td>0.4170</td>\n",
              "      <td>0.4715</td>\n",
              "    </tr>\n",
              "    <tr>\n",
              "      <th>9</th>\n",
              "      <td>74.3624</td>\n",
              "      <td>13796.9706</td>\n",
              "      <td>117.4605</td>\n",
              "      <td>0.9837</td>\n",
              "      <td>0.4017</td>\n",
              "      <td>0.4280</td>\n",
              "    </tr>\n",
              "    <tr>\n",
              "      <th>Mean</th>\n",
              "      <td>74.3440</td>\n",
              "      <td>13741.7534</td>\n",
              "      <td>117.0664</td>\n",
              "      <td>0.9841</td>\n",
              "      <td>0.4097</td>\n",
              "      <td>0.4656</td>\n",
              "    </tr>\n",
              "    <tr>\n",
              "      <th>SD</th>\n",
              "      <td>0.4258</td>\n",
              "      <td>1472.8279</td>\n",
              "      <td>6.0997</td>\n",
              "      <td>0.0017</td>\n",
              "      <td>0.0155</td>\n",
              "      <td>0.0463</td>\n",
              "    </tr>\n",
              "  </tbody>\n",
              "</table>\n",
              "</div>\n",
              "      <button class=\"colab-df-convert\" onclick=\"convertToInteractive('df-7bf12ac9-ccd6-454b-8344-c33abe089b04')\"\n",
              "              title=\"Convert this dataframe to an interactive table.\"\n",
              "              style=\"display:none;\">\n",
              "        \n",
              "  <svg xmlns=\"http://www.w3.org/2000/svg\" height=\"24px\"viewBox=\"0 0 24 24\"\n",
              "       width=\"24px\">\n",
              "    <path d=\"M0 0h24v24H0V0z\" fill=\"none\"/>\n",
              "    <path d=\"M18.56 5.44l.94 2.06.94-2.06 2.06-.94-2.06-.94-.94-2.06-.94 2.06-2.06.94zm-11 1L8.5 8.5l.94-2.06 2.06-.94-2.06-.94L8.5 2.5l-.94 2.06-2.06.94zm10 10l.94 2.06.94-2.06 2.06-.94-2.06-.94-.94-2.06-.94 2.06-2.06.94z\"/><path d=\"M17.41 7.96l-1.37-1.37c-.4-.4-.92-.59-1.43-.59-.52 0-1.04.2-1.43.59L10.3 9.45l-7.72 7.72c-.78.78-.78 2.05 0 2.83L4 21.41c.39.39.9.59 1.41.59.51 0 1.02-.2 1.41-.59l7.78-7.78 2.81-2.81c.8-.78.8-2.07 0-2.86zM5.41 20L4 18.59l7.72-7.72 1.47 1.35L5.41 20z\"/>\n",
              "  </svg>\n",
              "      </button>\n",
              "      \n",
              "  <style>\n",
              "    .colab-df-container {\n",
              "      display:flex;\n",
              "      flex-wrap:wrap;\n",
              "      gap: 12px;\n",
              "    }\n",
              "\n",
              "    .colab-df-convert {\n",
              "      background-color: #E8F0FE;\n",
              "      border: none;\n",
              "      border-radius: 50%;\n",
              "      cursor: pointer;\n",
              "      display: none;\n",
              "      fill: #1967D2;\n",
              "      height: 32px;\n",
              "      padding: 0 0 0 0;\n",
              "      width: 32px;\n",
              "    }\n",
              "\n",
              "    .colab-df-convert:hover {\n",
              "      background-color: #E2EBFA;\n",
              "      box-shadow: 0px 1px 2px rgba(60, 64, 67, 0.3), 0px 1px 3px 1px rgba(60, 64, 67, 0.15);\n",
              "      fill: #174EA6;\n",
              "    }\n",
              "\n",
              "    [theme=dark] .colab-df-convert {\n",
              "      background-color: #3B4455;\n",
              "      fill: #D2E3FC;\n",
              "    }\n",
              "\n",
              "    [theme=dark] .colab-df-convert:hover {\n",
              "      background-color: #434B5C;\n",
              "      box-shadow: 0px 1px 3px 1px rgba(0, 0, 0, 0.15);\n",
              "      filter: drop-shadow(0px 1px 2px rgba(0, 0, 0, 0.3));\n",
              "      fill: #FFFFFF;\n",
              "    }\n",
              "  </style>\n",
              "\n",
              "      <script>\n",
              "        const buttonEl =\n",
              "          document.querySelector('#df-7bf12ac9-ccd6-454b-8344-c33abe089b04 button.colab-df-convert');\n",
              "        buttonEl.style.display =\n",
              "          google.colab.kernel.accessAllowed ? 'block' : 'none';\n",
              "\n",
              "        async function convertToInteractive(key) {\n",
              "          const element = document.querySelector('#df-7bf12ac9-ccd6-454b-8344-c33abe089b04');\n",
              "          const dataTable =\n",
              "            await google.colab.kernel.invokeFunction('convertToInteractive',\n",
              "                                                     [key], {});\n",
              "          if (!dataTable) return;\n",
              "\n",
              "          const docLinkHtml = 'Like what you see? Visit the ' +\n",
              "            '<a target=\"_blank\" href=https://colab.research.google.com/notebooks/data_table.ipynb>data table notebook</a>'\n",
              "            + ' to learn more about interactive tables.';\n",
              "          element.innerHTML = '';\n",
              "          dataTable['output_type'] = 'display_data';\n",
              "          await google.colab.output.renderOutput(dataTable, element);\n",
              "          const docLink = document.createElement('div');\n",
              "          docLink.innerHTML = docLinkHtml;\n",
              "          element.appendChild(docLink);\n",
              "        }\n",
              "      </script>\n",
              "    </div>\n",
              "  </div>\n",
              "  "
            ],
            "text/plain": [
              "          MAE         MSE      RMSE      R2   RMSLE    MAPE\n",
              "0     74.8957  13323.4761  115.4274  0.9847  0.3883  0.4171\n",
              "1     74.3800  13606.6799  116.6477  0.9842  0.4197  0.4684\n",
              "2     74.2924  12768.6796  112.9986  0.9851  0.4026  0.4447\n",
              "3     75.1349  16570.5778  128.7268  0.9809  0.4225  0.5267\n",
              "4     73.6563  12493.9810  111.7765  0.9852  0.4297  0.5186\n",
              "5     73.8505  12573.6027  112.1321  0.9855  0.3927  0.4159\n",
              "6     74.1150  16569.2896  128.7218  0.9807  0.3908  0.4206\n",
              "7     74.6088  13037.8159  114.1833  0.9852  0.4315  0.5443\n",
              "8     74.1444  12676.4609  112.5898  0.9853  0.4170  0.4715\n",
              "9     74.3624  13796.9706  117.4605  0.9837  0.4017  0.4280\n",
              "Mean  74.3440  13741.7534  117.0664  0.9841  0.4097  0.4656\n",
              "SD     0.4258   1472.8279    6.0997  0.0017  0.0155  0.0463"
            ]
          },
          "metadata": {},
          "output_type": "display_data"
        }
      ],
      "source": [
        "catboost=create_model('catboost')"
      ]
    },
    {
      "cell_type": "code",
      "execution_count": null,
      "metadata": {
        "colab": {
          "background_save": true,
          "base_uri": "https://localhost:8080/",
          "height": 613
        },
        "id": "85dqTEetKydU",
        "outputId": "fe986fa2-2de8-4441-a9d3-c6f549d8906d"
      },
      "outputs": [
        {
          "data": {
            "text/html": [
              "\n",
              "  <div id=\"df-bbe772ab-1fbf-4d83-b5fa-abf83f4702fc\">\n",
              "    <div class=\"colab-df-container\">\n",
              "      <div>\n",
              "<style scoped>\n",
              "    .dataframe tbody tr th:only-of-type {\n",
              "        vertical-align: middle;\n",
              "    }\n",
              "\n",
              "    .dataframe tbody tr th {\n",
              "        vertical-align: top;\n",
              "    }\n",
              "\n",
              "    .dataframe thead th {\n",
              "        text-align: right;\n",
              "    }\n",
              "</style>\n",
              "<table border=\"1\" class=\"dataframe\">\n",
              "  <thead>\n",
              "    <tr style=\"text-align: right;\">\n",
              "      <th></th>\n",
              "      <th>MAE</th>\n",
              "      <th>MSE</th>\n",
              "      <th>RMSE</th>\n",
              "      <th>R2</th>\n",
              "      <th>RMSLE</th>\n",
              "      <th>MAPE</th>\n",
              "    </tr>\n",
              "  </thead>\n",
              "  <tbody>\n",
              "    <tr>\n",
              "      <th>0</th>\n",
              "      <td>45.5726</td>\n",
              "      <td>4513.7158</td>\n",
              "      <td>67.1842</td>\n",
              "      <td>0.9948</td>\n",
              "      <td>0.3354</td>\n",
              "      <td>0.2499</td>\n",
              "    </tr>\n",
              "    <tr>\n",
              "      <th>1</th>\n",
              "      <td>45.1610</td>\n",
              "      <td>4737.7785</td>\n",
              "      <td>68.8315</td>\n",
              "      <td>0.9945</td>\n",
              "      <td>0.3346</td>\n",
              "      <td>0.2599</td>\n",
              "    </tr>\n",
              "    <tr>\n",
              "      <th>2</th>\n",
              "      <td>45.4089</td>\n",
              "      <td>4285.3714</td>\n",
              "      <td>65.4627</td>\n",
              "      <td>0.9950</td>\n",
              "      <td>0.3287</td>\n",
              "      <td>0.2542</td>\n",
              "    </tr>\n",
              "    <tr>\n",
              "      <th>3</th>\n",
              "      <td>46.0558</td>\n",
              "      <td>7264.7650</td>\n",
              "      <td>85.2336</td>\n",
              "      <td>0.9916</td>\n",
              "      <td>0.3429</td>\n",
              "      <td>0.2928</td>\n",
              "    </tr>\n",
              "    <tr>\n",
              "      <th>4</th>\n",
              "      <td>45.1307</td>\n",
              "      <td>4538.1158</td>\n",
              "      <td>67.3655</td>\n",
              "      <td>0.9946</td>\n",
              "      <td>0.3435</td>\n",
              "      <td>0.2716</td>\n",
              "    </tr>\n",
              "    <tr>\n",
              "      <th>5</th>\n",
              "      <td>45.3246</td>\n",
              "      <td>5485.9450</td>\n",
              "      <td>74.0672</td>\n",
              "      <td>0.9937</td>\n",
              "      <td>0.3212</td>\n",
              "      <td>0.2397</td>\n",
              "    </tr>\n",
              "    <tr>\n",
              "      <th>6</th>\n",
              "      <td>45.7534</td>\n",
              "      <td>8365.4823</td>\n",
              "      <td>91.4630</td>\n",
              "      <td>0.9903</td>\n",
              "      <td>0.3268</td>\n",
              "      <td>0.2465</td>\n",
              "    </tr>\n",
              "    <tr>\n",
              "      <th>7</th>\n",
              "      <td>45.4329</td>\n",
              "      <td>4230.1713</td>\n",
              "      <td>65.0398</td>\n",
              "      <td>0.9952</td>\n",
              "      <td>0.3527</td>\n",
              "      <td>0.2989</td>\n",
              "    </tr>\n",
              "    <tr>\n",
              "      <th>8</th>\n",
              "      <td>45.9570</td>\n",
              "      <td>4410.9328</td>\n",
              "      <td>66.4149</td>\n",
              "      <td>0.9949</td>\n",
              "      <td>0.3502</td>\n",
              "      <td>0.2897</td>\n",
              "    </tr>\n",
              "    <tr>\n",
              "      <th>9</th>\n",
              "      <td>45.7059</td>\n",
              "      <td>7791.8950</td>\n",
              "      <td>88.2717</td>\n",
              "      <td>0.9908</td>\n",
              "      <td>0.3346</td>\n",
              "      <td>0.2565</td>\n",
              "    </tr>\n",
              "    <tr>\n",
              "      <th>Mean</th>\n",
              "      <td>45.5503</td>\n",
              "      <td>5562.4173</td>\n",
              "      <td>73.9334</td>\n",
              "      <td>0.9935</td>\n",
              "      <td>0.3371</td>\n",
              "      <td>0.2660</td>\n",
              "    </tr>\n",
              "    <tr>\n",
              "      <th>SD</th>\n",
              "      <td>0.2999</td>\n",
              "      <td>1526.1789</td>\n",
              "      <td>9.8116</td>\n",
              "      <td>0.0018</td>\n",
              "      <td>0.0097</td>\n",
              "      <td>0.0200</td>\n",
              "    </tr>\n",
              "  </tbody>\n",
              "</table>\n",
              "</div>\n",
              "      <button class=\"colab-df-convert\" onclick=\"convertToInteractive('df-bbe772ab-1fbf-4d83-b5fa-abf83f4702fc')\"\n",
              "              title=\"Convert this dataframe to an interactive table.\"\n",
              "              style=\"display:none;\">\n",
              "        \n",
              "  <svg xmlns=\"http://www.w3.org/2000/svg\" height=\"24px\"viewBox=\"0 0 24 24\"\n",
              "       width=\"24px\">\n",
              "    <path d=\"M0 0h24v24H0V0z\" fill=\"none\"/>\n",
              "    <path d=\"M18.56 5.44l.94 2.06.94-2.06 2.06-.94-2.06-.94-.94-2.06-.94 2.06-2.06.94zm-11 1L8.5 8.5l.94-2.06 2.06-.94-2.06-.94L8.5 2.5l-.94 2.06-2.06.94zm10 10l.94 2.06.94-2.06 2.06-.94-2.06-.94-.94-2.06-.94 2.06-2.06.94z\"/><path d=\"M17.41 7.96l-1.37-1.37c-.4-.4-.92-.59-1.43-.59-.52 0-1.04.2-1.43.59L10.3 9.45l-7.72 7.72c-.78.78-.78 2.05 0 2.83L4 21.41c.39.39.9.59 1.41.59.51 0 1.02-.2 1.41-.59l7.78-7.78 2.81-2.81c.8-.78.8-2.07 0-2.86zM5.41 20L4 18.59l7.72-7.72 1.47 1.35L5.41 20z\"/>\n",
              "  </svg>\n",
              "      </button>\n",
              "      \n",
              "  <style>\n",
              "    .colab-df-container {\n",
              "      display:flex;\n",
              "      flex-wrap:wrap;\n",
              "      gap: 12px;\n",
              "    }\n",
              "\n",
              "    .colab-df-convert {\n",
              "      background-color: #E8F0FE;\n",
              "      border: none;\n",
              "      border-radius: 50%;\n",
              "      cursor: pointer;\n",
              "      display: none;\n",
              "      fill: #1967D2;\n",
              "      height: 32px;\n",
              "      padding: 0 0 0 0;\n",
              "      width: 32px;\n",
              "    }\n",
              "\n",
              "    .colab-df-convert:hover {\n",
              "      background-color: #E2EBFA;\n",
              "      box-shadow: 0px 1px 2px rgba(60, 64, 67, 0.3), 0px 1px 3px 1px rgba(60, 64, 67, 0.15);\n",
              "      fill: #174EA6;\n",
              "    }\n",
              "\n",
              "    [theme=dark] .colab-df-convert {\n",
              "      background-color: #3B4455;\n",
              "      fill: #D2E3FC;\n",
              "    }\n",
              "\n",
              "    [theme=dark] .colab-df-convert:hover {\n",
              "      background-color: #434B5C;\n",
              "      box-shadow: 0px 1px 3px 1px rgba(0, 0, 0, 0.15);\n",
              "      filter: drop-shadow(0px 1px 2px rgba(0, 0, 0, 0.3));\n",
              "      fill: #FFFFFF;\n",
              "    }\n",
              "  </style>\n",
              "\n",
              "      <script>\n",
              "        const buttonEl =\n",
              "          document.querySelector('#df-bbe772ab-1fbf-4d83-b5fa-abf83f4702fc button.colab-df-convert');\n",
              "        buttonEl.style.display =\n",
              "          google.colab.kernel.accessAllowed ? 'block' : 'none';\n",
              "\n",
              "        async function convertToInteractive(key) {\n",
              "          const element = document.querySelector('#df-bbe772ab-1fbf-4d83-b5fa-abf83f4702fc');\n",
              "          const dataTable =\n",
              "            await google.colab.kernel.invokeFunction('convertToInteractive',\n",
              "                                                     [key], {});\n",
              "          if (!dataTable) return;\n",
              "\n",
              "          const docLinkHtml = 'Like what you see? Visit the ' +\n",
              "            '<a target=\"_blank\" href=https://colab.research.google.com/notebooks/data_table.ipynb>data table notebook</a>'\n",
              "            + ' to learn more about interactive tables.';\n",
              "          element.innerHTML = '';\n",
              "          dataTable['output_type'] = 'display_data';\n",
              "          await google.colab.output.renderOutput(dataTable, element);\n",
              "          const docLink = document.createElement('div');\n",
              "          docLink.innerHTML = docLinkHtml;\n",
              "          element.appendChild(docLink);\n",
              "        }\n",
              "      </script>\n",
              "    </div>\n",
              "  </div>\n",
              "  "
            ],
            "text/plain": [
              "          MAE        MSE     RMSE      R2   RMSLE    MAPE\n",
              "0     45.5726  4513.7158  67.1842  0.9948  0.3354  0.2499\n",
              "1     45.1610  4737.7785  68.8315  0.9945  0.3346  0.2599\n",
              "2     45.4089  4285.3714  65.4627  0.9950  0.3287  0.2542\n",
              "3     46.0558  7264.7650  85.2336  0.9916  0.3429  0.2928\n",
              "4     45.1307  4538.1158  67.3655  0.9946  0.3435  0.2716\n",
              "5     45.3246  5485.9450  74.0672  0.9937  0.3212  0.2397\n",
              "6     45.7534  8365.4823  91.4630  0.9903  0.3268  0.2465\n",
              "7     45.4329  4230.1713  65.0398  0.9952  0.3527  0.2989\n",
              "8     45.9570  4410.9328  66.4149  0.9949  0.3502  0.2897\n",
              "9     45.7059  7791.8950  88.2717  0.9908  0.3346  0.2565\n",
              "Mean  45.5503  5562.4173  73.9334  0.9935  0.3371  0.2660\n",
              "SD     0.2999  1526.1789   9.8116  0.0018  0.0097  0.0200"
            ]
          },
          "metadata": {},
          "output_type": "display_data"
        }
      ],
      "source": [
        "import numpy as np\n",
        "cat = [create_model('catboost', learning_rate=i) for i in np.arange(0.1,1,0.1)]"
      ]
    },
    {
      "cell_type": "code",
      "execution_count": null,
      "metadata": {
        "id": "jpmM-QWGMn-n"
      },
      "outputs": [],
      "source": [
        "print(len(cat))"
      ]
    },
    {
      "cell_type": "code",
      "execution_count": null,
      "metadata": {
        "id": "ZBeMiA8-MoBC"
      },
      "outputs": [],
      "source": [
        "tuned_cat = tune_model(catboost, n_iter=50, optimize = 'MAE')"
      ]
    },
    {
      "cell_type": "code",
      "execution_count": null,
      "metadata": {
        "id": "HPknV19eMoDm"
      },
      "outputs": [],
      "source": [
        "tuned_cat"
      ]
    },
    {
      "cell_type": "markdown",
      "source": [
        "## catboost"
      ],
      "metadata": {
        "id": "5S5DzMEn6n_T"
      }
    },
    {
      "cell_type": "code",
      "source": [
        "pip install catboost"
      ],
      "metadata": {
        "colab": {
          "base_uri": "https://localhost:8080/"
        },
        "id": "t4ZvXgnG9M0v",
        "outputId": "88a645a2-5696-4809-e703-63bd16a7618a"
      },
      "execution_count": null,
      "outputs": [
        {
          "output_type": "stream",
          "name": "stdout",
          "text": [
            "Collecting catboost\n",
            "  Downloading catboost-1.0.4-cp37-none-manylinux1_x86_64.whl (76.1 MB)\n",
            "\u001b[K     |████████████████████████████████| 76.1 MB 1.2 MB/s \n",
            "\u001b[?25hRequirement already satisfied: plotly in /usr/local/lib/python3.7/dist-packages (from catboost) (5.5.0)\n",
            "Requirement already satisfied: pandas>=0.24.0 in /usr/local/lib/python3.7/dist-packages (from catboost) (1.3.5)\n",
            "Requirement already satisfied: graphviz in /usr/local/lib/python3.7/dist-packages (from catboost) (0.10.1)\n",
            "Requirement already satisfied: numpy>=1.16.0 in /usr/local/lib/python3.7/dist-packages (from catboost) (1.21.5)\n",
            "Requirement already satisfied: six in /usr/local/lib/python3.7/dist-packages (from catboost) (1.15.0)\n",
            "Requirement already satisfied: matplotlib in /usr/local/lib/python3.7/dist-packages (from catboost) (3.2.2)\n",
            "Requirement already satisfied: scipy in /usr/local/lib/python3.7/dist-packages (from catboost) (1.4.1)\n",
            "Requirement already satisfied: pytz>=2017.3 in /usr/local/lib/python3.7/dist-packages (from pandas>=0.24.0->catboost) (2018.9)\n",
            "Requirement already satisfied: python-dateutil>=2.7.3 in /usr/local/lib/python3.7/dist-packages (from pandas>=0.24.0->catboost) (2.8.2)\n",
            "Requirement already satisfied: cycler>=0.10 in /usr/local/lib/python3.7/dist-packages (from matplotlib->catboost) (0.11.0)\n",
            "Requirement already satisfied: kiwisolver>=1.0.1 in /usr/local/lib/python3.7/dist-packages (from matplotlib->catboost) (1.3.2)\n",
            "Requirement already satisfied: pyparsing!=2.0.4,!=2.1.2,!=2.1.6,>=2.0.1 in /usr/local/lib/python3.7/dist-packages (from matplotlib->catboost) (3.0.7)\n",
            "Requirement already satisfied: tenacity>=6.2.0 in /usr/local/lib/python3.7/dist-packages (from plotly->catboost) (8.0.1)\n",
            "Installing collected packages: catboost\n",
            "Successfully installed catboost-1.0.4\n"
          ]
        }
      ]
    },
    {
      "cell_type": "code",
      "source": [
        "from catboost import CatBoostRegressor\n",
        "\n",
        "model = CatBoostRegressor(\n",
        "    n_estimators = 200,\n",
        "    loss_function = 'MAE',\n",
        "    eval_metric = 'RMSE',\n",
        "    cat_features = cfi )"
      ],
      "metadata": {
        "id": "c6tB_V6MBmyr"
      },
      "execution_count": null,
      "outputs": []
    },
    {
      "cell_type": "code",
      "source": [
        "from catboost import CatBoostRegressor\n",
        "\n",
        "cat=CatBoostRegressor(\n",
        "    loss_function='MAE',\n",
        "    eval_metric='RMSE'\n",
        ")\n",
        "cat.fit(x_train,y_train,eval_set=(x_test,y_test),plot=True)\n"
      ],
      "metadata": {
        "colab": {
          "base_uri": "https://localhost:8080/",
          "height": 1000,
          "referenced_widgets": [
            "2d4ebede22ef4f69a931c2b4dfaeb436"
          ]
        },
        "id": "a-iwchEq6pWU",
        "outputId": "83763ab2-b67f-4086-eefb-3b53a4a9e33d"
      },
      "execution_count": null,
      "outputs": [
        {
          "output_type": "display_data",
          "data": {
            "application/vnd.jupyter.widget-view+json": {
              "model_id": "2d4ebede22ef4f69a931c2b4dfaeb436",
              "version_minor": 0,
              "version_major": 2
            },
            "text/plain": [
              "MetricVisualizer(layout=Layout(align_self='stretch', height='500px'))"
            ]
          },
          "metadata": {}
        },
        {
          "output_type": "stream",
          "name": "stdout",
          "text": [
            "0:\tlearn: 936.5561594\ttest: 1058.0596794\tbest: 1058.0596794 (0)\ttotal: 119ms\tremaining: 1m 59s\n",
            "1:\tlearn: 914.6349260\ttest: 1036.2967865\tbest: 1036.2967865 (1)\ttotal: 206ms\tremaining: 1m 42s\n",
            "2:\tlearn: 894.7023665\ttest: 1016.6037728\tbest: 1016.6037728 (2)\ttotal: 267ms\tremaining: 1m 28s\n",
            "3:\tlearn: 874.2473970\ttest: 996.2829016\tbest: 996.2829016 (3)\ttotal: 350ms\tremaining: 1m 27s\n",
            "4:\tlearn: 854.5368506\ttest: 976.6910595\tbest: 976.6910595 (4)\ttotal: 439ms\tremaining: 1m 27s\n",
            "5:\tlearn: 836.9347132\ttest: 959.3589143\tbest: 959.3589143 (5)\ttotal: 489ms\tremaining: 1m 20s\n",
            "6:\tlearn: 818.9334166\ttest: 941.5316123\tbest: 941.5316123 (6)\ttotal: 574ms\tremaining: 1m 21s\n",
            "7:\tlearn: 802.2849284\ttest: 925.1582985\tbest: 925.1582985 (7)\ttotal: 668ms\tremaining: 1m 22s\n",
            "8:\tlearn: 786.8229844\ttest: 910.0873140\tbest: 910.0873140 (8)\ttotal: 757ms\tremaining: 1m 23s\n",
            "9:\tlearn: 771.5388034\ttest: 895.0313584\tbest: 895.0313584 (9)\ttotal: 842ms\tremaining: 1m 23s\n",
            "10:\tlearn: 756.9640553\ttest: 880.8287863\tbest: 880.8287863 (10)\ttotal: 907ms\tremaining: 1m 21s\n",
            "11:\tlearn: 741.2823387\ttest: 865.1909907\tbest: 865.1909907 (11)\ttotal: 980ms\tremaining: 1m 20s\n",
            "12:\tlearn: 727.3907476\ttest: 851.4970852\tbest: 851.4970852 (12)\ttotal: 1.03s\tremaining: 1m 18s\n",
            "13:\tlearn: 713.7049722\ttest: 838.0132979\tbest: 838.0132979 (13)\ttotal: 1.14s\tremaining: 1m 19s\n",
            "14:\tlearn: 700.7254767\ttest: 825.2068558\tbest: 825.2068558 (14)\ttotal: 1.24s\tremaining: 1m 21s\n",
            "15:\tlearn: 687.0305245\ttest: 811.5049814\tbest: 811.5049814 (15)\ttotal: 1.31s\tremaining: 1m 20s\n",
            "16:\tlearn: 674.3434850\ttest: 798.8751887\tbest: 798.8751887 (16)\ttotal: 1.37s\tremaining: 1m 19s\n",
            "17:\tlearn: 662.1500684\ttest: 786.4778302\tbest: 786.4778302 (17)\ttotal: 1.44s\tremaining: 1m 18s\n",
            "18:\tlearn: 650.7040105\ttest: 775.2037160\tbest: 775.2037160 (18)\ttotal: 1.51s\tremaining: 1m 17s\n",
            "19:\tlearn: 638.1414834\ttest: 762.2901331\tbest: 762.2901331 (19)\ttotal: 1.59s\tremaining: 1m 17s\n",
            "20:\tlearn: 626.0705274\ttest: 749.8479751\tbest: 749.8479751 (20)\ttotal: 1.69s\tremaining: 1m 18s\n",
            "21:\tlearn: 614.9355822\ttest: 738.7117870\tbest: 738.7117870 (21)\ttotal: 1.77s\tremaining: 1m 18s\n",
            "22:\tlearn: 603.8175592\ttest: 727.1913312\tbest: 727.1913312 (22)\ttotal: 1.85s\tremaining: 1m 18s\n",
            "23:\tlearn: 594.7890747\ttest: 718.4634274\tbest: 718.4634274 (23)\ttotal: 1.94s\tremaining: 1m 18s\n",
            "24:\tlearn: 584.2404649\ttest: 707.4972974\tbest: 707.4972974 (24)\ttotal: 2s\tremaining: 1m 18s\n",
            "25:\tlearn: 574.3638592\ttest: 697.2539385\tbest: 697.2539385 (25)\ttotal: 2.1s\tremaining: 1m 18s\n",
            "26:\tlearn: 564.5522050\ttest: 686.9946478\tbest: 686.9946478 (26)\ttotal: 2.18s\tremaining: 1m 18s\n",
            "27:\tlearn: 555.3703604\ttest: 677.4142855\tbest: 677.4142855 (27)\ttotal: 2.26s\tremaining: 1m 18s\n",
            "28:\tlearn: 546.7289536\ttest: 668.4565661\tbest: 668.4565661 (28)\ttotal: 2.42s\tremaining: 1m 20s\n",
            "29:\tlearn: 539.3394414\ttest: 660.8239139\tbest: 660.8239139 (29)\ttotal: 2.55s\tremaining: 1m 22s\n",
            "30:\tlearn: 531.4602114\ttest: 652.9235974\tbest: 652.9235974 (30)\ttotal: 2.71s\tremaining: 1m 24s\n",
            "31:\tlearn: 523.2991318\ttest: 644.3309822\tbest: 644.3309822 (31)\ttotal: 2.81s\tremaining: 1m 25s\n",
            "32:\tlearn: 515.8222796\ttest: 636.5412706\tbest: 636.5412706 (32)\ttotal: 2.89s\tremaining: 1m 24s\n",
            "33:\tlearn: 508.8162822\ttest: 629.6034750\tbest: 629.6034750 (33)\ttotal: 2.93s\tremaining: 1m 23s\n",
            "34:\tlearn: 502.4091174\ttest: 622.9120226\tbest: 622.9120226 (34)\ttotal: 2.97s\tremaining: 1m 21s\n",
            "35:\tlearn: 495.0385201\ttest: 615.0107862\tbest: 615.0107862 (35)\ttotal: 3.01s\tremaining: 1m 20s\n",
            "36:\tlearn: 488.7449288\ttest: 608.7359237\tbest: 608.7359237 (36)\ttotal: 3.05s\tremaining: 1m 19s\n",
            "37:\tlearn: 481.1899361\ttest: 600.5055979\tbest: 600.5055979 (37)\ttotal: 3.09s\tremaining: 1m 18s\n",
            "38:\tlearn: 474.7009045\ttest: 593.5246724\tbest: 593.5246724 (38)\ttotal: 3.13s\tremaining: 1m 17s\n",
            "39:\tlearn: 468.7358528\ttest: 587.4267602\tbest: 587.4267602 (39)\ttotal: 3.17s\tremaining: 1m 16s\n",
            "40:\tlearn: 462.6604176\ttest: 580.8423503\tbest: 580.8423503 (40)\ttotal: 3.21s\tremaining: 1m 15s\n",
            "41:\tlearn: 457.9884375\ttest: 576.0331418\tbest: 576.0331418 (41)\ttotal: 3.25s\tremaining: 1m 14s\n",
            "42:\tlearn: 452.1263798\ttest: 569.5874968\tbest: 569.5874968 (42)\ttotal: 3.29s\tremaining: 1m 13s\n",
            "43:\tlearn: 446.5055680\ttest: 563.3748115\tbest: 563.3748115 (43)\ttotal: 3.33s\tremaining: 1m 12s\n",
            "44:\tlearn: 441.2140937\ttest: 557.8141806\tbest: 557.8141806 (44)\ttotal: 3.37s\tremaining: 1m 11s\n",
            "45:\tlearn: 436.0159568\ttest: 552.2346417\tbest: 552.2346417 (45)\ttotal: 3.41s\tremaining: 1m 10s\n",
            "46:\tlearn: 432.0911363\ttest: 548.1293030\tbest: 548.1293030 (46)\ttotal: 3.45s\tremaining: 1m 9s\n",
            "47:\tlearn: 427.0755587\ttest: 542.4052800\tbest: 542.4052800 (47)\ttotal: 3.49s\tremaining: 1m 9s\n",
            "48:\tlearn: 423.3881433\ttest: 538.5260873\tbest: 538.5260873 (48)\ttotal: 3.52s\tremaining: 1m 8s\n",
            "49:\tlearn: 418.9171525\ttest: 533.7169684\tbest: 533.7169684 (49)\ttotal: 3.58s\tremaining: 1m 8s\n",
            "50:\tlearn: 414.5056503\ttest: 528.7387955\tbest: 528.7387955 (50)\ttotal: 3.62s\tremaining: 1m 7s\n",
            "51:\tlearn: 411.1997478\ttest: 525.2213626\tbest: 525.2213626 (51)\ttotal: 3.67s\tremaining: 1m 6s\n",
            "52:\tlearn: 406.3889020\ttest: 519.6553646\tbest: 519.6553646 (52)\ttotal: 3.7s\tremaining: 1m 6s\n",
            "53:\tlearn: 403.3144215\ttest: 516.3575924\tbest: 516.3575924 (53)\ttotal: 3.74s\tremaining: 1m 5s\n",
            "54:\tlearn: 399.7835052\ttest: 512.3118916\tbest: 512.3118916 (54)\ttotal: 3.79s\tremaining: 1m 5s\n",
            "55:\tlearn: 396.5817796\ttest: 508.6771860\tbest: 508.6771860 (55)\ttotal: 3.83s\tremaining: 1m 4s\n",
            "56:\tlearn: 393.2522950\ttest: 505.0540330\tbest: 505.0540330 (56)\ttotal: 3.87s\tremaining: 1m 4s\n",
            "57:\tlearn: 389.7727505\ttest: 501.3079156\tbest: 501.3079156 (57)\ttotal: 3.91s\tremaining: 1m 3s\n",
            "58:\tlearn: 386.3729122\ttest: 497.4810650\tbest: 497.4810650 (58)\ttotal: 3.95s\tremaining: 1m 2s\n",
            "59:\tlearn: 382.9890367\ttest: 493.5047711\tbest: 493.5047711 (59)\ttotal: 3.98s\tremaining: 1m 2s\n",
            "60:\tlearn: 380.0806021\ttest: 490.3249291\tbest: 490.3249291 (60)\ttotal: 4.03s\tremaining: 1m 1s\n",
            "61:\tlearn: 376.3912882\ttest: 485.9533465\tbest: 485.9533465 (61)\ttotal: 4.07s\tremaining: 1m 1s\n",
            "62:\tlearn: 374.1945216\ttest: 483.4962383\tbest: 483.4962383 (62)\ttotal: 4.12s\tremaining: 1m 1s\n",
            "63:\tlearn: 371.5574370\ttest: 480.4479459\tbest: 480.4479459 (63)\ttotal: 4.16s\tremaining: 1m\n",
            "64:\tlearn: 369.0136426\ttest: 477.5290054\tbest: 477.5290054 (64)\ttotal: 4.2s\tremaining: 1m\n",
            "65:\tlearn: 367.0981012\ttest: 475.6076166\tbest: 475.6076166 (65)\ttotal: 4.24s\tremaining: 1m\n",
            "66:\tlearn: 364.2599711\ttest: 472.0481808\tbest: 472.0481808 (66)\ttotal: 4.28s\tremaining: 59.6s\n",
            "67:\tlearn: 362.3744722\ttest: 470.0948172\tbest: 470.0948172 (67)\ttotal: 4.32s\tremaining: 59.2s\n",
            "68:\tlearn: 359.8319361\ttest: 466.9967363\tbest: 466.9967363 (68)\ttotal: 4.36s\tremaining: 58.8s\n",
            "69:\tlearn: 357.6632149\ttest: 464.4801167\tbest: 464.4801167 (69)\ttotal: 4.4s\tremaining: 58.5s\n",
            "70:\tlearn: 355.8573727\ttest: 462.3826813\tbest: 462.3826813 (70)\ttotal: 4.44s\tremaining: 58.1s\n",
            "71:\tlearn: 352.9714532\ttest: 458.7532359\tbest: 458.7532359 (71)\ttotal: 4.48s\tremaining: 57.8s\n",
            "72:\tlearn: 351.4307366\ttest: 457.0380133\tbest: 457.0380133 (72)\ttotal: 4.53s\tremaining: 57.5s\n",
            "73:\tlearn: 348.7174329\ttest: 453.5859106\tbest: 453.5859106 (73)\ttotal: 4.56s\tremaining: 57.1s\n",
            "74:\tlearn: 347.2999075\ttest: 452.0731473\tbest: 452.0731473 (74)\ttotal: 4.61s\tremaining: 56.8s\n",
            "75:\tlearn: 344.9208956\ttest: 449.3321302\tbest: 449.3321302 (75)\ttotal: 4.65s\tremaining: 56.6s\n",
            "76:\tlearn: 343.2527481\ttest: 447.3490536\tbest: 447.3490536 (76)\ttotal: 4.7s\tremaining: 56.4s\n",
            "77:\tlearn: 340.5581358\ttest: 443.9940116\tbest: 443.9940116 (77)\ttotal: 4.74s\tremaining: 56.1s\n",
            "78:\tlearn: 339.1786751\ttest: 442.4671363\tbest: 442.4671363 (78)\ttotal: 4.79s\tremaining: 55.9s\n",
            "79:\tlearn: 337.6643643\ttest: 440.6613198\tbest: 440.6613198 (79)\ttotal: 4.83s\tremaining: 55.6s\n",
            "80:\tlearn: 335.4831987\ttest: 437.8477821\tbest: 437.8477821 (80)\ttotal: 4.87s\tremaining: 55.3s\n",
            "81:\tlearn: 333.3731027\ttest: 435.2717400\tbest: 435.2717400 (81)\ttotal: 4.92s\tremaining: 55s\n",
            "82:\tlearn: 332.2235339\ttest: 433.9973972\tbest: 433.9973972 (82)\ttotal: 4.96s\tremaining: 54.8s\n",
            "83:\tlearn: 330.4145614\ttest: 431.8067347\tbest: 431.8067347 (83)\ttotal: 5s\tremaining: 54.5s\n",
            "84:\tlearn: 329.2950802\ttest: 430.6096333\tbest: 430.6096333 (84)\ttotal: 5.04s\tremaining: 54.3s\n",
            "85:\tlearn: 328.2399784\ttest: 429.4254947\tbest: 429.4254947 (85)\ttotal: 5.09s\tremaining: 54.1s\n",
            "86:\tlearn: 326.3348279\ttest: 427.2464497\tbest: 427.2464497 (86)\ttotal: 5.14s\tremaining: 53.9s\n",
            "87:\tlearn: 324.2170035\ttest: 424.6176716\tbest: 424.6176716 (87)\ttotal: 5.18s\tremaining: 53.7s\n",
            "88:\tlearn: 323.1396097\ttest: 423.3776791\tbest: 423.3776791 (88)\ttotal: 5.22s\tremaining: 53.4s\n",
            "89:\tlearn: 321.9939462\ttest: 422.1039678\tbest: 422.1039678 (89)\ttotal: 5.26s\tremaining: 53.2s\n",
            "90:\tlearn: 320.7441153\ttest: 420.6572102\tbest: 420.6572102 (90)\ttotal: 5.3s\tremaining: 53s\n",
            "91:\tlearn: 319.5842939\ttest: 419.3070048\tbest: 419.3070048 (91)\ttotal: 5.34s\tremaining: 52.7s\n",
            "92:\tlearn: 317.9456046\ttest: 417.2805560\tbest: 417.2805560 (92)\ttotal: 5.39s\tremaining: 52.6s\n",
            "93:\tlearn: 316.3916743\ttest: 415.3812138\tbest: 415.3812138 (93)\ttotal: 5.43s\tremaining: 52.4s\n",
            "94:\tlearn: 315.3512266\ttest: 414.1806385\tbest: 414.1806385 (94)\ttotal: 5.47s\tremaining: 52.1s\n",
            "95:\tlearn: 314.0043137\ttest: 412.9616920\tbest: 412.9616920 (95)\ttotal: 5.51s\tremaining: 51.9s\n",
            "96:\tlearn: 313.0426353\ttest: 411.8531497\tbest: 411.8531497 (96)\ttotal: 5.55s\tremaining: 51.7s\n",
            "97:\tlearn: 312.1246588\ttest: 410.7707661\tbest: 410.7707661 (97)\ttotal: 5.6s\tremaining: 51.5s\n",
            "98:\tlearn: 311.0282467\ttest: 409.7790277\tbest: 409.7790277 (98)\ttotal: 5.63s\tremaining: 51.3s\n",
            "99:\tlearn: 310.2896720\ttest: 409.3822557\tbest: 409.3822557 (99)\ttotal: 5.69s\tremaining: 51.2s\n",
            "100:\tlearn: 308.7042096\ttest: 407.6629731\tbest: 407.6629731 (100)\ttotal: 5.73s\tremaining: 51s\n",
            "101:\tlearn: 307.6099682\ttest: 406.6659836\tbest: 406.6659836 (101)\ttotal: 5.77s\tremaining: 50.8s\n",
            "102:\tlearn: 306.7885724\ttest: 405.6858044\tbest: 405.6858044 (102)\ttotal: 5.81s\tremaining: 50.6s\n",
            "103:\tlearn: 305.3102445\ttest: 404.0699267\tbest: 404.0699267 (103)\ttotal: 5.85s\tremaining: 50.4s\n",
            "104:\tlearn: 304.3290918\ttest: 403.2405206\tbest: 403.2405206 (104)\ttotal: 5.9s\tremaining: 50.3s\n",
            "105:\tlearn: 303.6188711\ttest: 402.4203736\tbest: 402.4203736 (105)\ttotal: 5.94s\tremaining: 50.1s\n",
            "106:\tlearn: 302.8311100\ttest: 401.8497402\tbest: 401.8497402 (106)\ttotal: 5.99s\tremaining: 50s\n",
            "107:\tlearn: 302.0802830\ttest: 400.9428492\tbest: 400.9428492 (107)\ttotal: 6.03s\tremaining: 49.8s\n",
            "108:\tlearn: 301.4302364\ttest: 400.1919055\tbest: 400.1919055 (108)\ttotal: 6.07s\tremaining: 49.6s\n",
            "109:\tlearn: 300.8913090\ttest: 399.6511610\tbest: 399.6511610 (109)\ttotal: 6.12s\tremaining: 49.5s\n",
            "110:\tlearn: 299.5655223\ttest: 398.0876852\tbest: 398.0876852 (110)\ttotal: 6.16s\tremaining: 49.4s\n",
            "111:\tlearn: 298.6311770\ttest: 396.8769681\tbest: 396.8769681 (111)\ttotal: 6.21s\tremaining: 49.2s\n",
            "112:\tlearn: 298.1809750\ttest: 396.4423652\tbest: 396.4423652 (112)\ttotal: 6.25s\tremaining: 49.1s\n",
            "113:\tlearn: 297.4744072\ttest: 395.8285996\tbest: 395.8285996 (113)\ttotal: 6.29s\tremaining: 48.9s\n",
            "114:\tlearn: 296.6274812\ttest: 394.9756613\tbest: 394.9756613 (114)\ttotal: 6.33s\tremaining: 48.7s\n",
            "115:\tlearn: 296.0368463\ttest: 394.2997094\tbest: 394.2997094 (115)\ttotal: 6.38s\tremaining: 48.6s\n",
            "116:\tlearn: 295.1575776\ttest: 393.1745493\tbest: 393.1745493 (116)\ttotal: 6.42s\tremaining: 48.5s\n",
            "117:\tlearn: 294.4637846\ttest: 392.3432748\tbest: 392.3432748 (117)\ttotal: 6.47s\tremaining: 48.4s\n",
            "118:\tlearn: 293.4520612\ttest: 390.9962714\tbest: 390.9962714 (118)\ttotal: 6.52s\tremaining: 48.3s\n",
            "119:\tlearn: 292.4201874\ttest: 389.5681156\tbest: 389.5681156 (119)\ttotal: 6.57s\tremaining: 48.2s\n",
            "120:\tlearn: 291.8194081\ttest: 388.8228854\tbest: 388.8228854 (120)\ttotal: 6.62s\tremaining: 48.1s\n",
            "121:\tlearn: 290.6720172\ttest: 387.8271913\tbest: 387.8271913 (121)\ttotal: 6.69s\tremaining: 48.2s\n",
            "122:\tlearn: 289.6054088\ttest: 386.8773527\tbest: 386.8773527 (122)\ttotal: 6.74s\tremaining: 48.1s\n",
            "123:\tlearn: 289.0821401\ttest: 386.2222448\tbest: 386.2222448 (123)\ttotal: 6.8s\tremaining: 48s\n",
            "124:\tlearn: 288.0345816\ttest: 385.3034144\tbest: 385.3034144 (124)\ttotal: 6.85s\tremaining: 48s\n",
            "125:\tlearn: 286.9264263\ttest: 383.7640368\tbest: 383.7640368 (125)\ttotal: 6.9s\tremaining: 47.9s\n",
            "126:\tlearn: 285.9367694\ttest: 382.9118561\tbest: 382.9118561 (126)\ttotal: 6.95s\tremaining: 47.8s\n",
            "127:\tlearn: 284.8880305\ttest: 381.4192292\tbest: 381.4192292 (127)\ttotal: 7s\tremaining: 47.7s\n",
            "128:\tlearn: 284.3101200\ttest: 381.1643035\tbest: 381.1643035 (128)\ttotal: 7.06s\tremaining: 47.7s\n",
            "129:\tlearn: 283.5237697\ttest: 380.1354974\tbest: 380.1354974 (129)\ttotal: 7.11s\tremaining: 47.6s\n",
            "130:\tlearn: 283.2070329\ttest: 379.8589277\tbest: 379.8589277 (130)\ttotal: 7.17s\tremaining: 47.6s\n",
            "131:\tlearn: 282.8419767\ttest: 379.5242582\tbest: 379.5242582 (131)\ttotal: 7.21s\tremaining: 47.4s\n",
            "132:\tlearn: 281.8741224\ttest: 378.4390673\tbest: 378.4390673 (132)\ttotal: 7.25s\tremaining: 47.3s\n",
            "133:\tlearn: 281.5940370\ttest: 378.2296227\tbest: 378.2296227 (133)\ttotal: 7.3s\tremaining: 47.2s\n",
            "134:\tlearn: 280.8505891\ttest: 377.4850787\tbest: 377.4850787 (134)\ttotal: 7.35s\tremaining: 47.1s\n",
            "135:\tlearn: 280.4458701\ttest: 377.0765086\tbest: 377.0765086 (135)\ttotal: 7.39s\tremaining: 46.9s\n",
            "136:\tlearn: 280.0140004\ttest: 376.5286917\tbest: 376.5286917 (136)\ttotal: 7.43s\tremaining: 46.8s\n",
            "137:\tlearn: 279.6028045\ttest: 376.0027599\tbest: 376.0027599 (137)\ttotal: 7.47s\tremaining: 46.7s\n",
            "138:\tlearn: 279.1200241\ttest: 375.5430845\tbest: 375.5430845 (138)\ttotal: 7.51s\tremaining: 46.6s\n",
            "139:\tlearn: 278.6761940\ttest: 374.9991231\tbest: 374.9991231 (139)\ttotal: 7.56s\tremaining: 46.4s\n",
            "140:\tlearn: 278.3155608\ttest: 374.5638318\tbest: 374.5638318 (140)\ttotal: 7.61s\tremaining: 46.3s\n",
            "141:\tlearn: 277.8468883\ttest: 374.3121229\tbest: 374.3121229 (141)\ttotal: 7.64s\tremaining: 46.2s\n",
            "142:\tlearn: 277.4658772\ttest: 373.8336622\tbest: 373.8336622 (142)\ttotal: 7.7s\tremaining: 46.2s\n",
            "143:\tlearn: 277.0603376\ttest: 373.4384478\tbest: 373.4384478 (143)\ttotal: 7.75s\tremaining: 46.1s\n",
            "144:\tlearn: 276.6545221\ttest: 373.1195846\tbest: 373.1195846 (144)\ttotal: 7.79s\tremaining: 46s\n",
            "145:\tlearn: 276.3392351\ttest: 372.7299073\tbest: 372.7299073 (145)\ttotal: 7.84s\tremaining: 45.9s\n",
            "146:\tlearn: 275.9664144\ttest: 372.5662608\tbest: 372.5662608 (146)\ttotal: 7.88s\tremaining: 45.7s\n",
            "147:\tlearn: 275.5856049\ttest: 372.0765818\tbest: 372.0765818 (147)\ttotal: 7.93s\tremaining: 45.6s\n",
            "148:\tlearn: 274.8207940\ttest: 370.9246899\tbest: 370.9246899 (148)\ttotal: 7.97s\tremaining: 45.5s\n",
            "149:\tlearn: 274.4301474\ttest: 370.7921841\tbest: 370.7921841 (149)\ttotal: 8.02s\tremaining: 45.4s\n",
            "150:\tlearn: 274.0616470\ttest: 370.4519716\tbest: 370.4519716 (150)\ttotal: 8.06s\tremaining: 45.3s\n",
            "151:\tlearn: 273.8803179\ttest: 370.3395570\tbest: 370.3395570 (151)\ttotal: 8.11s\tremaining: 45.2s\n",
            "152:\tlearn: 273.7049421\ttest: 370.2161548\tbest: 370.2161548 (152)\ttotal: 8.16s\tremaining: 45.2s\n",
            "153:\tlearn: 273.4417364\ttest: 369.8902918\tbest: 369.8902918 (153)\ttotal: 8.21s\tremaining: 45.1s\n",
            "154:\tlearn: 273.1621149\ttest: 369.5459861\tbest: 369.5459861 (154)\ttotal: 8.25s\tremaining: 45s\n",
            "155:\tlearn: 272.5953428\ttest: 368.8992503\tbest: 368.8992503 (155)\ttotal: 8.3s\tremaining: 44.9s\n",
            "156:\tlearn: 272.4644576\ttest: 368.7476243\tbest: 368.7476243 (156)\ttotal: 8.34s\tremaining: 44.8s\n",
            "157:\tlearn: 272.0751359\ttest: 368.4484512\tbest: 368.4484512 (157)\ttotal: 8.38s\tremaining: 44.7s\n",
            "158:\tlearn: 271.6556627\ttest: 367.9656173\tbest: 367.9656173 (158)\ttotal: 8.43s\tremaining: 44.6s\n",
            "159:\tlearn: 271.2088087\ttest: 367.4916579\tbest: 367.4916579 (159)\ttotal: 8.47s\tremaining: 44.5s\n",
            "160:\tlearn: 270.8022724\ttest: 366.8511182\tbest: 366.8511182 (160)\ttotal: 8.51s\tremaining: 44.4s\n",
            "161:\tlearn: 270.4169501\ttest: 366.5474253\tbest: 366.5474253 (161)\ttotal: 8.56s\tremaining: 44.3s\n",
            "162:\tlearn: 270.0545759\ttest: 366.1347917\tbest: 366.1347917 (162)\ttotal: 8.6s\tremaining: 44.2s\n",
            "163:\tlearn: 269.6228910\ttest: 365.7515208\tbest: 365.7515208 (163)\ttotal: 8.64s\tremaining: 44.1s\n",
            "164:\tlearn: 269.4634154\ttest: 365.6390481\tbest: 365.6390481 (164)\ttotal: 8.71s\tremaining: 44.1s\n",
            "165:\tlearn: 268.9073917\ttest: 365.1343397\tbest: 365.1343397 (165)\ttotal: 8.75s\tremaining: 44s\n",
            "166:\tlearn: 268.5804558\ttest: 364.7032815\tbest: 364.7032815 (166)\ttotal: 8.79s\tremaining: 43.9s\n",
            "167:\tlearn: 268.2188483\ttest: 364.3824421\tbest: 364.3824421 (167)\ttotal: 8.84s\tremaining: 43.8s\n",
            "168:\tlearn: 267.8688535\ttest: 364.0910289\tbest: 364.0910289 (168)\ttotal: 8.89s\tremaining: 43.7s\n",
            "169:\tlearn: 267.4890419\ttest: 363.7770077\tbest: 363.7770077 (169)\ttotal: 8.93s\tremaining: 43.6s\n",
            "170:\tlearn: 267.1719085\ttest: 363.5287036\tbest: 363.5287036 (170)\ttotal: 8.98s\tremaining: 43.5s\n",
            "171:\tlearn: 266.4772921\ttest: 362.5807975\tbest: 362.5807975 (171)\ttotal: 9.02s\tremaining: 43.4s\n",
            "172:\tlearn: 266.2640914\ttest: 362.3667040\tbest: 362.3667040 (172)\ttotal: 9.06s\tremaining: 43.3s\n",
            "173:\tlearn: 266.0298699\ttest: 362.0676254\tbest: 362.0676254 (173)\ttotal: 9.11s\tremaining: 43.3s\n",
            "174:\tlearn: 265.8683875\ttest: 361.9959841\tbest: 361.9959841 (174)\ttotal: 9.16s\tremaining: 43.2s\n",
            "175:\tlearn: 265.2603853\ttest: 361.4291323\tbest: 361.4291323 (175)\ttotal: 9.21s\tremaining: 43.1s\n",
            "176:\tlearn: 264.7778621\ttest: 361.0100986\tbest: 361.0100986 (176)\ttotal: 9.25s\tremaining: 43s\n",
            "177:\tlearn: 264.6636682\ttest: 361.0030838\tbest: 361.0030838 (177)\ttotal: 9.29s\tremaining: 42.9s\n",
            "178:\tlearn: 264.3734247\ttest: 360.6700306\tbest: 360.6700306 (178)\ttotal: 9.34s\tremaining: 42.8s\n",
            "179:\tlearn: 264.0956583\ttest: 360.3968430\tbest: 360.3968430 (179)\ttotal: 9.38s\tremaining: 42.7s\n",
            "180:\tlearn: 263.8138635\ttest: 360.0219645\tbest: 360.0219645 (180)\ttotal: 9.42s\tremaining: 42.6s\n",
            "181:\tlearn: 263.5502137\ttest: 359.7622041\tbest: 359.7622041 (181)\ttotal: 9.47s\tremaining: 42.5s\n",
            "182:\tlearn: 263.4854244\ttest: 359.7375029\tbest: 359.7375029 (182)\ttotal: 9.52s\tremaining: 42.5s\n",
            "183:\tlearn: 263.1771956\ttest: 359.4146186\tbest: 359.4146186 (183)\ttotal: 9.55s\tremaining: 42.4s\n",
            "184:\tlearn: 263.0291275\ttest: 359.2756824\tbest: 359.2756824 (184)\ttotal: 9.6s\tremaining: 42.3s\n",
            "185:\tlearn: 262.6350927\ttest: 358.3831964\tbest: 358.3831964 (185)\ttotal: 9.64s\tremaining: 42.2s\n",
            "186:\tlearn: 262.2336493\ttest: 358.1658788\tbest: 358.1658788 (186)\ttotal: 9.69s\tremaining: 42.1s\n",
            "187:\tlearn: 261.7806655\ttest: 357.7766778\tbest: 357.7766778 (187)\ttotal: 9.75s\tremaining: 42.1s\n",
            "188:\tlearn: 261.6383164\ttest: 357.6722147\tbest: 357.6722147 (188)\ttotal: 9.79s\tremaining: 42s\n",
            "189:\tlearn: 261.2994060\ttest: 357.4413458\tbest: 357.4413458 (189)\ttotal: 9.83s\tremaining: 41.9s\n",
            "190:\tlearn: 260.9354568\ttest: 356.6095890\tbest: 356.6095890 (190)\ttotal: 9.87s\tremaining: 41.8s\n",
            "191:\tlearn: 260.8062995\ttest: 356.4853196\tbest: 356.4853196 (191)\ttotal: 9.91s\tremaining: 41.7s\n",
            "192:\tlearn: 260.5212351\ttest: 356.3107999\tbest: 356.3107999 (192)\ttotal: 9.95s\tremaining: 41.6s\n",
            "193:\tlearn: 260.4511293\ttest: 356.3234349\tbest: 356.3107999 (192)\ttotal: 9.99s\tremaining: 41.5s\n",
            "194:\tlearn: 260.3201888\ttest: 356.2104382\tbest: 356.2104382 (194)\ttotal: 10s\tremaining: 41.5s\n",
            "195:\tlearn: 259.9430766\ttest: 355.7176016\tbest: 355.7176016 (195)\ttotal: 10.1s\tremaining: 41.4s\n",
            "196:\tlearn: 259.8604203\ttest: 355.7007488\tbest: 355.7007488 (196)\ttotal: 10.1s\tremaining: 41.3s\n",
            "197:\tlearn: 259.4876650\ttest: 355.2303919\tbest: 355.2303919 (197)\ttotal: 10.2s\tremaining: 41.3s\n",
            "198:\tlearn: 259.1924233\ttest: 355.0133219\tbest: 355.0133219 (198)\ttotal: 10.2s\tremaining: 41.2s\n",
            "199:\tlearn: 258.8910085\ttest: 354.7385442\tbest: 354.7385442 (199)\ttotal: 10.3s\tremaining: 41.1s\n",
            "200:\tlearn: 258.7227757\ttest: 354.1981780\tbest: 354.1981780 (200)\ttotal: 10.3s\tremaining: 41s\n",
            "201:\tlearn: 258.5120416\ttest: 353.9483003\tbest: 353.9483003 (201)\ttotal: 10.4s\tremaining: 40.9s\n",
            "202:\tlearn: 258.1385614\ttest: 353.4518946\tbest: 353.4518946 (202)\ttotal: 10.4s\tremaining: 40.9s\n",
            "203:\tlearn: 257.9878288\ttest: 352.9435728\tbest: 352.9435728 (203)\ttotal: 10.4s\tremaining: 40.8s\n",
            "204:\tlearn: 257.9077749\ttest: 352.8866757\tbest: 352.8866757 (204)\ttotal: 10.5s\tremaining: 40.7s\n",
            "205:\tlearn: 257.7855688\ttest: 352.7934430\tbest: 352.7934430 (205)\ttotal: 10.5s\tremaining: 40.6s\n",
            "206:\tlearn: 257.7188671\ttest: 352.7456649\tbest: 352.7456649 (206)\ttotal: 10.6s\tremaining: 40.5s\n",
            "207:\tlearn: 257.5115694\ttest: 352.4983782\tbest: 352.4983782 (207)\ttotal: 10.6s\tremaining: 40.5s\n",
            "208:\tlearn: 257.4261316\ttest: 352.4344876\tbest: 352.4344876 (208)\ttotal: 10.7s\tremaining: 40.4s\n",
            "209:\tlearn: 257.2024746\ttest: 351.9166790\tbest: 351.9166790 (209)\ttotal: 10.7s\tremaining: 40.4s\n",
            "210:\tlearn: 256.4912655\ttest: 350.9613372\tbest: 350.9613372 (210)\ttotal: 10.8s\tremaining: 40.3s\n",
            "211:\tlearn: 256.3441257\ttest: 350.8179691\tbest: 350.8179691 (211)\ttotal: 10.8s\tremaining: 40.2s\n",
            "212:\tlearn: 256.0284308\ttest: 350.5380050\tbest: 350.5380050 (212)\ttotal: 10.9s\tremaining: 40.2s\n",
            "213:\tlearn: 255.6891044\ttest: 350.0925912\tbest: 350.0925912 (213)\ttotal: 10.9s\tremaining: 40.1s\n",
            "214:\tlearn: 255.3547477\ttest: 349.6377104\tbest: 349.6377104 (214)\ttotal: 11s\tremaining: 40s\n",
            "215:\tlearn: 254.9747360\ttest: 349.3229042\tbest: 349.3229042 (215)\ttotal: 11s\tremaining: 39.9s\n",
            "216:\tlearn: 254.8529499\ttest: 348.8843465\tbest: 348.8843465 (216)\ttotal: 11s\tremaining: 39.9s\n",
            "217:\tlearn: 254.6935275\ttest: 348.7282506\tbest: 348.7282506 (217)\ttotal: 11.1s\tremaining: 39.8s\n",
            "218:\tlearn: 254.5080364\ttest: 348.7172088\tbest: 348.7172088 (218)\ttotal: 11.1s\tremaining: 39.7s\n",
            "219:\tlearn: 254.4482215\ttest: 348.6673854\tbest: 348.6673854 (219)\ttotal: 11.2s\tremaining: 39.7s\n",
            "220:\tlearn: 253.9922344\ttest: 348.3797789\tbest: 348.3797789 (220)\ttotal: 11.2s\tremaining: 39.6s\n",
            "221:\tlearn: 253.7184177\ttest: 348.2429761\tbest: 348.2429761 (221)\ttotal: 11.3s\tremaining: 39.5s\n",
            "222:\tlearn: 253.5245265\ttest: 348.0925893\tbest: 348.0925893 (222)\ttotal: 11.3s\tremaining: 39.5s\n",
            "223:\tlearn: 253.0869582\ttest: 347.8256171\tbest: 347.8256171 (223)\ttotal: 11.4s\tremaining: 39.4s\n",
            "224:\tlearn: 252.9898083\ttest: 347.7474542\tbest: 347.7474542 (224)\ttotal: 11.4s\tremaining: 39.3s\n",
            "225:\tlearn: 252.8088130\ttest: 346.9965668\tbest: 346.9965668 (225)\ttotal: 11.4s\tremaining: 39.2s\n",
            "226:\tlearn: 252.7783884\ttest: 346.9421382\tbest: 346.9421382 (226)\ttotal: 11.5s\tremaining: 39.1s\n",
            "227:\tlearn: 252.6496581\ttest: 346.5085949\tbest: 346.5085949 (227)\ttotal: 11.5s\tremaining: 39.1s\n",
            "228:\tlearn: 252.4920400\ttest: 346.3140421\tbest: 346.3140421 (228)\ttotal: 11.6s\tremaining: 39s\n",
            "229:\tlearn: 252.3930622\ttest: 346.1800657\tbest: 346.1800657 (229)\ttotal: 11.6s\tremaining: 38.9s\n",
            "230:\tlearn: 252.3397409\ttest: 346.1847809\tbest: 346.1800657 (229)\ttotal: 11.7s\tremaining: 38.8s\n",
            "231:\tlearn: 252.0596293\ttest: 346.0788133\tbest: 346.0788133 (231)\ttotal: 11.7s\tremaining: 38.8s\n",
            "232:\tlearn: 251.7106984\ttest: 345.7963535\tbest: 345.7963535 (232)\ttotal: 11.8s\tremaining: 38.8s\n",
            "233:\tlearn: 251.6787124\ttest: 345.7824021\tbest: 345.7824021 (233)\ttotal: 11.8s\tremaining: 38.7s\n",
            "234:\tlearn: 251.3573406\ttest: 345.2841342\tbest: 345.2841342 (234)\ttotal: 11.9s\tremaining: 38.7s\n",
            "235:\tlearn: 251.0717308\ttest: 345.0721117\tbest: 345.0721117 (235)\ttotal: 11.9s\tremaining: 38.6s\n",
            "236:\tlearn: 250.7664388\ttest: 344.8759436\tbest: 344.8759436 (236)\ttotal: 12s\tremaining: 38.5s\n",
            "237:\tlearn: 250.3517371\ttest: 344.5323605\tbest: 344.5323605 (237)\ttotal: 12s\tremaining: 38.4s\n",
            "238:\tlearn: 250.2040628\ttest: 344.3356296\tbest: 344.3356296 (238)\ttotal: 12s\tremaining: 38.4s\n",
            "239:\tlearn: 249.8464903\ttest: 344.0070864\tbest: 344.0070864 (239)\ttotal: 12.1s\tremaining: 38.3s\n",
            "240:\tlearn: 249.2297294\ttest: 343.3616623\tbest: 343.3616623 (240)\ttotal: 12.1s\tremaining: 38.2s\n",
            "241:\tlearn: 248.4711456\ttest: 342.6069628\tbest: 342.6069628 (241)\ttotal: 12.2s\tremaining: 38.2s\n",
            "242:\tlearn: 248.4299919\ttest: 342.5815505\tbest: 342.5815505 (242)\ttotal: 12.2s\tremaining: 38.1s\n",
            "243:\tlearn: 248.3224268\ttest: 342.4491142\tbest: 342.4491142 (243)\ttotal: 12.3s\tremaining: 38s\n",
            "244:\tlearn: 247.9211582\ttest: 342.0868090\tbest: 342.0868090 (244)\ttotal: 12.3s\tremaining: 38s\n",
            "245:\tlearn: 247.6721312\ttest: 341.7347150\tbest: 341.7347150 (245)\ttotal: 12.4s\tremaining: 37.9s\n",
            "246:\tlearn: 247.6225451\ttest: 341.7019182\tbest: 341.7019182 (246)\ttotal: 12.4s\tremaining: 37.8s\n",
            "247:\tlearn: 247.2291129\ttest: 341.4733867\tbest: 341.4733867 (247)\ttotal: 12.4s\tremaining: 37.7s\n",
            "248:\tlearn: 247.1535738\ttest: 341.3150052\tbest: 341.3150052 (248)\ttotal: 12.5s\tremaining: 37.7s\n",
            "249:\tlearn: 246.9483237\ttest: 340.8274747\tbest: 340.8274747 (249)\ttotal: 12.5s\tremaining: 37.6s\n",
            "250:\tlearn: 246.5284647\ttest: 340.2893487\tbest: 340.2893487 (250)\ttotal: 12.6s\tremaining: 37.5s\n",
            "251:\tlearn: 246.4912529\ttest: 340.2662293\tbest: 340.2662293 (251)\ttotal: 12.6s\tremaining: 37.5s\n",
            "252:\tlearn: 246.4214567\ttest: 340.2026544\tbest: 340.2026544 (252)\ttotal: 12.7s\tremaining: 37.4s\n",
            "253:\tlearn: 246.3439618\ttest: 340.1385369\tbest: 340.1385369 (253)\ttotal: 12.7s\tremaining: 37.4s\n",
            "254:\tlearn: 246.2712549\ttest: 340.0975725\tbest: 340.0975725 (254)\ttotal: 12.8s\tremaining: 37.4s\n",
            "255:\tlearn: 246.1277087\ttest: 340.0456358\tbest: 340.0456358 (255)\ttotal: 12.8s\tremaining: 37.3s\n",
            "256:\tlearn: 245.9024282\ttest: 339.8743260\tbest: 339.8743260 (256)\ttotal: 12.9s\tremaining: 37.2s\n",
            "257:\tlearn: 245.5347997\ttest: 339.5446223\tbest: 339.5446223 (257)\ttotal: 12.9s\tremaining: 37.2s\n",
            "258:\tlearn: 245.4633364\ttest: 339.4896933\tbest: 339.4896933 (258)\ttotal: 13s\tremaining: 37.1s\n",
            "259:\tlearn: 245.0742499\ttest: 339.1015774\tbest: 339.1015774 (259)\ttotal: 13s\tremaining: 37s\n",
            "260:\tlearn: 244.9782349\ttest: 339.0898074\tbest: 339.0898074 (260)\ttotal: 13s\tremaining: 36.9s\n",
            "261:\tlearn: 244.9135159\ttest: 339.0331915\tbest: 339.0331915 (261)\ttotal: 13.1s\tremaining: 36.9s\n",
            "262:\tlearn: 244.8692980\ttest: 339.0333528\tbest: 339.0331915 (261)\ttotal: 13.1s\tremaining: 36.8s\n",
            "263:\tlearn: 244.6682772\ttest: 338.8824082\tbest: 338.8824082 (263)\ttotal: 13.2s\tremaining: 36.8s\n",
            "264:\tlearn: 244.1922287\ttest: 338.3459752\tbest: 338.3459752 (264)\ttotal: 13.2s\tremaining: 36.7s\n",
            "265:\tlearn: 244.1052206\ttest: 338.2780848\tbest: 338.2780848 (265)\ttotal: 13.3s\tremaining: 36.7s\n",
            "266:\tlearn: 244.0638545\ttest: 338.2442000\tbest: 338.2442000 (266)\ttotal: 13.3s\tremaining: 36.6s\n",
            "267:\tlearn: 243.9145556\ttest: 338.2264667\tbest: 338.2264667 (267)\ttotal: 13.4s\tremaining: 36.5s\n",
            "268:\tlearn: 243.6323700\ttest: 337.9825938\tbest: 337.9825938 (268)\ttotal: 13.4s\tremaining: 36.5s\n",
            "269:\tlearn: 243.4464586\ttest: 337.5284198\tbest: 337.5284198 (269)\ttotal: 13.5s\tremaining: 36.4s\n",
            "270:\tlearn: 243.3985160\ttest: 337.4851728\tbest: 337.4851728 (270)\ttotal: 13.5s\tremaining: 36.3s\n",
            "271:\tlearn: 243.0309394\ttest: 337.2681166\tbest: 337.2681166 (271)\ttotal: 13.6s\tremaining: 36.3s\n",
            "272:\tlearn: 242.8263340\ttest: 337.1196303\tbest: 337.1196303 (272)\ttotal: 13.6s\tremaining: 36.2s\n",
            "273:\tlearn: 242.6733829\ttest: 336.7030954\tbest: 336.7030954 (273)\ttotal: 13.6s\tremaining: 36.1s\n",
            "274:\tlearn: 242.3492012\ttest: 336.3314019\tbest: 336.3314019 (274)\ttotal: 13.7s\tremaining: 36.1s\n",
            "275:\tlearn: 242.2115609\ttest: 335.9805093\tbest: 335.9805093 (275)\ttotal: 13.7s\tremaining: 36s\n",
            "276:\tlearn: 242.0549959\ttest: 335.8497404\tbest: 335.8497404 (276)\ttotal: 13.8s\tremaining: 36s\n",
            "277:\tlearn: 241.7556804\ttest: 335.6106618\tbest: 335.6106618 (277)\ttotal: 13.8s\tremaining: 35.9s\n",
            "278:\tlearn: 241.6940969\ttest: 335.5660889\tbest: 335.5660889 (278)\ttotal: 13.9s\tremaining: 35.9s\n",
            "279:\tlearn: 241.1049358\ttest: 335.1843763\tbest: 335.1843763 (279)\ttotal: 13.9s\tremaining: 35.8s\n",
            "280:\tlearn: 240.9205961\ttest: 334.9827138\tbest: 334.9827138 (280)\ttotal: 14s\tremaining: 35.7s\n",
            "281:\tlearn: 240.8624829\ttest: 334.9375282\tbest: 334.9375282 (281)\ttotal: 14s\tremaining: 35.7s\n",
            "282:\tlearn: 240.7933695\ttest: 334.8584427\tbest: 334.8584427 (282)\ttotal: 14.1s\tremaining: 35.6s\n",
            "283:\tlearn: 240.6131754\ttest: 334.4525582\tbest: 334.4525582 (283)\ttotal: 14.1s\tremaining: 35.6s\n",
            "284:\tlearn: 240.5047496\ttest: 334.3445052\tbest: 334.3445052 (284)\ttotal: 14.1s\tremaining: 35.5s\n",
            "285:\tlearn: 240.1952496\ttest: 334.1574515\tbest: 334.1574515 (285)\ttotal: 14.2s\tremaining: 35.4s\n",
            "286:\tlearn: 239.8128766\ttest: 333.6303457\tbest: 333.6303457 (286)\ttotal: 14.2s\tremaining: 35.4s\n",
            "287:\tlearn: 239.4492113\ttest: 333.4073946\tbest: 333.4073946 (287)\ttotal: 14.3s\tremaining: 35.3s\n",
            "288:\tlearn: 239.0414474\ttest: 332.9222204\tbest: 332.9222204 (288)\ttotal: 14.3s\tremaining: 35.2s\n",
            "289:\tlearn: 238.9627159\ttest: 332.9029195\tbest: 332.9029195 (289)\ttotal: 14.4s\tremaining: 35.2s\n",
            "290:\tlearn: 238.9255056\ttest: 332.8733088\tbest: 332.8733088 (290)\ttotal: 14.4s\tremaining: 35.1s\n",
            "291:\tlearn: 238.8858257\ttest: 332.8468172\tbest: 332.8468172 (291)\ttotal: 14.5s\tremaining: 35.1s\n",
            "292:\tlearn: 238.6109807\ttest: 332.6038574\tbest: 332.6038574 (292)\ttotal: 14.5s\tremaining: 35s\n",
            "293:\tlearn: 238.4577829\ttest: 332.2585818\tbest: 332.2585818 (293)\ttotal: 14.5s\tremaining: 34.9s\n",
            "294:\tlearn: 238.1839992\ttest: 332.0482970\tbest: 332.0482970 (294)\ttotal: 14.6s\tremaining: 34.8s\n",
            "295:\tlearn: 237.8967594\ttest: 331.8082538\tbest: 331.8082538 (295)\ttotal: 14.6s\tremaining: 34.8s\n",
            "296:\tlearn: 237.7428837\ttest: 331.6429398\tbest: 331.6429398 (296)\ttotal: 14.7s\tremaining: 34.7s\n",
            "297:\tlearn: 237.6893638\ttest: 331.5945165\tbest: 331.5945165 (297)\ttotal: 14.7s\tremaining: 34.7s\n",
            "298:\tlearn: 237.5331043\ttest: 331.5054246\tbest: 331.5054246 (298)\ttotal: 14.8s\tremaining: 34.6s\n",
            "299:\tlearn: 237.4651049\ttest: 331.4528271\tbest: 331.4528271 (299)\ttotal: 14.8s\tremaining: 34.6s\n",
            "300:\tlearn: 237.3636613\ttest: 331.3861782\tbest: 331.3861782 (300)\ttotal: 14.9s\tremaining: 34.5s\n",
            "301:\tlearn: 237.3179327\ttest: 331.3383931\tbest: 331.3383931 (301)\ttotal: 14.9s\tremaining: 34.5s\n",
            "302:\tlearn: 237.2909211\ttest: 331.3178364\tbest: 331.3178364 (302)\ttotal: 15s\tremaining: 34.4s\n",
            "303:\tlearn: 237.1821200\ttest: 331.2029317\tbest: 331.2029317 (303)\ttotal: 15s\tremaining: 34.4s\n",
            "304:\tlearn: 237.0943701\ttest: 331.0446448\tbest: 331.0446448 (304)\ttotal: 15.1s\tremaining: 34.3s\n",
            "305:\tlearn: 237.0264986\ttest: 330.8557644\tbest: 330.8557644 (305)\ttotal: 15.1s\tremaining: 34.3s\n",
            "306:\tlearn: 236.8217255\ttest: 330.7530743\tbest: 330.7530743 (306)\ttotal: 15.1s\tremaining: 34.2s\n",
            "307:\tlearn: 236.6565956\ttest: 330.8059226\tbest: 330.7530743 (306)\ttotal: 15.2s\tremaining: 34.1s\n",
            "308:\tlearn: 236.4668252\ttest: 330.6703145\tbest: 330.6703145 (308)\ttotal: 15.2s\tremaining: 34.1s\n",
            "309:\tlearn: 236.1559672\ttest: 329.9814184\tbest: 329.9814184 (309)\ttotal: 15.3s\tremaining: 34s\n",
            "310:\tlearn: 236.1031188\ttest: 329.9271341\tbest: 329.9271341 (310)\ttotal: 15.3s\tremaining: 33.9s\n",
            "311:\tlearn: 236.0113244\ttest: 329.8455443\tbest: 329.8455443 (311)\ttotal: 15.4s\tremaining: 33.9s\n",
            "312:\tlearn: 235.9639922\ttest: 329.8522434\tbest: 329.8455443 (311)\ttotal: 15.4s\tremaining: 33.8s\n",
            "313:\tlearn: 235.9110737\ttest: 329.6915918\tbest: 329.6915918 (313)\ttotal: 15.5s\tremaining: 33.8s\n",
            "314:\tlearn: 235.6812336\ttest: 329.5410286\tbest: 329.5410286 (314)\ttotal: 15.5s\tremaining: 33.7s\n",
            "315:\tlearn: 235.5462326\ttest: 329.3461083\tbest: 329.3461083 (315)\ttotal: 15.5s\tremaining: 33.6s\n",
            "316:\tlearn: 235.1828240\ttest: 328.8160442\tbest: 328.8160442 (316)\ttotal: 15.6s\tremaining: 33.6s\n",
            "317:\tlearn: 235.0498955\ttest: 328.7387760\tbest: 328.7387760 (317)\ttotal: 15.6s\tremaining: 33.5s\n",
            "318:\tlearn: 235.0063522\ttest: 328.7240951\tbest: 328.7240951 (318)\ttotal: 15.7s\tremaining: 33.5s\n",
            "319:\tlearn: 234.9576938\ttest: 328.6855251\tbest: 328.6855251 (319)\ttotal: 15.7s\tremaining: 33.4s\n",
            "320:\tlearn: 234.5756067\ttest: 328.3790348\tbest: 328.3790348 (320)\ttotal: 15.8s\tremaining: 33.4s\n",
            "321:\tlearn: 234.2958229\ttest: 328.0557752\tbest: 328.0557752 (321)\ttotal: 15.8s\tremaining: 33.4s\n",
            "322:\tlearn: 234.1444461\ttest: 327.6911420\tbest: 327.6911420 (322)\ttotal: 15.9s\tremaining: 33.3s\n",
            "323:\tlearn: 233.8241514\ttest: 327.3388434\tbest: 327.3388434 (323)\ttotal: 15.9s\tremaining: 33.2s\n",
            "324:\tlearn: 233.7290709\ttest: 327.2665408\tbest: 327.2665408 (324)\ttotal: 16s\tremaining: 33.2s\n",
            "325:\tlearn: 233.5447230\ttest: 327.0867309\tbest: 327.0867309 (325)\ttotal: 16s\tremaining: 33.1s\n",
            "326:\tlearn: 233.3175568\ttest: 326.7331324\tbest: 326.7331324 (326)\ttotal: 16.1s\tremaining: 33.1s\n",
            "327:\tlearn: 233.2746243\ttest: 326.6972081\tbest: 326.6972081 (327)\ttotal: 16.1s\tremaining: 33s\n",
            "328:\tlearn: 233.2263475\ttest: 326.6565000\tbest: 326.6565000 (328)\ttotal: 16.1s\tremaining: 32.9s\n",
            "329:\tlearn: 233.1253547\ttest: 326.5013053\tbest: 326.5013053 (329)\ttotal: 16.2s\tremaining: 32.9s\n",
            "330:\tlearn: 233.0697784\ttest: 326.4320085\tbest: 326.4320085 (330)\ttotal: 16.2s\tremaining: 32.8s\n",
            "331:\tlearn: 232.9495276\ttest: 326.3433118\tbest: 326.3433118 (331)\ttotal: 16.3s\tremaining: 32.8s\n",
            "332:\tlearn: 232.6491219\ttest: 326.0098037\tbest: 326.0098037 (332)\ttotal: 16.3s\tremaining: 32.7s\n",
            "333:\tlearn: 232.5357181\ttest: 325.8931810\tbest: 325.8931810 (333)\ttotal: 16.4s\tremaining: 32.6s\n",
            "334:\tlearn: 232.4502451\ttest: 325.8398088\tbest: 325.8398088 (334)\ttotal: 16.4s\tremaining: 32.6s\n",
            "335:\tlearn: 232.1632466\ttest: 325.4408635\tbest: 325.4408635 (335)\ttotal: 16.5s\tremaining: 32.5s\n",
            "336:\tlearn: 231.8667041\ttest: 325.2425273\tbest: 325.2425273 (336)\ttotal: 16.5s\tremaining: 32.5s\n",
            "337:\tlearn: 231.5839224\ttest: 324.9271200\tbest: 324.9271200 (337)\ttotal: 16.5s\tremaining: 32.4s\n",
            "338:\tlearn: 231.5558071\ttest: 324.9081441\tbest: 324.9081441 (338)\ttotal: 16.6s\tremaining: 32.4s\n",
            "339:\tlearn: 231.3846274\ttest: 324.6867604\tbest: 324.6867604 (339)\ttotal: 16.6s\tremaining: 32.3s\n",
            "340:\tlearn: 231.3576702\ttest: 324.6632517\tbest: 324.6632517 (340)\ttotal: 16.7s\tremaining: 32.2s\n",
            "341:\tlearn: 230.9806320\ttest: 324.1510231\tbest: 324.1510231 (341)\ttotal: 16.7s\tremaining: 32.2s\n",
            "342:\tlearn: 230.7183756\ttest: 323.6041629\tbest: 323.6041629 (342)\ttotal: 16.8s\tremaining: 32.1s\n",
            "343:\tlearn: 230.5496884\ttest: 323.5007064\tbest: 323.5007064 (343)\ttotal: 16.8s\tremaining: 32.1s\n",
            "344:\tlearn: 230.2245676\ttest: 323.1595275\tbest: 323.1595275 (344)\ttotal: 16.9s\tremaining: 32s\n",
            "345:\tlearn: 230.1241789\ttest: 323.1207109\tbest: 323.1207109 (345)\ttotal: 16.9s\tremaining: 32s\n",
            "346:\tlearn: 230.0561326\ttest: 323.0371569\tbest: 323.0371569 (346)\ttotal: 17s\tremaining: 31.9s\n",
            "347:\tlearn: 229.9231611\ttest: 323.0352168\tbest: 323.0352168 (347)\ttotal: 17s\tremaining: 31.9s\n",
            "348:\tlearn: 229.8886897\ttest: 323.0073750\tbest: 323.0073750 (348)\ttotal: 17.1s\tremaining: 31.8s\n",
            "349:\tlearn: 229.7055844\ttest: 322.9172311\tbest: 322.9172311 (349)\ttotal: 17.1s\tremaining: 31.8s\n",
            "350:\tlearn: 229.4892325\ttest: 322.7427621\tbest: 322.7427621 (350)\ttotal: 17.1s\tremaining: 31.7s\n",
            "351:\tlearn: 229.3225828\ttest: 322.6515906\tbest: 322.6515906 (351)\ttotal: 17.2s\tremaining: 31.6s\n",
            "352:\tlearn: 229.0920486\ttest: 322.4614299\tbest: 322.4614299 (352)\ttotal: 17.2s\tremaining: 31.6s\n",
            "353:\tlearn: 228.8246892\ttest: 322.0427067\tbest: 322.0427067 (353)\ttotal: 17.3s\tremaining: 31.5s\n",
            "354:\tlearn: 228.6205134\ttest: 321.8797733\tbest: 321.8797733 (354)\ttotal: 17.3s\tremaining: 31.5s\n",
            "355:\tlearn: 228.0931676\ttest: 321.2732873\tbest: 321.2732873 (355)\ttotal: 17.4s\tremaining: 31.4s\n",
            "356:\tlearn: 227.7515470\ttest: 320.7996999\tbest: 320.7996999 (356)\ttotal: 17.4s\tremaining: 31.4s\n",
            "357:\tlearn: 227.5246485\ttest: 320.6771161\tbest: 320.6771161 (357)\ttotal: 17.5s\tremaining: 31.3s\n",
            "358:\tlearn: 227.4200357\ttest: 320.5751637\tbest: 320.5751637 (358)\ttotal: 17.5s\tremaining: 31.3s\n",
            "359:\tlearn: 227.0943213\ttest: 320.1959266\tbest: 320.1959266 (359)\ttotal: 17.5s\tremaining: 31.2s\n",
            "360:\tlearn: 226.9324483\ttest: 319.9470757\tbest: 319.9470757 (360)\ttotal: 17.6s\tremaining: 31.1s\n",
            "361:\tlearn: 226.7710026\ttest: 319.7708286\tbest: 319.7708286 (361)\ttotal: 17.6s\tremaining: 31.1s\n",
            "362:\tlearn: 226.6494304\ttest: 319.4815050\tbest: 319.4815050 (362)\ttotal: 17.7s\tremaining: 31s\n",
            "363:\tlearn: 226.6163733\ttest: 319.4448928\tbest: 319.4448928 (363)\ttotal: 17.7s\tremaining: 31s\n",
            "364:\tlearn: 226.2928497\ttest: 319.2301186\tbest: 319.2301186 (364)\ttotal: 17.8s\tremaining: 30.9s\n",
            "365:\tlearn: 226.0843017\ttest: 318.8978780\tbest: 318.8978780 (365)\ttotal: 17.8s\tremaining: 30.9s\n",
            "366:\tlearn: 226.0404540\ttest: 318.8975800\tbest: 318.8975800 (366)\ttotal: 17.9s\tremaining: 30.9s\n",
            "367:\tlearn: 225.8837863\ttest: 318.8097275\tbest: 318.8097275 (367)\ttotal: 17.9s\tremaining: 30.8s\n",
            "368:\tlearn: 225.6172251\ttest: 318.5712680\tbest: 318.5712680 (368)\ttotal: 18s\tremaining: 30.8s\n",
            "369:\tlearn: 225.5002670\ttest: 318.5220063\tbest: 318.5220063 (369)\ttotal: 18s\tremaining: 30.7s\n",
            "370:\tlearn: 225.3093040\ttest: 318.4020697\tbest: 318.4020697 (370)\ttotal: 18.1s\tremaining: 30.6s\n",
            "371:\tlearn: 225.2739263\ttest: 318.3761941\tbest: 318.3761941 (371)\ttotal: 18.1s\tremaining: 30.6s\n",
            "372:\tlearn: 225.1814820\ttest: 318.3018159\tbest: 318.3018159 (372)\ttotal: 18.2s\tremaining: 30.5s\n",
            "373:\tlearn: 225.0145244\ttest: 318.1135982\tbest: 318.1135982 (373)\ttotal: 18.2s\tremaining: 30.5s\n",
            "374:\tlearn: 224.9799248\ttest: 318.0758558\tbest: 318.0758558 (374)\ttotal: 18.3s\tremaining: 30.4s\n",
            "375:\tlearn: 224.5170182\ttest: 317.6561050\tbest: 317.6561050 (375)\ttotal: 18.3s\tremaining: 30.4s\n",
            "376:\tlearn: 224.3989236\ttest: 317.6578361\tbest: 317.6561050 (375)\ttotal: 18.4s\tremaining: 30.3s\n",
            "377:\tlearn: 224.2368152\ttest: 317.5540470\tbest: 317.5540470 (377)\ttotal: 18.4s\tremaining: 30.3s\n",
            "378:\tlearn: 224.1042079\ttest: 317.2371955\tbest: 317.2371955 (378)\ttotal: 18.4s\tremaining: 30.2s\n",
            "379:\tlearn: 224.0534441\ttest: 317.2125867\tbest: 317.2125867 (379)\ttotal: 18.5s\tremaining: 30.2s\n",
            "380:\tlearn: 223.9769052\ttest: 317.1761143\tbest: 317.1761143 (380)\ttotal: 18.5s\tremaining: 30.1s\n",
            "381:\tlearn: 223.9535772\ttest: 317.1618291\tbest: 317.1618291 (381)\ttotal: 18.6s\tremaining: 30s\n",
            "382:\tlearn: 223.8849702\ttest: 317.1081173\tbest: 317.1081173 (382)\ttotal: 18.6s\tremaining: 30s\n",
            "383:\tlearn: 223.8461664\ttest: 317.0698623\tbest: 317.0698623 (383)\ttotal: 18.7s\tremaining: 29.9s\n",
            "384:\tlearn: 223.7398827\ttest: 316.9076623\tbest: 316.9076623 (384)\ttotal: 18.7s\tremaining: 29.9s\n",
            "385:\tlearn: 223.6148855\ttest: 316.6049139\tbest: 316.6049139 (385)\ttotal: 18.8s\tremaining: 29.8s\n",
            "386:\tlearn: 223.3579495\ttest: 316.4750546\tbest: 316.4750546 (386)\ttotal: 18.8s\tremaining: 29.8s\n",
            "387:\tlearn: 223.0989925\ttest: 316.3584189\tbest: 316.3584189 (387)\ttotal: 18.8s\tremaining: 29.7s\n",
            "388:\tlearn: 222.8682656\ttest: 316.2147875\tbest: 316.2147875 (388)\ttotal: 18.9s\tremaining: 29.7s\n",
            "389:\tlearn: 222.5940104\ttest: 315.8896184\tbest: 315.8896184 (389)\ttotal: 18.9s\tremaining: 29.6s\n",
            "390:\tlearn: 222.5234317\ttest: 315.8585543\tbest: 315.8585543 (390)\ttotal: 19s\tremaining: 29.6s\n",
            "391:\tlearn: 222.4041946\ttest: 315.7221907\tbest: 315.7221907 (391)\ttotal: 19s\tremaining: 29.5s\n",
            "392:\tlearn: 222.1646483\ttest: 315.5469653\tbest: 315.5469653 (392)\ttotal: 19.1s\tremaining: 29.5s\n",
            "393:\tlearn: 222.1321372\ttest: 315.5300104\tbest: 315.5300104 (393)\ttotal: 19.1s\tremaining: 29.4s\n",
            "394:\tlearn: 221.7998531\ttest: 315.2885202\tbest: 315.2885202 (394)\ttotal: 19.2s\tremaining: 29.4s\n",
            "395:\tlearn: 221.4850614\ttest: 315.0070263\tbest: 315.0070263 (395)\ttotal: 19.2s\tremaining: 29.3s\n",
            "396:\tlearn: 221.4073695\ttest: 314.9414120\tbest: 314.9414120 (396)\ttotal: 19.3s\tremaining: 29.3s\n",
            "397:\tlearn: 221.3259111\ttest: 314.8777304\tbest: 314.8777304 (397)\ttotal: 19.3s\tremaining: 29.2s\n",
            "398:\tlearn: 221.1449638\ttest: 314.4772644\tbest: 314.4772644 (398)\ttotal: 19.4s\tremaining: 29.2s\n",
            "399:\tlearn: 221.0715144\ttest: 314.4150567\tbest: 314.4150567 (399)\ttotal: 19.4s\tremaining: 29.1s\n",
            "400:\tlearn: 220.8629798\ttest: 314.0793340\tbest: 314.0793340 (400)\ttotal: 19.4s\tremaining: 29s\n",
            "401:\tlearn: 220.7657139\ttest: 313.9704146\tbest: 313.9704146 (401)\ttotal: 19.5s\tremaining: 29s\n",
            "402:\tlearn: 220.7061046\ttest: 314.0189247\tbest: 313.9704146 (401)\ttotal: 19.5s\tremaining: 28.9s\n",
            "403:\tlearn: 220.2631329\ttest: 313.5905552\tbest: 313.5905552 (403)\ttotal: 19.6s\tremaining: 28.9s\n",
            "404:\tlearn: 220.0410705\ttest: 313.4709671\tbest: 313.4709671 (404)\ttotal: 19.6s\tremaining: 28.8s\n",
            "405:\tlearn: 219.9151909\ttest: 313.1510866\tbest: 313.1510866 (405)\ttotal: 19.7s\tremaining: 28.8s\n",
            "406:\tlearn: 219.6015561\ttest: 312.7662178\tbest: 312.7662178 (406)\ttotal: 19.7s\tremaining: 28.7s\n",
            "407:\tlearn: 219.3715482\ttest: 312.4889153\tbest: 312.4889153 (407)\ttotal: 19.8s\tremaining: 28.7s\n",
            "408:\tlearn: 219.2280256\ttest: 312.3183027\tbest: 312.3183027 (408)\ttotal: 19.8s\tremaining: 28.6s\n",
            "409:\tlearn: 218.9591763\ttest: 312.0413664\tbest: 312.0413664 (409)\ttotal: 19.9s\tremaining: 28.6s\n",
            "410:\tlearn: 218.7925748\ttest: 311.8887816\tbest: 311.8887816 (410)\ttotal: 19.9s\tremaining: 28.5s\n",
            "411:\tlearn: 218.7013810\ttest: 311.8153812\tbest: 311.8153812 (411)\ttotal: 20s\tremaining: 28.5s\n",
            "412:\tlearn: 218.4455263\ttest: 311.4863324\tbest: 311.4863324 (412)\ttotal: 20s\tremaining: 28.4s\n",
            "413:\tlearn: 218.1601485\ttest: 311.3178348\tbest: 311.3178348 (413)\ttotal: 20.1s\tremaining: 28.4s\n",
            "414:\tlearn: 218.0154897\ttest: 311.2379123\tbest: 311.2379123 (414)\ttotal: 20.1s\tremaining: 28.3s\n",
            "415:\tlearn: 217.9253183\ttest: 311.0170259\tbest: 311.0170259 (415)\ttotal: 20.1s\tremaining: 28.3s\n",
            "416:\tlearn: 217.8163582\ttest: 310.7455137\tbest: 310.7455137 (416)\ttotal: 20.2s\tremaining: 28.2s\n",
            "417:\tlearn: 217.7289268\ttest: 310.6624513\tbest: 310.6624513 (417)\ttotal: 20.2s\tremaining: 28.2s\n",
            "418:\tlearn: 217.5697012\ttest: 310.5557309\tbest: 310.5557309 (418)\ttotal: 20.3s\tremaining: 28.1s\n",
            "419:\tlearn: 217.5382875\ttest: 310.5275676\tbest: 310.5275676 (419)\ttotal: 20.3s\tremaining: 28.1s\n",
            "420:\tlearn: 217.4472818\ttest: 310.4430085\tbest: 310.4430085 (420)\ttotal: 20.4s\tremaining: 28s\n",
            "421:\tlearn: 217.2964850\ttest: 310.3419643\tbest: 310.3419643 (421)\ttotal: 20.4s\tremaining: 28s\n",
            "422:\tlearn: 217.0771546\ttest: 310.1875053\tbest: 310.1875053 (422)\ttotal: 20.5s\tremaining: 27.9s\n",
            "423:\tlearn: 216.9047116\ttest: 309.9963213\tbest: 309.9963213 (423)\ttotal: 20.5s\tremaining: 27.9s\n",
            "424:\tlearn: 216.8171866\ttest: 309.8847590\tbest: 309.8847590 (424)\ttotal: 20.6s\tremaining: 27.8s\n",
            "425:\tlearn: 216.6714083\ttest: 309.8221451\tbest: 309.8221451 (425)\ttotal: 20.6s\tremaining: 27.8s\n",
            "426:\tlearn: 216.6420833\ttest: 309.7965209\tbest: 309.7965209 (426)\ttotal: 20.6s\tremaining: 27.7s\n",
            "427:\tlearn: 216.5569795\ttest: 309.8308492\tbest: 309.7965209 (426)\ttotal: 20.7s\tremaining: 27.6s\n",
            "428:\tlearn: 216.5074502\ttest: 309.8522896\tbest: 309.7965209 (426)\ttotal: 20.7s\tremaining: 27.6s\n",
            "429:\tlearn: 216.4197186\ttest: 309.8270315\tbest: 309.7965209 (426)\ttotal: 20.8s\tremaining: 27.5s\n",
            "430:\tlearn: 216.3664232\ttest: 309.8240095\tbest: 309.7965209 (426)\ttotal: 20.8s\tremaining: 27.5s\n",
            "431:\tlearn: 216.1132587\ttest: 309.6881926\tbest: 309.6881926 (431)\ttotal: 20.9s\tremaining: 27.4s\n",
            "432:\tlearn: 215.9518272\ttest: 309.5095707\tbest: 309.5095707 (432)\ttotal: 20.9s\tremaining: 27.4s\n",
            "433:\tlearn: 215.6782623\ttest: 309.1669953\tbest: 309.1669953 (433)\ttotal: 21s\tremaining: 27.4s\n",
            "434:\tlearn: 215.2169092\ttest: 308.6142296\tbest: 308.6142296 (434)\ttotal: 21s\tremaining: 27.3s\n",
            "435:\tlearn: 215.1168715\ttest: 308.4982487\tbest: 308.4982487 (435)\ttotal: 21.1s\tremaining: 27.3s\n",
            "436:\tlearn: 215.0401041\ttest: 308.3835992\tbest: 308.3835992 (436)\ttotal: 21.1s\tremaining: 27.2s\n",
            "437:\tlearn: 215.0059921\ttest: 308.3533802\tbest: 308.3533802 (437)\ttotal: 21.2s\tremaining: 27.2s\n",
            "438:\tlearn: 214.8217439\ttest: 308.0576242\tbest: 308.0576242 (438)\ttotal: 21.2s\tremaining: 27.1s\n",
            "439:\tlearn: 214.6838160\ttest: 307.9668754\tbest: 307.9668754 (439)\ttotal: 21.3s\tremaining: 27.1s\n",
            "440:\tlearn: 214.4995753\ttest: 307.9541554\tbest: 307.9541554 (440)\ttotal: 21.3s\tremaining: 27s\n",
            "441:\tlearn: 214.4436314\ttest: 307.9042689\tbest: 307.9042689 (441)\ttotal: 21.4s\tremaining: 27s\n",
            "442:\tlearn: 214.3887985\ttest: 307.8606988\tbest: 307.8606988 (442)\ttotal: 21.4s\tremaining: 26.9s\n",
            "443:\tlearn: 214.2508855\ttest: 307.6655654\tbest: 307.6655654 (443)\ttotal: 21.4s\tremaining: 26.8s\n",
            "444:\tlearn: 213.9566124\ttest: 307.4048770\tbest: 307.4048770 (444)\ttotal: 21.5s\tremaining: 26.8s\n",
            "445:\tlearn: 213.8786217\ttest: 307.2932455\tbest: 307.2932455 (445)\ttotal: 21.5s\tremaining: 26.7s\n",
            "446:\tlearn: 213.6137347\ttest: 307.0489610\tbest: 307.0489610 (446)\ttotal: 21.6s\tremaining: 26.7s\n",
            "447:\tlearn: 213.4188444\ttest: 306.8855562\tbest: 306.8855562 (447)\ttotal: 21.6s\tremaining: 26.6s\n",
            "448:\tlearn: 213.3455751\ttest: 306.7797385\tbest: 306.7797385 (448)\ttotal: 21.7s\tremaining: 26.6s\n",
            "449:\tlearn: 213.1993857\ttest: 306.7254687\tbest: 306.7254687 (449)\ttotal: 21.7s\tremaining: 26.5s\n",
            "450:\tlearn: 213.0095356\ttest: 306.4493123\tbest: 306.4493123 (450)\ttotal: 21.7s\tremaining: 26.5s\n",
            "451:\tlearn: 212.8285033\ttest: 306.1858373\tbest: 306.1858373 (451)\ttotal: 21.8s\tremaining: 26.4s\n",
            "452:\tlearn: 212.7689242\ttest: 306.1338145\tbest: 306.1338145 (452)\ttotal: 21.8s\tremaining: 26.4s\n",
            "453:\tlearn: 212.7342990\ttest: 306.1199514\tbest: 306.1199514 (453)\ttotal: 21.9s\tremaining: 26.3s\n",
            "454:\tlearn: 212.6818536\ttest: 306.0737379\tbest: 306.0737379 (454)\ttotal: 22s\tremaining: 26.3s\n",
            "455:\tlearn: 212.6241343\ttest: 306.0279534\tbest: 306.0279534 (455)\ttotal: 22s\tremaining: 26.2s\n",
            "456:\tlearn: 212.4581247\ttest: 305.8501407\tbest: 305.8501407 (456)\ttotal: 22s\tremaining: 26.2s\n",
            "457:\tlearn: 212.3896844\ttest: 305.7856718\tbest: 305.7856718 (457)\ttotal: 22.1s\tremaining: 26.1s\n",
            "458:\tlearn: 212.1689187\ttest: 305.6585971\tbest: 305.6585971 (458)\ttotal: 22.1s\tremaining: 26.1s\n",
            "459:\tlearn: 212.1376912\ttest: 305.6321102\tbest: 305.6321102 (459)\ttotal: 22.2s\tremaining: 26s\n",
            "460:\tlearn: 212.0587855\ttest: 305.6059358\tbest: 305.6059358 (460)\ttotal: 22.2s\tremaining: 26s\n",
            "461:\tlearn: 211.7352439\ttest: 304.8435316\tbest: 304.8435316 (461)\ttotal: 22.3s\tremaining: 25.9s\n",
            "462:\tlearn: 211.5738305\ttest: 304.6050687\tbest: 304.6050687 (462)\ttotal: 22.3s\tremaining: 25.9s\n",
            "463:\tlearn: 211.5098124\ttest: 304.6278932\tbest: 304.6050687 (462)\ttotal: 22.4s\tremaining: 25.8s\n",
            "464:\tlearn: 211.4819323\ttest: 304.6116354\tbest: 304.6050687 (462)\ttotal: 22.4s\tremaining: 25.8s\n",
            "465:\tlearn: 211.4025195\ttest: 304.5530005\tbest: 304.5530005 (465)\ttotal: 22.4s\tremaining: 25.7s\n",
            "466:\tlearn: 211.3804108\ttest: 304.5290553\tbest: 304.5290553 (466)\ttotal: 22.5s\tremaining: 25.7s\n",
            "467:\tlearn: 211.3375979\ttest: 304.5064316\tbest: 304.5064316 (467)\ttotal: 22.5s\tremaining: 25.6s\n",
            "468:\tlearn: 211.1657692\ttest: 304.5084695\tbest: 304.5064316 (467)\ttotal: 22.6s\tremaining: 25.6s\n",
            "469:\tlearn: 211.0863132\ttest: 304.4441473\tbest: 304.4441473 (469)\ttotal: 22.6s\tremaining: 25.5s\n",
            "470:\tlearn: 211.0388455\ttest: 304.3999951\tbest: 304.3999951 (470)\ttotal: 22.7s\tremaining: 25.5s\n",
            "471:\tlearn: 210.9349982\ttest: 304.3939374\tbest: 304.3939374 (471)\ttotal: 22.7s\tremaining: 25.4s\n",
            "472:\tlearn: 210.8699143\ttest: 304.2967625\tbest: 304.2967625 (472)\ttotal: 22.8s\tremaining: 25.3s\n",
            "473:\tlearn: 210.6937916\ttest: 304.2024068\tbest: 304.2024068 (473)\ttotal: 22.8s\tremaining: 25.3s\n",
            "474:\tlearn: 210.6424330\ttest: 304.1593674\tbest: 304.1593674 (474)\ttotal: 22.8s\tremaining: 25.2s\n",
            "475:\tlearn: 210.3292115\ttest: 303.9505854\tbest: 303.9505854 (475)\ttotal: 22.9s\tremaining: 25.2s\n",
            "476:\tlearn: 210.1227141\ttest: 303.8331629\tbest: 303.8331629 (476)\ttotal: 23s\tremaining: 25.2s\n",
            "477:\tlearn: 209.9672528\ttest: 303.8354642\tbest: 303.8331629 (476)\ttotal: 23s\tremaining: 25.1s\n",
            "478:\tlearn: 209.9109846\ttest: 303.7888661\tbest: 303.7888661 (478)\ttotal: 23.1s\tremaining: 25.1s\n",
            "479:\tlearn: 209.8516842\ttest: 303.8122050\tbest: 303.7888661 (478)\ttotal: 23.1s\tremaining: 25s\n",
            "480:\tlearn: 209.8149647\ttest: 303.7992885\tbest: 303.7888661 (478)\ttotal: 23.1s\tremaining: 25s\n",
            "481:\tlearn: 209.6819823\ttest: 303.7532765\tbest: 303.7532765 (481)\ttotal: 23.2s\tremaining: 24.9s\n",
            "482:\tlearn: 209.5326358\ttest: 303.5138951\tbest: 303.5138951 (482)\ttotal: 23.2s\tremaining: 24.9s\n",
            "483:\tlearn: 209.3473124\ttest: 303.3366252\tbest: 303.3366252 (483)\ttotal: 23.3s\tremaining: 24.8s\n",
            "484:\tlearn: 209.2574289\ttest: 303.2791121\tbest: 303.2791121 (484)\ttotal: 23.3s\tremaining: 24.8s\n",
            "485:\tlearn: 209.2137617\ttest: 303.2385282\tbest: 303.2385282 (485)\ttotal: 23.4s\tremaining: 24.7s\n",
            "486:\tlearn: 209.0543399\ttest: 303.1197852\tbest: 303.1197852 (486)\ttotal: 23.4s\tremaining: 24.7s\n",
            "487:\tlearn: 208.8781965\ttest: 302.9498879\tbest: 302.9498879 (487)\ttotal: 23.5s\tremaining: 24.6s\n",
            "488:\tlearn: 208.5039412\ttest: 302.5028019\tbest: 302.5028019 (488)\ttotal: 23.5s\tremaining: 24.6s\n",
            "489:\tlearn: 208.4668696\ttest: 302.5440739\tbest: 302.5028019 (488)\ttotal: 23.5s\tremaining: 24.5s\n",
            "490:\tlearn: 208.4211653\ttest: 302.5032790\tbest: 302.5028019 (488)\ttotal: 23.6s\tremaining: 24.5s\n",
            "491:\tlearn: 208.3862327\ttest: 302.4735529\tbest: 302.4735529 (491)\ttotal: 23.6s\tremaining: 24.4s\n",
            "492:\tlearn: 208.2681265\ttest: 302.3984945\tbest: 302.3984945 (492)\ttotal: 23.7s\tremaining: 24.4s\n",
            "493:\tlearn: 208.1098018\ttest: 302.2969551\tbest: 302.2969551 (493)\ttotal: 23.7s\tremaining: 24.3s\n",
            "494:\tlearn: 207.8162188\ttest: 302.0178307\tbest: 302.0178307 (494)\ttotal: 23.8s\tremaining: 24.2s\n",
            "495:\tlearn: 207.7876555\ttest: 301.9909288\tbest: 301.9909288 (495)\ttotal: 23.8s\tremaining: 24.2s\n",
            "496:\tlearn: 207.7211538\ttest: 301.9810914\tbest: 301.9810914 (496)\ttotal: 23.9s\tremaining: 24.1s\n",
            "497:\tlearn: 207.6718125\ttest: 301.9376381\tbest: 301.9376381 (497)\ttotal: 23.9s\tremaining: 24.1s\n",
            "498:\tlearn: 207.6199303\ttest: 301.8745583\tbest: 301.8745583 (498)\ttotal: 24s\tremaining: 24.1s\n",
            "499:\tlearn: 207.4678428\ttest: 301.6899710\tbest: 301.6899710 (499)\ttotal: 24s\tremaining: 24s\n",
            "500:\tlearn: 207.3271746\ttest: 301.4802696\tbest: 301.4802696 (500)\ttotal: 24.1s\tremaining: 24s\n",
            "501:\tlearn: 207.0937787\ttest: 301.2611559\tbest: 301.2611559 (501)\ttotal: 24.1s\tremaining: 23.9s\n",
            "502:\tlearn: 207.0448730\ttest: 301.2013156\tbest: 301.2013156 (502)\ttotal: 24.2s\tremaining: 23.9s\n",
            "503:\tlearn: 206.9620957\ttest: 301.1438394\tbest: 301.1438394 (503)\ttotal: 24.2s\tremaining: 23.8s\n",
            "504:\tlearn: 206.9071637\ttest: 301.0987785\tbest: 301.0987785 (504)\ttotal: 24.2s\tremaining: 23.8s\n",
            "505:\tlearn: 206.8160611\ttest: 300.8788268\tbest: 300.8788268 (505)\ttotal: 24.3s\tremaining: 23.7s\n",
            "506:\tlearn: 206.7054858\ttest: 300.8240225\tbest: 300.8240225 (506)\ttotal: 24.3s\tremaining: 23.7s\n",
            "507:\tlearn: 206.6581924\ttest: 300.8554773\tbest: 300.8240225 (506)\ttotal: 24.4s\tremaining: 23.6s\n",
            "508:\tlearn: 206.5142709\ttest: 300.7758184\tbest: 300.7758184 (508)\ttotal: 24.4s\tremaining: 23.6s\n",
            "509:\tlearn: 206.4681811\ttest: 300.7352532\tbest: 300.7352532 (509)\ttotal: 24.5s\tremaining: 23.5s\n",
            "510:\tlearn: 206.2821185\ttest: 300.4691178\tbest: 300.4691178 (510)\ttotal: 24.5s\tremaining: 23.5s\n",
            "511:\tlearn: 206.1745582\ttest: 300.4054177\tbest: 300.4054177 (511)\ttotal: 24.6s\tremaining: 23.4s\n",
            "512:\tlearn: 206.0975164\ttest: 300.3514460\tbest: 300.3514460 (512)\ttotal: 24.6s\tremaining: 23.4s\n",
            "513:\tlearn: 205.8776216\ttest: 300.1542023\tbest: 300.1542023 (513)\ttotal: 24.7s\tremaining: 23.3s\n",
            "514:\tlearn: 205.8329167\ttest: 300.0996634\tbest: 300.0996634 (514)\ttotal: 24.7s\tremaining: 23.3s\n",
            "515:\tlearn: 205.8020051\ttest: 300.0774887\tbest: 300.0774887 (515)\ttotal: 24.7s\tremaining: 23.2s\n",
            "516:\tlearn: 205.7650249\ttest: 300.0451388\tbest: 300.0451388 (516)\ttotal: 24.8s\tremaining: 23.2s\n",
            "517:\tlearn: 205.6014571\ttest: 299.8081970\tbest: 299.8081970 (517)\ttotal: 24.8s\tremaining: 23.1s\n",
            "518:\tlearn: 205.5687991\ttest: 299.7448130\tbest: 299.7448130 (518)\ttotal: 24.9s\tremaining: 23.1s\n",
            "519:\tlearn: 205.4240142\ttest: 299.6833291\tbest: 299.6833291 (519)\ttotal: 24.9s\tremaining: 23s\n",
            "520:\tlearn: 205.3793730\ttest: 299.6448023\tbest: 299.6448023 (520)\ttotal: 25s\tremaining: 23s\n",
            "521:\tlearn: 205.2131802\ttest: 299.3939408\tbest: 299.3939408 (521)\ttotal: 25.1s\tremaining: 23s\n",
            "522:\tlearn: 205.1650220\ttest: 299.3550019\tbest: 299.3550019 (522)\ttotal: 25.2s\tremaining: 23s\n",
            "523:\tlearn: 204.9054683\ttest: 299.1096985\tbest: 299.1096985 (523)\ttotal: 25.2s\tremaining: 22.9s\n",
            "524:\tlearn: 204.7725284\ttest: 298.9856889\tbest: 298.9856889 (524)\ttotal: 25.3s\tremaining: 22.9s\n",
            "525:\tlearn: 204.6930231\ttest: 298.9778519\tbest: 298.9778519 (525)\ttotal: 25.3s\tremaining: 22.8s\n",
            "526:\tlearn: 204.6506314\ttest: 298.9584441\tbest: 298.9584441 (526)\ttotal: 25.4s\tremaining: 22.8s\n",
            "527:\tlearn: 204.5786220\ttest: 298.9181413\tbest: 298.9181413 (527)\ttotal: 25.4s\tremaining: 22.7s\n",
            "528:\tlearn: 204.5437080\ttest: 298.8775934\tbest: 298.8775934 (528)\ttotal: 25.4s\tremaining: 22.7s\n",
            "529:\tlearn: 204.5088375\ttest: 298.8767299\tbest: 298.8767299 (529)\ttotal: 25.5s\tremaining: 22.6s\n",
            "530:\tlearn: 204.3498803\ttest: 298.7530081\tbest: 298.7530081 (530)\ttotal: 25.5s\tremaining: 22.6s\n",
            "531:\tlearn: 204.2597581\ttest: 298.7021882\tbest: 298.7021882 (531)\ttotal: 25.6s\tremaining: 22.5s\n",
            "532:\tlearn: 204.1134343\ttest: 298.6865347\tbest: 298.6865347 (532)\ttotal: 25.6s\tremaining: 22.4s\n",
            "533:\tlearn: 203.9862362\ttest: 298.6513902\tbest: 298.6513902 (533)\ttotal: 25.7s\tremaining: 22.4s\n",
            "534:\tlearn: 203.9598371\ttest: 298.6400302\tbest: 298.6400302 (534)\ttotal: 25.7s\tremaining: 22.3s\n",
            "535:\tlearn: 203.9114055\ttest: 298.6102214\tbest: 298.6102214 (535)\ttotal: 25.7s\tremaining: 22.3s\n",
            "536:\tlearn: 203.8721892\ttest: 298.5753419\tbest: 298.5753419 (536)\ttotal: 25.8s\tremaining: 22.2s\n",
            "537:\tlearn: 203.8076356\ttest: 298.4977681\tbest: 298.4977681 (537)\ttotal: 25.8s\tremaining: 22.2s\n",
            "538:\tlearn: 203.7825176\ttest: 298.4733465\tbest: 298.4733465 (538)\ttotal: 25.9s\tremaining: 22.1s\n",
            "539:\tlearn: 203.7477404\ttest: 298.4383484\tbest: 298.4383484 (539)\ttotal: 25.9s\tremaining: 22.1s\n",
            "540:\tlearn: 203.4984928\ttest: 297.8450240\tbest: 297.8450240 (540)\ttotal: 26s\tremaining: 22s\n",
            "541:\tlearn: 203.4330167\ttest: 297.8092027\tbest: 297.8092027 (541)\ttotal: 26s\tremaining: 22s\n",
            "542:\tlearn: 203.3353036\ttest: 297.6800158\tbest: 297.6800158 (542)\ttotal: 26.1s\tremaining: 21.9s\n",
            "543:\tlearn: 203.2472632\ttest: 297.4705925\tbest: 297.4705925 (543)\ttotal: 26.2s\tremaining: 21.9s\n",
            "544:\tlearn: 203.1075596\ttest: 297.4578839\tbest: 297.4578839 (544)\ttotal: 26.2s\tremaining: 21.9s\n",
            "545:\tlearn: 202.9398179\ttest: 297.1896717\tbest: 297.1896717 (545)\ttotal: 26.2s\tremaining: 21.8s\n",
            "546:\tlearn: 202.7536960\ttest: 297.1594515\tbest: 297.1594515 (546)\ttotal: 26.3s\tremaining: 21.8s\n",
            "547:\tlearn: 202.7067431\ttest: 297.1560553\tbest: 297.1560553 (547)\ttotal: 26.3s\tremaining: 21.7s\n",
            "548:\tlearn: 202.6051862\ttest: 296.9635073\tbest: 296.9635073 (548)\ttotal: 26.4s\tremaining: 21.7s\n",
            "549:\tlearn: 202.4446174\ttest: 296.7106529\tbest: 296.7106529 (549)\ttotal: 26.4s\tremaining: 21.6s\n",
            "550:\tlearn: 202.3607835\ttest: 296.6505423\tbest: 296.6505423 (550)\ttotal: 26.5s\tremaining: 21.6s\n",
            "551:\tlearn: 202.2689856\ttest: 296.5157797\tbest: 296.5157797 (551)\ttotal: 26.5s\tremaining: 21.5s\n",
            "552:\tlearn: 202.1403487\ttest: 296.0395487\tbest: 296.0395487 (552)\ttotal: 26.5s\tremaining: 21.5s\n",
            "553:\tlearn: 201.8524761\ttest: 295.8593580\tbest: 295.8593580 (553)\ttotal: 26.6s\tremaining: 21.4s\n",
            "554:\tlearn: 201.7190927\ttest: 295.8046574\tbest: 295.8046574 (554)\ttotal: 26.6s\tremaining: 21.4s\n",
            "555:\tlearn: 201.6014216\ttest: 295.7280924\tbest: 295.7280924 (555)\ttotal: 26.7s\tremaining: 21.3s\n",
            "556:\tlearn: 201.4532673\ttest: 295.5626575\tbest: 295.5626575 (556)\ttotal: 26.7s\tremaining: 21.3s\n",
            "557:\tlearn: 201.2888309\ttest: 295.1245096\tbest: 295.1245096 (557)\ttotal: 26.8s\tremaining: 21.2s\n",
            "558:\tlearn: 201.1774013\ttest: 295.0960885\tbest: 295.0960885 (558)\ttotal: 26.8s\tremaining: 21.2s\n",
            "559:\tlearn: 201.1497284\ttest: 295.0727824\tbest: 295.0727824 (559)\ttotal: 26.9s\tremaining: 21.1s\n",
            "560:\tlearn: 201.1189345\ttest: 295.0491096\tbest: 295.0491096 (560)\ttotal: 26.9s\tremaining: 21.1s\n",
            "561:\tlearn: 201.0859322\ttest: 295.0211294\tbest: 295.0211294 (561)\ttotal: 26.9s\tremaining: 21s\n",
            "562:\tlearn: 201.0586857\ttest: 294.9976195\tbest: 294.9976195 (562)\ttotal: 27s\tremaining: 21s\n",
            "563:\tlearn: 201.0156681\ttest: 294.9708775\tbest: 294.9708775 (563)\ttotal: 27s\tremaining: 20.9s\n",
            "564:\tlearn: 200.8301697\ttest: 294.9477644\tbest: 294.9477644 (564)\ttotal: 27.1s\tremaining: 20.9s\n",
            "565:\tlearn: 200.8132098\ttest: 294.9316027\tbest: 294.9316027 (565)\ttotal: 27.2s\tremaining: 20.8s\n",
            "566:\tlearn: 200.7753819\ttest: 294.9133359\tbest: 294.9133359 (566)\ttotal: 27.2s\tremaining: 20.8s\n",
            "567:\tlearn: 200.6758176\ttest: 294.8534183\tbest: 294.8534183 (567)\ttotal: 27.3s\tremaining: 20.7s\n",
            "568:\tlearn: 200.6574894\ttest: 294.8354384\tbest: 294.8354384 (568)\ttotal: 27.3s\tremaining: 20.7s\n",
            "569:\tlearn: 200.5708596\ttest: 294.7895096\tbest: 294.7895096 (569)\ttotal: 27.4s\tremaining: 20.6s\n",
            "570:\tlearn: 200.4780176\ttest: 294.7281502\tbest: 294.7281502 (570)\ttotal: 27.4s\tremaining: 20.6s\n",
            "571:\tlearn: 200.3658805\ttest: 294.6703292\tbest: 294.6703292 (571)\ttotal: 27.4s\tremaining: 20.5s\n",
            "572:\tlearn: 200.3398031\ttest: 294.6471238\tbest: 294.6471238 (572)\ttotal: 27.5s\tremaining: 20.5s\n",
            "573:\tlearn: 200.2125430\ttest: 294.5497593\tbest: 294.5497593 (573)\ttotal: 27.5s\tremaining: 20.4s\n",
            "574:\tlearn: 200.1845426\ttest: 294.5281659\tbest: 294.5281659 (574)\ttotal: 27.6s\tremaining: 20.4s\n",
            "575:\tlearn: 200.0954479\ttest: 294.4147677\tbest: 294.4147677 (575)\ttotal: 27.6s\tremaining: 20.3s\n",
            "576:\tlearn: 200.0659028\ttest: 294.3887904\tbest: 294.3887904 (576)\ttotal: 27.7s\tremaining: 20.3s\n",
            "577:\tlearn: 200.0419736\ttest: 294.3674128\tbest: 294.3674128 (577)\ttotal: 27.7s\tremaining: 20.2s\n",
            "578:\tlearn: 200.0032613\ttest: 294.3525072\tbest: 294.3525072 (578)\ttotal: 27.8s\tremaining: 20.2s\n",
            "579:\tlearn: 199.8744255\ttest: 294.3641924\tbest: 294.3525072 (578)\ttotal: 27.8s\tremaining: 20.1s\n",
            "580:\tlearn: 199.7000071\ttest: 294.3470746\tbest: 294.3470746 (580)\ttotal: 27.8s\tremaining: 20.1s\n",
            "581:\tlearn: 199.6204543\ttest: 294.3066787\tbest: 294.3066787 (581)\ttotal: 27.9s\tremaining: 20s\n",
            "582:\tlearn: 199.3750909\ttest: 294.0375293\tbest: 294.0375293 (582)\ttotal: 27.9s\tremaining: 20s\n",
            "583:\tlearn: 199.3068474\ttest: 294.0340025\tbest: 294.0340025 (583)\ttotal: 28s\tremaining: 19.9s\n",
            "584:\tlearn: 199.2794439\ttest: 294.0091460\tbest: 294.0091460 (584)\ttotal: 28s\tremaining: 19.9s\n",
            "585:\tlearn: 199.2039778\ttest: 293.9085248\tbest: 293.9085248 (585)\ttotal: 28.1s\tremaining: 19.8s\n",
            "586:\tlearn: 199.1491767\ttest: 293.8737049\tbest: 293.8737049 (586)\ttotal: 28.1s\tremaining: 19.8s\n",
            "587:\tlearn: 199.0796709\ttest: 293.8368753\tbest: 293.8368753 (587)\ttotal: 28.2s\tremaining: 19.8s\n",
            "588:\tlearn: 198.9371419\ttest: 293.6262338\tbest: 293.6262338 (588)\ttotal: 28.3s\tremaining: 19.7s\n",
            "589:\tlearn: 198.8429663\ttest: 293.4962139\tbest: 293.4962139 (589)\ttotal: 28.3s\tremaining: 19.7s\n",
            "590:\tlearn: 198.8245593\ttest: 293.4865532\tbest: 293.4865532 (590)\ttotal: 28.3s\tremaining: 19.6s\n",
            "591:\tlearn: 198.7441803\ttest: 293.4435349\tbest: 293.4435349 (591)\ttotal: 28.4s\tremaining: 19.6s\n",
            "592:\tlearn: 198.7179658\ttest: 293.4229230\tbest: 293.4229230 (592)\ttotal: 28.4s\tremaining: 19.5s\n",
            "593:\tlearn: 198.6962890\ttest: 293.4028944\tbest: 293.4028944 (593)\ttotal: 28.5s\tremaining: 19.5s\n",
            "594:\tlearn: 198.4587617\ttest: 293.2332151\tbest: 293.2332151 (594)\ttotal: 28.5s\tremaining: 19.4s\n",
            "595:\tlearn: 198.3587964\ttest: 293.1860600\tbest: 293.1860600 (595)\ttotal: 28.6s\tremaining: 19.4s\n",
            "596:\tlearn: 198.2444980\ttest: 293.0796137\tbest: 293.0796137 (596)\ttotal: 28.6s\tremaining: 19.3s\n",
            "597:\tlearn: 198.1680772\ttest: 292.9294250\tbest: 292.9294250 (597)\ttotal: 28.7s\tremaining: 19.3s\n",
            "598:\tlearn: 198.0725132\ttest: 292.8267752\tbest: 292.8267752 (598)\ttotal: 28.7s\tremaining: 19.2s\n",
            "599:\tlearn: 198.0353526\ttest: 292.8564508\tbest: 292.8267752 (598)\ttotal: 28.7s\tremaining: 19.2s\n",
            "600:\tlearn: 197.9939848\ttest: 292.8347285\tbest: 292.8267752 (598)\ttotal: 28.8s\tremaining: 19.1s\n",
            "601:\tlearn: 197.9665950\ttest: 292.8058781\tbest: 292.8058781 (601)\ttotal: 28.8s\tremaining: 19.1s\n",
            "602:\tlearn: 197.9308264\ttest: 292.7790793\tbest: 292.7790793 (602)\ttotal: 28.9s\tremaining: 19s\n",
            "603:\tlearn: 197.7857195\ttest: 292.5636739\tbest: 292.5636739 (603)\ttotal: 28.9s\tremaining: 19s\n",
            "604:\tlearn: 197.7403558\ttest: 292.5256367\tbest: 292.5256367 (604)\ttotal: 29s\tremaining: 18.9s\n",
            "605:\tlearn: 197.7167930\ttest: 292.5291977\tbest: 292.5256367 (604)\ttotal: 29s\tremaining: 18.9s\n",
            "606:\tlearn: 197.6919265\ttest: 292.5189397\tbest: 292.5189397 (606)\ttotal: 29.1s\tremaining: 18.8s\n",
            "607:\tlearn: 197.6703392\ttest: 292.4952104\tbest: 292.4952104 (607)\ttotal: 29.1s\tremaining: 18.8s\n",
            "608:\tlearn: 197.5605764\ttest: 292.4410572\tbest: 292.4410572 (608)\ttotal: 29.1s\tremaining: 18.7s\n",
            "609:\tlearn: 197.4726688\ttest: 292.4457044\tbest: 292.4410572 (608)\ttotal: 29.2s\tremaining: 18.7s\n",
            "610:\tlearn: 197.3569460\ttest: 292.3667416\tbest: 292.3667416 (610)\ttotal: 29.3s\tremaining: 18.6s\n",
            "611:\tlearn: 197.2070617\ttest: 292.3077723\tbest: 292.3077723 (611)\ttotal: 29.3s\tremaining: 18.6s\n",
            "612:\tlearn: 197.1746822\ttest: 292.2871939\tbest: 292.2871939 (612)\ttotal: 29.4s\tremaining: 18.5s\n",
            "613:\tlearn: 197.0144775\ttest: 292.2715267\tbest: 292.2715267 (613)\ttotal: 29.4s\tremaining: 18.5s\n",
            "614:\tlearn: 196.9938284\ttest: 292.2483732\tbest: 292.2483732 (614)\ttotal: 29.5s\tremaining: 18.4s\n",
            "615:\tlearn: 196.9631969\ttest: 292.2329086\tbest: 292.2329086 (615)\ttotal: 29.5s\tremaining: 18.4s\n",
            "616:\tlearn: 196.9443096\ttest: 292.2114276\tbest: 292.2114276 (616)\ttotal: 29.5s\tremaining: 18.3s\n",
            "617:\tlearn: 196.7622749\ttest: 292.0924045\tbest: 292.0924045 (617)\ttotal: 29.6s\tremaining: 18.3s\n",
            "618:\tlearn: 196.7395033\ttest: 292.0717582\tbest: 292.0717582 (618)\ttotal: 29.6s\tremaining: 18.2s\n",
            "619:\tlearn: 196.5933680\ttest: 291.9504264\tbest: 291.9504264 (619)\ttotal: 29.7s\tremaining: 18.2s\n",
            "620:\tlearn: 196.5297562\ttest: 291.9413360\tbest: 291.9413360 (620)\ttotal: 29.7s\tremaining: 18.1s\n",
            "621:\tlearn: 196.4693859\ttest: 291.8955291\tbest: 291.8955291 (621)\ttotal: 29.8s\tremaining: 18.1s\n",
            "622:\tlearn: 196.4350274\ttest: 291.8827567\tbest: 291.8827567 (622)\ttotal: 29.8s\tremaining: 18s\n",
            "623:\tlearn: 196.3607381\ttest: 291.8232511\tbest: 291.8232511 (623)\ttotal: 29.9s\tremaining: 18s\n",
            "624:\tlearn: 196.3380715\ttest: 291.8083214\tbest: 291.8083214 (624)\ttotal: 29.9s\tremaining: 17.9s\n",
            "625:\tlearn: 196.2282829\ttest: 291.7828111\tbest: 291.7828111 (625)\ttotal: 29.9s\tremaining: 17.9s\n",
            "626:\tlearn: 196.1779264\ttest: 291.7258321\tbest: 291.7258321 (626)\ttotal: 30s\tremaining: 17.8s\n",
            "627:\tlearn: 196.0039115\ttest: 291.6382329\tbest: 291.6382329 (627)\ttotal: 30s\tremaining: 17.8s\n",
            "628:\tlearn: 195.8807045\ttest: 291.5446539\tbest: 291.5446539 (628)\ttotal: 30.1s\tremaining: 17.7s\n",
            "629:\tlearn: 195.7789012\ttest: 291.4504462\tbest: 291.4504462 (629)\ttotal: 30.1s\tremaining: 17.7s\n",
            "630:\tlearn: 195.7647879\ttest: 291.4397281\tbest: 291.4397281 (630)\ttotal: 30.2s\tremaining: 17.6s\n",
            "631:\tlearn: 195.5760513\ttest: 291.2571154\tbest: 291.2571154 (631)\ttotal: 30.2s\tremaining: 17.6s\n",
            "632:\tlearn: 195.4994854\ttest: 291.2417185\tbest: 291.2417185 (632)\ttotal: 30.3s\tremaining: 17.6s\n",
            "633:\tlearn: 195.4191348\ttest: 291.1928256\tbest: 291.1928256 (633)\ttotal: 30.4s\tremaining: 17.5s\n",
            "634:\tlearn: 195.3865881\ttest: 291.1682255\tbest: 291.1682255 (634)\ttotal: 30.4s\tremaining: 17.5s\n",
            "635:\tlearn: 195.3419368\ttest: 291.2055251\tbest: 291.1682255 (634)\ttotal: 30.5s\tremaining: 17.4s\n",
            "636:\tlearn: 195.2604465\ttest: 291.1110716\tbest: 291.1110716 (636)\ttotal: 30.5s\tremaining: 17.4s\n",
            "637:\tlearn: 195.0815667\ttest: 290.9365444\tbest: 290.9365444 (637)\ttotal: 30.5s\tremaining: 17.3s\n",
            "638:\tlearn: 195.0495520\ttest: 290.9209648\tbest: 290.9209648 (638)\ttotal: 30.6s\tremaining: 17.3s\n",
            "639:\tlearn: 194.9471680\ttest: 290.8984743\tbest: 290.8984743 (639)\ttotal: 30.6s\tremaining: 17.2s\n",
            "640:\tlearn: 194.7812889\ttest: 290.7961060\tbest: 290.7961060 (640)\ttotal: 30.7s\tremaining: 17.2s\n",
            "641:\tlearn: 194.7326944\ttest: 290.6416789\tbest: 290.6416789 (641)\ttotal: 30.7s\tremaining: 17.1s\n",
            "642:\tlearn: 194.6103347\ttest: 290.4879720\tbest: 290.4879720 (642)\ttotal: 30.8s\tremaining: 17.1s\n",
            "643:\tlearn: 194.4898208\ttest: 290.3849176\tbest: 290.3849176 (643)\ttotal: 30.8s\tremaining: 17s\n",
            "644:\tlearn: 194.3991161\ttest: 290.3860364\tbest: 290.3849176 (643)\ttotal: 30.8s\tremaining: 17s\n",
            "645:\tlearn: 194.3207186\ttest: 290.3165198\tbest: 290.3165198 (645)\ttotal: 30.9s\tremaining: 16.9s\n",
            "646:\tlearn: 194.2548199\ttest: 290.2150544\tbest: 290.2150544 (646)\ttotal: 30.9s\tremaining: 16.9s\n",
            "647:\tlearn: 194.1908466\ttest: 290.1772213\tbest: 290.1772213 (647)\ttotal: 31s\tremaining: 16.8s\n",
            "648:\tlearn: 194.1295787\ttest: 290.1410578\tbest: 290.1410578 (648)\ttotal: 31s\tremaining: 16.8s\n",
            "649:\tlearn: 194.0423142\ttest: 290.0606694\tbest: 290.0606694 (649)\ttotal: 31.1s\tremaining: 16.7s\n",
            "650:\tlearn: 194.0293069\ttest: 290.0476319\tbest: 290.0476319 (650)\ttotal: 31.1s\tremaining: 16.7s\n",
            "651:\tlearn: 193.9594927\ttest: 289.9702772\tbest: 289.9702772 (651)\ttotal: 31.2s\tremaining: 16.6s\n",
            "652:\tlearn: 193.8122661\ttest: 289.9096047\tbest: 289.9096047 (652)\ttotal: 31.2s\tremaining: 16.6s\n",
            "653:\tlearn: 193.7181815\ttest: 289.8253632\tbest: 289.8253632 (653)\ttotal: 31.2s\tremaining: 16.5s\n",
            "654:\tlearn: 193.6993905\ttest: 289.8045213\tbest: 289.8045213 (654)\ttotal: 31.3s\tremaining: 16.5s\n",
            "655:\tlearn: 193.6486382\ttest: 289.7597145\tbest: 289.7597145 (655)\ttotal: 31.4s\tremaining: 16.5s\n",
            "656:\tlearn: 193.6398213\ttest: 289.7451193\tbest: 289.7451193 (656)\ttotal: 31.4s\tremaining: 16.4s\n",
            "657:\tlearn: 193.5306508\ttest: 289.7503590\tbest: 289.7451193 (656)\ttotal: 31.5s\tremaining: 16.4s\n",
            "658:\tlearn: 193.4064476\ttest: 289.7008505\tbest: 289.7008505 (658)\ttotal: 31.5s\tremaining: 16.3s\n",
            "659:\tlearn: 193.3036267\ttest: 289.6495811\tbest: 289.6495811 (659)\ttotal: 31.6s\tremaining: 16.3s\n",
            "660:\tlearn: 193.1468557\ttest: 289.5356652\tbest: 289.5356652 (660)\ttotal: 31.6s\tremaining: 16.2s\n",
            "661:\tlearn: 193.1022430\ttest: 289.5101460\tbest: 289.5101460 (661)\ttotal: 31.7s\tremaining: 16.2s\n",
            "662:\tlearn: 193.0845136\ttest: 289.5109845\tbest: 289.5101460 (661)\ttotal: 31.7s\tremaining: 16.1s\n",
            "663:\tlearn: 193.0668849\ttest: 289.4896714\tbest: 289.4896714 (663)\ttotal: 31.7s\tremaining: 16.1s\n",
            "664:\tlearn: 192.9565119\ttest: 289.4639540\tbest: 289.4639540 (664)\ttotal: 31.8s\tremaining: 16s\n",
            "665:\tlearn: 192.9091501\ttest: 289.4289893\tbest: 289.4289893 (665)\ttotal: 31.8s\tremaining: 16s\n",
            "666:\tlearn: 192.8421139\ttest: 289.3935219\tbest: 289.3935219 (666)\ttotal: 31.9s\tremaining: 15.9s\n",
            "667:\tlearn: 192.8237831\ttest: 289.3762082\tbest: 289.3762082 (667)\ttotal: 31.9s\tremaining: 15.9s\n",
            "668:\tlearn: 192.7519694\ttest: 289.3222475\tbest: 289.3222475 (668)\ttotal: 32s\tremaining: 15.8s\n",
            "669:\tlearn: 192.7188513\ttest: 289.3060162\tbest: 289.3060162 (669)\ttotal: 32s\tremaining: 15.8s\n",
            "670:\tlearn: 192.6757657\ttest: 289.1644859\tbest: 289.1644859 (670)\ttotal: 32.1s\tremaining: 15.7s\n",
            "671:\tlearn: 192.6527649\ttest: 289.1486794\tbest: 289.1486794 (671)\ttotal: 32.1s\tremaining: 15.7s\n",
            "672:\tlearn: 192.5158367\ttest: 289.0929168\tbest: 289.0929168 (672)\ttotal: 32.1s\tremaining: 15.6s\n",
            "673:\tlearn: 192.4500266\ttest: 289.0554162\tbest: 289.0554162 (673)\ttotal: 32.2s\tremaining: 15.6s\n",
            "674:\tlearn: 192.3126818\ttest: 288.9851209\tbest: 288.9851209 (674)\ttotal: 32.2s\tremaining: 15.5s\n",
            "675:\tlearn: 192.2514587\ttest: 288.9545085\tbest: 288.9545085 (675)\ttotal: 32.3s\tremaining: 15.5s\n",
            "676:\tlearn: 192.2145908\ttest: 288.9282418\tbest: 288.9282418 (676)\ttotal: 32.4s\tremaining: 15.4s\n",
            "677:\tlearn: 192.1838504\ttest: 288.9050470\tbest: 288.9050470 (677)\ttotal: 32.4s\tremaining: 15.4s\n",
            "678:\tlearn: 192.1488850\ttest: 288.8800550\tbest: 288.8800550 (678)\ttotal: 32.5s\tremaining: 15.3s\n",
            "679:\tlearn: 192.1368111\ttest: 288.8693184\tbest: 288.8693184 (679)\ttotal: 32.5s\tremaining: 15.3s\n",
            "680:\tlearn: 192.1237245\ttest: 288.8563319\tbest: 288.8563319 (680)\ttotal: 32.6s\tremaining: 15.3s\n",
            "681:\tlearn: 192.0372283\ttest: 288.7824195\tbest: 288.7824195 (681)\ttotal: 32.6s\tremaining: 15.2s\n",
            "682:\tlearn: 192.0170104\ttest: 288.7529552\tbest: 288.7529552 (682)\ttotal: 32.6s\tremaining: 15.2s\n",
            "683:\tlearn: 191.9923481\ttest: 288.7339536\tbest: 288.7339536 (683)\ttotal: 32.7s\tremaining: 15.1s\n",
            "684:\tlearn: 191.9633838\ttest: 288.6788794\tbest: 288.6788794 (684)\ttotal: 32.7s\tremaining: 15.1s\n",
            "685:\tlearn: 191.9044133\ttest: 288.6351441\tbest: 288.6351441 (685)\ttotal: 32.8s\tremaining: 15s\n",
            "686:\tlearn: 191.8746003\ttest: 288.5849772\tbest: 288.5849772 (686)\ttotal: 32.8s\tremaining: 15s\n",
            "687:\tlearn: 191.8587680\ttest: 288.5680695\tbest: 288.5680695 (687)\ttotal: 32.9s\tremaining: 14.9s\n",
            "688:\tlearn: 191.8226778\ttest: 288.5436742\tbest: 288.5436742 (688)\ttotal: 32.9s\tremaining: 14.9s\n",
            "689:\tlearn: 191.8022850\ttest: 288.5249888\tbest: 288.5249888 (689)\ttotal: 33s\tremaining: 14.8s\n",
            "690:\tlearn: 191.7454230\ttest: 288.4947900\tbest: 288.4947900 (690)\ttotal: 33s\tremaining: 14.8s\n",
            "691:\tlearn: 191.6218300\ttest: 288.4430480\tbest: 288.4430480 (691)\ttotal: 33s\tremaining: 14.7s\n",
            "692:\tlearn: 191.5818937\ttest: 288.4044152\tbest: 288.4044152 (692)\ttotal: 33.1s\tremaining: 14.7s\n",
            "693:\tlearn: 191.5654194\ttest: 288.3884616\tbest: 288.3884616 (693)\ttotal: 33.1s\tremaining: 14.6s\n",
            "694:\tlearn: 191.5224746\ttest: 288.3954533\tbest: 288.3884616 (693)\ttotal: 33.2s\tremaining: 14.6s\n",
            "695:\tlearn: 191.3887251\ttest: 288.2074150\tbest: 288.2074150 (695)\ttotal: 33.2s\tremaining: 14.5s\n",
            "696:\tlearn: 191.1911997\ttest: 288.0974779\tbest: 288.0974779 (696)\ttotal: 33.3s\tremaining: 14.5s\n",
            "697:\tlearn: 191.1621199\ttest: 288.0903699\tbest: 288.0903699 (697)\ttotal: 33.3s\tremaining: 14.4s\n",
            "698:\tlearn: 191.1111843\ttest: 288.0956001\tbest: 288.0903699 (697)\ttotal: 33.4s\tremaining: 14.4s\n",
            "699:\tlearn: 190.9160488\ttest: 288.0606215\tbest: 288.0606215 (699)\ttotal: 33.5s\tremaining: 14.3s\n",
            "700:\tlearn: 190.8726012\ttest: 288.0441804\tbest: 288.0441804 (700)\ttotal: 33.5s\tremaining: 14.3s\n",
            "701:\tlearn: 190.8276957\ttest: 287.8626903\tbest: 287.8626903 (701)\ttotal: 33.5s\tremaining: 14.2s\n",
            "702:\tlearn: 190.7344417\ttest: 287.6329089\tbest: 287.6329089 (702)\ttotal: 33.6s\tremaining: 14.2s\n",
            "703:\tlearn: 190.7018112\ttest: 287.6291306\tbest: 287.6291306 (703)\ttotal: 33.6s\tremaining: 14.1s\n",
            "704:\tlearn: 190.6793175\ttest: 287.6116539\tbest: 287.6116539 (704)\ttotal: 33.7s\tremaining: 14.1s\n",
            "705:\tlearn: 190.6227416\ttest: 287.5510332\tbest: 287.5510332 (705)\ttotal: 33.7s\tremaining: 14s\n",
            "706:\tlearn: 190.6133583\ttest: 287.5429600\tbest: 287.5429600 (706)\ttotal: 33.8s\tremaining: 14s\n",
            "707:\tlearn: 190.5251044\ttest: 287.5379600\tbest: 287.5379600 (707)\ttotal: 33.8s\tremaining: 13.9s\n",
            "708:\tlearn: 190.3995425\ttest: 287.3629207\tbest: 287.3629207 (708)\ttotal: 33.9s\tremaining: 13.9s\n",
            "709:\tlearn: 190.2973122\ttest: 287.3431220\tbest: 287.3431220 (709)\ttotal: 33.9s\tremaining: 13.8s\n",
            "710:\tlearn: 190.2703583\ttest: 287.2968227\tbest: 287.2968227 (710)\ttotal: 33.9s\tremaining: 13.8s\n",
            "711:\tlearn: 190.2178842\ttest: 287.2689650\tbest: 287.2689650 (711)\ttotal: 34s\tremaining: 13.7s\n",
            "712:\tlearn: 190.1278568\ttest: 287.1555237\tbest: 287.1555237 (712)\ttotal: 34s\tremaining: 13.7s\n",
            "713:\tlearn: 190.1096955\ttest: 287.1420472\tbest: 287.1420472 (713)\ttotal: 34.1s\tremaining: 13.6s\n",
            "714:\tlearn: 190.0413340\ttest: 287.0272289\tbest: 287.0272289 (714)\ttotal: 34.1s\tremaining: 13.6s\n",
            "715:\tlearn: 189.9293084\ttest: 286.9646457\tbest: 286.9646457 (715)\ttotal: 34.2s\tremaining: 13.5s\n",
            "716:\tlearn: 189.9003975\ttest: 286.9404679\tbest: 286.9404679 (716)\ttotal: 34.2s\tremaining: 13.5s\n",
            "717:\tlearn: 189.8360621\ttest: 286.8782566\tbest: 286.8782566 (717)\ttotal: 34.3s\tremaining: 13.5s\n",
            "718:\tlearn: 189.7393372\ttest: 286.7788543\tbest: 286.7788543 (718)\ttotal: 34.3s\tremaining: 13.4s\n",
            "719:\tlearn: 189.6771349\ttest: 286.7292432\tbest: 286.7292432 (719)\ttotal: 34.3s\tremaining: 13.4s\n",
            "720:\tlearn: 189.6147545\ttest: 286.7348338\tbest: 286.7292432 (719)\ttotal: 34.5s\tremaining: 13.3s\n",
            "721:\tlearn: 189.5203915\ttest: 286.6700847\tbest: 286.6700847 (721)\ttotal: 34.5s\tremaining: 13.3s\n",
            "722:\tlearn: 189.4043030\ttest: 286.5124649\tbest: 286.5124649 (722)\ttotal: 34.6s\tremaining: 13.2s\n",
            "723:\tlearn: 189.3198151\ttest: 286.4679094\tbest: 286.4679094 (723)\ttotal: 34.6s\tremaining: 13.2s\n",
            "724:\tlearn: 189.1809763\ttest: 286.4259085\tbest: 286.4259085 (724)\ttotal: 34.7s\tremaining: 13.2s\n",
            "725:\tlearn: 189.1286447\ttest: 286.2585111\tbest: 286.2585111 (725)\ttotal: 34.7s\tremaining: 13.1s\n",
            "726:\tlearn: 189.0807552\ttest: 286.2209360\tbest: 286.2209360 (726)\ttotal: 34.8s\tremaining: 13.1s\n",
            "727:\tlearn: 188.9718556\ttest: 286.1856956\tbest: 286.1856956 (727)\ttotal: 34.8s\tremaining: 13s\n",
            "728:\tlearn: 188.9427584\ttest: 286.1633826\tbest: 286.1633826 (728)\ttotal: 34.8s\tremaining: 13s\n",
            "729:\tlearn: 188.9281669\ttest: 286.1490400\tbest: 286.1490400 (729)\ttotal: 34.9s\tremaining: 12.9s\n",
            "730:\tlearn: 188.8483096\ttest: 286.0729637\tbest: 286.0729637 (730)\ttotal: 34.9s\tremaining: 12.9s\n",
            "731:\tlearn: 188.7753841\ttest: 286.0525889\tbest: 286.0525889 (731)\ttotal: 35s\tremaining: 12.8s\n",
            "732:\tlearn: 188.7589048\ttest: 286.0283561\tbest: 286.0283561 (732)\ttotal: 35s\tremaining: 12.8s\n",
            "733:\tlearn: 188.7321050\ttest: 286.0089634\tbest: 286.0089634 (733)\ttotal: 35.1s\tremaining: 12.7s\n",
            "734:\tlearn: 188.6640902\ttest: 285.9765628\tbest: 285.9765628 (734)\ttotal: 35.1s\tremaining: 12.7s\n",
            "735:\tlearn: 188.6461376\ttest: 285.9624715\tbest: 285.9624715 (735)\ttotal: 35.2s\tremaining: 12.6s\n",
            "736:\tlearn: 188.5374085\ttest: 285.8939034\tbest: 285.8939034 (736)\ttotal: 35.2s\tremaining: 12.6s\n",
            "737:\tlearn: 188.4924235\ttest: 285.8475722\tbest: 285.8475722 (737)\ttotal: 35.3s\tremaining: 12.5s\n",
            "738:\tlearn: 188.3618855\ttest: 285.8095660\tbest: 285.8095660 (738)\ttotal: 35.3s\tremaining: 12.5s\n",
            "739:\tlearn: 188.3193906\ttest: 285.6749397\tbest: 285.6749397 (739)\ttotal: 35.3s\tremaining: 12.4s\n",
            "740:\tlearn: 188.2204010\ttest: 285.6797358\tbest: 285.6749397 (739)\ttotal: 35.4s\tremaining: 12.4s\n",
            "741:\tlearn: 188.1687169\ttest: 285.6409030\tbest: 285.6409030 (741)\ttotal: 35.5s\tremaining: 12.3s\n",
            "742:\tlearn: 188.0990652\ttest: 285.6422922\tbest: 285.6409030 (741)\ttotal: 35.5s\tremaining: 12.3s\n",
            "743:\tlearn: 188.0566014\ttest: 285.6097077\tbest: 285.6097077 (743)\ttotal: 35.6s\tremaining: 12.2s\n",
            "744:\tlearn: 188.0310679\ttest: 285.5913801\tbest: 285.5913801 (744)\ttotal: 35.6s\tremaining: 12.2s\n",
            "745:\tlearn: 188.0175461\ttest: 285.5750397\tbest: 285.5750397 (745)\ttotal: 35.7s\tremaining: 12.1s\n",
            "746:\tlearn: 187.9826956\ttest: 285.5541539\tbest: 285.5541539 (746)\ttotal: 35.7s\tremaining: 12.1s\n",
            "747:\tlearn: 187.9418532\ttest: 285.5327161\tbest: 285.5327161 (747)\ttotal: 35.8s\tremaining: 12s\n",
            "748:\tlearn: 187.8181802\ttest: 285.4032347\tbest: 285.4032347 (748)\ttotal: 35.8s\tremaining: 12s\n",
            "749:\tlearn: 187.7373654\ttest: 285.3664549\tbest: 285.3664549 (749)\ttotal: 35.9s\tremaining: 11.9s\n",
            "750:\tlearn: 187.7059016\ttest: 285.3515910\tbest: 285.3515910 (750)\ttotal: 35.9s\tremaining: 11.9s\n",
            "751:\tlearn: 187.6783483\ttest: 285.3333434\tbest: 285.3333434 (751)\ttotal: 35.9s\tremaining: 11.9s\n",
            "752:\tlearn: 187.6602879\ttest: 285.3157509\tbest: 285.3157509 (752)\ttotal: 36s\tremaining: 11.8s\n",
            "753:\tlearn: 187.6480835\ttest: 285.3024530\tbest: 285.3024530 (753)\ttotal: 36s\tremaining: 11.8s\n",
            "754:\tlearn: 187.6278339\ttest: 285.2929011\tbest: 285.2929011 (754)\ttotal: 36.1s\tremaining: 11.7s\n",
            "755:\tlearn: 187.5940555\ttest: 285.2857782\tbest: 285.2857782 (755)\ttotal: 36.1s\tremaining: 11.7s\n",
            "756:\tlearn: 187.5177391\ttest: 285.2452786\tbest: 285.2452786 (756)\ttotal: 36.2s\tremaining: 11.6s\n",
            "757:\tlearn: 187.4660708\ttest: 285.2061817\tbest: 285.2061817 (757)\ttotal: 36.2s\tremaining: 11.6s\n",
            "758:\tlearn: 187.4418213\ttest: 285.1733345\tbest: 285.1733345 (758)\ttotal: 36.3s\tremaining: 11.5s\n",
            "759:\tlearn: 187.3785688\ttest: 285.1717766\tbest: 285.1717766 (759)\ttotal: 36.3s\tremaining: 11.5s\n",
            "760:\tlearn: 187.3520528\ttest: 285.1691996\tbest: 285.1691996 (760)\ttotal: 36.3s\tremaining: 11.4s\n",
            "761:\tlearn: 187.2988053\ttest: 285.0841566\tbest: 285.0841566 (761)\ttotal: 36.4s\tremaining: 11.4s\n",
            "762:\tlearn: 187.2604977\ttest: 285.0602017\tbest: 285.0602017 (762)\ttotal: 36.4s\tremaining: 11.3s\n",
            "763:\tlearn: 187.2318185\ttest: 285.0405841\tbest: 285.0405841 (763)\ttotal: 36.5s\tremaining: 11.3s\n",
            "764:\tlearn: 187.2118365\ttest: 285.0260298\tbest: 285.0260298 (764)\ttotal: 36.6s\tremaining: 11.2s\n",
            "765:\tlearn: 187.1468078\ttest: 285.0232817\tbest: 285.0232817 (765)\ttotal: 36.6s\tremaining: 11.2s\n",
            "766:\tlearn: 187.1349948\ttest: 285.0112777\tbest: 285.0112777 (766)\ttotal: 36.7s\tremaining: 11.1s\n",
            "767:\tlearn: 187.1244268\ttest: 285.0049920\tbest: 285.0049920 (767)\ttotal: 36.7s\tremaining: 11.1s\n",
            "768:\tlearn: 187.1053488\ttest: 284.9900299\tbest: 284.9900299 (768)\ttotal: 36.8s\tremaining: 11s\n",
            "769:\tlearn: 187.0563461\ttest: 284.9682291\tbest: 284.9682291 (769)\ttotal: 36.8s\tremaining: 11s\n",
            "770:\tlearn: 186.9230552\ttest: 284.9115763\tbest: 284.9115763 (770)\ttotal: 36.9s\tremaining: 10.9s\n",
            "771:\tlearn: 186.9143011\ttest: 284.9076914\tbest: 284.9076914 (771)\ttotal: 36.9s\tremaining: 10.9s\n",
            "772:\tlearn: 186.9001813\ttest: 284.8869673\tbest: 284.8869673 (772)\ttotal: 37s\tremaining: 10.9s\n",
            "773:\tlearn: 186.8841615\ttest: 284.8822115\tbest: 284.8822115 (773)\ttotal: 37s\tremaining: 10.8s\n",
            "774:\tlearn: 186.8481868\ttest: 284.8596626\tbest: 284.8596626 (774)\ttotal: 37s\tremaining: 10.8s\n",
            "775:\tlearn: 186.7308173\ttest: 284.7718659\tbest: 284.7718659 (775)\ttotal: 37.1s\tremaining: 10.7s\n",
            "776:\tlearn: 186.6871961\ttest: 284.7303525\tbest: 284.7303525 (776)\ttotal: 37.1s\tremaining: 10.7s\n",
            "777:\tlearn: 186.6774653\ttest: 284.7244879\tbest: 284.7244879 (777)\ttotal: 37.2s\tremaining: 10.6s\n",
            "778:\tlearn: 186.6583636\ttest: 284.7207391\tbest: 284.7207391 (778)\ttotal: 37.2s\tremaining: 10.6s\n",
            "779:\tlearn: 186.5794330\ttest: 284.6766960\tbest: 284.6766960 (779)\ttotal: 37.3s\tremaining: 10.5s\n",
            "780:\tlearn: 186.5137953\ttest: 284.6195655\tbest: 284.6195655 (780)\ttotal: 37.3s\tremaining: 10.5s\n",
            "781:\tlearn: 186.5000390\ttest: 284.5984583\tbest: 284.5984583 (781)\ttotal: 37.4s\tremaining: 10.4s\n",
            "782:\tlearn: 186.4844009\ttest: 284.5900267\tbest: 284.5900267 (782)\ttotal: 37.4s\tremaining: 10.4s\n",
            "783:\tlearn: 186.4303733\ttest: 284.5977015\tbest: 284.5900267 (782)\ttotal: 37.4s\tremaining: 10.3s\n",
            "784:\tlearn: 186.3275511\ttest: 284.5565518\tbest: 284.5565518 (784)\ttotal: 37.5s\tremaining: 10.3s\n",
            "785:\tlearn: 186.3157157\ttest: 284.5470807\tbest: 284.5470807 (785)\ttotal: 37.6s\tremaining: 10.2s\n",
            "786:\tlearn: 186.2180620\ttest: 284.5049242\tbest: 284.5049242 (786)\ttotal: 37.6s\tremaining: 10.2s\n",
            "787:\tlearn: 186.1512428\ttest: 284.4693673\tbest: 284.4693673 (787)\ttotal: 37.7s\tremaining: 10.1s\n",
            "788:\tlearn: 186.1165699\ttest: 284.4416451\tbest: 284.4416451 (788)\ttotal: 37.7s\tremaining: 10.1s\n",
            "789:\tlearn: 186.1036389\ttest: 284.4385837\tbest: 284.4385837 (789)\ttotal: 37.8s\tremaining: 10s\n",
            "790:\tlearn: 186.0124642\ttest: 284.3304179\tbest: 284.3304179 (790)\ttotal: 37.8s\tremaining: 9.99s\n",
            "791:\tlearn: 186.0026388\ttest: 284.3223938\tbest: 284.3223938 (791)\ttotal: 37.9s\tremaining: 9.95s\n",
            "792:\tlearn: 185.9771056\ttest: 284.2876870\tbest: 284.2876870 (792)\ttotal: 37.9s\tremaining: 9.9s\n",
            "793:\tlearn: 185.9167744\ttest: 284.1850202\tbest: 284.1850202 (793)\ttotal: 38s\tremaining: 9.85s\n",
            "794:\tlearn: 185.9053129\ttest: 284.1757196\tbest: 284.1757196 (794)\ttotal: 38s\tremaining: 9.8s\n",
            "795:\tlearn: 185.8502242\ttest: 284.1826828\tbest: 284.1757196 (794)\ttotal: 38.1s\tremaining: 9.75s\n",
            "796:\tlearn: 185.7853755\ttest: 284.1861902\tbest: 284.1757196 (794)\ttotal: 38.1s\tremaining: 9.7s\n",
            "797:\tlearn: 185.7233479\ttest: 284.1329122\tbest: 284.1329122 (797)\ttotal: 38.1s\tremaining: 9.65s\n",
            "798:\tlearn: 185.6851465\ttest: 284.1277127\tbest: 284.1277127 (798)\ttotal: 38.2s\tremaining: 9.61s\n",
            "799:\tlearn: 185.6772014\ttest: 284.1241699\tbest: 284.1241699 (799)\ttotal: 38.2s\tremaining: 9.56s\n",
            "800:\tlearn: 185.6456130\ttest: 284.1125086\tbest: 284.1125086 (800)\ttotal: 38.3s\tremaining: 9.51s\n",
            "801:\tlearn: 185.6253937\ttest: 284.1085840\tbest: 284.1085840 (801)\ttotal: 38.3s\tremaining: 9.46s\n",
            "802:\tlearn: 185.5784209\ttest: 284.0812132\tbest: 284.0812132 (802)\ttotal: 38.4s\tremaining: 9.41s\n",
            "803:\tlearn: 185.4871766\ttest: 284.0430008\tbest: 284.0430008 (803)\ttotal: 38.4s\tremaining: 9.37s\n",
            "804:\tlearn: 185.4071172\ttest: 284.0295689\tbest: 284.0295689 (804)\ttotal: 38.5s\tremaining: 9.32s\n",
            "805:\tlearn: 185.3363815\ttest: 283.9738246\tbest: 283.9738246 (805)\ttotal: 38.5s\tremaining: 9.27s\n",
            "806:\tlearn: 185.2776374\ttest: 283.9309166\tbest: 283.9309166 (806)\ttotal: 38.6s\tremaining: 9.22s\n",
            "807:\tlearn: 185.2226439\ttest: 283.8581409\tbest: 283.8581409 (807)\ttotal: 38.7s\tremaining: 9.18s\n",
            "808:\tlearn: 185.2033002\ttest: 283.8500262\tbest: 283.8500262 (808)\ttotal: 38.7s\tremaining: 9.14s\n",
            "809:\tlearn: 185.1556579\ttest: 283.7878988\tbest: 283.7878988 (809)\ttotal: 38.8s\tremaining: 9.09s\n",
            "810:\tlearn: 185.1134153\ttest: 283.7713623\tbest: 283.7713623 (810)\ttotal: 38.8s\tremaining: 9.04s\n",
            "811:\tlearn: 185.0757175\ttest: 283.7413656\tbest: 283.7413656 (811)\ttotal: 38.9s\tremaining: 9s\n",
            "812:\tlearn: 185.0510462\ttest: 283.7217343\tbest: 283.7217343 (812)\ttotal: 38.9s\tremaining: 8.95s\n",
            "813:\tlearn: 185.0346864\ttest: 283.7242029\tbest: 283.7217343 (812)\ttotal: 39s\tremaining: 8.9s\n",
            "814:\tlearn: 184.9985519\ttest: 283.6879041\tbest: 283.6879041 (814)\ttotal: 39s\tremaining: 8.85s\n",
            "815:\tlearn: 184.9344398\ttest: 283.6033187\tbest: 283.6033187 (815)\ttotal: 39s\tremaining: 8.8s\n",
            "816:\tlearn: 184.8661449\ttest: 283.6150986\tbest: 283.6033187 (815)\ttotal: 39.1s\tremaining: 8.76s\n",
            "817:\tlearn: 184.8115159\ttest: 283.5884602\tbest: 283.5884602 (817)\ttotal: 39.1s\tremaining: 8.71s\n",
            "818:\tlearn: 184.7747746\ttest: 283.5695668\tbest: 283.5695668 (818)\ttotal: 39.2s\tremaining: 8.66s\n",
            "819:\tlearn: 184.7008871\ttest: 283.3475044\tbest: 283.3475044 (819)\ttotal: 39.2s\tremaining: 8.61s\n",
            "820:\tlearn: 184.6785389\ttest: 283.3380777\tbest: 283.3380777 (820)\ttotal: 39.3s\tremaining: 8.56s\n",
            "821:\tlearn: 184.6421512\ttest: 283.3336522\tbest: 283.3336522 (821)\ttotal: 39.3s\tremaining: 8.51s\n",
            "822:\tlearn: 184.5628217\ttest: 283.2405814\tbest: 283.2405814 (822)\ttotal: 39.4s\tremaining: 8.46s\n",
            "823:\tlearn: 184.5087671\ttest: 283.1843595\tbest: 283.1843595 (823)\ttotal: 39.4s\tremaining: 8.41s\n",
            "824:\tlearn: 184.4976794\ttest: 283.1702666\tbest: 283.1702666 (824)\ttotal: 39.4s\tremaining: 8.37s\n",
            "825:\tlearn: 184.4621972\ttest: 283.1269344\tbest: 283.1269344 (825)\ttotal: 39.5s\tremaining: 8.32s\n",
            "826:\tlearn: 184.4513904\ttest: 283.1208476\tbest: 283.1208476 (826)\ttotal: 39.5s\tremaining: 8.27s\n",
            "827:\tlearn: 184.4317215\ttest: 283.1196846\tbest: 283.1196846 (827)\ttotal: 39.6s\tremaining: 8.22s\n",
            "828:\tlearn: 184.3765526\ttest: 283.0997050\tbest: 283.0997050 (828)\ttotal: 39.7s\tremaining: 8.19s\n",
            "829:\tlearn: 184.2945636\ttest: 283.0469898\tbest: 283.0469898 (829)\ttotal: 39.8s\tremaining: 8.14s\n",
            "830:\tlearn: 184.2729336\ttest: 283.0455406\tbest: 283.0455406 (830)\ttotal: 39.8s\tremaining: 8.1s\n",
            "831:\tlearn: 184.1838577\ttest: 282.9899968\tbest: 282.9899968 (831)\ttotal: 39.8s\tremaining: 8.04s\n",
            "832:\tlearn: 184.1314906\ttest: 282.9190557\tbest: 282.9190557 (832)\ttotal: 39.9s\tremaining: 8s\n",
            "833:\tlearn: 184.0400909\ttest: 282.8642690\tbest: 282.8642690 (833)\ttotal: 39.9s\tremaining: 7.95s\n",
            "834:\tlearn: 183.9650888\ttest: 282.8523186\tbest: 282.8523186 (834)\ttotal: 40s\tremaining: 7.9s\n",
            "835:\tlearn: 183.9519392\ttest: 282.8209621\tbest: 282.8209621 (835)\ttotal: 40s\tremaining: 7.85s\n",
            "836:\tlearn: 183.9310609\ttest: 282.7985389\tbest: 282.7985389 (836)\ttotal: 40.1s\tremaining: 7.8s\n",
            "837:\tlearn: 183.9147322\ttest: 282.7953642\tbest: 282.7953642 (837)\ttotal: 40.1s\tremaining: 7.75s\n",
            "838:\tlearn: 183.8881435\ttest: 282.7804713\tbest: 282.7804713 (838)\ttotal: 40.1s\tremaining: 7.7s\n",
            "839:\tlearn: 183.8808548\ttest: 282.7802630\tbest: 282.7802630 (839)\ttotal: 40.2s\tremaining: 7.66s\n",
            "840:\tlearn: 183.8225776\ttest: 282.7742206\tbest: 282.7742206 (840)\ttotal: 40.2s\tremaining: 7.61s\n",
            "841:\tlearn: 183.7355359\ttest: 282.7221714\tbest: 282.7221714 (841)\ttotal: 40.3s\tremaining: 7.56s\n",
            "842:\tlearn: 183.7144262\ttest: 282.7082233\tbest: 282.7082233 (842)\ttotal: 40.3s\tremaining: 7.51s\n",
            "843:\tlearn: 183.6829006\ttest: 282.6611341\tbest: 282.6611341 (843)\ttotal: 40.4s\tremaining: 7.46s\n",
            "844:\tlearn: 183.6362206\ttest: 282.6351128\tbest: 282.6351128 (844)\ttotal: 40.4s\tremaining: 7.41s\n",
            "845:\tlearn: 183.5630674\ttest: 282.5442186\tbest: 282.5442186 (845)\ttotal: 40.5s\tremaining: 7.37s\n",
            "846:\tlearn: 183.5400243\ttest: 282.5292975\tbest: 282.5292975 (846)\ttotal: 40.5s\tremaining: 7.32s\n",
            "847:\tlearn: 183.5170513\ttest: 282.5215763\tbest: 282.5215763 (847)\ttotal: 40.6s\tremaining: 7.27s\n",
            "848:\tlearn: 183.5075112\ttest: 282.5120732\tbest: 282.5120732 (848)\ttotal: 40.6s\tremaining: 7.22s\n",
            "849:\tlearn: 183.3695578\ttest: 282.5037476\tbest: 282.5037476 (849)\ttotal: 40.6s\tremaining: 7.17s\n",
            "850:\tlearn: 183.2093607\ttest: 282.4264427\tbest: 282.4264427 (850)\ttotal: 40.7s\tremaining: 7.13s\n",
            "851:\tlearn: 183.1786755\ttest: 282.3217144\tbest: 282.3217144 (851)\ttotal: 40.8s\tremaining: 7.09s\n",
            "852:\tlearn: 183.1330594\ttest: 282.2625681\tbest: 282.2625681 (852)\ttotal: 40.8s\tremaining: 7.04s\n",
            "853:\tlearn: 183.1134438\ttest: 282.2529322\tbest: 282.2529322 (853)\ttotal: 40.9s\tremaining: 6.99s\n",
            "854:\tlearn: 183.0990980\ttest: 282.2405583\tbest: 282.2405583 (854)\ttotal: 40.9s\tremaining: 6.94s\n",
            "855:\tlearn: 183.0680851\ttest: 282.2100960\tbest: 282.2100960 (855)\ttotal: 41s\tremaining: 6.89s\n",
            "856:\tlearn: 183.0269098\ttest: 282.1816858\tbest: 282.1816858 (856)\ttotal: 41s\tremaining: 6.85s\n",
            "857:\tlearn: 182.9796037\ttest: 282.1827676\tbest: 282.1816858 (856)\ttotal: 41.1s\tremaining: 6.8s\n",
            "858:\tlearn: 182.9113815\ttest: 281.9749706\tbest: 281.9749706 (858)\ttotal: 41.1s\tremaining: 6.75s\n",
            "859:\tlearn: 182.8543596\ttest: 281.9436476\tbest: 281.9436476 (859)\ttotal: 41.2s\tremaining: 6.7s\n",
            "860:\tlearn: 182.8173079\ttest: 281.9049478\tbest: 281.9049478 (860)\ttotal: 41.2s\tremaining: 6.65s\n",
            "861:\tlearn: 182.7702453\ttest: 281.9141635\tbest: 281.9049478 (860)\ttotal: 41.3s\tremaining: 6.6s\n",
            "862:\tlearn: 182.7324258\ttest: 281.8780473\tbest: 281.8780473 (862)\ttotal: 41.3s\tremaining: 6.56s\n",
            "863:\tlearn: 182.7172517\ttest: 281.8673872\tbest: 281.8673872 (863)\ttotal: 41.3s\tremaining: 6.51s\n",
            "864:\tlearn: 182.6904026\ttest: 281.8337982\tbest: 281.8337982 (864)\ttotal: 41.4s\tremaining: 6.46s\n",
            "865:\tlearn: 182.6177094\ttest: 281.7717344\tbest: 281.7717344 (865)\ttotal: 41.4s\tremaining: 6.41s\n",
            "866:\tlearn: 182.6043060\ttest: 281.7602221\tbest: 281.7602221 (866)\ttotal: 41.5s\tremaining: 6.37s\n",
            "867:\tlearn: 182.5576638\ttest: 281.7278790\tbest: 281.7278790 (867)\ttotal: 41.5s\tremaining: 6.32s\n",
            "868:\tlearn: 182.5319860\ttest: 281.6456408\tbest: 281.6456408 (868)\ttotal: 41.6s\tremaining: 6.27s\n",
            "869:\tlearn: 182.5131525\ttest: 281.6339013\tbest: 281.6339013 (869)\ttotal: 41.6s\tremaining: 6.22s\n",
            "870:\tlearn: 182.4514309\ttest: 281.5342990\tbest: 281.5342990 (870)\ttotal: 41.7s\tremaining: 6.17s\n",
            "871:\tlearn: 182.3542801\ttest: 281.2297717\tbest: 281.2297717 (871)\ttotal: 41.8s\tremaining: 6.14s\n",
            "872:\tlearn: 182.2214790\ttest: 281.2233818\tbest: 281.2233818 (872)\ttotal: 41.9s\tremaining: 6.09s\n",
            "873:\tlearn: 182.1463744\ttest: 281.2147140\tbest: 281.2147140 (873)\ttotal: 41.9s\tremaining: 6.05s\n",
            "874:\tlearn: 182.1244203\ttest: 281.1975723\tbest: 281.1975723 (874)\ttotal: 42s\tremaining: 6s\n",
            "875:\tlearn: 182.0978244\ttest: 281.1821873\tbest: 281.1821873 (875)\ttotal: 42s\tremaining: 5.95s\n",
            "876:\tlearn: 182.0409313\ttest: 281.1300484\tbest: 281.1300484 (876)\ttotal: 42.1s\tremaining: 5.9s\n",
            "877:\tlearn: 181.9576916\ttest: 281.0319747\tbest: 281.0319747 (877)\ttotal: 42.1s\tremaining: 5.85s\n",
            "878:\tlearn: 181.8801564\ttest: 280.9871186\tbest: 280.9871186 (878)\ttotal: 42.2s\tremaining: 5.8s\n",
            "879:\tlearn: 181.8609530\ttest: 280.9783789\tbest: 280.9783789 (879)\ttotal: 42.2s\tremaining: 5.76s\n",
            "880:\tlearn: 181.8507198\ttest: 280.9726293\tbest: 280.9726293 (880)\ttotal: 42.3s\tremaining: 5.71s\n",
            "881:\tlearn: 181.8392526\ttest: 280.9466568\tbest: 280.9466568 (881)\ttotal: 42.3s\tremaining: 5.66s\n",
            "882:\tlearn: 181.8138630\ttest: 280.9148398\tbest: 280.9148398 (882)\ttotal: 42.4s\tremaining: 5.61s\n",
            "883:\tlearn: 181.7397934\ttest: 280.8719711\tbest: 280.8719711 (883)\ttotal: 42.4s\tremaining: 5.56s\n",
            "884:\tlearn: 181.6880890\ttest: 280.8375492\tbest: 280.8375492 (884)\ttotal: 42.4s\tremaining: 5.51s\n",
            "885:\tlearn: 181.6311188\ttest: 280.8025638\tbest: 280.8025638 (885)\ttotal: 42.5s\tremaining: 5.47s\n",
            "886:\tlearn: 181.5754507\ttest: 280.7867901\tbest: 280.7867901 (886)\ttotal: 42.5s\tremaining: 5.42s\n",
            "887:\tlearn: 181.5649549\ttest: 280.7733805\tbest: 280.7733805 (887)\ttotal: 42.6s\tremaining: 5.37s\n",
            "888:\tlearn: 181.4776755\ttest: 280.8248176\tbest: 280.7733805 (887)\ttotal: 42.6s\tremaining: 5.32s\n",
            "889:\tlearn: 181.4692615\ttest: 280.8142411\tbest: 280.7733805 (887)\ttotal: 42.7s\tremaining: 5.27s\n",
            "890:\tlearn: 181.4164534\ttest: 280.7656292\tbest: 280.7656292 (890)\ttotal: 42.7s\tremaining: 5.23s\n",
            "891:\tlearn: 181.2611364\ttest: 280.7248019\tbest: 280.7248019 (891)\ttotal: 42.8s\tremaining: 5.18s\n",
            "892:\tlearn: 181.2265834\ttest: 280.6842397\tbest: 280.6842397 (892)\ttotal: 42.8s\tremaining: 5.13s\n",
            "893:\tlearn: 181.2135902\ttest: 280.6877998\tbest: 280.6842397 (892)\ttotal: 43s\tremaining: 5.09s\n",
            "894:\tlearn: 181.1287811\ttest: 280.6308226\tbest: 280.6308226 (894)\ttotal: 43s\tremaining: 5.04s\n",
            "895:\tlearn: 181.0614501\ttest: 280.5922423\tbest: 280.5922423 (895)\ttotal: 43s\tremaining: 5s\n",
            "896:\tlearn: 181.0081044\ttest: 280.5908805\tbest: 280.5908805 (896)\ttotal: 43.1s\tremaining: 4.95s\n",
            "897:\tlearn: 180.9727699\ttest: 280.5671066\tbest: 280.5671066 (897)\ttotal: 43.1s\tremaining: 4.9s\n",
            "898:\tlearn: 180.9633229\ttest: 280.5618333\tbest: 280.5618333 (898)\ttotal: 43.2s\tremaining: 4.85s\n",
            "899:\tlearn: 180.9432227\ttest: 280.5532450\tbest: 280.5532450 (899)\ttotal: 43.2s\tremaining: 4.8s\n",
            "900:\tlearn: 180.9359544\ttest: 280.5461245\tbest: 280.5461245 (900)\ttotal: 43.3s\tremaining: 4.75s\n",
            "901:\tlearn: 180.9276057\ttest: 280.5355916\tbest: 280.5355916 (901)\ttotal: 43.3s\tremaining: 4.71s\n",
            "902:\tlearn: 180.8857311\ttest: 280.5137160\tbest: 280.5137160 (902)\ttotal: 43.4s\tremaining: 4.66s\n",
            "903:\tlearn: 180.8655957\ttest: 280.5043828\tbest: 280.5043828 (903)\ttotal: 43.4s\tremaining: 4.61s\n",
            "904:\tlearn: 180.8526668\ttest: 280.4938978\tbest: 280.4938978 (904)\ttotal: 43.5s\tremaining: 4.56s\n",
            "905:\tlearn: 180.8020713\ttest: 280.4789591\tbest: 280.4789591 (905)\ttotal: 43.5s\tremaining: 4.51s\n",
            "906:\tlearn: 180.7429228\ttest: 280.4040585\tbest: 280.4040585 (906)\ttotal: 43.6s\tremaining: 4.46s\n",
            "907:\tlearn: 180.7144531\ttest: 280.4054583\tbest: 280.4040585 (906)\ttotal: 43.6s\tremaining: 4.42s\n",
            "908:\tlearn: 180.6507488\ttest: 280.3220967\tbest: 280.3220967 (908)\ttotal: 43.6s\tremaining: 4.37s\n",
            "909:\tlearn: 180.6249241\ttest: 280.3199485\tbest: 280.3199485 (909)\ttotal: 43.7s\tremaining: 4.32s\n",
            "910:\tlearn: 180.5693025\ttest: 280.2918047\tbest: 280.2918047 (910)\ttotal: 43.7s\tremaining: 4.27s\n",
            "911:\tlearn: 180.5598718\ttest: 280.2855866\tbest: 280.2855866 (911)\ttotal: 43.8s\tremaining: 4.22s\n",
            "912:\tlearn: 180.4865492\ttest: 280.2884975\tbest: 280.2855866 (911)\ttotal: 43.8s\tremaining: 4.17s\n",
            "913:\tlearn: 180.4676313\ttest: 280.2719842\tbest: 280.2719842 (913)\ttotal: 43.9s\tremaining: 4.13s\n",
            "914:\tlearn: 180.3968215\ttest: 280.2414008\tbest: 280.2414008 (914)\ttotal: 44s\tremaining: 4.09s\n",
            "915:\tlearn: 180.3683316\ttest: 280.2121309\tbest: 280.2121309 (915)\ttotal: 44s\tremaining: 4.04s\n",
            "916:\tlearn: 180.3592168\ttest: 280.2093212\tbest: 280.2093212 (916)\ttotal: 44.1s\tremaining: 3.99s\n",
            "917:\tlearn: 180.3403236\ttest: 280.2001489\tbest: 280.2001489 (917)\ttotal: 44.1s\tremaining: 3.94s\n",
            "918:\tlearn: 180.2811084\ttest: 280.1641718\tbest: 280.1641718 (918)\ttotal: 44.2s\tremaining: 3.89s\n",
            "919:\tlearn: 180.2387242\ttest: 280.1351547\tbest: 280.1351547 (919)\ttotal: 44.2s\tremaining: 3.85s\n",
            "920:\tlearn: 180.1667177\ttest: 280.1128019\tbest: 280.1128019 (920)\ttotal: 44.3s\tremaining: 3.8s\n",
            "921:\tlearn: 180.1574295\ttest: 280.1028964\tbest: 280.1028964 (921)\ttotal: 44.3s\tremaining: 3.75s\n",
            "922:\tlearn: 180.1281044\ttest: 280.0774018\tbest: 280.0774018 (922)\ttotal: 44.4s\tremaining: 3.7s\n",
            "923:\tlearn: 180.1128903\ttest: 280.0634521\tbest: 280.0634521 (923)\ttotal: 44.4s\tremaining: 3.65s\n",
            "924:\tlearn: 180.0996454\ttest: 280.0534944\tbest: 280.0534944 (924)\ttotal: 44.4s\tremaining: 3.6s\n",
            "925:\tlearn: 180.0739013\ttest: 280.0554127\tbest: 280.0534944 (924)\ttotal: 44.5s\tremaining: 3.56s\n",
            "926:\tlearn: 180.0300563\ttest: 280.0073556\tbest: 280.0073556 (926)\ttotal: 44.5s\tremaining: 3.51s\n",
            "927:\tlearn: 179.9781463\ttest: 279.9531702\tbest: 279.9531702 (927)\ttotal: 44.6s\tremaining: 3.46s\n",
            "928:\tlearn: 179.9512216\ttest: 279.9324289\tbest: 279.9324289 (928)\ttotal: 44.6s\tremaining: 3.41s\n",
            "929:\tlearn: 179.9248209\ttest: 279.9499683\tbest: 279.9324289 (928)\ttotal: 44.7s\tremaining: 3.36s\n",
            "930:\tlearn: 179.9114275\ttest: 279.9526553\tbest: 279.9324289 (928)\ttotal: 44.7s\tremaining: 3.31s\n",
            "931:\tlearn: 179.8754515\ttest: 279.9283165\tbest: 279.9283165 (931)\ttotal: 44.8s\tremaining: 3.27s\n",
            "932:\tlearn: 179.8330548\ttest: 279.9398885\tbest: 279.9283165 (931)\ttotal: 44.8s\tremaining: 3.22s\n",
            "933:\tlearn: 179.8059829\ttest: 279.9194698\tbest: 279.9194698 (933)\ttotal: 44.9s\tremaining: 3.17s\n",
            "934:\tlearn: 179.7918660\ttest: 279.9124825\tbest: 279.9124825 (934)\ttotal: 44.9s\tremaining: 3.12s\n",
            "935:\tlearn: 179.7784486\ttest: 279.9076908\tbest: 279.9076908 (935)\ttotal: 45s\tremaining: 3.07s\n",
            "936:\tlearn: 179.7746202\ttest: 279.9027521\tbest: 279.9027521 (936)\ttotal: 45.1s\tremaining: 3.03s\n",
            "937:\tlearn: 179.7583672\ttest: 279.9122108\tbest: 279.9027521 (936)\ttotal: 45.1s\tremaining: 2.98s\n",
            "938:\tlearn: 179.7096251\ttest: 279.8919914\tbest: 279.8919914 (938)\ttotal: 45.2s\tremaining: 2.93s\n",
            "939:\tlearn: 179.6015240\ttest: 279.8336763\tbest: 279.8336763 (939)\ttotal: 45.2s\tremaining: 2.88s\n",
            "940:\tlearn: 179.4612228\ttest: 279.8142971\tbest: 279.8142971 (940)\ttotal: 45.3s\tremaining: 2.84s\n",
            "941:\tlearn: 179.4214797\ttest: 279.7662926\tbest: 279.7662926 (941)\ttotal: 45.3s\tremaining: 2.79s\n",
            "942:\tlearn: 179.3954889\ttest: 279.7271510\tbest: 279.7271510 (942)\ttotal: 45.3s\tremaining: 2.74s\n",
            "943:\tlearn: 179.3126745\ttest: 279.7867047\tbest: 279.7271510 (942)\ttotal: 45.4s\tremaining: 2.69s\n",
            "944:\tlearn: 179.2752598\ttest: 279.7335515\tbest: 279.7271510 (942)\ttotal: 45.4s\tremaining: 2.64s\n",
            "945:\tlearn: 179.2651773\ttest: 279.7097821\tbest: 279.7097821 (945)\ttotal: 45.5s\tremaining: 2.6s\n",
            "946:\tlearn: 179.2342743\ttest: 279.6862045\tbest: 279.6862045 (946)\ttotal: 45.5s\tremaining: 2.55s\n",
            "947:\tlearn: 179.2149415\ttest: 279.6706333\tbest: 279.6706333 (947)\ttotal: 45.6s\tremaining: 2.5s\n",
            "948:\tlearn: 179.1960978\ttest: 279.6612437\tbest: 279.6612437 (948)\ttotal: 45.6s\tremaining: 2.45s\n",
            "949:\tlearn: 179.1871808\ttest: 279.6541870\tbest: 279.6541870 (949)\ttotal: 45.7s\tremaining: 2.4s\n",
            "950:\tlearn: 179.1457507\ttest: 279.6081727\tbest: 279.6081727 (950)\ttotal: 45.7s\tremaining: 2.35s\n",
            "951:\tlearn: 179.1302365\ttest: 279.5916970\tbest: 279.5916970 (951)\ttotal: 45.7s\tremaining: 2.31s\n",
            "952:\tlearn: 179.0583958\ttest: 279.5493616\tbest: 279.5493616 (952)\ttotal: 45.8s\tremaining: 2.26s\n",
            "953:\tlearn: 179.0446154\ttest: 279.5395429\tbest: 279.5395429 (953)\ttotal: 45.8s\tremaining: 2.21s\n",
            "954:\tlearn: 179.0228919\ttest: 279.5271343\tbest: 279.5271343 (954)\ttotal: 45.9s\tremaining: 2.16s\n",
            "955:\tlearn: 179.0002888\ttest: 279.5090121\tbest: 279.5090121 (955)\ttotal: 45.9s\tremaining: 2.11s\n",
            "956:\tlearn: 178.9633001\ttest: 279.4631957\tbest: 279.4631957 (956)\ttotal: 46s\tremaining: 2.06s\n",
            "957:\tlearn: 178.9169118\ttest: 279.4259501\tbest: 279.4259501 (957)\ttotal: 46.1s\tremaining: 2.02s\n",
            "958:\tlearn: 178.8991040\ttest: 279.4174309\tbest: 279.4174309 (958)\ttotal: 46.1s\tremaining: 1.97s\n",
            "959:\tlearn: 178.8632714\ttest: 279.3689685\tbest: 279.3689685 (959)\ttotal: 46.2s\tremaining: 1.92s\n",
            "960:\tlearn: 178.7892598\ttest: 279.3702804\tbest: 279.3689685 (959)\ttotal: 46.2s\tremaining: 1.88s\n",
            "961:\tlearn: 178.7001715\ttest: 279.0914647\tbest: 279.0914647 (961)\ttotal: 46.3s\tremaining: 1.83s\n",
            "962:\tlearn: 178.6955248\ttest: 279.0876954\tbest: 279.0876954 (962)\ttotal: 46.3s\tremaining: 1.78s\n",
            "963:\tlearn: 178.6858604\ttest: 279.0787572\tbest: 279.0787572 (963)\ttotal: 46.4s\tremaining: 1.73s\n",
            "964:\tlearn: 178.6066472\ttest: 279.0770096\tbest: 279.0770096 (964)\ttotal: 46.4s\tremaining: 1.68s\n",
            "965:\tlearn: 178.5694729\ttest: 279.0647241\tbest: 279.0647241 (965)\ttotal: 46.5s\tremaining: 1.64s\n",
            "966:\tlearn: 178.5123856\ttest: 278.9893117\tbest: 278.9893117 (966)\ttotal: 46.5s\tremaining: 1.59s\n",
            "967:\tlearn: 178.4338939\ttest: 278.9336158\tbest: 278.9336158 (967)\ttotal: 46.5s\tremaining: 1.54s\n",
            "968:\tlearn: 178.4201987\ttest: 278.9215188\tbest: 278.9215188 (968)\ttotal: 46.6s\tremaining: 1.49s\n",
            "969:\tlearn: 178.3739596\ttest: 278.9284588\tbest: 278.9215188 (968)\ttotal: 46.6s\tremaining: 1.44s\n",
            "970:\tlearn: 178.2340208\ttest: 278.7605645\tbest: 278.7605645 (970)\ttotal: 46.7s\tremaining: 1.39s\n",
            "971:\tlearn: 178.1997122\ttest: 278.7404300\tbest: 278.7404300 (971)\ttotal: 46.7s\tremaining: 1.35s\n",
            "972:\tlearn: 178.1771029\ttest: 278.7387741\tbest: 278.7387741 (972)\ttotal: 46.8s\tremaining: 1.3s\n",
            "973:\tlearn: 178.1144313\ttest: 278.7236606\tbest: 278.7236606 (973)\ttotal: 46.8s\tremaining: 1.25s\n",
            "974:\tlearn: 178.1044841\ttest: 278.7155499\tbest: 278.7155499 (974)\ttotal: 46.9s\tremaining: 1.2s\n",
            "975:\tlearn: 178.0373451\ttest: 278.6823978\tbest: 278.6823978 (975)\ttotal: 46.9s\tremaining: 1.15s\n",
            "976:\tlearn: 177.9989984\ttest: 278.6593986\tbest: 278.6593986 (976)\ttotal: 46.9s\tremaining: 1.1s\n",
            "977:\tlearn: 177.9444391\ttest: 278.5860533\tbest: 278.5860533 (977)\ttotal: 47s\tremaining: 1.06s\n",
            "978:\tlearn: 177.9233264\ttest: 278.5676625\tbest: 278.5676625 (978)\ttotal: 47s\tremaining: 1.01s\n",
            "979:\tlearn: 177.9110161\ttest: 278.5587663\tbest: 278.5587663 (979)\ttotal: 47.1s\tremaining: 962ms\n",
            "980:\tlearn: 177.8829732\ttest: 278.5543554\tbest: 278.5543554 (980)\ttotal: 47.2s\tremaining: 914ms\n",
            "981:\tlearn: 177.8704481\ttest: 278.5424151\tbest: 278.5424151 (981)\ttotal: 47.3s\tremaining: 866ms\n",
            "982:\tlearn: 177.8167894\ttest: 278.5155861\tbest: 278.5155861 (982)\ttotal: 47.3s\tremaining: 818ms\n",
            "983:\tlearn: 177.8009108\ttest: 278.5095412\tbest: 278.5095412 (983)\ttotal: 47.3s\tremaining: 770ms\n",
            "984:\tlearn: 177.7868246\ttest: 278.4948022\tbest: 278.4948022 (984)\ttotal: 47.4s\tremaining: 722ms\n",
            "985:\tlearn: 177.7523918\ttest: 278.4798122\tbest: 278.4798122 (985)\ttotal: 47.4s\tremaining: 673ms\n",
            "986:\tlearn: 177.7317710\ttest: 278.4611232\tbest: 278.4611232 (986)\ttotal: 47.5s\tremaining: 625ms\n",
            "987:\tlearn: 177.6561578\ttest: 278.4933824\tbest: 278.4611232 (986)\ttotal: 47.5s\tremaining: 577ms\n",
            "988:\tlearn: 177.6427330\ttest: 278.4751707\tbest: 278.4611232 (986)\ttotal: 47.6s\tremaining: 529ms\n",
            "989:\tlearn: 177.6288197\ttest: 278.4654288\tbest: 278.4611232 (986)\ttotal: 47.6s\tremaining: 481ms\n",
            "990:\tlearn: 177.5455144\ttest: 278.4702834\tbest: 278.4611232 (986)\ttotal: 47.7s\tremaining: 433ms\n",
            "991:\tlearn: 177.5277477\ttest: 278.4356993\tbest: 278.4356993 (991)\ttotal: 47.7s\tremaining: 385ms\n",
            "992:\tlearn: 177.4754114\ttest: 278.3766337\tbest: 278.3766337 (992)\ttotal: 47.7s\tremaining: 337ms\n",
            "993:\tlearn: 177.4603894\ttest: 278.3776588\tbest: 278.3766337 (992)\ttotal: 47.8s\tremaining: 288ms\n",
            "994:\tlearn: 177.4129833\ttest: 278.3440200\tbest: 278.3440200 (994)\ttotal: 47.8s\tremaining: 240ms\n",
            "995:\tlearn: 177.4016684\ttest: 278.3336352\tbest: 278.3336352 (995)\ttotal: 47.9s\tremaining: 192ms\n",
            "996:\tlearn: 177.3569316\ttest: 278.3214074\tbest: 278.3214074 (996)\ttotal: 47.9s\tremaining: 144ms\n",
            "997:\tlearn: 177.3440180\ttest: 278.3262293\tbest: 278.3214074 (996)\ttotal: 48s\tremaining: 96.1ms\n",
            "998:\tlearn: 177.2778691\ttest: 278.3110074\tbest: 278.3110074 (998)\ttotal: 48s\tremaining: 48.1ms\n",
            "999:\tlearn: 177.2415573\ttest: 278.2489781\tbest: 278.2489781 (999)\ttotal: 48.1s\tremaining: 0us\n",
            "\n",
            "bestTest = 278.2489781\n",
            "bestIteration = 999\n",
            "\n"
          ]
        },
        {
          "output_type": "execute_result",
          "data": {
            "text/plain": [
              "<catboost.core.CatBoostRegressor at 0x7f4b00728990>"
            ]
          },
          "metadata": {},
          "execution_count": 52
        }
      ]
    },
    {
      "cell_type": "code",
      "source": [
        "from sklearn.metrics import mean_squared_error as mse\n",
        "\n",
        "mse( cat.predict( x_test ), y_test )"
      ],
      "metadata": {
        "colab": {
          "base_uri": "https://localhost:8080/"
        },
        "id": "luP9divVCgEX",
        "outputId": "50627f99-5094-406c-fba1-41f78de3a384"
      },
      "execution_count": null,
      "outputs": [
        {
          "output_type": "execute_result",
          "data": {
            "text/plain": [
              "77422.4938326366"
            ]
          },
          "metadata": {},
          "execution_count": 56
        }
      ]
    },
    {
      "cell_type": "code",
      "source": [
        "pred"
      ],
      "metadata": {
        "colab": {
          "base_uri": "https://localhost:8080/"
        },
        "id": "lD6okbKYCloj",
        "outputId": "fecd5915-5ae7-4abb-c495-84439e36d360"
      },
      "execution_count": null,
      "outputs": [
        {
          "output_type": "execute_result",
          "data": {
            "text/plain": [
              "array([1798.28889352, 1716.80422789, 1709.42173176, ...,  583.71667855,\n",
              "        556.72520728,  546.68534062])"
            ]
          },
          "metadata": {},
          "execution_count": 53
        }
      ]
    },
    {
      "cell_type": "code",
      "source": [
        "y_test"
      ],
      "metadata": {
        "colab": {
          "base_uri": "https://localhost:8080/"
        },
        "id": "a_6flGWdEFYi",
        "outputId": "2b4b9c6e-6c3f-4383-8e76-730cbc0591cf"
      },
      "execution_count": null,
      "outputs": [
        {
          "output_type": "execute_result",
          "data": {
            "text/plain": [
              "306768    1765.008\n",
              "306769    1679.186\n",
              "306770    1610.885\n",
              "306771    1604.123\n",
              "306772    1711.506\n",
              "            ...   \n",
              "368083     681.033\n",
              "368084     669.961\n",
              "368085     657.941\n",
              "368086     610.953\n",
              "368087     560.896\n",
              "Name: 공급량, Length: 61320, dtype: float64"
            ]
          },
          "metadata": {},
          "execution_count": 54
        }
      ]
    },
    {
      "cell_type": "code",
      "source": [
        ""
      ],
      "metadata": {
        "id": "9cCINXvlEGmQ"
      },
      "execution_count": null,
      "outputs": []
    }
  ],
  "metadata": {
    "colab": {
      "collapsed_sections": [],
      "name": "가스 공급량.ipynb",
      "provenance": [],
      "authorship_tag": "ABX9TyMChdVeE5xiynu22CLxm8Ob",
      "include_colab_link": true
    },
    "kernelspec": {
      "display_name": "Python 3",
      "name": "python3"
    },
    "language_info": {
      "name": "python"
    },
    "widgets": {
      "application/vnd.jupyter.widget-state+json": {
        "2d4ebede22ef4f69a931c2b4dfaeb436": {
          "model_module": "catboost-widget",
          "model_name": "CatboostWidgetModel",
          "model_module_version": "^1.0.0",
          "state": {
            "_view_name": "CatboostWidgetView",
            "_dom_classes": [],
            "_model_name": "CatboostWidgetModel",
            "data": {
              "catboost_info": {
                "content": {
                  "data": {
                    "meta": {
                      "name": "experiment",
                      "parameters": "",
                      "test_metrics": [
                        {
                          "best_value": "Min",
                          "name": "RMSE"
                        },
                        {
                          "best_value": "Min",
                          "name": "MAE"
                        }
                      ],
                      "learn_sets": [
                        "learn"
                      ],
                      "launch_mode": "Train",
                      "learn_metrics": [
                        {
                          "best_value": "Min",
                          "name": "RMSE"
                        },
                        {
                          "best_value": "Min",
                          "name": "MAE"
                        }
                      ],
                      "iteration_count": 1000,
                      "test_sets": [
                        "test"
                      ]
                    },
                    "iterations": [
                      {
                        "test": [
                          1058.059679,
                          712.2945979
                        ],
                        "passed_time": 0.1194071671,
                        "iteration": 0,
                        "remaining_time": 119.28776,
                        "learn": [
                          936.5561594,
                          646.1182076
                        ]
                      },
                      {
                        "test": [
                          1036.296787,
                          695.6683252
                        ],
                        "passed_time": 0.2062624194,
                        "iteration": 1,
                        "remaining_time": 102.9249473,
                        "learn": [
                          914.634926,
                          629.5126045
                        ]
                      },
                      {
                        "test": [
                          1016.603773,
                          679.9523122
                        ],
                        "passed_time": 0.2667175745,
                        "iteration": 2,
                        "remaining_time": 88.6391406,
                        "learn": [
                          894.7023665,
                          613.7862126
                        ]
                      },
                      {
                        "test": [
                          996.2829016,
                          664.4450057
                        ],
                        "passed_time": 0.3498652198,
                        "iteration": 3,
                        "remaining_time": 87.11643972,
                        "learn": [
                          874.247397,
                          598.3243491
                        ]
                      },
                      {
                        "test": [
                          976.6910595,
                          649.4928919
                        ],
                        "passed_time": 0.4392291192,
                        "iteration": 4,
                        "remaining_time": 87.40659473,
                        "learn": [
                          854.5368506,
                          583.4437102
                        ]
                      },
                      {
                        "test": [
                          959.3589143,
                          635.6014014
                        ],
                        "passed_time": 0.4885499825,
                        "iteration": 5,
                        "remaining_time": 80.9364471,
                        "learn": [
                          836.9347132,
                          569.4842504
                        ]
                      },
                      {
                        "test": [
                          941.5316123,
                          621.8374358
                        ],
                        "passed_time": 0.5743857849,
                        "iteration": 6,
                        "remaining_time": 81.48072635,
                        "learn": [
                          818.9334166,
                          555.6777525
                        ]
                      },
                      {
                        "test": [
                          925.1582985,
                          608.8920081
                        ],
                        "passed_time": 0.6676683402,
                        "iteration": 7,
                        "remaining_time": 82.79087418,
                        "learn": [
                          802.2849284,
                          542.8150284
                        ]
                      },
                      {
                        "test": [
                          910.087314,
                          596.6358843
                        ],
                        "passed_time": 0.7572600137,
                        "iteration": 8,
                        "remaining_time": 83.38274151,
                        "learn": [
                          786.8229844,
                          530.5010366
                        ]
                      },
                      {
                        "test": [
                          895.0313584,
                          584.5986331
                        ],
                        "passed_time": 0.8421475743,
                        "iteration": 9,
                        "remaining_time": 83.37260986,
                        "learn": [
                          771.5388034,
                          518.4217667
                        ]
                      },
                      {
                        "test": [
                          880.8287863,
                          573.1366435
                        ],
                        "passed_time": 0.9065600177,
                        "iteration": 10,
                        "remaining_time": 81.50798704,
                        "learn": [
                          756.9640553,
                          506.9143458
                        ]
                      },
                      {
                        "test": [
                          865.1909907,
                          561.3177946
                        ],
                        "passed_time": 0.9795571467,
                        "iteration": 11,
                        "remaining_time": 80.65020508,
                        "learn": [
                          741.2823387,
                          495.218054
                        ]
                      },
                      {
                        "test": [
                          851.4970852,
                          550.4613363
                        ],
                        "passed_time": 1.035213118,
                        "iteration": 12,
                        "remaining_time": 78.5965652,
                        "learn": [
                          727.3907476,
                          484.3383949
                        ]
                      },
                      {
                        "test": [
                          838.0132979,
                          539.9248351
                        ],
                        "passed_time": 1.135266251,
                        "iteration": 13,
                        "remaining_time": 79.95518025,
                        "learn": [
                          713.7049722,
                          473.9082335
                        ]
                      },
                      {
                        "test": [
                          825.2068558,
                          529.8151586
                        ],
                        "passed_time": 1.235162502,
                        "iteration": 14,
                        "remaining_time": 81.10900431,
                        "learn": [
                          700.7254767,
                          463.7957723
                        ]
                      },
                      {
                        "test": [
                          811.5049814,
                          519.5264003
                        ],
                        "passed_time": 1.306230287,
                        "iteration": 15,
                        "remaining_time": 80.33316262,
                        "learn": [
                          687.0305245,
                          453.6846317
                        ]
                      },
                      {
                        "test": [
                          798.8751887,
                          510.0706387
                        ],
                        "passed_time": 1.367910787,
                        "iteration": 16,
                        "remaining_time": 79.0974296,
                        "learn": [
                          674.343485,
                          444.3194852
                        ]
                      },
                      {
                        "test": [
                          786.4778302,
                          500.9116824
                        ],
                        "passed_time": 1.440479284,
                        "iteration": 17,
                        "remaining_time": 78.5861476,
                        "learn": [
                          662.1500684,
                          435.3992042
                        ]
                      },
                      {
                        "test": [
                          775.203716,
                          492.2506494
                        ],
                        "passed_time": 1.506545932,
                        "iteration": 18,
                        "remaining_time": 77.7853452,
                        "learn": [
                          650.7040105,
                          426.6706008
                        ]
                      },
                      {
                        "test": [
                          762.2901331,
                          483.0396832
                        ],
                        "passed_time": 1.591539224,
                        "iteration": 19,
                        "remaining_time": 77.98542196,
                        "learn": [
                          638.1414834,
                          417.5849891
                        ]
                      },
                      {
                        "test": [
                          749.8479751,
                          474.1409181
                        ],
                        "passed_time": 1.687295273,
                        "iteration": 20,
                        "remaining_time": 78.66009866,
                        "learn": [
                          626.0705274,
                          408.8332354
                        ]
                      },
                      {
                        "test": [
                          738.711787,
                          465.7445467
                        ],
                        "passed_time": 1.775772653,
                        "iteration": 21,
                        "remaining_time": 78.94116611,
                        "learn": [
                          614.9355822,
                          400.5137704
                        ]
                      },
                      {
                        "test": [
                          727.1913312,
                          457.474509
                        ],
                        "passed_time": 1.847732409,
                        "iteration": 22,
                        "remaining_time": 78.48845927,
                        "learn": [
                          603.8175592,
                          392.4198913
                        ]
                      },
                      {
                        "test": [
                          718.4634274,
                          450.2604881
                        ],
                        "passed_time": 1.940986897,
                        "iteration": 23,
                        "remaining_time": 78.93346716,
                        "learn": [
                          594.7890747,
                          385.1615864
                        ]
                      },
                      {
                        "test": [
                          707.4972974,
                          442.4152115
                        ],
                        "passed_time": 2.004418046,
                        "iteration": 24,
                        "remaining_time": 78.17230378,
                        "learn": [
                          584.2404649,
                          377.5063971
                        ]
                      },
                      {
                        "test": [
                          697.2539385,
                          435.0945783
                        ],
                        "passed_time": 2.101803719,
                        "iteration": 25,
                        "remaining_time": 78.73680084,
                        "learn": [
                          574.3638592,
                          370.4122851
                        ]
                      },
                      {
                        "test": [
                          686.9946478,
                          427.7518608
                        ],
                        "passed_time": 2.184844651,
                        "iteration": 26,
                        "remaining_time": 78.73532761,
                        "learn": [
                          564.552205,
                          363.2795553
                        ]
                      },
                      {
                        "test": [
                          677.4142855,
                          420.9017259
                        ],
                        "passed_time": 2.263748642,
                        "iteration": 27,
                        "remaining_time": 78.58441714,
                        "learn": [
                          555.3703604,
                          356.6739227
                        ]
                      },
                      {
                        "test": [
                          668.4565661,
                          414.3397071
                        ],
                        "passed_time": 2.41546821,
                        "iteration": 28,
                        "remaining_time": 80.87653902,
                        "learn": [
                          546.7289536,
                          350.3986698
                        ]
                      },
                      {
                        "test": [
                          660.8239139,
                          408.1740761
                        ],
                        "passed_time": 2.55130064,
                        "iteration": 29,
                        "remaining_time": 82.49205403,
                        "learn": [
                          539.3394414,
                          344.5003786
                        ]
                      },
                      {
                        "test": [
                          652.9235974,
                          402.0744079
                        ],
                        "passed_time": 2.708803498,
                        "iteration": 30,
                        "remaining_time": 84.67195449,
                        "learn": [
                          531.4602114,
                          338.5163692
                        ]
                      },
                      {
                        "test": [
                          644.3309822,
                          395.9780229
                        ],
                        "passed_time": 2.813113198,
                        "iteration": 31,
                        "remaining_time": 85.09667425,
                        "learn": [
                          523.2991318,
                          332.6806923
                        ]
                      },
                      {
                        "test": [
                          636.5412706,
                          390.2858728
                        ],
                        "passed_time": 2.890064796,
                        "iteration": 32,
                        "remaining_time": 84.68765631,
                        "learn": [
                          515.8222796,
                          327.1310781
                        ]
                      },
                      {
                        "test": [
                          629.603475,
                          384.9340467
                        ],
                        "passed_time": 2.932693559,
                        "iteration": 33,
                        "remaining_time": 83.32299935,
                        "learn": [
                          508.8162822,
                          321.8428525
                        ]
                      },
                      {
                        "test": [
                          622.9120226,
                          379.6047443
                        ],
                        "passed_time": 2.97373768,
                        "iteration": 34,
                        "remaining_time": 81.99019602,
                        "learn": [
                          502.4091174,
                          316.8231208
                        ]
                      },
                      {
                        "test": [
                          615.0107862,
                          373.9828078
                        ],
                        "passed_time": 3.011572006,
                        "iteration": 35,
                        "remaining_time": 80.64320593,
                        "learn": [
                          495.0385201,
                          311.5055657
                        ]
                      },
                      {
                        "test": [
                          608.7359237,
                          369.1579611
                        ],
                        "passed_time": 3.049984709,
                        "iteration": 36,
                        "remaining_time": 79.38203445,
                        "learn": [
                          488.7449288,
                          306.7851648
                        ]
                      },
                      {
                        "test": [
                          600.5055979,
                          363.6574755
                        ],
                        "passed_time": 3.092301387,
                        "iteration": 37,
                        "remaining_time": 78.2840509,
                        "learn": [
                          481.1899361,
                          301.6999233
                        ]
                      },
                      {
                        "test": [
                          593.5246724,
                          358.754916
                        ],
                        "passed_time": 3.130048106,
                        "iteration": 38,
                        "remaining_time": 77.12759564,
                        "learn": [
                          474.7009045,
                          297.0961109
                        ]
                      },
                      {
                        "test": [
                          587.4267602,
                          354.1303544
                        ],
                        "passed_time": 3.171783161,
                        "iteration": 39,
                        "remaining_time": 76.12279586,
                        "learn": [
                          468.7358528,
                          292.6695591
                        ]
                      },
                      {
                        "test": [
                          580.8423503,
                          349.5289405
                        ],
                        "passed_time": 3.212863742,
                        "iteration": 40,
                        "remaining_time": 75.14966655,
                        "learn": [
                          462.6604176,
                          288.3786588
                        ]
                      },
                      {
                        "test": [
                          576.0331418,
                          345.4988272
                        ],
                        "passed_time": 3.254655215,
                        "iteration": 41,
                        "remaining_time": 74.23713562,
                        "learn": [
                          457.9884375,
                          284.5948066
                        ]
                      },
                      {
                        "test": [
                          569.5874968,
                          340.9580644
                        ],
                        "passed_time": 3.292441701,
                        "iteration": 42,
                        "remaining_time": 73.27596994,
                        "learn": [
                          452.1263798,
                          280.4053058
                        ]
                      },
                      {
                        "test": [
                          563.3748115,
                          336.5951422
                        ],
                        "passed_time": 3.333370019,
                        "iteration": 43,
                        "remaining_time": 72.4250395,
                        "learn": [
                          446.505568,
                          276.3999601
                        ]
                      },
                      {
                        "test": [
                          557.8141806,
                          332.6522456
                        ],
                        "passed_time": 3.371443209,
                        "iteration": 44,
                        "remaining_time": 71.54951698,
                        "learn": [
                          441.2140937,
                          272.6667861
                        ]
                      },
                      {
                        "test": [
                          552.2346417,
                          328.68461
                        ],
                        "passed_time": 3.409522926,
                        "iteration": 45,
                        "remaining_time": 70.71054069,
                        "learn": [
                          436.0159568,
                          268.9504634
                        ]
                      },
                      {
                        "test": [
                          548.129303,
                          325.2831122
                        ],
                        "passed_time": 3.449060379,
                        "iteration": 46,
                        "remaining_time": 69.93520301,
                        "learn": [
                          432.0911363,
                          265.7844126
                        ]
                      },
                      {
                        "test": [
                          542.40528,
                          321.411749
                        ],
                        "passed_time": 3.486875408,
                        "iteration": 47,
                        "remaining_time": 69.15636225,
                        "learn": [
                          427.0755587,
                          262.3381574
                        ]
                      },
                      {
                        "test": [
                          538.5260873,
                          318.2406357
                        ],
                        "passed_time": 3.525832673,
                        "iteration": 48,
                        "remaining_time": 68.42993617,
                        "learn": [
                          423.3881433,
                          259.4055178
                        ]
                      },
                      {
                        "test": [
                          533.7169684,
                          314.8040551
                        ],
                        "passed_time": 3.581439027,
                        "iteration": 49,
                        "remaining_time": 68.04734152,
                        "learn": [
                          418.9171525,
                          256.258294
                        ]
                      },
                      {
                        "test": [
                          528.7387955,
                          311.4456107
                        ],
                        "passed_time": 3.618858467,
                        "iteration": 50,
                        "remaining_time": 67.33915068,
                        "learn": [
                          414.5056503,
                          253.2256198
                        ]
                      },
                      {
                        "test": [
                          525.2213626,
                          308.5996205
                        ],
                        "passed_time": 3.666762423,
                        "iteration": 51,
                        "remaining_time": 66.84789956,
                        "learn": [
                          411.1997478,
                          250.6150968
                        ]
                      },
                      {
                        "test": [
                          519.6553646,
                          305.0579477
                        ],
                        "passed_time": 3.704338855,
                        "iteration": 52,
                        "remaining_time": 66.18884708,
                        "learn": [
                          406.388902,
                          247.5100006
                        ]
                      },
                      {
                        "test": [
                          516.3575924,
                          302.4088283
                        ],
                        "passed_time": 3.743669917,
                        "iteration": 53,
                        "remaining_time": 65.58355077,
                        "learn": [
                          403.3144215,
                          245.0970902
                        ]
                      },
                      {
                        "test": [
                          512.3118916,
                          299.4597359
                        ],
                        "passed_time": 3.787705518,
                        "iteration": 54,
                        "remaining_time": 65.07966754,
                        "learn": [
                          399.7835052,
                          242.5392829
                        ]
                      },
                      {
                        "test": [
                          508.677186,
                          296.7285855
                        ],
                        "passed_time": 3.829948567,
                        "iteration": 55,
                        "remaining_time": 64.56199013,
                        "learn": [
                          396.5817796,
                          240.1457085
                        ]
                      },
                      {
                        "test": [
                          505.054033,
                          294.124244
                        ],
                        "passed_time": 3.870023839,
                        "iteration": 56,
                        "remaining_time": 64.02513124,
                        "learn": [
                          393.252295,
                          237.7659869
                        ]
                      },
                      {
                        "test": [
                          501.3079156,
                          291.5875549
                        ],
                        "passed_time": 3.908632802,
                        "iteration": 57,
                        "remaining_time": 63.48158791,
                        "learn": [
                          389.7727505,
                          235.4497975
                        ]
                      },
                      {
                        "test": [
                          497.481065,
                          289.0124241
                        ],
                        "passed_time": 3.94723811,
                        "iteration": 58,
                        "remaining_time": 62.95510274,
                        "learn": [
                          386.3729122,
                          233.0973739
                        ]
                      },
                      {
                        "test": [
                          493.5047711,
                          286.4456877
                        ],
                        "passed_time": 3.984673543,
                        "iteration": 59,
                        "remaining_time": 62.42655218,
                        "learn": [
                          382.9890367,
                          230.8454254
                        ]
                      },
                      {
                        "test": [
                          490.3249291,
                          284.2811486
                        ],
                        "passed_time": 4.027510264,
                        "iteration": 60,
                        "remaining_time": 61.99724817,
                        "learn": [
                          380.0806021,
                          228.7929701
                        ]
                      },
                      {
                        "test": [
                          485.9533465,
                          281.5711178
                        ],
                        "passed_time": 4.065699856,
                        "iteration": 61,
                        "remaining_time": 61.51010427,
                        "learn": [
                          376.3912882,
                          226.5219333
                        ]
                      },
                      {
                        "test": [
                          483.4962383,
                          279.6454739
                        ],
                        "passed_time": 4.116922901,
                        "iteration": 62,
                        "remaining_time": 61.23105965,
                        "learn": [
                          374.1945216,
                          224.8075953
                        ]
                      },
                      {
                        "test": [
                          480.4479459,
                          277.6091978
                        ],
                        "passed_time": 4.158007569,
                        "iteration": 63,
                        "remaining_time": 60.81086069,
                        "learn": [
                          371.557437,
                          223.0046271
                        ]
                      },
                      {
                        "test": [
                          477.5290054,
                          275.4222081
                        ],
                        "passed_time": 4.199764397,
                        "iteration": 64,
                        "remaining_time": 60.41199556,
                        "learn": [
                          369.0136426,
                          221.1365762
                        ]
                      },
                      {
                        "test": [
                          475.6076166,
                          273.8888547
                        ],
                        "passed_time": 4.242481043,
                        "iteration": 65,
                        "remaining_time": 60.03753475,
                        "learn": [
                          367.0981012,
                          219.6093727
                        ]
                      },
                      {
                        "test": [
                          472.0481808,
                          271.5939987
                        ],
                        "passed_time": 4.281564644,
                        "iteration": 66,
                        "remaining_time": 59.62238527,
                        "learn": [
                          364.2599711,
                          217.6895053
                        ]
                      },
                      {
                        "test": [
                          470.0948172,
                          270.0648313
                        ],
                        "passed_time": 4.320834373,
                        "iteration": 67,
                        "remaining_time": 59.22084759,
                        "learn": [
                          362.3744722,
                          216.2330254
                        ]
                      },
                      {
                        "test": [
                          466.9967363,
                          268.041765
                        ],
                        "passed_time": 4.359765583,
                        "iteration": 68,
                        "remaining_time": 58.82524286,
                        "learn": [
                          359.8319361,
                          214.5471089
                        ]
                      },
                      {
                        "test": [
                          464.4801167,
                          266.3207057
                        ],
                        "passed_time": 4.399613179,
                        "iteration": 69,
                        "remaining_time": 58.45200366,
                        "learn": [
                          357.6632149,
                          213.0445929
                        ]
                      },
                      {
                        "test": [
                          462.3826813,
                          264.7399876
                        ],
                        "passed_time": 4.438718595,
                        "iteration": 70,
                        "remaining_time": 58.07844471,
                        "learn": [
                          355.8573727,
                          211.6332449
                        ]
                      },
                      {
                        "test": [
                          458.7532359,
                          262.6158784
                        ],
                        "passed_time": 4.484231197,
                        "iteration": 71,
                        "remaining_time": 57.79675765,
                        "learn": [
                          352.9714532,
                          209.9075226
                        ]
                      },
                      {
                        "test": [
                          457.0380133,
                          261.2634322
                        ],
                        "passed_time": 4.525173254,
                        "iteration": 72,
                        "remaining_time": 57.46350145,
                        "learn": [
                          351.4307366,
                          208.6120386
                        ]
                      },
                      {
                        "test": [
                          453.5859106,
                          259.2605049
                        ],
                        "passed_time": 4.563239712,
                        "iteration": 73,
                        "remaining_time": 57.1021618,
                        "learn": [
                          348.7174329,
                          207.001658
                        ]
                      },
                      {
                        "test": [
                          452.0731473,
                          257.8302068
                        ],
                        "passed_time": 4.605266376,
                        "iteration": 74,
                        "remaining_time": 56.79828531,
                        "learn": [
                          347.2999075,
                          205.7317463
                        ]
                      },
                      {
                        "test": [
                          449.3321302,
                          255.8626325
                        ],
                        "passed_time": 4.653747776,
                        "iteration": 75,
                        "remaining_time": 56.57977559,
                        "learn": [
                          344.9208956,
                          204.0748306
                        ]
                      },
                      {
                        "test": [
                          447.3490536,
                          254.4972136
                        ],
                        "passed_time": 4.702722142,
                        "iteration": 76,
                        "remaining_time": 56.37159139,
                        "learn": [
                          343.2527481,
                          202.8460365
                        ]
                      },
                      {
                        "test": [
                          443.9940116,
                          252.5730424
                        ],
                        "passed_time": 4.7430829,
                        "iteration": 77,
                        "remaining_time": 56.06567223,
                        "learn": [
                          340.5581358,
                          201.2306764
                        ]
                      },
                      {
                        "test": [
                          442.4671363,
                          251.3015691
                        ],
                        "passed_time": 4.791097368,
                        "iteration": 78,
                        "remaining_time": 55.85570476,
                        "learn": [
                          339.1786751,
                          200.1187861
                        ]
                      },
                      {
                        "test": [
                          440.6613198,
                          250.0760416
                        ],
                        "passed_time": 4.832195066,
                        "iteration": 79,
                        "remaining_time": 55.57024326,
                        "learn": [
                          337.6643643,
                          198.9994113
                        ]
                      },
                      {
                        "test": [
                          437.8477821,
                          248.388436
                        ],
                        "passed_time": 4.872786761,
                        "iteration": 80,
                        "remaining_time": 55.28507449,
                        "learn": [
                          335.4831987,
                          197.5655499
                        ]
                      },
                      {
                        "test": [
                          435.27174,
                          246.8242071
                        ],
                        "passed_time": 4.917259168,
                        "iteration": 81,
                        "remaining_time": 55.04931605,
                        "learn": [
                          333.3731027,
                          196.1895839
                        ]
                      },
                      {
                        "test": [
                          433.9973972,
                          245.6569375
                        ],
                        "passed_time": 4.958948459,
                        "iteration": 82,
                        "remaining_time": 54.78741851,
                        "learn": [
                          332.2235339,
                          195.1877731
                        ]
                      },
                      {
                        "test": [
                          431.8067347,
                          244.1446451
                        ],
                        "passed_time": 4.999283676,
                        "iteration": 83,
                        "remaining_time": 54.51599818,
                        "learn": [
                          330.4145614,
                          193.9467676
                        ]
                      },
                      {
                        "test": [
                          430.6096333,
                          243.0606285
                        ],
                        "passed_time": 5.040995892,
                        "iteration": 84,
                        "remaining_time": 54.26483813,
                        "learn": [
                          329.2950802,
                          192.9959404
                        ]
                      },
                      {
                        "test": [
                          429.4254947,
                          242.0013849
                        ],
                        "passed_time": 5.087051403,
                        "iteration": 85,
                        "remaining_time": 54.0647091,
                        "learn": [
                          328.2399784,
                          192.108724
                        ]
                      },
                      {
                        "test": [
                          427.2464497,
                          240.6120791
                        ],
                        "passed_time": 5.138144295,
                        "iteration": 86,
                        "remaining_time": 53.92098554,
                        "learn": [
                          326.3348279,
                          190.9261712
                        ]
                      },
                      {
                        "test": [
                          424.6176716,
                          239.1513067
                        ],
                        "passed_time": 5.178736966,
                        "iteration": 87,
                        "remaining_time": 53.67054674,
                        "learn": [
                          324.2170035,
                          189.713929
                        ]
                      },
                      {
                        "test": [
                          423.3776791,
                          238.112353
                        ],
                        "passed_time": 5.220814859,
                        "iteration": 88,
                        "remaining_time": 53.44002625,
                        "learn": [
                          323.1396097,
                          188.7556718
                        ]
                      },
                      {
                        "test": [
                          422.1039678,
                          237.2835216
                        ],
                        "passed_time": 5.26134335,
                        "iteration": 89,
                        "remaining_time": 53.19802721,
                        "learn": [
                          321.9939462,
                          187.9370157
                        ]
                      },
                      {
                        "test": [
                          420.6572102,
                          236.2774917
                        ],
                        "passed_time": 5.301503279,
                        "iteration": 90,
                        "remaining_time": 52.95677452,
                        "learn": [
                          320.7441153,
                          187.107157
                        ]
                      },
                      {
                        "test": [
                          419.3070048,
                          235.4011206
                        ],
                        "passed_time": 5.343889734,
                        "iteration": 91,
                        "remaining_time": 52.74186824,
                        "learn": [
                          319.5842939,
                          186.2853319
                        ]
                      },
                      {
                        "test": [
                          417.280556,
                          234.0461839
                        ],
                        "passed_time": 5.391935532,
                        "iteration": 92,
                        "remaining_time": 52.58586589,
                        "learn": [
                          317.9456046,
                          185.2423724
                        ]
                      },
                      {
                        "test": [
                          415.3812138,
                          232.7736895
                        ],
                        "passed_time": 5.432532101,
                        "iteration": 93,
                        "remaining_time": 52.36036259,
                        "learn": [
                          316.3916743,
                          184.2547708
                        ]
                      },
                      {
                        "test": [
                          414.1806385,
                          231.8132336
                        ],
                        "passed_time": 5.473674654,
                        "iteration": 94,
                        "remaining_time": 52.14395328,
                        "learn": [
                          315.3512266,
                          183.3819211
                        ]
                      },
                      {
                        "test": [
                          412.961692,
                          230.9785694
                        ],
                        "passed_time": 5.51261401,
                        "iteration": 95,
                        "remaining_time": 51.91044859,
                        "learn": [
                          314.0043137,
                          182.5355987
                        ]
                      },
                      {
                        "test": [
                          411.8531497,
                          230.1853855
                        ],
                        "passed_time": 5.555204689,
                        "iteration": 96,
                        "remaining_time": 51.71494674,
                        "learn": [
                          313.0426353,
                          181.7763803
                        ]
                      },
                      {
                        "test": [
                          410.7707661,
                          229.3097697
                        ],
                        "passed_time": 5.596386111,
                        "iteration": 97,
                        "remaining_time": 51.50959462,
                        "learn": [
                          312.1246588,
                          181.0056177
                        ]
                      },
                      {
                        "test": [
                          409.7790277,
                          228.56784
                        ],
                        "passed_time": 5.635709795,
                        "iteration": 98,
                        "remaining_time": 51.29065177,
                        "learn": [
                          311.0282467,
                          180.2315625
                        ]
                      },
                      {
                        "test": [
                          409.3822557,
                          228.1531671
                        ],
                        "passed_time": 5.691215218,
                        "iteration": 99,
                        "remaining_time": 51.22093696,
                        "learn": [
                          310.289672,
                          179.5579328
                        ]
                      },
                      {
                        "test": [
                          407.6629731,
                          227.2604507
                        ],
                        "passed_time": 5.728802279,
                        "iteration": 100,
                        "remaining_time": 50.99201236,
                        "learn": [
                          308.7042096,
                          178.7559942
                        ]
                      },
                      {
                        "test": [
                          406.6659836,
                          226.5413723
                        ],
                        "passed_time": 5.773731684,
                        "iteration": 101,
                        "remaining_time": 50.8314809,
                        "learn": [
                          307.6099682,
                          178.0280408
                        ]
                      },
                      {
                        "test": [
                          405.6858044,
                          225.7624561
                        ],
                        "passed_time": 5.81483327,
                        "iteration": 102,
                        "remaining_time": 50.63985867,
                        "learn": [
                          306.7885724,
                          177.3493243
                        ]
                      },
                      {
                        "test": [
                          404.0699267,
                          224.9382993
                        ],
                        "passed_time": 5.853998931,
                        "iteration": 103,
                        "remaining_time": 50.43445233,
                        "learn": [
                          305.3102445,
                          176.6131996
                        ]
                      },
                      {
                        "test": [
                          403.2405206,
                          224.2173231
                        ],
                        "passed_time": 5.89888806,
                        "iteration": 104,
                        "remaining_time": 50.28099823,
                        "learn": [
                          304.3290918,
                          175.8564835
                        ]
                      },
                      {
                        "test": [
                          402.4203736,
                          223.5263032
                        ],
                        "passed_time": 5.941471909,
                        "iteration": 105,
                        "remaining_time": 50.11014987,
                        "learn": [
                          303.6188711,
                          175.1978877
                        ]
                      },
                      {
                        "test": [
                          401.8497402,
                          223.0966625
                        ],
                        "passed_time": 5.985526788,
                        "iteration": 106,
                        "remaining_time": 49.95397591,
                        "learn": [
                          302.83111,
                          174.6243055
                        ]
                      },
                      {
                        "test": [
                          400.9428492,
                          222.3806587
                        ],
                        "passed_time": 6.027567262,
                        "iteration": 107,
                        "remaining_time": 49.78324072,
                        "learn": [
                          302.080283,
                          174.0152833
                        ]
                      },
                      {
                        "test": [
                          400.1919055,
                          221.7510026
                        ],
                        "passed_time": 6.070709756,
                        "iteration": 108,
                        "remaining_time": 49.62387517,
                        "learn": [
                          301.4302364,
                          173.4074031
                        ]
                      },
                      {
                        "test": [
                          399.651161,
                          221.2637848
                        ],
                        "passed_time": 6.120961519,
                        "iteration": 109,
                        "remaining_time": 49.5241432,
                        "learn": [
                          300.891309,
                          172.9159706
                        ]
                      },
                      {
                        "test": [
                          398.0876852,
                          220.4933568
                        ],
                        "passed_time": 6.161860498,
                        "iteration": 110,
                        "remaining_time": 49.35039624,
                        "learn": [
                          299.5655223,
                          172.2678516
                        ]
                      },
                      {
                        "test": [
                          396.8769681,
                          219.735291
                        ],
                        "passed_time": 6.20761651,
                        "iteration": 111,
                        "remaining_time": 49.2175309,
                        "learn": [
                          298.631177,
                          171.6009929
                        ]
                      },
                      {
                        "test": [
                          396.4423652,
                          219.2736905
                        ],
                        "passed_time": 6.249957278,
                        "iteration": 112,
                        "remaining_time": 49.05939917,
                        "learn": [
                          298.180975,
                          171.1444692
                        ]
                      },
                      {
                        "test": [
                          395.8285996,
                          218.9292132
                        ],
                        "passed_time": 6.294385778,
                        "iteration": 113,
                        "remaining_time": 48.91952455,
                        "learn": [
                          297.4744072,
                          170.7193055
                        ]
                      },
                      {
                        "test": [
                          394.9756613,
                          218.3924555
                        ],
                        "passed_time": 6.334314276,
                        "iteration": 114,
                        "remaining_time": 48.74667943,
                        "learn": [
                          296.6274812,
                          170.2363481
                        ]
                      },
                      {
                        "test": [
                          394.2997094,
                          217.8372187
                        ],
                        "passed_time": 6.377706167,
                        "iteration": 115,
                        "remaining_time": 48.60251941,
                        "learn": [
                          296.0368463,
                          169.691584
                        ]
                      },
                      {
                        "test": [
                          393.1745493,
                          217.0751537
                        ],
                        "passed_time": 6.424057859,
                        "iteration": 116,
                        "remaining_time": 48.48241957,
                        "learn": [
                          295.1575776,
                          169.0836052
                        ]
                      },
                      {
                        "test": [
                          392.3432748,
                          216.424925
                        ],
                        "passed_time": 6.470962229,
                        "iteration": 117,
                        "remaining_time": 48.36770073,
                        "learn": [
                          294.4637846,
                          168.5227183
                        ]
                      },
                      {
                        "test": [
                          390.9962714,
                          215.6369393
                        ],
                        "passed_time": 6.520262832,
                        "iteration": 118,
                        "remaining_time": 48.2718618,
                        "learn": [
                          293.4520612,
                          167.9006671
                        ]
                      },
                      {
                        "test": [
                          389.5681156,
                          214.8574696
                        ],
                        "passed_time": 6.568743572,
                        "iteration": 119,
                        "remaining_time": 48.17078619,
                        "learn": [
                          292.4201874,
                          167.3184733
                        ]
                      },
                      {
                        "test": [
                          388.8228854,
                          214.2697844
                        ],
                        "passed_time": 6.621840461,
                        "iteration": 120,
                        "remaining_time": 48.10411376,
                        "learn": [
                          291.8194081,
                          166.8382128
                        ]
                      },
                      {
                        "test": [
                          387.8271913,
                          213.6626917
                        ],
                        "passed_time": 6.69213327,
                        "iteration": 121,
                        "remaining_time": 48.16141812,
                        "learn": [
                          290.6720172,
                          166.1921739
                        ]
                      },
                      {
                        "test": [
                          386.8773527,
                          213.1299833
                        ],
                        "passed_time": 6.74026936,
                        "iteration": 122,
                        "remaining_time": 48.05866852,
                        "learn": [
                          289.6054088,
                          165.6235394
                        ]
                      },
                      {
                        "test": [
                          386.2222448,
                          212.6085588
                        ],
                        "passed_time": 6.797384812,
                        "iteration": 123,
                        "remaining_time": 48.02023464,
                        "learn": [
                          289.0821401,
                          165.2062348
                        ]
                      },
                      {
                        "test": [
                          385.3034144,
                          212.052662
                        ],
                        "passed_time": 6.851598434,
                        "iteration": 124,
                        "remaining_time": 47.96118904,
                        "learn": [
                          288.0345816,
                          164.6259451
                        ]
                      },
                      {
                        "test": [
                          383.7640368,
                          211.3295616
                        ],
                        "passed_time": 6.898836996,
                        "iteration": 125,
                        "remaining_time": 47.85383757,
                        "learn": [
                          286.9264263,
                          164.09743
                        ]
                      },
                      {
                        "test": [
                          382.9118561,
                          210.8155461
                        ],
                        "passed_time": 6.953293862,
                        "iteration": 126,
                        "remaining_time": 47.79705151,
                        "learn": [
                          285.9367694,
                          163.556789
                        ]
                      },
                      {
                        "test": [
                          381.4192292,
                          210.1250474
                        ],
                        "passed_time": 7.000348347,
                        "iteration": 127,
                        "remaining_time": 47.68987311,
                        "learn": [
                          284.8880305,
                          163.0653682
                        ]
                      },
                      {
                        "test": [
                          381.1643035,
                          209.815593
                        ],
                        "passed_time": 7.058972331,
                        "iteration": 128,
                        "remaining_time": 47.66174341,
                        "learn": [
                          284.31012,
                          162.5385516
                        ]
                      },
                      {
                        "test": [
                          380.1354974,
                          209.2951255
                        ],
                        "passed_time": 7.11064452,
                        "iteration": 129,
                        "remaining_time": 47.58662102,
                        "learn": [
                          283.5237697,
                          162.0930605
                        ]
                      },
                      {
                        "test": [
                          379.8589277,
                          208.9916769
                        ],
                        "passed_time": 7.170446102,
                        "iteration": 130,
                        "remaining_time": 47.56578368,
                        "learn": [
                          283.2070329,
                          161.7477121
                        ]
                      },
                      {
                        "test": [
                          379.5242582,
                          208.6915508
                        ],
                        "passed_time": 7.213043984,
                        "iteration": 131,
                        "remaining_time": 47.43122862,
                        "learn": [
                          282.8419767,
                          161.4061924
                        ]
                      },
                      {
                        "test": [
                          378.4390673,
                          208.214516
                        ],
                        "passed_time": 7.251890235,
                        "iteration": 132,
                        "remaining_time": 47.27360025,
                        "learn": [
                          281.8741224,
                          160.9961655
                        ]
                      },
                      {
                        "test": [
                          378.2296227,
                          207.9834471
                        ],
                        "passed_time": 7.305255712,
                        "iteration": 133,
                        "remaining_time": 47.21157796,
                        "learn": [
                          281.594037,
                          160.7153151
                        ]
                      },
                      {
                        "test": [
                          377.4850787,
                          207.6383377
                        ],
                        "passed_time": 7.346165586,
                        "iteration": 134,
                        "remaining_time": 47.06987579,
                        "learn": [
                          280.8505891,
                          160.3183025
                        ]
                      },
                      {
                        "test": [
                          377.0765086,
                          207.3404052
                        ],
                        "passed_time": 7.3888811,
                        "iteration": 135,
                        "remaining_time": 46.94112699,
                        "learn": [
                          280.4458701,
                          159.9991161
                        ]
                      },
                      {
                        "test": [
                          376.5286917,
                          206.883951
                        ],
                        "passed_time": 7.430530808,
                        "iteration": 136,
                        "remaining_time": 46.80692035,
                        "learn": [
                          280.0140004,
                          159.6533206
                        ]
                      },
                      {
                        "test": [
                          376.0027599,
                          206.4474258
                        ],
                        "passed_time": 7.472072661,
                        "iteration": 137,
                        "remaining_time": 46.6733814,
                        "learn": [
                          279.6028045,
                          159.3261269
                        ]
                      },
                      {
                        "test": [
                          375.5430845,
                          206.1121747
                        ],
                        "passed_time": 7.515632729,
                        "iteration": 138,
                        "remaining_time": 46.55366748,
                        "learn": [
                          279.1200241,
                          158.9493221
                        ]
                      },
                      {
                        "test": [
                          374.9991231,
                          205.7058785
                        ],
                        "passed_time": 7.557119159,
                        "iteration": 139,
                        "remaining_time": 46.4223034,
                        "learn": [
                          278.676194,
                          158.613885
                        ]
                      },
                      {
                        "test": [
                          374.5638318,
                          205.3969279
                        ],
                        "passed_time": 7.605134655,
                        "iteration": 140,
                        "remaining_time": 46.33199056,
                        "learn": [
                          278.3155608,
                          158.3230063
                        ]
                      },
                      {
                        "test": [
                          374.3121229,
                          205.2397007
                        ],
                        "passed_time": 7.645759264,
                        "iteration": 141,
                        "remaining_time": 46.19761584,
                        "learn": [
                          277.8468883,
                          158.007232
                        ]
                      },
                      {
                        "test": [
                          373.8336622,
                          204.8591307
                        ],
                        "passed_time": 7.704994455,
                        "iteration": 142,
                        "remaining_time": 46.17608565,
                        "learn": [
                          277.4658772,
                          157.6907202
                        ]
                      },
                      {
                        "test": [
                          373.4384478,
                          204.5273802
                        ],
                        "passed_time": 7.751503639,
                        "iteration": 143,
                        "remaining_time": 46.07838274,
                        "learn": [
                          277.0603376,
                          157.3430189
                        ]
                      },
                      {
                        "test": [
                          373.1195846,
                          204.2340797
                        ],
                        "passed_time": 7.795219203,
                        "iteration": 144,
                        "remaining_time": 45.96491323,
                        "learn": [
                          276.6545221,
                          156.9905582
                        ]
                      },
                      {
                        "test": [
                          372.7299073,
                          203.9537986
                        ],
                        "passed_time": 7.839856355,
                        "iteration": 145,
                        "remaining_time": 45.85778991,
                        "learn": [
                          276.3392351,
                          156.7396615
                        ]
                      },
                      {
                        "test": [
                          372.5662608,
                          203.7110638
                        ],
                        "passed_time": 7.882584544,
                        "iteration": 146,
                        "remaining_time": 45.74043956,
                        "learn": [
                          275.9664144,
                          156.3762264
                        ]
                      },
                      {
                        "test": [
                          372.0765818,
                          203.3186687
                        ],
                        "passed_time": 7.926917094,
                        "iteration": 147,
                        "remaining_time": 45.63333354,
                        "learn": [
                          275.5856049,
                          156.0887251
                        ]
                      },
                      {
                        "test": [
                          370.9246899,
                          202.7798953
                        ],
                        "passed_time": 7.974775312,
                        "iteration": 148,
                        "remaining_time": 45.54720665,
                        "learn": [
                          274.820794,
                          155.6940665
                        ]
                      },
                      {
                        "test": [
                          370.7921841,
                          202.5733594
                        ],
                        "passed_time": 8.019220707,
                        "iteration": 149,
                        "remaining_time": 45.44225067,
                        "learn": [
                          274.4301474,
                          155.3434516
                        ]
                      },
                      {
                        "test": [
                          370.4519716,
                          202.2798939
                        ],
                        "passed_time": 8.062509392,
                        "iteration": 150,
                        "remaining_time": 45.33159254,
                        "learn": [
                          274.061647,
                          155.0289967
                        ]
                      },
                      {
                        "test": [
                          370.339557,
                          202.1242355
                        ],
                        "passed_time": 8.106556912,
                        "iteration": 151,
                        "remaining_time": 45.22605435,
                        "learn": [
                          273.8803179,
                          154.8214948
                        ]
                      },
                      {
                        "test": [
                          370.2161548,
                          201.9623725
                        ],
                        "passed_time": 8.162273165,
                        "iteration": 152,
                        "remaining_time": 45.18591746,
                        "learn": [
                          273.7049421,
                          154.6204095
                        ]
                      },
                      {
                        "test": [
                          369.8902918,
                          201.6623402
                        ],
                        "passed_time": 8.207824443,
                        "iteration": 153,
                        "remaining_time": 45.08973688,
                        "learn": [
                          273.4417364,
                          154.3587336
                        ]
                      },
                      {
                        "test": [
                          369.5459861,
                          201.3617235
                        ],
                        "passed_time": 8.25471734,
                        "iteration": 154,
                        "remaining_time": 45.00152356,
                        "learn": [
                          273.1621149,
                          154.1084925
                        ]
                      },
                      {
                        "test": [
                          368.8992503,
                          201.0100468
                        ],
                        "passed_time": 8.298299143,
                        "iteration": 155,
                        "remaining_time": 44.89592613,
                        "learn": [
                          272.5953428,
                          153.738161
                        ]
                      },
                      {
                        "test": [
                          368.7476243,
                          200.8799756
                        ],
                        "passed_time": 8.339597496,
                        "iteration": 156,
                        "remaining_time": 44.77885789,
                        "learn": [
                          272.4644576,
                          153.5883427
                        ]
                      },
                      {
                        "test": [
                          368.4484512,
                          200.623738
                        ],
                        "passed_time": 8.382502598,
                        "iteration": 157,
                        "remaining_time": 44.67131131,
                        "learn": [
                          272.0751359,
                          153.2889499
                        ]
                      },
                      {
                        "test": [
                          367.9656173,
                          200.3971128
                        ],
                        "passed_time": 8.428446266,
                        "iteration": 158,
                        "remaining_time": 44.58064975,
                        "learn": [
                          271.6556627,
                          153.0074558
                        ]
                      },
                      {
                        "test": [
                          367.4916579,
                          200.1768487
                        ],
                        "passed_time": 8.470707619,
                        "iteration": 159,
                        "remaining_time": 44.471215,
                        "learn": [
                          271.2088087,
                          152.7218322
                        ]
                      },
                      {
                        "test": [
                          366.8511182,
                          199.8800199
                        ],
                        "passed_time": 8.511188036,
                        "iteration": 160,
                        "remaining_time": 44.35333393,
                        "learn": [
                          270.8022724,
                          152.4414907
                        ]
                      },
                      {
                        "test": [
                          366.5474253,
                          199.5814541
                        ],
                        "passed_time": 8.557853589,
                        "iteration": 161,
                        "remaining_time": 44.26840313,
                        "learn": [
                          270.4169501,
                          152.1060069
                        ]
                      },
                      {
                        "test": [
                          366.1347917,
                          199.3171625
                        ],
                        "passed_time": 8.599626379,
                        "iteration": 162,
                        "remaining_time": 44.15881766,
                        "learn": [
                          270.0545759,
                          151.8327874
                        ]
                      },
                      {
                        "test": [
                          365.7515208,
                          199.1435644
                        ],
                        "passed_time": 8.645188322,
                        "iteration": 163,
                        "remaining_time": 44.06937462,
                        "learn": [
                          269.622891,
                          151.5671702
                        ]
                      },
                      {
                        "test": [
                          365.6390481,
                          199.0299853
                        ],
                        "passed_time": 8.70848366,
                        "iteration": 164,
                        "remaining_time": 44.07020519,
                        "learn": [
                          269.4634154,
                          151.3998983
                        ]
                      },
                      {
                        "test": [
                          365.1343397,
                          198.610824
                        ],
                        "passed_time": 8.752174091,
                        "iteration": 165,
                        "remaining_time": 43.97176622,
                        "learn": [
                          268.9073917,
                          151.000659
                        ]
                      },
                      {
                        "test": [
                          364.7032815,
                          198.2773604
                        ],
                        "passed_time": 8.795480142,
                        "iteration": 166,
                        "remaining_time": 43.87206562,
                        "learn": [
                          268.5804558,
                          150.7688212
                        ]
                      },
                      {
                        "test": [
                          364.3824421,
                          198.1508677
                        ],
                        "passed_time": 8.843256436,
                        "iteration": 167,
                        "remaining_time": 43.79517473,
                        "learn": [
                          268.2188483,
                          150.5415803
                        ]
                      },
                      {
                        "test": [
                          364.0910289,
                          197.9320074
                        ],
                        "passed_time": 8.890568421,
                        "iteration": 168,
                        "remaining_time": 43.71634531,
                        "learn": [
                          267.8688535,
                          150.262
                        ]
                      },
                      {
                        "test": [
                          363.7770077,
                          197.6648211
                        ],
                        "passed_time": 8.933919494,
                        "iteration": 169,
                        "remaining_time": 43.61854812,
                        "learn": [
                          267.4890419,
                          149.9293158
                        ]
                      },
                      {
                        "test": [
                          363.5287036,
                          197.4368406
                        ],
                        "passed_time": 8.977474943,
                        "iteration": 170,
                        "remaining_time": 43.52237853,
                        "learn": [
                          267.1719085,
                          149.6694796
                        ]
                      },
                      {
                        "test": [
                          362.5807975,
                          196.9523241
                        ],
                        "passed_time": 9.018628279,
                        "iteration": 171,
                        "remaining_time": 43.41525706,
                        "learn": [
                          266.4772921,
                          149.3137167
                        ]
                      },
                      {
                        "test": [
                          362.366704,
                          196.7555645
                        ],
                        "passed_time": 9.063835315,
                        "iteration": 172,
                        "remaining_time": 43.32827633,
                        "learn": [
                          266.2640914,
                          149.1212026
                        ]
                      },
                      {
                        "test": [
                          362.0676254,
                          196.5618081
                        ],
                        "passed_time": 9.112827736,
                        "iteration": 173,
                        "remaining_time": 43.25974546,
                        "learn": [
                          266.0298699,
                          148.9494921
                        ]
                      },
                      {
                        "test": [
                          361.9959841,
                          196.5146729
                        ],
                        "passed_time": 9.164881831,
                        "iteration": 174,
                        "remaining_time": 43.20587149,
                        "learn": [
                          265.8683875,
                          148.7953475
                        ]
                      },
                      {
                        "test": [
                          361.4291323,
                          196.1048631
                        ],
                        "passed_time": 9.207269887,
                        "iteration": 175,
                        "remaining_time": 43.10676356,
                        "learn": [
                          265.2603853,
                          148.3683494
                        ]
                      },
                      {
                        "test": [
                          361.0100986,
                          195.7762381
                        ],
                        "passed_time": 9.249710861,
                        "iteration": 176,
                        "remaining_time": 43.00854259,
                        "learn": [
                          264.7778621,
                          148.0131424
                        ]
                      },
                      {
                        "test": [
                          361.0030838,
                          195.7424265
                        ],
                        "passed_time": 9.294824521,
                        "iteration": 177,
                        "remaining_time": 42.92329076,
                        "learn": [
                          264.6636682,
                          147.8906848
                        ]
                      },
                      {
                        "test": [
                          360.6700306,
                          195.5941946
                        ],
                        "passed_time": 9.335177306,
                        "iteration": 178,
                        "remaining_time": 42.81665122,
                        "learn": [
                          264.3734247,
                          147.7027119
                        ]
                      },
                      {
                        "test": [
                          360.396843,
                          195.39922
                        ],
                        "passed_time": 9.38171637,
                        "iteration": 179,
                        "remaining_time": 42.73893013,
                        "learn": [
                          264.0956583,
                          147.4883545
                        ]
                      },
                      {
                        "test": [
                          360.0219645,
                          195.1246549
                        ],
                        "passed_time": 9.42407836,
                        "iteration": 180,
                        "remaining_time": 42.64265291,
                        "learn": [
                          263.8138635,
                          147.2870435
                        ]
                      },
                      {
                        "test": [
                          359.7622041,
                          194.9441418
                        ],
                        "passed_time": 9.466681868,
                        "iteration": 181,
                        "remaining_time": 42.54805367,
                        "learn": [
                          263.5502137,
                          147.0848352
                        ]
                      },
                      {
                        "test": [
                          359.7375029,
                          194.8780696
                        ],
                        "passed_time": 9.515265231,
                        "iteration": 182,
                        "remaining_time": 42.48071964,
                        "learn": [
                          263.4854244,
                          146.992488
                        ]
                      },
                      {
                        "test": [
                          359.4146186,
                          194.7651979
                        ],
                        "passed_time": 9.555630973,
                        "iteration": 183,
                        "remaining_time": 42.37714605,
                        "learn": [
                          263.1771956,
                          146.8118912
                        ]
                      },
                      {
                        "test": [
                          359.2756824,
                          194.628953
                        ],
                        "passed_time": 9.597476736,
                        "iteration": 184,
                        "remaining_time": 42.28077589,
                        "learn": [
                          263.0291275,
                          146.6692261
                        ]
                      },
                      {
                        "test": [
                          358.3831964,
                          194.2033098
                        ],
                        "passed_time": 9.637812697,
                        "iteration": 185,
                        "remaining_time": 42.1783846,
                        "learn": [
                          262.6350927,
                          146.4653518
                        ]
                      },
                      {
                        "test": [
                          358.1658788,
                          194.0609833
                        ],
                        "passed_time": 9.687224446,
                        "iteration": 186,
                        "remaining_time": 42.11611484,
                        "learn": [
                          262.2336493,
                          146.2016489
                        ]
                      },
                      {
                        "test": [
                          357.7766778,
                          193.7635172
                        ],
                        "passed_time": 9.746417942,
                        "iteration": 187,
                        "remaining_time": 42.09623069,
                        "learn": [
                          261.7806655,
                          145.8755054
                        ]
                      },
                      {
                        "test": [
                          357.6722147,
                          193.6340177
                        ],
                        "passed_time": 9.788506706,
                        "iteration": 188,
                        "remaining_time": 42.00253407,
                        "learn": [
                          261.6383164,
                          145.7182087
                        ]
                      },
                      {
                        "test": [
                          357.4413458,
                          193.5554951
                        ],
                        "passed_time": 9.829745202,
                        "iteration": 189,
                        "remaining_time": 41.90575586,
                        "learn": [
                          261.299406,
                          145.5231424
                        ]
                      },
                      {
                        "test": [
                          356.609589,
                          193.1606211
                        ],
                        "passed_time": 9.869744227,
                        "iteration": 190,
                        "remaining_time": 41.80430932,
                        "learn": [
                          260.9354568,
                          145.3390061
                        ]
                      },
                      {
                        "test": [
                          356.4853196,
                          193.0369807
                        ],
                        "passed_time": 9.911953306,
                        "iteration": 191,
                        "remaining_time": 41.7128035,
                        "learn": [
                          260.8062995,
                          145.2091085
                        ]
                      },
                      {
                        "test": [
                          356.3107999,
                          192.928535
                        ],
                        "passed_time": 9.953217726,
                        "iteration": 192,
                        "remaining_time": 41.61785857,
                        "learn": [
                          260.5212351,
                          145.0187594
                        ]
                      },
                      {
                        "test": [
                          356.3234349,
                          192.9043024
                        ],
                        "passed_time": 9.995347048,
                        "iteration": 193,
                        "remaining_time": 41.52706042,
                        "learn": [
                          260.4511293,
                          144.9321214
                        ]
                      },
                      {
                        "test": [
                          356.2104382,
                          192.811127
                        ],
                        "passed_time": 10.04315086,
                        "iteration": 194,
                        "remaining_time": 41.46018687,
                        "learn": [
                          260.3201888,
                          144.8060804
                        ]
                      },
                      {
                        "test": [
                          355.7176016,
                          192.667182
                        ],
                        "passed_time": 10.08469377,
                        "iteration": 195,
                        "remaining_time": 41.36782547,
                        "learn": [
                          259.9430766,
                          144.5827738
                        ]
                      },
                      {
                        "test": [
                          355.7007488,
                          192.6286188
                        ],
                        "passed_time": 10.12642245,
                        "iteration": 196,
                        "remaining_time": 41.27673721,
                        "learn": [
                          259.8604203,
                          144.4904785
                        ]
                      },
                      {
                        "test": [
                          355.2303919,
                          192.4039833
                        ],
                        "passed_time": 10.18566641,
                        "iteration": 197,
                        "remaining_time": 41.25709325,
                        "learn": [
                          259.487665,
                          144.2898976
                        ]
                      },
                      {
                        "test": [
                          355.0133219,
                          192.3351061
                        ],
                        "passed_time": 10.22809933,
                        "iteration": 198,
                        "remaining_time": 41.16938472,
                        "learn": [
                          259.1924233,
                          144.1190053
                        ]
                      },
                      {
                        "test": [
                          354.7385442,
                          192.0941867
                        ],
                        "passed_time": 10.27189844,
                        "iteration": 199,
                        "remaining_time": 41.08759378,
                        "learn": [
                          258.8910085,
                          143.8911916
                        ]
                      },
                      {
                        "test": [
                          354.198178,
                          191.7715385
                        ],
                        "passed_time": 10.31236733,
                        "iteration": 200,
                        "remaining_time": 40.99294275,
                        "learn": [
                          258.7227757,
                          143.7762621
                        ]
                      },
                      {
                        "test": [
                          353.9483003,
                          191.5656854
                        ],
                        "passed_time": 10.35886616,
                        "iteration": 201,
                        "remaining_time": 40.92264949,
                        "learn": [
                          258.5120416,
                          143.6044902
                        ]
                      },
                      {
                        "test": [
                          353.4518946,
                          191.2856167
                        ],
                        "passed_time": 10.40475251,
                        "iteration": 202,
                        "remaining_time": 40.85018596,
                        "learn": [
                          258.1385614,
                          143.36334
                        ]
                      },
                      {
                        "test": [
                          352.9435728,
                          190.9696915
                        ],
                        "passed_time": 10.44578168,
                        "iteration": 203,
                        "remaining_time": 40.75903046,
                        "learn": [
                          257.9878288,
                          143.2581547
                        ]
                      },
                      {
                        "test": [
                          352.8866757,
                          190.8961189
                        ],
                        "passed_time": 10.48898751,
                        "iteration": 204,
                        "remaining_time": 40.67680521,
                        "learn": [
                          257.9077749,
                          143.1633418
                        ]
                      },
                      {
                        "test": [
                          352.793443,
                          190.786647
                        ],
                        "passed_time": 10.53080887,
                        "iteration": 205,
                        "remaining_time": 40.58962253,
                        "learn": [
                          257.7855688,
                          143.0325702
                        ]
                      },
                      {
                        "test": [
                          352.7456649,
                          190.7328655
                        ],
                        "passed_time": 10.57238982,
                        "iteration": 206,
                        "remaining_time": 40.50195714,
                        "learn": [
                          257.7188671,
                          142.9584425
                        ]
                      },
                      {
                        "test": [
                          352.4983782,
                          190.5445832
                        ],
                        "passed_time": 10.62707735,
                        "iteration": 207,
                        "remaining_time": 40.46464068,
                        "learn": [
                          257.5115694,
                          142.8073248
                        ]
                      },
                      {
                        "test": [
                          352.4344876,
                          190.4736354
                        ],
                        "passed_time": 10.67129523,
                        "iteration": 208,
                        "remaining_time": 40.38753361,
                        "learn": [
                          257.4261316,
                          142.7193301
                        ]
                      },
                      {
                        "test": [
                          351.916679,
                          190.1499871
                        ],
                        "passed_time": 10.73527295,
                        "iteration": 209,
                        "remaining_time": 40.38507444,
                        "learn": [
                          257.2024746,
                          142.576916
                        ]
                      },
                      {
                        "test": [
                          350.9613372,
                          189.6967909
                        ],
                        "passed_time": 10.77842082,
                        "iteration": 210,
                        "remaining_time": 40.3041423,
                        "learn": [
                          256.4912655,
                          142.2640364
                        ]
                      },
                      {
                        "test": [
                          350.8179691,
                          189.5640855
                        ],
                        "passed_time": 10.82069804,
                        "iteration": 211,
                        "remaining_time": 40.22033046,
                        "learn": [
                          256.3441257,
                          142.1228853
                        ]
                      },
                      {
                        "test": [
                          350.538005,
                          189.3377304
                        ],
                        "passed_time": 10.86807335,
                        "iteration": 212,
                        "remaining_time": 40.15574519,
                        "learn": [
                          256.0284308,
                          141.9031554
                        ]
                      },
                      {
                        "test": [
                          350.0925912,
                          189.08861
                        ],
                        "passed_time": 10.9158822,
                        "iteration": 213,
                        "remaining_time": 40.09291313,
                        "learn": [
                          255.6891044,
                          141.6870984
                        ]
                      },
                      {
                        "test": [
                          349.6377104,
                          188.8408242
                        ],
                        "passed_time": 10.95629138,
                        "iteration": 214,
                        "remaining_time": 40.0032034,
                        "learn": [
                          255.3547477,
                          141.4797875
                        ]
                      },
                      {
                        "test": [
                          349.3229042,
                          188.6055846
                        ],
                        "passed_time": 10.99934182,
                        "iteration": 215,
                        "remaining_time": 39.92353699,
                        "learn": [
                          254.974736,
                          141.2064479
                        ]
                      },
                      {
                        "test": [
                          348.8843465,
                          188.3296227
                        ],
                        "passed_time": 11.04727177,
                        "iteration": 216,
                        "remaining_time": 39.86181474,
                        "learn": [
                          254.8529499,
                          141.1077112
                        ]
                      },
                      {
                        "test": [
                          348.7282506,
                          188.2017369
                        ],
                        "passed_time": 11.09527555,
                        "iteration": 217,
                        "remaining_time": 39.80048386,
                        "learn": [
                          254.6935275,
                          140.9754789
                        ]
                      },
                      {
                        "test": [
                          348.7172088,
                          188.1656053
                        ],
                        "passed_time": 11.13691383,
                        "iteration": 218,
                        "remaining_time": 39.71657397,
                        "learn": [
                          254.5080364,
                          140.8175129
                        ]
                      },
                      {
                        "test": [
                          348.6673854,
                          188.117657
                        ],
                        "passed_time": 11.19135212,
                        "iteration": 219,
                        "remaining_time": 39.67843025,
                        "learn": [
                          254.4482215,
                          140.7480594
                        ]
                      },
                      {
                        "test": [
                          348.3797789,
                          188.0259625
                        ],
                        "passed_time": 11.23414806,
                        "iteration": 220,
                        "remaining_time": 39.59910107,
                        "learn": [
                          253.9922344,
                          140.4817706
                        ]
                      },
                      {
                        "test": [
                          348.2429761,
                          187.9226954
                        ],
                        "passed_time": 11.2763259,
                        "iteration": 221,
                        "remaining_time": 39.5179349,
                        "learn": [
                          253.7184177,
                          140.3032442
                        ]
                      },
                      {
                        "test": [
                          348.0925893,
                          187.8051017
                        ],
                        "passed_time": 11.32378749,
                        "iteration": 222,
                        "remaining_time": 39.4555286,
                        "learn": [
                          253.5245265,
                          140.1401972
                        ]
                      },
                      {
                        "test": [
                          347.8256171,
                          187.6694438
                        ],
                        "passed_time": 11.3651302,
                        "iteration": 223,
                        "remaining_time": 39.37205819,
                        "learn": [
                          253.0869582,
                          139.8778545
                        ]
                      },
                      {
                        "test": [
                          347.7474542,
                          187.5764058
                        ],
                        "passed_time": 11.40737868,
                        "iteration": 224,
                        "remaining_time": 39.29208211,
                        "learn": [
                          252.9898083,
                          139.7693597
                        ]
                      },
                      {
                        "test": [
                          346.9965668,
                          187.216683
                        ],
                        "passed_time": 11.4482035,
                        "iteration": 225,
                        "remaining_time": 39.2075642,
                        "learn": [
                          252.808813,
                          139.6736968
                        ]
                      },
                      {
                        "test": [
                          346.9421382,
                          187.182989
                        ],
                        "passed_time": 11.4917261,
                        "iteration": 226,
                        "remaining_time": 39.13261794,
                        "learn": [
                          252.7783884,
                          139.6292526
                        ]
                      },
                      {
                        "test": [
                          346.5085949,
                          186.9282479
                        ],
                        "passed_time": 11.53910575,
                        "iteration": 227,
                        "remaining_time": 39.07100717,
                        "learn": [
                          252.6496581,
                          139.5444717
                        ]
                      },
                      {
                        "test": [
                          346.3140421,
                          186.7767742
                        ],
                        "passed_time": 11.58056807,
                        "iteration": 228,
                        "remaining_time": 38.98959817,
                        "learn": [
                          252.49204,
                          139.4260128
                        ]
                      },
                      {
                        "test": [
                          346.1800657,
                          186.63407
                        ],
                        "passed_time": 11.62240632,
                        "iteration": 229,
                        "remaining_time": 38.90979506,
                        "learn": [
                          252.3930622,
                          139.2953
                        ]
                      },
                      {
                        "test": [
                          346.1847809,
                          186.6196173
                        ],
                        "passed_time": 11.66406007,
                        "iteration": 230,
                        "remaining_time": 38.82970645,
                        "learn": [
                          252.3397409,
                          139.2358538
                        ]
                      },
                      {
                        "test": [
                          346.0788133,
                          186.5371277
                        ],
                        "passed_time": 11.70574081,
                        "iteration": 231,
                        "remaining_time": 38.75003854,
                        "learn": [
                          252.0596293,
                          139.0577483
                        ]
                      },
                      {
                        "test": [
                          345.7963535,
                          186.3291629
                        ],
                        "passed_time": 11.78304494,
                        "iteration": 232,
                        "remaining_time": 38.7879634,
                        "learn": [
                          251.7106984,
                          138.8261886
                        ]
                      },
                      {
                        "test": [
                          345.7824021,
                          186.3037453
                        ],
                        "passed_time": 11.8324772,
                        "iteration": 233,
                        "remaining_time": 38.73366467,
                        "learn": [
                          251.6787124,
                          138.7751401
                        ]
                      },
                      {
                        "test": [
                          345.2841342,
                          186.1613515
                        ],
                        "passed_time": 11.87389944,
                        "iteration": 234,
                        "remaining_time": 38.65333223,
                        "learn": [
                          251.3573406,
                          138.5814041
                        ]
                      },
                      {
                        "test": [
                          345.0721117,
                          185.9992975
                        ],
                        "passed_time": 11.91660593,
                        "iteration": 235,
                        "remaining_time": 38.57748699,
                        "learn": [
                          251.0717308,
                          138.3916444
                        ]
                      },
                      {
                        "test": [
                          344.8759436,
                          185.9996479
                        ],
                        "passed_time": 11.9592261,
                        "iteration": 236,
                        "remaining_time": 38.50164351,
                        "learn": [
                          250.7664388,
                          138.2253365
                        ]
                      },
                      {
                        "test": [
                          344.5323605,
                          185.7404459
                        ],
                        "passed_time": 12.00585347,
                        "iteration": 237,
                        "remaining_time": 38.438909,
                        "learn": [
                          250.3517371,
                          137.9257182
                        ]
                      },
                      {
                        "test": [
                          344.3356296,
                          185.5884718
                        ],
                        "passed_time": 12.04740622,
                        "iteration": 238,
                        "remaining_time": 38.3601512,
                        "learn": [
                          250.2040628,
                          137.8013668
                        ]
                      },
                      {
                        "test": [
                          344.0070864,
                          185.3904707
                        ],
                        "passed_time": 12.09088287,
                        "iteration": 239,
                        "remaining_time": 38.28779575,
                        "learn": [
                          249.8464903,
                          137.595736
                        ]
                      },
                      {
                        "test": [
                          343.3616623,
                          185.0234265
                        ],
                        "passed_time": 12.13251759,
                        "iteration": 240,
                        "remaining_time": 38.20987905,
                        "learn": [
                          249.2297294,
                          137.2538076
                        ]
                      },
                      {
                        "test": [
                          342.6069628,
                          184.7131372
                        ],
                        "passed_time": 12.18104031,
                        "iteration": 241,
                        "remaining_time": 38.15383699,
                        "learn": [
                          248.4711456,
                          136.936673
                        ]
                      },
                      {
                        "test": [
                          342.5815505,
                          184.6810464
                        ],
                        "passed_time": 12.23113875,
                        "iteration": 242,
                        "remaining_time": 38.10276557,
                        "learn": [
                          248.4299919,
                          136.884346
                        ]
                      },
                      {
                        "test": [
                          342.4491142,
                          184.5660619
                        ],
                        "passed_time": 12.27404909,
                        "iteration": 243,
                        "remaining_time": 38.02943079,
                        "learn": [
                          248.3224268,
                          136.7877317
                        ]
                      },
                      {
                        "test": [
                          342.086809,
                          184.3313377
                        ],
                        "passed_time": 12.3175972,
                        "iteration": 244,
                        "remaining_time": 37.95830975,
                        "learn": [
                          247.9211582,
                          136.5302738
                        ]
                      },
                      {
                        "test": [
                          341.734715,
                          184.1414525
                        ],
                        "passed_time": 12.35907092,
                        "iteration": 245,
                        "remaining_time": 37.88105476,
                        "learn": [
                          247.6721312,
                          136.3794031
                        ]
                      },
                      {
                        "test": [
                          341.7019182,
                          184.0949114
                        ],
                        "passed_time": 12.40292858,
                        "iteration": 246,
                        "remaining_time": 37.81135718,
                        "learn": [
                          247.6225451,
                          136.3262473
                        ]
                      },
                      {
                        "test": [
                          341.4733867,
                          183.9818039
                        ],
                        "passed_time": 12.44748377,
                        "iteration": 247,
                        "remaining_time": 37.74398306,
                        "learn": [
                          247.2291129,
                          136.0947878
                        ]
                      },
                      {
                        "test": [
                          341.3150052,
                          183.8650152
                        ],
                        "passed_time": 12.49724002,
                        "iteration": 248,
                        "remaining_time": 37.69247893,
                        "learn": [
                          247.1535738,
                          136.0283801
                        ]
                      },
                      {
                        "test": [
                          340.8274747,
                          183.5551567
                        ],
                        "passed_time": 12.54032987,
                        "iteration": 249,
                        "remaining_time": 37.62098961,
                        "learn": [
                          246.9483237,
                          135.8990236
                        ]
                      },
                      {
                        "test": [
                          340.2893487,
                          183.3234495
                        ],
                        "passed_time": 12.58219699,
                        "iteration": 250,
                        "remaining_time": 37.54607788,
                        "learn": [
                          246.5284647,
                          135.6902811
                        ]
                      },
                      {
                        "test": [
                          340.2662293,
                          183.2949388
                        ],
                        "passed_time": 12.62470846,
                        "iteration": 251,
                        "remaining_time": 37.47334098,
                        "learn": [
                          246.4912529,
                          135.6441213
                        ]
                      },
                      {
                        "test": [
                          340.2026544,
                          183.2284714
                        ],
                        "passed_time": 12.67196355,
                        "iteration": 252,
                        "remaining_time": 37.4148489,
                        "learn": [
                          246.4214567,
                          135.5795984
                        ]
                      },
                      {
                        "test": [
                          340.1385369,
                          183.1789441
                        ],
                        "passed_time": 12.7173651,
                        "iteration": 253,
                        "remaining_time": 37.35100144,
                        "learn": [
                          246.3439618,
                          135.5163194
                        ]
                      },
                      {
                        "test": [
                          340.0975725,
                          183.1262986
                        ],
                        "passed_time": 12.79017091,
                        "iteration": 254,
                        "remaining_time": 37.36736206,
                        "learn": [
                          246.2712549,
                          135.4405976
                        ]
                      },
                      {
                        "test": [
                          340.0456358,
                          183.0607678
                        ],
                        "passed_time": 12.83171731,
                        "iteration": 255,
                        "remaining_time": 37.29217844,
                        "learn": [
                          246.1277087,
                          135.3269129
                        ]
                      },
                      {
                        "test": [
                          339.874326,
                          182.9421004
                        ],
                        "passed_time": 12.87912828,
                        "iteration": 256,
                        "remaining_time": 37.23421132,
                        "learn": [
                          245.9024282,
                          135.159243
                        ]
                      },
                      {
                        "test": [
                          339.5446223,
                          182.7328355
                        ],
                        "passed_time": 12.92169263,
                        "iteration": 257,
                        "remaining_time": 37.16238734,
                        "learn": [
                          245.5347997,
                          134.9287647
                        ]
                      },
                      {
                        "test": [
                          339.4896933,
                          182.6577213
                        ],
                        "passed_time": 12.96315215,
                        "iteration": 258,
                        "remaining_time": 37.08762835,
                        "learn": [
                          245.4633364,
                          134.8305701
                        ]
                      },
                      {
                        "test": [
                          339.1015774,
                          182.5723676
                        ],
                        "passed_time": 13.00487114,
                        "iteration": 259,
                        "remaining_time": 37.01386401,
                        "learn": [
                          245.0742499,
                          134.6578187
                        ]
                      },
                      {
                        "test": [
                          339.0898074,
                          182.5475655
                        ],
                        "passed_time": 13.04671745,
                        "iteration": 260,
                        "remaining_time": 36.94070572,
                        "learn": [
                          244.9782349,
                          134.57426
                        ]
                      },
                      {
                        "test": [
                          339.0331915,
                          182.4975275
                        ],
                        "passed_time": 13.10034281,
                        "iteration": 261,
                        "remaining_time": 36.90096562,
                        "learn": [
                          244.9135159,
                          134.5178568
                        ]
                      },
                      {
                        "test": [
                          339.0333528,
                          182.4853789
                        ],
                        "passed_time": 13.14312047,
                        "iteration": 262,
                        "remaining_time": 36.83072161,
                        "learn": [
                          244.869298,
                          134.4712491
                        ]
                      },
                      {
                        "test": [
                          338.8824082,
                          182.3836319
                        ],
                        "passed_time": 13.1976517,
                        "iteration": 263,
                        "remaining_time": 36.79345323,
                        "learn": [
                          244.6682772,
                          134.3248035
                        ]
                      },
                      {
                        "test": [
                          338.3459752,
                          182.1620383
                        ],
                        "passed_time": 13.23984115,
                        "iteration": 264,
                        "remaining_time": 36.72182357,
                        "learn": [
                          244.1922287,
                          134.1104706
                        ]
                      },
                      {
                        "test": [
                          338.2780848,
                          182.0853517
                        ],
                        "passed_time": 13.28291792,
                        "iteration": 265,
                        "remaining_time": 36.65286374,
                        "learn": [
                          244.1052206,
                          134.0212282
                        ]
                      },
                      {
                        "test": [
                          338.2442,
                          182.0543031
                        ],
                        "passed_time": 13.32966191,
                        "iteration": 266,
                        "remaining_time": 36.59416548,
                        "learn": [
                          244.0638545,
                          133.9741152
                        ]
                      },
                      {
                        "test": [
                          338.2264667,
                          182.0216753
                        ],
                        "passed_time": 13.37569296,
                        "iteration": 267,
                        "remaining_time": 36.53360912,
                        "learn": [
                          243.9145556,
                          133.8656257
                        ]
                      },
                      {
                        "test": [
                          337.9825938,
                          181.8860519
                        ],
                        "passed_time": 13.41893046,
                        "iteration": 268,
                        "remaining_time": 36.4655694,
                        "learn": [
                          243.63237,
                          133.7019877
                        ]
                      },
                      {
                        "test": [
                          337.5284198,
                          181.6101226
                        ],
                        "passed_time": 13.46264684,
                        "iteration": 269,
                        "remaining_time": 36.39900811,
                        "learn": [
                          243.4464586,
                          133.579189
                        ]
                      },
                      {
                        "test": [
                          337.4851728,
                          181.56753
                        ],
                        "passed_time": 13.50460164,
                        "iteration": 270,
                        "remaining_time": 36.32787674,
                        "learn": [
                          243.398516,
                          133.5303554
                        ]
                      },
                      {
                        "test": [
                          337.2681166,
                          181.4768387
                        ],
                        "passed_time": 13.55130919,
                        "iteration": 271,
                        "remaining_time": 36.26968048,
                        "learn": [
                          243.0309394,
                          133.3206522
                        ]
                      },
                      {
                        "test": [
                          337.1196303,
                          181.3598154
                        ],
                        "passed_time": 13.59584195,
                        "iteration": 272,
                        "remaining_time": 36.20577692,
                        "learn": [
                          242.826334,
                          133.1564366
                        ]
                      },
                      {
                        "test": [
                          336.7030954,
                          181.1366184
                        ],
                        "passed_time": 13.63558182,
                        "iteration": 273,
                        "remaining_time": 36.12931535,
                        "learn": [
                          242.6733829,
                          133.0681935
                        ]
                      },
                      {
                        "test": [
                          336.3314019,
                          180.8681294
                        ],
                        "passed_time": 13.68097385,
                        "iteration": 274,
                        "remaining_time": 36.06802197,
                        "learn": [
                          242.3492012,
                          132.8609576
                        ]
                      },
                      {
                        "test": [
                          335.9805093,
                          180.6335513
                        ],
                        "passed_time": 13.72295876,
                        "iteration": 275,
                        "remaining_time": 35.99790632,
                        "learn": [
                          242.2115609,
                          132.7739538
                        ]
                      },
                      {
                        "test": [
                          335.8497404,
                          180.5192897
                        ],
                        "passed_time": 13.79807945,
                        "iteration": 276,
                        "remaining_time": 36.01448174,
                        "learn": [
                          242.0549959,
                          132.6422059
                        ]
                      },
                      {
                        "test": [
                          335.6106618,
                          180.3480499
                        ],
                        "passed_time": 13.8403297,
                        "iteration": 277,
                        "remaining_time": 35.94502892,
                        "learn": [
                          241.7556804,
                          132.4379548
                        ]
                      },
                      {
                        "test": [
                          335.5660889,
                          180.2898334
                        ],
                        "passed_time": 13.88259787,
                        "iteration": 278,
                        "remaining_time": 35.87581744,
                        "learn": [
                          241.6940969,
                          132.3750949
                        ]
                      },
                      {
                        "test": [
                          335.1843763,
                          180.1047295
                        ],
                        "passed_time": 13.92359591,
                        "iteration": 279,
                        "remaining_time": 35.80353235,
                        "learn": [
                          241.1049358,
                          132.1052361
                        ]
                      },
                      {
                        "test": [
                          334.9827138,
                          179.9181091
                        ],
                        "passed_time": 13.96668365,
                        "iteration": 280,
                        "remaining_time": 35.73681688,
                        "learn": [
                          240.9205961,
                          131.9513355
                        ]
                      },
                      {
                        "test": [
                          334.9375282,
                          179.8482007
                        ],
                        "passed_time": 14.01249964,
                        "iteration": 281,
                        "remaining_time": 35.67721539,
                        "learn": [
                          240.8624829,
                          131.8728416
                        ]
                      },
                      {
                        "test": [
                          334.8584427,
                          179.7733085
                        ],
                        "passed_time": 14.05415764,
                        "iteration": 282,
                        "remaining_time": 35.60717677,
                        "learn": [
                          240.7933695,
                          131.8154494
                        ]
                      },
                      {
                        "test": [
                          334.4525582,
                          179.4991502
                        ],
                        "passed_time": 14.10457355,
                        "iteration": 283,
                        "remaining_time": 35.55941783,
                        "learn": [
                          240.6131754,
                          131.6970959
                        ]
                      },
                      {
                        "test": [
                          334.3445052,
                          179.4067091
                        ],
                        "passed_time": 14.14694244,
                        "iteration": 284,
                        "remaining_time": 35.4914521,
                        "learn": [
                          240.5047496,
                          131.6057733
                        ]
                      },
                      {
                        "test": [
                          334.1574515,
                          179.3538909
                        ],
                        "passed_time": 14.19236795,
                        "iteration": 285,
                        "remaining_time": 35.4312962,
                        "learn": [
                          240.1952496,
                          131.4299901
                        ]
                      },
                      {
                        "test": [
                          333.6303457,
                          179.2371968
                        ],
                        "passed_time": 14.23610138,
                        "iteration": 286,
                        "remaining_time": 35.36703933,
                        "learn": [
                          239.8128766,
                          131.2429289
                        ]
                      },
                      {
                        "test": [
                          333.4073946,
                          179.1577589
                        ],
                        "passed_time": 14.27855375,
                        "iteration": 287,
                        "remaining_time": 35.29975787,
                        "learn": [
                          239.4492113,
                          131.0483415
                        ]
                      },
                      {
                        "test": [
                          332.9222204,
                          178.9712791
                        ],
                        "passed_time": 14.32005647,
                        "iteration": 288,
                        "remaining_time": 35.23031194,
                        "learn": [
                          239.0414474,
                          130.872982
                        ]
                      },
                      {
                        "test": [
                          332.9029195,
                          178.9477117
                        ],
                        "passed_time": 14.361751,
                        "iteration": 289,
                        "remaining_time": 35.16152832,
                        "learn": [
                          238.9627159,
                          130.8055789
                        ]
                      },
                      {
                        "test": [
                          332.8733088,
                          178.9195766
                        ],
                        "passed_time": 14.41056224,
                        "iteration": 290,
                        "remaining_time": 35.11027021,
                        "learn": [
                          238.9255056,
                          130.7669374
                        ]
                      },
                      {
                        "test": [
                          332.8468172,
                          178.859976
                        ],
                        "passed_time": 14.45624797,
                        "iteration": 291,
                        "remaining_time": 35.05145055,
                        "learn": [
                          238.8858257,
                          130.700054
                        ]
                      },
                      {
                        "test": [
                          332.6038574,
                          178.7162328
                        ],
                        "passed_time": 14.49897752,
                        "iteration": 292,
                        "remaining_time": 34.9855874,
                        "learn": [
                          238.6109807,
                          130.5170629
                        ]
                      },
                      {
                        "test": [
                          332.2585818,
                          178.5013017
                        ],
                        "passed_time": 14.54005054,
                        "iteration": 293,
                        "remaining_time": 34.91590369,
                        "learn": [
                          238.4577829,
                          130.4252456
                        ]
                      },
                      {
                        "test": [
                          332.048297,
                          178.3538381
                        ],
                        "passed_time": 14.58257424,
                        "iteration": 294,
                        "remaining_time": 34.84988082,
                        "learn": [
                          238.1839992,
                          130.2403172
                        ]
                      },
                      {
                        "test": [
                          331.8082538,
                          178.2095935
                        ],
                        "passed_time": 14.62499726,
                        "iteration": 295,
                        "remaining_time": 34.78377727,
                        "learn": [
                          237.8967594,
                          130.0699088
                        ]
                      },
                      {
                        "test": [
                          331.6429398,
                          178.0681624
                        ],
                        "passed_time": 14.6734059,
                        "iteration": 296,
                        "remaining_time": 34.73200117,
                        "learn": [
                          237.7428837,
                          129.9606634
                        ]
                      },
                      {
                        "test": [
                          331.5945165,
                          178.0299662
                        ],
                        "passed_time": 14.7184966,
                        "iteration": 297,
                        "remaining_time": 34.67243158,
                        "learn": [
                          237.6893638,
                          129.9185506
                        ]
                      },
                      {
                        "test": [
                          331.5054246,
                          177.944489
                        ],
                        "passed_time": 14.76976237,
                        "iteration": 298,
                        "remaining_time": 34.62743618,
                        "learn": [
                          237.5331043,
                          129.8022548
                        ]
                      },
                      {
                        "test": [
                          331.4528271,
                          177.8805808
                        ],
                        "passed_time": 14.82809565,
                        "iteration": 299,
                        "remaining_time": 34.59888984,
                        "learn": [
                          237.4651049,
                          129.727127
                        ]
                      },
                      {
                        "test": [
                          331.3861782,
                          177.8140439
                        ],
                        "passed_time": 14.87396847,
                        "iteration": 300,
                        "remaining_time": 34.54120918,
                        "learn": [
                          237.3636613,
                          129.6441543
                        ]
                      },
                      {
                        "test": [
                          331.3383931,
                          177.7757929
                        ],
                        "passed_time": 14.91605378,
                        "iteration": 301,
                        "remaining_time": 34.47485278,
                        "learn": [
                          237.3179327,
                          129.6069657
                        ]
                      },
                      {
                        "test": [
                          331.3178364,
                          177.7549022
                        ],
                        "passed_time": 14.95790202,
                        "iteration": 302,
                        "remaining_time": 34.40811124,
                        "learn": [
                          237.2909211,
                          129.5760777
                        ]
                      },
                      {
                        "test": [
                          331.2029317,
                          177.642625
                        ],
                        "passed_time": 15.01122196,
                        "iteration": 303,
                        "remaining_time": 34.36779764,
                        "learn": [
                          237.18212,
                          129.4890004
                        ]
                      },
                      {
                        "test": [
                          331.0446448,
                          177.5554944
                        ],
                        "passed_time": 15.05479206,
                        "iteration": 304,
                        "remaining_time": 34.3051819,
                        "learn": [
                          237.0943701,
                          129.4255094
                        ]
                      },
                      {
                        "test": [
                          330.8557644,
                          177.4662838
                        ],
                        "passed_time": 15.10230592,
                        "iteration": 305,
                        "remaining_time": 34.251635,
                        "learn": [
                          237.0264986,
                          129.3672676
                        ]
                      },
                      {
                        "test": [
                          330.7530743,
                          177.4197249
                        ],
                        "passed_time": 15.14472793,
                        "iteration": 306,
                        "remaining_time": 34.1866334,
                        "learn": [
                          236.8217255,
                          129.2465054
                        ]
                      },
                      {
                        "test": [
                          330.8059226,
                          177.4327654
                        ],
                        "passed_time": 15.18867492,
                        "iteration": 307,
                        "remaining_time": 34.1252047,
                        "learn": [
                          236.6565956,
                          129.1358685
                        ]
                      },
                      {
                        "test": [
                          330.6703145,
                          177.3471834
                        ],
                        "passed_time": 15.23441216,
                        "iteration": 308,
                        "remaining_time": 34.06789257,
                        "learn": [
                          236.4668252,
                          129.0275437
                        ]
                      },
                      {
                        "test": [
                          329.9814184,
                          177.1308373
                        ],
                        "passed_time": 15.27524229,
                        "iteration": 309,
                        "remaining_time": 33.99973283,
                        "learn": [
                          236.1559672,
                          128.878904
                        ]
                      },
                      {
                        "test": [
                          329.9271341,
                          177.0750523
                        ],
                        "passed_time": 15.32197329,
                        "iteration": 310,
                        "remaining_time": 33.94482185,
                        "learn": [
                          236.1031188,
                          128.8320963
                        ]
                      },
                      {
                        "test": [
                          329.8455443,
                          176.9806517
                        ],
                        "passed_time": 15.36609791,
                        "iteration": 311,
                        "remaining_time": 33.8842159,
                        "learn": [
                          236.0113244,
                          128.7481172
                        ]
                      },
                      {
                        "test": [
                          329.8522434,
                          176.9833758
                        ],
                        "passed_time": 15.40720826,
                        "iteration": 312,
                        "remaining_time": 33.81709928,
                        "learn": [
                          235.9639922,
                          128.7070322
                        ]
                      },
                      {
                        "test": [
                          329.6915918,
                          176.9083857
                        ],
                        "passed_time": 15.45128745,
                        "iteration": 313,
                        "remaining_time": 33.75663436,
                        "learn": [
                          235.9110737,
                          128.6575282
                        ]
                      },
                      {
                        "test": [
                          329.5410286,
                          176.8029939
                        ],
                        "passed_time": 15.49474482,
                        "iteration": 314,
                        "remaining_time": 33.69492128,
                        "learn": [
                          235.6812336,
                          128.5357426
                        ]
                      },
                      {
                        "test": [
                          329.3461083,
                          176.6723041
                        ],
                        "passed_time": 15.54250872,
                        "iteration": 315,
                        "remaining_time": 33.64264545,
                        "learn": [
                          235.5462326,
                          128.4349106
                        ]
                      },
                      {
                        "test": [
                          328.8160442,
                          176.4024797
                        ],
                        "passed_time": 15.5875592,
                        "iteration": 316,
                        "remaining_time": 33.58455185,
                        "learn": [
                          235.182824,
                          128.2622325
                        ]
                      },
                      {
                        "test": [
                          328.738776,
                          176.3294874
                        ],
                        "passed_time": 15.63004267,
                        "iteration": 317,
                        "remaining_time": 33.5210349,
                        "learn": [
                          235.0498955,
                          128.1673341
                        ]
                      },
                      {
                        "test": [
                          328.7240951,
                          176.3011428
                        ],
                        "passed_time": 15.67282765,
                        "iteration": 318,
                        "remaining_time": 33.4582935,
                        "learn": [
                          235.0063522,
                          128.1080956
                        ]
                      },
                      {
                        "test": [
                          328.6855251,
                          176.2540726
                        ],
                        "passed_time": 15.72150753,
                        "iteration": 319,
                        "remaining_time": 33.40820351,
                        "learn": [
                          234.9576938,
                          128.0565439
                        ]
                      },
                      {
                        "test": [
                          328.3790348,
                          176.1571971
                        ],
                        "passed_time": 15.76719984,
                        "iteration": 320,
                        "remaining_time": 33.35180277,
                        "learn": [
                          234.5756067,
                          127.856076
                        ]
                      },
                      {
                        "test": [
                          328.0557752,
                          176.0994426
                        ],
                        "passed_time": 15.83924306,
                        "iteration": 321,
                        "remaining_time": 33.35095278,
                        "learn": [
                          234.2958229,
                          127.7274934
                        ]
                      },
                      {
                        "test": [
                          327.691142,
                          175.8780109
                        ],
                        "passed_time": 15.88261427,
                        "iteration": 322,
                        "remaining_time": 33.28956612,
                        "learn": [
                          234.1444461,
                          127.627442
                        ]
                      },
                      {
                        "test": [
                          327.3388434,
                          175.7426885
                        ],
                        "passed_time": 15.92388046,
                        "iteration": 323,
                        "remaining_time": 33.22389874,
                        "learn": [
                          233.8241514,
                          127.4864159
                        ]
                      },
                      {
                        "test": [
                          327.2665408,
                          175.6651774
                        ],
                        "passed_time": 15.97029831,
                        "iteration": 324,
                        "remaining_time": 33.16908111,
                        "learn": [
                          233.7290709,
                          127.4147421
                        ]
                      },
                      {
                        "test": [
                          327.0867309,
                          175.6662093
                        ],
                        "passed_time": 16.01585197,
                        "iteration": 325,
                        "remaining_time": 33.11252831,
                        "learn": [
                          233.544723,
                          127.3027854
                        ]
                      },
                      {
                        "test": [
                          326.7331324,
                          175.4751323
                        ],
                        "passed_time": 16.06025228,
                        "iteration": 326,
                        "remaining_time": 33.05366907,
                        "learn": [
                          233.3175568,
                          127.1611086
                        ]
                      },
                      {
                        "test": [
                          326.6972081,
                          175.4203512
                        ],
                        "passed_time": 16.10295358,
                        "iteration": 327,
                        "remaining_time": 32.99141708,
                        "learn": [
                          233.2746243,
                          127.1032305
                        ]
                      },
                      {
                        "test": [
                          326.6565,
                          175.374246
                        ],
                        "passed_time": 16.14547787,
                        "iteration": 328,
                        "remaining_time": 32.92892294,
                        "learn": [
                          233.2263475,
                          127.0579044
                        ]
                      },
                      {
                        "test": [
                          326.5013053,
                          175.2585086
                        ],
                        "passed_time": 16.19853287,
                        "iteration": 329,
                        "remaining_time": 32.88793038,
                        "learn": [
                          233.1253547,
                          126.9591476
                        ]
                      },
                      {
                        "test": [
                          326.4320085,
                          175.2057348
                        ],
                        "passed_time": 16.24470802,
                        "iteration": 330,
                        "remaining_time": 32.83295971,
                        "learn": [
                          233.0697784,
                          126.899634
                        ]
                      },
                      {
                        "test": [
                          326.3433118,
                          175.1301131
                        ],
                        "passed_time": 16.28598568,
                        "iteration": 331,
                        "remaining_time": 32.76818805,
                        "learn": [
                          232.9495276,
                          126.8170921
                        ]
                      },
                      {
                        "test": [
                          326.0098037,
                          175.0047749
                        ],
                        "passed_time": 16.32681338,
                        "iteration": 332,
                        "remaining_time": 32.70265624,
                        "learn": [
                          232.6491219,
                          126.685948
                        ]
                      },
                      {
                        "test": [
                          325.893181,
                          174.9561325
                        ],
                        "passed_time": 16.37330356,
                        "iteration": 333,
                        "remaining_time": 32.64856339,
                        "learn": [
                          232.5357181,
                          126.6166914
                        ]
                      },
                      {
                        "test": [
                          325.8398088,
                          174.9071467
                        ],
                        "passed_time": 16.42076776,
                        "iteration": 334,
                        "remaining_time": 32.59644943,
                        "learn": [
                          232.4502451,
                          126.5564056
                        ]
                      },
                      {
                        "test": [
                          325.4408635,
                          174.7486194
                        ],
                        "passed_time": 16.46261891,
                        "iteration": 335,
                        "remaining_time": 32.5332707,
                        "learn": [
                          232.1632466,
                          126.3996104
                        ]
                      },
                      {
                        "test": [
                          325.2425273,
                          174.6289941
                        ],
                        "passed_time": 16.50510019,
                        "iteration": 336,
                        "remaining_time": 32.47145824,
                        "learn": [
                          231.8667041,
                          126.2337778
                        ]
                      },
                      {
                        "test": [
                          324.92712,
                          174.5124454
                        ],
                        "passed_time": 16.54655354,
                        "iteration": 337,
                        "remaining_time": 32.40774687,
                        "learn": [
                          231.5839224,
                          126.1111851
                        ]
                      },
                      {
                        "test": [
                          324.9081441,
                          174.4756636
                        ],
                        "passed_time": 16.59143466,
                        "iteration": 338,
                        "remaining_time": 32.35085048,
                        "learn": [
                          231.5558071,
                          126.0674353
                        ]
                      },
                      {
                        "test": [
                          324.6867604,
                          174.3067751
                        ],
                        "passed_time": 16.63489473,
                        "iteration": 339,
                        "remaining_time": 32.29126624,
                        "learn": [
                          231.3846274,
                          125.9486247
                        ]
                      },
                      {
                        "test": [
                          324.6632517,
                          174.283819
                        ],
                        "passed_time": 16.67560128,
                        "iteration": 340,
                        "remaining_time": 32.22645526,
                        "learn": [
                          231.3576702,
                          125.9224084
                        ]
                      },
                      {
                        "test": [
                          324.1510231,
                          174.1171202
                        ],
                        "passed_time": 16.71830918,
                        "iteration": 341,
                        "remaining_time": 32.16563579,
                        "learn": [
                          230.980632,
                          125.760042
                        ]
                      },
                      {
                        "test": [
                          323.6041629,
                          173.9630313
                        ],
                        "passed_time": 16.75924739,
                        "iteration": 342,
                        "remaining_time": 32.10153217,
                        "learn": [
                          230.7183756,
                          125.6398768
                        ]
                      },
                      {
                        "test": [
                          323.5007064,
                          173.8760645
                        ],
                        "passed_time": 16.82177388,
                        "iteration": 343,
                        "remaining_time": 32.07873159,
                        "learn": [
                          230.5496884,
                          125.510882
                        ]
                      },
                      {
                        "test": [
                          323.1595275,
                          173.7360544
                        ],
                        "passed_time": 16.8761363,
                        "iteration": 344,
                        "remaining_time": 32.0402008,
                        "learn": [
                          230.2245676,
                          125.3655329
                        ]
                      },
                      {
                        "test": [
                          323.1207109,
                          173.6914415
                        ],
                        "passed_time": 16.91808956,
                        "iteration": 345,
                        "remaining_time": 31.97812304,
                        "learn": [
                          230.1241789,
                          125.2926529
                        ]
                      },
                      {
                        "test": [
                          323.0371569,
                          173.6259468
                        ],
                        "passed_time": 16.95992612,
                        "iteration": 346,
                        "remaining_time": 31.91594167,
                        "learn": [
                          230.0561326,
                          125.2454679
                        ]
                      },
                      {
                        "test": [
                          323.0352168,
                          173.5837211
                        ],
                        "passed_time": 17.00153539,
                        "iteration": 347,
                        "remaining_time": 31.85345136,
                        "learn": [
                          229.9231611,
                          125.1474257
                        ]
                      },
                      {
                        "test": [
                          323.007375,
                          173.5509495
                        ],
                        "passed_time": 17.05217454,
                        "iteration": 348,
                        "remaining_time": 31.80792443,
                        "learn": [
                          229.8886897,
                          125.1124323
                        ]
                      },
                      {
                        "test": [
                          322.9172311,
                          173.4857279
                        ],
                        "passed_time": 17.09789938,
                        "iteration": 349,
                        "remaining_time": 31.7532417,
                        "learn": [
                          229.7055844,
                          125.002794
                        ]
                      },
                      {
                        "test": [
                          322.7427621,
                          173.3782191
                        ],
                        "passed_time": 17.14095033,
                        "iteration": 350,
                        "remaining_time": 31.693666,
                        "learn": [
                          229.4892325,
                          124.8451821
                        ]
                      },
                      {
                        "test": [
                          322.6515906,
                          173.3472269
                        ],
                        "passed_time": 17.18395004,
                        "iteration": 351,
                        "remaining_time": 31.63408985,
                        "learn": [
                          229.3225828,
                          124.7331418
                        ]
                      },
                      {
                        "test": [
                          322.4614299,
                          173.2145719
                        ],
                        "passed_time": 17.23876029,
                        "iteration": 352,
                        "remaining_time": 31.5962547,
                        "learn": [
                          229.0920486,
                          124.6092436
                        ]
                      },
                      {
                        "test": [
                          322.0427067,
                          173.010636
                        ],
                        "passed_time": 17.28151152,
                        "iteration": 353,
                        "remaining_time": 31.53631763,
                        "learn": [
                          228.8246892,
                          124.4856866
                        ]
                      },
                      {
                        "test": [
                          321.8797733,
                          172.9112433
                        ],
                        "passed_time": 17.33101129,
                        "iteration": 354,
                        "remaining_time": 31.48873882,
                        "learn": [
                          228.6205134,
                          124.3372125
                        ]
                      },
                      {
                        "test": [
                          321.2732873,
                          172.6744335
                        ],
                        "passed_time": 17.37519568,
                        "iteration": 355,
                        "remaining_time": 31.43153376,
                        "learn": [
                          228.0931676,
                          124.1166234
                        ]
                      },
                      {
                        "test": [
                          320.7996999,
                          172.473159
                        ],
                        "passed_time": 17.41864209,
                        "iteration": 356,
                        "remaining_time": 31.37307245,
                        "learn": [
                          227.751547,
                          123.9875
                        ]
                      },
                      {
                        "test": [
                          320.6771161,
                          172.4549441
                        ],
                        "passed_time": 17.45918623,
                        "iteration": 357,
                        "remaining_time": 31.3094904,
                        "learn": [
                          227.5246485,
                          123.8633704
                        ]
                      },
                      {
                        "test": [
                          320.5751637,
                          172.3796405
                        ],
                        "passed_time": 17.50349129,
                        "iteration": 358,
                        "remaining_time": 31.25275186,
                        "learn": [
                          227.4200357,
                          123.7690141
                        ]
                      },
                      {
                        "test": [
                          320.1959266,
                          172.2341047
                        ],
                        "passed_time": 17.5480786,
                        "iteration": 359,
                        "remaining_time": 31.19658418,
                        "learn": [
                          227.0943213,
                          123.6329317
                        ]
                      },
                      {
                        "test": [
                          319.9470757,
                          172.1412661
                        ],
                        "passed_time": 17.58997435,
                        "iteration": 360,
                        "remaining_time": 31.13571637,
                        "learn": [
                          226.9324483,
                          123.555066
                        ]
                      },
                      {
                        "test": [
                          319.7708286,
                          172.1172879
                        ],
                        "passed_time": 17.6383342,
                        "iteration": 361,
                        "remaining_time": 31.08634591,
                        "learn": [
                          226.7710026,
                          123.4607026
                        ]
                      },
                      {
                        "test": [
                          319.481505,
                          171.9395243
                        ],
                        "passed_time": 17.68130139,
                        "iteration": 362,
                        "remaining_time": 31.02751787,
                        "learn": [
                          226.6494304,
                          123.3891968
                        ]
                      },
                      {
                        "test": [
                          319.4448928,
                          171.8889365
                        ],
                        "passed_time": 17.72626397,
                        "iteration": 363,
                        "remaining_time": 30.97226342,
                        "learn": [
                          226.6163733,
                          123.338381
                        ]
                      },
                      {
                        "test": [
                          319.2301186,
                          171.8364552
                        ],
                        "passed_time": 17.7756016,
                        "iteration": 364,
                        "remaining_time": 30.92467675,
                        "learn": [
                          226.2928497,
                          123.1823089
                        ]
                      },
                      {
                        "test": [
                          318.897878,
                          171.7182801
                        ],
                        "passed_time": 17.83323804,
                        "iteration": 365,
                        "remaining_time": 30.89145605,
                        "learn": [
                          226.0843017,
                          123.0693057
                        ]
                      },
                      {
                        "test": [
                          318.89758,
                          171.7105616
                        ],
                        "passed_time": 17.89368677,
                        "iteration": 366,
                        "remaining_time": 30.86295292,
                        "learn": [
                          226.040454,
                          123.0334407
                        ]
                      },
                      {
                        "test": [
                          318.8097275,
                          171.6711925
                        ],
                        "passed_time": 17.93736086,
                        "iteration": 367,
                        "remaining_time": 30.80546756,
                        "learn": [
                          225.8837863,
                          122.9326544
                        ]
                      },
                      {
                        "test": [
                          318.571268,
                          171.545488
                        ],
                        "passed_time": 17.98335489,
                        "iteration": 368,
                        "remaining_time": 30.75202422,
                        "learn": [
                          225.6172251,
                          122.8134439
                        ]
                      },
                      {
                        "test": [
                          318.5220063,
                          171.5485038
                        ],
                        "passed_time": 18.02981844,
                        "iteration": 369,
                        "remaining_time": 30.69942058,
                        "learn": [
                          225.500267,
                          122.7330875
                        ]
                      },
                      {
                        "test": [
                          318.4020697,
                          171.5123607
                        ],
                        "passed_time": 18.07218722,
                        "iteration": 370,
                        "remaining_time": 30.63990772,
                        "learn": [
                          225.309304,
                          122.6210892
                        ]
                      },
                      {
                        "test": [
                          318.3761941,
                          171.48464
                        ],
                        "passed_time": 18.11461009,
                        "iteration": 371,
                        "remaining_time": 30.58057833,
                        "learn": [
                          225.2739263,
                          122.5853599
                        ]
                      },
                      {
                        "test": [
                          318.3018159,
                          171.4261754
                        ],
                        "passed_time": 18.15723409,
                        "iteration": 372,
                        "remaining_time": 30.52167767,
                        "learn": [
                          225.181482,
                          122.5152154
                        ]
                      },
                      {
                        "test": [
                          318.1135982,
                          171.2822045
                        ],
                        "passed_time": 18.20460091,
                        "iteration": 373,
                        "remaining_time": 30.4708026,
                        "learn": [
                          225.0145244,
                          122.4036849
                        ]
                      },
                      {
                        "test": [
                          318.0758558,
                          171.2247435
                        ],
                        "passed_time": 18.25679872,
                        "iteration": 374,
                        "remaining_time": 30.42799787,
                        "learn": [
                          224.9799248,
                          122.3476883
                        ]
                      },
                      {
                        "test": [
                          317.656105,
                          171.0339903
                        ],
                        "passed_time": 18.30857222,
                        "iteration": 375,
                        "remaining_time": 30.384439,
                        "learn": [
                          224.5170182,
                          122.1317384
                        ]
                      },
                      {
                        "test": [
                          317.6578361,
                          170.9984981
                        ],
                        "passed_time": 18.3508983,
                        "iteration": 376,
                        "remaining_time": 30.32522452,
                        "learn": [
                          224.3989236,
                          122.0461384
                        ]
                      },
                      {
                        "test": [
                          317.554047,
                          170.9411962
                        ],
                        "passed_time": 18.39486705,
                        "iteration": 377,
                        "remaining_time": 30.2688024,
                        "learn": [
                          224.2368152,
                          121.9407132
                        ]
                      },
                      {
                        "test": [
                          317.2371955,
                          170.7497998
                        ],
                        "passed_time": 18.4437225,
                        "iteration": 378,
                        "remaining_time": 30.22045296,
                        "learn": [
                          224.1042079,
                          121.8532524
                        ]
                      },
                      {
                        "test": [
                          317.2125867,
                          170.7309064
                        ],
                        "passed_time": 18.48689878,
                        "iteration": 379,
                        "remaining_time": 30.16283485,
                        "learn": [
                          224.0534441,
                          121.8133446
                        ]
                      },
                      {
                        "test": [
                          317.1761143,
                          170.7080433
                        ],
                        "passed_time": 18.52975068,
                        "iteration": 380,
                        "remaining_time": 30.10476554,
                        "learn": [
                          223.9769052,
                          121.7687645
                        ]
                      },
                      {
                        "test": [
                          317.1618291,
                          170.690071
                        ],
                        "passed_time": 18.57236178,
                        "iteration": 381,
                        "remaining_time": 30.04638634,
                        "learn": [
                          223.9535772,
                          121.7436433
                        ]
                      },
                      {
                        "test": [
                          317.1081173,
                          170.6718669
                        ],
                        "passed_time": 18.61436806,
                        "iteration": 382,
                        "remaining_time": 29.98711512,
                        "learn": [
                          223.8849702,
                          121.7075152
                        ]
                      },
                      {
                        "test": [
                          317.0698623,
                          170.6402959
                        ],
                        "passed_time": 18.66796664,
                        "iteration": 383,
                        "remaining_time": 29.94652982,
                        "learn": [
                          223.8461664,
                          121.6765246
                        ]
                      },
                      {
                        "test": [
                          316.9076623,
                          170.578149
                        ],
                        "passed_time": 18.70988959,
                        "iteration": 384,
                        "remaining_time": 29.88722622,
                        "learn": [
                          223.7398827,
                          121.6173973
                        ]
                      },
                      {
                        "test": [
                          316.6049139,
                          170.3946515
                        ],
                        "passed_time": 18.75352079,
                        "iteration": 385,
                        "remaining_time": 29.83072996,
                        "learn": [
                          223.6148855,
                          121.5359263
                        ]
                      },
                      {
                        "test": [
                          316.4750546,
                          170.4070776
                        ],
                        "passed_time": 18.79312544,
                        "iteration": 386,
                        "remaining_time": 29.76792221,
                        "learn": [
                          223.3579495,
                          121.4175136
                        ]
                      },
                      {
                        "test": [
                          316.3584189,
                          170.3867257
                        ],
                        "passed_time": 18.83366744,
                        "iteration": 387,
                        "remaining_time": 29.70671256,
                        "learn": [
                          223.0989925,
                          121.275723
                        ]
                      },
                      {
                        "test": [
                          316.2147875,
                          170.3931042
                        ],
                        "passed_time": 18.90180817,
                        "iteration": 388,
                        "remaining_time": 29.68895833,
                        "learn": [
                          222.8682656,
                          121.165179
                        ]
                      },
                      {
                        "test": [
                          315.8896184,
                          170.2723299
                        ],
                        "passed_time": 18.95031622,
                        "iteration": 389,
                        "remaining_time": 29.6402382,
                        "learn": [
                          222.5940104,
                          121.0511134
                        ]
                      },
                      {
                        "test": [
                          315.8585543,
                          170.2496986
                        ],
                        "passed_time": 18.9938911,
                        "iteration": 390,
                        "remaining_time": 29.5838355,
                        "learn": [
                          222.5234317,
                          120.9990648
                        ]
                      },
                      {
                        "test": [
                          315.7221907,
                          170.1956452
                        ],
                        "passed_time": 19.03704573,
                        "iteration": 391,
                        "remaining_time": 29.52684644,
                        "learn": [
                          222.4041946,
                          120.9299216
                        ]
                      },
                      {
                        "test": [
                          315.5469653,
                          170.0840979
                        ],
                        "passed_time": 19.08027071,
                        "iteration": 392,
                        "remaining_time": 29.47003644,
                        "learn": [
                          222.1646483,
                          120.8005018
                        ]
                      },
                      {
                        "test": [
                          315.5300104,
                          170.0575487
                        ],
                        "passed_time": 19.12718476,
                        "iteration": 393,
                        "remaining_time": 29.41896946,
                        "learn": [
                          222.1321372,
                          120.7660123
                        ]
                      },
                      {
                        "test": [
                          315.2885202,
                          169.9773728
                        ],
                        "passed_time": 19.16723769,
                        "iteration": 394,
                        "remaining_time": 29.35741469,
                        "learn": [
                          221.7998531,
                          120.5795837
                        ]
                      },
                      {
                        "test": [
                          315.0070263,
                          169.8278019
                        ],
                        "passed_time": 19.21233261,
                        "iteration": 395,
                        "remaining_time": 29.30365882,
                        "learn": [
                          221.4850614,
                          120.4328173
                        ]
                      },
                      {
                        "test": [
                          314.941412,
                          169.7526077
                        ],
                        "passed_time": 19.26307654,
                        "iteration": 396,
                        "remaining_time": 29.25852684,
                        "learn": [
                          221.4073695,
                          120.3609563
                        ]
                      },
                      {
                        "test": [
                          314.8777304,
                          169.7061414
                        ],
                        "passed_time": 19.30932885,
                        "iteration": 397,
                        "remaining_time": 29.20657278,
                        "learn": [
                          221.3259111,
                          120.3033452
                        ]
                      },
                      {
                        "test": [
                          314.4772644,
                          169.5060951
                        ],
                        "passed_time": 19.35598109,
                        "iteration": 398,
                        "remaining_time": 29.15524971,
                        "learn": [
                          221.1449638,
                          120.206885
                        ]
                      },
                      {
                        "test": [
                          314.4150567,
                          169.4350659
                        ],
                        "passed_time": 19.39978574,
                        "iteration": 399,
                        "remaining_time": 29.09967862,
                        "learn": [
                          221.0715144,
                          120.1397432
                        ]
                      },
                      {
                        "test": [
                          314.079334,
                          169.2744242
                        ],
                        "passed_time": 19.44224229,
                        "iteration": 400,
                        "remaining_time": 29.04215245,
                        "learn": [
                          220.8629798,
                          120.0442953
                        ]
                      },
                      {
                        "test": [
                          313.9704146,
                          169.1882052
                        ],
                        "passed_time": 19.48381616,
                        "iteration": 401,
                        "remaining_time": 28.98338822,
                        "learn": [
                          220.7657139,
                          119.9769294
                        ]
                      },
                      {
                        "test": [
                          314.0189247,
                          169.1846301
                        ],
                        "passed_time": 19.52459169,
                        "iteration": 402,
                        "remaining_time": 28.92352665,
                        "learn": [
                          220.7061046,
                          119.9170913
                        ]
                      },
                      {
                        "test": [
                          313.5905552,
                          169.0084423
                        ],
                        "passed_time": 19.57575525,
                        "iteration": 403,
                        "remaining_time": 28.87908448,
                        "learn": [
                          220.2631329,
                          119.7224053
                        ]
                      },
                      {
                        "test": [
                          313.4709671,
                          168.9884782
                        ],
                        "passed_time": 19.62357779,
                        "iteration": 404,
                        "remaining_time": 28.8297007,
                        "learn": [
                          220.0410705,
                          119.6026774
                        ]
                      },
                      {
                        "test": [
                          313.1510866,
                          168.7810461
                        ],
                        "passed_time": 19.6711755,
                        "iteration": 405,
                        "remaining_time": 28.77999569,
                        "learn": [
                          219.9151909,
                          119.5304422
                        ]
                      },
                      {
                        "test": [
                          312.7662178,
                          168.5919249
                        ],
                        "passed_time": 19.71427508,
                        "iteration": 406,
                        "remaining_time": 28.72374723,
                        "learn": [
                          219.6015561,
                          119.3946816
                        ]
                      },
                      {
                        "test": [
                          312.4889153,
                          168.4907947
                        ],
                        "passed_time": 19.75611803,
                        "iteration": 407,
                        "remaining_time": 28.66573988,
                        "learn": [
                          219.3715482,
                          119.299492
                        ]
                      },
                      {
                        "test": [
                          312.3183027,
                          168.4179141
                        ],
                        "passed_time": 19.8032286,
                        "iteration": 408,
                        "remaining_time": 28.61542324,
                        "learn": [
                          219.2280256,
                          119.2260266
                        ]
                      },
                      {
                        "test": [
                          312.0413664,
                          168.4363958
                        ],
                        "passed_time": 19.85944917,
                        "iteration": 409,
                        "remaining_time": 28.57823174,
                        "learn": [
                          218.9591763,
                          119.1034928
                        ]
                      },
                      {
                        "test": [
                          311.8887816,
                          168.4469692
                        ],
                        "passed_time": 19.92001093,
                        "iteration": 410,
                        "remaining_time": 28.54716895,
                        "learn": [
                          218.7925748,
                          119.0027988
                        ]
                      },
                      {
                        "test": [
                          311.8153812,
                          168.4086777
                        ],
                        "passed_time": 19.96034155,
                        "iteration": 411,
                        "remaining_time": 28.48708939,
                        "learn": [
                          218.701381,
                          118.9368551
                        ]
                      },
                      {
                        "test": [
                          311.4863324,
                          168.2877476
                        ],
                        "passed_time": 20.00749376,
                        "iteration": 412,
                        "remaining_time": 28.43680106,
                        "learn": [
                          218.4455263,
                          118.8194721
                        ]
                      },
                      {
                        "test": [
                          311.3178348,
                          168.2772632
                        ],
                        "passed_time": 20.05288739,
                        "iteration": 413,
                        "remaining_time": 28.38403868,
                        "learn": [
                          218.1601485,
                          118.6583664
                        ]
                      },
                      {
                        "test": [
                          311.2379123,
                          168.2367206
                        ],
                        "passed_time": 20.10072294,
                        "iteration": 414,
                        "remaining_time": 28.33475402,
                        "learn": [
                          218.0154897,
                          118.5650092
                        ]
                      },
                      {
                        "test": [
                          311.0170259,
                          168.0928387
                        ],
                        "passed_time": 20.14345737,
                        "iteration": 415,
                        "remaining_time": 28.27831515,
                        "learn": [
                          217.9253183,
                          118.5142637
                        ]
                      },
                      {
                        "test": [
                          310.7455137,
                          167.9301474
                        ],
                        "passed_time": 20.18655296,
                        "iteration": 416,
                        "remaining_time": 28.22244694,
                        "learn": [
                          217.8163582,
                          118.4450526
                        ]
                      },
                      {
                        "test": [
                          310.6624513,
                          167.8603621
                        ],
                        "passed_time": 20.24383424,
                        "iteration": 417,
                        "remaining_time": 28.18639122,
                        "learn": [
                          217.7289268,
                          118.3826879
                        ]
                      },
                      {
                        "test": [
                          310.5557309,
                          167.7947988
                        ],
                        "passed_time": 20.28994057,
                        "iteration": 418,
                        "remaining_time": 28.1347386,
                        "learn": [
                          217.5697012,
                          118.2626538
                        ]
                      },
                      {
                        "test": [
                          310.5275676,
                          167.7724098
                        ],
                        "passed_time": 20.33238396,
                        "iteration": 419,
                        "remaining_time": 28.07805404,
                        "learn": [
                          217.5382875,
                          118.2366091
                        ]
                      },
                      {
                        "test": [
                          310.4430085,
                          167.7015443
                        ],
                        "passed_time": 20.37574955,
                        "iteration": 420,
                        "remaining_time": 28.02270544,
                        "learn": [
                          217.4472818,
                          118.1673246
                        ]
                      },
                      {
                        "test": [
                          310.3419643,
                          167.6405052
                        ],
                        "passed_time": 20.41936765,
                        "iteration": 421,
                        "remaining_time": 27.96775949,
                        "learn": [
                          217.296485,
                          118.0542343
                        ]
                      },
                      {
                        "test": [
                          310.1875053,
                          167.5424008
                        ],
                        "passed_time": 20.46602819,
                        "iteration": 422,
                        "remaining_time": 27.91701717,
                        "learn": [
                          217.0771546,
                          117.9423979
                        ]
                      },
                      {
                        "test": [
                          309.9963213,
                          167.4429289
                        ],
                        "passed_time": 20.51241567,
                        "iteration": 423,
                        "remaining_time": 27.86592318,
                        "learn": [
                          216.9047116,
                          117.846536
                        ]
                      },
                      {
                        "test": [
                          309.884759,
                          167.3613575
                        ],
                        "passed_time": 20.55441517,
                        "iteration": 424,
                        "remaining_time": 27.80891464,
                        "learn": [
                          216.8171866,
                          117.7665613
                        ]
                      },
                      {
                        "test": [
                          309.8221451,
                          167.3276573
                        ],
                        "passed_time": 20.59524068,
                        "iteration": 425,
                        "remaining_time": 27.75039471,
                        "learn": [
                          216.6714083,
                          117.6740537
                        ]
                      },
                      {
                        "test": [
                          309.7965209,
                          167.3075939
                        ],
                        "passed_time": 20.63737219,
                        "iteration": 426,
                        "remaining_time": 27.69371022,
                        "learn": [
                          216.6420833,
                          117.650132
                        ]
                      },
                      {
                        "test": [
                          309.8308492,
                          167.2913572
                        ],
                        "passed_time": 20.68850082,
                        "iteration": 427,
                        "remaining_time": 27.64911792,
                        "learn": [
                          216.5569795,
                          117.5923218
                        ]
                      },
                      {
                        "test": [
                          309.8522896,
                          167.2815841
                        ],
                        "passed_time": 20.73073232,
                        "iteration": 428,
                        "remaining_time": 27.59265305,
                        "learn": [
                          216.5074502,
                          117.5382851
                        ]
                      },
                      {
                        "test": [
                          309.8270315,
                          167.2361008
                        ],
                        "passed_time": 20.77372912,
                        "iteration": 429,
                        "remaining_time": 27.53726883,
                        "learn": [
                          216.4197186,
                          117.4646552
                        ]
                      },
                      {
                        "test": [
                          309.8240095,
                          167.2230905
                        ],
                        "passed_time": 20.8154949,
                        "iteration": 430,
                        "remaining_time": 27.48031694,
                        "learn": [
                          216.3664232,
                          117.4205366
                        ]
                      },
                      {
                        "test": [
                          309.6881926,
                          167.2222742
                        ],
                        "passed_time": 20.85541981,
                        "iteration": 431,
                        "remaining_time": 27.42101494,
                        "learn": [
                          216.1132587,
                          117.2796004
                        ]
                      },
                      {
                        "test": [
                          309.5095707,
                          167.129607
                        ],
                        "passed_time": 20.94941955,
                        "iteration": 432,
                        "remaining_time": 27.43261174,
                        "learn": [
                          215.9518272,
                          117.1894381
                        ]
                      },
                      {
                        "test": [
                          309.1669953,
                          167.1189288
                        ],
                        "passed_time": 20.9941033,
                        "iteration": 433,
                        "remaining_time": 27.37940661,
                        "learn": [
                          215.6782623,
                          117.0562447
                        ]
                      },
                      {
                        "test": [
                          308.6142296,
                          166.9328196
                        ],
                        "passed_time": 21.03632519,
                        "iteration": 434,
                        "remaining_time": 27.32304306,
                        "learn": [
                          215.2169092,
                          116.8670724
                        ]
                      },
                      {
                        "test": [
                          308.4982487,
                          166.8559226
                        ],
                        "passed_time": 21.07995095,
                        "iteration": 435,
                        "remaining_time": 27.2685604,
                        "learn": [
                          215.1168715,
                          116.7985717
                        ]
                      },
                      {
                        "test": [
                          308.3835992,
                          166.7748392
                        ],
                        "passed_time": 21.12166593,
                        "iteration": 436,
                        "remaining_time": 27.21166572,
                        "learn": [
                          215.0401041,
                          116.7316779
                        ]
                      },
                      {
                        "test": [
                          308.3533802,
                          166.7201456
                        ],
                        "passed_time": 21.16875628,
                        "iteration": 437,
                        "remaining_time": 27.16173751,
                        "learn": [
                          215.0059921,
                          116.6806816
                        ]
                      },
                      {
                        "test": [
                          308.0576242,
                          166.6285997
                        ],
                        "passed_time": 21.21055804,
                        "iteration": 438,
                        "remaining_time": 27.10506392,
                        "learn": [
                          214.8217439,
                          116.6026472
                        ]
                      },
                      {
                        "test": [
                          307.9668754,
                          166.5756164
                        ],
                        "passed_time": 21.26252929,
                        "iteration": 439,
                        "remaining_time": 27.06140091,
                        "learn": [
                          214.683816,
                          116.499167
                        ]
                      },
                      {
                        "test": [
                          307.9541554,
                          166.5656691
                        ],
                        "passed_time": 21.30807861,
                        "iteration": 440,
                        "remaining_time": 27.00955996,
                        "learn": [
                          214.4995753,
                          116.3748464
                        ]
                      },
                      {
                        "test": [
                          307.9042689,
                          166.5221483
                        ],
                        "passed_time": 21.35182448,
                        "iteration": 441,
                        "remaining_time": 26.95547072,
                        "learn": [
                          214.4436314,
                          116.3328917
                        ]
                      },
                      {
                        "test": [
                          307.8606988,
                          166.4738853
                        ],
                        "passed_time": 21.39926884,
                        "iteration": 442,
                        "remaining_time": 26.90607843,
                        "learn": [
                          214.3887985,
                          116.2801642
                        ]
                      },
                      {
                        "test": [
                          307.6655654,
                          166.3661217
                        ],
                        "passed_time": 21.43993613,
                        "iteration": 443,
                        "remaining_time": 26.84820831,
                        "learn": [
                          214.2508855,
                          116.2042836
                        ]
                      },
                      {
                        "test": [
                          307.404877,
                          166.2758276
                        ],
                        "passed_time": 21.48120586,
                        "iteration": 444,
                        "remaining_time": 26.79116686,
                        "learn": [
                          213.9566124,
                          116.0726846
                        ]
                      },
                      {
                        "test": [
                          307.2932455,
                          166.2028621
                        ],
                        "passed_time": 21.52210369,
                        "iteration": 445,
                        "remaining_time": 26.73373418,
                        "learn": [
                          213.8786217,
                          116.0069457
                        ]
                      },
                      {
                        "test": [
                          307.048961,
                          166.218012
                        ],
                        "passed_time": 21.56344216,
                        "iteration": 446,
                        "remaining_time": 26.67692061,
                        "learn": [
                          213.6137347,
                          115.8835072
                        ]
                      },
                      {
                        "test": [
                          306.8855562,
                          166.2351057
                        ],
                        "passed_time": 21.61152638,
                        "iteration": 447,
                        "remaining_time": 26.62848786,
                        "learn": [
                          213.4188444,
                          115.7839192
                        ]
                      },
                      {
                        "test": [
                          306.7797385,
                          166.1664745
                        ],
                        "passed_time": 21.65723444,
                        "iteration": 448,
                        "remaining_time": 26.5771407,
                        "learn": [
                          213.3455751,
                          115.7218101
                        ]
                      },
                      {
                        "test": [
                          306.7254687,
                          166.140625
                        ],
                        "passed_time": 21.69860528,
                        "iteration": 449,
                        "remaining_time": 26.52051756,
                        "learn": [
                          213.1993857,
                          115.631497
                        ]
                      },
                      {
                        "test": [
                          306.4493123,
                          166.1035161
                        ],
                        "passed_time": 21.74048532,
                        "iteration": 450,
                        "remaining_time": 26.4645819,
                        "learn": [
                          213.0095356,
                          115.5367744
                        ]
                      },
                      {
                        "test": [
                          306.1858373,
                          166.0700969
                        ],
                        "passed_time": 21.78222258,
                        "iteration": 451,
                        "remaining_time": 26.40853534,
                        "learn": [
                          212.8285033,
                          115.4481859
                        ]
                      },
                      {
                        "test": [
                          306.1338145,
                          166.0289613
                        ],
                        "passed_time": 21.82709932,
                        "iteration": 452,
                        "remaining_time": 26.35634288,
                        "learn": [
                          212.7689242,
                          115.4068093
                        ]
                      },
                      {
                        "test": [
                          306.1199514,
                          166.012651
                        ],
                        "passed_time": 21.8730137,
                        "iteration": 453,
                        "remaining_time": 26.30543057,
                        "learn": [
                          212.734299,
                          115.3690677
                        ]
                      },
                      {
                        "test": [
                          306.0737379,
                          165.9728855
                        ],
                        "passed_time": 21.95487962,
                        "iteration": 454,
                        "remaining_time": 26.29760307,
                        "learn": [
                          212.6818536,
                          115.3288217
                        ]
                      },
                      {
                        "test": [
                          306.0279534,
                          165.9289813
                        ],
                        "passed_time": 22.00028291,
                        "iteration": 455,
                        "remaining_time": 26.24595154,
                        "learn": [
                          212.6241343,
                          115.2799106
                        ]
                      },
                      {
                        "test": [
                          305.8501407,
                          165.8644415
                        ],
                        "passed_time": 22.04533948,
                        "iteration": 456,
                        "remaining_time": 26.19391541,
                        "learn": [
                          212.4581247,
                          115.1984564
                        ]
                      },
                      {
                        "test": [
                          305.7856718,
                          165.8178041
                        ],
                        "passed_time": 22.08936406,
                        "iteration": 457,
                        "remaining_time": 26.14068847,
                        "learn": [
                          212.3896844,
                          115.1519872
                        ]
                      },
                      {
                        "test": [
                          305.6585971,
                          165.7429283
                        ],
                        "passed_time": 22.13283512,
                        "iteration": 458,
                        "remaining_time": 26.08684923,
                        "learn": [
                          212.1689187,
                          115.0233463
                        ]
                      },
                      {
                        "test": [
                          305.6321102,
                          165.7364159
                        ],
                        "passed_time": 22.17951085,
                        "iteration": 459,
                        "remaining_time": 26.03681708,
                        "learn": [
                          212.1376912,
                          114.9911547
                        ]
                      },
                      {
                        "test": [
                          305.6059358,
                          165.7038159
                        ],
                        "passed_time": 22.22203879,
                        "iteration": 460,
                        "remaining_time": 25.98194991,
                        "learn": [
                          212.0587855,
                          114.9320237
                        ]
                      },
                      {
                        "test": [
                          304.8435316,
                          165.4478367
                        ],
                        "passed_time": 22.27743994,
                        "iteration": 461,
                        "remaining_time": 25.94212703,
                        "learn": [
                          211.7352439,
                          114.8271213
                        ]
                      },
                      {
                        "test": [
                          304.6050687,
                          165.3672359
                        ],
                        "passed_time": 22.31818146,
                        "iteration": 462,
                        "remaining_time": 25.88523422,
                        "learn": [
                          211.5738305,
                          114.7385304
                        ]
                      },
                      {
                        "test": [
                          304.6278932,
                          165.3502224
                        ],
                        "passed_time": 22.35944046,
                        "iteration": 463,
                        "remaining_time": 25.82900881,
                        "learn": [
                          211.5098124,
                          114.6745025
                        ]
                      },
                      {
                        "test": [
                          304.6116354,
                          165.3417729
                        ],
                        "passed_time": 22.40312823,
                        "iteration": 464,
                        "remaining_time": 25.77564216,
                        "learn": [
                          211.4819323,
                          114.6542649
                        ]
                      },
                      {
                        "test": [
                          304.5530005,
                          165.3117367
                        ],
                        "passed_time": 22.44391199,
                        "iteration": 465,
                        "remaining_time": 25.71898927,
                        "learn": [
                          211.4025195,
                          114.593097
                        ]
                      },
                      {
                        "test": [
                          304.5290553,
                          165.2752759
                        ],
                        "passed_time": 22.49059491,
                        "iteration": 466,
                        "remaining_time": 25.66913724,
                        "learn": [
                          211.3804108,
                          114.5566035
                        ]
                      },
                      {
                        "test": [
                          304.5064316,
                          165.2594029
                        ],
                        "passed_time": 22.53949406,
                        "iteration": 467,
                        "remaining_time": 25.62181804,
                        "learn": [
                          211.3375979,
                          114.5218588
                        ]
                      },
                      {
                        "test": [
                          304.5084695,
                          165.2497559
                        ],
                        "passed_time": 22.57890225,
                        "iteration": 468,
                        "remaining_time": 25.56374647,
                        "learn": [
                          211.1657692,
                          114.4146924
                        ]
                      },
                      {
                        "test": [
                          304.4441473,
                          165.2008896
                        ],
                        "passed_time": 22.62248452,
                        "iteration": 469,
                        "remaining_time": 25.51046127,
                        "learn": [
                          211.0863132,
                          114.3673975
                        ]
                      },
                      {
                        "test": [
                          304.3999951,
                          165.1504384
                        ],
                        "passed_time": 22.66576294,
                        "iteration": 470,
                        "remaining_time": 25.456876,
                        "learn": [
                          211.0388455,
                          114.3169032
                        ]
                      },
                      {
                        "test": [
                          304.3939374,
                          165.1396688
                        ],
                        "passed_time": 22.71067895,
                        "iteration": 471,
                        "remaining_time": 25.40516628,
                        "learn": [
                          210.9349982,
                          114.256513
                        ]
                      },
                      {
                        "test": [
                          304.2967625,
                          165.080078
                        ],
                        "passed_time": 22.75203012,
                        "iteration": 472,
                        "remaining_time": 25.34951347,
                        "learn": [
                          210.8699143,
                          114.2024261
                        ]
                      },
                      {
                        "test": [
                          304.2024068,
                          165.0210759
                        ],
                        "passed_time": 22.79781016,
                        "iteration": 473,
                        "remaining_time": 25.29883575,
                        "learn": [
                          210.6937916,
                          114.1054891
                        ]
                      },
                      {
                        "test": [
                          304.1593674,
                          164.979332
                        ],
                        "passed_time": 22.84039943,
                        "iteration": 474,
                        "remaining_time": 25.244652,
                        "learn": [
                          210.642433,
                          114.0607504
                        ]
                      },
                      {
                        "test": [
                          303.9505854,
                          164.9243537
                        ],
                        "passed_time": 22.88201863,
                        "iteration": 475,
                        "remaining_time": 25.18944908,
                        "learn": [
                          210.3292115,
                          113.9056476
                        ]
                      },
                      {
                        "test": [
                          303.8331629,
                          164.8552891
                        ],
                        "passed_time": 22.95753999,
                        "iteration": 476,
                        "remaining_time": 25.17147466,
                        "learn": [
                          210.1227141,
                          113.7861738
                        ]
                      },
                      {
                        "test": [
                          303.8354642,
                          164.8472029
                        ],
                        "passed_time": 23.01514531,
                        "iteration": 477,
                        "remaining_time": 25.13369425,
                        "learn": [
                          209.9672528,
                          113.6912682
                        ]
                      },
                      {
                        "test": [
                          303.7888661,
                          164.8137091
                        ],
                        "passed_time": 23.05756748,
                        "iteration": 478,
                        "remaining_time": 25.07931662,
                        "learn": [
                          209.9109846,
                          113.6480948
                        ]
                      },
                      {
                        "test": [
                          303.812205,
                          164.7999047
                        ],
                        "passed_time": 23.09907349,
                        "iteration": 479,
                        "remaining_time": 25.02399628,
                        "learn": [
                          209.8516842,
                          113.5902033
                        ]
                      },
                      {
                        "test": [
                          303.7992885,
                          164.7715188
                        ],
                        "passed_time": 23.14753169,
                        "iteration": 480,
                        "remaining_time": 24.97623482,
                        "learn": [
                          209.8149647,
                          113.5441667
                        ]
                      },
                      {
                        "test": [
                          303.7532765,
                          164.8072436
                        ],
                        "passed_time": 23.19358429,
                        "iteration": 481,
                        "remaining_time": 24.92588519,
                        "learn": [
                          209.6819823,
                          113.4616472
                        ]
                      },
                      {
                        "test": [
                          303.5138951,
                          164.759831
                        ],
                        "passed_time": 23.23589654,
                        "iteration": 482,
                        "remaining_time": 24.87154972,
                        "learn": [
                          209.5326358,
                          113.3875603
                        ]
                      },
                      {
                        "test": [
                          303.3366252,
                          164.7031987
                        ],
                        "passed_time": 23.28841947,
                        "iteration": 483,
                        "remaining_time": 24.82814968,
                        "learn": [
                          209.3473124,
                          113.3070602
                        ]
                      },
                      {
                        "test": [
                          303.2791121,
                          164.6707101
                        ],
                        "passed_time": 23.33148271,
                        "iteration": 484,
                        "remaining_time": 24.7746672,
                        "learn": [
                          209.2574289,
                          113.2393535
                        ]
                      },
                      {
                        "test": [
                          303.2385282,
                          164.6250859
                        ],
                        "passed_time": 23.37475917,
                        "iteration": 485,
                        "remaining_time": 24.72145311,
                        "learn": [
                          209.2137617,
                          113.1929105
                        ]
                      },
                      {
                        "test": [
                          303.1197852,
                          164.5855929
                        ],
                        "passed_time": 23.41908346,
                        "iteration": 486,
                        "remaining_time": 24.6693836,
                        "learn": [
                          209.0543399,
                          113.1090468
                        ]
                      },
                      {
                        "test": [
                          302.9498879,
                          164.5313452
                        ],
                        "passed_time": 23.46363531,
                        "iteration": 487,
                        "remaining_time": 24.61758459,
                        "learn": [
                          208.8781965,
                          113.0337779
                        ]
                      },
                      {
                        "test": [
                          302.5028019,
                          164.3893492
                        ],
                        "passed_time": 23.50648698,
                        "iteration": 488,
                        "remaining_time": 24.56403854,
                        "learn": [
                          208.5039412,
                          112.8852841
                        ]
                      },
                      {
                        "test": [
                          302.5440739,
                          164.3899255
                        ],
                        "passed_time": 23.54812734,
                        "iteration": 489,
                        "remaining_time": 24.50927539,
                        "learn": [
                          208.4668696,
                          112.8467351
                        ]
                      },
                      {
                        "test": [
                          302.503279,
                          164.3623525
                        ],
                        "passed_time": 23.59066972,
                        "iteration": 490,
                        "remaining_time": 24.45550079,
                        "learn": [
                          208.4211653,
                          112.8145703
                        ]
                      },
                      {
                        "test": [
                          302.4735529,
                          164.3384912
                        ],
                        "passed_time": 23.6358842,
                        "iteration": 491,
                        "remaining_time": 24.40453084,
                        "learn": [
                          208.3862327,
                          112.7859735
                        ]
                      },
                      {
                        "test": [
                          302.3984945,
                          164.2976315
                        ],
                        "passed_time": 23.67995165,
                        "iteration": 492,
                        "remaining_time": 24.35240463,
                        "learn": [
                          208.2681265,
                          112.7000153
                        ]
                      },
                      {
                        "test": [
                          302.2969551,
                          164.2794981
                        ],
                        "passed_time": 23.72355206,
                        "iteration": 493,
                        "remaining_time": 24.29983268,
                        "learn": [
                          208.1098018,
                          112.6102872
                        ]
                      },
                      {
                        "test": [
                          302.0178307,
                          164.1711213
                        ],
                        "passed_time": 23.76963919,
                        "iteration": 494,
                        "remaining_time": 24.24983392,
                        "learn": [
                          207.8162188,
                          112.483845
                        ]
                      },
                      {
                        "test": [
                          301.9909288,
                          164.1266321
                        ],
                        "passed_time": 23.81261712,
                        "iteration": 495,
                        "remaining_time": 24.19669159,
                        "learn": [
                          207.7876555,
                          112.4417831
                        ]
                      },
                      {
                        "test": [
                          301.9810914,
                          164.1231217
                        ],
                        "passed_time": 23.86074896,
                        "iteration": 496,
                        "remaining_time": 24.14880629,
                        "learn": [
                          207.7211538,
                          112.3951789
                        ]
                      },
                      {
                        "test": [
                          301.9376381,
                          164.0958161
                        ],
                        "passed_time": 23.90431294,
                        "iteration": 497,
                        "remaining_time": 24.09631545,
                        "learn": [
                          207.6718125,
                          112.361951
                        ]
                      },
                      {
                        "test": [
                          301.8745583,
                          164.0553552
                        ],
                        "passed_time": 23.96943973,
                        "iteration": 498,
                        "remaining_time": 24.06550963,
                        "learn": [
                          207.6199303,
                          112.3248014
                        ]
                      },
                      {
                        "test": [
                          301.689971,
                          163.991462
                        ],
                        "passed_time": 24.02992174,
                        "iteration": 499,
                        "remaining_time": 24.02992174,
                        "learn": [
                          207.4678428,
                          112.2629584
                        ]
                      },
                      {
                        "test": [
                          301.4802696,
                          163.9267916
                        ],
                        "passed_time": 24.07441817,
                        "iteration": 500,
                        "remaining_time": 23.97831271,
                        "learn": [
                          207.3271746,
                          112.1861035
                        ]
                      },
                      {
                        "test": [
                          301.2611559,
                          163.8846881
                        ],
                        "passed_time": 24.11363187,
                        "iteration": 501,
                        "remaining_time": 23.92149138,
                        "learn": [
                          207.0937787,
                          112.0702637
                        ]
                      },
                      {
                        "test": [
                          301.2013156,
                          163.8472904
                        ],
                        "passed_time": 24.15604609,
                        "iteration": 502,
                        "remaining_time": 23.8679024,
                        "learn": [
                          207.044873,
                          112.0355872
                        ]
                      },
                      {
                        "test": [
                          301.1438394,
                          163.8073491
                        ],
                        "passed_time": 24.19848281,
                        "iteration": 503,
                        "remaining_time": 23.81437991,
                        "learn": [
                          206.9620957,
                          111.9852661
                        ]
                      },
                      {
                        "test": [
                          301.0987785,
                          163.7711797
                        ],
                        "passed_time": 24.24298428,
                        "iteration": 504,
                        "remaining_time": 23.76292518,
                        "learn": [
                          206.9071637,
                          111.9392667
                        ]
                      },
                      {
                        "test": [
                          300.8788268,
                          163.6188836
                        ],
                        "passed_time": 24.30209532,
                        "iteration": 505,
                        "remaining_time": 23.72576104,
                        "learn": [
                          206.8160611,
                          111.8895983
                        ]
                      },
                      {
                        "test": [
                          300.8240225,
                          163.594393
                        ],
                        "passed_time": 24.34405989,
                        "iteration": 506,
                        "remaining_time": 23.67183733,
                        "learn": [
                          206.7054858,
                          111.8251326
                        ]
                      },
                      {
                        "test": [
                          300.8554773,
                          163.594556
                        ],
                        "passed_time": 24.39317162,
                        "iteration": 507,
                        "remaining_time": 23.62488275,
                        "learn": [
                          206.6581924,
                          111.7838766
                        ]
                      },
                      {
                        "test": [
                          300.7758184,
                          163.5515705
                        ],
                        "passed_time": 24.43802069,
                        "iteration": 508,
                        "remaining_time": 23.57380778,
                        "learn": [
                          206.5142709,
                          111.6955129
                        ]
                      },
                      {
                        "test": [
                          300.7352532,
                          163.5269486
                        ],
                        "passed_time": 24.48051169,
                        "iteration": 509,
                        "remaining_time": 23.52049162,
                        "learn": [
                          206.4681811,
                          111.6646011
                        ]
                      },
                      {
                        "test": [
                          300.4691178,
                          163.4470176
                        ],
                        "passed_time": 24.52603024,
                        "iteration": 510,
                        "remaining_time": 23.47011505,
                        "learn": [
                          206.2821185,
                          111.6012318
                        ]
                      },
                      {
                        "test": [
                          300.4054177,
                          163.4124166
                        ],
                        "passed_time": 24.56837773,
                        "iteration": 511,
                        "remaining_time": 23.41673502,
                        "learn": [
                          206.1745582,
                          111.5219192
                        ]
                      },
                      {
                        "test": [
                          300.351446,
                          163.3754082
                        ],
                        "passed_time": 24.61313488,
                        "iteration": 512,
                        "remaining_time": 23.36568555,
                        "learn": [
                          206.0975164,
                          111.4760588
                        ]
                      },
                      {
                        "test": [
                          300.1542023,
                          163.345532
                        ],
                        "passed_time": 24.65507214,
                        "iteration": 513,
                        "remaining_time": 23.31199428,
                        "learn": [
                          205.8776216,
                          111.3669113
                        ]
                      },
                      {
                        "test": [
                          300.0996634,
                          163.3115292
                        ],
                        "passed_time": 24.6973965,
                        "iteration": 514,
                        "remaining_time": 23.25871321,
                        "learn": [
                          205.8329167,
                          111.335443
                        ]
                      },
                      {
                        "test": [
                          300.0774887,
                          163.2793816
                        ],
                        "passed_time": 24.74703032,
                        "iteration": 515,
                        "remaining_time": 23.21233077,
                        "learn": [
                          205.8020051,
                          111.301689
                        ]
                      },
                      {
                        "test": [
                          300.0451388,
                          163.2553875
                        ],
                        "passed_time": 24.79602482,
                        "iteration": 516,
                        "remaining_time": 23.16533847,
                        "learn": [
                          205.7650249,
                          111.2720841
                        ]
                      },
                      {
                        "test": [
                          299.808197,
                          163.2311209
                        ],
                        "passed_time": 24.83840839,
                        "iteration": 517,
                        "remaining_time": 23.11218696,
                        "learn": [
                          205.6014571,
                          111.1953153
                        ]
                      },
                      {
                        "test": [
                          299.744813,
                          163.198497
                        ],
                        "passed_time": 24.88065142,
                        "iteration": 518,
                        "remaining_time": 23.0589467,
                        "learn": [
                          205.5687991,
                          111.1651373
                        ]
                      },
                      {
                        "test": [
                          299.6833291,
                          163.1836181
                        ],
                        "passed_time": 24.92265733,
                        "iteration": 519,
                        "remaining_time": 23.00552984,
                        "learn": [
                          205.4240142,
                          111.0858523
                        ]
                      },
                      {
                        "test": [
                          299.6448023,
                          163.157536
                        ],
                        "passed_time": 24.97237251,
                        "iteration": 520,
                        "remaining_time": 22.95924459,
                        "learn": [
                          205.379373,
                          111.0528364
                        ]
                      },
                      {
                        "test": [
                          299.3939408,
                          163.0729525
                        ],
                        "passed_time": 25.1245708,
                        "iteration": 521,
                        "remaining_time": 23.00679089,
                        "learn": [
                          205.2131802,
                          110.9802934
                        ]
                      },
                      {
                        "test": [
                          299.3550019,
                          163.0439803
                        ],
                        "passed_time": 25.16799689,
                        "iteration": 522,
                        "remaining_time": 22.9543681,
                        "learn": [
                          205.165022,
                          110.9394358
                        ]
                      },
                      {
                        "test": [
                          299.1096985,
                          162.9514441
                        ],
                        "passed_time": 25.21670691,
                        "iteration": 523,
                        "remaining_time": 22.90677956,
                        "learn": [
                          204.9054683,
                          110.8299531
                        ]
                      },
                      {
                        "test": [
                          298.9856889,
                          162.9409608
                        ],
                        "passed_time": 25.26407212,
                        "iteration": 524,
                        "remaining_time": 22.85797001,
                        "learn": [
                          204.7725284,
                          110.7627442
                        ]
                      },
                      {
                        "test": [
                          298.9778519,
                          162.9231223
                        ],
                        "passed_time": 25.30766124,
                        "iteration": 525,
                        "remaining_time": 22.80576317,
                        "learn": [
                          204.6930231,
                          110.7131817
                        ]
                      },
                      {
                        "test": [
                          298.9584441,
                          162.911204
                        ],
                        "passed_time": 25.3503191,
                        "iteration": 526,
                        "remaining_time": 22.7527532,
                        "learn": [
                          204.6506314,
                          110.6828973
                        ]
                      },
                      {
                        "test": [
                          298.9181413,
                          162.8875925
                        ],
                        "passed_time": 25.39375257,
                        "iteration": 527,
                        "remaining_time": 22.70047578,
                        "learn": [
                          204.578622,
                          110.6269773
                        ]
                      },
                      {
                        "test": [
                          298.8775934,
                          162.8514626
                        ],
                        "passed_time": 25.44701011,
                        "iteration": 528,
                        "remaining_time": 22.65697876,
                        "learn": [
                          204.543708,
                          110.5953733
                        ]
                      },
                      {
                        "test": [
                          298.8767299,
                          162.849623
                        ],
                        "passed_time": 25.49114078,
                        "iteration": 529,
                        "remaining_time": 22.60535126,
                        "learn": [
                          204.5088375,
                          110.565199
                        ]
                      },
                      {
                        "test": [
                          298.7530081,
                          162.769155
                        ],
                        "passed_time": 25.53462811,
                        "iteration": 530,
                        "remaining_time": 22.55318377,
                        "learn": [
                          204.3498803,
                          110.4766976
                        ]
                      },
                      {
                        "test": [
                          298.7021882,
                          162.7412657
                        ],
                        "passed_time": 25.57743651,
                        "iteration": 531,
                        "remaining_time": 22.50045167,
                        "learn": [
                          204.2597581,
                          110.4085358
                        ]
                      },
                      {
                        "test": [
                          298.6865347,
                          162.7265958
                        ],
                        "passed_time": 25.62002368,
                        "iteration": 532,
                        "remaining_time": 22.44756296,
                        "learn": [
                          204.1134343,
                          110.3172476
                        ]
                      },
                      {
                        "test": [
                          298.6513902,
                          162.701972
                        ],
                        "passed_time": 25.66332462,
                        "iteration": 533,
                        "remaining_time": 22.39533572,
                        "learn": [
                          203.9862362,
                          110.2422911
                        ]
                      },
                      {
                        "test": [
                          298.6400302,
                          162.6843186
                        ],
                        "passed_time": 25.70525241,
                        "iteration": 534,
                        "remaining_time": 22.34194836,
                        "learn": [
                          203.9598371,
                          110.2131787
                        ]
                      },
                      {
                        "test": [
                          298.6102214,
                          162.6646273
                        ],
                        "passed_time": 25.74787906,
                        "iteration": 535,
                        "remaining_time": 22.28920874,
                        "learn": [
                          203.9114055,
                          110.1864981
                        ]
                      },
                      {
                        "test": [
                          298.5753419,
                          162.6458883
                        ],
                        "passed_time": 25.79022154,
                        "iteration": 536,
                        "remaining_time": 22.23626177,
                        "learn": [
                          203.8721892,
                          110.1600067
                        ]
                      },
                      {
                        "test": [
                          298.4977681,
                          162.6040719
                        ],
                        "passed_time": 25.83400144,
                        "iteration": 537,
                        "remaining_time": 22.1845886,
                        "learn": [
                          203.8076356,
                          110.1144379
                        ]
                      },
                      {
                        "test": [
                          298.4733465,
                          162.5870955
                        ],
                        "passed_time": 25.88388366,
                        "iteration": 538,
                        "remaining_time": 22.13816395,
                        "learn": [
                          203.7825176,
                          110.0921498
                        ]
                      },
                      {
                        "test": [
                          298.4383484,
                          162.5538441
                        ],
                        "passed_time": 25.93110014,
                        "iteration": 539,
                        "remaining_time": 22.08945567,
                        "learn": [
                          203.7477404,
                          110.0608167
                        ]
                      },
                      {
                        "test": [
                          297.845024,
                          162.3697171
                        ],
                        "passed_time": 25.97249852,
                        "iteration": 540,
                        "remaining_time": 22.03581667,
                        "learn": [
                          203.4984928,
                          109.9822927
                        ]
                      },
                      {
                        "test": [
                          297.8092027,
                          162.3499831
                        ],
                        "passed_time": 26.01687352,
                        "iteration": 541,
                        "remaining_time": 21.98473814,
                        "learn": [
                          203.4330167,
                          109.9318771
                        ]
                      },
                      {
                        "test": [
                          297.6800158,
                          162.3116904
                        ],
                        "passed_time": 26.06056216,
                        "iteration": 542,
                        "remaining_time": 21.93310665,
                        "learn": [
                          203.3353036,
                          109.8800778
                        ]
                      },
                      {
                        "test": [
                          297.4705925,
                          162.173094
                        ],
                        "passed_time": 26.15749017,
                        "iteration": 543,
                        "remaining_time": 21.92613147,
                        "learn": [
                          203.2472632,
                          109.8326109
                        ]
                      },
                      {
                        "test": [
                          297.4578839,
                          162.1612108
                        ],
                        "passed_time": 26.19953517,
                        "iteration": 544,
                        "remaining_time": 21.87300643,
                        "learn": [
                          203.1075596,
                          109.74695
                        ]
                      },
                      {
                        "test": [
                          297.1896717,
                          162.0725876
                        ],
                        "passed_time": 26.24113867,
                        "iteration": 545,
                        "remaining_time": 21.81955486,
                        "learn": [
                          202.9398179,
                          109.6625245
                        ]
                      },
                      {
                        "test": [
                          297.1594515,
                          162.1372147
                        ],
                        "passed_time": 26.28868407,
                        "iteration": 546,
                        "remaining_time": 21.77106743,
                        "learn": [
                          202.753696,
                          109.5659967
                        ]
                      },
                      {
                        "test": [
                          297.1560553,
                          162.113028
                        ],
                        "passed_time": 26.33100228,
                        "iteration": 547,
                        "remaining_time": 21.71827195,
                        "learn": [
                          202.7067431,
                          109.5259098
                        ]
                      },
                      {
                        "test": [
                          296.9635073,
                          162.0515435
                        ],
                        "passed_time": 26.3765564,
                        "iteration": 548,
                        "remaining_time": 21.66817292,
                        "learn": [
                          202.6051862,
                          109.4792754
                        ]
                      },
                      {
                        "test": [
                          296.7106529,
                          161.9401519
                        ],
                        "passed_time": 26.42469829,
                        "iteration": 549,
                        "remaining_time": 21.6202077,
                        "learn": [
                          202.4446174,
                          109.4085013
                        ]
                      },
                      {
                        "test": [
                          296.6505423,
                          161.9075928
                        ],
                        "passed_time": 26.46605939,
                        "iteration": 550,
                        "remaining_time": 21.56671627,
                        "learn": [
                          202.3607835,
                          109.3618547
                        ]
                      },
                      {
                        "test": [
                          296.5157797,
                          161.8213951
                        ],
                        "passed_time": 26.50686247,
                        "iteration": 551,
                        "remaining_time": 21.51281592,
                        "learn": [
                          202.2689856,
                          109.3005989
                        ]
                      },
                      {
                        "test": [
                          296.0395487,
                          161.6057979
                        ],
                        "passed_time": 26.54744621,
                        "iteration": 552,
                        "remaining_time": 21.45878564,
                        "learn": [
                          202.1403487,
                          109.2472072
                        ]
                      },
                      {
                        "test": [
                          295.859358,
                          161.4935477
                        ],
                        "passed_time": 26.59130417,
                        "iteration": 553,
                        "remaining_time": 21.40743982,
                        "learn": [
                          201.8524761,
                          109.0793707
                        ]
                      },
                      {
                        "test": [
                          295.8046574,
                          161.4827592
                        ],
                        "passed_time": 26.6345295,
                        "iteration": 554,
                        "remaining_time": 21.35561375,
                        "learn": [
                          201.7190927,
                          109.0087264
                        ]
                      },
                      {
                        "test": [
                          295.7280924,
                          161.5149513
                        ],
                        "passed_time": 26.68102267,
                        "iteration": 555,
                        "remaining_time": 21.30642818,
                        "learn": [
                          201.6014216,
                          108.9544313
                        ]
                      },
                      {
                        "test": [
                          295.5626575,
                          161.4568162
                        ],
                        "passed_time": 26.72534779,
                        "iteration": 556,
                        "remaining_time": 21.25552795,
                        "learn": [
                          201.4532673,
                          108.8831032
                        ]
                      },
                      {
                        "test": [
                          295.1245096,
                          161.272121
                        ],
                        "passed_time": 26.77136259,
                        "iteration": 557,
                        "remaining_time": 21.20598972,
                        "learn": [
                          201.2888309,
                          108.8098782
                        ]
                      },
                      {
                        "test": [
                          295.0960885,
                          161.2479191
                        ],
                        "passed_time": 26.81833478,
                        "iteration": 558,
                        "remaining_time": 21.15721939,
                        "learn": [
                          201.1774013,
                          108.7391026
                        ]
                      },
                      {
                        "test": [
                          295.0727824,
                          161.229837
                        ],
                        "passed_time": 26.8617704,
                        "iteration": 559,
                        "remaining_time": 21.10567674,
                        "learn": [
                          201.1497284,
                          108.7170904
                        ]
                      },
                      {
                        "test": [
                          295.0491096,
                          161.1866883
                        ],
                        "passed_time": 26.90667983,
                        "iteration": 560,
                        "remaining_time": 21.0553163,
                        "learn": [
                          201.1189345,
                          108.671548
                        ]
                      },
                      {
                        "test": [
                          295.0211294,
                          161.1727364
                        ],
                        "passed_time": 26.94887139,
                        "iteration": 561,
                        "remaining_time": 21.00285707,
                        "learn": [
                          201.0859322,
                          108.6491928
                        ]
                      },
                      {
                        "test": [
                          294.9976195,
                          161.1560306
                        ],
                        "passed_time": 26.99225653,
                        "iteration": 562,
                        "remaining_time": 20.95136075,
                        "learn": [
                          201.0586857,
                          108.6271744
                        ]
                      },
                      {
                        "test": [
                          294.9708775,
                          161.1324092
                        ],
                        "passed_time": 27.04061325,
                        "iteration": 563,
                        "remaining_time": 20.90373648,
                        "learn": [
                          201.0156681,
                          108.5893445
                        ]
                      },
                      {
                        "test": [
                          294.9477644,
                          161.1065733
                        ],
                        "passed_time": 27.08246111,
                        "iteration": 564,
                        "remaining_time": 20.85109838,
                        "learn": [
                          200.8301697,
                          108.4813247
                        ]
                      },
                      {
                        "test": [
                          294.9316027,
                          161.0828183
                        ],
                        "passed_time": 27.15542268,
                        "iteration": 565,
                        "remaining_time": 20.82235591,
                        "learn": [
                          200.8132098,
                          108.4607239
                        ]
                      },
                      {
                        "test": [
                          294.9133359,
                          161.0726046
                        ],
                        "passed_time": 27.21290786,
                        "iteration": 566,
                        "remaining_time": 20.78163863,
                        "learn": [
                          200.7753819,
                          108.4320344
                        ]
                      },
                      {
                        "test": [
                          294.8534183,
                          161.0317137
                        ],
                        "passed_time": 27.2620926,
                        "iteration": 567,
                        "remaining_time": 20.7345493,
                        "learn": [
                          200.6758176,
                          108.3800866
                        ]
                      },
                      {
                        "test": [
                          294.8354384,
                          161.0098078
                        ],
                        "passed_time": 27.31750282,
                        "iteration": 568,
                        "remaining_time": 20.69216822,
                        "learn": [
                          200.6574894,
                          108.360236
                        ]
                      },
                      {
                        "test": [
                          294.7895096,
                          160.9957617
                        ],
                        "passed_time": 27.3592655,
                        "iteration": 569,
                        "remaining_time": 20.6394459,
                        "learn": [
                          200.5708596,
                          108.3107761
                        ]
                      },
                      {
                        "test": [
                          294.7281502,
                          160.9497494
                        ],
                        "passed_time": 27.40347793,
                        "iteration": 570,
                        "remaining_time": 20.5886025,
                        "learn": [
                          200.4780176,
                          108.2459027
                        ]
                      },
                      {
                        "test": [
                          294.6703292,
                          160.9247766
                        ],
                        "passed_time": 27.44881902,
                        "iteration": 571,
                        "remaining_time": 20.53862682,
                        "learn": [
                          200.3658805,
                          108.1828275
                        ]
                      },
                      {
                        "test": [
                          294.6471238,
                          160.9084572
                        ],
                        "passed_time": 27.49900127,
                        "iteration": 572,
                        "remaining_time": 20.49227495,
                        "learn": [
                          200.3398031,
                          108.1620974
                        ]
                      },
                      {
                        "test": [
                          294.5497593,
                          160.8445312
                        ],
                        "passed_time": 27.5412519,
                        "iteration": 573,
                        "remaining_time": 20.44002319,
                        "learn": [
                          200.212543,
                          108.0911991
                        ]
                      },
                      {
                        "test": [
                          294.5281659,
                          160.8045007
                        ],
                        "passed_time": 27.58516078,
                        "iteration": 574,
                        "remaining_time": 20.38903188,
                        "learn": [
                          200.1845426,
                          108.0497097
                        ]
                      },
                      {
                        "test": [
                          294.4147677,
                          160.7683824
                        ],
                        "passed_time": 27.6292662,
                        "iteration": 575,
                        "remaining_time": 20.33820984,
                        "learn": [
                          200.0954479,
                          108.0072188
                        ]
                      },
                      {
                        "test": [
                          294.3887904,
                          160.7554933
                        ],
                        "passed_time": 27.67149107,
                        "iteration": 576,
                        "remaining_time": 20.28603245,
                        "learn": [
                          200.0659028,
                          107.9877549
                        ]
                      },
                      {
                        "test": [
                          294.3674128,
                          160.7410391
                        ],
                        "passed_time": 27.71985024,
                        "iteration": 577,
                        "remaining_time": 20.23836817,
                        "learn": [
                          200.0419736,
                          107.9688291
                        ]
                      },
                      {
                        "test": [
                          294.3525072,
                          160.7288002
                        ],
                        "passed_time": 27.76138254,
                        "iteration": 578,
                        "remaining_time": 20.18573756,
                        "learn": [
                          200.0032613,
                          107.9264618
                        ]
                      },
                      {
                        "test": [
                          294.3641924,
                          160.7428231
                        ],
                        "passed_time": 27.80318013,
                        "iteration": 579,
                        "remaining_time": 20.13333733,
                        "learn": [
                          199.8744255,
                          107.8442847
                        ]
                      },
                      {
                        "test": [
                          294.3470746,
                          160.8099394
                        ],
                        "passed_time": 27.84839962,
                        "iteration": 580,
                        "remaining_time": 20.08344137,
                        "learn": [
                          199.7000071,
                          107.7550305
                        ]
                      },
                      {
                        "test": [
                          294.3066787,
                          160.7954683
                        ],
                        "passed_time": 27.89326432,
                        "iteration": 581,
                        "remaining_time": 20.03330667,
                        "learn": [
                          199.6204543,
                          107.7085077
                        ]
                      },
                      {
                        "test": [
                          294.0375293,
                          160.6604545
                        ],
                        "passed_time": 27.94245679,
                        "iteration": 582,
                        "remaining_time": 19.98628556,
                        "learn": [
                          199.3750909,
                          107.616292
                        ]
                      },
                      {
                        "test": [
                          294.0340025,
                          160.6461555
                        ],
                        "passed_time": 27.98415432,
                        "iteration": 583,
                        "remaining_time": 19.93391814,
                        "learn": [
                          199.3068474,
                          107.5718188
                        ]
                      },
                      {
                        "test": [
                          294.009146,
                          160.6342345
                        ],
                        "passed_time": 28.0269449,
                        "iteration": 584,
                        "remaining_time": 19.88236262,
                        "learn": [
                          199.2794439,
                          107.5542037
                        ]
                      },
                      {
                        "test": [
                          293.9085248,
                          160.6035912
                        ],
                        "passed_time": 28.06915341,
                        "iteration": 585,
                        "remaining_time": 19.83042579,
                        "learn": [
                          199.2039778,
                          107.5185492
                        ]
                      },
                      {
                        "test": [
                          293.8737049,
                          160.5757545
                        ],
                        "passed_time": 28.11599631,
                        "iteration": 586,
                        "remaining_time": 19.78178275,
                        "learn": [
                          199.1491767,
                          107.4873344
                        ]
                      },
                      {
                        "test": [
                          293.8368753,
                          160.5495665
                        ],
                        "passed_time": 28.19690657,
                        "iteration": 587,
                        "remaining_time": 19.75701616,
                        "learn": [
                          199.0796709,
                          107.4480844
                        ]
                      },
                      {
                        "test": [
                          293.6262338,
                          160.4946206
                        ],
                        "passed_time": 28.25282465,
                        "iteration": 588,
                        "remaining_time": 19.71461958,
                        "learn": [
                          198.9371419,
                          107.3978824
                        ]
                      },
                      {
                        "test": [
                          293.4962139,
                          160.4319547
                        ],
                        "passed_time": 28.29975573,
                        "iteration": 589,
                        "remaining_time": 19.66593195,
                        "learn": [
                          198.8429663,
                          107.3513172
                        ]
                      },
                      {
                        "test": [
                          293.4865532,
                          160.4256032
                        ],
                        "passed_time": 28.34459817,
                        "iteration": 590,
                        "remaining_time": 19.61580483,
                        "learn": [
                          198.8245593,
                          107.3307735
                        ]
                      },
                      {
                        "test": [
                          293.4435349,
                          160.4016506
                        ],
                        "passed_time": 28.38630625,
                        "iteration": 591,
                        "remaining_time": 19.56353539,
                        "learn": [
                          198.7441803,
                          107.2717746
                        ]
                      },
                      {
                        "test": [
                          293.422923,
                          160.3638459
                        ],
                        "passed_time": 28.4395929,
                        "iteration": 592,
                        "remaining_time": 19.51924842,
                        "learn": [
                          198.7179658,
                          107.2332305
                        ]
                      },
                      {
                        "test": [
                          293.4028944,
                          160.3505733
                        ],
                        "passed_time": 28.48541323,
                        "iteration": 593,
                        "remaining_time": 19.4698279,
                        "learn": [
                          198.696289,
                          107.2162699
                        ]
                      },
                      {
                        "test": [
                          293.2332151,
                          160.2782831
                        ],
                        "passed_time": 28.52639901,
                        "iteration": 594,
                        "remaining_time": 19.41712874,
                        "learn": [
                          198.4587617,
                          107.100684
                        ]
                      },
                      {
                        "test": [
                          293.18606,
                          160.2590245
                        ],
                        "passed_time": 28.56804085,
                        "iteration": 595,
                        "remaining_time": 19.3649136,
                        "learn": [
                          198.3587964,
                          107.0449016
                        ]
                      },
                      {
                        "test": [
                          293.0796137,
                          160.2642233
                        ],
                        "passed_time": 28.61042938,
                        "iteration": 596,
                        "remaining_time": 19.31323792,
                        "learn": [
                          198.244498,
                          106.9799805
                        ]
                      },
                      {
                        "test": [
                          292.929425,
                          160.2183858
                        ],
                        "passed_time": 28.65408392,
                        "iteration": 597,
                        "remaining_time": 19.26244438,
                        "learn": [
                          198.1680772,
                          106.9448022
                        ]
                      },
                      {
                        "test": [
                          292.8267752,
                          160.1777995
                        ],
                        "passed_time": 28.69847346,
                        "iteration": 598,
                        "remaining_time": 19.2121667,
                        "learn": [
                          198.0725132,
                          106.8934314
                        ]
                      },
                      {
                        "test": [
                          292.8564508,
                          160.1791856
                        ],
                        "passed_time": 28.73984896,
                        "iteration": 599,
                        "remaining_time": 19.15989931,
                        "learn": [
                          198.0353526,
                          106.8613555
                        ]
                      },
                      {
                        "test": [
                          292.8347285,
                          160.1560323
                        ],
                        "passed_time": 28.7823222,
                        "iteration": 600,
                        "remaining_time": 19.10839694,
                        "learn": [
                          197.9939848,
                          106.8304616
                        ]
                      },
                      {
                        "test": [
                          292.8058781,
                          160.1356858
                        ],
                        "passed_time": 28.82966558,
                        "iteration": 601,
                        "remaining_time": 19.06014435,
                        "learn": [
                          197.966595,
                          106.8088887
                        ]
                      },
                      {
                        "test": [
                          292.7790793,
                          160.1171419
                        ],
                        "passed_time": 28.88041822,
                        "iteration": 602,
                        "remaining_time": 19.01413936,
                        "learn": [
                          197.9308264,
                          106.7780106
                        ]
                      },
                      {
                        "test": [
                          292.5636739,
                          160.1045936
                        ],
                        "passed_time": 28.92302154,
                        "iteration": 603,
                        "remaining_time": 18.96277571,
                        "learn": [
                          197.7857195,
                          106.7156788
                        ]
                      },
                      {
                        "test": [
                          292.5256367,
                          160.0691253
                        ],
                        "passed_time": 28.9704959,
                        "iteration": 604,
                        "remaining_time": 18.91462129,
                        "learn": [
                          197.7403558,
                          106.6747118
                        ]
                      },
                      {
                        "test": [
                          292.5291977,
                          160.0654258
                        ],
                        "passed_time": 29.01227869,
                        "iteration": 605,
                        "remaining_time": 18.86276866,
                        "learn": [
                          197.716793,
                          106.6518844
                        ]
                      },
                      {
                        "test": [
                          292.5189397,
                          160.0543136
                        ],
                        "passed_time": 29.05479731,
                        "iteration": 606,
                        "remaining_time": 18.81142561,
                        "learn": [
                          197.6919265,
                          106.6191226
                        ]
                      },
                      {
                        "test": [
                          292.4952104,
                          160.0376722
                        ],
                        "passed_time": 29.10183104,
                        "iteration": 607,
                        "remaining_time": 18.76302264,
                        "learn": [
                          197.6703392,
                          106.6019128
                        ]
                      },
                      {
                        "test": [
                          292.4410572,
                          160.0380297
                        ],
                        "passed_time": 29.14448772,
                        "iteration": 608,
                        "remaining_time": 18.71181395,
                        "learn": [
                          197.5605764,
                          106.5428567
                        ]
                      },
                      {
                        "test": [
                          292.4457044,
                          160.0148107
                        ],
                        "passed_time": 29.20560422,
                        "iteration": 609,
                        "remaining_time": 18.67243549,
                        "learn": [
                          197.4726688,
                          106.4774422
                        ]
                      },
                      {
                        "test": [
                          292.3667416,
                          159.9933302
                        ],
                        "passed_time": 29.27168986,
                        "iteration": 610,
                        "remaining_time": 18.63614952,
                        "learn": [
                          197.356946,
                          106.4318397
                        ]
                      },
                      {
                        "test": [
                          292.3077723,
                          159.9806731
                        ],
                        "passed_time": 29.32729498,
                        "iteration": 611,
                        "remaining_time": 18.59312165,
                        "learn": [
                          197.2070617,
                          106.35167
                        ]
                      },
                      {
                        "test": [
                          292.2871939,
                          159.9774056
                        ],
                        "passed_time": 29.37021843,
                        "iteration": 612,
                        "remaining_time": 18.54204655,
                        "learn": [
                          197.1746822,
                          106.322463
                        ]
                      },
                      {
                        "test": [
                          292.2715267,
                          159.9588955
                        ],
                        "passed_time": 29.41145809,
                        "iteration": 613,
                        "remaining_time": 18.48993945,
                        "learn": [
                          197.0144775,
                          106.2303083
                        ]
                      },
                      {
                        "test": [
                          292.2483732,
                          159.9572754
                        ],
                        "passed_time": 29.45242621,
                        "iteration": 614,
                        "remaining_time": 18.43769771,
                        "learn": [
                          196.9938284,
                          106.2056141
                        ]
                      },
                      {
                        "test": [
                          292.2329086,
                          159.9543985
                        ],
                        "passed_time": 29.50198524,
                        "iteration": 615,
                        "remaining_time": 18.39084794,
                        "learn": [
                          196.9631969,
                          106.1804395
                        ]
                      },
                      {
                        "test": [
                          292.2114276,
                          159.9528644
                        ],
                        "passed_time": 29.54633543,
                        "iteration": 616,
                        "remaining_time": 18.34075603,
                        "learn": [
                          196.9443096,
                          106.1573316
                        ]
                      },
                      {
                        "test": [
                          292.0924045,
                          159.9551207
                        ],
                        "passed_time": 29.58653357,
                        "iteration": 617,
                        "remaining_time": 18.28811622,
                        "learn": [
                          196.7622749,
                          106.0671035
                        ]
                      },
                      {
                        "test": [
                          292.0717582,
                          159.945607
                        ],
                        "passed_time": 29.62869781,
                        "iteration": 618,
                        "remaining_time": 18.23672676,
                        "learn": [
                          196.7395033,
                          106.0530879
                        ]
                      },
                      {
                        "test": [
                          291.9504264,
                          159.8744538
                        ],
                        "passed_time": 29.67326907,
                        "iteration": 619,
                        "remaining_time": 18.18684233,
                        "learn": [
                          196.593368,
                          105.9714081
                        ]
                      },
                      {
                        "test": [
                          291.941336,
                          159.8685857
                        ],
                        "passed_time": 29.71760507,
                        "iteration": 620,
                        "remaining_time": 18.13683143,
                        "learn": [
                          196.5297562,
                          105.9309472
                        ]
                      },
                      {
                        "test": [
                          291.8955291,
                          159.8440864
                        ],
                        "passed_time": 29.76387919,
                        "iteration": 621,
                        "remaining_time": 18.08801662,
                        "learn": [
                          196.4693859,
                          105.8973777
                        ]
                      },
                      {
                        "test": [
                          291.8827567,
                          159.8322489
                        ],
                        "passed_time": 29.80567597,
                        "iteration": 622,
                        "remaining_time": 18.03650055,
                        "learn": [
                          196.4350274,
                          105.8607444
                        ]
                      },
                      {
                        "test": [
                          291.8232511,
                          159.7813061
                        ],
                        "passed_time": 29.85339837,
                        "iteration": 623,
                        "remaining_time": 17.9885862,
                        "learn": [
                          196.3607381,
                          105.8162211
                        ]
                      },
                      {
                        "test": [
                          291.8083214,
                          159.7712721
                        ],
                        "passed_time": 29.89951528,
                        "iteration": 624,
                        "remaining_time": 17.93970917,
                        "learn": [
                          196.3380715,
                          105.7985534
                        ]
                      },
                      {
                        "test": [
                          291.7828111,
                          159.7532291
                        ],
                        "passed_time": 29.93912189,
                        "iteration": 625,
                        "remaining_time": 17.88695142,
                        "learn": [
                          196.2282829,
                          105.7360492
                        ]
                      },
                      {
                        "test": [
                          291.7258321,
                          159.714189
                        ],
                        "passed_time": 29.98608275,
                        "iteration": 626,
                        "remaining_time": 17.83861063,
                        "learn": [
                          196.1779264,
                          105.690324
                        ]
                      },
                      {
                        "test": [
                          291.6382329,
                          159.7290681
                        ],
                        "passed_time": 30.02681374,
                        "iteration": 627,
                        "remaining_time": 17.78658394,
                        "learn": [
                          196.0039115,
                          105.5954281
                        ]
                      },
                      {
                        "test": [
                          291.5446539,
                          159.6721411
                        ],
                        "passed_time": 30.07858111,
                        "iteration": 628,
                        "remaining_time": 17.74110269,
                        "learn": [
                          195.8807045,
                          105.5289587
                        ]
                      },
                      {
                        "test": [
                          291.4504462,
                          159.6368732
                        ],
                        "passed_time": 30.12546618,
                        "iteration": 629,
                        "remaining_time": 17.6927341,
                        "learn": [
                          195.7789012,
                          105.483814
                        ]
                      },
                      {
                        "test": [
                          291.4397281,
                          159.6239458
                        ],
                        "passed_time": 30.17086679,
                        "iteration": 630,
                        "remaining_time": 17.64350213,
                        "learn": [
                          195.7647879,
                          105.4698996
                        ]
                      },
                      {
                        "test": [
                          291.2571154,
                          159.5841153
                        ],
                        "passed_time": 30.21747249,
                        "iteration": 631,
                        "remaining_time": 17.59498398,
                        "learn": [
                          195.5760513,
                          105.3723855
                        ]
                      },
                      {
                        "test": [
                          291.2417185,
                          159.5873622
                        ],
                        "passed_time": 30.3247102,
                        "iteration": 632,
                        "remaining_time": 17.58162503,
                        "learn": [
                          195.4994854,
                          105.3270134
                        ]
                      },
                      {
                        "test": [
                          291.1928256,
                          159.5617545
                        ],
                        "passed_time": 30.36798646,
                        "iteration": 633,
                        "remaining_time": 17.53104581,
                        "learn": [
                          195.4191348,
                          105.2786974
                        ]
                      },
                      {
                        "test": [
                          291.1682255,
                          159.5449601
                        ],
                        "passed_time": 30.4111823,
                        "iteration": 634,
                        "remaining_time": 17.48044337,
                        "learn": [
                          195.3865881,
                          105.2511667
                        ]
                      },
                      {
                        "test": [
                          291.2055251,
                          159.5629598
                        ],
                        "passed_time": 30.45726958,
                        "iteration": 635,
                        "remaining_time": 17.43151907,
                        "learn": [
                          195.3419368,
                          105.2161784
                        ]
                      },
                      {
                        "test": [
                          291.1110716,
                          159.5285112
                        ],
                        "passed_time": 30.50607204,
                        "iteration": 636,
                        "remaining_time": 17.38415094,
                        "learn": [
                          195.2604465,
                          105.1711119
                        ]
                      },
                      {
                        "test": [
                          290.9365444,
                          159.4919033
                        ],
                        "passed_time": 30.54954609,
                        "iteration": 637,
                        "remaining_time": 17.33375499,
                        "learn": [
                          195.0815667,
                          105.0793353
                        ]
                      },
                      {
                        "test": [
                          290.9209648,
                          159.483665
                        ],
                        "passed_time": 30.59464314,
                        "iteration": 638,
                        "remaining_time": 17.28429761,
                        "learn": [
                          195.049552,
                          105.0575632
                        ]
                      },
                      {
                        "test": [
                          290.8984743,
                          159.4682095
                        ],
                        "passed_time": 30.634731,
                        "iteration": 639,
                        "remaining_time": 17.23203619,
                        "learn": [
                          194.947168,
                          105.0007285
                        ]
                      },
                      {
                        "test": [
                          290.796106,
                          159.4811945
                        ],
                        "passed_time": 30.68020441,
                        "iteration": 640,
                        "remaining_time": 17.18282899,
                        "learn": [
                          194.7812889,
                          104.9192215
                        ]
                      },
                      {
                        "test": [
                          290.6416789,
                          159.3736381
                        ],
                        "passed_time": 30.72242004,
                        "iteration": 641,
                        "remaining_time": 17.13181679,
                        "learn": [
                          194.7326944,
                          104.8866785
                        ]
                      },
                      {
                        "test": [
                          290.487972,
                          159.2881137
                        ],
                        "passed_time": 30.76385571,
                        "iteration": 642,
                        "remaining_time": 17.08039889,
                        "learn": [
                          194.6103347,
                          104.8319976
                        ]
                      },
                      {
                        "test": [
                          290.3849176,
                          159.2453661
                        ],
                        "passed_time": 30.80583499,
                        "iteration": 643,
                        "remaining_time": 17.02931251,
                        "learn": [
                          194.4898208,
                          104.7835466
                        ]
                      },
                      {
                        "test": [
                          290.3860364,
                          159.2474539
                        ],
                        "passed_time": 30.84874602,
                        "iteration": 644,
                        "remaining_time": 16.97876719,
                        "learn": [
                          194.3991161,
                          104.7295043
                        ]
                      },
                      {
                        "test": [
                          290.3165198,
                          159.2172744
                        ],
                        "passed_time": 30.89910819,
                        "iteration": 645,
                        "remaining_time": 16.93232863,
                        "learn": [
                          194.3207186,
                          104.6935915
                        ]
                      },
                      {
                        "test": [
                          290.2150544,
                          159.1732085
                        ],
                        "passed_time": 30.94081385,
                        "iteration": 646,
                        "remaining_time": 16.881155,
                        "learn": [
                          194.2548199,
                          104.6512718
                        ]
                      },
                      {
                        "test": [
                          290.1772213,
                          159.1647895
                        ],
                        "passed_time": 30.98421188,
                        "iteration": 647,
                        "remaining_time": 16.83092991,
                        "learn": [
                          194.1908466,
                          104.6166678
                        ]
                      },
                      {
                        "test": [
                          290.1410578,
                          159.1574885
                        ],
                        "passed_time": 31.02586987,
                        "iteration": 648,
                        "remaining_time": 16.77978478,
                        "learn": [
                          194.1295787,
                          104.5845053
                        ]
                      },
                      {
                        "test": [
                          290.0606694,
                          159.1295361
                        ],
                        "passed_time": 31.06890868,
                        "iteration": 649,
                        "remaining_time": 16.72941237,
                        "learn": [
                          194.0423142,
                          104.5471451
                        ]
                      },
                      {
                        "test": [
                          290.0476319,
                          159.120046
                        ],
                        "passed_time": 31.11324445,
                        "iteration": 650,
                        "remaining_time": 16.67975778,
                        "learn": [
                          194.0293069,
                          104.5301617
                        ]
                      },
                      {
                        "test": [
                          289.9702772,
                          159.0780479
                        ],
                        "passed_time": 31.15672488,
                        "iteration": 651,
                        "remaining_time": 16.62966297,
                        "learn": [
                          193.9594927,
                          104.4848892
                        ]
                      },
                      {
                        "test": [
                          289.9096047,
                          159.0961628
                        ],
                        "passed_time": 31.20082328,
                        "iteration": 652,
                        "remaining_time": 16.57991681,
                        "learn": [
                          193.8122661,
                          104.4061404
                        ]
                      },
                      {
                        "test": [
                          289.8253632,
                          159.1029025
                        ],
                        "passed_time": 31.2418972,
                        "iteration": 653,
                        "remaining_time": 16.52858782,
                        "learn": [
                          193.7181815,
                          104.3542615
                        ]
                      },
                      {
                        "test": [
                          289.8045213,
                          159.0881568
                        ],
                        "passed_time": 31.33591436,
                        "iteration": 654,
                        "remaining_time": 16.50517627,
                        "learn": [
                          193.6993905,
                          104.3397366
                        ]
                      },
                      {
                        "test": [
                          289.7597145,
                          159.0786681
                        ],
                        "passed_time": 31.38864988,
                        "iteration": 655,
                        "remaining_time": 16.45990177,
                        "learn": [
                          193.6486382,
                          104.3054178
                        ]
                      },
                      {
                        "test": [
                          289.7451193,
                          159.0681238
                        ],
                        "passed_time": 31.43374916,
                        "iteration": 656,
                        "remaining_time": 16.4106179,
                        "learn": [
                          193.6398213,
                          104.2949126
                        ]
                      },
                      {
                        "test": [
                          289.750359,
                          159.0656738
                        ],
                        "passed_time": 31.47818744,
                        "iteration": 657,
                        "remaining_time": 16.3610032,
                        "learn": [
                          193.5306508,
                          104.2333688
                        ]
                      },
                      {
                        "test": [
                          289.7008505,
                          159.0581762
                        ],
                        "passed_time": 31.52014639,
                        "iteration": 658,
                        "remaining_time": 16.31012127,
                        "learn": [
                          193.4064476,
                          104.1696488
                        ]
                      },
                      {
                        "test": [
                          289.6495811,
                          159.0300471
                        ],
                        "passed_time": 31.56805933,
                        "iteration": 659,
                        "remaining_time": 16.2623336,
                        "learn": [
                          193.3036267,
                          104.1336781
                        ]
                      },
                      {
                        "test": [
                          289.5356652,
                          158.9695756
                        ],
                        "passed_time": 31.60958109,
                        "iteration": 660,
                        "remaining_time": 16.21126776,
                        "learn": [
                          193.1468557,
                          104.0374851
                        ]
                      },
                      {
                        "test": [
                          289.510146,
                          158.9482938
                        ],
                        "passed_time": 31.65253607,
                        "iteration": 661,
                        "remaining_time": 16.16096252,
                        "learn": [
                          193.102243,
                          104.0046434
                        ]
                      },
                      {
                        "test": [
                          289.5109845,
                          158.9415238
                        ],
                        "passed_time": 31.69545131,
                        "iteration": 662,
                        "remaining_time": 16.11065926,
                        "learn": [
                          193.0845136,
                          103.9850676
                        ]
                      },
                      {
                        "test": [
                          289.4896714,
                          158.9402295
                        ],
                        "passed_time": 31.73652044,
                        "iteration": 663,
                        "remaining_time": 16.05944408,
                        "learn": [
                          193.0668849,
                          103.964373
                        ]
                      },
                      {
                        "test": [
                          289.463954,
                          158.919144
                        ],
                        "passed_time": 31.78037901,
                        "iteration": 664,
                        "remaining_time": 16.00966461,
                        "learn": [
                          192.9565119,
                          103.9054416
                        ]
                      },
                      {
                        "test": [
                          289.4289893,
                          158.8935253
                        ],
                        "passed_time": 31.82431101,
                        "iteration": 665,
                        "remaining_time": 15.95993976,
                        "learn": [
                          192.9091501,
                          103.871506
                        ]
                      },
                      {
                        "test": [
                          289.3935219,
                          158.8711514
                        ],
                        "passed_time": 31.87010636,
                        "iteration": 666,
                        "remaining_time": 15.91116254,
                        "learn": [
                          192.8421139,
                          103.8220178
                        ]
                      },
                      {
                        "test": [
                          289.3762082,
                          158.8414949
                        ],
                        "passed_time": 31.91333238,
                        "iteration": 667,
                        "remaining_time": 15.86111729,
                        "learn": [
                          192.8237831,
                          103.7929412
                        ]
                      },
                      {
                        "test": [
                          289.3222475,
                          158.8061822
                        ],
                        "passed_time": 31.95858418,
                        "iteration": 668,
                        "remaining_time": 15.81209472,
                        "learn": [
                          192.7519694,
                          103.7431146
                        ]
                      },
                      {
                        "test": [
                          289.3060162,
                          158.7852892
                        ],
                        "passed_time": 32.00871215,
                        "iteration": 669,
                        "remaining_time": 15.76548509,
                        "learn": [
                          192.7188513,
                          103.7190615
                        ]
                      },
                      {
                        "test": [
                          289.1644859,
                          158.6847863
                        ],
                        "passed_time": 32.05224312,
                        "iteration": 670,
                        "remaining_time": 15.71563038,
                        "learn": [
                          192.6757657,
                          103.6896055
                        ]
                      },
                      {
                        "test": [
                          289.1486794,
                          158.6718691
                        ],
                        "passed_time": 32.09538337,
                        "iteration": 671,
                        "remaining_time": 15.66560379,
                        "learn": [
                          192.6527649,
                          103.6697382
                        ]
                      },
                      {
                        "test": [
                          289.0929168,
                          158.6897173
                        ],
                        "passed_time": 32.13468848,
                        "iteration": 672,
                        "remaining_time": 15.61373423,
                        "learn": [
                          192.5158367,
                          103.5969829
                        ]
                      },
                      {
                        "test": [
                          289.0554162,
                          158.6709172
                        ],
                        "passed_time": 32.17815684,
                        "iteration": 673,
                        "remaining_time": 15.56391562,
                        "learn": [
                          192.4500266,
                          103.5585399
                        ]
                      },
                      {
                        "test": [
                          288.9851209,
                          158.6877133
                        ],
                        "passed_time": 32.22562407,
                        "iteration": 674,
                        "remaining_time": 15.51604122,
                        "learn": [
                          192.3126818,
                          103.4854544
                        ]
                      },
                      {
                        "test": [
                          288.9545085,
                          158.6650404
                        ],
                        "passed_time": 32.26902594,
                        "iteration": 675,
                        "remaining_time": 15.46621953,
                        "learn": [
                          192.2514587,
                          103.4391168
                        ]
                      },
                      {
                        "test": [
                          288.9282418,
                          158.6207572
                        ],
                        "passed_time": 32.3752986,
                        "iteration": 676,
                        "remaining_time": 15.44641278,
                        "learn": [
                          192.2145908,
                          103.3940987
                        ]
                      },
                      {
                        "test": [
                          288.905047,
                          158.6048274
                        ],
                        "passed_time": 32.41799416,
                        "iteration": 677,
                        "remaining_time": 15.39615652,
                        "learn": [
                          192.1838504,
                          103.3682518
                        ]
                      },
                      {
                        "test": [
                          288.880055,
                          158.5626546
                        ],
                        "passed_time": 32.46489587,
                        "iteration": 678,
                        "remaining_time": 15.34791101,
                        "learn": [
                          192.148885,
                          103.3257326
                        ]
                      },
                      {
                        "test": [
                          288.8693184,
                          158.553255
                        ],
                        "passed_time": 32.5167788,
                        "iteration": 679,
                        "remaining_time": 15.30201355,
                        "learn": [
                          192.1368111,
                          103.3141817
                        ]
                      },
                      {
                        "test": [
                          288.8563319,
                          158.5380073
                        ],
                        "passed_time": 32.55873655,
                        "iteration": 680,
                        "remaining_time": 15.25144928,
                        "learn": [
                          192.1237245,
                          103.3010945
                        ]
                      },
                      {
                        "test": [
                          288.7824195,
                          158.5455728
                        ],
                        "passed_time": 32.59935142,
                        "iteration": 681,
                        "remaining_time": 15.20028409,
                        "learn": [
                          192.0372283,
                          103.2539489
                        ]
                      },
                      {
                        "test": [
                          288.7529552,
                          158.5248055
                        ],
                        "passed_time": 32.64568691,
                        "iteration": 682,
                        "remaining_time": 15.15180491,
                        "learn": [
                          192.0170104,
                          103.2374479
                        ]
                      },
                      {
                        "test": [
                          288.7339536,
                          158.4882942
                        ],
                        "passed_time": 32.69384107,
                        "iteration": 683,
                        "remaining_time": 15.10417219,
                        "learn": [
                          191.9923481,
                          103.2009189
                        ]
                      },
                      {
                        "test": [
                          288.6788794,
                          158.4762112
                        ],
                        "passed_time": 32.73590346,
                        "iteration": 684,
                        "remaining_time": 15.05373663,
                        "learn": [
                          191.9633838,
                          103.1765201
                        ]
                      },
                      {
                        "test": [
                          288.6351441,
                          158.4528314
                        ],
                        "passed_time": 32.78052793,
                        "iteration": 685,
                        "remaining_time": 15.00449821,
                        "learn": [
                          191.9044133,
                          103.1412576
                        ]
                      },
                      {
                        "test": [
                          288.5849772,
                          158.4474224
                        ],
                        "passed_time": 32.82199433,
                        "iteration": 686,
                        "remaining_time": 14.95383439,
                        "learn": [
                          191.8746003,
                          103.116135
                        ]
                      },
                      {
                        "test": [
                          288.5680695,
                          158.4428716
                        ],
                        "passed_time": 32.86534917,
                        "iteration": 687,
                        "remaining_time": 14.90405369,
                        "learn": [
                          191.858768,
                          103.0949418
                        ]
                      },
                      {
                        "test": [
                          288.5436742,
                          158.4350145
                        ],
                        "passed_time": 32.91448847,
                        "iteration": 688,
                        "remaining_time": 14.85690263,
                        "learn": [
                          191.8226778,
                          103.0727962
                        ]
                      },
                      {
                        "test": [
                          288.5249888,
                          158.4192318
                        ],
                        "passed_time": 32.96177156,
                        "iteration": 689,
                        "remaining_time": 14.80891186,
                        "learn": [
                          191.802285,
                          103.0574782
                        ]
                      },
                      {
                        "test": [
                          288.49479,
                          158.4107964
                        ],
                        "passed_time": 33.00602577,
                        "iteration": 690,
                        "remaining_time": 14.75956869,
                        "learn": [
                          191.745423,
                          103.0250749
                        ]
                      },
                      {
                        "test": [
                          288.443048,
                          158.4289889
                        ],
                        "passed_time": 33.0462764,
                        "iteration": 691,
                        "remaining_time": 14.70845828,
                        "learn": [
                          191.62183,
                          102.9603535
                        ]
                      },
                      {
                        "test": [
                          288.4044152,
                          158.381396
                        ],
                        "passed_time": 33.08882243,
                        "iteration": 692,
                        "remaining_time": 14.65839608,
                        "learn": [
                          191.5818937,
                          102.9323768
                        ]
                      },
                      {
                        "test": [
                          288.3884616,
                          158.3562987
                        ],
                        "passed_time": 33.13586443,
                        "iteration": 693,
                        "remaining_time": 14.61033792,
                        "learn": [
                          191.5654194,
                          102.9070809
                        ]
                      },
                      {
                        "test": [
                          288.3954533,
                          158.3761834
                        ],
                        "passed_time": 33.17775703,
                        "iteration": 694,
                        "remaining_time": 14.56002287,
                        "learn": [
                          191.5224746,
                          102.8766499
                        ]
                      },
                      {
                        "test": [
                          288.207415,
                          158.3575862
                        ],
                        "passed_time": 33.21792458,
                        "iteration": 695,
                        "remaining_time": 14.50897855,
                        "learn": [
                          191.3887251,
                          102.8058267
                        ]
                      },
                      {
                        "test": [
                          288.0974779,
                          158.3303922
                        ],
                        "passed_time": 33.25815303,
                        "iteration": 696,
                        "remaining_time": 14.45799192,
                        "learn": [
                          191.1911997,
                          102.711297
                        ]
                      },
                      {
                        "test": [
                          288.0903699,
                          158.3258057
                        ],
                        "passed_time": 33.30726239,
                        "iteration": 697,
                        "remaining_time": 14.41087857,
                        "learn": [
                          191.1621199,
                          102.6921609
                        ]
                      },
                      {
                        "test": [
                          288.0956001,
                          158.3356013
                        ],
                        "passed_time": 33.41905117,
                        "iteration": 698,
                        "remaining_time": 14.39075022,
                        "learn": [
                          191.1111843,
                          102.660152
                        ]
                      },
                      {
                        "test": [
                          288.0606215,
                          158.3731197
                        ],
                        "passed_time": 33.46015713,
                        "iteration": 699,
                        "remaining_time": 14.34006734,
                        "learn": [
                          190.9160488,
                          102.5681391
                        ]
                      },
                      {
                        "test": [
                          288.0441804,
                          158.3732677
                        ],
                        "passed_time": 33.50165317,
                        "iteration": 700,
                        "remaining_time": 14.28957817,
                        "learn": [
                          190.8726012,
                          102.5385418
                        ]
                      },
                      {
                        "test": [
                          287.8626903,
                          158.2773369
                        ],
                        "passed_time": 33.54696017,
                        "iteration": 701,
                        "remaining_time": 14.24073238,
                        "learn": [
                          190.8276957,
                          102.5120167
                        ]
                      },
                      {
                        "test": [
                          287.6329089,
                          158.1611681
                        ],
                        "passed_time": 33.58851816,
                        "iteration": 702,
                        "remaining_time": 14.19031279,
                        "learn": [
                          190.7344417,
                          102.4640505
                        ]
                      },
                      {
                        "test": [
                          287.6291306,
                          158.1677775
                        ],
                        "passed_time": 33.64734293,
                        "iteration": 703,
                        "remaining_time": 14.14717828,
                        "learn": [
                          190.7018112,
                          102.4408154
                        ]
                      },
                      {
                        "test": [
                          287.6116539,
                          158.1342101
                        ],
                        "passed_time": 33.68998535,
                        "iteration": 704,
                        "remaining_time": 14.09722791,
                        "learn": [
                          190.6793175,
                          102.4075399
                        ]
                      },
                      {
                        "test": [
                          287.5510332,
                          158.1129639
                        ],
                        "passed_time": 33.73289055,
                        "iteration": 705,
                        "remaining_time": 14.04740768,
                        "learn": [
                          190.6227416,
                          102.3776322
                        ]
                      },
                      {
                        "test": [
                          287.54296,
                          158.1052344
                        ],
                        "passed_time": 33.77460354,
                        "iteration": 706,
                        "remaining_time": 13.99711293,
                        "learn": [
                          190.6133583,
                          102.3685688
                        ]
                      },
                      {
                        "test": [
                          287.53796,
                          158.1602839
                        ],
                        "passed_time": 33.81639255,
                        "iteration": 707,
                        "remaining_time": 13.94687376,
                        "learn": [
                          190.5251044,
                          102.3262398
                        ]
                      },
                      {
                        "test": [
                          287.3629207,
                          158.1476254
                        ],
                        "passed_time": 33.86036732,
                        "iteration": 708,
                        "remaining_time": 13.89755556,
                        "learn": [
                          190.3995425,
                          102.2603329
                        ]
                      },
                      {
                        "test": [
                          287.343122,
                          158.1301226
                        ],
                        "passed_time": 33.90154353,
                        "iteration": 709,
                        "remaining_time": 13.84710933,
                        "learn": [
                          190.2973122,
                          102.2075486
                        ]
                      },
                      {
                        "test": [
                          287.2968227,
                          158.1246938
                        ],
                        "passed_time": 33.9420594,
                        "iteration": 710,
                        "remaining_time": 13.79642077,
                        "learn": [
                          190.2703583,
                          102.1849481
                        ]
                      },
                      {
                        "test": [
                          287.268965,
                          158.1177
                        ],
                        "passed_time": 33.98543446,
                        "iteration": 711,
                        "remaining_time": 13.74691731,
                        "learn": [
                          190.2178842,
                          102.1559464
                        ]
                      },
                      {
                        "test": [
                          287.1555237,
                          158.0677075
                        ],
                        "passed_time": 34.02746512,
                        "iteration": 712,
                        "remaining_time": 13.69688989,
                        "learn": [
                          190.1278568,
                          102.1022332
                        ]
                      },
                      {
                        "test": [
                          287.1420472,
                          158.0526008
                        ],
                        "passed_time": 34.07517514,
                        "iteration": 713,
                        "remaining_time": 13.64915979,
                        "learn": [
                          190.1096955,
                          102.0836235
                        ]
                      },
                      {
                        "test": [
                          287.0272289,
                          158.0088553
                        ],
                        "passed_time": 34.11769662,
                        "iteration": 714,
                        "remaining_time": 13.59936159,
                        "learn": [
                          190.041334,
                          102.0511323
                        ]
                      },
                      {
                        "test": [
                          286.9646457,
                          157.9595112
                        ],
                        "passed_time": 34.16122097,
                        "iteration": 715,
                        "remaining_time": 13.5499815,
                        "learn": [
                          189.9293084,
                          101.970249
                        ]
                      },
                      {
                        "test": [
                          286.9404679,
                          157.9383039
                        ],
                        "passed_time": 34.21043701,
                        "iteration": 716,
                        "remaining_time": 13.50286426,
                        "learn": [
                          189.9003975,
                          101.9478044
                        ]
                      },
                      {
                        "test": [
                          286.8782566,
                          157.9040168
                        ],
                        "passed_time": 34.25318279,
                        "iteration": 717,
                        "remaining_time": 13.45319993,
                        "learn": [
                          189.8360621,
                          101.9075842
                        ]
                      },
                      {
                        "test": [
                          286.7788543,
                          157.9165037
                        ],
                        "passed_time": 34.30115409,
                        "iteration": 718,
                        "remaining_time": 13.40559708,
                        "learn": [
                          189.7393372,
                          101.8635091
                        ]
                      },
                      {
                        "test": [
                          286.7292432,
                          157.8928761
                        ],
                        "passed_time": 34.34514321,
                        "iteration": 719,
                        "remaining_time": 13.35644458,
                        "learn": [
                          189.6771349,
                          101.8350074
                        ]
                      },
                      {
                        "test": [
                          286.7348338,
                          157.9015203
                        ],
                        "passed_time": 34.46139513,
                        "iteration": 720,
                        "remaining_time": 13.33526941,
                        "learn": [
                          189.6147545,
                          101.7949596
                        ]
                      },
                      {
                        "test": [
                          286.6700847,
                          157.8669054
                        ],
                        "passed_time": 34.51835374,
                        "iteration": 721,
                        "remaining_time": 13.29100047,
                        "learn": [
                          189.5203915,
                          101.7526457
                        ]
                      },
                      {
                        "test": [
                          286.5124649,
                          157.8578903
                        ],
                        "passed_time": 34.57465041,
                        "iteration": 722,
                        "remaining_time": 13.24644283,
                        "learn": [
                          189.404303,
                          101.6922017
                        ]
                      },
                      {
                        "test": [
                          286.4679094,
                          157.828526
                        ],
                        "passed_time": 34.62740694,
                        "iteration": 723,
                        "remaining_time": 13.2005032,
                        "learn": [
                          189.3198151,
                          101.6387349
                        ]
                      },
                      {
                        "test": [
                          286.4259085,
                          157.7867663
                        ],
                        "passed_time": 34.66959388,
                        "iteration": 724,
                        "remaining_time": 13.15053561,
                        "learn": [
                          189.1809763,
                          101.582002
                        ]
                      },
                      {
                        "test": [
                          286.2585111,
                          157.7406139
                        ],
                        "passed_time": 34.71094093,
                        "iteration": 725,
                        "remaining_time": 13.10027247,
                        "learn": [
                          189.1286447,
                          101.553429
                        ]
                      },
                      {
                        "test": [
                          286.220936,
                          157.7210619
                        ],
                        "passed_time": 34.75963477,
                        "iteration": 726,
                        "remaining_time": 13.0527927,
                        "learn": [
                          189.0807552,
                          101.5304492
                        ]
                      },
                      {
                        "test": [
                          286.1856956,
                          157.7423155
                        ],
                        "passed_time": 34.7989525,
                        "iteration": 727,
                        "remaining_time": 13.00180643,
                        "learn": [
                          188.9718556,
                          101.4742131
                        ]
                      },
                      {
                        "test": [
                          286.1633826,
                          157.7266589
                        ],
                        "passed_time": 34.8445827,
                        "iteration": 728,
                        "remaining_time": 12.95319878,
                        "learn": [
                          188.9427584,
                          101.4501907
                        ]
                      },
                      {
                        "test": [
                          286.14904,
                          157.7097611
                        ],
                        "passed_time": 34.88643918,
                        "iteration": 729,
                        "remaining_time": 12.90320353,
                        "learn": [
                          188.9281669,
                          101.4354064
                        ]
                      },
                      {
                        "test": [
                          286.0729637,
                          157.6700861
                        ],
                        "passed_time": 34.93073633,
                        "iteration": 730,
                        "remaining_time": 12.85412869,
                        "learn": [
                          188.8483096,
                          101.3932333
                        ]
                      },
                      {
                        "test": [
                          286.0525889,
                          157.6740486
                        ],
                        "passed_time": 34.98542185,
                        "iteration": 731,
                        "remaining_time": 12.80887029,
                        "learn": [
                          188.7753841,
                          101.3522909
                        ]
                      },
                      {
                        "test": [
                          286.0283561,
                          157.6570687
                        ],
                        "passed_time": 35.03046779,
                        "iteration": 732,
                        "remaining_time": 12.7600749,
                        "learn": [
                          188.7589048,
                          101.338404
                        ]
                      },
                      {
                        "test": [
                          286.0089634,
                          157.6349858
                        ],
                        "passed_time": 35.07627298,
                        "iteration": 733,
                        "remaining_time": 12.71156487,
                        "learn": [
                          188.732105,
                          101.3143478
                        ]
                      },
                      {
                        "test": [
                          285.9765628,
                          157.6146741
                        ],
                        "passed_time": 35.12102154,
                        "iteration": 734,
                        "remaining_time": 12.66268124,
                        "learn": [
                          188.6640902,
                          101.276361
                        ]
                      },
                      {
                        "test": [
                          285.9624715,
                          157.6011519
                        ],
                        "passed_time": 35.16394599,
                        "iteration": 735,
                        "remaining_time": 12.61315454,
                        "learn": [
                          188.6461376,
                          101.2578374
                        ]
                      },
                      {
                        "test": [
                          285.8939034,
                          157.5584721
                        ],
                        "passed_time": 35.21128527,
                        "iteration": 736,
                        "remaining_time": 12.5652212,
                        "learn": [
                          188.5374085,
                          101.1880944
                        ]
                      },
                      {
                        "test": [
                          285.8475722,
                          157.529932
                        ],
                        "passed_time": 35.25996854,
                        "iteration": 737,
                        "remaining_time": 12.51776661,
                        "learn": [
                          188.4924235,
                          101.1624674
                        ]
                      },
                      {
                        "test": [
                          285.809566,
                          157.4914432
                        ],
                        "passed_time": 35.30035768,
                        "iteration": 738,
                        "remaining_time": 12.46737937,
                        "learn": [
                          188.3618855,
                          101.1088101
                        ]
                      },
                      {
                        "test": [
                          285.6749397,
                          157.4044033
                        ],
                        "passed_time": 35.34278186,
                        "iteration": 739,
                        "remaining_time": 12.41773417,
                        "learn": [
                          188.3193906,
                          101.0841675
                        ]
                      },
                      {
                        "test": [
                          285.6797358,
                          157.4017541
                        ],
                        "passed_time": 35.38274463,
                        "iteration": 740,
                        "remaining_time": 12.36724812,
                        "learn": [
                          188.220401,
                          101.0298701
                        ]
                      },
                      {
                        "test": [
                          285.640903,
                          157.3828686
                        ],
                        "passed_time": 35.48131202,
                        "iteration": 741,
                        "remaining_time": 12.33716779,
                        "learn": [
                          188.1687169,
                          100.9995549
                        ]
                      },
                      {
                        "test": [
                          285.6422922,
                          157.42404
                        ],
                        "passed_time": 35.5433094,
                        "iteration": 742,
                        "remaining_time": 12.29425372,
                        "learn": [
                          188.0990652,
                          100.9629792
                        ]
                      },
                      {
                        "test": [
                          285.6097077,
                          157.4026271
                        ],
                        "passed_time": 35.58507429,
                        "iteration": 743,
                        "remaining_time": 12.24432664,
                        "learn": [
                          188.0566014,
                          100.9332798
                        ]
                      },
                      {
                        "test": [
                          285.5913801,
                          157.3822512
                        ],
                        "passed_time": 35.63108724,
                        "iteration": 744,
                        "remaining_time": 12.1958755,
                        "learn": [
                          188.0310679,
                          100.9108432
                        ]
                      },
                      {
                        "test": [
                          285.5750397,
                          157.3712039
                        ],
                        "passed_time": 35.67497333,
                        "iteration": 745,
                        "remaining_time": 12.14670674,
                        "learn": [
                          188.0175461,
                          100.8991461
                        ]
                      },
                      {
                        "test": [
                          285.5541539,
                          157.3525413
                        ],
                        "passed_time": 35.72305162,
                        "iteration": 746,
                        "remaining_time": 12.09897197,
                        "learn": [
                          187.9826956,
                          100.8727372
                        ]
                      },
                      {
                        "test": [
                          285.5327161,
                          157.3485094
                        ],
                        "passed_time": 35.7671464,
                        "iteration": 747,
                        "remaining_time": 12.04989424,
                        "learn": [
                          187.9418532,
                          100.8498692
                        ]
                      },
                      {
                        "test": [
                          285.4032347,
                          157.3258403
                        ],
                        "passed_time": 35.80859053,
                        "iteration": 748,
                        "remaining_time": 11.99994155,
                        "learn": [
                          187.8181802,
                          100.7885306
                        ]
                      },
                      {
                        "test": [
                          285.3664549,
                          157.3039035
                        ],
                        "passed_time": 35.8521891,
                        "iteration": 749,
                        "remaining_time": 11.9507297,
                        "learn": [
                          187.7373654,
                          100.7561072
                        ]
                      },
                      {
                        "test": [
                          285.351591,
                          157.3075999
                        ],
                        "passed_time": 35.89415789,
                        "iteration": 750,
                        "remaining_time": 11.90099243,
                        "learn": [
                          187.7059016,
                          100.733398
                        ]
                      },
                      {
                        "test": [
                          285.3333434,
                          157.2969403
                        ],
                        "passed_time": 35.94309944,
                        "iteration": 751,
                        "remaining_time": 11.85357535,
                        "learn": [
                          187.6783483,
                          100.7175455
                        ]
                      },
                      {
                        "test": [
                          285.3157509,
                          157.2785062
                        ],
                        "passed_time": 35.99001562,
                        "iteration": 752,
                        "remaining_time": 11.80548985,
                        "learn": [
                          187.6602879,
                          100.6995818
                        ]
                      },
                      {
                        "test": [
                          285.302453,
                          157.2570491
                        ],
                        "passed_time": 36.03241711,
                        "iteration": 753,
                        "remaining_time": 11.7559345,
                        "learn": [
                          187.6480835,
                          100.6798501
                        ]
                      },
                      {
                        "test": [
                          285.2929011,
                          157.2515583
                        ],
                        "passed_time": 36.07583694,
                        "iteration": 754,
                        "remaining_time": 11.70672854,
                        "learn": [
                          187.6278339,
                          100.6639271
                        ]
                      },
                      {
                        "test": [
                          285.2857782,
                          157.2665339
                        ],
                        "passed_time": 36.11828532,
                        "iteration": 755,
                        "remaining_time": 11.65722436,
                        "learn": [
                          187.5940555,
                          100.6407562
                        ]
                      },
                      {
                        "test": [
                          285.2452786,
                          157.24026
                        ],
                        "passed_time": 36.16650673,
                        "iteration": 756,
                        "remaining_time": 11.60959199,
                        "learn": [
                          187.5177391,
                          100.593273
                        ]
                      },
                      {
                        "test": [
                          285.2061817,
                          157.2245558
                        ],
                        "passed_time": 36.20889201,
                        "iteration": 757,
                        "remaining_time": 11.56009481,
                        "learn": [
                          187.4660708,
                          100.571103
                        ]
                      },
                      {
                        "test": [
                          285.1733345,
                          157.2100056
                        ],
                        "passed_time": 36.2548014,
                        "iteration": 758,
                        "remaining_time": 11.51173536,
                        "learn": [
                          187.4418213,
                          100.5552522
                        ]
                      },
                      {
                        "test": [
                          285.1717766,
                          157.1991845
                        ],
                        "passed_time": 36.29590317,
                        "iteration": 759,
                        "remaining_time": 11.46186416,
                        "learn": [
                          187.3785688,
                          100.5207042
                        ]
                      },
                      {
                        "test": [
                          285.1691996,
                          157.1942548
                        ],
                        "passed_time": 36.33843867,
                        "iteration": 760,
                        "remaining_time": 11.41246628,
                        "learn": [
                          187.3520528,
                          100.4983845
                        ]
                      },
                      {
                        "test": [
                          285.0841566,
                          157.157093
                        ],
                        "passed_time": 36.38714531,
                        "iteration": 761,
                        "remaining_time": 11.36501389,
                        "learn": [
                          187.2988053,
                          100.4715878
                        ]
                      },
                      {
                        "test": [
                          285.0602017,
                          157.1385275
                        ],
                        "passed_time": 36.43774359,
                        "iteration": 762,
                        "remaining_time": 11.31814578,
                        "learn": [
                          187.2604977,
                          100.4389295
                        ]
                      },
                      {
                        "test": [
                          285.0405841,
                          157.1173807
                        ],
                        "passed_time": 36.52339448,
                        "iteration": 763,
                        "remaining_time": 11.28209568,
                        "learn": [
                          187.2318185,
                          100.4151414
                        ]
                      },
                      {
                        "test": [
                          285.0260298,
                          157.0989286
                        ],
                        "passed_time": 36.60031461,
                        "iteration": 764,
                        "remaining_time": 11.2432339,
                        "learn": [
                          187.2118365,
                          100.3966608
                        ]
                      },
                      {
                        "test": [
                          285.0232817,
                          157.1152743
                        ],
                        "passed_time": 36.64173985,
                        "iteration": 765,
                        "remaining_time": 11.19342967,
                        "learn": [
                          187.1468078,
                          100.3703328
                        ]
                      },
                      {
                        "test": [
                          285.0112777,
                          157.0950567
                        ],
                        "passed_time": 36.68406436,
                        "iteration": 766,
                        "remaining_time": 11.14392047,
                        "learn": [
                          187.1349948,
                          100.3511236
                        ]
                      },
                      {
                        "test": [
                          285.004992,
                          157.0859034
                        ],
                        "passed_time": 36.72739657,
                        "iteration": 767,
                        "remaining_time": 11.09473438,
                        "learn": [
                          187.1244268,
                          100.3339187
                        ]
                      },
                      {
                        "test": [
                          284.9900299,
                          157.0567517
                        ],
                        "passed_time": 36.77011947,
                        "iteration": 768,
                        "remaining_time": 11.04538049,
                        "learn": [
                          187.1053488,
                          100.3057123
                        ]
                      },
                      {
                        "test": [
                          284.9682291,
                          157.0425699
                        ],
                        "passed_time": 36.81771983,
                        "iteration": 769,
                        "remaining_time": 10.99750073,
                        "learn": [
                          187.0563461,
                          100.2687683
                        ]
                      },
                      {
                        "test": [
                          284.9115763,
                          157.0774963
                        ],
                        "passed_time": 36.86201852,
                        "iteration": 770,
                        "remaining_time": 10.94864104,
                        "learn": [
                          186.9230552,
                          100.2032115
                        ]
                      },
                      {
                        "test": [
                          284.9076914,
                          157.0743089
                        ],
                        "passed_time": 36.91526691,
                        "iteration": 771,
                        "remaining_time": 10.90243634,
                        "learn": [
                          186.9143011,
                          100.1912169
                        ]
                      },
                      {
                        "test": [
                          284.8869673,
                          157.0593805
                        ],
                        "passed_time": 36.95892617,
                        "iteration": 772,
                        "remaining_time": 10.85339746,
                        "learn": [
                          186.9001813,
                          100.1792076
                        ]
                      },
                      {
                        "test": [
                          284.8822115,
                          157.0468082
                        ],
                        "passed_time": 37.00062714,
                        "iteration": 773,
                        "remaining_time": 10.80380069,
                        "learn": [
                          186.8841615,
                          100.1632305
                        ]
                      },
                      {
                        "test": [
                          284.8596626,
                          157.0298081
                        ],
                        "passed_time": 37.04753308,
                        "iteration": 774,
                        "remaining_time": 10.75573541,
                        "learn": [
                          186.8481868,
                          100.1333518
                        ]
                      },
                      {
                        "test": [
                          284.7718659,
                          156.9853669
                        ],
                        "passed_time": 37.08934,
                        "iteration": 775,
                        "remaining_time": 10.70620124,
                        "learn": [
                          186.7308173,
                          100.0622778
                        ]
                      },
                      {
                        "test": [
                          284.7303525,
                          156.9792515
                        ],
                        "passed_time": 37.13150806,
                        "iteration": 776,
                        "remaining_time": 10.6567906,
                        "learn": [
                          186.6871961,
                          100.0408718
                        ]
                      },
                      {
                        "test": [
                          284.7244879,
                          156.9707284
                        ],
                        "passed_time": 37.17518654,
                        "iteration": 777,
                        "remaining_time": 10.60782958,
                        "learn": [
                          186.6774653,
                          100.0252113
                        ]
                      },
                      {
                        "test": [
                          284.7207391,
                          156.9490045
                        ],
                        "passed_time": 37.21650015,
                        "iteration": 778,
                        "remaining_time": 10.55821121,
                        "learn": [
                          186.6583636,
                          100.0088592
                        ]
                      },
                      {
                        "test": [
                          284.676696,
                          156.9242771
                        ],
                        "passed_time": 37.26151071,
                        "iteration": 779,
                        "remaining_time": 10.50965687,
                        "learn": [
                          186.579433,
                          99.96992364
                        ]
                      },
                      {
                        "test": [
                          284.6195655,
                          156.9011638
                        ],
                        "passed_time": 37.31029275,
                        "iteration": 780,
                        "remaining_time": 10.46216916,
                        "learn": [
                          186.5137953,
                          99.93664812
                        ]
                      },
                      {
                        "test": [
                          284.5984583,
                          156.8867523
                        ],
                        "passed_time": 37.35495843,
                        "iteration": 781,
                        "remaining_time": 10.41353061,
                        "learn": [
                          186.500039,
                          99.92562254
                        ]
                      },
                      {
                        "test": [
                          284.5900267,
                          156.8789851
                        ],
                        "passed_time": 37.40039021,
                        "iteration": 782,
                        "remaining_time": 10.36511453,
                        "learn": [
                          186.4844009,
                          99.91027648
                        ]
                      },
                      {
                        "test": [
                          284.5977015,
                          156.9091378
                        ],
                        "passed_time": 37.44818193,
                        "iteration": 783,
                        "remaining_time": 10.31735625,
                        "learn": [
                          186.4303733,
                          99.87432392
                        ]
                      },
                      {
                        "test": [
                          284.5565518,
                          156.9310827
                        ],
                        "passed_time": 37.4930095,
                        "iteration": 784,
                        "remaining_time": 10.26878604,
                        "learn": [
                          186.3275511,
                          99.82116645
                        ]
                      },
                      {
                        "test": [
                          284.5470807,
                          156.9231834
                        ],
                        "passed_time": 37.60229243,
                        "iteration": 785,
                        "remaining_time": 10.23777428,
                        "learn": [
                          186.3157157,
                          99.81180064
                        ]
                      },
                      {
                        "test": [
                          284.5049242,
                          156.9183357
                        ],
                        "passed_time": 37.64406173,
                        "iteration": 786,
                        "remaining_time": 10.18829117,
                        "learn": [
                          186.218062,
                          99.7625649
                        ]
                      },
                      {
                        "test": [
                          284.4693673,
                          156.8963797
                        ],
                        "passed_time": 37.68784659,
                        "iteration": 787,
                        "remaining_time": 10.13936989,
                        "learn": [
                          186.1512428,
                          99.72292617
                        ]
                      },
                      {
                        "test": [
                          284.4416451,
                          156.8781902
                        ],
                        "passed_time": 37.73472008,
                        "iteration": 788,
                        "remaining_time": 10.09128763,
                        "learn": [
                          186.1165699,
                          99.6989325
                        ]
                      },
                      {
                        "test": [
                          284.4385837,
                          156.8746181
                        ],
                        "passed_time": 37.7776058,
                        "iteration": 789,
                        "remaining_time": 10.04214838,
                        "learn": [
                          186.1036389,
                          99.68559741
                        ]
                      },
                      {
                        "test": [
                          284.3304179,
                          156.8384309
                        ],
                        "passed_time": 37.82267017,
                        "iteration": 790,
                        "remaining_time": 9.993600589,
                        "learn": [
                          186.0124642,
                          99.64822066
                        ]
                      },
                      {
                        "test": [
                          284.3223938,
                          156.8322652
                        ],
                        "passed_time": 37.87151642,
                        "iteration": 791,
                        "remaining_time": 9.946054817,
                        "learn": [
                          186.0026388,
                          99.63660031
                        ]
                      },
                      {
                        "test": [
                          284.287687,
                          156.8219852
                        ],
                        "passed_time": 37.91607833,
                        "iteration": 792,
                        "remaining_time": 9.897387409,
                        "learn": [
                          185.9771056,
                          99.62244451
                        ]
                      },
                      {
                        "test": [
                          284.1850202,
                          156.7835923
                        ],
                        "passed_time": 37.96777389,
                        "iteration": 793,
                        "remaining_time": 9.850581135,
                        "learn": [
                          185.9167744,
                          99.59437189
                        ]
                      },
                      {
                        "test": [
                          284.1757196,
                          156.7760239
                        ],
                        "passed_time": 38.01205982,
                        "iteration": 794,
                        "remaining_time": 9.801851904,
                        "learn": [
                          185.9053129,
                          99.58553212
                        ]
                      },
                      {
                        "test": [
                          284.1826828,
                          156.7864229
                        ],
                        "passed_time": 38.05553623,
                        "iteration": 795,
                        "remaining_time": 9.75292637,
                        "learn": [
                          185.8502242,
                          99.55101544
                        ]
                      },
                      {
                        "test": [
                          284.1861902,
                          156.825957
                        ],
                        "passed_time": 38.0990186,
                        "iteration": 796,
                        "remaining_time": 9.70401603,
                        "learn": [
                          185.7853755,
                          99.51758115
                        ]
                      },
                      {
                        "test": [
                          284.1329122,
                          156.8044963
                        ],
                        "passed_time": 38.14339787,
                        "iteration": 797,
                        "remaining_time": 9.655346328,
                        "learn": [
                          185.7233479,
                          99.48694274
                        ]
                      },
                      {
                        "test": [
                          284.1277127,
                          156.7984997
                        ],
                        "passed_time": 38.190781,
                        "iteration": 798,
                        "remaining_time": 9.607443031,
                        "learn": [
                          185.6851465,
                          99.46055767
                        ]
                      },
                      {
                        "test": [
                          284.1241699,
                          156.7956427
                        ],
                        "passed_time": 38.23628315,
                        "iteration": 799,
                        "remaining_time": 9.559070786,
                        "learn": [
                          185.6772014,
                          99.45013205
                        ]
                      },
                      {
                        "test": [
                          284.1125086,
                          156.8071291
                        ],
                        "passed_time": 38.27911811,
                        "iteration": 800,
                        "remaining_time": 9.510043076,
                        "learn": [
                          185.645613,
                          99.4291312
                        ]
                      },
                      {
                        "test": [
                          284.108584,
                          156.7994968
                        ],
                        "passed_time": 38.32591212,
                        "iteration": 801,
                        "remaining_time": 9.462008228,
                        "learn": [
                          185.6253937,
                          99.40780493
                        ]
                      },
                      {
                        "test": [
                          284.0812132,
                          156.7825005
                        ],
                        "passed_time": 38.37045118,
                        "iteration": 802,
                        "remaining_time": 9.413423266,
                        "learn": [
                          185.5784209,
                          99.37518047
                        ]
                      },
                      {
                        "test": [
                          284.0430008,
                          156.7793991
                        ],
                        "passed_time": 38.4156158,
                        "iteration": 803,
                        "remaining_time": 9.365000867,
                        "learn": [
                          185.4871766,
                          99.32997221
                        ]
                      },
                      {
                        "test": [
                          284.0295689,
                          156.7647848
                        ],
                        "passed_time": 38.46407114,
                        "iteration": 804,
                        "remaining_time": 9.317383693,
                        "learn": [
                          185.4071172,
                          99.28244392
                        ]
                      },
                      {
                        "test": [
                          283.9738246,
                          156.7331939
                        ],
                        "passed_time": 38.50798254,
                        "iteration": 805,
                        "remaining_time": 9.268670736,
                        "learn": [
                          185.3363815,
                          99.24287965
                        ]
                      },
                      {
                        "test": [
                          283.9309166,
                          156.6957862
                        ],
                        "passed_time": 38.55172008,
                        "iteration": 806,
                        "remaining_time": 9.219928097,
                        "learn": [
                          185.2776374,
                          99.20698784
                        ]
                      },
                      {
                        "test": [
                          283.8581409,
                          156.6512551
                        ],
                        "passed_time": 38.65139016,
                        "iteration": 807,
                        "remaining_time": 9.184488751,
                        "learn": [
                          185.2226439,
                          99.17252701
                        ]
                      },
                      {
                        "test": [
                          283.8500262,
                          156.6453513
                        ],
                        "passed_time": 38.72604342,
                        "iteration": 808,
                        "remaining_time": 9.142984294,
                        "learn": [
                          185.2033002,
                          99.1591802
                        ]
                      },
                      {
                        "test": [
                          283.7878988,
                          156.6261734
                        ],
                        "passed_time": 38.76701083,
                        "iteration": 809,
                        "remaining_time": 9.093496367,
                        "learn": [
                          185.1556579,
                          99.13720104
                        ]
                      },
                      {
                        "test": [
                          283.7713623,
                          156.6153097
                        ],
                        "passed_time": 38.8132471,
                        "iteration": 810,
                        "remaining_time": 9.04525734,
                        "learn": [
                          185.1134153,
                          99.10443808
                        ]
                      },
                      {
                        "test": [
                          283.7413656,
                          156.6026637
                        ],
                        "passed_time": 38.85956786,
                        "iteration": 811,
                        "remaining_time": 8.997042806,
                        "learn": [
                          185.0757175,
                          99.08538909
                        ]
                      },
                      {
                        "test": [
                          283.7217343,
                          156.5807828
                        ],
                        "passed_time": 38.91505832,
                        "iteration": 812,
                        "remaining_time": 8.950942073,
                        "learn": [
                          185.0510462,
                          99.06354527
                        ]
                      },
                      {
                        "test": [
                          283.7242029,
                          156.5777249
                        ],
                        "passed_time": 38.95946504,
                        "iteration": 813,
                        "remaining_time": 8.902285623,
                        "learn": [
                          185.0346864,
                          99.04498504
                        ]
                      },
                      {
                        "test": [
                          283.6879041,
                          156.5577746
                        ],
                        "passed_time": 39.00414032,
                        "iteration": 814,
                        "remaining_time": 8.853700563,
                        "learn": [
                          184.9985519,
                          99.02277523
                        ]
                      },
                      {
                        "test": [
                          283.6033187,
                          156.5210305
                        ],
                        "passed_time": 39.04665331,
                        "iteration": 815,
                        "remaining_time": 8.80463751,
                        "learn": [
                          184.9344398,
                          98.98326859
                        ]
                      },
                      {
                        "test": [
                          283.6150986,
                          156.5345268
                        ],
                        "passed_time": 39.09567812,
                        "iteration": 816,
                        "remaining_time": 8.757049078,
                        "learn": [
                          184.8661449,
                          98.94141845
                        ]
                      },
                      {
                        "test": [
                          283.5884602,
                          156.5059425
                        ],
                        "passed_time": 39.13875045,
                        "iteration": 817,
                        "remaining_time": 8.708132742,
                        "learn": [
                          184.8115159,
                          98.91104504
                        ]
                      },
                      {
                        "test": [
                          283.5695668,
                          156.4947509
                        ],
                        "passed_time": 39.18295472,
                        "iteration": 818,
                        "remaining_time": 8.659480835,
                        "learn": [
                          184.7747746,
                          98.88721449
                        ]
                      },
                      {
                        "test": [
                          283.3475044,
                          156.4508376
                        ],
                        "passed_time": 39.22319656,
                        "iteration": 819,
                        "remaining_time": 8.609969976,
                        "learn": [
                          184.7008871,
                          98.85508794
                        ]
                      },
                      {
                        "test": [
                          283.3380777,
                          156.4481767
                        ],
                        "passed_time": 39.2660932,
                        "iteration": 820,
                        "remaining_time": 8.561060515,
                        "learn": [
                          184.6785389,
                          98.83758297
                        ]
                      },
                      {
                        "test": [
                          283.3336522,
                          156.4460408
                        ],
                        "passed_time": 39.31078858,
                        "iteration": 821,
                        "remaining_time": 8.512555192,
                        "learn": [
                          184.6421512,
                          98.8130576
                        ]
                      },
                      {
                        "test": [
                          283.2405814,
                          156.4127911
                        ],
                        "passed_time": 39.35747498,
                        "iteration": 822,
                        "remaining_time": 8.464487329,
                        "learn": [
                          184.5628217,
                          98.77004531
                        ]
                      },
                      {
                        "test": [
                          283.1843595,
                          156.389992
                        ],
                        "passed_time": 39.40123819,
                        "iteration": 823,
                        "remaining_time": 8.415798449,
                        "learn": [
                          184.5087671,
                          98.73967143
                        ]
                      },
                      {
                        "test": [
                          283.1702666,
                          156.3805557
                        ],
                        "passed_time": 39.44532274,
                        "iteration": 824,
                        "remaining_time": 8.367189671,
                        "learn": [
                          184.4976794,
                          98.73034819
                        ]
                      },
                      {
                        "test": [
                          283.1269344,
                          156.372044
                        ],
                        "passed_time": 39.49577269,
                        "iteration": 825,
                        "remaining_time": 8.319932746,
                        "learn": [
                          184.4621972,
                          98.71084898
                        ]
                      },
                      {
                        "test": [
                          283.1208476,
                          156.3694945
                        ],
                        "passed_time": 39.54963888,
                        "iteration": 826,
                        "remaining_time": 8.273382741,
                        "learn": [
                          184.4513904,
                          98.70274811
                        ]
                      },
                      {
                        "test": [
                          283.1196846,
                          156.3499484
                        ],
                        "passed_time": 39.59316465,
                        "iteration": 827,
                        "remaining_time": 8.224667054,
                        "learn": [
                          184.4317215,
                          98.68853787
                        ]
                      },
                      {
                        "test": [
                          283.099705,
                          156.337648
                        ],
                        "passed_time": 39.70957817,
                        "iteration": 828,
                        "remaining_time": 8.190998633,
                        "learn": [
                          184.3765526,
                          98.65494309
                        ]
                      },
                      {
                        "test": [
                          283.0469898,
                          156.3045367
                        ],
                        "passed_time": 39.75830042,
                        "iteration": 829,
                        "remaining_time": 8.143266352,
                        "learn": [
                          184.2945636,
                          98.61250987
                        ]
                      },
                      {
                        "test": [
                          283.0455406,
                          156.3008087
                        ],
                        "passed_time": 39.8048006,
                        "iteration": 830,
                        "remaining_time": 8.095079786,
                        "learn": [
                          184.2729336,
                          98.59378853
                        ]
                      },
                      {
                        "test": [
                          282.9899968,
                          156.281641
                        ],
                        "passed_time": 39.84671615,
                        "iteration": 831,
                        "remaining_time": 8.04597153,
                        "learn": [
                          184.1838577,
                          98.55932473
                        ]
                      },
                      {
                        "test": [
                          282.9190557,
                          156.238719
                        ],
                        "passed_time": 39.88761886,
                        "iteration": 832,
                        "remaining_time": 7.996677491,
                        "learn": [
                          184.1314906,
                          98.52709741
                        ]
                      },
                      {
                        "test": [
                          282.864269,
                          156.20803
                        ],
                        "passed_time": 39.9306739,
                        "iteration": 833,
                        "remaining_time": 7.947831976,
                        "learn": [
                          184.0400909,
                          98.48183797
                        ]
                      },
                      {
                        "test": [
                          282.8523186,
                          156.1949785
                        ],
                        "passed_time": 39.97396898,
                        "iteration": 834,
                        "remaining_time": 7.899047763,
                        "learn": [
                          183.9650888,
                          98.43708137
                        ]
                      },
                      {
                        "test": [
                          282.8209621,
                          156.1849702
                        ],
                        "passed_time": 40.01764679,
                        "iteration": 835,
                        "remaining_time": 7.850351763,
                        "learn": [
                          183.9519392,
                          98.42235681
                        ]
                      },
                      {
                        "test": [
                          282.7985389,
                          156.1777198
                        ],
                        "passed_time": 40.0600063,
                        "iteration": 836,
                        "remaining_time": 7.801411024,
                        "learn": [
                          183.9310609,
                          98.41196044
                        ]
                      },
                      {
                        "test": [
                          282.7953642,
                          156.1768242
                        ],
                        "passed_time": 40.10469502,
                        "iteration": 837,
                        "remaining_time": 7.752936269,
                        "learn": [
                          183.9147322,
                          98.39706322
                        ]
                      },
                      {
                        "test": [
                          282.7804713,
                          156.1690654
                        ],
                        "passed_time": 40.14748087,
                        "iteration": 838,
                        "remaining_time": 7.704105387,
                        "learn": [
                          183.8881435,
                          98.37354996
                        ]
                      },
                      {
                        "test": [
                          282.780263,
                          156.1627909
                        ],
                        "passed_time": 40.19161547,
                        "iteration": 839,
                        "remaining_time": 7.655545804,
                        "learn": [
                          183.8808548,
                          98.36372695
                        ]
                      },
                      {
                        "test": [
                          282.7742206,
                          156.1508488
                        ],
                        "passed_time": 40.23388093,
                        "iteration": 840,
                        "remaining_time": 7.606643362,
                        "learn": [
                          183.8225776,
                          98.32762813
                        ]
                      },
                      {
                        "test": [
                          282.7221714,
                          156.1220778
                        ],
                        "passed_time": 40.27722342,
                        "iteration": 841,
                        "remaining_time": 7.557958788,
                        "learn": [
                          183.7355359,
                          98.28503211
                        ]
                      },
                      {
                        "test": [
                          282.7082233,
                          156.1059789
                        ],
                        "passed_time": 40.32227107,
                        "iteration": 842,
                        "remaining_time": 7.509604457,
                        "learn": [
                          183.7144262,
                          98.26627285
                        ]
                      },
                      {
                        "test": [
                          282.6611341,
                          156.091972
                        ],
                        "passed_time": 40.36360793,
                        "iteration": 843,
                        "remaining_time": 7.460572083,
                        "learn": [
                          183.6829006,
                          98.2435633
                        ]
                      },
                      {
                        "test": [
                          282.6351128,
                          156.0747683
                        ],
                        "passed_time": 40.41651415,
                        "iteration": 844,
                        "remaining_time": 7.413680111,
                        "learn": [
                          183.6362206,
                          98.21841998
                        ]
                      },
                      {
                        "test": [
                          282.5442186,
                          156.0425812
                        ],
                        "passed_time": 40.46319116,
                        "iteration": 845,
                        "remaining_time": 7.365639999,
                        "learn": [
                          183.5630674,
                          98.17918904
                        ]
                      },
                      {
                        "test": [
                          282.5292975,
                          156.0258095
                        ],
                        "passed_time": 40.51119878,
                        "iteration": 846,
                        "remaining_time": 7.317843464,
                        "learn": [
                          183.5400243,
                          98.15769454
                        ]
                      },
                      {
                        "test": [
                          282.5215763,
                          156.0327124
                        ],
                        "passed_time": 40.55196292,
                        "iteration": 847,
                        "remaining_time": 7.268748071,
                        "learn": [
                          183.5170513,
                          98.1424978
                        ]
                      },
                      {
                        "test": [
                          282.5120732,
                          156.0161377
                        ],
                        "passed_time": 40.59480241,
                        "iteration": 848,
                        "remaining_time": 7.220041417,
                        "learn": [
                          183.5075112,
                          98.12707638
                        ]
                      },
                      {
                        "test": [
                          282.5037476,
                          156.0137065
                        ],
                        "passed_time": 40.64259424,
                        "iteration": 849,
                        "remaining_time": 7.172222514,
                        "learn": [
                          183.3695578,
                          98.05369642
                        ]
                      },
                      {
                        "test": [
                          282.4264427,
                          156.0228256
                        ],
                        "passed_time": 40.74975511,
                        "iteration": 850,
                        "remaining_time": 7.134798486,
                        "learn": [
                          183.2093607,
                          97.98881233
                        ]
                      },
                      {
                        "test": [
                          282.3217144,
                          155.9511941
                        ],
                        "passed_time": 40.80141687,
                        "iteration": 851,
                        "remaining_time": 7.087570066,
                        "learn": [
                          183.1786755,
                          97.96934424
                        ]
                      },
                      {
                        "test": [
                          282.2625681,
                          155.932018
                        ],
                        "passed_time": 40.84355501,
                        "iteration": 852,
                        "remaining_time": 7.038690019,
                        "learn": [
                          183.1330594,
                          97.94646072
                        ]
                      },
                      {
                        "test": [
                          282.2529322,
                          155.9179328
                        ],
                        "passed_time": 40.89061144,
                        "iteration": 853,
                        "remaining_time": 6.990666593,
                        "learn": [
                          183.1134438,
                          97.92719486
                        ]
                      },
                      {
                        "test": [
                          282.2405583,
                          155.9055912
                        ],
                        "passed_time": 40.93480829,
                        "iteration": 854,
                        "remaining_time": 6.942160471,
                        "learn": [
                          183.099098,
                          97.91528593
                        ]
                      },
                      {
                        "test": [
                          282.210096,
                          155.8891536
                        ],
                        "passed_time": 40.9880742,
                        "iteration": 855,
                        "remaining_time": 6.895190053,
                        "learn": [
                          183.0680851,
                          97.89657107
                        ]
                      },
                      {
                        "test": [
                          282.1816858,
                          155.8673445
                        ],
                        "passed_time": 41.03478718,
                        "iteration": 856,
                        "remaining_time": 6.847111514,
                        "learn": [
                          183.0269098,
                          97.86374026
                        ]
                      },
                      {
                        "test": [
                          282.1827676,
                          155.8586455
                        ],
                        "passed_time": 41.08197065,
                        "iteration": 857,
                        "remaining_time": 6.799114023,
                        "learn": [
                          182.9796037,
                          97.83760859
                        ]
                      },
                      {
                        "test": [
                          281.9749706,
                          155.8189771
                        ],
                        "passed_time": 41.12374338,
                        "iteration": 858,
                        "remaining_time": 6.750230288,
                        "learn": [
                          182.9113815,
                          97.80711201
                        ]
                      },
                      {
                        "test": [
                          281.9436476,
                          155.7997627
                        ],
                        "passed_time": 41.16888093,
                        "iteration": 859,
                        "remaining_time": 6.701910849,
                        "learn": [
                          182.8543596,
                          97.77472708
                        ]
                      },
                      {
                        "test": [
                          281.9049478,
                          155.7855415
                        ],
                        "passed_time": 41.21358402,
                        "iteration": 860,
                        "remaining_time": 6.653528663,
                        "learn": [
                          182.8173079,
                          97.75576638
                        ]
                      },
                      {
                        "test": [
                          281.9141635,
                          155.8169728
                        ],
                        "passed_time": 41.25572253,
                        "iteration": 861,
                        "remaining_time": 6.604744442,
                        "learn": [
                          182.7702453,
                          97.72510638
                        ]
                      },
                      {
                        "test": [
                          281.8780473,
                          155.8053557
                        ],
                        "passed_time": 41.30418384,
                        "iteration": 862,
                        "remaining_time": 6.556979359,
                        "learn": [
                          182.7324258,
                          97.7080252
                        ]
                      },
                      {
                        "test": [
                          281.8673872,
                          155.7802242
                        ],
                        "passed_time": 41.34876522,
                        "iteration": 863,
                        "remaining_time": 6.508601932,
                        "learn": [
                          182.7172517,
                          97.6844382
                        ]
                      },
                      {
                        "test": [
                          281.8337982,
                          155.7640532
                        ],
                        "passed_time": 41.39440037,
                        "iteration": 864,
                        "remaining_time": 6.460397746,
                        "learn": [
                          182.6904026,
                          97.66234062
                        ]
                      },
                      {
                        "test": [
                          281.7717344,
                          155.7780834
                        ],
                        "passed_time": 41.441123,
                        "iteration": 865,
                        "remaining_time": 6.412367762,
                        "learn": [
                          182.6177094,
                          97.62985347
                        ]
                      },
                      {
                        "test": [
                          281.7602221,
                          155.7667781
                        ],
                        "passed_time": 41.49270513,
                        "iteration": 866,
                        "remaining_time": 6.365086254,
                        "learn": [
                          182.604306,
                          97.61890236
                        ]
                      },
                      {
                        "test": [
                          281.727879,
                          155.745008
                        ],
                        "passed_time": 41.5449005,
                        "iteration": 867,
                        "remaining_time": 6.317888095,
                        "learn": [
                          182.5576638,
                          97.59143734
                        ]
                      },
                      {
                        "test": [
                          281.6456408,
                          155.6958401
                        ],
                        "passed_time": 41.58833187,
                        "iteration": 868,
                        "remaining_time": 6.269357279,
                        "learn": [
                          182.531986,
                          97.5748615
                        ]
                      },
                      {
                        "test": [
                          281.6339013,
                          155.6807164
                        ],
                        "passed_time": 41.63181824,
                        "iteration": 869,
                        "remaining_time": 6.220846403,
                        "learn": [
                          182.5131525,
                          97.55254871
                        ]
                      },
                      {
                        "test": [
                          281.534299,
                          155.6228239
                        ],
                        "passed_time": 41.67405696,
                        "iteration": 870,
                        "remaining_time": 6.172162283,
                        "learn": [
                          182.4514309,
                          97.52736752
                        ]
                      },
                      {
                        "test": [
                          281.2297717,
                          155.5536996
                        ],
                        "passed_time": 41.80882911,
                        "iteration": 871,
                        "remaining_time": 6.137075832,
                        "learn": [
                          182.3542801,
                          97.4862096
                        ]
                      },
                      {
                        "test": [
                          281.2233818,
                          155.5532539
                        ],
                        "passed_time": 41.89882179,
                        "iteration": 872,
                        "remaining_time": 6.095246698,
                        "learn": [
                          182.221479,
                          97.41988965
                        ]
                      },
                      {
                        "test": [
                          281.214714,
                          155.5682655
                        ],
                        "passed_time": 41.94327227,
                        "iteration": 873,
                        "remaining_time": 6.046741769,
                        "learn": [
                          182.1463744,
                          97.37601325
                        ]
                      },
                      {
                        "test": [
                          281.1975723,
                          155.5562178
                        ],
                        "passed_time": 41.99038842,
                        "iteration": 874,
                        "remaining_time": 5.998626917,
                        "learn": [
                          182.1244203,
                          97.36170063
                        ]
                      },
                      {
                        "test": [
                          281.1821873,
                          155.5411001
                        ],
                        "passed_time": 42.04368091,
                        "iteration": 875,
                        "remaining_time": 5.951388622,
                        "learn": [
                          182.0978244,
                          97.34520798
                        ]
                      },
                      {
                        "test": [
                          281.1300484,
                          155.5123812
                        ],
                        "passed_time": 42.0895256,
                        "iteration": 876,
                        "remaining_time": 5.90309196,
                        "learn": [
                          182.0409313,
                          97.3151928
                        ]
                      },
                      {
                        "test": [
                          281.0319747,
                          155.4770673
                        ],
                        "passed_time": 42.13320563,
                        "iteration": 877,
                        "remaining_time": 5.854500099,
                        "learn": [
                          181.9576916,
                          97.28191393
                        ]
                      },
                      {
                        "test": [
                          280.9871186,
                          155.4541639
                        ],
                        "passed_time": 42.17702441,
                        "iteration": 878,
                        "remaining_time": 5.805938514,
                        "learn": [
                          181.8801564,
                          97.24528038
                        ]
                      },
                      {
                        "test": [
                          280.9783789,
                          155.4460189
                        ],
                        "passed_time": 42.22081415,
                        "iteration": 879,
                        "remaining_time": 5.757383748,
                        "learn": [
                          181.860953,
                          97.22629396
                        ]
                      },
                      {
                        "test": [
                          280.9726293,
                          155.4436975
                        ],
                        "passed_time": 42.26837703,
                        "iteration": 880,
                        "remaining_time": 5.709349451,
                        "learn": [
                          181.8507198,
                          97.21865791
                        ]
                      },
                      {
                        "test": [
                          280.9466568,
                          155.4366322
                        ],
                        "passed_time": 42.31148579,
                        "iteration": 881,
                        "remaining_time": 5.660720321,
                        "learn": [
                          181.8392526,
                          97.20565553
                        ]
                      },
                      {
                        "test": [
                          280.9148398,
                          155.4214951
                        ],
                        "passed_time": 42.35653258,
                        "iteration": 882,
                        "remaining_time": 5.612360489,
                        "learn": [
                          181.813863,
                          97.18510214
                        ]
                      },
                      {
                        "test": [
                          280.8719711,
                          155.3999694
                        ],
                        "passed_time": 42.39940536,
                        "iteration": 883,
                        "remaining_time": 5.563722876,
                        "learn": [
                          181.7397934,
                          97.1509944
                        ]
                      },
                      {
                        "test": [
                          280.8375492,
                          155.3777641
                        ],
                        "passed_time": 42.44380842,
                        "iteration": 884,
                        "remaining_time": 5.515297139,
                        "learn": [
                          181.688089,
                          97.12563206
                        ]
                      },
                      {
                        "test": [
                          280.8025638,
                          155.3542118
                        ],
                        "passed_time": 42.50413278,
                        "iteration": 885,
                        "remaining_time": 5.468929048,
                        "learn": [
                          181.6311188,
                          97.09618275
                        ]
                      },
                      {
                        "test": [
                          280.7867901,
                          155.3392299
                        ],
                        "passed_time": 42.54747134,
                        "iteration": 886,
                        "remaining_time": 5.420365571,
                        "learn": [
                          181.5754507,
                          97.06314613
                        ]
                      },
                      {
                        "test": [
                          280.7733805,
                          155.336893
                        ],
                        "passed_time": 42.58993255,
                        "iteration": 887,
                        "remaining_time": 5.371703204,
                        "learn": [
                          181.5649549,
                          97.04855468
                        ]
                      },
                      {
                        "test": [
                          280.8248176,
                          155.4216736
                        ],
                        "passed_time": 42.63279583,
                        "iteration": 888,
                        "remaining_time": 5.323104991,
                        "learn": [
                          181.4776755,
                          97.0131035
                        ]
                      },
                      {
                        "test": [
                          280.8142411,
                          155.407441
                        ],
                        "passed_time": 42.67468355,
                        "iteration": 889,
                        "remaining_time": 5.27439909,
                        "learn": [
                          181.4692615,
                          97.00456488
                        ]
                      },
                      {
                        "test": [
                          280.7656292,
                          155.380408
                        ],
                        "passed_time": 42.72646013,
                        "iteration": 890,
                        "remaining_time": 5.226918243,
                        "learn": [
                          181.4164534,
                          96.97765984
                        ]
                      },
                      {
                        "test": [
                          280.7248019,
                          155.4005833
                        ],
                        "passed_time": 42.77420962,
                        "iteration": 891,
                        "remaining_time": 5.178940178,
                        "learn": [
                          181.2611364,
                          96.90420156
                        ]
                      },
                      {
                        "test": [
                          280.6842397,
                          155.3751974
                        ],
                        "passed_time": 42.81824645,
                        "iteration": 892,
                        "remaining_time": 5.130517772,
                        "learn": [
                          181.2265834,
                          96.87306141
                        ]
                      },
                      {
                        "test": [
                          280.6877998,
                          155.3601565
                        ],
                        "passed_time": 42.95921247,
                        "iteration": 893,
                        "remaining_time": 5.093597899,
                        "learn": [
                          181.2135902,
                          96.86174072
                        ]
                      },
                      {
                        "test": [
                          280.6308226,
                          155.3380539
                        ],
                        "passed_time": 43.00394013,
                        "iteration": 894,
                        "remaining_time": 5.045154987,
                        "learn": [
                          181.1287811,
                          96.82670836
                        ]
                      },
                      {
                        "test": [
                          280.5922423,
                          155.3190946
                        ],
                        "passed_time": 43.04757419,
                        "iteration": 895,
                        "remaining_time": 4.996593432,
                        "learn": [
                          181.0614501,
                          96.79639188
                        ]
                      },
                      {
                        "test": [
                          280.5908805,
                          155.3104442
                        ],
                        "passed_time": 43.10017448,
                        "iteration": 896,
                        "remaining_time": 4.949072432,
                        "learn": [
                          181.0081044,
                          96.76341202
                        ]
                      },
                      {
                        "test": [
                          280.5671066,
                          155.2931272
                        ],
                        "passed_time": 43.14215178,
                        "iteration": 897,
                        "remaining_time": 4.900333498,
                        "learn": [
                          180.9727699,
                          96.74229116
                        ]
                      },
                      {
                        "test": [
                          280.5618333,
                          155.2911035
                        ],
                        "passed_time": 43.19049661,
                        "iteration": 898,
                        "remaining_time": 4.85232498,
                        "learn": [
                          180.9633229,
                          96.7354551
                        ]
                      },
                      {
                        "test": [
                          280.553245,
                          155.2809898
                        ],
                        "passed_time": 43.23336517,
                        "iteration": 899,
                        "remaining_time": 4.803707241,
                        "learn": [
                          180.9432227,
                          96.71687591
                        ]
                      },
                      {
                        "test": [
                          280.5461245,
                          155.2713371
                        ],
                        "passed_time": 43.27709274,
                        "iteration": 900,
                        "remaining_time": 4.75519665,
                        "learn": [
                          180.9359544,
                          96.70712617
                        ]
                      },
                      {
                        "test": [
                          280.5355916,
                          155.2725593
                        ],
                        "passed_time": 43.32038356,
                        "iteration": 901,
                        "remaining_time": 4.706649212,
                        "learn": [
                          180.9276057,
                          96.69558241
                        ]
                      },
                      {
                        "test": [
                          280.513716,
                          155.2492621
                        ],
                        "passed_time": 43.36564851,
                        "iteration": 902,
                        "remaining_time": 4.658325477,
                        "learn": [
                          180.8857311,
                          96.66510345
                        ]
                      },
                      {
                        "test": [
                          280.5043828,
                          155.2467397
                        ],
                        "passed_time": 43.41701431,
                        "iteration": 903,
                        "remaining_time": 4.610656387,
                        "learn": [
                          180.8655957,
                          96.64968528
                        ]
                      },
                      {
                        "test": [
                          280.4938978,
                          155.2367695
                        ],
                        "passed_time": 43.46121911,
                        "iteration": 904,
                        "remaining_time": 4.562227421,
                        "learn": [
                          180.8526668,
                          96.63929559
                        ]
                      },
                      {
                        "test": [
                          280.4789591,
                          155.2309698
                        ],
                        "passed_time": 43.51147573,
                        "iteration": 905,
                        "remaining_time": 4.514435672,
                        "learn": [
                          180.8020713,
                          96.61272017
                        ]
                      },
                      {
                        "test": [
                          280.4040585,
                          155.1876644
                        ],
                        "passed_time": 43.55539105,
                        "iteration": 906,
                        "remaining_time": 4.465988277,
                        "learn": [
                          180.7429228,
                          96.5740853
                        ]
                      },
                      {
                        "test": [
                          280.4054583,
                          155.1852473
                        ],
                        "passed_time": 43.59887321,
                        "iteration": 907,
                        "remaining_time": 4.417506977,
                        "learn": [
                          180.7144531,
                          96.55471988
                        ]
                      },
                      {
                        "test": [
                          280.3220967,
                          155.1561173
                        ],
                        "passed_time": 43.64712827,
                        "iteration": 908,
                        "remaining_time": 4.369514492,
                        "learn": [
                          180.6507488,
                          96.52088888
                        ]
                      },
                      {
                        "test": [
                          280.3199485,
                          155.1696049
                        ],
                        "passed_time": 43.69105443,
                        "iteration": 909,
                        "remaining_time": 4.321093296,
                        "learn": [
                          180.6249241,
                          96.50439195
                        ]
                      },
                      {
                        "test": [
                          280.2918047,
                          155.1559597
                        ],
                        "passed_time": 43.73535259,
                        "iteration": 910,
                        "remaining_time": 4.27271831,
                        "learn": [
                          180.5693025,
                          96.47875948
                        ]
                      },
                      {
                        "test": [
                          280.2855866,
                          155.1382367
                        ],
                        "passed_time": 43.78181895,
                        "iteration": 911,
                        "remaining_time": 4.224561477,
                        "learn": [
                          180.5598718,
                          96.46133448
                        ]
                      },
                      {
                        "test": [
                          280.2884975,
                          155.1381111
                        ],
                        "passed_time": 43.82330503,
                        "iteration": 912,
                        "remaining_time": 4.175933776,
                        "learn": [
                          180.4865492,
                          96.42464594
                        ]
                      },
                      {
                        "test": [
                          280.2719842,
                          155.1232211
                        ],
                        "passed_time": 43.8738596,
                        "iteration": 913,
                        "remaining_time": 4.128174973,
                        "learn": [
                          180.4676313,
                          96.4059634
                        ]
                      },
                      {
                        "test": [
                          280.2414008,
                          155.0997694
                        ],
                        "passed_time": 43.98516822,
                        "iteration": 914,
                        "remaining_time": 4.086053879,
                        "learn": [
                          180.3968215,
                          96.37379646
                        ]
                      },
                      {
                        "test": [
                          280.2121309,
                          155.082765
                        ],
                        "passed_time": 44.0426011,
                        "iteration": 915,
                        "remaining_time": 4.038841149,
                        "learn": [
                          180.3683316,
                          96.35421878
                        ]
                      },
                      {
                        "test": [
                          280.2093212,
                          155.079297
                        ],
                        "passed_time": 44.09400823,
                        "iteration": 916,
                        "remaining_time": 3.991060723,
                        "learn": [
                          180.3592168,
                          96.34459546
                        ]
                      },
                      {
                        "test": [
                          280.2001489,
                          155.068805
                        ],
                        "passed_time": 44.13633182,
                        "iteration": 917,
                        "remaining_time": 3.942461012,
                        "learn": [
                          180.3403236,
                          96.32744275
                        ]
                      },
                      {
                        "test": [
                          280.1641718,
                          155.0480773
                        ],
                        "passed_time": 44.18073478,
                        "iteration": 918,
                        "remaining_time": 3.894058235,
                        "learn": [
                          180.2811084,
                          96.30027751
                        ]
                      },
                      {
                        "test": [
                          280.1351547,
                          155.0341462
                        ],
                        "passed_time": 44.22289346,
                        "iteration": 919,
                        "remaining_time": 3.845468996,
                        "learn": [
                          180.2387242,
                          96.27211635
                        ]
                      },
                      {
                        "test": [
                          280.1128019,
                          155.0300735
                        ],
                        "passed_time": 44.26466095,
                        "iteration": 920,
                        "remaining_time": 3.796860169,
                        "learn": [
                          180.1667177,
                          96.23286277
                        ]
                      },
                      {
                        "test": [
                          280.1028964,
                          155.0235004
                        ],
                        "passed_time": 44.31175544,
                        "iteration": 921,
                        "remaining_time": 3.748716838,
                        "learn": [
                          180.1574295,
                          96.22593632
                        ]
                      },
                      {
                        "test": [
                          280.0774018,
                          155.0079738
                        ],
                        "passed_time": 44.35645345,
                        "iteration": 922,
                        "remaining_time": 3.700375857,
                        "learn": [
                          180.1281044,
                          96.20424211
                        ]
                      },
                      {
                        "test": [
                          280.0634521,
                          154.9954823
                        ],
                        "passed_time": 44.40135625,
                        "iteration": 923,
                        "remaining_time": 3.652059605,
                        "learn": [
                          180.1128903,
                          96.18907201
                        ]
                      },
                      {
                        "test": [
                          280.0534944,
                          154.9890307
                        ],
                        "passed_time": 44.44444455,
                        "iteration": 924,
                        "remaining_time": 3.603603612,
                        "learn": [
                          180.0996454,
                          96.17892093
                        ]
                      },
                      {
                        "test": [
                          280.0554127,
                          154.9871626
                        ],
                        "passed_time": 44.48754927,
                        "iteration": 925,
                        "remaining_time": 3.555160525,
                        "learn": [
                          180.0739013,
                          96.16133576
                        ]
                      },
                      {
                        "test": [
                          280.0073556,
                          154.9639635
                        ],
                        "passed_time": 44.54763844,
                        "iteration": 926,
                        "remaining_time": 3.508066458,
                        "learn": [
                          180.0300563,
                          96.13312823
                        ]
                      },
                      {
                        "test": [
                          279.9531702,
                          154.9303644
                        ],
                        "passed_time": 44.59139229,
                        "iteration": 927,
                        "remaining_time": 3.459676988,
                        "learn": [
                          179.9781463,
                          96.10639847
                        ]
                      },
                      {
                        "test": [
                          279.9324289,
                          154.9221634
                        ],
                        "passed_time": 44.6342114,
                        "iteration": 928,
                        "remaining_time": 3.41122606,
                        "learn": [
                          179.9512216,
                          96.09345732
                        ]
                      },
                      {
                        "test": [
                          279.9499683,
                          154.9137311
                        ],
                        "passed_time": 44.67710142,
                        "iteration": 929,
                        "remaining_time": 3.36279258,
                        "learn": [
                          179.9248209,
                          96.07003558
                        ]
                      },
                      {
                        "test": [
                          279.9526553,
                          154.9115116
                        ],
                        "passed_time": 44.72149467,
                        "iteration": 930,
                        "remaining_time": 3.314482419,
                        "learn": [
                          179.9114275,
                          96.05542636
                        ]
                      },
                      {
                        "test": [
                          279.9283165,
                          154.9056287
                        ],
                        "passed_time": 44.7703563,
                        "iteration": 931,
                        "remaining_time": 3.266506683,
                        "learn": [
                          179.8754515,
                          96.02970397
                        ]
                      },
                      {
                        "test": [
                          279.9398885,
                          154.9373794
                        ],
                        "passed_time": 44.81528094,
                        "iteration": 932,
                        "remaining_time": 3.218246327,
                        "learn": [
                          179.8330548,
                          96.00187683
                        ]
                      },
                      {
                        "test": [
                          279.9194698,
                          154.9321545
                        ],
                        "passed_time": 44.86000673,
                        "iteration": 933,
                        "remaining_time": 3.169979062,
                        "learn": [
                          179.8059829,
                          95.98793355
                        ]
                      },
                      {
                        "test": [
                          279.9124825,
                          154.9241619
                        ],
                        "passed_time": 44.9039936,
                        "iteration": 934,
                        "remaining_time": 3.121668005,
                        "learn": [
                          179.791866,
                          95.97460118
                        ]
                      },
                      {
                        "test": [
                          279.9076908,
                          154.9164686
                        ],
                        "passed_time": 44.96669122,
                        "iteration": 935,
                        "remaining_time": 3.074645554,
                        "learn": [
                          179.7784486,
                          95.95579205
                        ]
                      },
                      {
                        "test": [
                          279.9027521,
                          154.9112677
                        ],
                        "passed_time": 45.06975405,
                        "iteration": 936,
                        "remaining_time": 3.030303634,
                        "learn": [
                          179.7746202,
                          95.94786788
                        ]
                      },
                      {
                        "test": [
                          279.9122108,
                          154.8979524
                        ],
                        "passed_time": 45.11205302,
                        "iteration": 937,
                        "remaining_time": 2.981820136,
                        "learn": [
                          179.7583672,
                          95.93608503
                        ]
                      },
                      {
                        "test": [
                          279.8919914,
                          154.8823997
                        ],
                        "passed_time": 45.16564499,
                        "iteration": 938,
                        "remaining_time": 2.934083434,
                        "learn": [
                          179.7096251,
                          95.91165059
                        ]
                      },
                      {
                        "test": [
                          279.8336763,
                          154.9561853
                        ],
                        "passed_time": 45.20950022,
                        "iteration": 939,
                        "remaining_time": 2.88571278,
                        "learn": [
                          179.601524,
                          95.86453293
                        ]
                      },
                      {
                        "test": [
                          279.8142971,
                          154.9904559
                        ],
                        "passed_time": 45.25078826,
                        "iteration": 940,
                        "remaining_time": 2.837190762,
                        "learn": [
                          179.4612228,
                          95.79818477
                        ]
                      },
                      {
                        "test": [
                          279.7662926,
                          154.9652475
                        ],
                        "passed_time": 45.29333726,
                        "iteration": 941,
                        "remaining_time": 2.788761742,
                        "learn": [
                          179.4214797,
                          95.76883731
                        ]
                      },
                      {
                        "test": [
                          279.727151,
                          154.9533194
                        ],
                        "passed_time": 45.33511358,
                        "iteration": 942,
                        "remaining_time": 2.740298488,
                        "learn": [
                          179.3954889,
                          95.75051916
                        ]
                      },
                      {
                        "test": [
                          279.7867047,
                          155.0205586
                        ],
                        "passed_time": 45.37705981,
                        "iteration": 943,
                        "remaining_time": 2.69185948,
                        "learn": [
                          179.3126745,
                          95.71574291
                        ]
                      },
                      {
                        "test": [
                          279.7335515,
                          154.9934807
                        ],
                        "passed_time": 45.42089199,
                        "iteration": 944,
                        "remaining_time": 2.643543978,
                        "learn": [
                          179.2752598,
                          95.68772201
                        ]
                      },
                      {
                        "test": [
                          279.7097821,
                          154.9868079
                        ],
                        "passed_time": 45.4673751,
                        "iteration": 945,
                        "remaining_time": 2.595389276,
                        "learn": [
                          179.2651773,
                          95.67668864
                        ]
                      },
                      {
                        "test": [
                          279.6862045,
                          154.9708177
                        ],
                        "passed_time": 45.51558909,
                        "iteration": 946,
                        "remaining_time": 2.547334976,
                        "learn": [
                          179.2342743,
                          95.65802359
                        ]
                      },
                      {
                        "test": [
                          279.6706333,
                          154.9619354
                        ],
                        "passed_time": 45.56491605,
                        "iteration": 947,
                        "remaining_time": 2.499341387,
                        "learn": [
                          179.2149415,
                          95.64057681
                        ]
                      },
                      {
                        "test": [
                          279.6612437,
                          154.9500539
                        ],
                        "passed_time": 45.60872757,
                        "iteration": 948,
                        "remaining_time": 2.451048584,
                        "learn": [
                          179.1960978,
                          95.62308013
                        ]
                      },
                      {
                        "test": [
                          279.654187,
                          154.9401628
                        ],
                        "passed_time": 45.66129625,
                        "iteration": 949,
                        "remaining_time": 2.403226118,
                        "learn": [
                          179.1871808,
                          95.61103856
                        ]
                      },
                      {
                        "test": [
                          279.6081727,
                          154.9182863
                        ],
                        "passed_time": 45.70719508,
                        "iteration": 950,
                        "remaining_time": 2.355050009,
                        "learn": [
                          179.1457507,
                          95.58476849
                        ]
                      },
                      {
                        "test": [
                          279.591697,
                          154.9050031
                        ],
                        "passed_time": 45.7492544,
                        "iteration": 951,
                        "remaining_time": 2.306685096,
                        "learn": [
                          179.1302365,
                          95.57213344
                        ]
                      },
                      {
                        "test": [
                          279.5493616,
                          154.8668881
                        ],
                        "passed_time": 45.79272168,
                        "iteration": 952,
                        "remaining_time": 2.258402853,
                        "learn": [
                          179.0583958,
                          95.52115399
                        ]
                      },
                      {
                        "test": [
                          279.5395429,
                          154.8621475
                        ],
                        "passed_time": 45.83685465,
                        "iteration": 953,
                        "remaining_time": 2.210162803,
                        "learn": [
                          179.0446154,
                          95.51437303
                        ]
                      },
                      {
                        "test": [
                          279.5271343,
                          154.8499674
                        ],
                        "passed_time": 45.88525979,
                        "iteration": 954,
                        "remaining_time": 2.16213266,
                        "learn": [
                          179.0228919,
                          95.50145378
                        ]
                      },
                      {
                        "test": [
                          279.5090121,
                          154.8385426
                        ],
                        "passed_time": 45.92879744,
                        "iteration": 955,
                        "remaining_time": 2.113877706,
                        "learn": [
                          179.0002888,
                          95.4851933
                        ]
                      },
                      {
                        "test": [
                          279.4631957,
                          154.8246524
                        ],
                        "passed_time": 45.97096665,
                        "iteration": 956,
                        "remaining_time": 2.065571124,
                        "learn": [
                          178.9633001,
                          95.46555697
                        ]
                      },
                      {
                        "test": [
                          279.4259501,
                          154.8056822
                        ],
                        "passed_time": 46.07087588,
                        "iteration": 957,
                        "remaining_time": 2.019808755,
                        "learn": [
                          178.9169118,
                          95.43994103
                        ]
                      },
                      {
                        "test": [
                          279.4174309,
                          154.7949503
                        ],
                        "passed_time": 46.14250302,
                        "iteration": 958,
                        "remaining_time": 1.972724321,
                        "learn": [
                          178.899104,
                          95.42347816
                        ]
                      },
                      {
                        "test": [
                          279.3689685,
                          154.7801657
                        ],
                        "passed_time": 46.18411313,
                        "iteration": 959,
                        "remaining_time": 1.924338047,
                        "learn": [
                          178.8632714,
                          95.40585055
                        ]
                      },
                      {
                        "test": [
                          279.3702804,
                          154.7768401
                        ],
                        "passed_time": 46.22452079,
                        "iteration": 960,
                        "remaining_time": 1.875917077,
                        "learn": [
                          178.7892598,
                          95.36703025
                        ]
                      },
                      {
                        "test": [
                          279.0914647,
                          154.7173175
                        ],
                        "passed_time": 46.26483072,
                        "iteration": 961,
                        "remaining_time": 1.827508906,
                        "learn": [
                          178.7001715,
                          95.32953733
                        ]
                      },
                      {
                        "test": [
                          279.0876954,
                          154.7135576
                        ],
                        "passed_time": 46.31862199,
                        "iteration": 962,
                        "remaining_time": 1.779635528,
                        "learn": [
                          178.6955248,
                          95.32121046
                        ]
                      },
                      {
                        "test": [
                          279.0787572,
                          154.7074507
                        ],
                        "passed_time": 46.36641343,
                        "iteration": 963,
                        "remaining_time": 1.731525813,
                        "learn": [
                          178.6858604,
                          95.31362183
                        ]
                      },
                      {
                        "test": [
                          279.0770096,
                          154.7026688
                        ],
                        "passed_time": 46.4067799,
                        "iteration": 964,
                        "remaining_time": 1.683147457,
                        "learn": [
                          178.6066472,
                          95.28041462
                        ]
                      },
                      {
                        "test": [
                          279.0647241,
                          154.6950198
                        ],
                        "passed_time": 46.45423662,
                        "iteration": 965,
                        "remaining_time": 1.635035243,
                        "learn": [
                          178.5694729,
                          95.25398864
                        ]
                      },
                      {
                        "test": [
                          278.9893117,
                          154.6694828
                        ],
                        "passed_time": 46.49777385,
                        "iteration": 966,
                        "remaining_time": 1.586790628,
                        "learn": [
                          178.5123856,
                          95.22379512
                        ]
                      },
                      {
                        "test": [
                          278.9336158,
                          154.6368656
                        ],
                        "passed_time": 46.54941603,
                        "iteration": 967,
                        "remaining_time": 1.538823671,
                        "learn": [
                          178.4338939,
                          95.16996729
                        ]
                      },
                      {
                        "test": [
                          278.9215188,
                          154.6261753
                        ],
                        "passed_time": 46.599909,
                        "iteration": 968,
                        "remaining_time": 1.490812362,
                        "learn": [
                          178.4201987,
                          95.15625722
                        ]
                      },
                      {
                        "test": [
                          278.9284588,
                          154.6231312
                        ],
                        "passed_time": 46.64179114,
                        "iteration": 969,
                        "remaining_time": 1.442529623,
                        "learn": [
                          178.3739596,
                          95.12775622
                        ]
                      },
                      {
                        "test": [
                          278.7605645,
                          154.6249286
                        ],
                        "passed_time": 46.68427013,
                        "iteration": 970,
                        "remaining_time": 1.394277893,
                        "learn": [
                          178.2340208,
                          95.06821807
                        ]
                      },
                      {
                        "test": [
                          278.74043,
                          154.6272117
                        ],
                        "passed_time": 46.72729429,
                        "iteration": 971,
                        "remaining_time": 1.346053745,
                        "learn": [
                          178.1997122,
                          95.04565649
                        ]
                      },
                      {
                        "test": [
                          278.7387741,
                          154.6181838
                        ],
                        "passed_time": 46.77469373,
                        "iteration": 972,
                        "remaining_time": 1.297961697,
                        "learn": [
                          178.1771029,
                          95.02421313
                        ]
                      },
                      {
                        "test": [
                          278.7236606,
                          154.6169121
                        ],
                        "passed_time": 46.81761553,
                        "iteration": 973,
                        "remaining_time": 1.249751544,
                        "learn": [
                          178.1144313,
                          94.98967361
                        ]
                      },
                      {
                        "test": [
                          278.7155499,
                          154.6054621
                        ],
                        "passed_time": 46.86083184,
                        "iteration": 974,
                        "remaining_time": 1.201559791,
                        "learn": [
                          178.1044841,
                          94.97879111
                        ]
                      },
                      {
                        "test": [
                          278.6823978,
                          154.6261742
                        ],
                        "passed_time": 46.90228876,
                        "iteration": 975,
                        "remaining_time": 1.153334969,
                        "learn": [
                          178.0373451,
                          94.94257801
                        ]
                      },
                      {
                        "test": [
                          278.6593986,
                          154.6185076
                        ],
                        "passed_time": 46.94293274,
                        "iteration": 976,
                        "remaining_time": 1.105104865,
                        "learn": [
                          177.9989984,
                          94.9242721
                        ]
                      },
                      {
                        "test": [
                          278.5860533,
                          154.5934805
                        ],
                        "passed_time": 46.98667287,
                        "iteration": 977,
                        "remaining_time": 1.056959921,
                        "learn": [
                          177.9444391,
                          94.89581238
                        ]
                      },
                      {
                        "test": [
                          278.5676625,
                          154.5737738
                        ],
                        "passed_time": 47.03341353,
                        "iteration": 978,
                        "remaining_time": 1.008888339,
                        "learn": [
                          177.9233264,
                          94.87565709
                        ]
                      },
                      {
                        "test": [
                          278.5587663,
                          154.5640943
                        ],
                        "passed_time": 47.13899594,
                        "iteration": 979,
                        "remaining_time": 0.9620203253,
                        "learn": [
                          177.9110161,
                          94.85954782
                        ]
                      },
                      {
                        "test": [
                          278.5543554,
                          154.5569171
                        ],
                        "passed_time": 47.20224132,
                        "iteration": 980,
                        "remaining_time": 0.9142126249,
                        "learn": [
                          177.8829732,
                          94.83490303
                        ]
                      },
                      {
                        "test": [
                          278.5424151,
                          154.5454644
                        ],
                        "passed_time": 47.2515041,
                        "iteration": 981,
                        "remaining_time": 0.866117183,
                        "learn": [
                          177.8704481,
                          94.82424518
                        ]
                      },
                      {
                        "test": [
                          278.5155861,
                          154.5279374
                        ],
                        "passed_time": 47.29412664,
                        "iteration": 982,
                        "remaining_time": 0.8179045298,
                        "learn": [
                          177.8167894,
                          94.79660175
                        ]
                      },
                      {
                        "test": [
                          278.5095412,
                          154.5216307
                        ],
                        "passed_time": 47.33824659,
                        "iteration": 983,
                        "remaining_time": 0.7697275868,
                        "learn": [
                          177.8009108,
                          94.78094475
                        ]
                      },
                      {
                        "test": [
                          278.4948022,
                          154.5175778
                        ],
                        "passed_time": 47.38762986,
                        "iteration": 984,
                        "remaining_time": 0.7216390333,
                        "learn": [
                          177.7868246,
                          94.77339802
                        ]
                      },
                      {
                        "test": [
                          278.4798122,
                          154.5193554
                        ],
                        "passed_time": 47.43095989,
                        "iteration": 985,
                        "remaining_time": 0.6734619052,
                        "learn": [
                          177.7523918,
                          94.74996417
                        ]
                      },
                      {
                        "test": [
                          278.4611232,
                          154.5005801
                        ],
                        "passed_time": 47.47831692,
                        "iteration": 986,
                        "remaining_time": 0.6253476392,
                        "learn": [
                          177.731771,
                          94.7313635
                        ]
                      },
                      {
                        "test": [
                          278.4933824,
                          154.5282751
                        ],
                        "passed_time": 47.52012559,
                        "iteration": 987,
                        "remaining_time": 0.5771675173,
                        "learn": [
                          177.6561578,
                          94.68305851
                        ]
                      },
                      {
                        "test": [
                          278.4751707,
                          154.5346019
                        ],
                        "passed_time": 47.57200649,
                        "iteration": 988,
                        "remaining_time": 0.5291123068,
                        "learn": [
                          177.642733,
                          94.67126007
                        ]
                      },
                      {
                        "test": [
                          278.4654288,
                          154.5268574
                        ],
                        "passed_time": 47.61455242,
                        "iteration": 989,
                        "remaining_time": 0.480955075,
                        "learn": [
                          177.6288197,
                          94.66310066
                        ]
                      },
                      {
                        "test": [
                          278.4702834,
                          154.5274857
                        ],
                        "passed_time": 47.65456219,
                        "iteration": 990,
                        "remaining_time": 0.4327861349,
                        "learn": [
                          177.5455144,
                          94.61959527
                        ]
                      },
                      {
                        "test": [
                          278.4356993,
                          154.5139974
                        ],
                        "passed_time": 47.70346099,
                        "iteration": 991,
                        "remaining_time": 0.3847053306,
                        "learn": [
                          177.5277477,
                          94.60847369
                        ]
                      },
                      {
                        "test": [
                          278.3766337,
                          154.4941794
                        ],
                        "passed_time": 47.74814165,
                        "iteration": 992,
                        "remaining_time": 0.3365931436,
                        "learn": [
                          177.4754114,
                          94.58336585
                        ]
                      },
                      {
                        "test": [
                          278.3776588,
                          154.4923826
                        ],
                        "passed_time": 47.79105516,
                        "iteration": 993,
                        "remaining_time": 0.2884771941,
                        "learn": [
                          177.4603894,
                          94.56968784
                        ]
                      },
                      {
                        "test": [
                          278.34402,
                          154.4718227
                        ],
                        "passed_time": 47.83772175,
                        "iteration": 994,
                        "remaining_time": 0.2403905616,
                        "learn": [
                          177.4129833,
                          94.54143251
                        ]
                      },
                      {
                        "test": [
                          278.3336352,
                          154.4628331
                        ],
                        "passed_time": 47.88274001,
                        "iteration": 995,
                        "remaining_time": 0.1923001607,
                        "learn": [
                          177.4016684,
                          94.53001144
                        ]
                      },
                      {
                        "test": [
                          278.3214074,
                          154.4583084
                        ],
                        "passed_time": 47.92894394,
                        "iteration": 996,
                        "remaining_time": 0.1442194903,
                        "learn": [
                          177.3569316,
                          94.5084262
                        ]
                      },
                      {
                        "test": [
                          278.3262293,
                          154.4797352
                        ],
                        "passed_time": 47.97369603,
                        "iteration": 997,
                        "remaining_time": 0.0961396714,
                        "learn": [
                          177.344018,
                          94.49700031
                        ]
                      },
                      {
                        "test": [
                          278.3110074,
                          154.4715726
                        ],
                        "passed_time": 48.01532392,
                        "iteration": 998,
                        "remaining_time": 0.04806338731,
                        "learn": [
                          177.2778691,
                          94.46839959
                        ]
                      },
                      {
                        "test": [
                          278.2489781,
                          154.4485681
                        ],
                        "passed_time": 48.05678846,
                        "iteration": 999,
                        "remaining_time": 0,
                        "learn": [
                          177.2415573,
                          94.45095787
                        ]
                      }
                    ]
                  },
                  "total_iterations": 1000,
                  "passed_iterations": 999
                },
                "path": "catboost_info",
                "name": "catboost_info"
              }
            },
            "_view_module": "catboost-widget",
            "_model_module_version": "^1.0.0",
            "_view_count": null,
            "_view_module_version": "^1.0.0",
            "layout": "IPY_MODEL_af21cf837f674a5d9ff26fc0efc76ea7",
            "_model_module": "catboost-widget"
          }
        }
      }
    }
  },
  "nbformat": 4,
  "nbformat_minor": 0
}