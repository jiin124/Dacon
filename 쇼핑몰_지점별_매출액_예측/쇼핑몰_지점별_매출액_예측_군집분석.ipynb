{
  "cells": [
    {
      "cell_type": "markdown",
      "metadata": {
        "id": "view-in-github",
        "colab_type": "text"
      },
      "source": [
        "<a href=\"https://colab.research.google.com/github/jiin124/Dacon/blob/main/%EC%87%BC%ED%95%91%EB%AA%B0_%EC%A7%80%EC%A0%90%EB%B3%84_%EB%A7%A4%EC%B6%9C%EC%95%A1_%EC%98%88%EC%B8%A1/%EC%87%BC%ED%95%91%EB%AA%B0_%EC%A7%80%EC%A0%90%EB%B3%84_%EB%A7%A4%EC%B6%9C%EC%95%A1_%EC%98%88%EC%B8%A1_%EA%B5%B0%EC%A7%91%EB%B6%84%EC%84%9D.ipynb\" target=\"_parent\"><img src=\"https://colab.research.google.com/assets/colab-badge.svg\" alt=\"Open In Colab\"/></a>"
      ]
    },
    {
      "cell_type": "markdown",
      "metadata": {
        "id": "T4qMNY7o_Tlc"
      },
      "source": [
        "# 쇼핑몰 지점별 매출액 예측\n",
        "\n",
        "\n",
        "https://dacon.io/competitions/official/235942/data\n",
        "\n",
        "## train data\n",
        "- id : 샘플 아이디\n",
        "- Store : 쇼핑몰 지점\n",
        "- Date : 주 단위(Weekly) 날짜\n",
        "- Temperature : 해당 쇼핑몰 주변 기온\n",
        "- Fuel_Price : 해당 쇼핑몰 주변 연료 가격\n",
        "- Promotion 1~5 : 해당 쇼핑몰의 비식별화된 프로모션 정보\n",
        "- Unemployment : 해당 쇼핑몰 지역의 실업률\n",
        "- IsHoliday : 해당 기간의 공휴일 포함 여부\n",
        "- Weekly_Sales : 주간 매출액 (목표 예측값)\n",
        "\n",
        "\n",
        "## test data\n",
        "\n",
        "- id : 샘플 아이디\n",
        "- Store : 쇼핑몰 지점\n",
        "- Date : 주 단위(Weekly) 날짜\n",
        "- Temperature : 해당 쇼핑몰 주변 기온\n",
        "- Fuel_Price : 해당 쇼핑몰 주변 연료 가격\n",
        "- Promotion 1~5 : 해당 쇼핑몰의 비식별화된 프로모션 정보\n",
        "- Unemployment : 해당 쇼핑몰 지역의 실업률\n",
        "- IsHoliday : 해당 기간의 공휴일 포함 여부"
      ]
    },
    {
      "cell_type": "markdown",
      "metadata": {
        "id": "9_rr4Z8HAaq3"
      },
      "source": [
        "어떤 프로모션을 진행해야 판매량이 올라갈까요?💥\n",
        "\n",
        "매장 주변의 날씨가 판매량에 영향을 미치지는 않을까요?🌞\n",
        "\n",
        "혹은 지역 사회의 실업률도 영향을 미칠 수 있지 않을까요?\n",
        "\n",
        "\n",
        "\n",
        "쇼핑몰 매장별 프로모션 정보, 주변 날씨, 실업률, 연료 가격 등의 정보를 바탕으로\n",
        "\n",
        "쇼핑몰의 각 지점별 주간 매출액을 예측해주세요!"
      ]
    },
    {
      "cell_type": "markdown",
      "metadata": {
        "id": "byqlATSkSyin"
      },
      "source": [
        "## 해볼 것\n",
        "- 군집분석\n"
      ]
    },
    {
      "cell_type": "code",
      "source": [
        "import pandas as pd\n",
        "import numpy as np\n",
        "import matplotlib.pyplot as plt\n",
        "import seaborn as sns\n",
        "import os\n",
        "plt.style.use('ggplot')\n",
        "import warnings\n",
        "warnings.filterwarnings('ignore')\n"
      ],
      "metadata": {
        "id": "aSWqJSZw8fdM"
      },
      "execution_count": 1,
      "outputs": []
    },
    {
      "cell_type": "code",
      "execution_count": 162,
      "metadata": {
        "id": "ch5oguip_RQC"
      },
      "outputs": [],
      "source": [
        "train=pd.read_csv('/content/train.csv')\n",
        "test=pd.read_csv('/content/test.csv')\n",
        "sample=pd.read_csv('/content/sample_submission.csv')"
      ]
    },
    {
      "cell_type": "markdown",
      "metadata": {
        "id": "hR1xcaOFA6Xd"
      },
      "source": [
        "# 1. 데이터 전처리\n",
        "\n",
        "- NULL값 없애기\n",
        "- 필요없는 변수 없애기(id)\n",
        "- date 분리\n",
        "- isholiday에서 날짜 처리\n"
      ]
    },
    {
      "cell_type": "markdown",
      "metadata": {
        "id": "v3BoISXnB8la"
      },
      "source": [
        "## id 없애기"
      ]
    },
    {
      "cell_type": "code",
      "execution_count": 163,
      "metadata": {
        "id": "VrDZNYUBA4c0"
      },
      "outputs": [],
      "source": [
        "train.drop('id',axis=1,inplace=True)\n",
        "test.drop('id',axis=1,inplace=True)"
      ]
    },
    {
      "cell_type": "markdown",
      "metadata": {
        "id": "YjEN216rCzhS"
      },
      "source": [
        "## NULL값 처리\n",
        " promotion의 NAN값들이 많아 다 처리해주겠다. 0으로 처리하겠다. "
      ]
    },
    {
      "cell_type": "code",
      "execution_count": 164,
      "metadata": {
        "id": "wUftCPIUCWOi"
      },
      "outputs": [],
      "source": [
        "train=train.fillna(0)\n",
        "test=test.fillna(0)"
      ]
    },
    {
      "cell_type": "markdown",
      "metadata": {
        "id": "FPf9i-a5DZmd"
      },
      "source": [
        "## isholiday에서 숫자로 처리 \n",
        "\n",
        "휴일은 1로 휴일이 아닌날은 0으로 처리하겠다. "
      ]
    },
    {
      "cell_type": "code",
      "execution_count": 165,
      "metadata": {
        "colab": {
          "base_uri": "https://localhost:8080/"
        },
        "id": "xpjU67ojDXS2",
        "outputId": "ddeceebb-b011-4d84-c1c1-3b6707b589e7"
      },
      "outputs": [
        {
          "output_type": "execute_result",
          "data": {
            "text/plain": [
              "False    5805\n",
              "True      450\n",
              "Name: IsHoliday, dtype: int64"
            ]
          },
          "metadata": {},
          "execution_count": 165
        }
      ],
      "source": [
        "train['IsHoliday'].value_counts()"
      ]
    },
    {
      "cell_type": "markdown",
      "metadata": {
        "id": "b8zOqKFrDs80"
      },
      "source": [
        "True가 휴일, False가 휴일이 아닌 것을 알 수 있다. "
      ]
    },
    {
      "cell_type": "code",
      "execution_count": 166,
      "metadata": {
        "colab": {
          "base_uri": "https://localhost:8080/"
        },
        "id": "YgEJMd3eE73l",
        "outputId": "f7a3485f-7702-4744-e4e2-aa5d29afe448"
      },
      "outputs": [
        {
          "output_type": "execute_result",
          "data": {
            "text/plain": [
              "Index(['Store', 'Date', 'Temperature', 'Fuel_Price', 'Promotion1',\n",
              "       'Promotion2', 'Promotion3', 'Promotion4', 'Promotion5', 'Unemployment',\n",
              "       'IsHoliday', 'Weekly_Sales'],\n",
              "      dtype='object')"
            ]
          },
          "metadata": {},
          "execution_count": 166
        }
      ],
      "source": [
        "train.columns"
      ]
    },
    {
      "cell_type": "code",
      "execution_count": 167,
      "metadata": {
        "id": "86oYa73sDnSf"
      },
      "outputs": [],
      "source": [
        "mapping={True:1,False:0}\n",
        "\n",
        "train['IsHoliday']=train['IsHoliday'].astype('object')\n",
        "test['IsHoliday']=test['IsHoliday'].astype('object')\n",
        "\n",
        "train['IsHoliday']=train['IsHoliday'].map(mapping)\n",
        "test['IsHoliday']=test['IsHoliday'].map(mapping)"
      ]
    },
    {
      "cell_type": "code",
      "execution_count": 168,
      "metadata": {
        "colab": {
          "base_uri": "https://localhost:8080/"
        },
        "id": "Vd42gomXFhcn",
        "outputId": "81646b96-d017-4041-cd8b-4f456d15946b"
      },
      "outputs": [
        {
          "output_type": "stream",
          "name": "stdout",
          "text": [
            "<class 'pandas.core.frame.DataFrame'>\n",
            "RangeIndex: 6255 entries, 0 to 6254\n",
            "Data columns (total 12 columns):\n",
            " #   Column        Non-Null Count  Dtype  \n",
            "---  ------        --------------  -----  \n",
            " 0   Store         6255 non-null   int64  \n",
            " 1   Date          6255 non-null   object \n",
            " 2   Temperature   6255 non-null   float64\n",
            " 3   Fuel_Price    6255 non-null   float64\n",
            " 4   Promotion1    6255 non-null   float64\n",
            " 5   Promotion2    6255 non-null   float64\n",
            " 6   Promotion3    6255 non-null   float64\n",
            " 7   Promotion4    6255 non-null   float64\n",
            " 8   Promotion5    6255 non-null   float64\n",
            " 9   Unemployment  6255 non-null   float64\n",
            " 10  IsHoliday     6255 non-null   int64  \n",
            " 11  Weekly_Sales  6255 non-null   float64\n",
            "dtypes: float64(9), int64(2), object(1)\n",
            "memory usage: 586.5+ KB\n"
          ]
        }
      ],
      "source": [
        "train.info()"
      ]
    },
    {
      "cell_type": "markdown",
      "metadata": {
        "id": "MVXu6pBFIiSO"
      },
      "source": [
        "## date 분리"
      ]
    },
    {
      "cell_type": "code",
      "execution_count": 169,
      "metadata": {
        "id": "emsVBt-JIltO"
      },
      "outputs": [],
      "source": [
        "train['date']=pd.to_datetime(train['Date'])\n",
        "test['date']=pd.to_datetime(test['Date'])\n",
        "\n",
        "#date 삭제\n",
        "train.drop('Date',axis=1,inplace=True)\n",
        "test.drop('Date',axis=1,inplace=True)"
      ]
    },
    {
      "cell_type": "markdown",
      "metadata": {
        "id": "iAw8Yqqtm3dt"
      },
      "source": [
        "# 데이터 전처리 2차\n",
        "\n",
        "- 날짜 분리하기 "
      ]
    },
    {
      "cell_type": "code",
      "execution_count": 170,
      "metadata": {
        "id": "oc5L-dorvRK9"
      },
      "outputs": [],
      "source": [
        "train['year']=train['date'].dt.year\n",
        "train['month']=train['date'].dt.month\n",
        "train['day']=train['date'].dt.day\n",
        "train['weekday']=train['date'].dt.weekday"
      ]
    },
    {
      "cell_type": "code",
      "execution_count": 171,
      "metadata": {
        "id": "h3R21N00vpfp"
      },
      "outputs": [],
      "source": [
        "test['year']=test['date'].dt.year\n",
        "test['month']=test['date'].dt.month\n",
        "test['day']=test['date'].dt.day\n",
        "test['weekday']=test['date'].dt.weekday"
      ]
    },
    {
      "cell_type": "code",
      "execution_count": 172,
      "metadata": {
        "id": "btECNO5GAfDK"
      },
      "outputs": [],
      "source": [
        "train.drop('date',axis=1,inplace=True)\n",
        "test.drop('date',axis=1,inplace=True)"
      ]
    },
    {
      "cell_type": "markdown",
      "source": [
        "# 데이터 전처리 3차\n",
        "\n",
        "StandardScaler적용"
      ],
      "metadata": {
        "id": "wJ1gaY8eYyZK"
      }
    },
    {
      "cell_type": "code",
      "source": [
        "col=train.columns\n",
        "col=[ 'Temperature', 'Fuel_Price', 'Promotion1', 'Promotion2',\n",
        "       'Promotion3', 'Promotion4', 'Promotion5', 'Unemployment', 'IsHoliday',\n",
        "       'Weekly_Sales', 'year', 'month', 'day', 'weekday']"
      ],
      "metadata": {
        "id": "ryeqkYhdY6jH"
      },
      "execution_count": 160,
      "outputs": []
    },
    {
      "cell_type": "code",
      "source": [
        "from sklearn.preprocessing import StandardScaler\n",
        "\n",
        "st=StandardScaler()\n",
        "for i in col:\n",
        "  train[i]=st.fit_transform(train[i].values.reshape(-1,1))\n",
        "\n",
        "\n",
        "display(train.head())\n"
      ],
      "metadata": {
        "colab": {
          "base_uri": "https://localhost:8080/",
          "height": 270
        },
        "id": "WZM6inGlYxIJ",
        "outputId": "9e1065ec-5f17-4816-ec24-b57b0bf1a9e2"
      },
      "execution_count": 161,
      "outputs": [
        {
          "output_type": "display_data",
          "data": {
            "text/plain": [
              "   Store  Temperature  Fuel_Price  Promotion1  Promotion2  Promotion3  \\\n",
              "0      1    -0.984245   -1.696293   -0.405482   -0.170211   -0.082414   \n",
              "1      1    -1.188298   -1.749003   -0.405482   -0.170211   -0.082414   \n",
              "2      1    -1.112046   -1.823674   -0.405482   -0.170211   -0.082414   \n",
              "3      1    -0.752268   -1.720452   -0.405482   -0.170211   -0.082414   \n",
              "4      1    -0.759249   -1.579894   -0.405482   -0.170211   -0.082414   \n",
              "\n",
              "   Promotion4  Promotion5  Unemployment  IsHoliday  Weekly_Sales      year  \\\n",
              "0   -0.265323   -0.371303      0.040947  -0.278423      1.054265 -1.186139   \n",
              "1   -0.265323   -0.371303      0.040947   3.591657      1.051199 -1.186139   \n",
              "2   -0.265323   -0.371303      0.040947  -0.278423      0.998157 -1.186139   \n",
              "3   -0.265323   -0.371303      0.040947  -0.278423      0.640457 -1.186139   \n",
              "4   -0.265323   -0.371303      0.040947  -0.278423      0.897056 -1.186139   \n",
              "\n",
              "      month       day   weekday  \n",
              "0 -0.422164 -1.548487  1.700809  \n",
              "1  1.695186 -1.548487 -0.422656  \n",
              "2 -1.329600  0.382423  0.285166  \n",
              "3 -1.329600  1.177504  0.285166  \n",
              "4 -0.422164 -1.434904 -2.546121  "
            ],
            "text/html": [
              "\n",
              "  <div id=\"df-6d88a39f-4ff0-42c8-beef-759ac1b750c0\">\n",
              "    <div class=\"colab-df-container\">\n",
              "      <div>\n",
              "<style scoped>\n",
              "    .dataframe tbody tr th:only-of-type {\n",
              "        vertical-align: middle;\n",
              "    }\n",
              "\n",
              "    .dataframe tbody tr th {\n",
              "        vertical-align: top;\n",
              "    }\n",
              "\n",
              "    .dataframe thead th {\n",
              "        text-align: right;\n",
              "    }\n",
              "</style>\n",
              "<table border=\"1\" class=\"dataframe\">\n",
              "  <thead>\n",
              "    <tr style=\"text-align: right;\">\n",
              "      <th></th>\n",
              "      <th>Store</th>\n",
              "      <th>Temperature</th>\n",
              "      <th>Fuel_Price</th>\n",
              "      <th>Promotion1</th>\n",
              "      <th>Promotion2</th>\n",
              "      <th>Promotion3</th>\n",
              "      <th>Promotion4</th>\n",
              "      <th>Promotion5</th>\n",
              "      <th>Unemployment</th>\n",
              "      <th>IsHoliday</th>\n",
              "      <th>Weekly_Sales</th>\n",
              "      <th>year</th>\n",
              "      <th>month</th>\n",
              "      <th>day</th>\n",
              "      <th>weekday</th>\n",
              "    </tr>\n",
              "  </thead>\n",
              "  <tbody>\n",
              "    <tr>\n",
              "      <th>0</th>\n",
              "      <td>1</td>\n",
              "      <td>-0.984245</td>\n",
              "      <td>-1.696293</td>\n",
              "      <td>-0.405482</td>\n",
              "      <td>-0.170211</td>\n",
              "      <td>-0.082414</td>\n",
              "      <td>-0.265323</td>\n",
              "      <td>-0.371303</td>\n",
              "      <td>0.040947</td>\n",
              "      <td>-0.278423</td>\n",
              "      <td>1.054265</td>\n",
              "      <td>-1.186139</td>\n",
              "      <td>-0.422164</td>\n",
              "      <td>-1.548487</td>\n",
              "      <td>1.700809</td>\n",
              "    </tr>\n",
              "    <tr>\n",
              "      <th>1</th>\n",
              "      <td>1</td>\n",
              "      <td>-1.188298</td>\n",
              "      <td>-1.749003</td>\n",
              "      <td>-0.405482</td>\n",
              "      <td>-0.170211</td>\n",
              "      <td>-0.082414</td>\n",
              "      <td>-0.265323</td>\n",
              "      <td>-0.371303</td>\n",
              "      <td>0.040947</td>\n",
              "      <td>3.591657</td>\n",
              "      <td>1.051199</td>\n",
              "      <td>-1.186139</td>\n",
              "      <td>1.695186</td>\n",
              "      <td>-1.548487</td>\n",
              "      <td>-0.422656</td>\n",
              "    </tr>\n",
              "    <tr>\n",
              "      <th>2</th>\n",
              "      <td>1</td>\n",
              "      <td>-1.112046</td>\n",
              "      <td>-1.823674</td>\n",
              "      <td>-0.405482</td>\n",
              "      <td>-0.170211</td>\n",
              "      <td>-0.082414</td>\n",
              "      <td>-0.265323</td>\n",
              "      <td>-0.371303</td>\n",
              "      <td>0.040947</td>\n",
              "      <td>-0.278423</td>\n",
              "      <td>0.998157</td>\n",
              "      <td>-1.186139</td>\n",
              "      <td>-1.329600</td>\n",
              "      <td>0.382423</td>\n",
              "      <td>0.285166</td>\n",
              "    </tr>\n",
              "    <tr>\n",
              "      <th>3</th>\n",
              "      <td>1</td>\n",
              "      <td>-0.752268</td>\n",
              "      <td>-1.720452</td>\n",
              "      <td>-0.405482</td>\n",
              "      <td>-0.170211</td>\n",
              "      <td>-0.082414</td>\n",
              "      <td>-0.265323</td>\n",
              "      <td>-0.371303</td>\n",
              "      <td>0.040947</td>\n",
              "      <td>-0.278423</td>\n",
              "      <td>0.640457</td>\n",
              "      <td>-1.186139</td>\n",
              "      <td>-1.329600</td>\n",
              "      <td>1.177504</td>\n",
              "      <td>0.285166</td>\n",
              "    </tr>\n",
              "    <tr>\n",
              "      <th>4</th>\n",
              "      <td>1</td>\n",
              "      <td>-0.759249</td>\n",
              "      <td>-1.579894</td>\n",
              "      <td>-0.405482</td>\n",
              "      <td>-0.170211</td>\n",
              "      <td>-0.082414</td>\n",
              "      <td>-0.265323</td>\n",
              "      <td>-0.371303</td>\n",
              "      <td>0.040947</td>\n",
              "      <td>-0.278423</td>\n",
              "      <td>0.897056</td>\n",
              "      <td>-1.186139</td>\n",
              "      <td>-0.422164</td>\n",
              "      <td>-1.434904</td>\n",
              "      <td>-2.546121</td>\n",
              "    </tr>\n",
              "  </tbody>\n",
              "</table>\n",
              "</div>\n",
              "      <button class=\"colab-df-convert\" onclick=\"convertToInteractive('df-6d88a39f-4ff0-42c8-beef-759ac1b750c0')\"\n",
              "              title=\"Convert this dataframe to an interactive table.\"\n",
              "              style=\"display:none;\">\n",
              "        \n",
              "  <svg xmlns=\"http://www.w3.org/2000/svg\" height=\"24px\"viewBox=\"0 0 24 24\"\n",
              "       width=\"24px\">\n",
              "    <path d=\"M0 0h24v24H0V0z\" fill=\"none\"/>\n",
              "    <path d=\"M18.56 5.44l.94 2.06.94-2.06 2.06-.94-2.06-.94-.94-2.06-.94 2.06-2.06.94zm-11 1L8.5 8.5l.94-2.06 2.06-.94-2.06-.94L8.5 2.5l-.94 2.06-2.06.94zm10 10l.94 2.06.94-2.06 2.06-.94-2.06-.94-.94-2.06-.94 2.06-2.06.94z\"/><path d=\"M17.41 7.96l-1.37-1.37c-.4-.4-.92-.59-1.43-.59-.52 0-1.04.2-1.43.59L10.3 9.45l-7.72 7.72c-.78.78-.78 2.05 0 2.83L4 21.41c.39.39.9.59 1.41.59.51 0 1.02-.2 1.41-.59l7.78-7.78 2.81-2.81c.8-.78.8-2.07 0-2.86zM5.41 20L4 18.59l7.72-7.72 1.47 1.35L5.41 20z\"/>\n",
              "  </svg>\n",
              "      </button>\n",
              "      \n",
              "  <style>\n",
              "    .colab-df-container {\n",
              "      display:flex;\n",
              "      flex-wrap:wrap;\n",
              "      gap: 12px;\n",
              "    }\n",
              "\n",
              "    .colab-df-convert {\n",
              "      background-color: #E8F0FE;\n",
              "      border: none;\n",
              "      border-radius: 50%;\n",
              "      cursor: pointer;\n",
              "      display: none;\n",
              "      fill: #1967D2;\n",
              "      height: 32px;\n",
              "      padding: 0 0 0 0;\n",
              "      width: 32px;\n",
              "    }\n",
              "\n",
              "    .colab-df-convert:hover {\n",
              "      background-color: #E2EBFA;\n",
              "      box-shadow: 0px 1px 2px rgba(60, 64, 67, 0.3), 0px 1px 3px 1px rgba(60, 64, 67, 0.15);\n",
              "      fill: #174EA6;\n",
              "    }\n",
              "\n",
              "    [theme=dark] .colab-df-convert {\n",
              "      background-color: #3B4455;\n",
              "      fill: #D2E3FC;\n",
              "    }\n",
              "\n",
              "    [theme=dark] .colab-df-convert:hover {\n",
              "      background-color: #434B5C;\n",
              "      box-shadow: 0px 1px 3px 1px rgba(0, 0, 0, 0.15);\n",
              "      filter: drop-shadow(0px 1px 2px rgba(0, 0, 0, 0.3));\n",
              "      fill: #FFFFFF;\n",
              "    }\n",
              "  </style>\n",
              "\n",
              "      <script>\n",
              "        const buttonEl =\n",
              "          document.querySelector('#df-6d88a39f-4ff0-42c8-beef-759ac1b750c0 button.colab-df-convert');\n",
              "        buttonEl.style.display =\n",
              "          google.colab.kernel.accessAllowed ? 'block' : 'none';\n",
              "\n",
              "        async function convertToInteractive(key) {\n",
              "          const element = document.querySelector('#df-6d88a39f-4ff0-42c8-beef-759ac1b750c0');\n",
              "          const dataTable =\n",
              "            await google.colab.kernel.invokeFunction('convertToInteractive',\n",
              "                                                     [key], {});\n",
              "          if (!dataTable) return;\n",
              "\n",
              "          const docLinkHtml = 'Like what you see? Visit the ' +\n",
              "            '<a target=\"_blank\" href=https://colab.research.google.com/notebooks/data_table.ipynb>data table notebook</a>'\n",
              "            + ' to learn more about interactive tables.';\n",
              "          element.innerHTML = '';\n",
              "          dataTable['output_type'] = 'display_data';\n",
              "          await google.colab.output.renderOutput(dataTable, element);\n",
              "          const docLink = document.createElement('div');\n",
              "          docLink.innerHTML = docLinkHtml;\n",
              "          element.appendChild(docLink);\n",
              "        }\n",
              "      </script>\n",
              "    </div>\n",
              "  </div>\n",
              "  "
            ]
          },
          "metadata": {}
        }
      ]
    },
    {
      "cell_type": "code",
      "source": [
        "y_train.head()"
      ],
      "metadata": {
        "colab": {
          "base_uri": "https://localhost:8080/"
        },
        "id": "uwC6HlYGgRQA",
        "outputId": "e8101121-3114-4e3e-e5ed-5a12a20576ca"
      },
      "execution_count": null,
      "outputs": [
        {
          "output_type": "execute_result",
          "data": {
            "text/plain": [
              "0    1643690.90\n",
              "1    1641957.44\n",
              "2    1611968.17\n",
              "3    1409727.59\n",
              "4    1554806.68\n",
              "Name: Weekly_Sales, dtype: float64"
            ]
          },
          "metadata": {},
          "execution_count": 90
        }
      ]
    },
    {
      "cell_type": "markdown",
      "source": [
        "# 군집 분석"
      ],
      "metadata": {
        "id": "3M2J3KZLn3Fu"
      }
    },
    {
      "cell_type": "code",
      "source": [
        "df=train.copy()"
      ],
      "metadata": {
        "id": "WYCyouAKsJBE"
      },
      "execution_count": 173,
      "outputs": []
    },
    {
      "cell_type": "code",
      "source": [
        "from sklearn.cluster import KMeans"
      ],
      "metadata": {
        "id": "60V7YJTohrMj"
      },
      "execution_count": 174,
      "outputs": []
    },
    {
      "cell_type": "code",
      "source": [
        "kmeans=KMeans(n_clusters=4,init='k-means++',max_iter=300,random_state=0)\n",
        "kmeans.fit(df)"
      ],
      "metadata": {
        "colab": {
          "base_uri": "https://localhost:8080/"
        },
        "id": "ZU25NKAVoJDd",
        "outputId": "cf68d054-a714-4d80-c7a5-bcf624df60cb"
      },
      "execution_count": 175,
      "outputs": [
        {
          "output_type": "execute_result",
          "data": {
            "text/plain": [
              "KMeans(n_clusters=4, random_state=0)"
            ]
          },
          "metadata": {},
          "execution_count": 175
        }
      ]
    },
    {
      "cell_type": "code",
      "source": [
        "print(kmeans.labels_[:280])"
      ],
      "metadata": {
        "colab": {
          "base_uri": "https://localhost:8080/"
        },
        "id": "jA5NA0EOoqis",
        "outputId": "c45c0778-d3ed-4458-f1e6-e90349495a94"
      },
      "execution_count": 176,
      "outputs": [
        {
          "output_type": "stream",
          "name": "stdout",
          "text": [
            "[3 3 3 3 3 3 3 3 3 3 3 3 3 3 3 3 3 3 3 3 3 3 3 3 3 3 3 3 3 3 3 3 3 3 3 3 3\n",
            " 3 3 3 3 3 0 3 3 0 0 3 3 3 3 3 3 3 3 3 3 3 3 3 3 3 3 3 3 3 3 3 3 3 3 3 3 3\n",
            " 3 3 3 3 3 3 3 3 3 3 3 3 3 3 3 3 3 3 3 3 0 3 0 0 0 3 3 3 3 3 3 0 0 3 3 3 3\n",
            " 3 3 0 3 3 3 3 3 3 3 3 3 3 3 3 0 3 3 3 3 3 3 3 3 3 3 3 3 0 0 0 0 0 0 0 0 0\n",
            " 0 0 0 0 0 0 0 0 0 0 0 0 0 0 0 0 0 0 0 0 0 0 0 0 0 0 0 0 0 0 0 0 0 0 0 0 0\n",
            " 0 0 0 0 0 3 0 0 0 0 0 0 0 0 0 0 0 0 0 0 0 3 0 0 0 0 0 0 0 0 0 3 0 0 0 0 0\n",
            " 0 3 3 3 0 0 0 0 0 0 0 0 0 0 0 0 0 0 0 3 3 0 0 0 0 0 0 0 0 0 0 0 0 0 0 0 0\n",
            " 0 0 0 0 0 0 0 0 0 0 0 0 0 0 0 0 0 0 0 2 2]\n"
          ]
        }
      ]
    },
    {
      "cell_type": "code",
      "source": [
        "df['cluster']=kmeans.labels_"
      ],
      "metadata": {
        "id": "8_GxhEyWo1oY"
      },
      "execution_count": 177,
      "outputs": []
    },
    {
      "cell_type": "code",
      "source": [
        "result=df.groupby(['Store','cluster'])['Weekly_Sales'].count()"
      ],
      "metadata": {
        "id": "sYA2NCiKpZ4l"
      },
      "execution_count": 178,
      "outputs": []
    },
    {
      "cell_type": "code",
      "source": [
        "result=pd.DataFrame(result)"
      ],
      "metadata": {
        "id": "WVSXtUZSqXbk"
      },
      "execution_count": 179,
      "outputs": []
    },
    {
      "cell_type": "code",
      "source": [
        "result"
      ],
      "metadata": {
        "colab": {
          "base_uri": "https://localhost:8080/",
          "height": 455
        },
        "id": "Hzwc5Wv8qX3d",
        "outputId": "8a26ad2c-aecf-4dae-982d-81f6dff516f3"
      },
      "execution_count": 180,
      "outputs": [
        {
          "output_type": "execute_result",
          "data": {
            "text/plain": [
              "               Weekly_Sales\n",
              "Store cluster              \n",
              "1     0                  11\n",
              "      3                 128\n",
              "2     0                 131\n",
              "      3                   8\n",
              "3     2                 139\n",
              "...                     ...\n",
              "43    2                 133\n",
              "44    2                 139\n",
              "45    1                 123\n",
              "      2                  13\n",
              "      3                   3\n",
              "\n",
              "[97 rows x 1 columns]"
            ],
            "text/html": [
              "\n",
              "  <div id=\"df-24c21e48-4823-4bcd-b229-ea3e0096e829\">\n",
              "    <div class=\"colab-df-container\">\n",
              "      <div>\n",
              "<style scoped>\n",
              "    .dataframe tbody tr th:only-of-type {\n",
              "        vertical-align: middle;\n",
              "    }\n",
              "\n",
              "    .dataframe tbody tr th {\n",
              "        vertical-align: top;\n",
              "    }\n",
              "\n",
              "    .dataframe thead th {\n",
              "        text-align: right;\n",
              "    }\n",
              "</style>\n",
              "<table border=\"1\" class=\"dataframe\">\n",
              "  <thead>\n",
              "    <tr style=\"text-align: right;\">\n",
              "      <th></th>\n",
              "      <th></th>\n",
              "      <th>Weekly_Sales</th>\n",
              "    </tr>\n",
              "    <tr>\n",
              "      <th>Store</th>\n",
              "      <th>cluster</th>\n",
              "      <th></th>\n",
              "    </tr>\n",
              "  </thead>\n",
              "  <tbody>\n",
              "    <tr>\n",
              "      <th rowspan=\"2\" valign=\"top\">1</th>\n",
              "      <th>0</th>\n",
              "      <td>11</td>\n",
              "    </tr>\n",
              "    <tr>\n",
              "      <th>3</th>\n",
              "      <td>128</td>\n",
              "    </tr>\n",
              "    <tr>\n",
              "      <th rowspan=\"2\" valign=\"top\">2</th>\n",
              "      <th>0</th>\n",
              "      <td>131</td>\n",
              "    </tr>\n",
              "    <tr>\n",
              "      <th>3</th>\n",
              "      <td>8</td>\n",
              "    </tr>\n",
              "    <tr>\n",
              "      <th>3</th>\n",
              "      <th>2</th>\n",
              "      <td>139</td>\n",
              "    </tr>\n",
              "    <tr>\n",
              "      <th>...</th>\n",
              "      <th>...</th>\n",
              "      <td>...</td>\n",
              "    </tr>\n",
              "    <tr>\n",
              "      <th>43</th>\n",
              "      <th>2</th>\n",
              "      <td>133</td>\n",
              "    </tr>\n",
              "    <tr>\n",
              "      <th>44</th>\n",
              "      <th>2</th>\n",
              "      <td>139</td>\n",
              "    </tr>\n",
              "    <tr>\n",
              "      <th rowspan=\"3\" valign=\"top\">45</th>\n",
              "      <th>1</th>\n",
              "      <td>123</td>\n",
              "    </tr>\n",
              "    <tr>\n",
              "      <th>2</th>\n",
              "      <td>13</td>\n",
              "    </tr>\n",
              "    <tr>\n",
              "      <th>3</th>\n",
              "      <td>3</td>\n",
              "    </tr>\n",
              "  </tbody>\n",
              "</table>\n",
              "<p>97 rows × 1 columns</p>\n",
              "</div>\n",
              "      <button class=\"colab-df-convert\" onclick=\"convertToInteractive('df-24c21e48-4823-4bcd-b229-ea3e0096e829')\"\n",
              "              title=\"Convert this dataframe to an interactive table.\"\n",
              "              style=\"display:none;\">\n",
              "        \n",
              "  <svg xmlns=\"http://www.w3.org/2000/svg\" height=\"24px\"viewBox=\"0 0 24 24\"\n",
              "       width=\"24px\">\n",
              "    <path d=\"M0 0h24v24H0V0z\" fill=\"none\"/>\n",
              "    <path d=\"M18.56 5.44l.94 2.06.94-2.06 2.06-.94-2.06-.94-.94-2.06-.94 2.06-2.06.94zm-11 1L8.5 8.5l.94-2.06 2.06-.94-2.06-.94L8.5 2.5l-.94 2.06-2.06.94zm10 10l.94 2.06.94-2.06 2.06-.94-2.06-.94-.94-2.06-.94 2.06-2.06.94z\"/><path d=\"M17.41 7.96l-1.37-1.37c-.4-.4-.92-.59-1.43-.59-.52 0-1.04.2-1.43.59L10.3 9.45l-7.72 7.72c-.78.78-.78 2.05 0 2.83L4 21.41c.39.39.9.59 1.41.59.51 0 1.02-.2 1.41-.59l7.78-7.78 2.81-2.81c.8-.78.8-2.07 0-2.86zM5.41 20L4 18.59l7.72-7.72 1.47 1.35L5.41 20z\"/>\n",
              "  </svg>\n",
              "      </button>\n",
              "      \n",
              "  <style>\n",
              "    .colab-df-container {\n",
              "      display:flex;\n",
              "      flex-wrap:wrap;\n",
              "      gap: 12px;\n",
              "    }\n",
              "\n",
              "    .colab-df-convert {\n",
              "      background-color: #E8F0FE;\n",
              "      border: none;\n",
              "      border-radius: 50%;\n",
              "      cursor: pointer;\n",
              "      display: none;\n",
              "      fill: #1967D2;\n",
              "      height: 32px;\n",
              "      padding: 0 0 0 0;\n",
              "      width: 32px;\n",
              "    }\n",
              "\n",
              "    .colab-df-convert:hover {\n",
              "      background-color: #E2EBFA;\n",
              "      box-shadow: 0px 1px 2px rgba(60, 64, 67, 0.3), 0px 1px 3px 1px rgba(60, 64, 67, 0.15);\n",
              "      fill: #174EA6;\n",
              "    }\n",
              "\n",
              "    [theme=dark] .colab-df-convert {\n",
              "      background-color: #3B4455;\n",
              "      fill: #D2E3FC;\n",
              "    }\n",
              "\n",
              "    [theme=dark] .colab-df-convert:hover {\n",
              "      background-color: #434B5C;\n",
              "      box-shadow: 0px 1px 3px 1px rgba(0, 0, 0, 0.15);\n",
              "      filter: drop-shadow(0px 1px 2px rgba(0, 0, 0, 0.3));\n",
              "      fill: #FFFFFF;\n",
              "    }\n",
              "  </style>\n",
              "\n",
              "      <script>\n",
              "        const buttonEl =\n",
              "          document.querySelector('#df-24c21e48-4823-4bcd-b229-ea3e0096e829 button.colab-df-convert');\n",
              "        buttonEl.style.display =\n",
              "          google.colab.kernel.accessAllowed ? 'block' : 'none';\n",
              "\n",
              "        async function convertToInteractive(key) {\n",
              "          const element = document.querySelector('#df-24c21e48-4823-4bcd-b229-ea3e0096e829');\n",
              "          const dataTable =\n",
              "            await google.colab.kernel.invokeFunction('convertToInteractive',\n",
              "                                                     [key], {});\n",
              "          if (!dataTable) return;\n",
              "\n",
              "          const docLinkHtml = 'Like what you see? Visit the ' +\n",
              "            '<a target=\"_blank\" href=https://colab.research.google.com/notebooks/data_table.ipynb>data table notebook</a>'\n",
              "            + ' to learn more about interactive tables.';\n",
              "          element.innerHTML = '';\n",
              "          dataTable['output_type'] = 'display_data';\n",
              "          await google.colab.output.renderOutput(dataTable, element);\n",
              "          const docLink = document.createElement('div');\n",
              "          docLink.innerHTML = docLinkHtml;\n",
              "          element.appendChild(docLink);\n",
              "        }\n",
              "      </script>\n",
              "    </div>\n",
              "  </div>\n",
              "  "
            ]
          },
          "metadata": {},
          "execution_count": 180
        }
      ]
    },
    {
      "cell_type": "code",
      "source": [
        "from sklearn.decomposition import PCA\n",
        "\n",
        "pca=PCA(n_components=2)\n",
        "pca_transformed=pca.fit_transform(train)\n",
        "\n",
        "df['pca_x']=pca_transformed[:,0]\n",
        "df['pca_y']=pca_transformed[:,1]\n",
        "df.head(3)"
      ],
      "metadata": {
        "colab": {
          "base_uri": "https://localhost:8080/",
          "height": 207
        },
        "id": "hy7pkkmFqlOW",
        "outputId": "b5457986-33de-41f1-892f-27ce0a7f391e"
      },
      "execution_count": 181,
      "outputs": [
        {
          "output_type": "execute_result",
          "data": {
            "text/plain": [
              "   Store  Temperature  Fuel_Price  Promotion1  Promotion2  Promotion3  \\\n",
              "0      1        42.31       2.572         0.0         0.0         0.0   \n",
              "1      1        38.51       2.548         0.0         0.0         0.0   \n",
              "2      1        39.93       2.514         0.0         0.0         0.0   \n",
              "\n",
              "   Promotion4  Promotion5  Unemployment  IsHoliday  Weekly_Sales  year  month  \\\n",
              "0         0.0         0.0         8.106          0    1643690.90  2010      5   \n",
              "1         0.0         0.0         8.106          1    1641957.44  2010     12   \n",
              "2         0.0         0.0         8.106          0    1611968.17  2010      2   \n",
              "\n",
              "   day  weekday  cluster          pca_x        pca_y  \n",
              "0    2        6        3  596061.288830 -4435.032851  \n",
              "1    2        3        3  594327.835353 -4430.928293  \n",
              "2   19        4        3  564338.677995 -4359.927011  "
            ],
            "text/html": [
              "\n",
              "  <div id=\"df-69856a24-09c6-40b8-a600-ce2adbf995be\">\n",
              "    <div class=\"colab-df-container\">\n",
              "      <div>\n",
              "<style scoped>\n",
              "    .dataframe tbody tr th:only-of-type {\n",
              "        vertical-align: middle;\n",
              "    }\n",
              "\n",
              "    .dataframe tbody tr th {\n",
              "        vertical-align: top;\n",
              "    }\n",
              "\n",
              "    .dataframe thead th {\n",
              "        text-align: right;\n",
              "    }\n",
              "</style>\n",
              "<table border=\"1\" class=\"dataframe\">\n",
              "  <thead>\n",
              "    <tr style=\"text-align: right;\">\n",
              "      <th></th>\n",
              "      <th>Store</th>\n",
              "      <th>Temperature</th>\n",
              "      <th>Fuel_Price</th>\n",
              "      <th>Promotion1</th>\n",
              "      <th>Promotion2</th>\n",
              "      <th>Promotion3</th>\n",
              "      <th>Promotion4</th>\n",
              "      <th>Promotion5</th>\n",
              "      <th>Unemployment</th>\n",
              "      <th>IsHoliday</th>\n",
              "      <th>Weekly_Sales</th>\n",
              "      <th>year</th>\n",
              "      <th>month</th>\n",
              "      <th>day</th>\n",
              "      <th>weekday</th>\n",
              "      <th>cluster</th>\n",
              "      <th>pca_x</th>\n",
              "      <th>pca_y</th>\n",
              "    </tr>\n",
              "  </thead>\n",
              "  <tbody>\n",
              "    <tr>\n",
              "      <th>0</th>\n",
              "      <td>1</td>\n",
              "      <td>42.31</td>\n",
              "      <td>2.572</td>\n",
              "      <td>0.0</td>\n",
              "      <td>0.0</td>\n",
              "      <td>0.0</td>\n",
              "      <td>0.0</td>\n",
              "      <td>0.0</td>\n",
              "      <td>8.106</td>\n",
              "      <td>0</td>\n",
              "      <td>1643690.90</td>\n",
              "      <td>2010</td>\n",
              "      <td>5</td>\n",
              "      <td>2</td>\n",
              "      <td>6</td>\n",
              "      <td>3</td>\n",
              "      <td>596061.288830</td>\n",
              "      <td>-4435.032851</td>\n",
              "    </tr>\n",
              "    <tr>\n",
              "      <th>1</th>\n",
              "      <td>1</td>\n",
              "      <td>38.51</td>\n",
              "      <td>2.548</td>\n",
              "      <td>0.0</td>\n",
              "      <td>0.0</td>\n",
              "      <td>0.0</td>\n",
              "      <td>0.0</td>\n",
              "      <td>0.0</td>\n",
              "      <td>8.106</td>\n",
              "      <td>1</td>\n",
              "      <td>1641957.44</td>\n",
              "      <td>2010</td>\n",
              "      <td>12</td>\n",
              "      <td>2</td>\n",
              "      <td>3</td>\n",
              "      <td>3</td>\n",
              "      <td>594327.835353</td>\n",
              "      <td>-4430.928293</td>\n",
              "    </tr>\n",
              "    <tr>\n",
              "      <th>2</th>\n",
              "      <td>1</td>\n",
              "      <td>39.93</td>\n",
              "      <td>2.514</td>\n",
              "      <td>0.0</td>\n",
              "      <td>0.0</td>\n",
              "      <td>0.0</td>\n",
              "      <td>0.0</td>\n",
              "      <td>0.0</td>\n",
              "      <td>8.106</td>\n",
              "      <td>0</td>\n",
              "      <td>1611968.17</td>\n",
              "      <td>2010</td>\n",
              "      <td>2</td>\n",
              "      <td>19</td>\n",
              "      <td>4</td>\n",
              "      <td>3</td>\n",
              "      <td>564338.677995</td>\n",
              "      <td>-4359.927011</td>\n",
              "    </tr>\n",
              "  </tbody>\n",
              "</table>\n",
              "</div>\n",
              "      <button class=\"colab-df-convert\" onclick=\"convertToInteractive('df-69856a24-09c6-40b8-a600-ce2adbf995be')\"\n",
              "              title=\"Convert this dataframe to an interactive table.\"\n",
              "              style=\"display:none;\">\n",
              "        \n",
              "  <svg xmlns=\"http://www.w3.org/2000/svg\" height=\"24px\"viewBox=\"0 0 24 24\"\n",
              "       width=\"24px\">\n",
              "    <path d=\"M0 0h24v24H0V0z\" fill=\"none\"/>\n",
              "    <path d=\"M18.56 5.44l.94 2.06.94-2.06 2.06-.94-2.06-.94-.94-2.06-.94 2.06-2.06.94zm-11 1L8.5 8.5l.94-2.06 2.06-.94-2.06-.94L8.5 2.5l-.94 2.06-2.06.94zm10 10l.94 2.06.94-2.06 2.06-.94-2.06-.94-.94-2.06-.94 2.06-2.06.94z\"/><path d=\"M17.41 7.96l-1.37-1.37c-.4-.4-.92-.59-1.43-.59-.52 0-1.04.2-1.43.59L10.3 9.45l-7.72 7.72c-.78.78-.78 2.05 0 2.83L4 21.41c.39.39.9.59 1.41.59.51 0 1.02-.2 1.41-.59l7.78-7.78 2.81-2.81c.8-.78.8-2.07 0-2.86zM5.41 20L4 18.59l7.72-7.72 1.47 1.35L5.41 20z\"/>\n",
              "  </svg>\n",
              "      </button>\n",
              "      \n",
              "  <style>\n",
              "    .colab-df-container {\n",
              "      display:flex;\n",
              "      flex-wrap:wrap;\n",
              "      gap: 12px;\n",
              "    }\n",
              "\n",
              "    .colab-df-convert {\n",
              "      background-color: #E8F0FE;\n",
              "      border: none;\n",
              "      border-radius: 50%;\n",
              "      cursor: pointer;\n",
              "      display: none;\n",
              "      fill: #1967D2;\n",
              "      height: 32px;\n",
              "      padding: 0 0 0 0;\n",
              "      width: 32px;\n",
              "    }\n",
              "\n",
              "    .colab-df-convert:hover {\n",
              "      background-color: #E2EBFA;\n",
              "      box-shadow: 0px 1px 2px rgba(60, 64, 67, 0.3), 0px 1px 3px 1px rgba(60, 64, 67, 0.15);\n",
              "      fill: #174EA6;\n",
              "    }\n",
              "\n",
              "    [theme=dark] .colab-df-convert {\n",
              "      background-color: #3B4455;\n",
              "      fill: #D2E3FC;\n",
              "    }\n",
              "\n",
              "    [theme=dark] .colab-df-convert:hover {\n",
              "      background-color: #434B5C;\n",
              "      box-shadow: 0px 1px 3px 1px rgba(0, 0, 0, 0.15);\n",
              "      filter: drop-shadow(0px 1px 2px rgba(0, 0, 0, 0.3));\n",
              "      fill: #FFFFFF;\n",
              "    }\n",
              "  </style>\n",
              "\n",
              "      <script>\n",
              "        const buttonEl =\n",
              "          document.querySelector('#df-69856a24-09c6-40b8-a600-ce2adbf995be button.colab-df-convert');\n",
              "        buttonEl.style.display =\n",
              "          google.colab.kernel.accessAllowed ? 'block' : 'none';\n",
              "\n",
              "        async function convertToInteractive(key) {\n",
              "          const element = document.querySelector('#df-69856a24-09c6-40b8-a600-ce2adbf995be');\n",
              "          const dataTable =\n",
              "            await google.colab.kernel.invokeFunction('convertToInteractive',\n",
              "                                                     [key], {});\n",
              "          if (!dataTable) return;\n",
              "\n",
              "          const docLinkHtml = 'Like what you see? Visit the ' +\n",
              "            '<a target=\"_blank\" href=https://colab.research.google.com/notebooks/data_table.ipynb>data table notebook</a>'\n",
              "            + ' to learn more about interactive tables.';\n",
              "          element.innerHTML = '';\n",
              "          dataTable['output_type'] = 'display_data';\n",
              "          await google.colab.output.renderOutput(dataTable, element);\n",
              "          const docLink = document.createElement('div');\n",
              "          docLink.innerHTML = docLinkHtml;\n",
              "          element.appendChild(docLink);\n",
              "        }\n",
              "      </script>\n",
              "    </div>\n",
              "  </div>\n",
              "  "
            ]
          },
          "metadata": {},
          "execution_count": 181
        }
      ]
    },
    {
      "cell_type": "code",
      "source": [
        "plt.figure(figsize=(10,10))\n",
        "marker0_ind=df[df['cluster']==0].index\n",
        "marker1_ind=df[df['cluster']==1].index\n",
        "marker2_ind=df[df['cluster']==2].index\n",
        "marker3_ind=df[df['cluster']==3].index\n",
        "#marker4_ind=df[df['cluster']==4].index\n",
        "\n",
        "plt.scatter(x=df.loc[marker0_ind,'pca_x'],y=df.loc[marker0_ind,'pca_y'],marker='o')\n",
        "plt.scatter(x=df.loc[marker1_ind,'pca_x'],y=df.loc[marker1_ind,'pca_y'],marker='s')\n",
        "plt.scatter(x=df.loc[marker2_ind,'pca_x'],y=df.loc[marker2_ind,'pca_y'],marker='^')\n",
        "plt.scatter(x=df.loc[marker3_ind,'pca_x'],y=df.loc[marker3_ind,'pca_y'],marker='x')\n",
        "#plt.scatter(x=df.loc[marker4_ind,'pca_x'],y=df.loc[marker4_ind,'pca_y'],marker='*')\n",
        "\n",
        "\n",
        "plt.xlabel('PCA 1')\n",
        "plt.ylabel('PCA 2')\n",
        "plt.title('4 cluster')\n",
        "\n",
        "plt.show()"
      ],
      "metadata": {
        "colab": {
          "base_uri": "https://localhost:8080/",
          "height": 626
        },
        "id": "ihw0xxc8seZZ",
        "outputId": "9409a558-a4d6-4ab6-d979-6a8e070338a5"
      },
      "execution_count": 182,
      "outputs": [
        {
          "output_type": "display_data",
          "data": {
            "text/plain": [
              "<Figure size 720x720 with 1 Axes>"
            ],
            "image/png": "[encoded data removed]"
          },
          "metadata": {
            "needs_background": "light"
          }
        }
      ]
    },
    {
      "cell_type": "code",
      "source": [
        "df.groupby('cluster').mean()"
      ],
      "metadata": {
        "colab": {
          "base_uri": "https://localhost:8080/",
          "height": 270
        },
        "id": "tZrHmwfxtIlw",
        "outputId": "221fce06-2f03-430d-f966-843b6d813a6d"
      },
      "execution_count": 183,
      "outputs": [
        {
          "output_type": "execute_result",
          "data": {
            "text/plain": [
              "             Store  Temperature  Fuel_Price   Promotion1   Promotion2  \\\n",
              "cluster                                                                 \n",
              "0        12.712914    60.409370    3.328485  3461.801334  1453.976670   \n",
              "1        25.809927    55.923178    3.349909  2759.929903   964.457718   \n",
              "2        25.977190    63.174325    3.330216   942.182217   296.807705   \n",
              "3        21.962687    62.300814    3.369305  3509.763080  1126.372802   \n",
              "\n",
              "          Promotion3   Promotion4   Promotion5  Unemployment  IsHoliday  \\\n",
              "cluster                                                                   \n",
              "0        1719.306190  1558.835955  2210.171996      7.548870   0.088581   \n",
              "1         241.233668  1104.937633  1400.834153      8.253713   0.065375   \n",
              "2          43.293203   313.349430   738.072646      8.153247   0.070255   \n",
              "3         442.654573  1581.899179  2411.605251      7.898594   0.071235   \n",
              "\n",
              "         Weekly_Sales         year     month        day   weekday  \\\n",
              "cluster                                                             \n",
              "0        2.024947e+06  2010.868730  6.810032  15.678762  3.574173   \n",
              "1        9.370562e+05  2010.923123  6.296005  15.819007  3.615012   \n",
              "2        4.712310e+05  2010.953923  6.276004  15.589416  3.604471   \n",
              "3        1.407413e+06  2010.963365  6.421981  15.460651  3.580733   \n",
              "\n",
              "                 pca_x       pca_y  \n",
              "cluster                             \n",
              "0        977329.679077 -929.545513  \n",
              "1       -110562.056714  588.446042  \n",
              "2       -576391.083289 -470.786517  \n",
              "3        359796.379217  631.502937  "
            ],
            "text/html": [
              "\n",
              "  <div id=\"df-06578c18-b7fa-45d7-9800-eb4e164791b2\">\n",
              "    <div class=\"colab-df-container\">\n",
              "      <div>\n",
              "<style scoped>\n",
              "    .dataframe tbody tr th:only-of-type {\n",
              "        vertical-align: middle;\n",
              "    }\n",
              "\n",
              "    .dataframe tbody tr th {\n",
              "        vertical-align: top;\n",
              "    }\n",
              "\n",
              "    .dataframe thead th {\n",
              "        text-align: right;\n",
              "    }\n",
              "</style>\n",
              "<table border=\"1\" class=\"dataframe\">\n",
              "  <thead>\n",
              "    <tr style=\"text-align: right;\">\n",
              "      <th></th>\n",
              "      <th>Store</th>\n",
              "      <th>Temperature</th>\n",
              "      <th>Fuel_Price</th>\n",
              "      <th>Promotion1</th>\n",
              "      <th>Promotion2</th>\n",
              "      <th>Promotion3</th>\n",
              "      <th>Promotion4</th>\n",
              "      <th>Promotion5</th>\n",
              "      <th>Unemployment</th>\n",
              "      <th>IsHoliday</th>\n",
              "      <th>Weekly_Sales</th>\n",
              "      <th>year</th>\n",
              "      <th>month</th>\n",
              "      <th>day</th>\n",
              "      <th>weekday</th>\n",
              "      <th>pca_x</th>\n",
              "      <th>pca_y</th>\n",
              "    </tr>\n",
              "    <tr>\n",
              "      <th>cluster</th>\n",
              "      <th></th>\n",
              "      <th></th>\n",
              "      <th></th>\n",
              "      <th></th>\n",
              "      <th></th>\n",
              "      <th></th>\n",
              "      <th></th>\n",
              "      <th></th>\n",
              "      <th></th>\n",
              "      <th></th>\n",
              "      <th></th>\n",
              "      <th></th>\n",
              "      <th></th>\n",
              "      <th></th>\n",
              "      <th></th>\n",
              "      <th></th>\n",
              "      <th></th>\n",
              "    </tr>\n",
              "  </thead>\n",
              "  <tbody>\n",
              "    <tr>\n",
              "      <th>0</th>\n",
              "      <td>12.712914</td>\n",
              "      <td>60.409370</td>\n",
              "      <td>3.328485</td>\n",
              "      <td>3461.801334</td>\n",
              "      <td>1453.976670</td>\n",
              "      <td>1719.306190</td>\n",
              "      <td>1558.835955</td>\n",
              "      <td>2210.171996</td>\n",
              "      <td>7.548870</td>\n",
              "      <td>0.088581</td>\n",
              "      <td>2.024947e+06</td>\n",
              "      <td>2010.868730</td>\n",
              "      <td>6.810032</td>\n",
              "      <td>15.678762</td>\n",
              "      <td>3.574173</td>\n",
              "      <td>977329.679077</td>\n",
              "      <td>-929.545513</td>\n",
              "    </tr>\n",
              "    <tr>\n",
              "      <th>1</th>\n",
              "      <td>25.809927</td>\n",
              "      <td>55.923178</td>\n",
              "      <td>3.349909</td>\n",
              "      <td>2759.929903</td>\n",
              "      <td>964.457718</td>\n",
              "      <td>241.233668</td>\n",
              "      <td>1104.937633</td>\n",
              "      <td>1400.834153</td>\n",
              "      <td>8.253713</td>\n",
              "      <td>0.065375</td>\n",
              "      <td>9.370562e+05</td>\n",
              "      <td>2010.923123</td>\n",
              "      <td>6.296005</td>\n",
              "      <td>15.819007</td>\n",
              "      <td>3.615012</td>\n",
              "      <td>-110562.056714</td>\n",
              "      <td>588.446042</td>\n",
              "    </tr>\n",
              "    <tr>\n",
              "      <th>2</th>\n",
              "      <td>25.977190</td>\n",
              "      <td>63.174325</td>\n",
              "      <td>3.330216</td>\n",
              "      <td>942.182217</td>\n",
              "      <td>296.807705</td>\n",
              "      <td>43.293203</td>\n",
              "      <td>313.349430</td>\n",
              "      <td>738.072646</td>\n",
              "      <td>8.153247</td>\n",
              "      <td>0.070255</td>\n",
              "      <td>4.712310e+05</td>\n",
              "      <td>2010.953923</td>\n",
              "      <td>6.276004</td>\n",
              "      <td>15.589416</td>\n",
              "      <td>3.604471</td>\n",
              "      <td>-576391.083289</td>\n",
              "      <td>-470.786517</td>\n",
              "    </tr>\n",
              "    <tr>\n",
              "      <th>3</th>\n",
              "      <td>21.962687</td>\n",
              "      <td>62.300814</td>\n",
              "      <td>3.369305</td>\n",
              "      <td>3509.763080</td>\n",
              "      <td>1126.372802</td>\n",
              "      <td>442.654573</td>\n",
              "      <td>1581.899179</td>\n",
              "      <td>2411.605251</td>\n",
              "      <td>7.898594</td>\n",
              "      <td>0.071235</td>\n",
              "      <td>1.407413e+06</td>\n",
              "      <td>2010.963365</td>\n",
              "      <td>6.421981</td>\n",
              "      <td>15.460651</td>\n",
              "      <td>3.580733</td>\n",
              "      <td>359796.379217</td>\n",
              "      <td>631.502937</td>\n",
              "    </tr>\n",
              "  </tbody>\n",
              "</table>\n",
              "</div>\n",
              "      <button class=\"colab-df-convert\" onclick=\"convertToInteractive('df-06578c18-b7fa-45d7-9800-eb4e164791b2')\"\n",
              "              title=\"Convert this dataframe to an interactive table.\"\n",
              "              style=\"display:none;\">\n",
              "        \n",
              "  <svg xmlns=\"http://www.w3.org/2000/svg\" height=\"24px\"viewBox=\"0 0 24 24\"\n",
              "       width=\"24px\">\n",
              "    <path d=\"M0 0h24v24H0V0z\" fill=\"none\"/>\n",
              "    <path d=\"M18.56 5.44l.94 2.06.94-2.06 2.06-.94-2.06-.94-.94-2.06-.94 2.06-2.06.94zm-11 1L8.5 8.5l.94-2.06 2.06-.94-2.06-.94L8.5 2.5l-.94 2.06-2.06.94zm10 10l.94 2.06.94-2.06 2.06-.94-2.06-.94-.94-2.06-.94 2.06-2.06.94z\"/><path d=\"M17.41 7.96l-1.37-1.37c-.4-.4-.92-.59-1.43-.59-.52 0-1.04.2-1.43.59L10.3 9.45l-7.72 7.72c-.78.78-.78 2.05 0 2.83L4 21.41c.39.39.9.59 1.41.59.51 0 1.02-.2 1.41-.59l7.78-7.78 2.81-2.81c.8-.78.8-2.07 0-2.86zM5.41 20L4 18.59l7.72-7.72 1.47 1.35L5.41 20z\"/>\n",
              "  </svg>\n",
              "      </button>\n",
              "      \n",
              "  <style>\n",
              "    .colab-df-container {\n",
              "      display:flex;\n",
              "      flex-wrap:wrap;\n",
              "      gap: 12px;\n",
              "    }\n",
              "\n",
              "    .colab-df-convert {\n",
              "      background-color: #E8F0FE;\n",
              "      border: none;\n",
              "      border-radius: 50%;\n",
              "      cursor: pointer;\n",
              "      display: none;\n",
              "      fill: #1967D2;\n",
              "      height: 32px;\n",
              "      padding: 0 0 0 0;\n",
              "      width: 32px;\n",
              "    }\n",
              "\n",
              "    .colab-df-convert:hover {\n",
              "      background-color: #E2EBFA;\n",
              "      box-shadow: 0px 1px 2px rgba(60, 64, 67, 0.3), 0px 1px 3px 1px rgba(60, 64, 67, 0.15);\n",
              "      fill: #174EA6;\n",
              "    }\n",
              "\n",
              "    [theme=dark] .colab-df-convert {\n",
              "      background-color: #3B4455;\n",
              "      fill: #D2E3FC;\n",
              "    }\n",
              "\n",
              "    [theme=dark] .colab-df-convert:hover {\n",
              "      background-color: #434B5C;\n",
              "      box-shadow: 0px 1px 3px 1px rgba(0, 0, 0, 0.15);\n",
              "      filter: drop-shadow(0px 1px 2px rgba(0, 0, 0, 0.3));\n",
              "      fill: #FFFFFF;\n",
              "    }\n",
              "  </style>\n",
              "\n",
              "      <script>\n",
              "        const buttonEl =\n",
              "          document.querySelector('#df-06578c18-b7fa-45d7-9800-eb4e164791b2 button.colab-df-convert');\n",
              "        buttonEl.style.display =\n",
              "          google.colab.kernel.accessAllowed ? 'block' : 'none';\n",
              "\n",
              "        async function convertToInteractive(key) {\n",
              "          const element = document.querySelector('#df-06578c18-b7fa-45d7-9800-eb4e164791b2');\n",
              "          const dataTable =\n",
              "            await google.colab.kernel.invokeFunction('convertToInteractive',\n",
              "                                                     [key], {});\n",
              "          if (!dataTable) return;\n",
              "\n",
              "          const docLinkHtml = 'Like what you see? Visit the ' +\n",
              "            '<a target=\"_blank\" href=https://colab.research.google.com/notebooks/data_table.ipynb>data table notebook</a>'\n",
              "            + ' to learn more about interactive tables.';\n",
              "          element.innerHTML = '';\n",
              "          dataTable['output_type'] = 'display_data';\n",
              "          await google.colab.output.renderOutput(dataTable, element);\n",
              "          const docLink = document.createElement('div');\n",
              "          docLink.innerHTML = docLinkHtml;\n",
              "          element.appendChild(docLink);\n",
              "        }\n",
              "      </script>\n",
              "    </div>\n",
              "  </div>\n",
              "  "
            ]
          },
          "metadata": {},
          "execution_count": 183
        }
      ]
    },
    {
      "cell_type": "markdown",
      "source": [
        "### < 군집 정리 > \n",
        "\n",
        "각 군집에서 연료 가격은 별다른 특성이 없음. \n",
        "\n",
        "- Weekly sales : 1, 2,0,3 순으로 큼\n",
        "- temperature : 1,0,3,2 순으로 낮음\n",
        "- promotion : 2는 가장 낮음. \n",
        "- unemployment : 1,2,3,0 순으로 높음\n"
      ],
      "metadata": {
        "id": "bC36IUk_yu1j"
      }
    },
    {
      "cell_type": "code",
      "source": [
        "df[df['cluster']==0]['Store'].value_counts()"
      ],
      "metadata": {
        "colab": {
          "base_uri": "https://localhost:8080/"
        },
        "id": "GvCNtT2_u2G8",
        "outputId": "ce57c0e9-406b-4da2-b90f-d09d626c5c26"
      },
      "execution_count": 107,
      "outputs": [
        {
          "output_type": "execute_result",
          "data": {
            "text/plain": [
              "20    139\n",
              "4     139\n",
              "13    135\n",
              "2     131\n",
              "14    120\n",
              "10    112\n",
              "27     78\n",
              "6      14\n",
              "1      11\n",
              "39     10\n",
              "23      8\n",
              "19      7\n",
              "11      6\n",
              "28      5\n",
              "24      4\n",
              "31      4\n",
              "41      4\n",
              "35      3\n",
              "18      2\n",
              "22      2\n",
              "32      2\n",
              "12      1\n",
              "Name: Store, dtype: int64"
            ]
          },
          "metadata": {},
          "execution_count": 107
        }
      ]
    },
    {
      "cell_type": "code",
      "source": [
        "df[df['cluster']==1]['Store'].value_counts()"
      ],
      "metadata": {
        "colab": {
          "base_uri": "https://localhost:8080/"
        },
        "id": "vg80lj-2wBgg",
        "outputId": "a85cb3fd-6743-4890-a6c2-986a060619f9"
      },
      "execution_count": 108,
      "outputs": [
        {
          "output_type": "execute_result",
          "data": {
            "text/plain": [
              "34    134\n",
              "8     134\n",
              "40    133\n",
              "17    132\n",
              "26    132\n",
              "12    130\n",
              "22    127\n",
              "45    123\n",
              "35    112\n",
              "18    112\n",
              "21     95\n",
              "32     92\n",
              "25     51\n",
              "41     39\n",
              "28     28\n",
              "23     18\n",
              "7      11\n",
              "24     11\n",
              "15     10\n",
              "29      7\n",
              "43      6\n",
              "11      5\n",
              "9       5\n",
              "16      3\n",
              "39      2\n",
              "Name: Store, dtype: int64"
            ]
          },
          "metadata": {},
          "execution_count": 108
        }
      ]
    },
    {
      "cell_type": "code",
      "source": [
        "df[df['cluster']==2]['Store'].value_counts()"
      ],
      "metadata": {
        "colab": {
          "base_uri": "https://localhost:8080/"
        },
        "id": "rd4KktqGwSE1",
        "outputId": "bfca9795-71a3-4aa6-822d-231e37b903ca"
      },
      "execution_count": 109,
      "outputs": [
        {
          "output_type": "execute_result",
          "data": {
            "text/plain": [
              "3     139\n",
              "33    139\n",
              "44    139\n",
              "42    139\n",
              "38    139\n",
              "37    139\n",
              "36    139\n",
              "5     139\n",
              "30    139\n",
              "16    136\n",
              "9     134\n",
              "43    133\n",
              "29    132\n",
              "7     128\n",
              "15    127\n",
              "25     86\n",
              "21     40\n",
              "45     13\n",
              "35     10\n",
              "18      1\n",
              "17      1\n",
              "Name: Store, dtype: int64"
            ]
          },
          "metadata": {},
          "execution_count": 109
        }
      ]
    },
    {
      "cell_type": "code",
      "source": [
        "df[df['cluster']==3]['Store'].value_counts()"
      ],
      "metadata": {
        "colab": {
          "base_uri": "https://localhost:8080/"
        },
        "id": "gRzyJcoRwZfd",
        "outputId": "5c202fd8-eee8-43ad-fe1b-a716978802a4"
      },
      "execution_count": 110,
      "outputs": [
        {
          "output_type": "execute_result",
          "data": {
            "text/plain": [
              "31    135\n",
              "19    132\n",
              "1     128\n",
              "11    128\n",
              "39    127\n",
              "6     125\n",
              "24    124\n",
              "23    113\n",
              "28    106\n",
              "41     96\n",
              "27     61\n",
              "32     45\n",
              "10     27\n",
              "18     24\n",
              "14     19\n",
              "35     14\n",
              "22     10\n",
              "2       8\n",
              "12      8\n",
              "26      7\n",
              "17      6\n",
              "40      6\n",
              "34      5\n",
              "8       5\n",
              "21      4\n",
              "13      4\n",
              "45      3\n",
              "25      2\n",
              "15      2\n",
              "Name: Store, dtype: int64"
            ]
          },
          "metadata": {},
          "execution_count": 110
        }
      ]
    },
    {
      "cell_type": "code",
      "source": [
        ""
      ],
      "metadata": {
        "id": "aKfId_dCwddl"
      },
      "execution_count": 111,
      "outputs": []
    },
    {
      "cell_type": "code",
      "source": [
        ""
      ],
      "metadata": {
        "id": "EhKhXaIBwfoh"
      },
      "execution_count": null,
      "outputs": []
    }
  ],
  "metadata": {
    "colab": {
      "name": "쇼핑몰 지점별 매출액 예측_군집분석.ipynb의 사본",
      "provenance": [],
      "collapsed_sections": [],
      "mount_file_id": "15atswdf9xTARMvjCKGeOXWZSgtAtNtLs",
      "authorship_tag": "ABX9TyMswoI4SS31xK4zzybRmDZj",
      "include_colab_link": true
    },
    "kernelspec": {
      "display_name": "Python 3",
      "name": "python3"
    },
    "language_info": {
      "name": "python"
    },
    "gpuClass": "standard"
  },
  "nbformat": 4,
  "nbformat_minor": 0
}