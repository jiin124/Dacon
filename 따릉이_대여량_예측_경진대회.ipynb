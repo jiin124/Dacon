{
  "nbformat": 4,
  "nbformat_minor": 0,
  "metadata": {
    "colab": {
      "name": "따릉이 대여량 예측 경진대회",
      "provenance": [],
      "collapsed_sections": [],
      "authorship_tag": "ABX9TyPH+NSLExM6/uKc69umCIuf",
      "include_colab_link": true
    },
    "kernelspec": {
      "name": "python3",
      "display_name": "Python 3"
    },
    "language_info": {
      "name": "python"
    }
  },
  "cells": [
    {
      "cell_type": "markdown",
      "metadata": {
        "id": "view-in-github",
        "colab_type": "text"
      },
      "source": [
        "<a href=\"https://colab.research.google.com/github/jiin124/Dacon/blob/main/%EB%94%B0%EB%A6%89%EC%9D%B4_%EB%8C%80%EC%97%AC%EB%9F%89_%EC%98%88%EC%B8%A1_%EA%B2%BD%EC%A7%84%EB%8C%80%ED%9A%8C.ipynb\" target=\"_parent\"><img src=\"https://colab.research.google.com/assets/colab-badge.svg\" alt=\"Open In Colab\"/></a>"
      ]
    },
    {
      "cell_type": "markdown",
      "metadata": {
        "id": "eLT_3W1t-DUP"
      },
      "source": [
        "1. bicycle_train.csv : 학습 데이터\n",
        "- date_time : 일별 날짜\n",
        "- wind_direction: 풍향 (degree)\n",
        "- sky_condition : 하늘 상태 (하단 설명 참조)\n",
        "- precipitation_form : 강수 형태 (하단 설명 참조)\n",
        "- wind_speed : 풍속 (m/s)\n",
        "- humidity : 습도 (%)\n",
        "- low_temp : 최저 기온 ( `C)\n",
        "- high_temp : 최고 기온 ( `C)\n",
        "- Precipitation_Probability : 강수 확률 (%)\n",
        "- number_of_rentals : 따릉이 대여량\n",
        "\n",
        "\n",
        "2. bicycle_test.csv : 테스트 데이터\n",
        "- date_time : 일별 날짜\n",
        "- wind_direction: 풍향\n",
        "- sky_condition : 하늘 상태\n",
        "- precipitation_form : 강수 형태\n",
        "- wind_speed : 풍속\n",
        "- humidity : 습도\n",
        "- low_temp : 최저 기온\n",
        "- high_temp : 최고 기온\n",
        "- Precipitation_Probability : 강수 확률\n",
        "\n",
        "\n",
        "3. sample_submissoin.csv : 제출 양식\n",
        "date_time : 일별 날짜\n",
        "number_of_rentals : 따릉이 대여량\n",
        "\n",
        "\n",
        "\n",
        "\n",
        "\n",
        "\n",
        "데이터 상세 설명\n",
        "기상 데이터는 하루에 총 8번 3시간 간격으로 발표되는 기상단기예보(SHRT) 데이터를 1일 평균으로 변환한 데이터입니다.\n",
        "\n",
        "2019년 6월 4일 까지 sky_condition (하늘 상태) 코드  : 맑음(1), 구름조금(2), 구름많음(3), 흐림(4)\n",
        "\n",
        "2020년  sky_condition (하늘 상태) 코드  : 맑음(1), 구름많음(3), 흐림(4)\n",
        "\n",
        "precipitation_form (강수 형태) 코드 : 없음(0), 비(1), 진눈깨비(2), 눈(3), 소나기(4)\n",
        "원본 데이터에는 없음(0), 비(1),소나기(4)가 포함되어있었으며 진눈깨비(2)와 눈(3) 성분은 존재하지 않습니다.\n",
        "\n",
        "\n"
      ]
    },
    {
      "cell_type": "code",
      "metadata": {
        "id": "XgIFXKjS8PSt"
      },
      "source": [
        "import pandas as pd\n",
        "import numpy as np\n",
        "import seaborn as sns\n",
        "import matplotlib.pyplot as plt\n"
      ],
      "execution_count": 164,
      "outputs": []
    },
    {
      "cell_type": "code",
      "metadata": {
        "id": "AkBUVDxC-iDt"
      },
      "source": [
        "train=pd.read_csv(\"train.csv\")\n",
        "test=pd.read_csv(\"test.csv\")\n",
        "submission=pd.read_csv(\"sample_submission.csv\")"
      ],
      "execution_count": 165,
      "outputs": []
    },
    {
      "cell_type": "code",
      "metadata": {
        "colab": {
          "base_uri": "https://localhost:8080/"
        },
        "id": "qMlWkhqO_sE7",
        "outputId": "b201bf6c-45f3-47d5-fb21-a2702a17efff"
      },
      "source": [
        "train.info()"
      ],
      "execution_count": 84,
      "outputs": [
        {
          "output_type": "stream",
          "name": "stdout",
          "text": [
            "<class 'pandas.core.frame.DataFrame'>\n",
            "RangeIndex: 273 entries, 0 to 272\n",
            "Data columns (total 10 columns):\n",
            " #   Column                     Non-Null Count  Dtype  \n",
            "---  ------                     --------------  -----  \n",
            " 0   date_time                  273 non-null    object \n",
            " 1   wind_direction             273 non-null    float64\n",
            " 2   sky_condition              273 non-null    float64\n",
            " 3   precipitation_form         273 non-null    float64\n",
            " 4   wind_speed                 273 non-null    float64\n",
            " 5   humidity                   273 non-null    float64\n",
            " 6   low_temp                   273 non-null    float64\n",
            " 7   high_temp                  273 non-null    float64\n",
            " 8   Precipitation_Probability  273 non-null    float64\n",
            " 9   number_of_rentals          273 non-null    int64  \n",
            "dtypes: float64(8), int64(1), object(1)\n",
            "memory usage: 21.5+ KB\n"
          ]
        }
      ]
    },
    {
      "cell_type": "code",
      "metadata": {
        "colab": {
          "base_uri": "https://localhost:8080/",
          "height": 307
        },
        "id": "xQTzP60J_yQ1",
        "outputId": "e7efc8f6-3ed6-4d79-df96-5d99e6aa68e9"
      },
      "source": [
        "train.head()"
      ],
      "execution_count": 85,
      "outputs": [
        {
          "output_type": "execute_result",
          "data": {
            "text/html": [
              "<div>\n",
              "<style scoped>\n",
              "    .dataframe tbody tr th:only-of-type {\n",
              "        vertical-align: middle;\n",
              "    }\n",
              "\n",
              "    .dataframe tbody tr th {\n",
              "        vertical-align: top;\n",
              "    }\n",
              "\n",
              "    .dataframe thead th {\n",
              "        text-align: right;\n",
              "    }\n",
              "</style>\n",
              "<table border=\"1\" class=\"dataframe\">\n",
              "  <thead>\n",
              "    <tr style=\"text-align: right;\">\n",
              "      <th></th>\n",
              "      <th>date_time</th>\n",
              "      <th>wind_direction</th>\n",
              "      <th>sky_condition</th>\n",
              "      <th>precipitation_form</th>\n",
              "      <th>wind_speed</th>\n",
              "      <th>humidity</th>\n",
              "      <th>low_temp</th>\n",
              "      <th>high_temp</th>\n",
              "      <th>Precipitation_Probability</th>\n",
              "      <th>number_of_rentals</th>\n",
              "    </tr>\n",
              "  </thead>\n",
              "  <tbody>\n",
              "    <tr>\n",
              "      <th>0</th>\n",
              "      <td>2018-04-01</td>\n",
              "      <td>207.500</td>\n",
              "      <td>4.000</td>\n",
              "      <td>0.000</td>\n",
              "      <td>3.050</td>\n",
              "      <td>75.000</td>\n",
              "      <td>12.600</td>\n",
              "      <td>21.000</td>\n",
              "      <td>30.000</td>\n",
              "      <td>22994</td>\n",
              "    </tr>\n",
              "    <tr>\n",
              "      <th>1</th>\n",
              "      <td>2018-04-02</td>\n",
              "      <td>208.317</td>\n",
              "      <td>2.950</td>\n",
              "      <td>0.000</td>\n",
              "      <td>3.278</td>\n",
              "      <td>69.833</td>\n",
              "      <td>12.812</td>\n",
              "      <td>19.000</td>\n",
              "      <td>19.500</td>\n",
              "      <td>28139</td>\n",
              "    </tr>\n",
              "    <tr>\n",
              "      <th>2</th>\n",
              "      <td>2018-04-03</td>\n",
              "      <td>213.516</td>\n",
              "      <td>2.911</td>\n",
              "      <td>0.000</td>\n",
              "      <td>2.690</td>\n",
              "      <td>74.879</td>\n",
              "      <td>10.312</td>\n",
              "      <td>15.316</td>\n",
              "      <td>19.113</td>\n",
              "      <td>26817</td>\n",
              "    </tr>\n",
              "    <tr>\n",
              "      <th>3</th>\n",
              "      <td>2018-04-04</td>\n",
              "      <td>143.836</td>\n",
              "      <td>3.692</td>\n",
              "      <td>0.425</td>\n",
              "      <td>3.138</td>\n",
              "      <td>71.849</td>\n",
              "      <td>8.312</td>\n",
              "      <td>12.368</td>\n",
              "      <td>43.493</td>\n",
              "      <td>26034</td>\n",
              "    </tr>\n",
              "    <tr>\n",
              "      <th>4</th>\n",
              "      <td>2018-04-05</td>\n",
              "      <td>95.905</td>\n",
              "      <td>4.000</td>\n",
              "      <td>0.723</td>\n",
              "      <td>3.186</td>\n",
              "      <td>73.784</td>\n",
              "      <td>5.875</td>\n",
              "      <td>10.421</td>\n",
              "      <td>63.378</td>\n",
              "      <td>2833</td>\n",
              "    </tr>\n",
              "  </tbody>\n",
              "</table>\n",
              "</div>"
            ],
            "text/plain": [
              "    date_time  wind_direction  ...  Precipitation_Probability  number_of_rentals\n",
              "0  2018-04-01         207.500  ...                     30.000              22994\n",
              "1  2018-04-02         208.317  ...                     19.500              28139\n",
              "2  2018-04-03         213.516  ...                     19.113              26817\n",
              "3  2018-04-04         143.836  ...                     43.493              26034\n",
              "4  2018-04-05          95.905  ...                     63.378               2833\n",
              "\n",
              "[5 rows x 10 columns]"
            ]
          },
          "metadata": {},
          "execution_count": 85
        }
      ]
    },
    {
      "cell_type": "code",
      "metadata": {
        "colab": {
          "base_uri": "https://localhost:8080/",
          "height": 307
        },
        "id": "f3o386IbDhuT",
        "outputId": "8b54274a-188e-4f7a-e209-c00e3bedc157"
      },
      "source": [
        "test.head()"
      ],
      "execution_count": 86,
      "outputs": [
        {
          "output_type": "execute_result",
          "data": {
            "text/html": [
              "<div>\n",
              "<style scoped>\n",
              "    .dataframe tbody tr th:only-of-type {\n",
              "        vertical-align: middle;\n",
              "    }\n",
              "\n",
              "    .dataframe tbody tr th {\n",
              "        vertical-align: top;\n",
              "    }\n",
              "\n",
              "    .dataframe thead th {\n",
              "        text-align: right;\n",
              "    }\n",
              "</style>\n",
              "<table border=\"1\" class=\"dataframe\">\n",
              "  <thead>\n",
              "    <tr style=\"text-align: right;\">\n",
              "      <th></th>\n",
              "      <th>date_time</th>\n",
              "      <th>wind_direction</th>\n",
              "      <th>sky_condition</th>\n",
              "      <th>precipitation_form</th>\n",
              "      <th>wind_speed</th>\n",
              "      <th>humidity</th>\n",
              "      <th>low_temp</th>\n",
              "      <th>high_temp</th>\n",
              "      <th>Precipitation_Probability</th>\n",
              "    </tr>\n",
              "  </thead>\n",
              "  <tbody>\n",
              "    <tr>\n",
              "      <th>0</th>\n",
              "      <td>2021-04-01</td>\n",
              "      <td>108.833</td>\n",
              "      <td>3.000</td>\n",
              "      <td>0.000</td>\n",
              "      <td>2.900</td>\n",
              "      <td>28.333</td>\n",
              "      <td>11.800</td>\n",
              "      <td>20.667</td>\n",
              "      <td>18.333</td>\n",
              "    </tr>\n",
              "    <tr>\n",
              "      <th>1</th>\n",
              "      <td>2021-04-02</td>\n",
              "      <td>116.717</td>\n",
              "      <td>3.850</td>\n",
              "      <td>0.000</td>\n",
              "      <td>2.662</td>\n",
              "      <td>46.417</td>\n",
              "      <td>12.000</td>\n",
              "      <td>19.000</td>\n",
              "      <td>28.500</td>\n",
              "    </tr>\n",
              "    <tr>\n",
              "      <th>2</th>\n",
              "      <td>2021-04-03</td>\n",
              "      <td>82.669</td>\n",
              "      <td>4.000</td>\n",
              "      <td>0.565</td>\n",
              "      <td>2.165</td>\n",
              "      <td>77.258</td>\n",
              "      <td>8.875</td>\n",
              "      <td>16.368</td>\n",
              "      <td>52.847</td>\n",
              "    </tr>\n",
              "    <tr>\n",
              "      <th>3</th>\n",
              "      <td>2021-04-04</td>\n",
              "      <td>44.123</td>\n",
              "      <td>3.466</td>\n",
              "      <td>0.466</td>\n",
              "      <td>3.747</td>\n",
              "      <td>63.288</td>\n",
              "      <td>6.250</td>\n",
              "      <td>17.368</td>\n",
              "      <td>37.671</td>\n",
              "    </tr>\n",
              "    <tr>\n",
              "      <th>4</th>\n",
              "      <td>2021-04-05</td>\n",
              "      <td>147.791</td>\n",
              "      <td>1.500</td>\n",
              "      <td>0.000</td>\n",
              "      <td>1.560</td>\n",
              "      <td>48.176</td>\n",
              "      <td>7.188</td>\n",
              "      <td>18.684</td>\n",
              "      <td>4.459</td>\n",
              "    </tr>\n",
              "  </tbody>\n",
              "</table>\n",
              "</div>"
            ],
            "text/plain": [
              "    date_time  wind_direction  ...  high_temp  Precipitation_Probability\n",
              "0  2021-04-01         108.833  ...     20.667                     18.333\n",
              "1  2021-04-02         116.717  ...     19.000                     28.500\n",
              "2  2021-04-03          82.669  ...     16.368                     52.847\n",
              "3  2021-04-04          44.123  ...     17.368                     37.671\n",
              "4  2021-04-05         147.791  ...     18.684                      4.459\n",
              "\n",
              "[5 rows x 9 columns]"
            ]
          },
          "metadata": {},
          "execution_count": 86
        }
      ]
    },
    {
      "cell_type": "code",
      "metadata": {
        "colab": {
          "base_uri": "https://localhost:8080/"
        },
        "id": "dcWa92A8_0fU",
        "outputId": "cfb9c8ea-12b3-4401-e850-bbc2560fc590"
      },
      "source": [
        "train.isna().sum()"
      ],
      "execution_count": 87,
      "outputs": [
        {
          "output_type": "execute_result",
          "data": {
            "text/plain": [
              "date_time                    0\n",
              "wind_direction               0\n",
              "sky_condition                0\n",
              "precipitation_form           0\n",
              "wind_speed                   0\n",
              "humidity                     0\n",
              "low_temp                     0\n",
              "high_temp                    0\n",
              "Precipitation_Probability    0\n",
              "number_of_rentals            0\n",
              "dtype: int64"
            ]
          },
          "metadata": {},
          "execution_count": 87
        }
      ]
    },
    {
      "cell_type": "code",
      "metadata": {
        "colab": {
          "base_uri": "https://localhost:8080/"
        },
        "id": "tD-iU1WpABAg",
        "outputId": "ef8aa1c3-0d70-480c-e84c-bf1b8dbf7fc7"
      },
      "source": [
        "test.isna().sum()"
      ],
      "execution_count": 88,
      "outputs": [
        {
          "output_type": "execute_result",
          "data": {
            "text/plain": [
              "date_time                    0\n",
              "wind_direction               0\n",
              "sky_condition                0\n",
              "precipitation_form           0\n",
              "wind_speed                   0\n",
              "humidity                     0\n",
              "low_temp                     0\n",
              "high_temp                    0\n",
              "Precipitation_Probability    0\n",
              "dtype: int64"
            ]
          },
          "metadata": {},
          "execution_count": 88
        }
      ]
    },
    {
      "cell_type": "code",
      "metadata": {
        "id": "QZc2puGeADa3"
      },
      "source": [
        "def date(df):\n",
        "  year=[]\n",
        "  month=[]\n",
        "  day=[]\n",
        "\n",
        "  for date in df.date_time:\n",
        "    year_p,month_p,day_p=date.split('-')\n",
        "    year.append(int(year_p))\n",
        "    month.append(int(month_p))\n",
        "    day.append(int(day_p))\n",
        "  return year,month,day\n",
        "\n",
        "year,month,day=date(train)\n",
        "\n",
        "train['year']=year\n",
        "train['month']=month\n",
        "train['day']=day"
      ],
      "execution_count": 166,
      "outputs": []
    },
    {
      "cell_type": "code",
      "metadata": {
        "colab": {
          "base_uri": "https://localhost:8080/",
          "height": 307
        },
        "id": "ClhN5Ap0CBrS",
        "outputId": "946b8b22-0ddc-4937-879c-eb38ff6b4bfe"
      },
      "source": [
        "train.head()"
      ],
      "execution_count": 167,
      "outputs": [
        {
          "output_type": "execute_result",
          "data": {
            "text/html": [
              "<div>\n",
              "<style scoped>\n",
              "    .dataframe tbody tr th:only-of-type {\n",
              "        vertical-align: middle;\n",
              "    }\n",
              "\n",
              "    .dataframe tbody tr th {\n",
              "        vertical-align: top;\n",
              "    }\n",
              "\n",
              "    .dataframe thead th {\n",
              "        text-align: right;\n",
              "    }\n",
              "</style>\n",
              "<table border=\"1\" class=\"dataframe\">\n",
              "  <thead>\n",
              "    <tr style=\"text-align: right;\">\n",
              "      <th></th>\n",
              "      <th>date_time</th>\n",
              "      <th>wind_direction</th>\n",
              "      <th>sky_condition</th>\n",
              "      <th>precipitation_form</th>\n",
              "      <th>wind_speed</th>\n",
              "      <th>humidity</th>\n",
              "      <th>low_temp</th>\n",
              "      <th>high_temp</th>\n",
              "      <th>Precipitation_Probability</th>\n",
              "      <th>number_of_rentals</th>\n",
              "      <th>year</th>\n",
              "      <th>month</th>\n",
              "      <th>day</th>\n",
              "    </tr>\n",
              "  </thead>\n",
              "  <tbody>\n",
              "    <tr>\n",
              "      <th>0</th>\n",
              "      <td>2018-04-01</td>\n",
              "      <td>207.500</td>\n",
              "      <td>4.000</td>\n",
              "      <td>0.000</td>\n",
              "      <td>3.050</td>\n",
              "      <td>75.000</td>\n",
              "      <td>12.600</td>\n",
              "      <td>21.000</td>\n",
              "      <td>30.000</td>\n",
              "      <td>22994</td>\n",
              "      <td>2018</td>\n",
              "      <td>4</td>\n",
              "      <td>1</td>\n",
              "    </tr>\n",
              "    <tr>\n",
              "      <th>1</th>\n",
              "      <td>2018-04-02</td>\n",
              "      <td>208.317</td>\n",
              "      <td>2.950</td>\n",
              "      <td>0.000</td>\n",
              "      <td>3.278</td>\n",
              "      <td>69.833</td>\n",
              "      <td>12.812</td>\n",
              "      <td>19.000</td>\n",
              "      <td>19.500</td>\n",
              "      <td>28139</td>\n",
              "      <td>2018</td>\n",
              "      <td>4</td>\n",
              "      <td>2</td>\n",
              "    </tr>\n",
              "    <tr>\n",
              "      <th>2</th>\n",
              "      <td>2018-04-03</td>\n",
              "      <td>213.516</td>\n",
              "      <td>2.911</td>\n",
              "      <td>0.000</td>\n",
              "      <td>2.690</td>\n",
              "      <td>74.879</td>\n",
              "      <td>10.312</td>\n",
              "      <td>15.316</td>\n",
              "      <td>19.113</td>\n",
              "      <td>26817</td>\n",
              "      <td>2018</td>\n",
              "      <td>4</td>\n",
              "      <td>3</td>\n",
              "    </tr>\n",
              "    <tr>\n",
              "      <th>3</th>\n",
              "      <td>2018-04-04</td>\n",
              "      <td>143.836</td>\n",
              "      <td>3.692</td>\n",
              "      <td>0.425</td>\n",
              "      <td>3.138</td>\n",
              "      <td>71.849</td>\n",
              "      <td>8.312</td>\n",
              "      <td>12.368</td>\n",
              "      <td>43.493</td>\n",
              "      <td>26034</td>\n",
              "      <td>2018</td>\n",
              "      <td>4</td>\n",
              "      <td>4</td>\n",
              "    </tr>\n",
              "    <tr>\n",
              "      <th>4</th>\n",
              "      <td>2018-04-05</td>\n",
              "      <td>95.905</td>\n",
              "      <td>4.000</td>\n",
              "      <td>0.723</td>\n",
              "      <td>3.186</td>\n",
              "      <td>73.784</td>\n",
              "      <td>5.875</td>\n",
              "      <td>10.421</td>\n",
              "      <td>63.378</td>\n",
              "      <td>2833</td>\n",
              "      <td>2018</td>\n",
              "      <td>4</td>\n",
              "      <td>5</td>\n",
              "    </tr>\n",
              "  </tbody>\n",
              "</table>\n",
              "</div>"
            ],
            "text/plain": [
              "    date_time  wind_direction  sky_condition  ...  year  month  day\n",
              "0  2018-04-01         207.500          4.000  ...  2018      4    1\n",
              "1  2018-04-02         208.317          2.950  ...  2018      4    2\n",
              "2  2018-04-03         213.516          2.911  ...  2018      4    3\n",
              "3  2018-04-04         143.836          3.692  ...  2018      4    4\n",
              "4  2018-04-05          95.905          4.000  ...  2018      4    5\n",
              "\n",
              "[5 rows x 13 columns]"
            ]
          },
          "metadata": {},
          "execution_count": 167
        }
      ]
    },
    {
      "cell_type": "code",
      "metadata": {
        "colab": {
          "base_uri": "https://localhost:8080/"
        },
        "id": "yFHVCLgdFecG",
        "outputId": "0fb03f24-6e6a-41aa-9600-7e47f712ed7b"
      },
      "source": [
        "train.columns"
      ],
      "execution_count": 91,
      "outputs": [
        {
          "output_type": "execute_result",
          "data": {
            "text/plain": [
              "Index(['date_time', 'wind_direction', 'sky_condition', 'precipitation_form',\n",
              "       'wind_speed', 'humidity', 'low_temp', 'high_temp',\n",
              "       'Precipitation_Probability', 'number_of_rentals', 'year', 'month',\n",
              "       'day'],\n",
              "      dtype='object')"
            ]
          },
          "metadata": {},
          "execution_count": 91
        }
      ]
    },
    {
      "cell_type": "code",
      "metadata": {
        "id": "XZ7550KaDmXe"
      },
      "source": [
        "year,month,day=date(test)\n",
        "\n",
        "test['year']=year\n",
        "test['month']=month\n",
        "test['day']=day"
      ],
      "execution_count": 168,
      "outputs": []
    },
    {
      "cell_type": "code",
      "metadata": {
        "colab": {
          "base_uri": "https://localhost:8080/"
        },
        "id": "POpRwmPQDyjl",
        "outputId": "fd348360-bfdd-4e2a-9de4-4e3f9ac119fa"
      },
      "source": [
        "train['year'].value_counts()"
      ],
      "execution_count": 93,
      "outputs": [
        {
          "output_type": "execute_result",
          "data": {
            "text/plain": [
              "2020    91\n",
              "2019    91\n",
              "2018    91\n",
              "Name: year, dtype: int64"
            ]
          },
          "metadata": {},
          "execution_count": 93
        }
      ]
    },
    {
      "cell_type": "markdown",
      "metadata": {
        "id": "4vqosDkQFI5_"
      },
      "source": [
        "2018,2019,2020년이 있었다."
      ]
    },
    {
      "cell_type": "code",
      "metadata": {
        "colab": {
          "base_uri": "https://localhost:8080/"
        },
        "id": "dBK2LKBOFHtU",
        "outputId": "1a60df40-a769-447c-a902-b9029934185b"
      },
      "source": [
        "train['month'].value_counts()"
      ],
      "execution_count": 94,
      "outputs": [
        {
          "output_type": "execute_result",
          "data": {
            "text/plain": [
              "5    93\n",
              "6    90\n",
              "4    90\n",
              "Name: month, dtype: int64"
            ]
          },
          "metadata": {},
          "execution_count": 94
        }
      ]
    },
    {
      "cell_type": "markdown",
      "metadata": {
        "id": "ybBwV2rnFQxd"
      },
      "source": [
        "그리고 4,5,6월로 구성. 왜.. 봄 기간만 측정..?"
      ]
    },
    {
      "cell_type": "code",
      "metadata": {
        "id": "e7NiekROLzmU"
      },
      "source": [
        "data_description=train.describe()"
      ],
      "execution_count": 95,
      "outputs": []
    },
    {
      "cell_type": "code",
      "metadata": {
        "colab": {
          "base_uri": "https://localhost:8080/",
          "height": 685
        },
        "id": "bgqkmn4MFP2p",
        "outputId": "8bfd2130-86f7-498b-9522-37f64709a71e"
      },
      "source": [
        "hist_col=['wind_direction', 'sky_condition', 'precipitation_form',\n",
        "       'wind_speed', 'humidity', 'low_temp', 'high_temp',\n",
        "       'Precipitation_Probability', 'number_of_rentals']\n",
        "\n",
        "fig, ax =plt.subplots(3, 3, figsize = (10,10))\n",
        "fig.suptitle('Histogram of interesting features', fontsize=20)\n",
        "\n",
        "idx=0\n",
        "for i in range(3):\n",
        "  for j in range(3):\n",
        "    ax[i][j].hist(train[hist_col[idx]],bins=30)\n",
        "    ax[i][j].set_title(hist_col[idx])\n",
        "    ax[i][j].axvline(data_description[hist_col[idx]]['mean'], c='#f55354', label = f\"mean = {round(data_description[hist_col[idx]]['mean'], 2)}\")\n",
        "    ax[i][j].axvline(data_description[hist_col[idx]]['50%'], c='#518d7d', label = f\"median = {round(data_description[hist_col[idx]]['50%'], 2)}\")\n",
        "    ax[i][j].legend()\n",
        "    idx+=1\n"
      ],
      "execution_count": 96,
      "outputs": [
        {
          "output_type": "display_data",
          "data": {
            "image/png": "[encoded data removed]",
            "text/plain": [
              "<Figure size 720x720 with 9 Axes>"
            ]
          },
          "metadata": {}
        }
      ]
    },
    {
      "cell_type": "code",
      "metadata": {
        "colab": {
          "base_uri": "https://localhost:8080/",
          "height": 307
        },
        "id": "ZfIXBTKWMJdH",
        "outputId": "d293ef92-1193-4d66-c808-31e401559fd8"
      },
      "source": [
        "week_day=pd.to_datetime(train['date_time']).dt.day_name()\n",
        "train['week_day']=week_day\n",
        "train.head()\n"
      ],
      "execution_count": 169,
      "outputs": [
        {
          "output_type": "execute_result",
          "data": {
            "text/html": [
              "<div>\n",
              "<style scoped>\n",
              "    .dataframe tbody tr th:only-of-type {\n",
              "        vertical-align: middle;\n",
              "    }\n",
              "\n",
              "    .dataframe tbody tr th {\n",
              "        vertical-align: top;\n",
              "    }\n",
              "\n",
              "    .dataframe thead th {\n",
              "        text-align: right;\n",
              "    }\n",
              "</style>\n",
              "<table border=\"1\" class=\"dataframe\">\n",
              "  <thead>\n",
              "    <tr style=\"text-align: right;\">\n",
              "      <th></th>\n",
              "      <th>date_time</th>\n",
              "      <th>wind_direction</th>\n",
              "      <th>sky_condition</th>\n",
              "      <th>precipitation_form</th>\n",
              "      <th>wind_speed</th>\n",
              "      <th>humidity</th>\n",
              "      <th>low_temp</th>\n",
              "      <th>high_temp</th>\n",
              "      <th>Precipitation_Probability</th>\n",
              "      <th>number_of_rentals</th>\n",
              "      <th>year</th>\n",
              "      <th>month</th>\n",
              "      <th>day</th>\n",
              "      <th>week_day</th>\n",
              "    </tr>\n",
              "  </thead>\n",
              "  <tbody>\n",
              "    <tr>\n",
              "      <th>0</th>\n",
              "      <td>2018-04-01</td>\n",
              "      <td>207.500</td>\n",
              "      <td>4.000</td>\n",
              "      <td>0.000</td>\n",
              "      <td>3.050</td>\n",
              "      <td>75.000</td>\n",
              "      <td>12.600</td>\n",
              "      <td>21.000</td>\n",
              "      <td>30.000</td>\n",
              "      <td>22994</td>\n",
              "      <td>2018</td>\n",
              "      <td>4</td>\n",
              "      <td>1</td>\n",
              "      <td>Sunday</td>\n",
              "    </tr>\n",
              "    <tr>\n",
              "      <th>1</th>\n",
              "      <td>2018-04-02</td>\n",
              "      <td>208.317</td>\n",
              "      <td>2.950</td>\n",
              "      <td>0.000</td>\n",
              "      <td>3.278</td>\n",
              "      <td>69.833</td>\n",
              "      <td>12.812</td>\n",
              "      <td>19.000</td>\n",
              "      <td>19.500</td>\n",
              "      <td>28139</td>\n",
              "      <td>2018</td>\n",
              "      <td>4</td>\n",
              "      <td>2</td>\n",
              "      <td>Monday</td>\n",
              "    </tr>\n",
              "    <tr>\n",
              "      <th>2</th>\n",
              "      <td>2018-04-03</td>\n",
              "      <td>213.516</td>\n",
              "      <td>2.911</td>\n",
              "      <td>0.000</td>\n",
              "      <td>2.690</td>\n",
              "      <td>74.879</td>\n",
              "      <td>10.312</td>\n",
              "      <td>15.316</td>\n",
              "      <td>19.113</td>\n",
              "      <td>26817</td>\n",
              "      <td>2018</td>\n",
              "      <td>4</td>\n",
              "      <td>3</td>\n",
              "      <td>Tuesday</td>\n",
              "    </tr>\n",
              "    <tr>\n",
              "      <th>3</th>\n",
              "      <td>2018-04-04</td>\n",
              "      <td>143.836</td>\n",
              "      <td>3.692</td>\n",
              "      <td>0.425</td>\n",
              "      <td>3.138</td>\n",
              "      <td>71.849</td>\n",
              "      <td>8.312</td>\n",
              "      <td>12.368</td>\n",
              "      <td>43.493</td>\n",
              "      <td>26034</td>\n",
              "      <td>2018</td>\n",
              "      <td>4</td>\n",
              "      <td>4</td>\n",
              "      <td>Wednesday</td>\n",
              "    </tr>\n",
              "    <tr>\n",
              "      <th>4</th>\n",
              "      <td>2018-04-05</td>\n",
              "      <td>95.905</td>\n",
              "      <td>4.000</td>\n",
              "      <td>0.723</td>\n",
              "      <td>3.186</td>\n",
              "      <td>73.784</td>\n",
              "      <td>5.875</td>\n",
              "      <td>10.421</td>\n",
              "      <td>63.378</td>\n",
              "      <td>2833</td>\n",
              "      <td>2018</td>\n",
              "      <td>4</td>\n",
              "      <td>5</td>\n",
              "      <td>Thursday</td>\n",
              "    </tr>\n",
              "  </tbody>\n",
              "</table>\n",
              "</div>"
            ],
            "text/plain": [
              "    date_time  wind_direction  sky_condition  ...  month  day   week_day\n",
              "0  2018-04-01         207.500          4.000  ...      4    1     Sunday\n",
              "1  2018-04-02         208.317          2.950  ...      4    2     Monday\n",
              "2  2018-04-03         213.516          2.911  ...      4    3    Tuesday\n",
              "3  2018-04-04         143.836          3.692  ...      4    4  Wednesday\n",
              "4  2018-04-05          95.905          4.000  ...      4    5   Thursday\n",
              "\n",
              "[5 rows x 14 columns]"
            ]
          },
          "metadata": {},
          "execution_count": 169
        }
      ]
    },
    {
      "cell_type": "code",
      "metadata": {
        "colab": {
          "base_uri": "https://localhost:8080/",
          "height": 307
        },
        "id": "lTB3HSoihu4F",
        "outputId": "1ae023b9-3caa-4222-bf70-14e9bb626f79"
      },
      "source": [
        "week_day=pd.to_datetime(test['date_time']).dt.day_name()\n",
        "test['week_day']=week_day\n",
        "test.head()"
      ],
      "execution_count": 170,
      "outputs": [
        {
          "output_type": "execute_result",
          "data": {
            "text/html": [
              "<div>\n",
              "<style scoped>\n",
              "    .dataframe tbody tr th:only-of-type {\n",
              "        vertical-align: middle;\n",
              "    }\n",
              "\n",
              "    .dataframe tbody tr th {\n",
              "        vertical-align: top;\n",
              "    }\n",
              "\n",
              "    .dataframe thead th {\n",
              "        text-align: right;\n",
              "    }\n",
              "</style>\n",
              "<table border=\"1\" class=\"dataframe\">\n",
              "  <thead>\n",
              "    <tr style=\"text-align: right;\">\n",
              "      <th></th>\n",
              "      <th>date_time</th>\n",
              "      <th>wind_direction</th>\n",
              "      <th>sky_condition</th>\n",
              "      <th>precipitation_form</th>\n",
              "      <th>wind_speed</th>\n",
              "      <th>humidity</th>\n",
              "      <th>low_temp</th>\n",
              "      <th>high_temp</th>\n",
              "      <th>Precipitation_Probability</th>\n",
              "      <th>year</th>\n",
              "      <th>month</th>\n",
              "      <th>day</th>\n",
              "      <th>week_day</th>\n",
              "    </tr>\n",
              "  </thead>\n",
              "  <tbody>\n",
              "    <tr>\n",
              "      <th>0</th>\n",
              "      <td>2021-04-01</td>\n",
              "      <td>108.833</td>\n",
              "      <td>3.000</td>\n",
              "      <td>0.000</td>\n",
              "      <td>2.900</td>\n",
              "      <td>28.333</td>\n",
              "      <td>11.800</td>\n",
              "      <td>20.667</td>\n",
              "      <td>18.333</td>\n",
              "      <td>2021</td>\n",
              "      <td>4</td>\n",
              "      <td>1</td>\n",
              "      <td>Thursday</td>\n",
              "    </tr>\n",
              "    <tr>\n",
              "      <th>1</th>\n",
              "      <td>2021-04-02</td>\n",
              "      <td>116.717</td>\n",
              "      <td>3.850</td>\n",
              "      <td>0.000</td>\n",
              "      <td>2.662</td>\n",
              "      <td>46.417</td>\n",
              "      <td>12.000</td>\n",
              "      <td>19.000</td>\n",
              "      <td>28.500</td>\n",
              "      <td>2021</td>\n",
              "      <td>4</td>\n",
              "      <td>2</td>\n",
              "      <td>Friday</td>\n",
              "    </tr>\n",
              "    <tr>\n",
              "      <th>2</th>\n",
              "      <td>2021-04-03</td>\n",
              "      <td>82.669</td>\n",
              "      <td>4.000</td>\n",
              "      <td>0.565</td>\n",
              "      <td>2.165</td>\n",
              "      <td>77.258</td>\n",
              "      <td>8.875</td>\n",
              "      <td>16.368</td>\n",
              "      <td>52.847</td>\n",
              "      <td>2021</td>\n",
              "      <td>4</td>\n",
              "      <td>3</td>\n",
              "      <td>Saturday</td>\n",
              "    </tr>\n",
              "    <tr>\n",
              "      <th>3</th>\n",
              "      <td>2021-04-04</td>\n",
              "      <td>44.123</td>\n",
              "      <td>3.466</td>\n",
              "      <td>0.466</td>\n",
              "      <td>3.747</td>\n",
              "      <td>63.288</td>\n",
              "      <td>6.250</td>\n",
              "      <td>17.368</td>\n",
              "      <td>37.671</td>\n",
              "      <td>2021</td>\n",
              "      <td>4</td>\n",
              "      <td>4</td>\n",
              "      <td>Sunday</td>\n",
              "    </tr>\n",
              "    <tr>\n",
              "      <th>4</th>\n",
              "      <td>2021-04-05</td>\n",
              "      <td>147.791</td>\n",
              "      <td>1.500</td>\n",
              "      <td>0.000</td>\n",
              "      <td>1.560</td>\n",
              "      <td>48.176</td>\n",
              "      <td>7.188</td>\n",
              "      <td>18.684</td>\n",
              "      <td>4.459</td>\n",
              "      <td>2021</td>\n",
              "      <td>4</td>\n",
              "      <td>5</td>\n",
              "      <td>Monday</td>\n",
              "    </tr>\n",
              "  </tbody>\n",
              "</table>\n",
              "</div>"
            ],
            "text/plain": [
              "    date_time  wind_direction  sky_condition  ...  month  day  week_day\n",
              "0  2021-04-01         108.833          3.000  ...      4    1  Thursday\n",
              "1  2021-04-02         116.717          3.850  ...      4    2    Friday\n",
              "2  2021-04-03          82.669          4.000  ...      4    3  Saturday\n",
              "3  2021-04-04          44.123          3.466  ...      4    4    Sunday\n",
              "4  2021-04-05         147.791          1.500  ...      4    5    Monday\n",
              "\n",
              "[5 rows x 13 columns]"
            ]
          },
          "metadata": {},
          "execution_count": 170
        }
      ]
    },
    {
      "cell_type": "code",
      "metadata": {
        "id": "ZjYrGSiZh4Gn"
      },
      "source": [
        "from sklearn.preprocessing import LabelEncoder\n",
        "\n",
        "# 요일 정보 추가\n",
        "le = LabelEncoder()\n",
        "le.fit(week_day)\n",
        "train['week_day'] = le.transform(train['week_day'])\n",
        "test['week_day'] = le.transform(test['week_day'])\n",
        "\n",
        "\n"
      ],
      "execution_count": 171,
      "outputs": []
    },
    {
      "cell_type": "code",
      "metadata": {
        "colab": {
          "base_uri": "https://localhost:8080/",
          "height": 307
        },
        "id": "4p6q8YOFimgm",
        "outputId": "8a9a2c39-7886-445d-bff2-0db6ec8d50ed"
      },
      "source": [
        "train.head()"
      ],
      "execution_count": 172,
      "outputs": [
        {
          "output_type": "execute_result",
          "data": {
            "text/html": [
              "<div>\n",
              "<style scoped>\n",
              "    .dataframe tbody tr th:only-of-type {\n",
              "        vertical-align: middle;\n",
              "    }\n",
              "\n",
              "    .dataframe tbody tr th {\n",
              "        vertical-align: top;\n",
              "    }\n",
              "\n",
              "    .dataframe thead th {\n",
              "        text-align: right;\n",
              "    }\n",
              "</style>\n",
              "<table border=\"1\" class=\"dataframe\">\n",
              "  <thead>\n",
              "    <tr style=\"text-align: right;\">\n",
              "      <th></th>\n",
              "      <th>date_time</th>\n",
              "      <th>wind_direction</th>\n",
              "      <th>sky_condition</th>\n",
              "      <th>precipitation_form</th>\n",
              "      <th>wind_speed</th>\n",
              "      <th>humidity</th>\n",
              "      <th>low_temp</th>\n",
              "      <th>high_temp</th>\n",
              "      <th>Precipitation_Probability</th>\n",
              "      <th>number_of_rentals</th>\n",
              "      <th>year</th>\n",
              "      <th>month</th>\n",
              "      <th>day</th>\n",
              "      <th>week_day</th>\n",
              "    </tr>\n",
              "  </thead>\n",
              "  <tbody>\n",
              "    <tr>\n",
              "      <th>0</th>\n",
              "      <td>2018-04-01</td>\n",
              "      <td>207.500</td>\n",
              "      <td>4.000</td>\n",
              "      <td>0.000</td>\n",
              "      <td>3.050</td>\n",
              "      <td>75.000</td>\n",
              "      <td>12.600</td>\n",
              "      <td>21.000</td>\n",
              "      <td>30.000</td>\n",
              "      <td>22994</td>\n",
              "      <td>2018</td>\n",
              "      <td>4</td>\n",
              "      <td>1</td>\n",
              "      <td>3</td>\n",
              "    </tr>\n",
              "    <tr>\n",
              "      <th>1</th>\n",
              "      <td>2018-04-02</td>\n",
              "      <td>208.317</td>\n",
              "      <td>2.950</td>\n",
              "      <td>0.000</td>\n",
              "      <td>3.278</td>\n",
              "      <td>69.833</td>\n",
              "      <td>12.812</td>\n",
              "      <td>19.000</td>\n",
              "      <td>19.500</td>\n",
              "      <td>28139</td>\n",
              "      <td>2018</td>\n",
              "      <td>4</td>\n",
              "      <td>2</td>\n",
              "      <td>1</td>\n",
              "    </tr>\n",
              "    <tr>\n",
              "      <th>2</th>\n",
              "      <td>2018-04-03</td>\n",
              "      <td>213.516</td>\n",
              "      <td>2.911</td>\n",
              "      <td>0.000</td>\n",
              "      <td>2.690</td>\n",
              "      <td>74.879</td>\n",
              "      <td>10.312</td>\n",
              "      <td>15.316</td>\n",
              "      <td>19.113</td>\n",
              "      <td>26817</td>\n",
              "      <td>2018</td>\n",
              "      <td>4</td>\n",
              "      <td>3</td>\n",
              "      <td>5</td>\n",
              "    </tr>\n",
              "    <tr>\n",
              "      <th>3</th>\n",
              "      <td>2018-04-04</td>\n",
              "      <td>143.836</td>\n",
              "      <td>3.692</td>\n",
              "      <td>0.425</td>\n",
              "      <td>3.138</td>\n",
              "      <td>71.849</td>\n",
              "      <td>8.312</td>\n",
              "      <td>12.368</td>\n",
              "      <td>43.493</td>\n",
              "      <td>26034</td>\n",
              "      <td>2018</td>\n",
              "      <td>4</td>\n",
              "      <td>4</td>\n",
              "      <td>6</td>\n",
              "    </tr>\n",
              "    <tr>\n",
              "      <th>4</th>\n",
              "      <td>2018-04-05</td>\n",
              "      <td>95.905</td>\n",
              "      <td>4.000</td>\n",
              "      <td>0.723</td>\n",
              "      <td>3.186</td>\n",
              "      <td>73.784</td>\n",
              "      <td>5.875</td>\n",
              "      <td>10.421</td>\n",
              "      <td>63.378</td>\n",
              "      <td>2833</td>\n",
              "      <td>2018</td>\n",
              "      <td>4</td>\n",
              "      <td>5</td>\n",
              "      <td>4</td>\n",
              "    </tr>\n",
              "  </tbody>\n",
              "</table>\n",
              "</div>"
            ],
            "text/plain": [
              "    date_time  wind_direction  sky_condition  ...  month  day  week_day\n",
              "0  2018-04-01         207.500          4.000  ...      4    1         3\n",
              "1  2018-04-02         208.317          2.950  ...      4    2         1\n",
              "2  2018-04-03         213.516          2.911  ...      4    3         5\n",
              "3  2018-04-04         143.836          3.692  ...      4    4         6\n",
              "4  2018-04-05          95.905          4.000  ...      4    5         4\n",
              "\n",
              "[5 rows x 14 columns]"
            ]
          },
          "metadata": {},
          "execution_count": 172
        }
      ]
    },
    {
      "cell_type": "code",
      "metadata": {
        "colab": {
          "base_uri": "https://localhost:8080/",
          "height": 671
        },
        "id": "z9uD1dBNObJx",
        "outputId": "afa49857-f1c8-479d-825b-1e7edfc7bb48"
      },
      "source": [
        "plt.figure(figsize=(10,10))\n",
        "sns.heatmap(train.corr(),annot=True)"
      ],
      "execution_count": 98,
      "outputs": [
        {
          "output_type": "execute_result",
          "data": {
            "text/plain": [
              "<matplotlib.axes._subplots.AxesSubplot at 0x7fdee1db0650>"
            ]
          },
          "metadata": {},
          "execution_count": 98
        },
        {
          "output_type": "display_data",
          "data": {
            "image/png": "[encoded data removed]",
            "text/plain": [
              "<Figure size 720x720 with 2 Axes>"
            ]
          },
          "metadata": {}
        }
      ]
    },
    {
      "cell_type": "markdown",
      "metadata": {
        "id": "9s_yHYeQQzY0"
      },
      "source": [
        "렌탈수하고는 year이 가장 큰 상관관계를 보이고 최저온도와 달, 최고온도와 달의 관계도 높아보인다. 그리고 강수 스타일과 날씨상태도 연관성이 높다"
      ]
    },
    {
      "cell_type": "code",
      "metadata": {
        "colab": {
          "base_uri": "https://localhost:8080/",
          "height": 314
        },
        "id": "VUrTEEB2QB1r",
        "outputId": "772d19f3-9ea6-411b-95da-59d34aa69ac9"
      },
      "source": [
        "year_rental=train.groupby('year').sum()['number_of_rentals']\n",
        "sns.barplot(x=['2018','2019','2020'],y=year_rental)"
      ],
      "execution_count": 99,
      "outputs": [
        {
          "output_type": "execute_result",
          "data": {
            "text/plain": [
              "<matplotlib.axes._subplots.AxesSubplot at 0x7fded4054310>"
            ]
          },
          "metadata": {},
          "execution_count": 99
        },
        {
          "output_type": "display_data",
          "data": {
            "image/png": "[encoded data removed]",
            "text/plain": [
              "<Figure size 432x288 with 1 Axes>"
            ]
          },
          "metadata": {}
        }
      ]
    },
    {
      "cell_type": "code",
      "metadata": {
        "colab": {
          "base_uri": "https://localhost:8080/",
          "height": 314
        },
        "id": "BR9-EHc5R0Yh",
        "outputId": "135fe647-0cf2-47d2-f4f6-25c8ccb5ceb0"
      },
      "source": [
        "month_rental=train.groupby('month').sum()['number_of_rentals']\n",
        "sns.barplot(x=['4','5','6'],y=month_rental)"
      ],
      "execution_count": 100,
      "outputs": [
        {
          "output_type": "execute_result",
          "data": {
            "text/plain": [
              "<matplotlib.axes._subplots.AxesSubplot at 0x7fded3fac8d0>"
            ]
          },
          "metadata": {},
          "execution_count": 100
        },
        {
          "output_type": "display_data",
          "data": {
            "image/png": "[encoded data removed]",
            "text/plain": [
              "<Figure size 432x288 with 1 Axes>"
            ]
          },
          "metadata": {}
        }
      ]
    },
    {
      "cell_type": "markdown",
      "metadata": {
        "id": "0NryqBjqSbk7"
      },
      "source": [
        "가면갈수록 렌탈수가 증가하는 걸 볼 수 있음"
      ]
    },
    {
      "cell_type": "code",
      "metadata": {
        "colab": {
          "base_uri": "https://localhost:8080/",
          "height": 809
        },
        "id": "hS2kxQyeR3r7",
        "outputId": "5c026e72-ac1d-410f-ea59-9b850c0ced3a"
      },
      "source": [
        "week_rental=train.groupby('week_day').sum()['number_of_rentals']\n",
        "sns.barplot(x=['월','화','수','목','금','토','알'],y=week_rental)"
      ],
      "execution_count": 101,
      "outputs": [
        {
          "output_type": "execute_result",
          "data": {
            "text/plain": [
              "<matplotlib.axes._subplots.AxesSubplot at 0x7fded3f8c1d0>"
            ]
          },
          "metadata": {},
          "execution_count": 101
        },
        {
          "output_type": "stream",
          "name": "stderr",
          "text": [
            "/usr/local/lib/python3.7/dist-packages/matplotlib/backends/backend_agg.py:214: RuntimeWarning: Glyph 50900 missing from current font.\n",
            "  font.set_text(s, 0.0, flags=flags)\n",
            "/usr/local/lib/python3.7/dist-packages/matplotlib/backends/backend_agg.py:214: RuntimeWarning: Glyph 54868 missing from current font.\n",
            "  font.set_text(s, 0.0, flags=flags)\n",
            "/usr/local/lib/python3.7/dist-packages/matplotlib/backends/backend_agg.py:214: RuntimeWarning: Glyph 49688 missing from current font.\n",
            "  font.set_text(s, 0.0, flags=flags)\n",
            "/usr/local/lib/python3.7/dist-packages/matplotlib/backends/backend_agg.py:214: RuntimeWarning: Glyph 47785 missing from current font.\n",
            "  font.set_text(s, 0.0, flags=flags)\n",
            "/usr/local/lib/python3.7/dist-packages/matplotlib/backends/backend_agg.py:214: RuntimeWarning: Glyph 44552 missing from current font.\n",
            "  font.set_text(s, 0.0, flags=flags)\n",
            "/usr/local/lib/python3.7/dist-packages/matplotlib/backends/backend_agg.py:214: RuntimeWarning: Glyph 53664 missing from current font.\n",
            "  font.set_text(s, 0.0, flags=flags)\n",
            "/usr/local/lib/python3.7/dist-packages/matplotlib/backends/backend_agg.py:214: RuntimeWarning: Glyph 50508 missing from current font.\n",
            "  font.set_text(s, 0.0, flags=flags)\n",
            "/usr/local/lib/python3.7/dist-packages/matplotlib/backends/backend_agg.py:183: RuntimeWarning: Glyph 50900 missing from current font.\n",
            "  font.set_text(s, 0, flags=flags)\n",
            "/usr/local/lib/python3.7/dist-packages/matplotlib/backends/backend_agg.py:183: RuntimeWarning: Glyph 54868 missing from current font.\n",
            "  font.set_text(s, 0, flags=flags)\n",
            "/usr/local/lib/python3.7/dist-packages/matplotlib/backends/backend_agg.py:183: RuntimeWarning: Glyph 49688 missing from current font.\n",
            "  font.set_text(s, 0, flags=flags)\n",
            "/usr/local/lib/python3.7/dist-packages/matplotlib/backends/backend_agg.py:183: RuntimeWarning: Glyph 47785 missing from current font.\n",
            "  font.set_text(s, 0, flags=flags)\n",
            "/usr/local/lib/python3.7/dist-packages/matplotlib/backends/backend_agg.py:183: RuntimeWarning: Glyph 44552 missing from current font.\n",
            "  font.set_text(s, 0, flags=flags)\n",
            "/usr/local/lib/python3.7/dist-packages/matplotlib/backends/backend_agg.py:183: RuntimeWarning: Glyph 53664 missing from current font.\n",
            "  font.set_text(s, 0, flags=flags)\n",
            "/usr/local/lib/python3.7/dist-packages/matplotlib/backends/backend_agg.py:183: RuntimeWarning: Glyph 50508 missing from current font.\n",
            "  font.set_text(s, 0, flags=flags)\n"
          ]
        },
        {
          "output_type": "display_data",
          "data": {
            "image/png": "[encoded data removed]",
            "text/plain": [
              "<Figure size 432x288 with 1 Axes>"
            ]
          },
          "metadata": {}
        }
      ]
    },
    {
      "cell_type": "code",
      "metadata": {
        "colab": {
          "base_uri": "https://localhost:8080/"
        },
        "id": "YFksNaCjXMX-",
        "outputId": "2357f98a-7110-44b8-ee26-ac94b305ab06"
      },
      "source": [
        "train.columns"
      ],
      "execution_count": 102,
      "outputs": [
        {
          "output_type": "execute_result",
          "data": {
            "text/plain": [
              "Index(['date_time', 'wind_direction', 'sky_condition', 'precipitation_form',\n",
              "       'wind_speed', 'humidity', 'low_temp', 'high_temp',\n",
              "       'Precipitation_Probability', 'number_of_rentals', 'year', 'month',\n",
              "       'day', 'week_day'],\n",
              "      dtype='object')"
            ]
          },
          "metadata": {},
          "execution_count": 102
        }
      ]
    },
    {
      "cell_type": "code",
      "metadata": {
        "colab": {
          "base_uri": "https://localhost:8080/",
          "height": 322
        },
        "id": "9dIYjWcCW82S",
        "outputId": "48f5576a-05ef-4de4-b4fa-9c6423234d82"
      },
      "source": [
        "sns.scatterplot(data=train,x='Precipitation_Probability',y='sky_condition',hue='number_of_rentals')"
      ],
      "execution_count": 103,
      "outputs": [
        {
          "output_type": "execute_result",
          "data": {
            "text/plain": [
              "<matplotlib.axes._subplots.AxesSubplot at 0x7fded3f15bd0>"
            ]
          },
          "metadata": {},
          "execution_count": 103
        },
        {
          "output_type": "display_data",
          "data": {
            "image/png": "[encoded data removed]",
            "text/plain": [
              "<Figure size 432x288 with 1 Axes>"
            ]
          },
          "metadata": {}
        }
      ]
    },
    {
      "cell_type": "markdown",
      "metadata": {
        "id": "eyXUqXtYY2KA"
      },
      "source": [
        "날씨가 흐릴수록 렌탈수가 줄어드는 것을 볼 수 있다."
      ]
    },
    {
      "cell_type": "markdown",
      "metadata": {
        "id": "F-h7zypGaPuS"
      },
      "source": [
        "일교차 컬럼을 만들어보겠다. "
      ]
    },
    {
      "cell_type": "code",
      "metadata": {
        "colab": {
          "base_uri": "https://localhost:8080/",
          "height": 324
        },
        "id": "REse83_oXY4r",
        "outputId": "bd7116f2-67ce-42ca-f39e-c560a5503533"
      },
      "source": [
        "train['diurnal temperature']=train['high_temp']-train['low_temp']\n",
        "test['diurnal temperature']=test['high_temp']-test['low_temp']\n",
        "train.head()"
      ],
      "execution_count": 173,
      "outputs": [
        {
          "output_type": "execute_result",
          "data": {
            "text/html": [
              "<div>\n",
              "<style scoped>\n",
              "    .dataframe tbody tr th:only-of-type {\n",
              "        vertical-align: middle;\n",
              "    }\n",
              "\n",
              "    .dataframe tbody tr th {\n",
              "        vertical-align: top;\n",
              "    }\n",
              "\n",
              "    .dataframe thead th {\n",
              "        text-align: right;\n",
              "    }\n",
              "</style>\n",
              "<table border=\"1\" class=\"dataframe\">\n",
              "  <thead>\n",
              "    <tr style=\"text-align: right;\">\n",
              "      <th></th>\n",
              "      <th>date_time</th>\n",
              "      <th>wind_direction</th>\n",
              "      <th>sky_condition</th>\n",
              "      <th>precipitation_form</th>\n",
              "      <th>wind_speed</th>\n",
              "      <th>humidity</th>\n",
              "      <th>low_temp</th>\n",
              "      <th>high_temp</th>\n",
              "      <th>Precipitation_Probability</th>\n",
              "      <th>number_of_rentals</th>\n",
              "      <th>year</th>\n",
              "      <th>month</th>\n",
              "      <th>day</th>\n",
              "      <th>week_day</th>\n",
              "      <th>diurnal temperature</th>\n",
              "    </tr>\n",
              "  </thead>\n",
              "  <tbody>\n",
              "    <tr>\n",
              "      <th>0</th>\n",
              "      <td>2018-04-01</td>\n",
              "      <td>207.500</td>\n",
              "      <td>4.000</td>\n",
              "      <td>0.000</td>\n",
              "      <td>3.050</td>\n",
              "      <td>75.000</td>\n",
              "      <td>12.600</td>\n",
              "      <td>21.000</td>\n",
              "      <td>30.000</td>\n",
              "      <td>22994</td>\n",
              "      <td>2018</td>\n",
              "      <td>4</td>\n",
              "      <td>1</td>\n",
              "      <td>3</td>\n",
              "      <td>8.400</td>\n",
              "    </tr>\n",
              "    <tr>\n",
              "      <th>1</th>\n",
              "      <td>2018-04-02</td>\n",
              "      <td>208.317</td>\n",
              "      <td>2.950</td>\n",
              "      <td>0.000</td>\n",
              "      <td>3.278</td>\n",
              "      <td>69.833</td>\n",
              "      <td>12.812</td>\n",
              "      <td>19.000</td>\n",
              "      <td>19.500</td>\n",
              "      <td>28139</td>\n",
              "      <td>2018</td>\n",
              "      <td>4</td>\n",
              "      <td>2</td>\n",
              "      <td>1</td>\n",
              "      <td>6.188</td>\n",
              "    </tr>\n",
              "    <tr>\n",
              "      <th>2</th>\n",
              "      <td>2018-04-03</td>\n",
              "      <td>213.516</td>\n",
              "      <td>2.911</td>\n",
              "      <td>0.000</td>\n",
              "      <td>2.690</td>\n",
              "      <td>74.879</td>\n",
              "      <td>10.312</td>\n",
              "      <td>15.316</td>\n",
              "      <td>19.113</td>\n",
              "      <td>26817</td>\n",
              "      <td>2018</td>\n",
              "      <td>4</td>\n",
              "      <td>3</td>\n",
              "      <td>5</td>\n",
              "      <td>5.004</td>\n",
              "    </tr>\n",
              "    <tr>\n",
              "      <th>3</th>\n",
              "      <td>2018-04-04</td>\n",
              "      <td>143.836</td>\n",
              "      <td>3.692</td>\n",
              "      <td>0.425</td>\n",
              "      <td>3.138</td>\n",
              "      <td>71.849</td>\n",
              "      <td>8.312</td>\n",
              "      <td>12.368</td>\n",
              "      <td>43.493</td>\n",
              "      <td>26034</td>\n",
              "      <td>2018</td>\n",
              "      <td>4</td>\n",
              "      <td>4</td>\n",
              "      <td>6</td>\n",
              "      <td>4.056</td>\n",
              "    </tr>\n",
              "    <tr>\n",
              "      <th>4</th>\n",
              "      <td>2018-04-05</td>\n",
              "      <td>95.905</td>\n",
              "      <td>4.000</td>\n",
              "      <td>0.723</td>\n",
              "      <td>3.186</td>\n",
              "      <td>73.784</td>\n",
              "      <td>5.875</td>\n",
              "      <td>10.421</td>\n",
              "      <td>63.378</td>\n",
              "      <td>2833</td>\n",
              "      <td>2018</td>\n",
              "      <td>4</td>\n",
              "      <td>5</td>\n",
              "      <td>4</td>\n",
              "      <td>4.546</td>\n",
              "    </tr>\n",
              "  </tbody>\n",
              "</table>\n",
              "</div>"
            ],
            "text/plain": [
              "    date_time  wind_direction  ...  week_day  diurnal temperature\n",
              "0  2018-04-01         207.500  ...         3                8.400\n",
              "1  2018-04-02         208.317  ...         1                6.188\n",
              "2  2018-04-03         213.516  ...         5                5.004\n",
              "3  2018-04-04         143.836  ...         6                4.056\n",
              "4  2018-04-05          95.905  ...         4                4.546\n",
              "\n",
              "[5 rows x 15 columns]"
            ]
          },
          "metadata": {},
          "execution_count": 173
        }
      ]
    },
    {
      "cell_type": "code",
      "metadata": {
        "colab": {
          "base_uri": "https://localhost:8080/",
          "height": 322
        },
        "id": "VVaSEhqjaLkz",
        "outputId": "75b05563-3599-4ae9-e2ec-ddde66764797"
      },
      "source": [
        "sns.scatterplot(data=train,x='diurnal temperature',y='number_of_rentals')"
      ],
      "execution_count": 105,
      "outputs": [
        {
          "output_type": "execute_result",
          "data": {
            "text/plain": [
              "<matplotlib.axes._subplots.AxesSubplot at 0x7fded3e2f890>"
            ]
          },
          "metadata": {},
          "execution_count": 105
        },
        {
          "output_type": "display_data",
          "data": {
            "image/png": "[encoded data removed]",
            "text/plain": [
              "<Figure size 432x288 with 1 Axes>"
            ]
          },
          "metadata": {}
        }
      ]
    },
    {
      "cell_type": "markdown",
      "metadata": {
        "id": "5g4TbKQCa4Cq"
      },
      "source": [
        "음 일교차는 별 상관 없어보이긴..한다..하지만 x축과y축의 범위가 달라서 그런 것일 수도 있음"
      ]
    },
    {
      "cell_type": "code",
      "metadata": {
        "id": "_uIpEAl-aoj0"
      },
      "source": [
        "# 2. \"덥고 습한 날씨\"를 알기 위한 정보\n",
        "train['sweat_info'] = train['high_temp'] * train['humidity'] \n",
        "\n",
        "# 3. \"춥고 바람부는 날씨\"를 알기 위한 정보\n",
        "train['cold_info'] = train['low_temp'] * train['wind_speed'] \n",
        "\n",
        "# 2. \"덥고 습한 날씨\"를 알기 위한 정보\n",
        "test['sweat_info'] = test['high_temp'] * test['humidity'] \n",
        "\n",
        "# 3. \"춥고 바람부는 날씨\"를 알기 위한 정보\n",
        "test['cold_info'] = test['low_temp'] * test['wind_speed'] "
      ],
      "execution_count": 174,
      "outputs": []
    },
    {
      "cell_type": "code",
      "metadata": {
        "colab": {
          "base_uri": "https://localhost:8080/",
          "height": 324
        },
        "id": "8oysA19ft-IM",
        "outputId": "db598104-ded5-40fe-859e-7e1b7c6cbb16"
      },
      "source": [
        "train.head()"
      ],
      "execution_count": 139,
      "outputs": [
        {
          "output_type": "execute_result",
          "data": {
            "text/html": [
              "<div>\n",
              "<style scoped>\n",
              "    .dataframe tbody tr th:only-of-type {\n",
              "        vertical-align: middle;\n",
              "    }\n",
              "\n",
              "    .dataframe tbody tr th {\n",
              "        vertical-align: top;\n",
              "    }\n",
              "\n",
              "    .dataframe thead th {\n",
              "        text-align: right;\n",
              "    }\n",
              "</style>\n",
              "<table border=\"1\" class=\"dataframe\">\n",
              "  <thead>\n",
              "    <tr style=\"text-align: right;\">\n",
              "      <th></th>\n",
              "      <th>date_time</th>\n",
              "      <th>wind_direction</th>\n",
              "      <th>sky_condition</th>\n",
              "      <th>precipitation_form</th>\n",
              "      <th>wind_speed</th>\n",
              "      <th>humidity</th>\n",
              "      <th>low_temp</th>\n",
              "      <th>high_temp</th>\n",
              "      <th>Precipitation_Probability</th>\n",
              "      <th>number_of_rentals</th>\n",
              "      <th>year</th>\n",
              "      <th>month</th>\n",
              "      <th>day</th>\n",
              "      <th>week_day</th>\n",
              "      <th>diurnal temperature</th>\n",
              "      <th>sweat_info</th>\n",
              "      <th>cold_info</th>\n",
              "    </tr>\n",
              "  </thead>\n",
              "  <tbody>\n",
              "    <tr>\n",
              "      <th>0</th>\n",
              "      <td>2018-04-01</td>\n",
              "      <td>207.500</td>\n",
              "      <td>4.000</td>\n",
              "      <td>0.000</td>\n",
              "      <td>3.050</td>\n",
              "      <td>75.000</td>\n",
              "      <td>12.600</td>\n",
              "      <td>21.000</td>\n",
              "      <td>30.000</td>\n",
              "      <td>22994</td>\n",
              "      <td>2018</td>\n",
              "      <td>4</td>\n",
              "      <td>1</td>\n",
              "      <td>3</td>\n",
              "      <td>8.400</td>\n",
              "      <td>1575.000000</td>\n",
              "      <td>38.430000</td>\n",
              "    </tr>\n",
              "    <tr>\n",
              "      <th>1</th>\n",
              "      <td>2018-04-02</td>\n",
              "      <td>208.317</td>\n",
              "      <td>2.950</td>\n",
              "      <td>0.000</td>\n",
              "      <td>3.278</td>\n",
              "      <td>69.833</td>\n",
              "      <td>12.812</td>\n",
              "      <td>19.000</td>\n",
              "      <td>19.500</td>\n",
              "      <td>28139</td>\n",
              "      <td>2018</td>\n",
              "      <td>4</td>\n",
              "      <td>2</td>\n",
              "      <td>1</td>\n",
              "      <td>6.188</td>\n",
              "      <td>1326.827000</td>\n",
              "      <td>41.997736</td>\n",
              "    </tr>\n",
              "    <tr>\n",
              "      <th>2</th>\n",
              "      <td>2018-04-03</td>\n",
              "      <td>213.516</td>\n",
              "      <td>2.911</td>\n",
              "      <td>0.000</td>\n",
              "      <td>2.690</td>\n",
              "      <td>74.879</td>\n",
              "      <td>10.312</td>\n",
              "      <td>15.316</td>\n",
              "      <td>19.113</td>\n",
              "      <td>26817</td>\n",
              "      <td>2018</td>\n",
              "      <td>4</td>\n",
              "      <td>3</td>\n",
              "      <td>5</td>\n",
              "      <td>5.004</td>\n",
              "      <td>1146.846764</td>\n",
              "      <td>27.739280</td>\n",
              "    </tr>\n",
              "    <tr>\n",
              "      <th>3</th>\n",
              "      <td>2018-04-04</td>\n",
              "      <td>143.836</td>\n",
              "      <td>3.692</td>\n",
              "      <td>0.425</td>\n",
              "      <td>3.138</td>\n",
              "      <td>71.849</td>\n",
              "      <td>8.312</td>\n",
              "      <td>12.368</td>\n",
              "      <td>43.493</td>\n",
              "      <td>26034</td>\n",
              "      <td>2018</td>\n",
              "      <td>4</td>\n",
              "      <td>4</td>\n",
              "      <td>6</td>\n",
              "      <td>4.056</td>\n",
              "      <td>888.628432</td>\n",
              "      <td>26.083056</td>\n",
              "    </tr>\n",
              "    <tr>\n",
              "      <th>4</th>\n",
              "      <td>2018-04-05</td>\n",
              "      <td>95.905</td>\n",
              "      <td>4.000</td>\n",
              "      <td>0.723</td>\n",
              "      <td>3.186</td>\n",
              "      <td>73.784</td>\n",
              "      <td>5.875</td>\n",
              "      <td>10.421</td>\n",
              "      <td>63.378</td>\n",
              "      <td>2833</td>\n",
              "      <td>2018</td>\n",
              "      <td>4</td>\n",
              "      <td>5</td>\n",
              "      <td>4</td>\n",
              "      <td>4.546</td>\n",
              "      <td>768.903064</td>\n",
              "      <td>18.717750</td>\n",
              "    </tr>\n",
              "  </tbody>\n",
              "</table>\n",
              "</div>"
            ],
            "text/plain": [
              "    date_time  wind_direction  ...   sweat_info  cold_info\n",
              "0  2018-04-01         207.500  ...  1575.000000  38.430000\n",
              "1  2018-04-02         208.317  ...  1326.827000  41.997736\n",
              "2  2018-04-03         213.516  ...  1146.846764  27.739280\n",
              "3  2018-04-04         143.836  ...   888.628432  26.083056\n",
              "4  2018-04-05          95.905  ...   768.903064  18.717750\n",
              "\n",
              "[5 rows x 17 columns]"
            ]
          },
          "metadata": {},
          "execution_count": 139
        }
      ]
    },
    {
      "cell_type": "code",
      "metadata": {
        "colab": {
          "base_uri": "https://localhost:8080/",
          "height": 322
        },
        "id": "R2WyBcP1bq_u",
        "outputId": "7cf0f54c-8cb7-4e58-df5d-bd88556df214"
      },
      "source": [
        "sns.scatterplot(data=train,x='sweat_info',y='number_of_rentals')\n",
        "\n"
      ],
      "execution_count": 109,
      "outputs": [
        {
          "output_type": "execute_result",
          "data": {
            "text/plain": [
              "<matplotlib.axes._subplots.AxesSubplot at 0x7fded3d72210>"
            ]
          },
          "metadata": {},
          "execution_count": 109
        },
        {
          "output_type": "display_data",
          "data": {
            "image/png": "[encoded data removed]",
            "text/plain": [
              "<Figure size 432x288 with 1 Axes>"
            ]
          },
          "metadata": {}
        }
      ]
    },
    {
      "cell_type": "code",
      "metadata": {
        "colab": {
          "base_uri": "https://localhost:8080/",
          "height": 322
        },
        "id": "RCmyFiQneALK",
        "outputId": "daf40446-dafd-428a-867a-1a2613bcaecc"
      },
      "source": [
        "sns.scatterplot(data=train,x='cold_info',y='number_of_rentals')"
      ],
      "execution_count": 108,
      "outputs": [
        {
          "output_type": "execute_result",
          "data": {
            "text/plain": [
              "<matplotlib.axes._subplots.AxesSubplot at 0x7fded3db8810>"
            ]
          },
          "metadata": {},
          "execution_count": 108
        },
        {
          "output_type": "display_data",
          "data": {
            "image/png": "[encoded data removed]",
            "text/plain": [
              "<Figure size 432x288 with 1 Axes>"
            ]
          },
          "metadata": {}
        }
      ]
    },
    {
      "cell_type": "code",
      "metadata": {
        "id": "GuuyIN-7jAFC"
      },
      "source": [
        "def NMAE(true, pred):\n",
        "    score = np.mean(np.abs(true-pred) / true)\n",
        "    return score"
      ],
      "execution_count": 116,
      "outputs": []
    },
    {
      "cell_type": "code",
      "metadata": {
        "colab": {
          "base_uri": "https://localhost:8080/"
        },
        "id": "E7cgTkHOeB-K",
        "outputId": "65330855-47c8-4a4e-c1dd-70f8548177ed"
      },
      "source": [
        "from sklearn.linear_model import LinearRegression\n",
        "\n",
        "model = LinearRegression() # 모델 정의\n",
        "model.fit(X, y) # 학습\n",
        "\n",
        "y_hat = model.predict(X) # y 예측\n",
        "\n",
        "score = NMAE(y, y_hat)\n",
        "\n",
        "print(f'모델 NMAE: {score}')"
      ],
      "execution_count": 118,
      "outputs": [
        {
          "output_type": "stream",
          "name": "stdout",
          "text": [
            "모델 NMAE: 0.28426261278331677\n"
          ]
        }
      ]
    },
    {
      "cell_type": "code",
      "metadata": {
        "id": "tRJlb57Mkw9j"
      },
      "source": [
        "X_computer=X.copy()\n"
      ],
      "execution_count": 119,
      "outputs": []
    },
    {
      "cell_type": "code",
      "metadata": {
        "colab": {
          "base_uri": "https://localhost:8080/",
          "height": 470
        },
        "id": "3b26SVLllCW1",
        "outputId": "eeb738cd-8229-4e77-d8e9-d0da77666ada"
      },
      "source": [
        "\n",
        "col_list = X_computer.columns\n",
        "\n",
        "# 이중 for문을 사용하여 feature 자기 자신의 제곱과 두 feature간의 곱이라는 새로운 feature를 추가합니다.\n",
        "for i in range(len(col_list)):\n",
        "    for j in range(i, len(col_list)):\n",
        "        X_computer[f'{col_list[i]}*{col_list[j]}'] = X_computer[col_list[i]] * X_computer[col_list[j]]\n",
        "\n",
        "X_computer"
      ],
      "execution_count": 120,
      "outputs": [
        {
          "output_type": "execute_result",
          "data": {
            "text/html": [
              "<div>\n",
              "<style scoped>\n",
              "    .dataframe tbody tr th:only-of-type {\n",
              "        vertical-align: middle;\n",
              "    }\n",
              "\n",
              "    .dataframe tbody tr th {\n",
              "        vertical-align: top;\n",
              "    }\n",
              "\n",
              "    .dataframe thead th {\n",
              "        text-align: right;\n",
              "    }\n",
              "</style>\n",
              "<table border=\"1\" class=\"dataframe\">\n",
              "  <thead>\n",
              "    <tr style=\"text-align: right;\">\n",
              "      <th></th>\n",
              "      <th>wind_direction</th>\n",
              "      <th>sky_condition</th>\n",
              "      <th>precipitation_form</th>\n",
              "      <th>wind_speed</th>\n",
              "      <th>humidity</th>\n",
              "      <th>low_temp</th>\n",
              "      <th>high_temp</th>\n",
              "      <th>Precipitation_Probability</th>\n",
              "      <th>year</th>\n",
              "      <th>month</th>\n",
              "      <th>day</th>\n",
              "      <th>week_day</th>\n",
              "      <th>diurnal temperature</th>\n",
              "      <th>sweat_info</th>\n",
              "      <th>cold_info</th>\n",
              "      <th>wind_direction*wind_direction</th>\n",
              "      <th>wind_direction*sky_condition</th>\n",
              "      <th>wind_direction*precipitation_form</th>\n",
              "      <th>wind_direction*wind_speed</th>\n",
              "      <th>wind_direction*humidity</th>\n",
              "      <th>wind_direction*low_temp</th>\n",
              "      <th>wind_direction*high_temp</th>\n",
              "      <th>wind_direction*Precipitation_Probability</th>\n",
              "      <th>wind_direction*year</th>\n",
              "      <th>wind_direction*month</th>\n",
              "      <th>wind_direction*day</th>\n",
              "      <th>wind_direction*week_day</th>\n",
              "      <th>wind_direction*diurnal temperature</th>\n",
              "      <th>wind_direction*sweat_info</th>\n",
              "      <th>wind_direction*cold_info</th>\n",
              "      <th>sky_condition*sky_condition</th>\n",
              "      <th>sky_condition*precipitation_form</th>\n",
              "      <th>sky_condition*wind_speed</th>\n",
              "      <th>sky_condition*humidity</th>\n",
              "      <th>sky_condition*low_temp</th>\n",
              "      <th>sky_condition*high_temp</th>\n",
              "      <th>sky_condition*Precipitation_Probability</th>\n",
              "      <th>sky_condition*year</th>\n",
              "      <th>sky_condition*month</th>\n",
              "      <th>sky_condition*day</th>\n",
              "      <th>...</th>\n",
              "      <th>high_temp*week_day</th>\n",
              "      <th>high_temp*diurnal temperature</th>\n",
              "      <th>high_temp*sweat_info</th>\n",
              "      <th>high_temp*cold_info</th>\n",
              "      <th>Precipitation_Probability*Precipitation_Probability</th>\n",
              "      <th>Precipitation_Probability*year</th>\n",
              "      <th>Precipitation_Probability*month</th>\n",
              "      <th>Precipitation_Probability*day</th>\n",
              "      <th>Precipitation_Probability*week_day</th>\n",
              "      <th>Precipitation_Probability*diurnal temperature</th>\n",
              "      <th>Precipitation_Probability*sweat_info</th>\n",
              "      <th>Precipitation_Probability*cold_info</th>\n",
              "      <th>year*year</th>\n",
              "      <th>year*month</th>\n",
              "      <th>year*day</th>\n",
              "      <th>year*week_day</th>\n",
              "      <th>year*diurnal temperature</th>\n",
              "      <th>year*sweat_info</th>\n",
              "      <th>year*cold_info</th>\n",
              "      <th>month*month</th>\n",
              "      <th>month*day</th>\n",
              "      <th>month*week_day</th>\n",
              "      <th>month*diurnal temperature</th>\n",
              "      <th>month*sweat_info</th>\n",
              "      <th>month*cold_info</th>\n",
              "      <th>day*day</th>\n",
              "      <th>day*week_day</th>\n",
              "      <th>day*diurnal temperature</th>\n",
              "      <th>day*sweat_info</th>\n",
              "      <th>day*cold_info</th>\n",
              "      <th>week_day*week_day</th>\n",
              "      <th>week_day*diurnal temperature</th>\n",
              "      <th>week_day*sweat_info</th>\n",
              "      <th>week_day*cold_info</th>\n",
              "      <th>diurnal temperature*diurnal temperature</th>\n",
              "      <th>diurnal temperature*sweat_info</th>\n",
              "      <th>diurnal temperature*cold_info</th>\n",
              "      <th>sweat_info*sweat_info</th>\n",
              "      <th>sweat_info*cold_info</th>\n",
              "      <th>cold_info*cold_info</th>\n",
              "    </tr>\n",
              "  </thead>\n",
              "  <tbody>\n",
              "    <tr>\n",
              "      <th>0</th>\n",
              "      <td>207.500</td>\n",
              "      <td>4.000</td>\n",
              "      <td>0.000</td>\n",
              "      <td>3.050</td>\n",
              "      <td>75.000</td>\n",
              "      <td>12.600</td>\n",
              "      <td>21.000</td>\n",
              "      <td>30.000</td>\n",
              "      <td>2018</td>\n",
              "      <td>4</td>\n",
              "      <td>1</td>\n",
              "      <td>3</td>\n",
              "      <td>8.400</td>\n",
              "      <td>1575.000000</td>\n",
              "      <td>38.430000</td>\n",
              "      <td>43056.250000</td>\n",
              "      <td>830.000000</td>\n",
              "      <td>0.000000</td>\n",
              "      <td>632.875000</td>\n",
              "      <td>15562.500000</td>\n",
              "      <td>2614.500000</td>\n",
              "      <td>4357.500000</td>\n",
              "      <td>6225.000000</td>\n",
              "      <td>418735.000</td>\n",
              "      <td>830.000</td>\n",
              "      <td>207.500</td>\n",
              "      <td>622.500</td>\n",
              "      <td>1743.000000</td>\n",
              "      <td>326812.500000</td>\n",
              "      <td>7974.225000</td>\n",
              "      <td>16.000000</td>\n",
              "      <td>0.000000</td>\n",
              "      <td>12.200000</td>\n",
              "      <td>300.000000</td>\n",
              "      <td>50.400000</td>\n",
              "      <td>84.000000</td>\n",
              "      <td>120.000000</td>\n",
              "      <td>8072.000</td>\n",
              "      <td>16.000</td>\n",
              "      <td>4.000</td>\n",
              "      <td>...</td>\n",
              "      <td>63.000</td>\n",
              "      <td>176.400000</td>\n",
              "      <td>33075.000000</td>\n",
              "      <td>807.030000</td>\n",
              "      <td>900.000000</td>\n",
              "      <td>60540.000</td>\n",
              "      <td>120.000</td>\n",
              "      <td>30.000</td>\n",
              "      <td>90.000</td>\n",
              "      <td>252.000000</td>\n",
              "      <td>47250.000000</td>\n",
              "      <td>1152.900000</td>\n",
              "      <td>4072324</td>\n",
              "      <td>8072</td>\n",
              "      <td>2018</td>\n",
              "      <td>6054</td>\n",
              "      <td>16951.200</td>\n",
              "      <td>3.178350e+06</td>\n",
              "      <td>77551.740000</td>\n",
              "      <td>16</td>\n",
              "      <td>4</td>\n",
              "      <td>12</td>\n",
              "      <td>33.600</td>\n",
              "      <td>6300.000000</td>\n",
              "      <td>153.720000</td>\n",
              "      <td>1</td>\n",
              "      <td>3</td>\n",
              "      <td>8.400</td>\n",
              "      <td>1575.000000</td>\n",
              "      <td>38.430000</td>\n",
              "      <td>9</td>\n",
              "      <td>25.200</td>\n",
              "      <td>4725.000000</td>\n",
              "      <td>115.290000</td>\n",
              "      <td>70.560000</td>\n",
              "      <td>13230.000000</td>\n",
              "      <td>322.812000</td>\n",
              "      <td>2.480625e+06</td>\n",
              "      <td>60527.250000</td>\n",
              "      <td>1476.864900</td>\n",
              "    </tr>\n",
              "    <tr>\n",
              "      <th>1</th>\n",
              "      <td>208.317</td>\n",
              "      <td>2.950</td>\n",
              "      <td>0.000</td>\n",
              "      <td>3.278</td>\n",
              "      <td>69.833</td>\n",
              "      <td>12.812</td>\n",
              "      <td>19.000</td>\n",
              "      <td>19.500</td>\n",
              "      <td>2018</td>\n",
              "      <td>4</td>\n",
              "      <td>2</td>\n",
              "      <td>1</td>\n",
              "      <td>6.188</td>\n",
              "      <td>1326.827000</td>\n",
              "      <td>41.997736</td>\n",
              "      <td>43395.972489</td>\n",
              "      <td>614.535150</td>\n",
              "      <td>0.000000</td>\n",
              "      <td>682.863126</td>\n",
              "      <td>14547.401061</td>\n",
              "      <td>2668.957404</td>\n",
              "      <td>3958.023000</td>\n",
              "      <td>4062.181500</td>\n",
              "      <td>420383.706</td>\n",
              "      <td>833.268</td>\n",
              "      <td>416.634</td>\n",
              "      <td>208.317</td>\n",
              "      <td>1289.065596</td>\n",
              "      <td>276400.620159</td>\n",
              "      <td>8748.842370</td>\n",
              "      <td>8.702500</td>\n",
              "      <td>0.000000</td>\n",
              "      <td>9.670100</td>\n",
              "      <td>206.007350</td>\n",
              "      <td>37.795400</td>\n",
              "      <td>56.050000</td>\n",
              "      <td>57.525000</td>\n",
              "      <td>5953.100</td>\n",
              "      <td>11.800</td>\n",
              "      <td>5.900</td>\n",
              "      <td>...</td>\n",
              "      <td>19.000</td>\n",
              "      <td>117.572000</td>\n",
              "      <td>25209.713000</td>\n",
              "      <td>797.956984</td>\n",
              "      <td>380.250000</td>\n",
              "      <td>39351.000</td>\n",
              "      <td>78.000</td>\n",
              "      <td>39.000</td>\n",
              "      <td>19.500</td>\n",
              "      <td>120.666000</td>\n",
              "      <td>25873.126500</td>\n",
              "      <td>818.955852</td>\n",
              "      <td>4072324</td>\n",
              "      <td>8072</td>\n",
              "      <td>4036</td>\n",
              "      <td>2018</td>\n",
              "      <td>12487.384</td>\n",
              "      <td>2.677537e+06</td>\n",
              "      <td>84751.431248</td>\n",
              "      <td>16</td>\n",
              "      <td>8</td>\n",
              "      <td>4</td>\n",
              "      <td>24.752</td>\n",
              "      <td>5307.308000</td>\n",
              "      <td>167.990944</td>\n",
              "      <td>4</td>\n",
              "      <td>2</td>\n",
              "      <td>12.376</td>\n",
              "      <td>2653.654000</td>\n",
              "      <td>83.995472</td>\n",
              "      <td>1</td>\n",
              "      <td>6.188</td>\n",
              "      <td>1326.827000</td>\n",
              "      <td>41.997736</td>\n",
              "      <td>38.291344</td>\n",
              "      <td>8210.405476</td>\n",
              "      <td>259.881990</td>\n",
              "      <td>1.760470e+06</td>\n",
              "      <td>55723.730064</td>\n",
              "      <td>1763.809829</td>\n",
              "    </tr>\n",
              "    <tr>\n",
              "      <th>2</th>\n",
              "      <td>213.516</td>\n",
              "      <td>2.911</td>\n",
              "      <td>0.000</td>\n",
              "      <td>2.690</td>\n",
              "      <td>74.879</td>\n",
              "      <td>10.312</td>\n",
              "      <td>15.316</td>\n",
              "      <td>19.113</td>\n",
              "      <td>2018</td>\n",
              "      <td>4</td>\n",
              "      <td>3</td>\n",
              "      <td>5</td>\n",
              "      <td>5.004</td>\n",
              "      <td>1146.846764</td>\n",
              "      <td>27.739280</td>\n",
              "      <td>45589.082256</td>\n",
              "      <td>621.545076</td>\n",
              "      <td>0.000000</td>\n",
              "      <td>574.358040</td>\n",
              "      <td>15987.864564</td>\n",
              "      <td>2201.776992</td>\n",
              "      <td>3270.211056</td>\n",
              "      <td>4080.931308</td>\n",
              "      <td>430875.288</td>\n",
              "      <td>854.064</td>\n",
              "      <td>640.548</td>\n",
              "      <td>1067.580</td>\n",
              "      <td>1068.434064</td>\n",
              "      <td>244870.133662</td>\n",
              "      <td>5922.780108</td>\n",
              "      <td>8.473921</td>\n",
              "      <td>0.000000</td>\n",
              "      <td>7.830590</td>\n",
              "      <td>217.972769</td>\n",
              "      <td>30.018232</td>\n",
              "      <td>44.584876</td>\n",
              "      <td>55.637943</td>\n",
              "      <td>5874.398</td>\n",
              "      <td>11.644</td>\n",
              "      <td>8.733</td>\n",
              "      <td>...</td>\n",
              "      <td>76.580</td>\n",
              "      <td>76.641264</td>\n",
              "      <td>17565.105037</td>\n",
              "      <td>424.854812</td>\n",
              "      <td>365.306769</td>\n",
              "      <td>38570.034</td>\n",
              "      <td>76.452</td>\n",
              "      <td>57.339</td>\n",
              "      <td>95.565</td>\n",
              "      <td>95.641452</td>\n",
              "      <td>21919.682200</td>\n",
              "      <td>530.180859</td>\n",
              "      <td>4072324</td>\n",
              "      <td>8072</td>\n",
              "      <td>6054</td>\n",
              "      <td>10090</td>\n",
              "      <td>10098.072</td>\n",
              "      <td>2.314337e+06</td>\n",
              "      <td>55977.867040</td>\n",
              "      <td>16</td>\n",
              "      <td>12</td>\n",
              "      <td>20</td>\n",
              "      <td>20.016</td>\n",
              "      <td>4587.387056</td>\n",
              "      <td>110.957120</td>\n",
              "      <td>9</td>\n",
              "      <td>15</td>\n",
              "      <td>15.012</td>\n",
              "      <td>3440.540292</td>\n",
              "      <td>83.217840</td>\n",
              "      <td>25</td>\n",
              "      <td>25.020</td>\n",
              "      <td>5734.233820</td>\n",
              "      <td>138.696400</td>\n",
              "      <td>25.040016</td>\n",
              "      <td>5738.821207</td>\n",
              "      <td>138.807357</td>\n",
              "      <td>1.315258e+06</td>\n",
              "      <td>31812.703504</td>\n",
              "      <td>769.467655</td>\n",
              "    </tr>\n",
              "    <tr>\n",
              "      <th>3</th>\n",
              "      <td>143.836</td>\n",
              "      <td>3.692</td>\n",
              "      <td>0.425</td>\n",
              "      <td>3.138</td>\n",
              "      <td>71.849</td>\n",
              "      <td>8.312</td>\n",
              "      <td>12.368</td>\n",
              "      <td>43.493</td>\n",
              "      <td>2018</td>\n",
              "      <td>4</td>\n",
              "      <td>4</td>\n",
              "      <td>6</td>\n",
              "      <td>4.056</td>\n",
              "      <td>888.628432</td>\n",
              "      <td>26.083056</td>\n",
              "      <td>20688.794896</td>\n",
              "      <td>531.042512</td>\n",
              "      <td>61.130300</td>\n",
              "      <td>451.357368</td>\n",
              "      <td>10334.472764</td>\n",
              "      <td>1195.564832</td>\n",
              "      <td>1778.963648</td>\n",
              "      <td>6255.859148</td>\n",
              "      <td>290261.048</td>\n",
              "      <td>575.344</td>\n",
              "      <td>575.344</td>\n",
              "      <td>863.016</td>\n",
              "      <td>583.398816</td>\n",
              "      <td>127816.759145</td>\n",
              "      <td>3751.682443</td>\n",
              "      <td>13.630864</td>\n",
              "      <td>1.569100</td>\n",
              "      <td>11.585496</td>\n",
              "      <td>265.266508</td>\n",
              "      <td>30.687904</td>\n",
              "      <td>45.662656</td>\n",
              "      <td>160.576156</td>\n",
              "      <td>7450.456</td>\n",
              "      <td>14.768</td>\n",
              "      <td>14.768</td>\n",
              "      <td>...</td>\n",
              "      <td>74.208</td>\n",
              "      <td>50.164608</td>\n",
              "      <td>10990.556447</td>\n",
              "      <td>322.595237</td>\n",
              "      <td>1891.641049</td>\n",
              "      <td>87768.874</td>\n",
              "      <td>173.972</td>\n",
              "      <td>173.972</td>\n",
              "      <td>260.958</td>\n",
              "      <td>176.407608</td>\n",
              "      <td>38649.116393</td>\n",
              "      <td>1134.430355</td>\n",
              "      <td>4072324</td>\n",
              "      <td>8072</td>\n",
              "      <td>8072</td>\n",
              "      <td>12108</td>\n",
              "      <td>8185.008</td>\n",
              "      <td>1.793252e+06</td>\n",
              "      <td>52635.607008</td>\n",
              "      <td>16</td>\n",
              "      <td>16</td>\n",
              "      <td>24</td>\n",
              "      <td>16.224</td>\n",
              "      <td>3554.513728</td>\n",
              "      <td>104.332224</td>\n",
              "      <td>16</td>\n",
              "      <td>24</td>\n",
              "      <td>16.224</td>\n",
              "      <td>3554.513728</td>\n",
              "      <td>104.332224</td>\n",
              "      <td>36</td>\n",
              "      <td>24.336</td>\n",
              "      <td>5331.770592</td>\n",
              "      <td>156.498336</td>\n",
              "      <td>16.451136</td>\n",
              "      <td>3604.276920</td>\n",
              "      <td>105.792875</td>\n",
              "      <td>7.896605e+05</td>\n",
              "      <td>23178.145155</td>\n",
              "      <td>680.325810</td>\n",
              "    </tr>\n",
              "    <tr>\n",
              "      <th>4</th>\n",
              "      <td>95.905</td>\n",
              "      <td>4.000</td>\n",
              "      <td>0.723</td>\n",
              "      <td>3.186</td>\n",
              "      <td>73.784</td>\n",
              "      <td>5.875</td>\n",
              "      <td>10.421</td>\n",
              "      <td>63.378</td>\n",
              "      <td>2018</td>\n",
              "      <td>4</td>\n",
              "      <td>5</td>\n",
              "      <td>4</td>\n",
              "      <td>4.546</td>\n",
              "      <td>768.903064</td>\n",
              "      <td>18.717750</td>\n",
              "      <td>9197.769025</td>\n",
              "      <td>383.620000</td>\n",
              "      <td>69.339315</td>\n",
              "      <td>305.553330</td>\n",
              "      <td>7076.254520</td>\n",
              "      <td>563.441875</td>\n",
              "      <td>999.426005</td>\n",
              "      <td>6078.267090</td>\n",
              "      <td>193536.290</td>\n",
              "      <td>383.620</td>\n",
              "      <td>479.525</td>\n",
              "      <td>383.620</td>\n",
              "      <td>435.984130</td>\n",
              "      <td>73741.648353</td>\n",
              "      <td>1795.125814</td>\n",
              "      <td>16.000000</td>\n",
              "      <td>2.892000</td>\n",
              "      <td>12.744000</td>\n",
              "      <td>295.136000</td>\n",
              "      <td>23.500000</td>\n",
              "      <td>41.684000</td>\n",
              "      <td>253.512000</td>\n",
              "      <td>8072.000</td>\n",
              "      <td>16.000</td>\n",
              "      <td>20.000</td>\n",
              "      <td>...</td>\n",
              "      <td>41.684</td>\n",
              "      <td>47.373866</td>\n",
              "      <td>8012.738830</td>\n",
              "      <td>195.057673</td>\n",
              "      <td>4016.770884</td>\n",
              "      <td>127896.804</td>\n",
              "      <td>253.512</td>\n",
              "      <td>316.890</td>\n",
              "      <td>253.512</td>\n",
              "      <td>288.116388</td>\n",
              "      <td>48731.538390</td>\n",
              "      <td>1186.293560</td>\n",
              "      <td>4072324</td>\n",
              "      <td>8072</td>\n",
              "      <td>10090</td>\n",
              "      <td>8072</td>\n",
              "      <td>9173.828</td>\n",
              "      <td>1.551646e+06</td>\n",
              "      <td>37772.419500</td>\n",
              "      <td>16</td>\n",
              "      <td>20</td>\n",
              "      <td>16</td>\n",
              "      <td>18.184</td>\n",
              "      <td>3075.612256</td>\n",
              "      <td>74.871000</td>\n",
              "      <td>25</td>\n",
              "      <td>20</td>\n",
              "      <td>22.730</td>\n",
              "      <td>3844.515320</td>\n",
              "      <td>93.588750</td>\n",
              "      <td>16</td>\n",
              "      <td>18.184</td>\n",
              "      <td>3075.612256</td>\n",
              "      <td>74.871000</td>\n",
              "      <td>20.666116</td>\n",
              "      <td>3495.433329</td>\n",
              "      <td>85.090891</td>\n",
              "      <td>5.912119e+05</td>\n",
              "      <td>14392.135326</td>\n",
              "      <td>350.354165</td>\n",
              "    </tr>\n",
              "    <tr>\n",
              "      <th>...</th>\n",
              "      <td>...</td>\n",
              "      <td>...</td>\n",
              "      <td>...</td>\n",
              "      <td>...</td>\n",
              "      <td>...</td>\n",
              "      <td>...</td>\n",
              "      <td>...</td>\n",
              "      <td>...</td>\n",
              "      <td>...</td>\n",
              "      <td>...</td>\n",
              "      <td>...</td>\n",
              "      <td>...</td>\n",
              "      <td>...</td>\n",
              "      <td>...</td>\n",
              "      <td>...</td>\n",
              "      <td>...</td>\n",
              "      <td>...</td>\n",
              "      <td>...</td>\n",
              "      <td>...</td>\n",
              "      <td>...</td>\n",
              "      <td>...</td>\n",
              "      <td>...</td>\n",
              "      <td>...</td>\n",
              "      <td>...</td>\n",
              "      <td>...</td>\n",
              "      <td>...</td>\n",
              "      <td>...</td>\n",
              "      <td>...</td>\n",
              "      <td>...</td>\n",
              "      <td>...</td>\n",
              "      <td>...</td>\n",
              "      <td>...</td>\n",
              "      <td>...</td>\n",
              "      <td>...</td>\n",
              "      <td>...</td>\n",
              "      <td>...</td>\n",
              "      <td>...</td>\n",
              "      <td>...</td>\n",
              "      <td>...</td>\n",
              "      <td>...</td>\n",
              "      <td>...</td>\n",
              "      <td>...</td>\n",
              "      <td>...</td>\n",
              "      <td>...</td>\n",
              "      <td>...</td>\n",
              "      <td>...</td>\n",
              "      <td>...</td>\n",
              "      <td>...</td>\n",
              "      <td>...</td>\n",
              "      <td>...</td>\n",
              "      <td>...</td>\n",
              "      <td>...</td>\n",
              "      <td>...</td>\n",
              "      <td>...</td>\n",
              "      <td>...</td>\n",
              "      <td>...</td>\n",
              "      <td>...</td>\n",
              "      <td>...</td>\n",
              "      <td>...</td>\n",
              "      <td>...</td>\n",
              "      <td>...</td>\n",
              "      <td>...</td>\n",
              "      <td>...</td>\n",
              "      <td>...</td>\n",
              "      <td>...</td>\n",
              "      <td>...</td>\n",
              "      <td>...</td>\n",
              "      <td>...</td>\n",
              "      <td>...</td>\n",
              "      <td>...</td>\n",
              "      <td>...</td>\n",
              "      <td>...</td>\n",
              "      <td>...</td>\n",
              "      <td>...</td>\n",
              "      <td>...</td>\n",
              "      <td>...</td>\n",
              "      <td>...</td>\n",
              "      <td>...</td>\n",
              "      <td>...</td>\n",
              "      <td>...</td>\n",
              "      <td>...</td>\n",
              "    </tr>\n",
              "    <tr>\n",
              "      <th>268</th>\n",
              "      <td>228.662</td>\n",
              "      <td>3.980</td>\n",
              "      <td>0.223</td>\n",
              "      <td>2.271</td>\n",
              "      <td>78.378</td>\n",
              "      <td>20.500</td>\n",
              "      <td>27.526</td>\n",
              "      <td>36.486</td>\n",
              "      <td>2020</td>\n",
              "      <td>6</td>\n",
              "      <td>26</td>\n",
              "      <td>0</td>\n",
              "      <td>7.026</td>\n",
              "      <td>2157.432828</td>\n",
              "      <td>46.555500</td>\n",
              "      <td>52286.310244</td>\n",
              "      <td>910.074760</td>\n",
              "      <td>50.991626</td>\n",
              "      <td>519.291402</td>\n",
              "      <td>17922.070236</td>\n",
              "      <td>4687.571000</td>\n",
              "      <td>6294.150212</td>\n",
              "      <td>8342.961732</td>\n",
              "      <td>461897.240</td>\n",
              "      <td>1371.972</td>\n",
              "      <td>5945.212</td>\n",
              "      <td>0.000</td>\n",
              "      <td>1606.579212</td>\n",
              "      <td>493322.905316</td>\n",
              "      <td>10645.473741</td>\n",
              "      <td>15.840400</td>\n",
              "      <td>0.887540</td>\n",
              "      <td>9.038580</td>\n",
              "      <td>311.944440</td>\n",
              "      <td>81.590000</td>\n",
              "      <td>109.553480</td>\n",
              "      <td>145.214280</td>\n",
              "      <td>8039.600</td>\n",
              "      <td>23.880</td>\n",
              "      <td>103.480</td>\n",
              "      <td>...</td>\n",
              "      <td>0.000</td>\n",
              "      <td>193.397676</td>\n",
              "      <td>59385.496024</td>\n",
              "      <td>1281.486693</td>\n",
              "      <td>1331.228196</td>\n",
              "      <td>73701.720</td>\n",
              "      <td>218.916</td>\n",
              "      <td>948.636</td>\n",
              "      <td>0.000</td>\n",
              "      <td>256.350636</td>\n",
              "      <td>78716.094162</td>\n",
              "      <td>1698.623973</td>\n",
              "      <td>4080400</td>\n",
              "      <td>12120</td>\n",
              "      <td>52520</td>\n",
              "      <td>0</td>\n",
              "      <td>14192.520</td>\n",
              "      <td>4.358014e+06</td>\n",
              "      <td>94042.110000</td>\n",
              "      <td>36</td>\n",
              "      <td>156</td>\n",
              "      <td>0</td>\n",
              "      <td>42.156</td>\n",
              "      <td>12944.596968</td>\n",
              "      <td>279.333000</td>\n",
              "      <td>676</td>\n",
              "      <td>0</td>\n",
              "      <td>182.676</td>\n",
              "      <td>56093.253528</td>\n",
              "      <td>1210.443000</td>\n",
              "      <td>0</td>\n",
              "      <td>0.000</td>\n",
              "      <td>0.000000</td>\n",
              "      <td>0.000000</td>\n",
              "      <td>49.364676</td>\n",
              "      <td>15158.123050</td>\n",
              "      <td>327.098943</td>\n",
              "      <td>4.654516e+06</td>\n",
              "      <td>100440.364024</td>\n",
              "      <td>2167.414580</td>\n",
              "    </tr>\n",
              "    <tr>\n",
              "      <th>269</th>\n",
              "      <td>207.770</td>\n",
              "      <td>2.865</td>\n",
              "      <td>0.081</td>\n",
              "      <td>1.794</td>\n",
              "      <td>78.412</td>\n",
              "      <td>20.812</td>\n",
              "      <td>28.842</td>\n",
              "      <td>21.081</td>\n",
              "      <td>2020</td>\n",
              "      <td>6</td>\n",
              "      <td>27</td>\n",
              "      <td>2</td>\n",
              "      <td>8.030</td>\n",
              "      <td>2261.558904</td>\n",
              "      <td>37.336728</td>\n",
              "      <td>43168.372900</td>\n",
              "      <td>595.261050</td>\n",
              "      <td>16.829370</td>\n",
              "      <td>372.739380</td>\n",
              "      <td>16291.661240</td>\n",
              "      <td>4324.109240</td>\n",
              "      <td>5992.502340</td>\n",
              "      <td>4379.999370</td>\n",
              "      <td>419695.400</td>\n",
              "      <td>1246.620</td>\n",
              "      <td>5609.790</td>\n",
              "      <td>415.540</td>\n",
              "      <td>1668.393100</td>\n",
              "      <td>469884.093484</td>\n",
              "      <td>7757.451977</td>\n",
              "      <td>8.208225</td>\n",
              "      <td>0.232065</td>\n",
              "      <td>5.139810</td>\n",
              "      <td>224.650380</td>\n",
              "      <td>59.626380</td>\n",
              "      <td>82.632330</td>\n",
              "      <td>60.397065</td>\n",
              "      <td>5787.300</td>\n",
              "      <td>17.190</td>\n",
              "      <td>77.355</td>\n",
              "      <td>...</td>\n",
              "      <td>57.684</td>\n",
              "      <td>231.601260</td>\n",
              "      <td>65227.881909</td>\n",
              "      <td>1076.865909</td>\n",
              "      <td>444.408561</td>\n",
              "      <td>42583.620</td>\n",
              "      <td>126.486</td>\n",
              "      <td>569.187</td>\n",
              "      <td>42.162</td>\n",
              "      <td>169.280430</td>\n",
              "      <td>47675.923255</td>\n",
              "      <td>787.095563</td>\n",
              "      <td>4080400</td>\n",
              "      <td>12120</td>\n",
              "      <td>54540</td>\n",
              "      <td>4040</td>\n",
              "      <td>16220.600</td>\n",
              "      <td>4.568349e+06</td>\n",
              "      <td>75420.190560</td>\n",
              "      <td>36</td>\n",
              "      <td>162</td>\n",
              "      <td>12</td>\n",
              "      <td>48.180</td>\n",
              "      <td>13569.353424</td>\n",
              "      <td>224.020368</td>\n",
              "      <td>729</td>\n",
              "      <td>54</td>\n",
              "      <td>216.810</td>\n",
              "      <td>61062.090408</td>\n",
              "      <td>1008.091656</td>\n",
              "      <td>4</td>\n",
              "      <td>16.060</td>\n",
              "      <td>4523.117808</td>\n",
              "      <td>74.673456</td>\n",
              "      <td>64.480900</td>\n",
              "      <td>18160.317999</td>\n",
              "      <td>299.813926</td>\n",
              "      <td>5.114649e+06</td>\n",
              "      <td>84439.209655</td>\n",
              "      <td>1394.031258</td>\n",
              "    </tr>\n",
              "    <tr>\n",
              "      <th>270</th>\n",
              "      <td>282.568</td>\n",
              "      <td>1.730</td>\n",
              "      <td>0.000</td>\n",
              "      <td>1.820</td>\n",
              "      <td>72.736</td>\n",
              "      <td>21.000</td>\n",
              "      <td>29.053</td>\n",
              "      <td>7.297</td>\n",
              "      <td>2020</td>\n",
              "      <td>6</td>\n",
              "      <td>28</td>\n",
              "      <td>3</td>\n",
              "      <td>8.053</td>\n",
              "      <td>2113.199008</td>\n",
              "      <td>38.220000</td>\n",
              "      <td>79844.674624</td>\n",
              "      <td>488.842640</td>\n",
              "      <td>0.000000</td>\n",
              "      <td>514.273760</td>\n",
              "      <td>20552.866048</td>\n",
              "      <td>5933.928000</td>\n",
              "      <td>8209.448104</td>\n",
              "      <td>2061.898696</td>\n",
              "      <td>570787.360</td>\n",
              "      <td>1695.408</td>\n",
              "      <td>7911.904</td>\n",
              "      <td>847.704</td>\n",
              "      <td>2275.520104</td>\n",
              "      <td>597122.417293</td>\n",
              "      <td>10799.748960</td>\n",
              "      <td>2.992900</td>\n",
              "      <td>0.000000</td>\n",
              "      <td>3.148600</td>\n",
              "      <td>125.833280</td>\n",
              "      <td>36.330000</td>\n",
              "      <td>50.261690</td>\n",
              "      <td>12.623810</td>\n",
              "      <td>3494.600</td>\n",
              "      <td>10.380</td>\n",
              "      <td>48.440</td>\n",
              "      <td>...</td>\n",
              "      <td>87.159</td>\n",
              "      <td>233.963809</td>\n",
              "      <td>61394.770779</td>\n",
              "      <td>1110.405660</td>\n",
              "      <td>53.246209</td>\n",
              "      <td>14739.940</td>\n",
              "      <td>43.782</td>\n",
              "      <td>204.316</td>\n",
              "      <td>21.891</td>\n",
              "      <td>58.762741</td>\n",
              "      <td>15420.013161</td>\n",
              "      <td>278.891340</td>\n",
              "      <td>4080400</td>\n",
              "      <td>12120</td>\n",
              "      <td>56560</td>\n",
              "      <td>6060</td>\n",
              "      <td>16267.060</td>\n",
              "      <td>4.268662e+06</td>\n",
              "      <td>77204.400000</td>\n",
              "      <td>36</td>\n",
              "      <td>168</td>\n",
              "      <td>18</td>\n",
              "      <td>48.318</td>\n",
              "      <td>12679.194048</td>\n",
              "      <td>229.320000</td>\n",
              "      <td>784</td>\n",
              "      <td>84</td>\n",
              "      <td>225.484</td>\n",
              "      <td>59169.572224</td>\n",
              "      <td>1070.160000</td>\n",
              "      <td>9</td>\n",
              "      <td>24.159</td>\n",
              "      <td>6339.597024</td>\n",
              "      <td>114.660000</td>\n",
              "      <td>64.850809</td>\n",
              "      <td>17017.591611</td>\n",
              "      <td>307.785660</td>\n",
              "      <td>4.465610e+06</td>\n",
              "      <td>80766.466086</td>\n",
              "      <td>1460.768400</td>\n",
              "    </tr>\n",
              "    <tr>\n",
              "      <th>271</th>\n",
              "      <td>137.027</td>\n",
              "      <td>2.257</td>\n",
              "      <td>0.088</td>\n",
              "      <td>2.043</td>\n",
              "      <td>70.473</td>\n",
              "      <td>19.625</td>\n",
              "      <td>26.000</td>\n",
              "      <td>15.541</td>\n",
              "      <td>2020</td>\n",
              "      <td>6</td>\n",
              "      <td>29</td>\n",
              "      <td>1</td>\n",
              "      <td>6.375</td>\n",
              "      <td>1832.298000</td>\n",
              "      <td>40.093875</td>\n",
              "      <td>18776.398729</td>\n",
              "      <td>309.269939</td>\n",
              "      <td>12.058376</td>\n",
              "      <td>279.946161</td>\n",
              "      <td>9656.703771</td>\n",
              "      <td>2689.154875</td>\n",
              "      <td>3562.702000</td>\n",
              "      <td>2129.536607</td>\n",
              "      <td>276794.540</td>\n",
              "      <td>822.162</td>\n",
              "      <td>3973.783</td>\n",
              "      <td>137.027</td>\n",
              "      <td>873.547125</td>\n",
              "      <td>251074.298046</td>\n",
              "      <td>5493.943410</td>\n",
              "      <td>5.094049</td>\n",
              "      <td>0.198616</td>\n",
              "      <td>4.611051</td>\n",
              "      <td>159.057561</td>\n",
              "      <td>44.293625</td>\n",
              "      <td>58.682000</td>\n",
              "      <td>35.076037</td>\n",
              "      <td>4559.140</td>\n",
              "      <td>13.542</td>\n",
              "      <td>65.453</td>\n",
              "      <td>...</td>\n",
              "      <td>26.000</td>\n",
              "      <td>165.750000</td>\n",
              "      <td>47639.748000</td>\n",
              "      <td>1042.440750</td>\n",
              "      <td>241.522681</td>\n",
              "      <td>31392.820</td>\n",
              "      <td>93.246</td>\n",
              "      <td>450.689</td>\n",
              "      <td>15.541</td>\n",
              "      <td>99.073875</td>\n",
              "      <td>28475.743218</td>\n",
              "      <td>623.098911</td>\n",
              "      <td>4080400</td>\n",
              "      <td>12120</td>\n",
              "      <td>58580</td>\n",
              "      <td>2020</td>\n",
              "      <td>12877.500</td>\n",
              "      <td>3.701242e+06</td>\n",
              "      <td>80989.627500</td>\n",
              "      <td>36</td>\n",
              "      <td>174</td>\n",
              "      <td>6</td>\n",
              "      <td>38.250</td>\n",
              "      <td>10993.788000</td>\n",
              "      <td>240.563250</td>\n",
              "      <td>841</td>\n",
              "      <td>29</td>\n",
              "      <td>184.875</td>\n",
              "      <td>53136.642000</td>\n",
              "      <td>1162.722375</td>\n",
              "      <td>1</td>\n",
              "      <td>6.375</td>\n",
              "      <td>1832.298000</td>\n",
              "      <td>40.093875</td>\n",
              "      <td>40.640625</td>\n",
              "      <td>11680.899750</td>\n",
              "      <td>255.598453</td>\n",
              "      <td>3.357316e+06</td>\n",
              "      <td>73463.926975</td>\n",
              "      <td>1607.518813</td>\n",
              "    </tr>\n",
              "    <tr>\n",
              "      <th>272</th>\n",
              "      <td>120.797</td>\n",
              "      <td>3.622</td>\n",
              "      <td>0.432</td>\n",
              "      <td>5.574</td>\n",
              "      <td>77.061</td>\n",
              "      <td>19.125</td>\n",
              "      <td>26.053</td>\n",
              "      <td>41.284</td>\n",
              "      <td>2020</td>\n",
              "      <td>6</td>\n",
              "      <td>30</td>\n",
              "      <td>5</td>\n",
              "      <td>6.928</td>\n",
              "      <td>2007.670233</td>\n",
              "      <td>106.602750</td>\n",
              "      <td>14591.915209</td>\n",
              "      <td>437.526734</td>\n",
              "      <td>52.184304</td>\n",
              "      <td>673.322478</td>\n",
              "      <td>9308.737617</td>\n",
              "      <td>2310.242625</td>\n",
              "      <td>3147.124241</td>\n",
              "      <td>4986.983348</td>\n",
              "      <td>244009.940</td>\n",
              "      <td>724.782</td>\n",
              "      <td>3623.910</td>\n",
              "      <td>603.985</td>\n",
              "      <td>836.881616</td>\n",
              "      <td>242520.541136</td>\n",
              "      <td>12877.292392</td>\n",
              "      <td>13.118884</td>\n",
              "      <td>1.564704</td>\n",
              "      <td>20.189028</td>\n",
              "      <td>279.114942</td>\n",
              "      <td>69.270750</td>\n",
              "      <td>94.363966</td>\n",
              "      <td>149.530648</td>\n",
              "      <td>7316.440</td>\n",
              "      <td>21.732</td>\n",
              "      <td>108.660</td>\n",
              "      <td>...</td>\n",
              "      <td>130.265</td>\n",
              "      <td>180.495184</td>\n",
              "      <td>52305.832580</td>\n",
              "      <td>2777.321446</td>\n",
              "      <td>1704.368656</td>\n",
              "      <td>83393.680</td>\n",
              "      <td>247.704</td>\n",
              "      <td>1238.520</td>\n",
              "      <td>206.420</td>\n",
              "      <td>286.015552</td>\n",
              "      <td>82884.657899</td>\n",
              "      <td>4400.987931</td>\n",
              "      <td>4080400</td>\n",
              "      <td>12120</td>\n",
              "      <td>60600</td>\n",
              "      <td>10100</td>\n",
              "      <td>13994.560</td>\n",
              "      <td>4.055494e+06</td>\n",
              "      <td>215337.555000</td>\n",
              "      <td>36</td>\n",
              "      <td>180</td>\n",
              "      <td>30</td>\n",
              "      <td>41.568</td>\n",
              "      <td>12046.021398</td>\n",
              "      <td>639.616500</td>\n",
              "      <td>900</td>\n",
              "      <td>150</td>\n",
              "      <td>207.840</td>\n",
              "      <td>60230.106990</td>\n",
              "      <td>3198.082500</td>\n",
              "      <td>25</td>\n",
              "      <td>34.640</td>\n",
              "      <td>10038.351165</td>\n",
              "      <td>533.013750</td>\n",
              "      <td>47.997184</td>\n",
              "      <td>13909.139374</td>\n",
              "      <td>738.543852</td>\n",
              "      <td>4.030740e+06</td>\n",
              "      <td>214023.167931</td>\n",
              "      <td>11364.146308</td>\n",
              "    </tr>\n",
              "  </tbody>\n",
              "</table>\n",
              "<p>273 rows × 135 columns</p>\n",
              "</div>"
            ],
            "text/plain": [
              "     wind_direction  sky_condition  ...  sweat_info*cold_info  cold_info*cold_info\n",
              "0           207.500          4.000  ...          60527.250000          1476.864900\n",
              "1           208.317          2.950  ...          55723.730064          1763.809829\n",
              "2           213.516          2.911  ...          31812.703504           769.467655\n",
              "3           143.836          3.692  ...          23178.145155           680.325810\n",
              "4            95.905          4.000  ...          14392.135326           350.354165\n",
              "..              ...            ...  ...                   ...                  ...\n",
              "268         228.662          3.980  ...         100440.364024          2167.414580\n",
              "269         207.770          2.865  ...          84439.209655          1394.031258\n",
              "270         282.568          1.730  ...          80766.466086          1460.768400\n",
              "271         137.027          2.257  ...          73463.926975          1607.518813\n",
              "272         120.797          3.622  ...         214023.167931         11364.146308\n",
              "\n",
              "[273 rows x 135 columns]"
            ]
          },
          "metadata": {},
          "execution_count": 120
        }
      ]
    },
    {
      "cell_type": "code",
      "metadata": {
        "colab": {
          "base_uri": "https://localhost:8080/"
        },
        "id": "NBT8fajmlE-f",
        "outputId": "ea6ab0db-2d07-4cd1-c305-5953d760c4ff"
      },
      "source": [
        "from sklearn.linear_model import LinearRegression\n",
        "\n",
        "model = LinearRegression() # 모델 정의\n",
        "model.fit(X_computer, y) # 학습\n",
        "\n",
        "y_hat = model.predict(X_computer) # y 예측\n",
        "\n",
        "score = NMAE(y, y_hat)\n",
        "\n",
        "print(f'모델 NMAE: {score}')"
      ],
      "execution_count": 121,
      "outputs": [
        {
          "output_type": "stream",
          "name": "stdout",
          "text": [
            "모델 NMAE: 0.10278968206176078\n"
          ]
        }
      ]
    },
    {
      "cell_type": "code",
      "metadata": {
        "id": "lxPMiE5dlNj1"
      },
      "source": [
        "test_X = test.drop('date_time', axis = 1)"
      ],
      "execution_count": 122,
      "outputs": []
    },
    {
      "cell_type": "code",
      "metadata": {
        "id": "CFCQkfCkliEk"
      },
      "source": [
        "col_list = test_X.columns\n",
        "\n",
        "for i in range(len(col_list)):\n",
        "    for j in range(i, len(col_list)):\n",
        "        test_X[f'{col_list[i]}*{col_list[j]}'] = test_X[col_list[i]] * test_X[col_list[j]]"
      ],
      "execution_count": 123,
      "outputs": []
    },
    {
      "cell_type": "code",
      "metadata": {
        "colab": {
          "base_uri": "https://localhost:8080/"
        },
        "id": "yfayf5gHlmke",
        "outputId": "aca54ae1-2273-46a8-e2d5-8de24ec06cf6"
      },
      "source": [
        "test_yhat = model.predict(test_X)\n",
        "\n",
        "# submission dataFrame 완성\n",
        "submission['number_of_rentals'] = test_yhat\n",
        "\n",
        "# 제출 파일 생성\n",
        "submission.to_csv('submission.csv', index= False)"
      ],
      "execution_count": 124,
      "outputs": [
        {
          "output_type": "stream",
          "name": "stderr",
          "text": [
            "/usr/local/lib/python3.7/dist-packages/sklearn/base.py:488: FutureWarning: The feature names should match those that were passed during fit. Starting version 1.2, an error will be raised.\n",
            "Feature names unseen at fit time:\n",
            "- cold_info*week_day\n",
            "- diurnal temperature*week_day\n",
            "- sweat_info*week_day\n",
            "Feature names seen at fit time, yet now missing:\n",
            "- week_day*cold_info\n",
            "- week_day*diurnal temperature\n",
            "- week_day*sweat_info\n",
            "\n",
            "  warnings.warn(message, FutureWarning)\n"
          ]
        }
      ]
    },
    {
      "cell_type": "code",
      "metadata": {
        "id": "LXUJmjBqqQch"
      },
      "source": [
        "y_test=pd.read_csv(\"test-y.csv\")"
      ],
      "execution_count": 175,
      "outputs": []
    },
    {
      "cell_type": "code",
      "metadata": {
        "id": "3jdGNuXvux9h"
      },
      "source": [
        "test['number_of_rentals']=y_test['대여건수']"
      ],
      "execution_count": 176,
      "outputs": []
    },
    {
      "cell_type": "code",
      "metadata": {
        "id": "qtItgc-yu9kc"
      },
      "source": [
        "X_train=train.drop(['date_time','number_of_rentals'],axis=1)\n",
        "y_train=train['number_of_rentals']\n",
        "X_test=test.drop(['number_of_rentals','date_time'],axis=1)\n",
        "y_test=test['number_of_rentals'].astype('int64')\n"
      ],
      "execution_count": 185,
      "outputs": []
    },
    {
      "cell_type": "markdown",
      "metadata": {
        "id": "vmDOuHBF2pVc"
      },
      "source": [
        "## 랜덤포레스트로"
      ]
    },
    {
      "cell_type": "code",
      "metadata": {
        "colab": {
          "base_uri": "https://localhost:8080/"
        },
        "id": "FFJ-unz1mPhg",
        "outputId": "73132014-3974-4782-8a31-18c000487e4b"
      },
      "source": [
        "from sklearn.ensemble import RandomForestRegressor\n",
        "from sklearn.model_selection import GridSearchCV\n",
        "\n",
        "rf_clf=RandomForestRegressor()\n",
        "\n",
        "params = {'min_samples_split': [30, 50, 70],\n",
        "        'max_depth': [3,5, 6, 7],\n",
        "        'n_estimators': [50, 150, 250,400]}\n",
        "\n",
        "grid_rf=GridSearchCV(rf_clf,param_grid=params,scoring='neg_mean_squared_error',cv=3)\n",
        "grid_rf.fit(X_train,y_train)\n",
        "print('RandomForest Regression best :',grid_rf.best_params_)\n",
        "\n"
      ],
      "execution_count": 186,
      "outputs": [
        {
          "output_type": "stream",
          "name": "stdout",
          "text": [
            "RandomForest Regression best : {'max_depth': 7, 'min_samples_split': 30, 'n_estimators': 50}\n"
          ]
        }
      ]
    },
    {
      "cell_type": "code",
      "metadata": {
        "colab": {
          "base_uri": "https://localhost:8080/"
        },
        "id": "_e9u0XAH09Zu",
        "outputId": "a870acf7-1d67-4714-c090-3ad5850cf504"
      },
      "source": [
        "rf_clf=RandomForestRegressor(max_depth=7,min_samples_split=30,n_estimators=50)\n",
        "rf_clf.fit(X_train,y_train)\n",
        "pred=rf_clf.predict(X_test)\n",
        "score=NMAE(y_test,pred)\n",
        "print(f'모델 NMAE: {score}')"
      ],
      "execution_count": 187,
      "outputs": [
        {
          "output_type": "stream",
          "name": "stdout",
          "text": [
            "모델 NMAE: 0.44878007010817056\n"
          ]
        }
      ]
    },
    {
      "cell_type": "code",
      "metadata": {
        "colab": {
          "base_uri": "https://localhost:8080/",
          "height": 394
        },
        "id": "meFrdhbjJd3W",
        "outputId": "178ef341-8912-4b8a-c56b-e57f2b17a9ad"
      },
      "source": [
        "\n",
        "ftr_importances_values=rf_clf.feature_importances_\n",
        "ftr_importances=pd.Series(ftr_importances_values,index=X_train.columns)\n",
        "ftr_top20=ftr_importances.sort_values(ascending=False)[:20]\n",
        "\n",
        "plt.figure(figsize=(8,6))\n",
        "plt.title(\"feature importances\")\n",
        "sns.barplot(x=ftr_top20,y=ftr_top20.index)\n",
        "plt.show()"
      ],
      "execution_count": 223,
      "outputs": [
        {
          "output_type": "display_data",
          "data": {
            "image/png": "[encoded data removed]",
            "text/plain": [
              "<Figure size 576x432 with 1 Axes>"
            ]
          },
          "metadata": {}
        }
      ]
    },
    {
      "cell_type": "markdown",
      "metadata": {
        "id": "GQbf3XXg3NyS"
      },
      "source": [
        "뭐지 이 거지같은 오차율은??\n",
        "\n",
        "컬럼을 더 만들어보겠다."
      ]
    },
    {
      "cell_type": "code",
      "metadata": {
        "id": "tHjz1LYvJdbA"
      },
      "source": [
        "X_train=train.drop(['date_time','number_of_rentals'],axis=1)\n",
        "y_train=train['number_of_rentals']\n",
        "X_test=test.drop(['number_of_rentals','date_time'],axis=1)\n",
        "y_test=test['number_of_rentals'].astype('int64')\n"
      ],
      "execution_count": 231,
      "outputs": []
    },
    {
      "cell_type": "code",
      "metadata": {
        "colab": {
          "base_uri": "https://localhost:8080/"
        },
        "id": "Wo4MeUptNX-d",
        "outputId": "da0b3433-2f5d-4c61-866e-d988a3db421a"
      },
      "source": [
        "np.shape(X_train)"
      ],
      "execution_count": 236,
      "outputs": [
        {
          "output_type": "execute_result",
          "data": {
            "text/plain": [
              "(273, 16)"
            ]
          },
          "metadata": {},
          "execution_count": 236
        }
      ]
    },
    {
      "cell_type": "code",
      "metadata": {
        "colab": {
          "base_uri": "https://localhost:8080/"
        },
        "id": "FKlZxLwQNdIg",
        "outputId": "94f3e318-1427-4caf-f5f5-d85da6a0c819"
      },
      "source": [
        "np.shape(y_train)"
      ],
      "execution_count": 237,
      "outputs": [
        {
          "output_type": "execute_result",
          "data": {
            "text/plain": [
              "(273,)"
            ]
          },
          "metadata": {},
          "execution_count": 237
        }
      ]
    },
    {
      "cell_type": "code",
      "metadata": {
        "colab": {
          "base_uri": "https://localhost:8080/"
        },
        "id": "hdOAgyHMNdLO",
        "outputId": "5e2bc522-1d5a-4317-8f08-ccee721ffb72"
      },
      "source": [
        "np.shape(X_test)"
      ],
      "execution_count": 238,
      "outputs": [
        {
          "output_type": "execute_result",
          "data": {
            "text/plain": [
              "(91, 16)"
            ]
          },
          "metadata": {},
          "execution_count": 238
        }
      ]
    },
    {
      "cell_type": "code",
      "metadata": {
        "colab": {
          "base_uri": "https://localhost:8080/"
        },
        "id": "9jUpAegMNj1F",
        "outputId": "6e5f400a-3853-48c6-8747-01f242d2a548"
      },
      "source": [
        "np.shape(y_test)"
      ],
      "execution_count": 239,
      "outputs": [
        {
          "output_type": "execute_result",
          "data": {
            "text/plain": [
              "(91,)"
            ]
          },
          "metadata": {},
          "execution_count": 239
        }
      ]
    },
    {
      "cell_type": "code",
      "metadata": {
        "colab": {
          "base_uri": "https://localhost:8080/"
        },
        "id": "tDGCCtnSJWza",
        "outputId": "b5016b40-b4ad-4541-840c-35b8ba89d706"
      },
      "source": [
        "from xgboost import XGBClassifier\n",
        "from sklearn.model_selection import GridSearchCV\n",
        "\n",
        "xgb_clf=XGBClassifier(n_estimators=50,learning_rate=0.1,max_depth=3)\n",
        "xgb_clf.fit(X_train,y_train)\n",
        "xgb_prd=xgb_clf.predict(X_test)\n",
        "\n",
        "score=NMAE(y_test,pred)\n",
        "print(f'모델 NMAE: {score}')"
      ],
      "execution_count": 241,
      "outputs": [
        {
          "output_type": "stream",
          "name": "stdout",
          "text": [
            "모델 NMAE: 0.49670253574389783\n"
          ]
        }
      ]
    },
    {
      "cell_type": "markdown",
      "metadata": {
        "id": "XDq0fOCiPaWh"
      },
      "source": [
        "covid 삭제후 다시 모델"
      ]
    },
    {
      "cell_type": "code",
      "metadata": {
        "id": "gzKO9NVNLI1K"
      },
      "source": [
        "X_train=train.drop(['date_time','number_of_rentals','covid'],axis=1)\n",
        "y_train=train['number_of_rentals']\n",
        "X_test=test.drop(['number_of_rentals','date_time','covid'],axis=1)\n",
        "y_test=test['number_of_rentals'].astype('int64')"
      ],
      "execution_count": 243,
      "outputs": []
    },
    {
      "cell_type": "code",
      "metadata": {
        "colab": {
          "base_uri": "https://localhost:8080/"
        },
        "id": "fdOWKeqWPgO2",
        "outputId": "25955224-19a8-4d1e-efbf-4aee01ae3329"
      },
      "source": [
        "from xgboost import XGBClassifier\n",
        "from sklearn.model_selection import GridSearchCV\n",
        "\n",
        "xgb_clf=XGBClassifier(n_estimators=50,learning_rate=0.1,max_depth=3)\n",
        "xgb_clf.fit(X_train,y_train)\n",
        "xgb_prd=xgb_clf.predict(X_test)\n",
        "\n",
        "score=NMAE(y_test,pred)\n",
        "print(f'모델 NMAE: {score}')"
      ],
      "execution_count": 244,
      "outputs": [
        {
          "output_type": "stream",
          "name": "stdout",
          "text": [
            "모델 NMAE: 0.49670253574389783\n"
          ]
        }
      ]
    },
    {
      "cell_type": "markdown",
      "metadata": {
        "id": "QN51cgsgPqA2"
      },
      "source": [
        "똑같다"
      ]
    },
    {
      "cell_type": "markdown",
      "metadata": {
        "id": "Wb6qAM7e3leZ"
      },
      "source": [
        "## 코로나 변수 추가\n"
      ]
    },
    {
      "cell_type": "code",
      "metadata": {
        "id": "MIpdBsj_wnFX"
      },
      "source": [
        "train['covid']=0\n",
        "test['covid']=0"
      ],
      "execution_count": 195,
      "outputs": []
    },
    {
      "cell_type": "code",
      "metadata": {
        "id": "fRj5qqQa34R1"
      },
      "source": [
        "# 코로나 여부 칼럼 생성 \n",
        "\n",
        "train.loc[(train['year'] == 2020), \"covid\"] = 1\n",
        "train.loc[train['year'] == 2019, \"covid\"] = 0\n",
        "train.loc[train['year'] == 2018, \"covid\"] = 0\n",
        "test.loc[(train['year'] == 2020), \"covid\"] = 1\n",
        "test.loc[train['year'] == 2019, \"covid\"] = 0\n",
        "test.loc[train['year'] == 2018, \"covid\"] = 0"
      ],
      "execution_count": 200,
      "outputs": []
    },
    {
      "cell_type": "code",
      "metadata": {
        "colab": {
          "base_uri": "https://localhost:8080/",
          "height": 324
        },
        "id": "C8b-kYQa3-DT",
        "outputId": "73707c7f-20d3-41bb-f974-0571bebdd30f"
      },
      "source": [
        "train.head()"
      ],
      "execution_count": 201,
      "outputs": [
        {
          "output_type": "execute_result",
          "data": {
            "text/html": [
              "<div>\n",
              "<style scoped>\n",
              "    .dataframe tbody tr th:only-of-type {\n",
              "        vertical-align: middle;\n",
              "    }\n",
              "\n",
              "    .dataframe tbody tr th {\n",
              "        vertical-align: top;\n",
              "    }\n",
              "\n",
              "    .dataframe thead th {\n",
              "        text-align: right;\n",
              "    }\n",
              "</style>\n",
              "<table border=\"1\" class=\"dataframe\">\n",
              "  <thead>\n",
              "    <tr style=\"text-align: right;\">\n",
              "      <th></th>\n",
              "      <th>date_time</th>\n",
              "      <th>wind_direction</th>\n",
              "      <th>sky_condition</th>\n",
              "      <th>precipitation_form</th>\n",
              "      <th>wind_speed</th>\n",
              "      <th>humidity</th>\n",
              "      <th>low_temp</th>\n",
              "      <th>high_temp</th>\n",
              "      <th>Precipitation_Probability</th>\n",
              "      <th>number_of_rentals</th>\n",
              "      <th>year</th>\n",
              "      <th>month</th>\n",
              "      <th>day</th>\n",
              "      <th>week_day</th>\n",
              "      <th>diurnal temperature</th>\n",
              "      <th>sweat_info</th>\n",
              "      <th>cold_info</th>\n",
              "      <th>covid</th>\n",
              "    </tr>\n",
              "  </thead>\n",
              "  <tbody>\n",
              "    <tr>\n",
              "      <th>0</th>\n",
              "      <td>2018-04-01</td>\n",
              "      <td>207.500</td>\n",
              "      <td>4.000</td>\n",
              "      <td>0.000</td>\n",
              "      <td>3.050</td>\n",
              "      <td>75.000</td>\n",
              "      <td>12.600</td>\n",
              "      <td>21.000</td>\n",
              "      <td>30.000</td>\n",
              "      <td>22994</td>\n",
              "      <td>2018</td>\n",
              "      <td>4</td>\n",
              "      <td>1</td>\n",
              "      <td>3</td>\n",
              "      <td>8.400</td>\n",
              "      <td>1575.000000</td>\n",
              "      <td>38.430000</td>\n",
              "      <td>0</td>\n",
              "    </tr>\n",
              "    <tr>\n",
              "      <th>1</th>\n",
              "      <td>2018-04-02</td>\n",
              "      <td>208.317</td>\n",
              "      <td>2.950</td>\n",
              "      <td>0.000</td>\n",
              "      <td>3.278</td>\n",
              "      <td>69.833</td>\n",
              "      <td>12.812</td>\n",
              "      <td>19.000</td>\n",
              "      <td>19.500</td>\n",
              "      <td>28139</td>\n",
              "      <td>2018</td>\n",
              "      <td>4</td>\n",
              "      <td>2</td>\n",
              "      <td>1</td>\n",
              "      <td>6.188</td>\n",
              "      <td>1326.827000</td>\n",
              "      <td>41.997736</td>\n",
              "      <td>0</td>\n",
              "    </tr>\n",
              "    <tr>\n",
              "      <th>2</th>\n",
              "      <td>2018-04-03</td>\n",
              "      <td>213.516</td>\n",
              "      <td>2.911</td>\n",
              "      <td>0.000</td>\n",
              "      <td>2.690</td>\n",
              "      <td>74.879</td>\n",
              "      <td>10.312</td>\n",
              "      <td>15.316</td>\n",
              "      <td>19.113</td>\n",
              "      <td>26817</td>\n",
              "      <td>2018</td>\n",
              "      <td>4</td>\n",
              "      <td>3</td>\n",
              "      <td>5</td>\n",
              "      <td>5.004</td>\n",
              "      <td>1146.846764</td>\n",
              "      <td>27.739280</td>\n",
              "      <td>0</td>\n",
              "    </tr>\n",
              "    <tr>\n",
              "      <th>3</th>\n",
              "      <td>2018-04-04</td>\n",
              "      <td>143.836</td>\n",
              "      <td>3.692</td>\n",
              "      <td>0.425</td>\n",
              "      <td>3.138</td>\n",
              "      <td>71.849</td>\n",
              "      <td>8.312</td>\n",
              "      <td>12.368</td>\n",
              "      <td>43.493</td>\n",
              "      <td>26034</td>\n",
              "      <td>2018</td>\n",
              "      <td>4</td>\n",
              "      <td>4</td>\n",
              "      <td>6</td>\n",
              "      <td>4.056</td>\n",
              "      <td>888.628432</td>\n",
              "      <td>26.083056</td>\n",
              "      <td>0</td>\n",
              "    </tr>\n",
              "    <tr>\n",
              "      <th>4</th>\n",
              "      <td>2018-04-05</td>\n",
              "      <td>95.905</td>\n",
              "      <td>4.000</td>\n",
              "      <td>0.723</td>\n",
              "      <td>3.186</td>\n",
              "      <td>73.784</td>\n",
              "      <td>5.875</td>\n",
              "      <td>10.421</td>\n",
              "      <td>63.378</td>\n",
              "      <td>2833</td>\n",
              "      <td>2018</td>\n",
              "      <td>4</td>\n",
              "      <td>5</td>\n",
              "      <td>4</td>\n",
              "      <td>4.546</td>\n",
              "      <td>768.903064</td>\n",
              "      <td>18.717750</td>\n",
              "      <td>0</td>\n",
              "    </tr>\n",
              "  </tbody>\n",
              "</table>\n",
              "</div>"
            ],
            "text/plain": [
              "    date_time  wind_direction  sky_condition  ...   sweat_info  cold_info  covid\n",
              "0  2018-04-01         207.500          4.000  ...  1575.000000  38.430000      0\n",
              "1  2018-04-02         208.317          2.950  ...  1326.827000  41.997736      0\n",
              "2  2018-04-03         213.516          2.911  ...  1146.846764  27.739280      0\n",
              "3  2018-04-04         143.836          3.692  ...   888.628432  26.083056      0\n",
              "4  2018-04-05          95.905          4.000  ...   768.903064  18.717750      0\n",
              "\n",
              "[5 rows x 18 columns]"
            ]
          },
          "metadata": {},
          "execution_count": 201
        }
      ]
    },
    {
      "cell_type": "markdown",
      "metadata": {
        "id": "7W_Hqxfh8TlN"
      },
      "source": [
        "## 풍향을 사용할 방법은 없는 걸까?\n",
        "\n",
        "바람의 방향. 바람은 방향과 크기를 가지는 벡터량이므로 일반적으로 풍향과 풍속 두 성분으로 표시된다. 이론적으로 나타낼 때는 동서성분, 남북성분, 수직성분으로 나누어 표시한다. 보통 16방위를 사용하고 더욱 자세히 풍향을 표시하려면 북쪽부터 시계방향으로 360°의 각도로 나누어 표시한다. 옛날에는 동서를 기준으로 해서 동북풍 또는 서남풍이라고 했지만 현재는 세계적인 항해의 관계 때문에 남북이 기준으로 되고 있어서 옛날의 동북풍은 북동풍, 서남풍은 남서풍이라 하며 16방위도 이와 같이 표시되어 있다.\n",
        "\n",
        "- 북동풍: 0도~90도 사이\n",
        "- 남동풍 : 90도~180도 사이\n",
        "- 남서풍 : 180도~270도 사이\n",
        "- 북서풍 : 270도~360도 사이\n",
        "\n"
      ]
    },
    {
      "cell_type": "code",
      "metadata": {
        "id": "PBWfXOydAeMP"
      },
      "source": [
        "train['wind_d']=0\n",
        "test['wind_d']=0"
      ],
      "execution_count": 211,
      "outputs": []
    },
    {
      "cell_type": "code",
      "metadata": {
        "id": "RE30BAnW4Dyu"
      },
      "source": [
        "train.loc[train['wind_direction']==0, \"wind_d\"] = '북'\n",
        "train.loc[(train['wind_direction']>0) & (train['wind_direction']<90), \"wind_d\"] = '북동'\n",
        "train.loc[train['wind_direction']==90, \"wind_d\"] = '동'\n",
        "train.loc[(train['wind_direction']>90) & (train['wind_direction']<180), \"wind_d\"] = '남동'\n",
        "train.loc[train['wind_direction']==180, \"wind_d\"] = '남'\n",
        "train.loc[(train['wind_direction']>180) & (train['wind_direction']<270), \"wind_d\"] = '남서'\n",
        "train.loc[train['wind_direction']==270, \"wind_d\"] = '서'\n",
        "train.loc[(train['wind_direction']>270) & (train['wind_direction']<360), \"wind_d\"] = '북서'\n",
        "\n",
        "test.loc[test['wind_direction']==0, \"wind_d\"] = '북'\n",
        "test.loc[(test['wind_direction']>0) & (test['wind_direction']<90), \"wind_d\"] = '북동'\n",
        "test.loc[test['wind_direction']==90, \"wind_d\"] = '동'\n",
        "test.loc[(test['wind_direction']>90) & (test['wind_direction']<180), \"wind_d\"] = '남동'\n",
        "test.loc[test['wind_direction']==180, \"wind_d\"] = '남'\n",
        "test.loc[(test['wind_direction']>180) & (test['wind_direction']<270), \"wind_d\"] = '남서'\n",
        "test.loc[test['wind_direction']==270, \"wind_d\"] = '서'\n",
        "test.loc[(test['wind_direction']>270) & (test['wind_direction']<360), \"wind_d\"] = '북서'"
      ],
      "execution_count": 212,
      "outputs": []
    },
    {
      "cell_type": "code",
      "metadata": {
        "id": "wNGmnJsoCMQy"
      },
      "source": [
        "from sklearn.preprocessing import LabelEncoder\n",
        "\n",
        "\n",
        "le = LabelEncoder()\n",
        "train['wind_d']=le.fit_transform(train['wind_d'])\n",
        "test['wind_d']=le.fit_transform(test['wind_d'])\n",
        "\n"
      ],
      "execution_count": 213,
      "outputs": []
    },
    {
      "cell_type": "code",
      "metadata": {
        "id": "smR3h2LGGMeQ"
      },
      "source": [
        "X_train=train.drop(['date_time','number_of_rentals'],axis=1)\n",
        "y_train=train['number_of_rentals']\n",
        "X_test=test.drop(['number_of_rentals','date_time'],axis=1)\n",
        "y_test=test['number_of_rentals'].astype('int64')\n"
      ],
      "execution_count": 215,
      "outputs": []
    },
    {
      "cell_type": "code",
      "metadata": {
        "colab": {
          "base_uri": "https://localhost:8080/"
        },
        "id": "_6YZP-IjHgjp",
        "outputId": "6dc2586f-3d1d-4627-96f1-8755537ebe35"
      },
      "source": [
        "from sklearn.ensemble import RandomForestRegressor\n",
        "from sklearn.model_selection import GridSearchCV\n",
        "\n",
        "rf_clf=RandomForestRegressor()\n",
        "\n",
        "params = {'min_samples_split': [30, 50, 70],\n",
        "        'max_depth': [3,5, 6, 7],\n",
        "        'n_estimators': [50, 150, 250,400]}\n",
        "\n",
        "grid_rf=GridSearchCV(rf_clf,param_grid=params,scoring='neg_mean_squared_error',cv=3)\n",
        "grid_rf.fit(X_train,y_train)\n",
        "print('RandomForest Regression best :',grid_rf.best_params_)\n"
      ],
      "execution_count": 216,
      "outputs": [
        {
          "output_type": "stream",
          "name": "stdout",
          "text": [
            "RandomForest Regression best : {'max_depth': 6, 'min_samples_split': 30, 'n_estimators': 50}\n"
          ]
        }
      ]
    },
    {
      "cell_type": "code",
      "metadata": {
        "colab": {
          "base_uri": "https://localhost:8080/"
        },
        "id": "nuPD34OiHkRk",
        "outputId": "ac59510c-71cc-4152-c856-ed22d09bd1d4"
      },
      "source": [
        "rf_clf=RandomForestRegressor(max_depth=6,min_samples_split=30,n_estimators=50)\n",
        "rf_clf.fit(X_train,y_train)\n",
        "pred=rf_clf.predict(X_test)\n",
        "score=NMAE(y_test,pred)\n",
        "print(f'모델 NMAE: {score}')"
      ],
      "execution_count": 217,
      "outputs": [
        {
          "output_type": "stream",
          "name": "stdout",
          "text": [
            "모델 NMAE: 0.5028771869052814\n"
          ]
        }
      ]
    },
    {
      "cell_type": "markdown",
      "metadata": {
        "id": "Hf085783JF1m"
      },
      "source": [
        "풍향 레이블을 추가했을 시 결과가 너무 좋지 않게 나왔다. 더욱 악화되었음"
      ]
    },
    {
      "cell_type": "code",
      "metadata": {
        "id": "K_nqrCVFH65G"
      },
      "source": [
        "X_train=train.drop(['date_time','number_of_rentals','wind_d'],axis=1)\n",
        "y_train=train['number_of_rentals']\n",
        "X_test=test.drop(['number_of_rentals','date_time','wind_d'],axis=1)\n",
        "y_test=test['number_of_rentals'].astype('int64')\n"
      ],
      "execution_count": 219,
      "outputs": []
    },
    {
      "cell_type": "code",
      "metadata": {
        "colab": {
          "base_uri": "https://localhost:8080/"
        },
        "id": "k85Y3U3-Idws",
        "outputId": "589496f6-cef3-4957-81e2-11457d34a5f0"
      },
      "source": [
        "from sklearn.ensemble import RandomForestRegressor\n",
        "from sklearn.model_selection import GridSearchCV\n",
        "\n",
        "rf_clf=RandomForestRegressor()\n",
        "\n",
        "params = {'min_samples_split': [30, 50, 70],\n",
        "        'max_depth': [3,5, 6, 7],\n",
        "        'n_estimators': [50, 150, 250,400]}\n",
        "\n",
        "grid_rf=GridSearchCV(rf_clf,param_grid=params,scoring='neg_mean_squared_error',cv=3)\n",
        "grid_rf.fit(X_train,y_train)\n",
        "print('RandomForest Regression best :',grid_rf.best_params_)"
      ],
      "execution_count": 220,
      "outputs": [
        {
          "output_type": "stream",
          "name": "stdout",
          "text": [
            "RandomForest Regression best : {'max_depth': 5, 'min_samples_split': 30, 'n_estimators': 50}\n"
          ]
        }
      ]
    },
    {
      "cell_type": "code",
      "metadata": {
        "colab": {
          "base_uri": "https://localhost:8080/"
        },
        "id": "1ikRTIXVItBo",
        "outputId": "c6bb577e-1e36-482d-b04d-cdd354c166c0"
      },
      "source": [
        "rf_clf=RandomForestRegressor(max_depth=5,min_samples_split=30,n_estimators=50)\n",
        "rf_clf.fit(X_train,y_train)\n",
        "pred=rf_clf.predict(X_test)\n",
        "score=NMAE(y_test,pred)\n",
        "print(f'모델 NMAE: {score}')"
      ],
      "execution_count": 221,
      "outputs": [
        {
          "output_type": "stream",
          "name": "stdout",
          "text": [
            "모델 NMAE: 0.49670253574389783\n"
          ]
        }
      ]
    },
    {
      "cell_type": "code",
      "metadata": {
        "id": "ntNnwDDbJAlt"
      },
      "source": [
        "train.drop('wind_d',axis=1,inplace=True)\n",
        "test.drop('wind_d',axis=1,inplace=True)"
      ],
      "execution_count": 225,
      "outputs": []
    },
    {
      "cell_type": "code",
      "metadata": {
        "colab": {
          "base_uri": "https://localhost:8080/"
        },
        "id": "tTL0F-F5JMbO",
        "outputId": "693c37c0-15b0-48b2-b563-017c3612ee69"
      },
      "source": [
        "train.info()"
      ],
      "execution_count": 233,
      "outputs": [
        {
          "output_type": "stream",
          "name": "stdout",
          "text": [
            "<class 'pandas.core.frame.DataFrame'>\n",
            "RangeIndex: 273 entries, 0 to 272\n",
            "Data columns (total 18 columns):\n",
            " #   Column                     Non-Null Count  Dtype  \n",
            "---  ------                     --------------  -----  \n",
            " 0   date_time                  273 non-null    object \n",
            " 1   wind_direction             273 non-null    float64\n",
            " 2   sky_condition              273 non-null    float64\n",
            " 3   precipitation_form         273 non-null    float64\n",
            " 4   wind_speed                 273 non-null    float64\n",
            " 5   humidity                   273 non-null    float64\n",
            " 6   low_temp                   273 non-null    float64\n",
            " 7   high_temp                  273 non-null    float64\n",
            " 8   Precipitation_Probability  273 non-null    float64\n",
            " 9   number_of_rentals          273 non-null    int64  \n",
            " 10  year                       273 non-null    int64  \n",
            " 11  month                      273 non-null    int64  \n",
            " 12  day                        273 non-null    int64  \n",
            " 13  week_day                   273 non-null    int64  \n",
            " 14  diurnal temperature        273 non-null    float64\n",
            " 15  sweat_info                 273 non-null    float64\n",
            " 16  cold_info                  273 non-null    float64\n",
            " 17  covid                      273 non-null    int64  \n",
            "dtypes: float64(11), int64(6), object(1)\n",
            "memory usage: 38.5+ KB\n"
          ]
        }
      ]
    },
    {
      "cell_type": "code",
      "metadata": {
        "colab": {
          "base_uri": "https://localhost:8080/"
        },
        "id": "O-jzhPUWM62h",
        "outputId": "0ee1c484-238d-4e71-ef79-b739ef81d553"
      },
      "source": [
        "test.info()"
      ],
      "execution_count": 234,
      "outputs": [
        {
          "output_type": "stream",
          "name": "stdout",
          "text": [
            "<class 'pandas.core.frame.DataFrame'>\n",
            "RangeIndex: 91 entries, 0 to 90\n",
            "Data columns (total 18 columns):\n",
            " #   Column                     Non-Null Count  Dtype  \n",
            "---  ------                     --------------  -----  \n",
            " 0   date_time                  91 non-null     object \n",
            " 1   wind_direction             91 non-null     float64\n",
            " 2   sky_condition              91 non-null     float64\n",
            " 3   precipitation_form         91 non-null     float64\n",
            " 4   wind_speed                 91 non-null     float64\n",
            " 5   humidity                   91 non-null     float64\n",
            " 6   low_temp                   91 non-null     float64\n",
            " 7   high_temp                  91 non-null     float64\n",
            " 8   Precipitation_Probability  91 non-null     float64\n",
            " 9   year                       91 non-null     int64  \n",
            " 10  month                      91 non-null     int64  \n",
            " 11  day                        91 non-null     int64  \n",
            " 12  week_day                   91 non-null     int64  \n",
            " 13  diurnal temperature        91 non-null     float64\n",
            " 14  sweat_info                 91 non-null     float64\n",
            " 15  cold_info                  91 non-null     float64\n",
            " 16  number_of_rentals          91 non-null     int64  \n",
            " 17  covid                      91 non-null     int64  \n",
            "dtypes: float64(11), int64(6), object(1)\n",
            "memory usage: 12.9+ KB\n"
          ]
        }
      ]
    },
    {
      "cell_type": "code",
      "metadata": {
        "colab": {
          "base_uri": "https://localhost:8080/",
          "height": 622
        },
        "id": "6bGQZS49NJ3F",
        "outputId": "ab32deb8-6112-4478-ac65-2189eb9c53f5"
      },
      "source": [
        "train"
      ],
      "execution_count": 242,
      "outputs": [
        {
          "output_type": "execute_result",
          "data": {
            "text/html": [
              "<div>\n",
              "<style scoped>\n",
              "    .dataframe tbody tr th:only-of-type {\n",
              "        vertical-align: middle;\n",
              "    }\n",
              "\n",
              "    .dataframe tbody tr th {\n",
              "        vertical-align: top;\n",
              "    }\n",
              "\n",
              "    .dataframe thead th {\n",
              "        text-align: right;\n",
              "    }\n",
              "</style>\n",
              "<table border=\"1\" class=\"dataframe\">\n",
              "  <thead>\n",
              "    <tr style=\"text-align: right;\">\n",
              "      <th></th>\n",
              "      <th>date_time</th>\n",
              "      <th>wind_direction</th>\n",
              "      <th>sky_condition</th>\n",
              "      <th>precipitation_form</th>\n",
              "      <th>wind_speed</th>\n",
              "      <th>humidity</th>\n",
              "      <th>low_temp</th>\n",
              "      <th>high_temp</th>\n",
              "      <th>Precipitation_Probability</th>\n",
              "      <th>number_of_rentals</th>\n",
              "      <th>year</th>\n",
              "      <th>month</th>\n",
              "      <th>day</th>\n",
              "      <th>week_day</th>\n",
              "      <th>diurnal temperature</th>\n",
              "      <th>sweat_info</th>\n",
              "      <th>cold_info</th>\n",
              "      <th>covid</th>\n",
              "    </tr>\n",
              "  </thead>\n",
              "  <tbody>\n",
              "    <tr>\n",
              "      <th>0</th>\n",
              "      <td>2018-04-01</td>\n",
              "      <td>207.500</td>\n",
              "      <td>4.000</td>\n",
              "      <td>0.000</td>\n",
              "      <td>3.050</td>\n",
              "      <td>75.000</td>\n",
              "      <td>12.600</td>\n",
              "      <td>21.000</td>\n",
              "      <td>30.000</td>\n",
              "      <td>22994</td>\n",
              "      <td>2018</td>\n",
              "      <td>4</td>\n",
              "      <td>1</td>\n",
              "      <td>3</td>\n",
              "      <td>8.400</td>\n",
              "      <td>1575.000000</td>\n",
              "      <td>38.430000</td>\n",
              "      <td>0</td>\n",
              "    </tr>\n",
              "    <tr>\n",
              "      <th>1</th>\n",
              "      <td>2018-04-02</td>\n",
              "      <td>208.317</td>\n",
              "      <td>2.950</td>\n",
              "      <td>0.000</td>\n",
              "      <td>3.278</td>\n",
              "      <td>69.833</td>\n",
              "      <td>12.812</td>\n",
              "      <td>19.000</td>\n",
              "      <td>19.500</td>\n",
              "      <td>28139</td>\n",
              "      <td>2018</td>\n",
              "      <td>4</td>\n",
              "      <td>2</td>\n",
              "      <td>1</td>\n",
              "      <td>6.188</td>\n",
              "      <td>1326.827000</td>\n",
              "      <td>41.997736</td>\n",
              "      <td>0</td>\n",
              "    </tr>\n",
              "    <tr>\n",
              "      <th>2</th>\n",
              "      <td>2018-04-03</td>\n",
              "      <td>213.516</td>\n",
              "      <td>2.911</td>\n",
              "      <td>0.000</td>\n",
              "      <td>2.690</td>\n",
              "      <td>74.879</td>\n",
              "      <td>10.312</td>\n",
              "      <td>15.316</td>\n",
              "      <td>19.113</td>\n",
              "      <td>26817</td>\n",
              "      <td>2018</td>\n",
              "      <td>4</td>\n",
              "      <td>3</td>\n",
              "      <td>5</td>\n",
              "      <td>5.004</td>\n",
              "      <td>1146.846764</td>\n",
              "      <td>27.739280</td>\n",
              "      <td>0</td>\n",
              "    </tr>\n",
              "    <tr>\n",
              "      <th>3</th>\n",
              "      <td>2018-04-04</td>\n",
              "      <td>143.836</td>\n",
              "      <td>3.692</td>\n",
              "      <td>0.425</td>\n",
              "      <td>3.138</td>\n",
              "      <td>71.849</td>\n",
              "      <td>8.312</td>\n",
              "      <td>12.368</td>\n",
              "      <td>43.493</td>\n",
              "      <td>26034</td>\n",
              "      <td>2018</td>\n",
              "      <td>4</td>\n",
              "      <td>4</td>\n",
              "      <td>6</td>\n",
              "      <td>4.056</td>\n",
              "      <td>888.628432</td>\n",
              "      <td>26.083056</td>\n",
              "      <td>0</td>\n",
              "    </tr>\n",
              "    <tr>\n",
              "      <th>4</th>\n",
              "      <td>2018-04-05</td>\n",
              "      <td>95.905</td>\n",
              "      <td>4.000</td>\n",
              "      <td>0.723</td>\n",
              "      <td>3.186</td>\n",
              "      <td>73.784</td>\n",
              "      <td>5.875</td>\n",
              "      <td>10.421</td>\n",
              "      <td>63.378</td>\n",
              "      <td>2833</td>\n",
              "      <td>2018</td>\n",
              "      <td>4</td>\n",
              "      <td>5</td>\n",
              "      <td>4</td>\n",
              "      <td>4.546</td>\n",
              "      <td>768.903064</td>\n",
              "      <td>18.717750</td>\n",
              "      <td>0</td>\n",
              "    </tr>\n",
              "    <tr>\n",
              "      <th>...</th>\n",
              "      <td>...</td>\n",
              "      <td>...</td>\n",
              "      <td>...</td>\n",
              "      <td>...</td>\n",
              "      <td>...</td>\n",
              "      <td>...</td>\n",
              "      <td>...</td>\n",
              "      <td>...</td>\n",
              "      <td>...</td>\n",
              "      <td>...</td>\n",
              "      <td>...</td>\n",
              "      <td>...</td>\n",
              "      <td>...</td>\n",
              "      <td>...</td>\n",
              "      <td>...</td>\n",
              "      <td>...</td>\n",
              "      <td>...</td>\n",
              "      <td>...</td>\n",
              "    </tr>\n",
              "    <tr>\n",
              "      <th>268</th>\n",
              "      <td>2020-06-26</td>\n",
              "      <td>228.662</td>\n",
              "      <td>3.980</td>\n",
              "      <td>0.223</td>\n",
              "      <td>2.271</td>\n",
              "      <td>78.378</td>\n",
              "      <td>20.500</td>\n",
              "      <td>27.526</td>\n",
              "      <td>36.486</td>\n",
              "      <td>96150</td>\n",
              "      <td>2020</td>\n",
              "      <td>6</td>\n",
              "      <td>26</td>\n",
              "      <td>0</td>\n",
              "      <td>7.026</td>\n",
              "      <td>2157.432828</td>\n",
              "      <td>46.555500</td>\n",
              "      <td>1</td>\n",
              "    </tr>\n",
              "    <tr>\n",
              "      <th>269</th>\n",
              "      <td>2020-06-27</td>\n",
              "      <td>207.770</td>\n",
              "      <td>2.865</td>\n",
              "      <td>0.081</td>\n",
              "      <td>1.794</td>\n",
              "      <td>78.412</td>\n",
              "      <td>20.812</td>\n",
              "      <td>28.842</td>\n",
              "      <td>21.081</td>\n",
              "      <td>107001</td>\n",
              "      <td>2020</td>\n",
              "      <td>6</td>\n",
              "      <td>27</td>\n",
              "      <td>2</td>\n",
              "      <td>8.030</td>\n",
              "      <td>2261.558904</td>\n",
              "      <td>37.336728</td>\n",
              "      <td>1</td>\n",
              "    </tr>\n",
              "    <tr>\n",
              "      <th>270</th>\n",
              "      <td>2020-06-28</td>\n",
              "      <td>282.568</td>\n",
              "      <td>1.730</td>\n",
              "      <td>0.000</td>\n",
              "      <td>1.820</td>\n",
              "      <td>72.736</td>\n",
              "      <td>21.000</td>\n",
              "      <td>29.053</td>\n",
              "      <td>7.297</td>\n",
              "      <td>98568</td>\n",
              "      <td>2020</td>\n",
              "      <td>6</td>\n",
              "      <td>28</td>\n",
              "      <td>3</td>\n",
              "      <td>8.053</td>\n",
              "      <td>2113.199008</td>\n",
              "      <td>38.220000</td>\n",
              "      <td>1</td>\n",
              "    </tr>\n",
              "    <tr>\n",
              "      <th>271</th>\n",
              "      <td>2020-06-29</td>\n",
              "      <td>137.027</td>\n",
              "      <td>2.257</td>\n",
              "      <td>0.088</td>\n",
              "      <td>2.043</td>\n",
              "      <td>70.473</td>\n",
              "      <td>19.625</td>\n",
              "      <td>26.000</td>\n",
              "      <td>15.541</td>\n",
              "      <td>70053</td>\n",
              "      <td>2020</td>\n",
              "      <td>6</td>\n",
              "      <td>29</td>\n",
              "      <td>1</td>\n",
              "      <td>6.375</td>\n",
              "      <td>1832.298000</td>\n",
              "      <td>40.093875</td>\n",
              "      <td>1</td>\n",
              "    </tr>\n",
              "    <tr>\n",
              "      <th>272</th>\n",
              "      <td>2020-06-30</td>\n",
              "      <td>120.797</td>\n",
              "      <td>3.622</td>\n",
              "      <td>0.432</td>\n",
              "      <td>5.574</td>\n",
              "      <td>77.061</td>\n",
              "      <td>19.125</td>\n",
              "      <td>26.053</td>\n",
              "      <td>41.284</td>\n",
              "      <td>38086</td>\n",
              "      <td>2020</td>\n",
              "      <td>6</td>\n",
              "      <td>30</td>\n",
              "      <td>5</td>\n",
              "      <td>6.928</td>\n",
              "      <td>2007.670233</td>\n",
              "      <td>106.602750</td>\n",
              "      <td>1</td>\n",
              "    </tr>\n",
              "  </tbody>\n",
              "</table>\n",
              "<p>273 rows × 18 columns</p>\n",
              "</div>"
            ],
            "text/plain": [
              "      date_time  wind_direction  sky_condition  ...   sweat_info   cold_info  covid\n",
              "0    2018-04-01         207.500          4.000  ...  1575.000000   38.430000      0\n",
              "1    2018-04-02         208.317          2.950  ...  1326.827000   41.997736      0\n",
              "2    2018-04-03         213.516          2.911  ...  1146.846764   27.739280      0\n",
              "3    2018-04-04         143.836          3.692  ...   888.628432   26.083056      0\n",
              "4    2018-04-05          95.905          4.000  ...   768.903064   18.717750      0\n",
              "..          ...             ...            ...  ...          ...         ...    ...\n",
              "268  2020-06-26         228.662          3.980  ...  2157.432828   46.555500      1\n",
              "269  2020-06-27         207.770          2.865  ...  2261.558904   37.336728      1\n",
              "270  2020-06-28         282.568          1.730  ...  2113.199008   38.220000      1\n",
              "271  2020-06-29         137.027          2.257  ...  1832.298000   40.093875      1\n",
              "272  2020-06-30         120.797          3.622  ...  2007.670233  106.602750      1\n",
              "\n",
              "[273 rows x 18 columns]"
            ]
          },
          "metadata": {},
          "execution_count": 242
        }
      ]
    },
    {
      "cell_type": "code",
      "metadata": {
        "id": "ni-60jfNUdoD"
      },
      "source": [
        "X_train=train.drop(['date_time','number_of_rentals'],axis=1)\n",
        "y_train=train['number_of_rentals']\n",
        "X_test=test.drop(['number_of_rentals','date_time'],axis=1)\n",
        "y_test=test['number_of_rentals'].astype('int64')\n"
      ],
      "execution_count": 253,
      "outputs": []
    },
    {
      "cell_type": "code",
      "metadata": {
        "id": "3dT58_jrVbVz"
      },
      "source": [
        ""
      ],
      "execution_count": null,
      "outputs": []
    }
  ]
}