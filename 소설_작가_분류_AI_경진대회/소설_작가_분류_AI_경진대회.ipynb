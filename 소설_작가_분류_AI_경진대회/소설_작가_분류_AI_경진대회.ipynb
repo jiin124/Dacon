{
  "nbformat": 4,
  "nbformat_minor": 0,
  "metadata": {
    "colab": {
      "name": "소설 작가 분류 AI 경진대회.ipynb",
      "provenance": [],
      "mount_file_id": "1VGJkETP5vjQGi33rsn8KtMm6TSoCWVCY",
      "authorship_tag": "ABX9TyOKedt+AXek1wDiiI7PVBtC",
      "include_colab_link": true
    },
    "kernelspec": {
      "name": "python3",
      "display_name": "Python 3"
    },
    "language_info": {
      "name": "python"
    }
  },
  "cells": [
    {
      "cell_type": "markdown",
      "metadata": {
        "id": "view-in-github",
        "colab_type": "text"
      },
      "source": [
        "<a href=\"https://colab.research.google.com/github/jiin124/Dacon/blob/main/%EC%86%8C%EC%84%A4_%EC%9E%91%EA%B0%80_%EB%B6%84%EB%A5%98_AI_%EA%B2%BD%EC%A7%84%EB%8C%80%ED%9A%8C/%EC%86%8C%EC%84%A4_%EC%9E%91%EA%B0%80_%EB%B6%84%EB%A5%98_AI_%EA%B2%BD%EC%A7%84%EB%8C%80%ED%9A%8C.ipynb\" target=\"_parent\"><img src=\"https://colab.research.google.com/assets/colab-badge.svg\" alt=\"Open In Colab\"/></a>"
      ]
    },
    {
      "cell_type": "code",
      "execution_count": null,
      "metadata": {
        "id": "CphyW-4tHZfs"
      },
      "outputs": [],
      "source": [
        "import pandas as pd\n",
        "import warnings \n",
        "warnings.filterwarnings(action='ignore')\n",
        "import numpy as np\n",
        "import tensorflow as tf\n",
        "from tensorflow.keras.preprocessing.sequence import pad_sequences\n",
        "from tensorflow.keras.preprocessing.text import Tokenizer\n",
        "import re"
      ]
    },
    {
      "cell_type": "code",
      "source": [
        "import os\n",
        "os.chdir('/content/drive/MyDrive/소설작가/')"
      ],
      "metadata": {
        "id": "rtzjFW-UVXtK"
      },
      "execution_count": null,
      "outputs": []
    },
    {
      "cell_type": "code",
      "source": [
        "train=pd.read_csv('/content/drive/MyDrive/소설작가/train.csv',encoding='utf-8')\n",
        "test=pd.read_csv('/content/drive/MyDrive/소설작가/test_x.csv',encoding='utf-8')\n",
        "sample=pd.read_csv('/content/drive/MyDrive/소설작가/sample_submission.csv',encoding='utf-8')"
      ],
      "metadata": {
        "id": "4OJNxsemXXux"
      },
      "execution_count": null,
      "outputs": []
    },
    {
      "cell_type": "code",
      "source": [
        "train.head()"
      ],
      "metadata": {
        "colab": {
          "base_uri": "https://localhost:8080/",
          "height": 206
        },
        "id": "ex4WbqRYYzDD",
        "outputId": "443b8665-880f-4116-adc8-1145e8db061e"
      },
      "execution_count": null,
      "outputs": [
        {
          "output_type": "execute_result",
          "data": {
            "text/html": [
              "\n",
              "  <div id=\"df-1a7a84f5-6e16-4a74-a380-10ea751bbd8e\">\n",
              "    <div class=\"colab-df-container\">\n",
              "      <div>\n",
              "<style scoped>\n",
              "    .dataframe tbody tr th:only-of-type {\n",
              "        vertical-align: middle;\n",
              "    }\n",
              "\n",
              "    .dataframe tbody tr th {\n",
              "        vertical-align: top;\n",
              "    }\n",
              "\n",
              "    .dataframe thead th {\n",
              "        text-align: right;\n",
              "    }\n",
              "</style>\n",
              "<table border=\"1\" class=\"dataframe\">\n",
              "  <thead>\n",
              "    <tr style=\"text-align: right;\">\n",
              "      <th></th>\n",
              "      <th>text</th>\n",
              "      <th>author</th>\n",
              "    </tr>\n",
              "  </thead>\n",
              "  <tbody>\n",
              "    <tr>\n",
              "      <th>0</th>\n",
              "      <td>almost choking much much wanted say strange ex...</td>\n",
              "      <td>3</td>\n",
              "    </tr>\n",
              "    <tr>\n",
              "      <th>1</th>\n",
              "      <td>sister asked suppose</td>\n",
              "      <td>2</td>\n",
              "    </tr>\n",
              "    <tr>\n",
              "      <th>2</th>\n",
              "      <td>engaged one day walked perusing janes last let...</td>\n",
              "      <td>1</td>\n",
              "    </tr>\n",
              "    <tr>\n",
              "      <th>3</th>\n",
              "      <td>captain porch keeping carefully way treacherou...</td>\n",
              "      <td>4</td>\n",
              "    </tr>\n",
              "    <tr>\n",
              "      <th>4</th>\n",
              "      <td>mercy gentlemen odin flung hands dont write an...</td>\n",
              "      <td>3</td>\n",
              "    </tr>\n",
              "  </tbody>\n",
              "</table>\n",
              "</div>\n",
              "      <button class=\"colab-df-convert\" onclick=\"convertToInteractive('df-1a7a84f5-6e16-4a74-a380-10ea751bbd8e')\"\n",
              "              title=\"Convert this dataframe to an interactive table.\"\n",
              "              style=\"display:none;\">\n",
              "        \n",
              "  <svg xmlns=\"http://www.w3.org/2000/svg\" height=\"24px\"viewBox=\"0 0 24 24\"\n",
              "       width=\"24px\">\n",
              "    <path d=\"M0 0h24v24H0V0z\" fill=\"none\"/>\n",
              "    <path d=\"M18.56 5.44l.94 2.06.94-2.06 2.06-.94-2.06-.94-.94-2.06-.94 2.06-2.06.94zm-11 1L8.5 8.5l.94-2.06 2.06-.94-2.06-.94L8.5 2.5l-.94 2.06-2.06.94zm10 10l.94 2.06.94-2.06 2.06-.94-2.06-.94-.94-2.06-.94 2.06-2.06.94z\"/><path d=\"M17.41 7.96l-1.37-1.37c-.4-.4-.92-.59-1.43-.59-.52 0-1.04.2-1.43.59L10.3 9.45l-7.72 7.72c-.78.78-.78 2.05 0 2.83L4 21.41c.39.39.9.59 1.41.59.51 0 1.02-.2 1.41-.59l7.78-7.78 2.81-2.81c.8-.78.8-2.07 0-2.86zM5.41 20L4 18.59l7.72-7.72 1.47 1.35L5.41 20z\"/>\n",
              "  </svg>\n",
              "      </button>\n",
              "      \n",
              "  <style>\n",
              "    .colab-df-container {\n",
              "      display:flex;\n",
              "      flex-wrap:wrap;\n",
              "      gap: 12px;\n",
              "    }\n",
              "\n",
              "    .colab-df-convert {\n",
              "      background-color: #E8F0FE;\n",
              "      border: none;\n",
              "      border-radius: 50%;\n",
              "      cursor: pointer;\n",
              "      display: none;\n",
              "      fill: #1967D2;\n",
              "      height: 32px;\n",
              "      padding: 0 0 0 0;\n",
              "      width: 32px;\n",
              "    }\n",
              "\n",
              "    .colab-df-convert:hover {\n",
              "      background-color: #E2EBFA;\n",
              "      box-shadow: 0px 1px 2px rgba(60, 64, 67, 0.3), 0px 1px 3px 1px rgba(60, 64, 67, 0.15);\n",
              "      fill: #174EA6;\n",
              "    }\n",
              "\n",
              "    [theme=dark] .colab-df-convert {\n",
              "      background-color: #3B4455;\n",
              "      fill: #D2E3FC;\n",
              "    }\n",
              "\n",
              "    [theme=dark] .colab-df-convert:hover {\n",
              "      background-color: #434B5C;\n",
              "      box-shadow: 0px 1px 3px 1px rgba(0, 0, 0, 0.15);\n",
              "      filter: drop-shadow(0px 1px 2px rgba(0, 0, 0, 0.3));\n",
              "      fill: #FFFFFF;\n",
              "    }\n",
              "  </style>\n",
              "\n",
              "      <script>\n",
              "        const buttonEl =\n",
              "          document.querySelector('#df-1a7a84f5-6e16-4a74-a380-10ea751bbd8e button.colab-df-convert');\n",
              "        buttonEl.style.display =\n",
              "          google.colab.kernel.accessAllowed ? 'block' : 'none';\n",
              "\n",
              "        async function convertToInteractive(key) {\n",
              "          const element = document.querySelector('#df-1a7a84f5-6e16-4a74-a380-10ea751bbd8e');\n",
              "          const dataTable =\n",
              "            await google.colab.kernel.invokeFunction('convertToInteractive',\n",
              "                                                     [key], {});\n",
              "          if (!dataTable) return;\n",
              "\n",
              "          const docLinkHtml = 'Like what you see? Visit the ' +\n",
              "            '<a target=\"_blank\" href=https://colab.research.google.com/notebooks/data_table.ipynb>data table notebook</a>'\n",
              "            + ' to learn more about interactive tables.';\n",
              "          element.innerHTML = '';\n",
              "          dataTable['output_type'] = 'display_data';\n",
              "          await google.colab.output.renderOutput(dataTable, element);\n",
              "          const docLink = document.createElement('div');\n",
              "          docLink.innerHTML = docLinkHtml;\n",
              "          element.appendChild(docLink);\n",
              "        }\n",
              "      </script>\n",
              "    </div>\n",
              "  </div>\n",
              "  "
            ],
            "text/plain": [
              "                                                text  author\n",
              "0  almost choking much much wanted say strange ex...       3\n",
              "1                               sister asked suppose       2\n",
              "2  engaged one day walked perusing janes last let...       1\n",
              "3  captain porch keeping carefully way treacherou...       4\n",
              "4  mercy gentlemen odin flung hands dont write an...       3"
            ]
          },
          "metadata": {},
          "execution_count": 88
        }
      ]
    },
    {
      "cell_type": "code",
      "source": [
        "train.info()"
      ],
      "metadata": {
        "colab": {
          "base_uri": "https://localhost:8080/"
        },
        "id": "O6wqRSL4Y2Ig",
        "outputId": "e16ebade-c147-435e-c9c6-36c64d552b2f"
      },
      "execution_count": null,
      "outputs": [
        {
          "output_type": "stream",
          "name": "stdout",
          "text": [
            "<class 'pandas.core.frame.DataFrame'>\n",
            "RangeIndex: 54879 entries, 0 to 54878\n",
            "Data columns (total 3 columns):\n",
            " #   Column  Non-Null Count  Dtype \n",
            "---  ------  --------------  ----- \n",
            " 0   index   54879 non-null  int64 \n",
            " 1   text    54879 non-null  object\n",
            " 2   author  54879 non-null  int64 \n",
            "dtypes: int64(2), object(1)\n",
            "memory usage: 1.3+ MB\n"
          ]
        }
      ]
    },
    {
      "cell_type": "code",
      "source": [
        "train['author'].value_counts()"
      ],
      "metadata": {
        "colab": {
          "base_uri": "https://localhost:8080/"
        },
        "id": "ztU01eyzY4X2",
        "outputId": "5b88b280-a6b4-4205-9251-717287732138"
      },
      "execution_count": null,
      "outputs": [
        {
          "output_type": "execute_result",
          "data": {
            "text/plain": [
              "3    15063\n",
              "0    13235\n",
              "2    11554\n",
              "4     7805\n",
              "1     7222\n",
              "Name: author, dtype: int64"
            ]
          },
          "metadata": {},
          "execution_count": 19
        }
      ]
    },
    {
      "cell_type": "code",
      "source": [
        "import matplotlib.pyplot as plt\n",
        "import seaborn as sns\n",
        "\n",
        "plt.figure(figsize=(5,5))\n",
        "plt.pie(train['author'].value_counts(),\n",
        "       labels=train['author'].value_counts().index,\n",
        "       autopct='%d%%',\n",
        "        colors=sns.color_palette('hls',len(train['author'].value_counts().index)),\n",
        "       textprops={'fontsize':12})\n",
        "plt.axis('equal')\n",
        "plt.title(\"author\", fontsize=16, pad=50)\n",
        "plt.show()"
      ],
      "metadata": {
        "colab": {
          "base_uri": "https://localhost:8080/",
          "height": 367
        },
        "id": "RbLn4iTV1XVV",
        "outputId": "b1b92e72-a98d-4e0e-c26c-94ed31917f66"
      },
      "execution_count": null,
      "outputs": [
        {
          "output_type": "display_data",
          "data": {
            "image/png": "[encoded data removed]",
            "text/plain": [
              "<Figure size 360x360 with 1 Axes>"
            ]
          },
          "metadata": {}
        }
      ]
    },
    {
      "cell_type": "markdown",
      "source": [
        "## 전처리"
      ],
      "metadata": {
        "id": "f1fO3n9PY-_X"
      }
    },
    {
      "cell_type": "code",
      "source": [
        "#부호를 제거해주는 함수\n",
        "def alpha_num(text):\n",
        "    return re.sub(r'[^A-Za-z0-9 ]', '', text)\n",
        "\n",
        "train['text']=train['text'].apply(alpha_num)"
      ],
      "metadata": {
        "id": "TOGsunGIY7sX"
      },
      "execution_count": null,
      "outputs": []
    },
    {
      "cell_type": "code",
      "source": [
        "train"
      ],
      "metadata": {
        "colab": {
          "base_uri": "https://localhost:8080/",
          "height": 423
        },
        "id": "897T5pLufJfX",
        "outputId": "c692e2cc-0e64-46cd-9f07-84b62d8aac62"
      },
      "execution_count": null,
      "outputs": [
        {
          "output_type": "execute_result",
          "data": {
            "text/html": [
              "\n",
              "  <div id=\"df-a0964fb3-8d9d-4b40-9192-2aee7b06750b\">\n",
              "    <div class=\"colab-df-container\">\n",
              "      <div>\n",
              "<style scoped>\n",
              "    .dataframe tbody tr th:only-of-type {\n",
              "        vertical-align: middle;\n",
              "    }\n",
              "\n",
              "    .dataframe tbody tr th {\n",
              "        vertical-align: top;\n",
              "    }\n",
              "\n",
              "    .dataframe thead th {\n",
              "        text-align: right;\n",
              "    }\n",
              "</style>\n",
              "<table border=\"1\" class=\"dataframe\">\n",
              "  <thead>\n",
              "    <tr style=\"text-align: right;\">\n",
              "      <th></th>\n",
              "      <th>index</th>\n",
              "      <th>text</th>\n",
              "      <th>author</th>\n",
              "    </tr>\n",
              "  </thead>\n",
              "  <tbody>\n",
              "    <tr>\n",
              "      <th>0</th>\n",
              "      <td>0</td>\n",
              "      <td>He was almost choking There was so much so muc...</td>\n",
              "      <td>3</td>\n",
              "    </tr>\n",
              "    <tr>\n",
              "      <th>1</th>\n",
              "      <td>1</td>\n",
              "      <td>Your sister asked for it I suppose</td>\n",
              "      <td>2</td>\n",
              "    </tr>\n",
              "    <tr>\n",
              "      <th>2</th>\n",
              "      <td>2</td>\n",
              "      <td>She was engaged one day as she walked in peru...</td>\n",
              "      <td>1</td>\n",
              "    </tr>\n",
              "    <tr>\n",
              "      <th>3</th>\n",
              "      <td>3</td>\n",
              "      <td>The captain was in the porch keeping himself c...</td>\n",
              "      <td>4</td>\n",
              "    </tr>\n",
              "    <tr>\n",
              "      <th>4</th>\n",
              "      <td>4</td>\n",
              "      <td>Have mercy gentlemen odin flung up his hands D...</td>\n",
              "      <td>3</td>\n",
              "    </tr>\n",
              "    <tr>\n",
              "      <th>...</th>\n",
              "      <td>...</td>\n",
              "      <td>...</td>\n",
              "      <td>...</td>\n",
              "    </tr>\n",
              "    <tr>\n",
              "      <th>54874</th>\n",
              "      <td>54874</td>\n",
              "      <td>Is that you Mr Smith odin whispered I hardly d...</td>\n",
              "      <td>2</td>\n",
              "    </tr>\n",
              "    <tr>\n",
              "      <th>54875</th>\n",
              "      <td>54875</td>\n",
              "      <td>I told my plan to the captain and between us w...</td>\n",
              "      <td>4</td>\n",
              "    </tr>\n",
              "    <tr>\n",
              "      <th>54876</th>\n",
              "      <td>54876</td>\n",
              "      <td>Your sincere wellwisher friend and sister LUC...</td>\n",
              "      <td>1</td>\n",
              "    </tr>\n",
              "    <tr>\n",
              "      <th>54877</th>\n",
              "      <td>54877</td>\n",
              "      <td>Then you wanted me to lend you money</td>\n",
              "      <td>3</td>\n",
              "    </tr>\n",
              "    <tr>\n",
              "      <th>54878</th>\n",
              "      <td>54878</td>\n",
              "      <td>It certainly had not occurred to me before but...</td>\n",
              "      <td>0</td>\n",
              "    </tr>\n",
              "  </tbody>\n",
              "</table>\n",
              "<p>54879 rows × 3 columns</p>\n",
              "</div>\n",
              "      <button class=\"colab-df-convert\" onclick=\"convertToInteractive('df-a0964fb3-8d9d-4b40-9192-2aee7b06750b')\"\n",
              "              title=\"Convert this dataframe to an interactive table.\"\n",
              "              style=\"display:none;\">\n",
              "        \n",
              "  <svg xmlns=\"http://www.w3.org/2000/svg\" height=\"24px\"viewBox=\"0 0 24 24\"\n",
              "       width=\"24px\">\n",
              "    <path d=\"M0 0h24v24H0V0z\" fill=\"none\"/>\n",
              "    <path d=\"M18.56 5.44l.94 2.06.94-2.06 2.06-.94-2.06-.94-.94-2.06-.94 2.06-2.06.94zm-11 1L8.5 8.5l.94-2.06 2.06-.94-2.06-.94L8.5 2.5l-.94 2.06-2.06.94zm10 10l.94 2.06.94-2.06 2.06-.94-2.06-.94-.94-2.06-.94 2.06-2.06.94z\"/><path d=\"M17.41 7.96l-1.37-1.37c-.4-.4-.92-.59-1.43-.59-.52 0-1.04.2-1.43.59L10.3 9.45l-7.72 7.72c-.78.78-.78 2.05 0 2.83L4 21.41c.39.39.9.59 1.41.59.51 0 1.02-.2 1.41-.59l7.78-7.78 2.81-2.81c.8-.78.8-2.07 0-2.86zM5.41 20L4 18.59l7.72-7.72 1.47 1.35L5.41 20z\"/>\n",
              "  </svg>\n",
              "      </button>\n",
              "      \n",
              "  <style>\n",
              "    .colab-df-container {\n",
              "      display:flex;\n",
              "      flex-wrap:wrap;\n",
              "      gap: 12px;\n",
              "    }\n",
              "\n",
              "    .colab-df-convert {\n",
              "      background-color: #E8F0FE;\n",
              "      border: none;\n",
              "      border-radius: 50%;\n",
              "      cursor: pointer;\n",
              "      display: none;\n",
              "      fill: #1967D2;\n",
              "      height: 32px;\n",
              "      padding: 0 0 0 0;\n",
              "      width: 32px;\n",
              "    }\n",
              "\n",
              "    .colab-df-convert:hover {\n",
              "      background-color: #E2EBFA;\n",
              "      box-shadow: 0px 1px 2px rgba(60, 64, 67, 0.3), 0px 1px 3px 1px rgba(60, 64, 67, 0.15);\n",
              "      fill: #174EA6;\n",
              "    }\n",
              "\n",
              "    [theme=dark] .colab-df-convert {\n",
              "      background-color: #3B4455;\n",
              "      fill: #D2E3FC;\n",
              "    }\n",
              "\n",
              "    [theme=dark] .colab-df-convert:hover {\n",
              "      background-color: #434B5C;\n",
              "      box-shadow: 0px 1px 3px 1px rgba(0, 0, 0, 0.15);\n",
              "      filter: drop-shadow(0px 1px 2px rgba(0, 0, 0, 0.3));\n",
              "      fill: #FFFFFF;\n",
              "    }\n",
              "  </style>\n",
              "\n",
              "      <script>\n",
              "        const buttonEl =\n",
              "          document.querySelector('#df-a0964fb3-8d9d-4b40-9192-2aee7b06750b button.colab-df-convert');\n",
              "        buttonEl.style.display =\n",
              "          google.colab.kernel.accessAllowed ? 'block' : 'none';\n",
              "\n",
              "        async function convertToInteractive(key) {\n",
              "          const element = document.querySelector('#df-a0964fb3-8d9d-4b40-9192-2aee7b06750b');\n",
              "          const dataTable =\n",
              "            await google.colab.kernel.invokeFunction('convertToInteractive',\n",
              "                                                     [key], {});\n",
              "          if (!dataTable) return;\n",
              "\n",
              "          const docLinkHtml = 'Like what you see? Visit the ' +\n",
              "            '<a target=\"_blank\" href=https://colab.research.google.com/notebooks/data_table.ipynb>data table notebook</a>'\n",
              "            + ' to learn more about interactive tables.';\n",
              "          element.innerHTML = '';\n",
              "          dataTable['output_type'] = 'display_data';\n",
              "          await google.colab.output.renderOutput(dataTable, element);\n",
              "          const docLink = document.createElement('div');\n",
              "          docLink.innerHTML = docLinkHtml;\n",
              "          element.appendChild(docLink);\n",
              "        }\n",
              "      </script>\n",
              "    </div>\n",
              "  </div>\n",
              "  "
            ],
            "text/plain": [
              "       index                                               text  author\n",
              "0          0  He was almost choking There was so much so muc...       3\n",
              "1          1                 Your sister asked for it I suppose       2\n",
              "2          2   She was engaged one day as she walked in peru...       1\n",
              "3          3  The captain was in the porch keeping himself c...       4\n",
              "4          4  Have mercy gentlemen odin flung up his hands D...       3\n",
              "...      ...                                                ...     ...\n",
              "54874  54874  Is that you Mr Smith odin whispered I hardly d...       2\n",
              "54875  54875  I told my plan to the captain and between us w...       4\n",
              "54876  54876   Your sincere wellwisher friend and sister LUC...       1\n",
              "54877  54877               Then you wanted me to lend you money       3\n",
              "54878  54878  It certainly had not occurred to me before but...       0\n",
              "\n",
              "[54879 rows x 3 columns]"
            ]
          },
          "metadata": {},
          "execution_count": 6
        }
      ]
    },
    {
      "cell_type": "markdown",
      "source": [
        "부호가 제거되었다. "
      ],
      "metadata": {
        "id": "QEwa83aAf-PT"
      }
    },
    {
      "cell_type": "code",
      "source": [
        "pip install konlpy "
      ],
      "metadata": {
        "colab": {
          "base_uri": "https://localhost:8080/"
        },
        "id": "yhJGTIBPiaqI",
        "outputId": "b8f4f3b4-ecee-4687-c56d-ac8742984671"
      },
      "execution_count": null,
      "outputs": [
        {
          "output_type": "stream",
          "name": "stdout",
          "text": [
            "Collecting konlpy\n",
            "  Downloading konlpy-0.6.0-py2.py3-none-any.whl (19.4 MB)\n",
            "\u001b[K     |████████████████████████████████| 19.4 MB 1.3 MB/s \n",
            "\u001b[?25hCollecting JPype1>=0.7.0\n",
            "  Downloading JPype1-1.3.0-cp37-cp37m-manylinux_2_5_x86_64.manylinux1_x86_64.whl (448 kB)\n",
            "\u001b[K     |████████████████████████████████| 448 kB 52.4 MB/s \n",
            "\u001b[?25hRequirement already satisfied: lxml>=4.1.0 in /usr/local/lib/python3.7/dist-packages (from konlpy) (4.2.6)\n",
            "Requirement already satisfied: numpy>=1.6 in /usr/local/lib/python3.7/dist-packages (from konlpy) (1.21.5)\n",
            "Requirement already satisfied: typing-extensions in /usr/local/lib/python3.7/dist-packages (from JPype1>=0.7.0->konlpy) (3.10.0.2)\n",
            "Installing collected packages: JPype1, konlpy\n",
            "Successfully installed JPype1-1.3.0 konlpy-0.6.0\n"
          ]
        }
      ]
    },
    {
      "cell_type": "code",
      "source": [
        "import nltk\n",
        "nltk.download('stopwords')"
      ],
      "metadata": {
        "colab": {
          "base_uri": "https://localhost:8080/"
        },
        "id": "ZX1dQmUfkYxE",
        "outputId": "e88946bd-a9e5-4939-ae6d-ea3d2777c618"
      },
      "execution_count": null,
      "outputs": [
        {
          "output_type": "stream",
          "name": "stdout",
          "text": [
            "[nltk_data] Downloading package stopwords to /root/nltk_data...\n",
            "[nltk_data]   Unzipping corpora/stopwords.zip.\n"
          ]
        },
        {
          "output_type": "execute_result",
          "data": {
            "text/plain": [
              "True"
            ]
          },
          "metadata": {},
          "execution_count": 8
        }
      ]
    },
    {
      "cell_type": "code",
      "source": [
        "from nltk.corpus import stopwords\n",
        "from nltk.tokenize import word_tokenize \n",
        "from konlpy.tag import Okt"
      ],
      "metadata": {
        "id": "VgChfU06iD15"
      },
      "execution_count": null,
      "outputs": []
    },
    {
      "cell_type": "code",
      "source": [
        "stop_words_list=stopwords.words('english')\n",
        "print('불용어 개수:',len(stop_words_list))\n",
        "print('불용어 10개 출력:',stop_words_list)"
      ],
      "metadata": {
        "colab": {
          "base_uri": "https://localhost:8080/"
        },
        "id": "dmdRD7RVjQyu",
        "outputId": "166eb598-a8b7-40c9-df19-7542355b77e5"
      },
      "execution_count": null,
      "outputs": [
        {
          "output_type": "stream",
          "name": "stdout",
          "text": [
            "불용어 개수: 179\n",
            "불용어 10개 출력: ['i', 'me', 'my', 'myself', 'we', 'our', 'ours', 'ourselves', 'you', \"you're\", \"you've\", \"you'll\", \"you'd\", 'your', 'yours', 'yourself', 'yourselves', 'he', 'him', 'his', 'himself', 'she', \"she's\", 'her', 'hers', 'herself', 'it', \"it's\", 'its', 'itself', 'they', 'them', 'their', 'theirs', 'themselves', 'what', 'which', 'who', 'whom', 'this', 'that', \"that'll\", 'these', 'those', 'am', 'is', 'are', 'was', 'were', 'be', 'been', 'being', 'have', 'has', 'had', 'having', 'do', 'does', 'did', 'doing', 'a', 'an', 'the', 'and', 'but', 'if', 'or', 'because', 'as', 'until', 'while', 'of', 'at', 'by', 'for', 'with', 'about', 'against', 'between', 'into', 'through', 'during', 'before', 'after', 'above', 'below', 'to', 'from', 'up', 'down', 'in', 'out', 'on', 'off', 'over', 'under', 'again', 'further', 'then', 'once', 'here', 'there', 'when', 'where', 'why', 'how', 'all', 'any', 'both', 'each', 'few', 'more', 'most', 'other', 'some', 'such', 'no', 'nor', 'not', 'only', 'own', 'same', 'so', 'than', 'too', 'very', 's', 't', 'can', 'will', 'just', 'don', \"don't\", 'should', \"should've\", 'now', 'd', 'll', 'm', 'o', 're', 've', 'y', 'ain', 'aren', \"aren't\", 'couldn', \"couldn't\", 'didn', \"didn't\", 'doesn', \"doesn't\", 'hadn', \"hadn't\", 'hasn', \"hasn't\", 'haven', \"haven't\", 'isn', \"isn't\", 'ma', 'mightn', \"mightn't\", 'mustn', \"mustn't\", 'needn', \"needn't\", 'shan', \"shan't\", 'shouldn', \"shouldn't\", 'wasn', \"wasn't\", 'weren', \"weren't\", 'won', \"won't\", 'wouldn', \"wouldn't\"]\n"
          ]
        }
      ]
    },
    {
      "cell_type": "code",
      "source": [
        "# 불용어 제거\n",
        "\n",
        "def remove_stopwords(text):\n",
        "  final_text=[]\n",
        "  for i in text.split():\n",
        "    if i.strip().lower() not in stop_words_list:\n",
        "      final_text.append(i.strip())\n",
        "  return \" \".join(final_text)"
      ],
      "metadata": {
        "id": "fGKYx4gbfKAM"
      },
      "execution_count": null,
      "outputs": []
    },
    {
      "cell_type": "code",
      "source": [
        "#전처리 적용\n",
        "train['text']=train['text'].str.lower()\n",
        "test['text']=test['text'].str.lower()#소문자\n",
        "\n",
        "train['text']=train['text'].apply(alpha_num).apply(remove_stopwords)\n",
        "test['text']=test['text'].apply(alpha_num).apply(remove_stopwords)"
      ],
      "metadata": {
        "id": "YbbTTPeMpeUF"
      },
      "execution_count": null,
      "outputs": []
    },
    {
      "cell_type": "code",
      "source": [
        "train.head()"
      ],
      "metadata": {
        "colab": {
          "base_uri": "https://localhost:8080/",
          "height": 206
        },
        "id": "nBJ599fCrV5U",
        "outputId": "0942c4b1-64aa-42e0-b1f3-6d3dcab1c89d"
      },
      "execution_count": null,
      "outputs": [
        {
          "output_type": "execute_result",
          "data": {
            "text/html": [
              "\n",
              "  <div id=\"df-0eb1203d-e5e0-44c1-91ba-b39f8a88dfd8\">\n",
              "    <div class=\"colab-df-container\">\n",
              "      <div>\n",
              "<style scoped>\n",
              "    .dataframe tbody tr th:only-of-type {\n",
              "        vertical-align: middle;\n",
              "    }\n",
              "\n",
              "    .dataframe tbody tr th {\n",
              "        vertical-align: top;\n",
              "    }\n",
              "\n",
              "    .dataframe thead th {\n",
              "        text-align: right;\n",
              "    }\n",
              "</style>\n",
              "<table border=\"1\" class=\"dataframe\">\n",
              "  <thead>\n",
              "    <tr style=\"text-align: right;\">\n",
              "      <th></th>\n",
              "      <th>text</th>\n",
              "      <th>author</th>\n",
              "    </tr>\n",
              "  </thead>\n",
              "  <tbody>\n",
              "    <tr>\n",
              "      <th>0</th>\n",
              "      <td>almost choking much much wanted say strange ex...</td>\n",
              "      <td>3</td>\n",
              "    </tr>\n",
              "    <tr>\n",
              "      <th>1</th>\n",
              "      <td>sister asked suppose</td>\n",
              "      <td>2</td>\n",
              "    </tr>\n",
              "    <tr>\n",
              "      <th>2</th>\n",
              "      <td>engaged one day walked perusing janes last let...</td>\n",
              "      <td>1</td>\n",
              "    </tr>\n",
              "    <tr>\n",
              "      <th>3</th>\n",
              "      <td>captain porch keeping carefully way treacherou...</td>\n",
              "      <td>4</td>\n",
              "    </tr>\n",
              "    <tr>\n",
              "      <th>4</th>\n",
              "      <td>mercy gentlemen odin flung hands dont write an...</td>\n",
              "      <td>3</td>\n",
              "    </tr>\n",
              "  </tbody>\n",
              "</table>\n",
              "</div>\n",
              "      <button class=\"colab-df-convert\" onclick=\"convertToInteractive('df-0eb1203d-e5e0-44c1-91ba-b39f8a88dfd8')\"\n",
              "              title=\"Convert this dataframe to an interactive table.\"\n",
              "              style=\"display:none;\">\n",
              "        \n",
              "  <svg xmlns=\"http://www.w3.org/2000/svg\" height=\"24px\"viewBox=\"0 0 24 24\"\n",
              "       width=\"24px\">\n",
              "    <path d=\"M0 0h24v24H0V0z\" fill=\"none\"/>\n",
              "    <path d=\"M18.56 5.44l.94 2.06.94-2.06 2.06-.94-2.06-.94-.94-2.06-.94 2.06-2.06.94zm-11 1L8.5 8.5l.94-2.06 2.06-.94-2.06-.94L8.5 2.5l-.94 2.06-2.06.94zm10 10l.94 2.06.94-2.06 2.06-.94-2.06-.94-.94-2.06-.94 2.06-2.06.94z\"/><path d=\"M17.41 7.96l-1.37-1.37c-.4-.4-.92-.59-1.43-.59-.52 0-1.04.2-1.43.59L10.3 9.45l-7.72 7.72c-.78.78-.78 2.05 0 2.83L4 21.41c.39.39.9.59 1.41.59.51 0 1.02-.2 1.41-.59l7.78-7.78 2.81-2.81c.8-.78.8-2.07 0-2.86zM5.41 20L4 18.59l7.72-7.72 1.47 1.35L5.41 20z\"/>\n",
              "  </svg>\n",
              "      </button>\n",
              "      \n",
              "  <style>\n",
              "    .colab-df-container {\n",
              "      display:flex;\n",
              "      flex-wrap:wrap;\n",
              "      gap: 12px;\n",
              "    }\n",
              "\n",
              "    .colab-df-convert {\n",
              "      background-color: #E8F0FE;\n",
              "      border: none;\n",
              "      border-radius: 50%;\n",
              "      cursor: pointer;\n",
              "      display: none;\n",
              "      fill: #1967D2;\n",
              "      height: 32px;\n",
              "      padding: 0 0 0 0;\n",
              "      width: 32px;\n",
              "    }\n",
              "\n",
              "    .colab-df-convert:hover {\n",
              "      background-color: #E2EBFA;\n",
              "      box-shadow: 0px 1px 2px rgba(60, 64, 67, 0.3), 0px 1px 3px 1px rgba(60, 64, 67, 0.15);\n",
              "      fill: #174EA6;\n",
              "    }\n",
              "\n",
              "    [theme=dark] .colab-df-convert {\n",
              "      background-color: #3B4455;\n",
              "      fill: #D2E3FC;\n",
              "    }\n",
              "\n",
              "    [theme=dark] .colab-df-convert:hover {\n",
              "      background-color: #434B5C;\n",
              "      box-shadow: 0px 1px 3px 1px rgba(0, 0, 0, 0.15);\n",
              "      filter: drop-shadow(0px 1px 2px rgba(0, 0, 0, 0.3));\n",
              "      fill: #FFFFFF;\n",
              "    }\n",
              "  </style>\n",
              "\n",
              "      <script>\n",
              "        const buttonEl =\n",
              "          document.querySelector('#df-0eb1203d-e5e0-44c1-91ba-b39f8a88dfd8 button.colab-df-convert');\n",
              "        buttonEl.style.display =\n",
              "          google.colab.kernel.accessAllowed ? 'block' : 'none';\n",
              "\n",
              "        async function convertToInteractive(key) {\n",
              "          const element = document.querySelector('#df-0eb1203d-e5e0-44c1-91ba-b39f8a88dfd8');\n",
              "          const dataTable =\n",
              "            await google.colab.kernel.invokeFunction('convertToInteractive',\n",
              "                                                     [key], {});\n",
              "          if (!dataTable) return;\n",
              "\n",
              "          const docLinkHtml = 'Like what you see? Visit the ' +\n",
              "            '<a target=\"_blank\" href=https://colab.research.google.com/notebooks/data_table.ipynb>data table notebook</a>'\n",
              "            + ' to learn more about interactive tables.';\n",
              "          element.innerHTML = '';\n",
              "          dataTable['output_type'] = 'display_data';\n",
              "          await google.colab.output.renderOutput(dataTable, element);\n",
              "          const docLink = document.createElement('div');\n",
              "          docLink.innerHTML = docLinkHtml;\n",
              "          element.appendChild(docLink);\n",
              "        }\n",
              "      </script>\n",
              "    </div>\n",
              "  </div>\n",
              "  "
            ],
            "text/plain": [
              "                                                text  author\n",
              "0  almost choking much much wanted say strange ex...       3\n",
              "1                               sister asked suppose       2\n",
              "2  engaged one day walked perusing janes last let...       1\n",
              "3  captain porch keeping carefully way treacherou...       4\n",
              "4  mercy gentlemen odin flung hands dont write an...       3"
            ]
          },
          "metadata": {},
          "execution_count": 93
        }
      ]
    },
    {
      "cell_type": "code",
      "source": [
        "test.head()"
      ],
      "metadata": {
        "colab": {
          "base_uri": "https://localhost:8080/",
          "height": 206
        },
        "id": "eYux7IofrjbG",
        "outputId": "c8ba8e00-7c1e-4dec-ead4-893de7dd7cfa"
      },
      "execution_count": null,
      "outputs": [
        {
          "output_type": "execute_result",
          "data": {
            "text/html": [
              "\n",
              "  <div id=\"df-4a003de7-7c4a-4cc2-88ca-cc27a973bad0\">\n",
              "    <div class=\"colab-df-container\">\n",
              "      <div>\n",
              "<style scoped>\n",
              "    .dataframe tbody tr th:only-of-type {\n",
              "        vertical-align: middle;\n",
              "    }\n",
              "\n",
              "    .dataframe tbody tr th {\n",
              "        vertical-align: top;\n",
              "    }\n",
              "\n",
              "    .dataframe thead th {\n",
              "        text-align: right;\n",
              "    }\n",
              "</style>\n",
              "<table border=\"1\" class=\"dataframe\">\n",
              "  <thead>\n",
              "    <tr style=\"text-align: right;\">\n",
              "      <th></th>\n",
              "      <th>index</th>\n",
              "      <th>text</th>\n",
              "    </tr>\n",
              "  </thead>\n",
              "  <tbody>\n",
              "    <tr>\n",
              "      <th>0</th>\n",
              "      <td>0</td>\n",
              "      <td>think one charming young ladies ever met might...</td>\n",
              "    </tr>\n",
              "    <tr>\n",
              "      <th>1</th>\n",
              "      <td>1</td>\n",
              "      <td>replied sudden consciousness find cannot ignor...</td>\n",
              "    </tr>\n",
              "    <tr>\n",
              "      <th>2</th>\n",
              "      <td>2</td>\n",
              "      <td>lady stated intention screaming course would s...</td>\n",
              "    </tr>\n",
              "    <tr>\n",
              "      <th>3</th>\n",
              "      <td>3</td>\n",
              "      <td>suddenly silence heard sound sent heart mouth ...</td>\n",
              "    </tr>\n",
              "    <tr>\n",
              "      <th>4</th>\n",
              "      <td>4</td>\n",
              "      <td>conviction remained unchanged far knowand beli...</td>\n",
              "    </tr>\n",
              "  </tbody>\n",
              "</table>\n",
              "</div>\n",
              "      <button class=\"colab-df-convert\" onclick=\"convertToInteractive('df-4a003de7-7c4a-4cc2-88ca-cc27a973bad0')\"\n",
              "              title=\"Convert this dataframe to an interactive table.\"\n",
              "              style=\"display:none;\">\n",
              "        \n",
              "  <svg xmlns=\"http://www.w3.org/2000/svg\" height=\"24px\"viewBox=\"0 0 24 24\"\n",
              "       width=\"24px\">\n",
              "    <path d=\"M0 0h24v24H0V0z\" fill=\"none\"/>\n",
              "    <path d=\"M18.56 5.44l.94 2.06.94-2.06 2.06-.94-2.06-.94-.94-2.06-.94 2.06-2.06.94zm-11 1L8.5 8.5l.94-2.06 2.06-.94-2.06-.94L8.5 2.5l-.94 2.06-2.06.94zm10 10l.94 2.06.94-2.06 2.06-.94-2.06-.94-.94-2.06-.94 2.06-2.06.94z\"/><path d=\"M17.41 7.96l-1.37-1.37c-.4-.4-.92-.59-1.43-.59-.52 0-1.04.2-1.43.59L10.3 9.45l-7.72 7.72c-.78.78-.78 2.05 0 2.83L4 21.41c.39.39.9.59 1.41.59.51 0 1.02-.2 1.41-.59l7.78-7.78 2.81-2.81c.8-.78.8-2.07 0-2.86zM5.41 20L4 18.59l7.72-7.72 1.47 1.35L5.41 20z\"/>\n",
              "  </svg>\n",
              "      </button>\n",
              "      \n",
              "  <style>\n",
              "    .colab-df-container {\n",
              "      display:flex;\n",
              "      flex-wrap:wrap;\n",
              "      gap: 12px;\n",
              "    }\n",
              "\n",
              "    .colab-df-convert {\n",
              "      background-color: #E8F0FE;\n",
              "      border: none;\n",
              "      border-radius: 50%;\n",
              "      cursor: pointer;\n",
              "      display: none;\n",
              "      fill: #1967D2;\n",
              "      height: 32px;\n",
              "      padding: 0 0 0 0;\n",
              "      width: 32px;\n",
              "    }\n",
              "\n",
              "    .colab-df-convert:hover {\n",
              "      background-color: #E2EBFA;\n",
              "      box-shadow: 0px 1px 2px rgba(60, 64, 67, 0.3), 0px 1px 3px 1px rgba(60, 64, 67, 0.15);\n",
              "      fill: #174EA6;\n",
              "    }\n",
              "\n",
              "    [theme=dark] .colab-df-convert {\n",
              "      background-color: #3B4455;\n",
              "      fill: #D2E3FC;\n",
              "    }\n",
              "\n",
              "    [theme=dark] .colab-df-convert:hover {\n",
              "      background-color: #434B5C;\n",
              "      box-shadow: 0px 1px 3px 1px rgba(0, 0, 0, 0.15);\n",
              "      filter: drop-shadow(0px 1px 2px rgba(0, 0, 0, 0.3));\n",
              "      fill: #FFFFFF;\n",
              "    }\n",
              "  </style>\n",
              "\n",
              "      <script>\n",
              "        const buttonEl =\n",
              "          document.querySelector('#df-4a003de7-7c4a-4cc2-88ca-cc27a973bad0 button.colab-df-convert');\n",
              "        buttonEl.style.display =\n",
              "          google.colab.kernel.accessAllowed ? 'block' : 'none';\n",
              "\n",
              "        async function convertToInteractive(key) {\n",
              "          const element = document.querySelector('#df-4a003de7-7c4a-4cc2-88ca-cc27a973bad0');\n",
              "          const dataTable =\n",
              "            await google.colab.kernel.invokeFunction('convertToInteractive',\n",
              "                                                     [key], {});\n",
              "          if (!dataTable) return;\n",
              "\n",
              "          const docLinkHtml = 'Like what you see? Visit the ' +\n",
              "            '<a target=\"_blank\" href=https://colab.research.google.com/notebooks/data_table.ipynb>data table notebook</a>'\n",
              "            + ' to learn more about interactive tables.';\n",
              "          element.innerHTML = '';\n",
              "          dataTable['output_type'] = 'display_data';\n",
              "          await google.colab.output.renderOutput(dataTable, element);\n",
              "          const docLink = document.createElement('div');\n",
              "          docLink.innerHTML = docLinkHtml;\n",
              "          element.appendChild(docLink);\n",
              "        }\n",
              "      </script>\n",
              "    </div>\n",
              "  </div>\n",
              "  "
            ],
            "text/plain": [
              "   index                                               text\n",
              "0      0  think one charming young ladies ever met might...\n",
              "1      1  replied sudden consciousness find cannot ignor...\n",
              "2      2  lady stated intention screaming course would s...\n",
              "3      3  suddenly silence heard sound sent heart mouth ...\n",
              "4      4  conviction remained unchanged far knowand beli..."
            ]
          },
          "metadata": {},
          "execution_count": 14
        }
      ]
    },
    {
      "cell_type": "markdown",
      "source": [
        "불용어가 제거되었다."
      ],
      "metadata": {
        "id": "ZGuyhsqNrnjC"
      }
    },
    {
      "cell_type": "markdown",
      "source": [
        "## 모델링"
      ],
      "metadata": {
        "id": "c7BL25sp0Hd3"
      }
    },
    {
      "cell_type": "code",
      "source": [
        "import os\n",
        "import torch\n",
        "import torch.nn as nn\n",
        "import torch.nn.functional as F\n",
        "import random"
      ],
      "metadata": {
        "id": "P0BEnhdJbfuo"
      },
      "execution_count": null,
      "outputs": []
    },
    {
      "cell_type": "code",
      "source": [
        "torch.manual_seed(1)"
      ],
      "metadata": {
        "colab": {
          "base_uri": "https://localhost:8080/"
        },
        "id": "HNNIyQD7ce2A",
        "outputId": "91066a8b-998b-43e6-9b21-4b50cda55134"
      },
      "execution_count": null,
      "outputs": [
        {
          "output_type": "execute_result",
          "data": {
            "text/plain": [
              "<torch._C.Generator at 0x7f19c8156510>"
            ]
          },
          "metadata": {},
          "execution_count": 96
        }
      ]
    },
    {
      "cell_type": "code",
      "source": [
        "batch_size=64\n",
        "lr=0.001\n",
        "epochs=10\n"
      ],
      "metadata": {
        "id": "KtgRXoYZcknY"
      },
      "execution_count": null,
      "outputs": []
    },
    {
      "cell_type": "code",
      "source": [
        "use_cuda=torch.cuda.is_available()\n",
        "device=torch.device(\"cuda\" if use_cuda else \"cpu\")\n",
        "print(\"cpu와 cuda 중 다음 기기로 학습함:\",device)"
      ],
      "metadata": {
        "colab": {
          "base_uri": "https://localhost:8080/"
        },
        "id": "RDhMxitGdsvc",
        "outputId": "466d6748-2a42-4d1e-c984-39806d14bdc1"
      },
      "execution_count": null,
      "outputs": [
        {
          "output_type": "stream",
          "name": "stdout",
          "text": [
            "cpu와 cuda 중 다음 기기로 학습함: cpu\n"
          ]
        }
      ]
    },
    {
      "cell_type": "code",
      "source": [
        "train.drop('index',axis=1,inplace=True)\n",
        "test.drop('index',axis=1,inplace=True)"
      ],
      "metadata": {
        "colab": {
          "base_uri": "https://localhost:8080/",
          "height": 360
        },
        "id": "54AjRtPH0QqL",
        "outputId": "b65f91c9-388e-4f18-af20-88b4e3414e03"
      },
      "execution_count": null,
      "outputs": [
        {
          "output_type": "error",
          "ename": "KeyError",
          "evalue": "ignored",
          "traceback": [
            "\u001b[0;31m---------------------------------------------------------------------------\u001b[0m",
            "\u001b[0;31mKeyError\u001b[0m                                  Traceback (most recent call last)",
            "\u001b[0;32m<ipython-input-99-fe46c4acb7d8>\u001b[0m in \u001b[0;36m<module>\u001b[0;34m()\u001b[0m\n\u001b[0;32m----> 1\u001b[0;31m \u001b[0mtrain\u001b[0m\u001b[0;34m.\u001b[0m\u001b[0mdrop\u001b[0m\u001b[0;34m(\u001b[0m\u001b[0;34m'index'\u001b[0m\u001b[0;34m,\u001b[0m\u001b[0maxis\u001b[0m\u001b[0;34m=\u001b[0m\u001b[0;36m1\u001b[0m\u001b[0;34m,\u001b[0m\u001b[0minplace\u001b[0m\u001b[0;34m=\u001b[0m\u001b[0;32mTrue\u001b[0m\u001b[0;34m)\u001b[0m\u001b[0;34m\u001b[0m\u001b[0;34m\u001b[0m\u001b[0m\n\u001b[0m\u001b[1;32m      2\u001b[0m \u001b[0mtest\u001b[0m\u001b[0;34m.\u001b[0m\u001b[0mdrop\u001b[0m\u001b[0;34m(\u001b[0m\u001b[0;34m'index'\u001b[0m\u001b[0;34m,\u001b[0m\u001b[0maxis\u001b[0m\u001b[0;34m=\u001b[0m\u001b[0;36m1\u001b[0m\u001b[0;34m,\u001b[0m\u001b[0minplace\u001b[0m\u001b[0;34m=\u001b[0m\u001b[0;32mTrue\u001b[0m\u001b[0;34m)\u001b[0m\u001b[0;34m\u001b[0m\u001b[0;34m\u001b[0m\u001b[0m\n",
            "\u001b[0;32m/usr/local/lib/python3.7/dist-packages/pandas/util/_decorators.py\u001b[0m in \u001b[0;36mwrapper\u001b[0;34m(*args, **kwargs)\u001b[0m\n\u001b[1;32m    309\u001b[0m                     \u001b[0mstacklevel\u001b[0m\u001b[0;34m=\u001b[0m\u001b[0mstacklevel\u001b[0m\u001b[0;34m,\u001b[0m\u001b[0;34m\u001b[0m\u001b[0;34m\u001b[0m\u001b[0m\n\u001b[1;32m    310\u001b[0m                 )\n\u001b[0;32m--> 311\u001b[0;31m             \u001b[0;32mreturn\u001b[0m \u001b[0mfunc\u001b[0m\u001b[0;34m(\u001b[0m\u001b[0;34m*\u001b[0m\u001b[0margs\u001b[0m\u001b[0;34m,\u001b[0m \u001b[0;34m**\u001b[0m\u001b[0mkwargs\u001b[0m\u001b[0;34m)\u001b[0m\u001b[0;34m\u001b[0m\u001b[0;34m\u001b[0m\u001b[0m\n\u001b[0m\u001b[1;32m    312\u001b[0m \u001b[0;34m\u001b[0m\u001b[0m\n\u001b[1;32m    313\u001b[0m         \u001b[0;32mreturn\u001b[0m \u001b[0mwrapper\u001b[0m\u001b[0;34m\u001b[0m\u001b[0;34m\u001b[0m\u001b[0m\n",
            "\u001b[0;32m/usr/local/lib/python3.7/dist-packages/pandas/core/frame.py\u001b[0m in \u001b[0;36mdrop\u001b[0;34m(self, labels, axis, index, columns, level, inplace, errors)\u001b[0m\n\u001b[1;32m   4911\u001b[0m             \u001b[0mlevel\u001b[0m\u001b[0;34m=\u001b[0m\u001b[0mlevel\u001b[0m\u001b[0;34m,\u001b[0m\u001b[0;34m\u001b[0m\u001b[0;34m\u001b[0m\u001b[0m\n\u001b[1;32m   4912\u001b[0m             \u001b[0minplace\u001b[0m\u001b[0;34m=\u001b[0m\u001b[0minplace\u001b[0m\u001b[0;34m,\u001b[0m\u001b[0;34m\u001b[0m\u001b[0;34m\u001b[0m\u001b[0m\n\u001b[0;32m-> 4913\u001b[0;31m             \u001b[0merrors\u001b[0m\u001b[0;34m=\u001b[0m\u001b[0merrors\u001b[0m\u001b[0;34m,\u001b[0m\u001b[0;34m\u001b[0m\u001b[0;34m\u001b[0m\u001b[0m\n\u001b[0m\u001b[1;32m   4914\u001b[0m         )\n\u001b[1;32m   4915\u001b[0m \u001b[0;34m\u001b[0m\u001b[0m\n",
            "\u001b[0;32m/usr/local/lib/python3.7/dist-packages/pandas/core/generic.py\u001b[0m in \u001b[0;36mdrop\u001b[0;34m(self, labels, axis, index, columns, level, inplace, errors)\u001b[0m\n\u001b[1;32m   4148\u001b[0m         \u001b[0;32mfor\u001b[0m \u001b[0maxis\u001b[0m\u001b[0;34m,\u001b[0m \u001b[0mlabels\u001b[0m \u001b[0;32min\u001b[0m \u001b[0maxes\u001b[0m\u001b[0;34m.\u001b[0m\u001b[0mitems\u001b[0m\u001b[0;34m(\u001b[0m\u001b[0;34m)\u001b[0m\u001b[0;34m:\u001b[0m\u001b[0;34m\u001b[0m\u001b[0;34m\u001b[0m\u001b[0m\n\u001b[1;32m   4149\u001b[0m             \u001b[0;32mif\u001b[0m \u001b[0mlabels\u001b[0m \u001b[0;32mis\u001b[0m \u001b[0;32mnot\u001b[0m \u001b[0;32mNone\u001b[0m\u001b[0;34m:\u001b[0m\u001b[0;34m\u001b[0m\u001b[0;34m\u001b[0m\u001b[0m\n\u001b[0;32m-> 4150\u001b[0;31m                 \u001b[0mobj\u001b[0m \u001b[0;34m=\u001b[0m \u001b[0mobj\u001b[0m\u001b[0;34m.\u001b[0m\u001b[0m_drop_axis\u001b[0m\u001b[0;34m(\u001b[0m\u001b[0mlabels\u001b[0m\u001b[0;34m,\u001b[0m \u001b[0maxis\u001b[0m\u001b[0;34m,\u001b[0m \u001b[0mlevel\u001b[0m\u001b[0;34m=\u001b[0m\u001b[0mlevel\u001b[0m\u001b[0;34m,\u001b[0m \u001b[0merrors\u001b[0m\u001b[0;34m=\u001b[0m\u001b[0merrors\u001b[0m\u001b[0;34m)\u001b[0m\u001b[0;34m\u001b[0m\u001b[0;34m\u001b[0m\u001b[0m\n\u001b[0m\u001b[1;32m   4151\u001b[0m \u001b[0;34m\u001b[0m\u001b[0m\n\u001b[1;32m   4152\u001b[0m         \u001b[0;32mif\u001b[0m \u001b[0minplace\u001b[0m\u001b[0;34m:\u001b[0m\u001b[0;34m\u001b[0m\u001b[0;34m\u001b[0m\u001b[0m\n",
            "\u001b[0;32m/usr/local/lib/python3.7/dist-packages/pandas/core/generic.py\u001b[0m in \u001b[0;36m_drop_axis\u001b[0;34m(self, labels, axis, level, errors)\u001b[0m\n\u001b[1;32m   4183\u001b[0m                 \u001b[0mnew_axis\u001b[0m \u001b[0;34m=\u001b[0m \u001b[0maxis\u001b[0m\u001b[0;34m.\u001b[0m\u001b[0mdrop\u001b[0m\u001b[0;34m(\u001b[0m\u001b[0mlabels\u001b[0m\u001b[0;34m,\u001b[0m \u001b[0mlevel\u001b[0m\u001b[0;34m=\u001b[0m\u001b[0mlevel\u001b[0m\u001b[0;34m,\u001b[0m \u001b[0merrors\u001b[0m\u001b[0;34m=\u001b[0m\u001b[0merrors\u001b[0m\u001b[0;34m)\u001b[0m\u001b[0;34m\u001b[0m\u001b[0;34m\u001b[0m\u001b[0m\n\u001b[1;32m   4184\u001b[0m             \u001b[0;32melse\u001b[0m\u001b[0;34m:\u001b[0m\u001b[0;34m\u001b[0m\u001b[0;34m\u001b[0m\u001b[0m\n\u001b[0;32m-> 4185\u001b[0;31m                 \u001b[0mnew_axis\u001b[0m \u001b[0;34m=\u001b[0m \u001b[0maxis\u001b[0m\u001b[0;34m.\u001b[0m\u001b[0mdrop\u001b[0m\u001b[0;34m(\u001b[0m\u001b[0mlabels\u001b[0m\u001b[0;34m,\u001b[0m \u001b[0merrors\u001b[0m\u001b[0;34m=\u001b[0m\u001b[0merrors\u001b[0m\u001b[0;34m)\u001b[0m\u001b[0;34m\u001b[0m\u001b[0;34m\u001b[0m\u001b[0m\n\u001b[0m\u001b[1;32m   4186\u001b[0m             \u001b[0mresult\u001b[0m \u001b[0;34m=\u001b[0m \u001b[0mself\u001b[0m\u001b[0;34m.\u001b[0m\u001b[0mreindex\u001b[0m\u001b[0;34m(\u001b[0m\u001b[0;34m**\u001b[0m\u001b[0;34m{\u001b[0m\u001b[0maxis_name\u001b[0m\u001b[0;34m:\u001b[0m \u001b[0mnew_axis\u001b[0m\u001b[0;34m}\u001b[0m\u001b[0;34m)\u001b[0m\u001b[0;34m\u001b[0m\u001b[0;34m\u001b[0m\u001b[0m\n\u001b[1;32m   4187\u001b[0m \u001b[0;34m\u001b[0m\u001b[0m\n",
            "\u001b[0;32m/usr/local/lib/python3.7/dist-packages/pandas/core/indexes/base.py\u001b[0m in \u001b[0;36mdrop\u001b[0;34m(self, labels, errors)\u001b[0m\n\u001b[1;32m   6015\u001b[0m         \u001b[0;32mif\u001b[0m \u001b[0mmask\u001b[0m\u001b[0;34m.\u001b[0m\u001b[0many\u001b[0m\u001b[0;34m(\u001b[0m\u001b[0;34m)\u001b[0m\u001b[0;34m:\u001b[0m\u001b[0;34m\u001b[0m\u001b[0;34m\u001b[0m\u001b[0m\n\u001b[1;32m   6016\u001b[0m             \u001b[0;32mif\u001b[0m \u001b[0merrors\u001b[0m \u001b[0;34m!=\u001b[0m \u001b[0;34m\"ignore\"\u001b[0m\u001b[0;34m:\u001b[0m\u001b[0;34m\u001b[0m\u001b[0;34m\u001b[0m\u001b[0m\n\u001b[0;32m-> 6017\u001b[0;31m                 \u001b[0;32mraise\u001b[0m \u001b[0mKeyError\u001b[0m\u001b[0;34m(\u001b[0m\u001b[0;34mf\"{labels[mask]} not found in axis\"\u001b[0m\u001b[0;34m)\u001b[0m\u001b[0;34m\u001b[0m\u001b[0;34m\u001b[0m\u001b[0m\n\u001b[0m\u001b[1;32m   6018\u001b[0m             \u001b[0mindexer\u001b[0m \u001b[0;34m=\u001b[0m \u001b[0mindexer\u001b[0m\u001b[0;34m[\u001b[0m\u001b[0;34m~\u001b[0m\u001b[0mmask\u001b[0m\u001b[0;34m]\u001b[0m\u001b[0;34m\u001b[0m\u001b[0;34m\u001b[0m\u001b[0m\n\u001b[1;32m   6019\u001b[0m         \u001b[0;32mreturn\u001b[0m \u001b[0mself\u001b[0m\u001b[0;34m.\u001b[0m\u001b[0mdelete\u001b[0m\u001b[0;34m(\u001b[0m\u001b[0mindexer\u001b[0m\u001b[0;34m)\u001b[0m\u001b[0;34m\u001b[0m\u001b[0;34m\u001b[0m\u001b[0m\n",
            "\u001b[0;31mKeyError\u001b[0m: \"['index'] not found in axis\""
          ]
        }
      ]
    },
    {
      "cell_type": "code",
      "source": [
        "train.to_csv('train1.csv',index=False)\n",
        "test.to_csv('test1.csv',index=False)"
      ],
      "metadata": {
        "id": "aGAJIYmxsbuM"
      },
      "execution_count": null,
      "outputs": []
    },
    {
      "cell_type": "code",
      "source": [
        "test.head()"
      ],
      "metadata": {
        "colab": {
          "base_uri": "https://localhost:8080/",
          "height": 206
        },
        "id": "czkuVQ8G2CfG",
        "outputId": "4360a003-c019-49a0-c4df-80439d778e21"
      },
      "execution_count": null,
      "outputs": [
        {
          "output_type": "execute_result",
          "data": {
            "text/html": [
              "\n",
              "  <div id=\"df-84e64419-2e5b-4cdc-802a-dbf47c3f29f8\">\n",
              "    <div class=\"colab-df-container\">\n",
              "      <div>\n",
              "<style scoped>\n",
              "    .dataframe tbody tr th:only-of-type {\n",
              "        vertical-align: middle;\n",
              "    }\n",
              "\n",
              "    .dataframe tbody tr th {\n",
              "        vertical-align: top;\n",
              "    }\n",
              "\n",
              "    .dataframe thead th {\n",
              "        text-align: right;\n",
              "    }\n",
              "</style>\n",
              "<table border=\"1\" class=\"dataframe\">\n",
              "  <thead>\n",
              "    <tr style=\"text-align: right;\">\n",
              "      <th></th>\n",
              "      <th>text</th>\n",
              "    </tr>\n",
              "  </thead>\n",
              "  <tbody>\n",
              "    <tr>\n",
              "      <th>0</th>\n",
              "      <td>think one charming young ladies ever met might...</td>\n",
              "    </tr>\n",
              "    <tr>\n",
              "      <th>1</th>\n",
              "      <td>replied sudden consciousness find cannot ignor...</td>\n",
              "    </tr>\n",
              "    <tr>\n",
              "      <th>2</th>\n",
              "      <td>lady stated intention screaming course would s...</td>\n",
              "    </tr>\n",
              "    <tr>\n",
              "      <th>3</th>\n",
              "      <td>suddenly silence heard sound sent heart mouth ...</td>\n",
              "    </tr>\n",
              "    <tr>\n",
              "      <th>4</th>\n",
              "      <td>conviction remained unchanged far knowand beli...</td>\n",
              "    </tr>\n",
              "  </tbody>\n",
              "</table>\n",
              "</div>\n",
              "      <button class=\"colab-df-convert\" onclick=\"convertToInteractive('df-84e64419-2e5b-4cdc-802a-dbf47c3f29f8')\"\n",
              "              title=\"Convert this dataframe to an interactive table.\"\n",
              "              style=\"display:none;\">\n",
              "        \n",
              "  <svg xmlns=\"http://www.w3.org/2000/svg\" height=\"24px\"viewBox=\"0 0 24 24\"\n",
              "       width=\"24px\">\n",
              "    <path d=\"M0 0h24v24H0V0z\" fill=\"none\"/>\n",
              "    <path d=\"M18.56 5.44l.94 2.06.94-2.06 2.06-.94-2.06-.94-.94-2.06-.94 2.06-2.06.94zm-11 1L8.5 8.5l.94-2.06 2.06-.94-2.06-.94L8.5 2.5l-.94 2.06-2.06.94zm10 10l.94 2.06.94-2.06 2.06-.94-2.06-.94-.94-2.06-.94 2.06-2.06.94z\"/><path d=\"M17.41 7.96l-1.37-1.37c-.4-.4-.92-.59-1.43-.59-.52 0-1.04.2-1.43.59L10.3 9.45l-7.72 7.72c-.78.78-.78 2.05 0 2.83L4 21.41c.39.39.9.59 1.41.59.51 0 1.02-.2 1.41-.59l7.78-7.78 2.81-2.81c.8-.78.8-2.07 0-2.86zM5.41 20L4 18.59l7.72-7.72 1.47 1.35L5.41 20z\"/>\n",
              "  </svg>\n",
              "      </button>\n",
              "      \n",
              "  <style>\n",
              "    .colab-df-container {\n",
              "      display:flex;\n",
              "      flex-wrap:wrap;\n",
              "      gap: 12px;\n",
              "    }\n",
              "\n",
              "    .colab-df-convert {\n",
              "      background-color: #E8F0FE;\n",
              "      border: none;\n",
              "      border-radius: 50%;\n",
              "      cursor: pointer;\n",
              "      display: none;\n",
              "      fill: #1967D2;\n",
              "      height: 32px;\n",
              "      padding: 0 0 0 0;\n",
              "      width: 32px;\n",
              "    }\n",
              "\n",
              "    .colab-df-convert:hover {\n",
              "      background-color: #E2EBFA;\n",
              "      box-shadow: 0px 1px 2px rgba(60, 64, 67, 0.3), 0px 1px 3px 1px rgba(60, 64, 67, 0.15);\n",
              "      fill: #174EA6;\n",
              "    }\n",
              "\n",
              "    [theme=dark] .colab-df-convert {\n",
              "      background-color: #3B4455;\n",
              "      fill: #D2E3FC;\n",
              "    }\n",
              "\n",
              "    [theme=dark] .colab-df-convert:hover {\n",
              "      background-color: #434B5C;\n",
              "      box-shadow: 0px 1px 3px 1px rgba(0, 0, 0, 0.15);\n",
              "      filter: drop-shadow(0px 1px 2px rgba(0, 0, 0, 0.3));\n",
              "      fill: #FFFFFF;\n",
              "    }\n",
              "  </style>\n",
              "\n",
              "      <script>\n",
              "        const buttonEl =\n",
              "          document.querySelector('#df-84e64419-2e5b-4cdc-802a-dbf47c3f29f8 button.colab-df-convert');\n",
              "        buttonEl.style.display =\n",
              "          google.colab.kernel.accessAllowed ? 'block' : 'none';\n",
              "\n",
              "        async function convertToInteractive(key) {\n",
              "          const element = document.querySelector('#df-84e64419-2e5b-4cdc-802a-dbf47c3f29f8');\n",
              "          const dataTable =\n",
              "            await google.colab.kernel.invokeFunction('convertToInteractive',\n",
              "                                                     [key], {});\n",
              "          if (!dataTable) return;\n",
              "\n",
              "          const docLinkHtml = 'Like what you see? Visit the ' +\n",
              "            '<a target=\"_blank\" href=https://colab.research.google.com/notebooks/data_table.ipynb>data table notebook</a>'\n",
              "            + ' to learn more about interactive tables.';\n",
              "          element.innerHTML = '';\n",
              "          dataTable['output_type'] = 'display_data';\n",
              "          await google.colab.output.renderOutput(dataTable, element);\n",
              "          const docLink = document.createElement('div');\n",
              "          docLink.innerHTML = docLinkHtml;\n",
              "          element.appendChild(docLink);\n",
              "        }\n",
              "      </script>\n",
              "    </div>\n",
              "  </div>\n",
              "  "
            ],
            "text/plain": [
              "                                                text\n",
              "0  think one charming young ladies ever met might...\n",
              "1  replied sudden consciousness find cannot ignor...\n",
              "2  lady stated intention screaming course would s...\n",
              "3  suddenly silence heard sound sent heart mouth ...\n",
              "4  conviction remained unchanged far knowand beli..."
            ]
          },
          "metadata": {},
          "execution_count": 81
        }
      ]
    },
    {
      "cell_type": "code",
      "source": [
        "pip install torchtext"
      ],
      "metadata": {
        "colab": {
          "base_uri": "https://localhost:8080/"
        },
        "id": "s0fXLFqWj2-o",
        "outputId": "1abde7a5-f920-458f-b83d-7b16949ce7cb"
      },
      "execution_count": null,
      "outputs": [
        {
          "output_type": "stream",
          "name": "stdout",
          "text": [
            "Requirement already satisfied: torchtext in /usr/local/lib/python3.7/dist-packages (0.11.0)\n",
            "Requirement already satisfied: torch==1.10.0 in /usr/local/lib/python3.7/dist-packages (from torchtext) (1.10.0+cu111)\n",
            "Requirement already satisfied: tqdm in /usr/local/lib/python3.7/dist-packages (from torchtext) (4.63.0)\n",
            "Requirement already satisfied: requests in /usr/local/lib/python3.7/dist-packages (from torchtext) (2.23.0)\n",
            "Requirement already satisfied: numpy in /usr/local/lib/python3.7/dist-packages (from torchtext) (1.21.5)\n",
            "Requirement already satisfied: typing-extensions in /usr/local/lib/python3.7/dist-packages (from torch==1.10.0->torchtext) (3.10.0.2)\n",
            "Requirement already satisfied: chardet<4,>=3.0.2 in /usr/local/lib/python3.7/dist-packages (from requests->torchtext) (3.0.4)\n",
            "Requirement already satisfied: certifi>=2017.4.17 in /usr/local/lib/python3.7/dist-packages (from requests->torchtext) (2021.10.8)\n",
            "Requirement already satisfied: urllib3!=1.25.0,!=1.25.1,<1.26,>=1.21.1 in /usr/local/lib/python3.7/dist-packages (from requests->torchtext) (1.24.3)\n",
            "Requirement already satisfied: idna<3,>=2.5 in /usr/local/lib/python3.7/dist-packages (from requests->torchtext) (2.10)\n"
          ]
        }
      ]
    },
    {
      "cell_type": "code",
      "source": [
        "from torchtext.legacy.data import TabularDataset"
      ],
      "metadata": {
        "id": "xQVNRhZ3kQGv"
      },
      "execution_count": null,
      "outputs": []
    },
    {
      "cell_type": "code",
      "source": [
        "from torchtext.legacy import data # torchtext.data 임포트\n",
        "\n",
        "# 필드 정의\n",
        "TEXT =data.Field(sequential=True,#시퀀스 데이터 여부\n",
        "                  use_vocab=True,#단어집합을 만들것인지 여부\n",
        "                  tokenize=str.split,#어떤 토큰화 함수를 사용할 것인지 가정.\n",
        "                  lower=True,#영어 데이터를 전부 소문자화\n",
        "                  batch_first=True,#미니배치 차원을 맨 앞으로 하여 데이터를 불러올 것인지\n",
        "                  fix_length=20)#최대 허용 길이.(패딩 작업)\n",
        "\n",
        "LABEL =data.Field(sequential=False,\n",
        "                   use_vocab=False,\n",
        "                   batch_first=False,\n",
        "                   is_target=True)"
      ],
      "metadata": {
        "id": "k1BYZxl8dsOd"
      },
      "execution_count": null,
      "outputs": []
    },
    {
      "cell_type": "code",
      "source": [
        "from torchtext.legacy.data import Field, TabularDataset, BucketIterator, Iterator"
      ],
      "metadata": {
        "id": "1SFRaleroTWt"
      },
      "execution_count": null,
      "outputs": []
    },
    {
      "cell_type": "code",
      "source": [
        "train_data,test_data=TabularDataset.splits(\n",
        "    path='.',train='/content/drive/MyDrive/소설작가/train1.csv',test='/content/drive/MyDrive/소설작가/test1.csv',format='csv',\n",
        "    fields=[('text',TEXT),('label',LABEL)],skip_header=True\n",
        ")"
      ],
      "metadata": {
        "id": "-EpczWqsoFYH"
      },
      "execution_count": null,
      "outputs": []
    },
    {
      "cell_type": "code",
      "source": [
        "print('훈련 샘플의 개수:{}'.format(len(train_data)))\n",
        "print('테스트 샘플의 개수:{}'.format(len(test_data)))"
      ],
      "metadata": {
        "colab": {
          "base_uri": "https://localhost:8080/"
        },
        "id": "s8szuHkZqKj7",
        "outputId": "4a5a45e2-b403-47b6-9228-18289093ed4a"
      },
      "execution_count": null,
      "outputs": [
        {
          "output_type": "stream",
          "name": "stdout",
          "text": [
            "훈련 샘플의 개수:54879\n",
            "테스트 샘플의 개수:19617\n"
          ]
        }
      ]
    },
    {
      "cell_type": "code",
      "source": [
        "print(vars(train_data[0]))"
      ],
      "metadata": {
        "colab": {
          "base_uri": "https://localhost:8080/"
        },
        "id": "POAaWdc6ts_r",
        "outputId": "1e64a982-21e9-4ee2-c01d-d12ff9b7a47e"
      },
      "execution_count": null,
      "outputs": [
        {
          "output_type": "stream",
          "name": "stdout",
          "text": [
            "{'text': ['almost', 'choking', 'much', 'much', 'wanted', 'say', 'strange', 'exclamations', 'came', 'lips', 'pole', 'gazed', 'fixedly', 'bundle', 'notes', 'hand', 'looked', 'odin', 'evident', 'perplexity'], 'label': '3'}\n"
          ]
        }
      ]
    },
    {
      "cell_type": "markdown",
      "source": [
        "토큰화가 잘 진행된 것을 볼 수 있다. "
      ],
      "metadata": {
        "id": "WBvtYpTD1zic"
      }
    },
    {
      "cell_type": "code",
      "source": [
        "#필드 구성 확인\n",
        "print(train_data.fields.items())"
      ],
      "metadata": {
        "colab": {
          "base_uri": "https://localhost:8080/"
        },
        "id": "IWE1qA8vu58j",
        "outputId": "5a1993f2-78cd-4ccc-de38-a376b7fcba65"
      },
      "execution_count": null,
      "outputs": [
        {
          "output_type": "stream",
          "name": "stdout",
          "text": [
            "dict_items([('text', <torchtext.legacy.data.field.Field object at 0x7f19c2264310>), ('label', <torchtext.legacy.data.field.Field object at 0x7f19c2264390>)])\n"
          ]
        }
      ]
    },
    {
      "cell_type": "markdown",
      "source": [
        "## 단어집합 만들기\n",
        "\n",
        "토큰화 전처리를 끝냈다면 이제 각 단어에 고유한 정수를 맵핑해주는 정수 인코딩 작업이 필요하다. 그리고 이 전처리를 위해서 우선 단어 집합을 만들어줘야 한다. "
      ],
      "metadata": {
        "id": "F0HMGQiP4VV-"
      }
    },
    {
      "cell_type": "code",
      "source": [
        "TEXT.build_vocab(train_data,min_freq=10)\n",
        "LABEL.build_vocab(train_data)"
      ],
      "metadata": {
        "id": "psX0c3Cj1-Mm"
      },
      "execution_count": null,
      "outputs": []
    },
    {
      "cell_type": "markdown",
      "source": [
        "- min_freq : 단어 집합에 추가 시 단어의 최소 등장 빈도 조건을 추가.\n",
        "- max_size : 단어 집합의 최대 크기를 지정."
      ],
      "metadata": {
        "id": "rRKc51sD5H3z"
      }
    },
    {
      "cell_type": "code",
      "source": [
        "vocab_size=len(TEXT.vocab)\n",
        "n_classes=5"
      ],
      "metadata": {
        "id": "e6g_vd0clq36"
      },
      "execution_count": null,
      "outputs": []
    },
    {
      "cell_type": "code",
      "source": [
        "print(vocab_size)"
      ],
      "metadata": {
        "colab": {
          "base_uri": "https://localhost:8080/"
        },
        "id": "3zrIAv8NlvPj",
        "outputId": "848ff2f1-aeea-4051-fadc-3a19349dba91"
      },
      "execution_count": null,
      "outputs": [
        {
          "output_type": "stream",
          "name": "stdout",
          "text": [
            "9542\n"
          ]
        }
      ]
    },
    {
      "cell_type": "markdown",
      "source": [
        "생성된 단어 집합 내의 단어들은 .stoi를 통해서 확인 가능합니다."
      ],
      "metadata": {
        "id": "og8Pi12g748d"
      }
    },
    {
      "cell_type": "code",
      "source": [
        "print(TEXT.vocab.stoi)"
      ],
      "metadata": {
        "colab": {
          "base_uri": "https://localhost:8080/"
        },
        "id": "1136TmqZ72NN",
        "outputId": "2b928d9e-80bf-42ca-c778-2b1282c9f477"
      },
      "execution_count": null,
      "outputs": [
        {
          "output_type": "stream",
          "name": "stdout",
          "text": [
            "defaultdict(<bound method Vocab._default_unk_index of <torchtext.legacy.vocab.Vocab object at 0x7f19bb797b50>>, {'<unk>': 0, '<pad>': 1, 'odin': 2, 'said': 3, 'one': 4, 'would': 5, 'mr': 6, 'could': 7, 'upon': 8, 'man': 9, 'know': 10, 'well': 11, 'time': 12, 'little': 13, 'see': 14, 'come': 15, 'like': 16, 'must': 17, 'odins': 18, 'much': 19, 'say': 20, 'think': 21, 'us': 22, 'never': 23, 'good': 24, 'cried': 25, 'may': 26, 'sir': 27, 'go': 28, 'dont': 29, 'two': 30, 'made': 31, 'nothing': 32, 'though': 33, 'came': 34, 'old': 35, 'last': 36, 'great': 37, 'thought': 38, 'might': 39, 'shall': 40, 'way': 41, 'first': 42, 'hand': 43, 'back': 44, 'even': 45, 'face': 46, 'long': 47, 'away': 48, 'mrs': 49, 'without': 50, 'every': 51, 'miss': 52, 'still': 53, 'eyes': 54, 'looked': 55, 'asked': 56, 'day': 57, 'house': 58, 'went': 59, 'tell': 60, 'make': 61, 'young': 62, 'take': 63, 'quite': 64, 'room': 65, 'something': 66, 'head': 67, 'look': 68, 'dear': 69, 'yet': 70, 'yes': 71, 'another': 72, 'ever': 73, 'let': 74, 'saw': 75, 'life': 76, 'mind': 77, 'door': 78, 'oh': 79, 'heard': 80, 'always': 81, 'put': 82, 'took': 83, 'give': 84, 'moment': 85, 'seemed': 86, 'prince': 87, 'left': 88, 'night': 89, 'three': 90, 'began': 91, 'better': 92, 'get': 93, 'right': 94, 'perhaps': 95, 'done': 96, 'ill': 97, 'going': 98, 'many': 99, 'heart': 100, 'thing': 101, 'hands': 102, 'looking': 103, 'thats': 104, 'soon': 105, 'suddenly': 106, 'told': 107, 'replied': 108, 'word': 109, 'place': 110, 'enough': 111, 'found': 112, 'father': 113, 'got': 114, 'indeed': 115, 'lady': 116, 'turned': 117, 'sure': 118, 'seen': 119, 'knew': 120, 'believe': 121, 'friend': 122, 'returned': 123, 'course': 124, 'round': 125, 'people': 126, 'anything': 127, 'morning': 128, 'love': 129, 'voice': 130, 'side': 131, 'woman': 132, 'men': 133, 'whole': 134, 'sat': 135, 'words': 136, 'almost': 137, 'far': 138, 'however': 139, 'want': 140, 'name': 141, 'find': 142, 'felt': 143, 'really': 144, 'home': 145, 'rather': 146, 'mother': 147, 'hear': 148, 'poor': 149, 'stood': 150, 'speak': 151, 'answered': 152, 'end': 153, 'matter': 154, 'gone': 155, 'understand': 156, 'cannot': 157, 'years': 158, 'brought': 159, 'money': 160, 'part': 161, 'gave': 162, 'among': 163, 'hope': 164, 'doctor': 165, 'together': 166, 'mean': 167, 'since': 168, 'light': 169, 'set': 170, 'open': 171, 'ask': 172, 'already': 173, 'half': 174, 'taken': 175, 'evening': 176, 'leave': 177, 'things': 178, 'brother': 179, 'boy': 180, 'new': 181, 'case': 182, 'lay': 183, 'lord': 184, 'next': 185, 'days': 186, 'passed': 187, 'ye': 188, 'gentleman': 189, 'letter': 190, 'table': 191, 'business': 192, 'world': 193, 'least': 194, 'hour': 195, 'god': 196, 'question': 197, 'certainly': 198, 'family': 199, 'doubt': 200, 'general': 201, 'answer': 202, 'idea': 203, 'wish': 204, 'behind': 205, 'everything': 206, 'ive': 207, 'towards': 208, 'keep': 209, 'im': 210, 'help': 211, 'remember': 212, 'best': 213, 'sister': 214, 'wife': 215, 'alone': 216, 'coming': 217, 'suppose': 218, 'sort': 219, 'small': 220, 'else': 221, 'whether': 222, 'air': 223, 'point': 224, 'master': 225, 'strange': 226, 'read': 227, 'manner': 228, 'friends': 229, 'present': 230, 'added': 231, 'true': 232, 'says': 233, 'till': 234, 'less': 235, 'afraid': 236, 'called': 237, 'short': 238, 'fire': 239, 'talk': 240, 'town': 241, 'wont': 242, 'happy': 243, 'often': 244, 'kind': 245, 'walked': 246, 'captain': 247, 'work': 248, 'black': 249, 'spoke': 250, 'within': 251, 'observed': 252, 'aunt': 253, 'girl': 254, 'window': 255, 'street': 256, 'dead': 257, 'fact': 258, 'dark': 259, 'fellow': 260, 'child': 261, 'either': 262, 'full': 263, 'theres': 264, 'hardly': 265, 'cant': 266, 'near': 267, 'others': 268, 'possible': 269, 'known': 270, 'call': 271, 'fell': 272, 'reason': 273, 'given': 274, 'feel': 275, 'ah': 276, 'times': 277, 'used': 278, 'ran': 279, 'five': 280, 'silence': 281, 'certain': 282, 'kept': 283, 'chair': 284, 'ready': 285, 'smile': 286, 'person': 287, 'bed': 288, 'death': 289, 'rest': 290, 'struck': 291, 'clear': 292, 'taking': 293, 'white': 294, 'sometimes': 295, 'didnt': 296, 'lost': 297, 'feet': 298, 'four': 299, 'appeared': 300, 'also': 301, 'thousand': 302, 'turn': 303, 'glad': 304, 'mine': 305, 'large': 306, 'strong': 307, 'country': 308, 'hold': 309, 'means': 310, 'hundred': 311, 'wanted': 312, 'along': 313, 'high': 314, 'opened': 315, 'pleasure': 316, 'followed': 317, 'making': 318, 'deal': 319, 'hard': 320, 'held': 321, 'continued': 322, 'subject': 323, 'second': 324, 'afterwards': 325, 'feeling': 326, 'ten': 327, 'bring': 328, 'minutes': 329, 'show': 330, 'london': 331, 'saying': 332, 'met': 333, 'fear': 334, 'state': 335, 'hes': 336, 'need': 337, 'pretty': 338, 'truth': 339, 'across': 340, 'forward': 341, 'gentlemen': 342, 'thinking': 343, 'care': 344, 'company': 345, 'corner': 346, 'run': 347, 'silent': 348, 'walk': 349, 'joe': 350, 'close': 351, 'tomorrow': 352, 'sent': 353, 'able': 354, 'cold': 355, 'eye': 356, 'laughed': 357, 'ivan': 358, 'turning': 359, 'low': 360, 'body': 361, 'late': 362, 'use': 363, 'account': 364, 'sitting': 365, 'interest': 366, 'became': 367, 'happened': 368, 'live': 369, 'ought': 370, 'sit': 371, 'son': 372, 'children': 373, 'return': 374, 'instant': 375, 'nature': 376, 'standing': 377, 'hours': 378, 'water': 379, 'whose': 380, 'repeated': 381, 'dare': 382, 'sight': 383, 'opinion': 384, 'talking': 385, 'seeing': 386, 'story': 387, 'bad': 388, 'feelings': 389, 'arms': 390, 'character': 391, 'sound': 392, 'attention': 393, 'simply': 394, 'therefore': 395, 'ago': 396, 'object': 397, 'please': 398, 'youre': 399, 'ground': 400, 'laughing': 401, 'surprise': 402, 'arm': 403, 'beyond': 404, 'paper': 405, 'stopped': 406, 'tried': 407, 'none': 408, 'visit': 409, 'different': 410, 'knows': 411, 'minute': 412, 'thank': 413, 'past': 414, 'drew': 415, 'several': 416, 'blood': 417, 'change': 418, 'husband': 419, 'whats': 420, 'immediately': 421, 'speaking': 422, 'conversation': 423, 'today': 424, 'expression': 425, 'hair': 426, 'laid': 427, 'impossible': 428, 'secret': 429, 'sorry': 430, 'stay': 431, 'sudden': 432, 'party': 433, 'soul': 434, 'stand': 435, 'youve': 436, 'wonder': 437, 'bear': 438, 'neither': 439, 'received': 440, 'appearance': 441, 'carried': 442, 'creature': 443, 'longer': 444, 'youll': 445, 'pass': 446, 'year': 447, 'angry': 448, 'lips': 449, 'besides': 450, 'red': 451, 'deep': 452, 'married': 453, 'wait': 454, 'purpose': 455, 'seems': 456, 'sense': 457, 'fine': 458, 'front': 459, 'road': 460, 'tears': 461, 'honour': 462, 'power': 463, 'six': 464, 'yesterday': 465, 'carriage': 466, 'waiting': 467, 'beside': 468, 'led': 469, 'order': 470, 'entered': 471, 'daughter': 472, 'forth': 473, 'quiet': 474, 'seem': 475, 'perfectly': 476, 'likely': 477, 'note': 478, 'straight': 479, 'early': 480, 'week': 481, 'jane': 482, 'later': 483, 'sake': 484, 'laugh': 485, 'write': 486, 'fancy': 487, 'getting': 488, 'broke': 489, 'lying': 490, 'step': 491, 'wrong': 492, 'exactly': 493, 'common': 494, 'showed': 495, 'reached': 496, 'spirits': 497, 'dr': 498, 'meant': 499, 'surprised': 500, 'thoughts': 501, 'acquaintance': 502, 'usual': 503, 'wall': 504, 'save': 505, 'meet': 506, 'oclock': 507, 'spite': 508, 'companion': 509, 'imagine': 510, 'become': 511, 'comes': 512, 'cut': 513, 'dinner': 514, 'pale': 515, 'wind': 516, 'expected': 517, 'assure': 518, 'ladies': 519, 'position': 520, 'raised': 521, 'remained': 522, 'talked': 523, 'uncle': 524, 'walking': 525, 'broken': 526, 'foot': 527, 'pleased': 528, 'stepan': 529, 'entirely': 530, 'spirit': 531, 'trouble': 532, 'floor': 533, 'happiness': 534, 'mans': 535, 'earth': 536, 'ha': 537, 'heavy': 538, 'cry': 539, 'months': 540, 'shook': 541, 'caught': 542, 'particular': 543, 'living': 544, 'cause': 545, 'forgive': 546, 'listen': 547, 'wished': 548, 'surely': 549, 'try': 550, 'whatever': 551, 'anxious': 552, 'beginning': 553, 'chance': 554, 'pray': 555, 'thus': 556, 'moved': 557, 'real': 558, 'garden': 559, 'tone': 560, 'inquired': 561, 'horse': 562, 'worth': 563, 'remarked': 564, 'begin': 565, 'circumstances': 566, 'fathers': 567, 'allow': 568, 'natural': 569, 'occasion': 570, 'police': 571, 'women': 572, 'madame': 573, 'notice': 574, 'sea': 575, 'shoulder': 576, 'steps': 577, 'exclaimed': 578, 'fair': 579, 'marriage': 580, 'send': 581, 'sleep': 582, 'dora': 583, 'danger': 584, 'directly': 585, 'lived': 586, 'murder': 587, 'society': 588, 'loved': 589, 'obliged': 590, 'running': 591, 'die': 592, 'giving': 593, 'glass': 594, 'probably': 595, 'slowly': 596, 'worse': 597, 'although': 598, 'figure': 599, 'latter': 600, 'lie': 601, 'mouth': 602, 'nay': 603, 'whispered': 604, 'except': 605, 'line': 606, 'length': 607, 'listened': 608, 'roubles': 609, 'twenty': 610, 'died': 611, 'fall': 612, 'serious': 613, 'watch': 614, 'wouldnt': 615, 'muttered': 616, 'particularly': 617, 'service': 618, 'knowledge': 619, 'trust': 620, 'arrived': 621, 'direction': 622, 'written': 623, 'fortune': 624, 'hat': 625, 'drink': 626, 'passage': 627, 'respect': 628, 'settled': 629, 'extraordinary': 630, 'forgotten': 631, 'heaven': 632, 'play': 633, 'quickly': 634, 'follow': 635, 'trying': 636, 'court': 637, 'distance': 638, 'seven': 639, 'forget': 640, 'necessary': 641, 'reply': 642, 'smiling': 643, 'boys': 644, 'comfort': 645, 'stop': 646, 'burst': 647, 'convinced': 648, 'news': 649, 'papers': 650, 'effect': 651, 'marry': 652, 'absolutely': 653, 'sisters': 654, 'stone': 655, 'moments': 656, 'terrible': 657, 'believed': 658, 'consider': 659, 'pay': 660, 'anyone': 661, 'view': 662, 'bit': 663, 'determined': 664, 'ones': 665, 'wild': 666, 'ashamed': 667, 'curiosity': 668, 'leaving': 669, 'meeting': 670, 'knowing': 671, 'third': 672, 'breath': 673, 'wine': 674, 'duty': 675, 'especially': 676, 'smiled': 677, 'changed': 678, 'closed': 679, 'engaged': 680, 'scarcely': 681, 'situation': 682, 'instantly': 683, 'madam': 684, 'seat': 685, 'shouted': 686, 'book': 687, 'judge': 688, 'beg': 689, 'shaking': 690, 'anne': 691, 'aware': 692, 'nonsense': 693, 'silver': 694, 'evidently': 695, 'excuse': 696, 'instead': 697, 'stairs': 698, 'fodin': 699, 'easy': 700, 'nearly': 701, 'started': 702, 'age': 703, 'beautiful': 704, 'expect': 705, 'fit': 706, 'letters': 707, 'quick': 708, 'supposed': 709, 'hall': 710, 'public': 711, 'english': 712, 'bound': 713, 'box': 714, 'couldnt': 715, 'desire': 716, 'future': 717, 'nobody': 718, 'twice': 719, 'horses': 720, 'looks': 721, 'office': 722, 'shut': 723, 'understood': 724, 'excellent': 725, 'fixed': 726, 'pleasant': 727, 'presence': 728, 'church': 729, 'grew': 730, 'scene': 731, 'agreeable': 732, 'dropped': 733, 'evidence': 734, 'glance': 735, 'pulled': 736, 'questions': 737, 'threw': 738, 'servant': 739, 'carry': 740, 'contrary': 741, 'england': 742, 'plain': 743, 'sign': 744, 'somewhat': 745, 'spoken': 746, 'tonight': 747, 'frightened': 748, 'human': 749, 'former': 750, 'sun': 751, 'train': 752, 'outside': 753, 'confidence': 754, 'difficult': 755, 'gate': 756, 'affection': 757, 'greater': 758, 'jew': 759, 'fresh': 760, 'strength': 761, 'windows': 762, 'appear': 763, 'dreadful': 764, 'mad': 765, 'observe': 766, 'paid': 767, 'safe': 768, 'tea': 769, 'clothes': 770, 'top': 771, 'cross': 772, 'fool': 773, 'farther': 774, 'green': 775, 'miles': 776, 'reading': 777, 'sofa': 778, 'delighted': 779, 'devil': 780, 'form': 781, 'free': 782, 'private': 783, 'shes': 784, 'speech': 785, 'pride': 786, 'spot': 787, 'stranger': 788, 'tall': 789, 'bright': 790, 'countenance': 791, 'evil': 792, 'dress': 793, 'number': 794, 'prisoner': 795, 'remembered': 796, 'single': 797, 'easily': 798, 'influence': 799, 'grave': 800, 'brothers': 801, 'ears': 802, 'facts': 803, 'mention': 804, 'occurred': 805, 'piece': 806, 'satisfaction': 807, 'dressed': 808, 'handsome': 809, 'offer': 810, 'rooms': 811, 'someone': 812, 'quarter': 813, 'complete': 814, 'drawn': 815, 'fond': 816, 'journey': 817, 'pity': 818, 'shoulders': 819, 'touch': 820, 'wood': 821, 'crime': 822, 'curious': 823, 'spent': 824, 'terror': 825, 'important': 826, 'shot': 827, 'beauty': 828, 'dog': 829, 'tongue': 830, 'considered': 831, 'mere': 832, 'presently': 833, 'proud': 834, 'waited': 835, 'begun': 836, 'candle': 837, 'horror': 838, 'hurried': 839, 'promise': 840, 'decided': 841, 'hoped': 842, 'maam': 843, 'pip': 844, 'st': 845, 'break': 846, 'fingers': 847, 'meaning': 848, 'crowd': 849, 'knees': 850, 'thrown': 851, 'extremely': 852, 'faces': 853, 'hell': 854, 'makes': 855, 'pain': 856, 'quietly': 857, 'address': 858, 'altogether': 859, 'merely': 860, 'nearer': 861, 'pause': 862, 'possibly': 863, 'putting': 864, 'trembling': 865, 'explain': 866, 'explanation': 867, 'joy': 868, 'unhappy': 869, 'act': 870, 'anger': 871, 'confess': 872, 'darkness': 873, 'keeping': 874, 'rushed': 875, 'telling': 876, 'wrote': 877, 'explained': 878, 'interrupted': 879, 'satisfied': 880, 'blue': 881, 'interesting': 882, 'passing': 883, 'perfect': 884, 'rising': 885, 'sharp': 886, 'aloud': 887, 'following': 888, 'kindness': 889, 'mentioned': 890, 'opportunity': 891, 'coat': 892, 'considerable': 893, 'difficulty': 894, 'drunk': 895, 'hearing': 896, 'hurry': 897, 'shadow': 898, 'action': 899, 'alarm': 900, 'justice': 901, 'killed': 902, 'lad': 903, 'mothers': 904, 'favour': 905, 'hot': 906, 'id': 907, 'ship': 908, 'weak': 909, 'fast': 910, 'force': 911, 'holding': 912, 'around': 913, 'nigel': 914, 'noticed': 915, 'thin': 916, 'bless': 917, 'eight': 918, 'importance': 919, 'trees': 920, 'asking': 921, 'de': 922, 'isnt': 923, 'manners': 924, 'bell': 925, 'conduct': 926, 'empty': 927, 'haste': 928, 'hopes': 929, 'lose': 930, 'matters': 931, 'rich': 932, 'ay': 933, 'completely': 934, 'delight': 935, 'events': 936, 'girls': 937, 'liked': 938, 'regard': 939, 'clerk': 940, 'knight': 941, 'professor': 942, 'village': 943, 'chief': 944, 'couple': 945, 'express': 946, 'impression': 947, 'information': 948, 'covered': 949, 'faith': 950, 'streets': 951, 'weeks': 952, 'writing': 953, 'legs': 954, 'neck': 955, 'pointed': 956, 'remarkable': 957, 'special': 958, 'books': 959, 'clearly': 960, 'drive': 961, 'degree': 962, 'glanced': 963, 'greatest': 964, 'hill': 965, 'honest': 966, 'move': 967, 'peace': 968, 'prepared': 969, 'river': 970, 'advantage': 971, 'allowed': 972, 'blow': 973, 'breakfast': 974, 'broad': 975, 'goes': 976, 'gold': 977, 'guard': 978, 'kill': 979, 'listening': 980, 'shame': 981, 'breast': 982, 'finger': 983, 'path': 984, 'em': 985, 'equal': 986, 'finding': 987, 'guess': 988, 'lamp': 989, 'simple': 990, 'temper': 991, 'youth': 992, 'admit': 993, 'draw': 994, 'expressed': 995, 'grey': 996, 'lead': 997, 'middle': 998, 'aside': 999, 'hath': 1000, 'learned': 1001, 'seized': 1002, 'crying': 1003, 'french': 1004, 'month': 1005, 'pair': 1006, 'promised': 1007, 'touched': 1008, 'condition': 1009, 'astonishment': 1010, 'drawing': 1011, 'everybody': 1012, 'filled': 1013, 'pounds': 1014, 'actually': 1015, 'boat': 1016, 'formed': 1017, 'havent': 1018, 'land': 1019, 'lives': 1020, 'mistaken': 1021, 'picture': 1022, 'singular': 1023, 'unable': 1024, 'conscious': 1025, 'consequence': 1026, 'elder': 1027, 'gentle': 1028, 'remain': 1029, 'visitor': 1030, 'welcome': 1031, 'yellow': 1032, 'beat': 1033, 'kindly': 1034, 'noble': 1035, 'study': 1036, 'suffering': 1037, 'twelve': 1038, 'vain': 1039, 'warm': 1040, 'watching': 1041, 'whisper': 1042, 'amazement': 1043, 'bent': 1044, 'drove': 1045, 'ear': 1046, 'eh': 1047, 'excitement': 1048, 'nose': 1049, 'sooner': 1050, 'affair': 1051, 'cast': 1052, 'catch': 1053, 'excited': 1054, 'fashion': 1055, 'loud': 1056, 'mark': 1057, 'memory': 1058, 'sweet': 1059, 'dream': 1060, 'forced': 1061, 'laughter': 1062, 'law': 1063, 'noise': 1064, 'otherwise': 1065, 'russian': 1066, 'swear': 1067, 'bow': 1068, 'unless': 1069, 'afternoon': 1070, 'asleep': 1071, 'board': 1072, 'comfortable': 1073, 'eat': 1074, 'meanwhile': 1075, 'placed': 1076, 'school': 1077, 'stared': 1078, 'thick': 1079, 'blame': 1080, 'escape': 1081, 'opposite': 1082, 'pardon': 1083, 'staring': 1084, 'alive': 1085, 'finished': 1086, 'heads': 1087, 'health': 1088, 'share': 1089, 'somewhere': 1090, 'start': 1091, 'anybody': 1092, 'learn': 1093, 'proper': 1094, 'reach': 1095, 'stupid': 1096, 'suffered': 1097, 'worthy': 1098, 'hurt': 1099, 'spare': 1100, 'watched': 1101, 'abroad': 1102, 'attempt': 1103, 'big': 1104, 'daughters': 1105, 'dull': 1106, 'game': 1107, 'huge': 1108, 'lies': 1109, 'nine': 1110, 'station': 1111, 'teeth': 1112, 'despair': 1113, 'exceedingly': 1114, 'growing': 1115, 'instance': 1116, 'key': 1117, 'plan': 1118, 'prove': 1119, 'seated': 1120, 'moving': 1121, 'sensible': 1122, 'servants': 1123, 'consideration': 1124, 'dignity': 1125, 'finally': 1126, 'greatly': 1127, 'highly': 1128, 'paused': 1129, 'rain': 1130, 'youd': 1131, 'capable': 1132, 'command': 1133, 'declared': 1134, 'extreme': 1135, 'fault': 1136, 'lines': 1137, 'remark': 1138, 'softly': 1139, 'suspicion': 1140, 'upstairs': 1141, 'ways': 1142, 'addressing': 1143, 'colour': 1144, 'doctors': 1145, 'doors': 1146, 'hung': 1147, 'succeeded': 1148, 'weather': 1149, 'brown': 1150, 'calling': 1151, 'clever': 1152, 'interested': 1153, 'lawyer': 1154, 'pipe': 1155, 'throw': 1156, 'walls': 1157, 'agreed': 1158, 'due': 1159, 'goodbye': 1160, 'happen': 1161, 'innocent': 1162, 'officer': 1163, 'positively': 1164, 'receive': 1165, 'circumstance': 1166, 'houses': 1167, 'inspector': 1168, 'loss': 1169, 'neighbourhood': 1170, 'opening': 1171, 'persons': 1172, 'pointing': 1173, 'rough': 1174, 'uttered': 1175, 'wasnt': 1176, 'worst': 1177, 'boots': 1178, 'companions': 1179, 'dangerous': 1180, 'difference': 1181, 'glancing': 1182, 'king': 1183, 'peculiar': 1184, 'shown': 1185, 'suffer': 1186, 'understanding': 1187, 'wonderful': 1188, 'add': 1189, 'behaviour': 1190, 'bodinm': 1191, 'confusion': 1192, 'conviction': 1193, 'mystery': 1194, 'painful': 1195, 'uriah': 1196, 'wide': 1197, 'advice': 1198, 'cousin': 1199, 'falling': 1200, 'gazed': 1201, 'heavens': 1202, 'affairs': 1203, 'arrival': 1204, 'experience': 1205, 'iron': 1206, 'knife': 1207, 'mistake': 1208, 'notes': 1209, 'anxiety': 1210, 'apparently': 1211, 'blind': 1212, 'elliot': 1213, 'evident': 1214, 'harm': 1215, 'history': 1216, 'jack': 1217, 'offered': 1218, 'seriously': 1219, 'sprang': 1220, 'violent': 1221, 'aint': 1222, 'cries': 1223, 'features': 1224, 'lower': 1225, 'nervous': 1226, 'pursued': 1227, 'bowed': 1228, 'joined': 1229, 'places': 1230, 'proved': 1231, 'ring': 1232, 'addressed': 1233, 'carefully': 1234, 'charge': 1235, 'crossed': 1236, 'fate': 1237, 'intention': 1238, 'maid': 1239, 'terms': 1240, 'avoid': 1241, 'fifty': 1242, 'friendly': 1243, 'habit': 1244, 'heres': 1245, 'regret': 1246, 'wants': 1247, 'emotion': 1248, 'plainly': 1249, 'sick': 1250, 'sides': 1251, 'thou': 1252, 'uneasy': 1253, 'wore': 1254, 'awful': 1255, 'bottle': 1256, 'conclusion': 1257, 'eager': 1258, 'engagement': 1259, 'message': 1260, 'park': 1261, 'throat': 1262, 'enter': 1263, 'generally': 1264, 'ideas': 1265, 'prison': 1266, 'resolved': 1267, 'slight': 1268, 'von': 1269, 'cap': 1270, 'city': 1271, 'ended': 1272, 'fairly': 1273, 'kissed': 1274, 'points': 1275, 'tired': 1276, 'bath': 1277, 'bill': 1278, 'conscience': 1279, 'drinking': 1280, 'fellows': 1281, 'grown': 1282, 'handed': 1283, 'lighted': 1284, 'locked': 1285, 'rise': 1286, 'roof': 1287, 'taste': 1288, 'utmost': 1289, 'earnest': 1290, 'gods': 1291, 'kiss': 1292, 'kitchen': 1293, 'snow': 1294, 'value': 1295, 'weary': 1296, 'alarmed': 1297, 'distant': 1298, 'horrible': 1299, 'accept': 1300, 'continually': 1301, 'everyone': 1302, 'fight': 1303, 'gradually': 1304, 'miserable': 1305, 'narrow': 1306, 'refuse': 1307, 'witness': 1308, 'ball': 1309, 'bank': 1310, 'cases': 1311, 'deeply': 1312, 'ease': 1313, 'effort': 1314, 'inquiry': 1315, 'jumped': 1316, 'naturally': 1317, 'precious': 1318, 'resumed': 1319, 'stick': 1320, 'chest': 1321, 'dance': 1322, 'inside': 1323, 'pressed': 1324, 'property': 1325, 'returning': 1326, 'sum': 1327, 'voices': 1328, 'admiration': 1329, 'agitation': 1330, 'guilty': 1331, 'proceeded': 1332, 'proof': 1333, 'squire': 1334, 'wooden': 1335, 'feared': 1336, 'fifteen': 1337, 'fully': 1338, 'hanging': 1339, 'nodded': 1340, 'suit': 1341, 'superior': 1342, 'yard': 1343, 'busy': 1344, 'choice': 1345, 'higher': 1346, 'lodge': 1347, 'paris': 1348, 'personal': 1349, 'possession': 1350, 'princes': 1351, 'shining': 1352, 'somebody': 1353, 'success': 1354, 'breaking': 1355, 'cards': 1356, 'ceased': 1357, 'doesnt': 1358, 'ere': 1359, 'prevent': 1360, 'repeat': 1361, 'appears': 1362, 'calm': 1363, 'details': 1364, 'distress': 1365, 'equally': 1366, 'harry': 1367, 'hearts': 1368, 'inn': 1369, 'played': 1370, 'respectable': 1371, 'seek': 1372, 'shop': 1373, 'slept': 1374, 'smith': 1375, 'unfortunate': 1376, 'approached': 1377, 'concerned': 1378, 'credit': 1379, 'leaning': 1380, 'mercy': 1381, 'persuaded': 1382, 'presented': 1383, 'worked': 1384, 'wretched': 1385, 'absence': 1386, 'according': 1387, 'carrying': 1388, 'consciousness': 1389, 'murdered': 1390, 'removed': 1391, 'bread': 1392, 'favourite': 1393, 'flew': 1394, 'forehead': 1395, 'friendship': 1396, 'rejoined': 1397, 'relations': 1398, 'relief': 1399, 'resolution': 1400, 'sad': 1401, 'spring': 1402, 'suspect': 1403, 'treasure': 1404, 'arranged': 1405, 'assured': 1406, 'coach': 1407, 'cruel': 1408, 'delightful': 1409, 'existence': 1410, 'forgot': 1411, 'grief': 1412, 'hotel': 1413, 'leaned': 1414, 'merry': 1415, 'result': 1416, 'setting': 1417, 'smoke': 1418, 'stones': 1419, 'wishes': 1420, 'womans': 1421, 'burning': 1422, 'cab': 1423, 'charming': 1424, 'chodinger': 1425, 'clean': 1426, 'described': 1427, 'false': 1428, 'flat': 1429, 'informed': 1430, 'lot': 1431, 'picked': 1432, 'regular': 1433, 'sank': 1434, 'somehow': 1435, 'sword': 1436, 'acquainted': 1437, 'begged': 1438, 'consent': 1439, 'courage': 1440, 'forest': 1441, 'marked': 1442, 'moor': 1443, 'orders': 1444, 'saved': 1445, 'scarce': 1446, 'whenever': 1447, 'driven': 1448, 'edge': 1449, 'hurriedly': 1450, 'judgment': 1451, 'nice': 1452, 'parted': 1453, 'request': 1454, 'ride': 1455, 'serve': 1456, 'suggested': 1457, 'unknown': 1458, 'dared': 1459, 'dozen': 1460, 'holy': 1461, 'impatience': 1462, 'liberty': 1463, 'post': 1464, 'stretched': 1465, 'beating': 1466, 'cottage': 1467, 'eagerly': 1468, 'firmly': 1469, 'foolish': 1470, 'illness': 1471, 'melancholy': 1472, 'price': 1473, 'anyway': 1474, 'apart': 1475, 'attack': 1476, 'beneath': 1477, 'claim': 1478, 'dirty': 1479, 'disappeared': 1480, 'disposed': 1481, 'entrance': 1482, 'fever': 1483, 'goodness': 1484, 'intelligence': 1485, 'raising': 1486, 'russia': 1487, 'bringing': 1488, 'concealed': 1489, 'discovered': 1490, 'drawingroom': 1491, 'dry': 1492, 'leading': 1493, 'maybe': 1494, 'murmured': 1495, 'observation': 1496, 'obvious': 1497, 'period': 1498, 'tree': 1499, 'bridge': 1500, 'chamber': 1501, 'criminal': 1502, 'drop': 1503, 'flushed': 1504, 'indignation': 1505, 'intended': 1506, 'knocked': 1507, 'movement': 1508, 'murderer': 1509, 'nephew': 1510, 'quarrel': 1511, 'south': 1512, 'thrust': 1513, 'wet': 1514, 'agree': 1515, 'cheerful': 1516, 'disgrace': 1517, 'example': 1518, 'expecting': 1519, 'mysterious': 1520, 'rage': 1521, 'square': 1522, 'various': 1523, 'wondering': 1524, 'conceal': 1525, 'forty': 1526, 'gratitude': 1527, 'join': 1528, 'lately': 1529, 'laying': 1530, 'misery': 1531, 'praise': 1532, 'report': 1533, 'sky': 1534, 'strike': 1535, 'working': 1536, 'worn': 1537, 'absurd': 1538, 'born': 1539, 'centre': 1540, 'cheeks': 1541, 'davy': 1542, 'faint': 1543, 'priest': 1544, 'spend': 1545, 'style': 1546, 'suspected': 1547, 'tom': 1548, 'wickfield': 1549, 'younger': 1550, 'article': 1551, 'assistance': 1552, 'beard': 1553, 'buried': 1554, 'circle': 1555, 'considering': 1556, 'downstairs': 1557, 'flung': 1558, 'france': 1559, 'imagined': 1560, 'leg': 1561, 'mistress': 1562, 'peasant': 1563, 'theory': 1564, 'usually': 1565, 'desperate': 1566, 'flying': 1567, 'heartily': 1568, 'match': 1569, 'moscow': 1570, 'recollect': 1571, 'search': 1572, 'thirty': 1573, 'truly': 1574, 'vanity': 1575, 'admitted': 1576, 'bore': 1577, 'caused': 1578, 'declare': 1579, 'delay': 1580, 'deny': 1581, 'disposition': 1582, 'drank': 1583, 'occupied': 1584, 'ordinary': 1585, 'raise': 1586, 'recovered': 1587, 'slow': 1588, 'striking': 1589, 'angrily': 1590, 'baby': 1591, 'bedroom': 1592, 'bitter': 1593, 'connection': 1594, 'dearest': 1595, 'desired': 1596, 'eleven': 1597, 'fail': 1598, 'gloomy': 1599, 'grateful': 1600, 'hadnt': 1601, 'intently': 1602, 'partly': 1603, 'produced': 1604, 'ruin': 1605, 'stepped': 1606, 'thoroughly': 1607, 'trial': 1608, 'woods': 1609, 'amiable': 1610, 'angel': 1611, 'authority': 1612, 'bag': 1613, 'bearing': 1614, 'hate': 1615, 'island': 1616, 'passion': 1617, 'soft': 1618, 'steady': 1619, 'upper': 1620, 'war': 1621, 'advanced': 1622, 'choose': 1623, 'concern': 1624, 'concluded': 1625, 'examined': 1626, 'hastily': 1627, 'hatred': 1628, 'masters': 1629, 'music': 1630, 'podincutor': 1631, 'pushed': 1632, 'rang': 1633, 'rate': 1634, 'reflection': 1635, 'served': 1636, 'stopping': 1637, 'tilney': 1638, 'west': 1639, 'winter': 1640, 'alas': 1641, 'grow': 1642, 'immediate': 1643, 'lise': 1644, 'parts': 1645, 'showing': 1646, 'summer': 1647, 'thee': 1648, 'thief': 1649, 'wondered': 1650, 'astonished': 1651, 'bosom': 1652, 'bought': 1653, 'dancing': 1654, 'depend': 1655, 'difficulties': 1656, 'education': 1657, 'knee': 1658, 'retired': 1659, 'thanks': 1660, 'trace': 1661, 'affected': 1662, 'brave': 1663, 'committed': 1664, 'direct': 1665, 'disappointment': 1666, 'dying': 1667, 'event': 1668, 'fly': 1669, 'fortnight': 1670, 'gazing': 1671, 'gently': 1672, 'imagination': 1673, 'interview': 1674, 'lucy': 1675, 'midst': 1676, 'saint': 1677, 'shoot': 1678, 'statement': 1679, 'unexpected': 1680, 'weakness': 1681, 'attached': 1682, 'beforehand': 1683, 'brain': 1684, 'failed': 1685, 'gained': 1686, 'heels': 1687, 'motive': 1688, 'perceive': 1689, 'pross': 1690, 'quoth': 1691, 'size': 1692, 'slightest': 1693, 'slipped': 1694, 'speed': 1695, 'weight': 1696, 'bare': 1697, 'bundle': 1698, 'capital': 1699, 'contempt': 1700, 'earnestly': 1701, 'emly': 1702, 'familiar': 1703, 'fancied': 1704, 'ghost': 1705, 'hang': 1706, 'helped': 1707, 'inclined': 1708, 'luck': 1709, 'odd': 1710, 'reasons': 1711, 'required': 1712, 'sentence': 1713, 'settle': 1714, 'sharply': 1715, 'shone': 1716, 'space': 1717, 'strongly': 1718, 'yards': 1719, 'attachment': 1720, 'departure': 1721, 'firm': 1722, 'humour': 1723, 'impatiently': 1724, 'inclination': 1725, 'increased': 1726, 'nearest': 1727, 'patience': 1728, 'trotwood': 1729, 'visitors': 1730, 'advance': 1731, 'building': 1732, 'envelope': 1733, 'german': 1734, 'height': 1735, 'hint': 1736, 'lane': 1737, 'north': 1738, 'observing': 1739, 'official': 1740, 'rode': 1741, 'shortly': 1742, 'supper': 1743, 'swiftly': 1744, 'warmly': 1745, 'wise': 1746, 'agitated': 1747, 'anywhere': 1748, 'archers': 1749, 'christmas': 1750, 'creatures': 1751, 'demanded': 1752, 'double': 1753, 'gives': 1754, 'ham': 1755, 'heavily': 1756, 'incident': 1757, 'mile': 1758, 'moon': 1759, 'pistol': 1760, 'scandal': 1761, 'sigh': 1762, 'spy': 1763, 'accepted': 1764, 'doorway': 1765, 'fears': 1766, 'handkerchief': 1767, 'hush': 1768, 'nights': 1769, 'patient': 1770, 'remains': 1771, 'song': 1772, 'sorrow': 1773, 'sounds': 1774, 'stronger': 1775, 'adventure': 1776, 'bench': 1777, 'chosen': 1778, 'fierce': 1779, 'loves': 1780, 'mamma': 1781, 'remembrance': 1782, 'rolled': 1783, 'unusual': 1784, 'careful': 1785, 'cart': 1786, 'club': 1787, 'connected': 1788, 'disturbed': 1789, 'east': 1790, 'estate': 1791, 'flight': 1792, 'generous': 1793, 'lantern': 1794, 'needed': 1795, 'persuade': 1796, 'powers': 1797, 'rapidly': 1798, 'readily': 1799, 'receiving': 1800, 'sympathy': 1801, 'useful': 1802, 'wounded': 1803, 'america': 1804, 'bar': 1805, 'birds': 1806, 'bold': 1807, 'energy': 1808, 'escaped': 1809, 'fro': 1810, 'gain': 1811, 'grace': 1812, 'language': 1813, 'material': 1814, 'overcome': 1815, 'paces': 1816, 'pen': 1817, 'refused': 1818, 'risk': 1819, 'shake': 1820, 'spread': 1821, 'venture': 1822, 'aye': 1823, 'chin': 1824, 'clock': 1825, 'exercise': 1826, 'fat': 1827, 'ordered': 1828, 'proposed': 1829, 'relieved': 1830, 'rock': 1831, 'scheme': 1832, 'sensation': 1833, 'shouldnt': 1834, 'silly': 1835, 'stands': 1836, 'theyre': 1837, 'utterly': 1838, 'vague': 1839, 'accident': 1840, 'beast': 1841, 'devoted': 1842, 'enemy': 1843, 'enjoyment': 1844, 'guests': 1845, 'highness': 1846, 'invited': 1847, 'lifted': 1848, 'mountain': 1849, 'nerves': 1850, 'parlour': 1851, 'propose': 1852, 'signs': 1853, 'soldier': 1854, 'treated': 1855, 'uneasiness': 1856, 'wear': 1857, 'accustomed': 1858, 'acting': 1859, 'art': 1860, 'buy': 1861, 'expectation': 1862, 'folk': 1863, 'freedom': 1864, 'guessed': 1865, 'impatient': 1866, 'names': 1867, 'parting': 1868, 'playing': 1869, 'prefer': 1870, 'princess': 1871, 'safety': 1872, 'shock': 1873, 'smallest': 1874, 'stout': 1875, 'thinks': 1876, 'throwing': 1877, 'announced': 1878, 'approaching': 1879, 'cousins': 1880, 'cunning': 1881, 'decision': 1882, 'delicate': 1883, 'disappointed': 1884, 'dread': 1885, 'monday': 1886, 'monk': 1887, 'objection': 1888, 'occasionally': 1889, 'pull': 1890, 'recalled': 1891, 'richard': 1892, 'roused': 1893, 'singing': 1894, 'undoubtedly': 1895, 'wound': 1896, 'affectionate': 1897, 'cleared': 1898, 'confused': 1899, 'describe': 1900, 'famous': 1901, 'gesture': 1902, 'golden': 1903, 'government': 1904, 'honor': 1905, 'intimate': 1906, 'invitation': 1907, 'lasted': 1908, 'lively': 1909, 'officers': 1910, 'rank': 1911, 'scattered': 1912, 'scoundrel': 1913, 'shore': 1914, 'solitary': 1915, 'triumph': 1916, 'unpleasant': 1917, 'violently': 1918, 'composure': 1919, 'dreams': 1920, 'hidden': 1921, 'interposed': 1922, 'job': 1923, 'leaves': 1924, 'notion': 1925, 'obviously': 1926, 'pressing': 1927, 'probable': 1928, 'retorted': 1929, 'score': 1930, 'suspicions': 1931, 'agony': 1932, 'dust': 1933, 'extent': 1934, 'finish': 1935, 'fur': 1936, 'george': 1937, 'gravely': 1938, 'habits': 1939, 'loudly': 1940, 'offended': 1941, 'papa': 1942, 'plans': 1943, 'pure': 1944, 'thoughtfully': 1945, 'wanting': 1946, 'wedding': 1947, 'advise': 1948, 'carton': 1949, 'compliment': 1950, 'continue': 1951, 'cost': 1952, 'decide': 1953, 'highest': 1954, 'kings': 1955, 'ladys': 1956, 'lock': 1957, 'lonely': 1958, 'particulars': 1959, 'pieces': 1960, 'previous': 1961, 'prospect': 1962, 'rid': 1963, 'soldiers': 1964, 'stayed': 1965, 'steadily': 1966, 'thy': 1967, 'warning': 1968, 'weve': 1969, 'willing': 1970, 'absolute': 1971, 'amid': 1972, 'attitude': 1973, 'brief': 1974, 'damn': 1975, 'description': 1976, 'detail': 1977, 'group': 1978, 'inquiries': 1979, 'lets': 1980, 'monastery': 1981, 'necessity': 1982, 'odined': 1983, 'profession': 1984, 'pronounced': 1985, 'relation': 1986, 'rule': 1987, 'shed': 1988, 'slip': 1989, 'strangely': 1990, 'subjects': 1991, 'sunday': 1992, 'takes': 1993, 'taught': 1994, 'weeping': 1995, 'accompanied': 1996, 'attended': 1997, 'bird': 1998, 'camp': 1999, 'delicacy': 2000, 'directed': 2001, 'drunken': 2002, 'hide': 2003, 'hm': 2004, 'main': 2005, 'openly': 2006, 'president': 2007, 'recall': 2008, 'sacrifice': 2009, 'savage': 2010, 'shape': 2011, 'sought': 2012, 'sunk': 2013, 'views': 2014, 'violence': 2015, 'aodin': 2016, 'bitterly': 2017, 'cheek': 2018, 'class': 2019, 'count': 2020, 'cover': 2021, 'driving': 2022, 'elbow': 2023, 'fortunate': 2024, 'hastened': 2025, 'hated': 2026, 'messenger': 2027, 'sin': 2028, 'solemn': 2029, 'sorts': 2030, 'staircase': 2031, 'student': 2032, 'warmth': 2033, 'arrow': 2034, 'attentions': 2035, 'belief': 2036, 'ceremony': 2037, 'christian': 2038, 'contents': 2039, 'counsel': 2040, 'darnay': 2041, 'expense': 2042, 'fetch': 2043, 'field': 2044, 'flashed': 2045, 'fury': 2046, 'introduced': 2047, 'loose': 2048, 'niece': 2049, 'porter': 2050, 'possessed': 2051, 'rodya': 2052, 'shadows': 2053, 'starting': 2054, 'staying': 2055, 'struggle': 2056, 'teach': 2057, 'torn': 2058, 'wishing': 2059, 'deserted': 2060, 'food': 2061, 'narrative': 2062, 'pillow': 2063, 'plenty': 2064, 'positive': 2065, 'practical': 2066, 'precisely': 2067, 'race': 2068, 'remarks': 2069, 'roared': 2070, 'shaken': 2071, 'shouting': 2072, 'signal': 2073, 'stern': 2074, 'theyll': 2075, 'trembled': 2076, 'unconscious': 2077, 'attend': 2078, 'brow': 2079, 'darling': 2080, 'employed': 2081, 'fearful': 2082, 'guest': 2083, 'heat': 2084, 'neighbours': 2085, 'offence': 2086, 'pace': 2087, 'reputation': 2088, 'rush': 2089, 'sing': 2090, 'tender': 2091, 'trade': 2092, 'troubled': 2093, 'afford': 2094, 'amusement': 2095, 'coarse': 2096, 'constant': 2097, 'daily': 2098, 'duties': 2099, 'flowers': 2100, 'furniture': 2101, 'honoured': 2102, 'joke': 2103, 'landlord': 2104, 'marrying': 2105, 'original': 2106, 'proceed': 2107, 'recollection': 2108, 'revolver': 2109, 'ridiculous': 2110, 'shout': 2111, 'similar': 2112, 'stream': 2113, 'suggestion': 2114, 'utter': 2115, 'visited': 2116, 'witnesses': 2117, 'calmly': 2118, 'cup': 2119, 'dine': 2120, 'freely': 2121, 'gathered': 2122, 'gray': 2123, 'impressed': 2124, 'lest': 2125, 'marie': 2126, 'measure': 2127, 'moreover': 2128, 'possibility': 2129, 'reference': 2130, 'seeming': 2131, 'seldom': 2132, 'track': 2133, 'trot': 2134, 'american': 2135, 'audience': 2136, 'blessing': 2137, 'deserve': 2138, 'dogs': 2139, 'dragged': 2140, 'eldest': 2141, 'intense': 2142, 'la': 2143, 'lads': 2144, 'lodging': 2145, 'lodgings': 2146, 'minds': 2147, 'moral': 2148, 'older': 2149, 'pains': 2150, 'partner': 2151, 'pick': 2152, 'practice': 2153, 'queer': 2154, 'reproach': 2155, 'senses': 2156, 'ships': 2157, 'smell': 2158, 'startled': 2159, 'yonder': 2160, 'aid': 2161, 'animal': 2162, 'archer': 2163, 'blessed': 2164, 'chain': 2165, 'deck': 2166, 'folded': 2167, 'grounds': 2168, 'honourable': 2169, 'ignorant': 2170, 'jim': 2171, 'powerful': 2172, 'recognised': 2173, 'support': 2174, 'tale': 2175, 'valley': 2176, 'walter': 2177, 'wearing': 2178, 'aunts': 2179, 'career': 2180, 'clara': 2181, 'communication': 2182, 'cool': 2183, 'cruncher': 2184, 'detective': 2185, 'enemies': 2186, 'everywhere': 2187, 'fish': 2188, 'host': 2189, 'jerry': 2190, 'limbs': 2191, 'lit': 2192, 'marks': 2193, 'medical': 2194, 'omer': 2195, 'progress': 2196, 'rocks': 2197, 'scream': 2198, 'simon': 2199, 'sternly': 2200, 'surrounded': 2201, 'thanked': 2202, 'touching': 2203, 'weapon': 2204, 'arrested': 2205, 'closely': 2206, 'compassion': 2207, 'crossing': 2208, 'date': 2209, 'dreadfully': 2210, 'flash': 2211, 'idle': 2212, 'indifference': 2213, 'insult': 2214, 'managed': 2215, 'maria': 2216, 'masr': 2217, 'misfortune': 2218, 'mountains': 2219, 'nurse': 2220, 'occasions': 2221, 'portion': 2222, 'press': 2223, 'purse': 2224, 'sending': 2225, 'severe': 2226, 'silas': 2227, 'sufficient': 2228, 'useless': 2229, 'victim': 2230, 'wandering': 2231, 'acted': 2232, 'active': 2233, 'built': 2234, 'card': 2235, 'catching': 2236, 'cloak': 2237, 'curse': 2238, 'disagreeable': 2239, 'discovery': 2240, 'eating': 2241, 'exact': 2242, 'glasses': 2243, 'household': 2244, 'indifferent': 2245, 'jealous': 2246, 'judged': 2247, 'peasants': 2248, 'permission': 2249, 'prisoners': 2250, 'pulling': 2251, 'regarded': 2252, 'seconds': 2253, 'secure': 2254, 'solemnly': 2255, 'sons': 2256, 'stage': 2257, 'tear': 2258, 'tied': 2259, 'varia': 2260, 'waiter': 2261, 'wicked': 2262, 'widow': 2263, 'abruptly': 2264, 'army': 2265, 'ashore': 2266, 'belonged': 2267, 'betrayed': 2268, 'civil': 2269, 'custom': 2270, 'deceived': 2271, 'divided': 2272, 'driver': 2273, 'endure': 2274, 'faltered': 2275, 'gracious': 2276, 'growled': 2277, 'learnt': 2278, 'mounted': 2279, 'perceived': 2280, 'remaining': 2281, 'ruined': 2282, 'rum': 2283, 'science': 2284, 'sheet': 2285, 'stole': 2286, 'suggest': 2287, 'amazed': 2288, 'approach': 2289, 'arrangements': 2290, 'betsey': 2291, 'borne': 2292, 'chose': 2293, 'clouds': 2294, 'cook': 2295, 'design': 2296, 'district': 2297, 'doubts': 2298, 'fill': 2299, 'hid': 2300, 'humble': 2301, 'insisted': 2302, 'knock': 2303, 'local': 2304, 'lovely': 2305, 'lover': 2306, 'mass': 2307, 'reasonable': 2308, 'rude': 2309, 'sees': 2310, 'smoking': 2311, 'sounded': 2312, 'steel': 2313, 'supposing': 2314, 'vast': 2315, 'whos': 2316, 'appeal': 2317, 'awake': 2318, 'battle': 2319, 'brandy': 2320, 'castle': 2321, 'desert': 2322, 'desk': 2323, 'directions': 2324, 'distinguished': 2325, 'elegant': 2326, 'gentlemans': 2327, 'heep': 2328, 'injured': 2329, 'likewise': 2330, 'mighty': 2331, 'owe': 2332, 'preparing': 2333, 'prevented': 2334, 'provided': 2335, 'rapid': 2336, 'thoughtful': 2337, 'tide': 2338, 'amused': 2339, 'becoming': 2340, 'confessed': 2341, 'correct': 2342, 'crown': 2343, 'damp': 2344, 'deed': 2345, 'dropping': 2346, 'examination': 2347, 'final': 2348, 'gasped': 2349, 'hed': 2350, 'helpless': 2351, 'hollow': 2352, 'hungry': 2353, 'immense': 2354, 'inquire': 2355, 'leisure': 2356, 'merchant': 2357, 'mischief': 2358, 'oath': 2359, 'objects': 2360, 'properly': 2361, 'seeking': 2362, 'sincerely': 2363, 'stir': 2364, 'system': 2365, 'trusted': 2366, 'turns': 2367, 'admire': 2368, 'anyhow': 2369, 'attentively': 2370, 'bones': 2371, 'ceiling': 2372, 'coffee': 2373, 'confession': 2374, 'creakle': 2375, 'dislike': 2376, 'distinctly': 2377, 'entering': 2378, 'fist': 2379, 'frequently': 2380, 'funeral': 2381, 'gown': 2382, 'gun': 2383, 'happily': 2384, 'husbands': 2385, 'insulted': 2386, 'motionless': 2387, 'problem': 2388, 'pursuit': 2389, 'saints': 2390, 'self': 2391, 'sell': 2392, 'shoes': 2393, 'sold': 2394, 'throughout': 2395, 'treat': 2396, 'answering': 2397, 'apartment': 2398, 'attracted': 2399, 'blush': 2400, 'cared': 2401, 'crushed': 2402, 'eyebrows': 2403, 'faithful': 2404, 'fatal': 2405, 'gets': 2406, 'hasnt': 2407, 'hesitation': 2408, 'humanity': 2409, 'larger': 2410, 'lip': 2411, 'march': 2412, 'missing': 2413, 'modern': 2414, 'newspaper': 2415, 'opinions': 2416, 'parties': 2417, 'portrait': 2418, 'principal': 2419, 'quarters': 2420, 'resentment': 2421, 'silently': 2422, 'simplicity': 2423, 'sincere': 2424, 'strangers': 2425, 'surface': 2426, 'vanished': 2427, 'waved': 2428, 'wholly': 2429, 'ancient': 2430, 'calls': 2431, 'consolation': 2432, 'countess': 2433, 'distressed': 2434, 'doubtless': 2435, 'exhausted': 2436, 'foreign': 2437, 'foul': 2438, 'grand': 2439, 'grass': 2440, 'hole': 2441, 'knocking': 2442, 'landlady': 2443, 'meantime': 2444, 'mist': 2445, 'named': 2446, 'reflected': 2447, 'ringing': 2448, 'sleeve': 2449, 'stare': 2450, 'task': 2451, 'tis': 2452, 'virtue': 2453, 'bending': 2454, 'clue': 2455, 'deceive': 2456, 'efforts': 2457, 'exist': 2458, 'farewell': 2459, 'figures': 2460, 'footsteps': 2461, 'fourth': 2462, 'gates': 2463, 'genius': 2464, 'genuine': 2465, 'hound': 2466, 'improved': 2467, 'income': 2468, 'indian': 2469, 'introduce': 2470, 'meat': 2471, 'monstrous': 2472, 'politeness': 2473, 'pretend': 2474, 'rare': 2475, 'roads': 2476, 'shelter': 2477, 'temple': 2478, 'tenderness': 2479, 'terribly': 2480, 'travelling': 2481, 'ugly': 2482, 'uncertain': 2483, 'unworthy': 2484, 'whistle': 2485, 'appointment': 2486, 'arrest': 2487, 'civility': 2488, 'clay': 2489, 'convict': 2490, 'enormous': 2491, 'established': 2492, 'folly': 2493, 'fools': 2494, 'forever': 2495, 'gleam': 2496, 'glory': 2497, 'interests': 2498, 'keen': 2499, 'louisa': 2500, 'loving': 2501, 'member': 2502, 'numerous': 2503, 'probability': 2504, 'punishment': 2505, 'recent': 2506, 'rested': 2507, 'roar': 2508, 'surprising': 2509, 'suspicious': 2510, 'tragedy': 2511, 'waistcoat': 2512, 'wake': 2513, 'yer': 2514, 'arrangement': 2515, 'assurance': 2516, 'beaten': 2517, 'benefit': 2518, 'burned': 2519, 'childhood': 2520, 'delivered': 2521, 'disgust': 2522, 'eagerness': 2523, 'earlier': 2524, 'englishman': 2525, 'establishment': 2526, 'fled': 2527, 'forgiveness': 2528, 'gaze': 2529, 'guide': 2530, 'mankind': 2531, 'merit': 2532, 'monster': 2533, 'owner': 2534, 'pleasing': 2535, 'polite': 2536, 'produce': 2537, 'province': 2538, 'reality': 2539, 'reminded': 2540, 'riding': 2541, 'separate': 2542, 'shant': 2543, 'struggling': 2544, 'supply': 2545, 'theyve': 2546, 'valuable': 2547, 'absent': 2548, 'acknowledged': 2549, 'apparent': 2550, 'apprehension': 2551, 'assist': 2552, 'base': 2553, 'beheld': 2554, 'cell': 2555, 'clasped': 2556, 'client': 2557, 'commission': 2558, 'compliments': 2559, 'contained': 2560, 'continual': 2561, 'esteem': 2562, 'et': 2563, 'hiding': 2564, 'hinted': 2565, 'hopeless': 2566, 'housekeeper': 2567, 'incapable': 2568, 'intimacy': 2569, 'jury': 2570, 'legal': 2571, 'lights': 2572, 'manage': 2573, 'mon': 2574, 'motion': 2575, 'pavement': 2576, 'poverty': 2577, 'professional': 2578, 'proposal': 2579, 'rope': 2580, 'scotland': 2581, 'screamed': 2582, 'spared': 2583, 'stiff': 2584, 'storm': 2585, 'theatre': 2586, 'urged': 2587, 'beach': 2588, 'champagne': 2589, 'cloud': 2590, 'composed': 2591, 'deadly': 2592, 'enjoy': 2593, 'errand': 2594, 'examine': 2595, 'fantastic': 2596, 'female': 2597, 'fields': 2598, 'fog': 2599, 'gossip': 2600, 'intentions': 2601, 'lizzy': 2602, 'mills': 2603, 'mud': 2604, 'nina': 2605, 'page': 2606, 'plunged': 2607, 'ragged': 2608, 'referred': 2609, 'risen': 2610, 'rolling': 2611, 'shirt': 2612, 'splendid': 2613, 'stars': 2614, 'swept': 2615, 'tavern': 2616, 'tore': 2617, 'totski': 2618, 'traces': 2619, 'unwilling': 2620, 'warn': 2621, 'waste': 2622, 'ach': 2623, 'acknowledge': 2624, 'argument': 2625, 'assented': 2626, 'bars': 2627, 'behold': 2628, 'bewildered': 2629, 'blank': 2630, 'cat': 2631, 'cigar': 2632, 'crowded': 2633, 'dashed': 2634, 'daylight': 2635, 'desirable': 2636, 'eternal': 2637, 'feeble': 2638, 'fired': 2639, 'frowning': 2640, 'furious': 2641, 'hitherto': 2642, 'hurrying': 2643, 'ignorance': 2644, 'intend': 2645, 'level': 2646, 'longed': 2647, 'musgrove': 2648, 'reward': 2649, 'satisfy': 2650, 'sentiment': 2651, 'sheep': 2652, 'shell': 2653, 'sore': 2654, 'stolen': 2655, 'stooped': 2656, 'tells': 2657, 'tellsons': 2658, 'vengeance': 2659, 'ventured': 2660, 'waving': 2661, 'worry': 2662, 'wretch': 2663, 'abandoned': 2664, 'accused': 2665, 'altered': 2666, 'armed': 2667, 'birth': 2668, 'breathing': 2669, 'curtain': 2670, 'ends': 2671, 'essential': 2672, 'examining': 2673, 'expressions': 2674, 'glimpse': 2675, 'grove': 2676, 'guardian': 2677, 'hills': 2678, 'increase': 2679, 'interval': 2680, 'intervals': 2681, 'irritation': 2682, 'keys': 2683, 'mutual': 2684, 'pistols': 2685, 'pound': 2686, 'poured': 2687, 'recognise': 2688, 'remind': 2689, 'respected': 2690, 'row': 2691, 'tones': 2692, 'trick': 2693, 'vexed': 2694, 'visits': 2695, 'york': 2696, 'awoke': 2697, 'belong': 2698, 'breathe': 2699, 'collar': 2700, 'collection': 2701, 'comprehend': 2702, 'dartle': 2703, 'determination': 2704, 'disease': 2705, 'e': 2706, 'employment': 2707, 'endeavoured': 2708, 'furnished': 2709, 'hesitated': 2710, 'highbury': 2711, 'jacques': 2712, 'jealousy': 2713, 'mama': 2714, 'nodding': 2715, 'proceedings': 2716, 'quivering': 2717, 'recommend': 2718, 'reserve': 2719, 'robbery': 2720, 'scientific': 2721, 'sergeant': 2722, 'sink': 2723, 'softened': 2724, 'timidly': 2725, 'tossed': 2726, 'unlike': 2727, 'abbey': 2728, 'adventures': 2729, 'anxiously': 2730, 'attending': 2731, 'believing': 2732, 'butler': 2733, 'caution': 2734, 'chairs': 2735, 'check': 2736, 'chiefly': 2737, 'coachman': 2738, 'coffin': 2739, 'corridor': 2740, 'definite': 2741, 'differently': 2742, 'encouragement': 2743, 'fastened': 2744, 'fitted': 2745, 'gift': 2746, 'guilt': 2747, 'intent': 2748, 'invalid': 2749, 'lake': 2750, 'leather': 2751, 'missed': 2752, 'noticing': 2753, 'outer': 2754, 'pole': 2755, 'protest': 2756, 'punch': 2757, 'realized': 2758, 'reflections': 2759, 'rights': 2760, 'sacred': 2761, 'season': 2762, 'signed': 2763, 'slightly': 2764, 'smiles': 2765, 'snapped': 2766, 'spectacles': 2767, 'stories': 2768, 'tail': 2769, 'tight': 2770, 'wealth': 2771, 'wot': 2772, 'wrapped': 2773, 'zossimov': 2774, 'actions': 2775, 'admired': 2776, 'attempted': 2777, 'awfully': 2778, 'awkward': 2779, 'bay': 2780, 'beadle': 2781, 'behaved': 2782, 'blew': 2783, 'blushing': 2784, 'characters': 2785, 'clearing': 2786, 'commons': 2787, 'compared': 2788, 'cursed': 2789, 'descended': 2790, 'domestic': 2791, 'duel': 2792, 'earnestness': 2793, 'easier': 2794, 'elderly': 2795, 'endeavour': 2796, 'exchanged': 2797, 'favourable': 2798, 'frame': 2799, 'heap': 2800, 'hit': 2801, 'infinitely': 2802, 'learning': 2803, 'lightly': 2804, 'madness': 2805, 'market': 2806, 'modest': 2807, 'neighbour': 2808, 'occasional': 2809, 'platform': 2810, 'presume': 2811, 'residence': 2812, 'secretary': 2813, 'secrets': 2814, 'shows': 2815, 'shrugged': 2816, 'speedily': 2817, 'toby': 2818, 'uncomfortable': 2819, 'wandered': 2820, 'accounts': 2821, 'chap': 2822, 'closer': 2823, 'coldly': 2824, 'complain': 2825, 'content': 2826, 'county': 2827, 'crimson': 2828, 'cure': 2829, 'current': 2830, 'cutting': 2831, 'defence': 2832, 'dismissed': 2833, 'exclamation': 2834, 'expectations': 2835, 'fix': 2836, 'flashing': 2837, 'furiously': 2838, 'generosity': 2839, 'happens': 2840, 'hoarse': 2841, 'involved': 2842, 'knights': 2843, 'leader': 2844, 'leaped': 2845, 'likes': 2846, 'marquis': 2847, 'matron': 2848, 'members': 2849, 'military': 2850, 'obey': 2851, 'occupation': 2852, 'perplexity': 2853, 'policeman': 2854, 'profound': 2855, 'randalls': 2856, 'restrain': 2857, 'sand': 2858, 'skin': 2859, 'sleeping': 2860, 'smart': 2861, 'social': 2862, 'speaker': 2863, 'suspense': 2864, 'swore': 2865, 'thankful': 2866, 'tower': 2867, 'trifle': 2868, 'united': 2869, 'visible': 2870, 'weapons': 2871, 'zametov': 2872, 'amongst': 2873, 'amount': 2874, 'amusing': 2875, 'arise': 2876, 'awakened': 2877, 'bade': 2878, 'begins': 2879, 'blushed': 2880, 'changes': 2881, 'clergyman': 2882, 'comparison': 2883, 'convince': 2884, 'debt': 2885, 'degrees': 2886, 'dim': 2887, 'eighteen': 2888, 'exchange': 2889, 'expedition': 2890, 'frenzy': 2891, 'glow': 2892, 'glowing': 2893, 'halfpast': 2894, 'happier': 2895, 'haunted': 2896, 'idiot': 2897, 'individual': 2898, 'induced': 2899, 'inner': 2900, 'keenly': 2901, 'linen': 2902, 'lofty': 2903, 'lucky': 2904, 'meal': 2905, 'method': 2906, 'murmur': 2907, 'occur': 2908, 'parents': 2909, 'parish': 2910, 'powder': 2911, 'prayer': 2912, 'puzzled': 2913, 'reckon': 2914, 'rendered': 2915, 'rogue': 2916, 'rubbing': 2917, 'rushing': 2918, 'succeed': 2919, 'sufficiently': 2920, 'swung': 2921, 'thousands': 2922, 'thunder': 2923, 'trousers': 2924, 'trunk': 2925, 'unnatural': 2926, 'unnecessary': 2927, 'variety': 2928, 'whispering': 2929, 'wit': 2930, 'aged': 2931, 'ale': 2932, 'assumed': 2933, 'breathless': 2934, 'brows': 2935, 'claims': 2936, 'commonplace': 2937, 'concerning': 2938, 'confined': 2939, 'constantly': 2940, 'control': 2941, 'deeper': 2942, 'dismal': 2943, 'distinguish': 2944, 'echoed': 2945, 'fits': 2946, 'formidable': 2947, 'gay': 2948, 'grasp': 2949, 'gravity': 2950, 'grin': 2951, 'hoping': 2952, 'hundreds': 2953, 'itll': 2954, 'keeps': 2955, 'mental': 2956, 'mustnt': 2957, 'peoples': 2958, 'qualities': 2959, 'recommended': 2960, 'relative': 2961, 'resemblance': 2962, 'resist': 2963, 'sinister': 2964, 'sober': 2965, 'string': 2966, 'torture': 2967, 'trap': 2968, 'upset': 2969, 'vexation': 2970, 'wave': 2971, 'wept': 2972, 'wildly': 2973, 'accordingly': 2974, 'appearing': 2975, 'applied': 2976, 'armchair': 2977, 'arrive': 2978, 'ate': 2979, 'badly': 2980, 'breathed': 2981, 'brute': 2982, 'checked': 2983, 'cheer': 2984, 'conveyed': 2985, 'delirium': 2986, 'encouraged': 2987, 'entreat': 2988, 'europe': 2989, 'forgiven': 2990, 'goodnatured': 2991, 'hunter': 2992, 'intelligent': 2993, 'obtained': 2994, 'paul': 2995, 'persisted': 2996, 'recover': 2997, 'saving': 2998, 'sentiments': 2999, 'separation': 3000, 'stuck': 3001, 'suicide': 3002, 'un': 3003, 'wherever': 3004, 'actual': 3005, 'addition': 3006, 'alike': 3007, 'annie': 3008, 'axe': 3009, 'beer': 3010, 'beggar': 3011, 'blows': 3012, 'brings': 3013, 'bushes': 3014, 'careless': 3015, 'central': 3016, 'certainty': 3017, 'charm': 3018, 'childish': 3019, 'communicate': 3020, 'congratulate': 3021, 'consult': 3022, 'convenient': 3023, 'dawn': 3024, 'decent': 3025, 'devils': 3026, 'distinction': 3027, 'document': 3028, 'dumb': 3029, 'excellency': 3030, 'faintly': 3031, 'governor': 3032, 'hence': 3033, 'image': 3034, 'inform': 3035, 'instructions': 3036, 'invite': 3037, 'jacket': 3038, 'joseph': 3039, 'justified': 3040, 'liberal': 3041, 'midnight': 3042, 'obliging': 3043, 'parsonage': 3044, 'passionate': 3045, 'protection': 3046, 'reader': 3047, 'represented': 3048, 'safely': 3049, 'saturday': 3050, 'shawl': 3051, 'skill': 3052, 'smooth': 3053, 'stirred': 3054, 'stroke': 3055, 'swift': 3056, 'troubles': 3057, 'tuesday': 3058, 'wasted': 3059, 'wifes': 3060, 'aboard': 3061, 'affections': 3062, 'amiss': 3063, 'anguish': 3064, 'articles': 3065, 'aspect': 3066, 'bargain': 3067, 'basket': 3068, 'belonging': 3069, 'brilliant': 3070, 'candles': 3071, 'capacity': 3072, 'characteristic': 3073, 'citizen': 3074, 'closing': 3075, 'comrades': 3076, 'confirmed': 3077, 'considerably': 3078, 'contemptuously': 3079, 'defend': 3080, 'den': 3081, 'departed': 3082, 'desodin': 3083, 'dined': 3084, 'dish': 3085, 'eaten': 3086, 'embarrassed': 3087, 'embarrassment': 3088, 'enjoyed': 3089, 'exclamations': 3090, 'exposed': 3091, 'expressive': 3092, 'families': 3093, 'farm': 3094, 'follows': 3095, 'forms': 3096, 'gloom': 3097, 'halfway': 3098, 'hideous': 3099, 'horrid': 3100, 'hysterical': 3101, 'incredible': 3102, 'introduction': 3103, 'jip': 3104, 'justify': 3105, 'losing': 3106, 'misov': 3107, 'morrow': 3108, 'plate': 3109, 'popular': 3110, 'readiness': 3111, 'reduced': 3112, 'repeating': 3113, 'restored': 3114, 'runs': 3115, 'sadly': 3116, 'sarah': 3117, 'scent': 3118, 'security': 3119, 'shocked': 3120, 'sittingroom': 3121, 'sly': 3122, 'squires': 3123, 'waist': 3124, 'winding': 3125, 'annoyed': 3126, 'appetite': 3127, 'attentive': 3128, 'beloved': 3129, 'boats': 3130, 'burn': 3131, 'burnt': 3132, 'coast': 3133, 'conditions': 3134, 'cruelty': 3135, 'despise': 3136, 'diamond': 3137, 'discussion': 3138, 'dreamed': 3139, 'elsewhere': 3140, 'florizel': 3141, 'goose': 3142, 'hast': 3143, 'independent': 3144, 'major': 3145, 'martha': 3146, 'motives': 3147, 'nasty': 3148, 'neat': 3149, 'opposition': 3150, 'peeped': 3151, 'railway': 3152, 'reckoning': 3153, 'record': 3154, 'revenge': 3155, 'roll': 3156, 'secrecy': 3157, 'seizing': 3158, 'selfish': 3159, 'sensitive': 3160, 'sighed': 3161, 'solid': 3162, 'stooping': 3163, 'struggled': 3164, 'tobacco': 3165, 'tut': 3166, 'warned': 3167, 'wisdom': 3168, 'works': 3169, 'accomplished': 3170, 'afore': 3171, 'begging': 3172, 'bonnet': 3173, 'burden': 3174, 'collected': 3175, 'consequences': 3176, 'coolly': 3177, 'danced': 3178, 'decidedly': 3179, 'delirious': 3180, 'dismay': 3181, 'doubtful': 3182, 'du': 3183, 'ecstasy': 3184, 'fighting': 3185, 'formerly': 3186, 'hatch': 3187, 'hero': 3188, 'instrument': 3189, 'interruption': 3190, 'jolly': 3191, 'jumping': 3192, 'library': 3193, 'lords': 3194, 'lucas': 3195, 'mingled': 3196, 'mixed': 3197, 'mood': 3198, 'nervously': 3199, 'offering': 3200, 'palace': 3201, 'parfen': 3202, 'pleasantly': 3203, 'prayers': 3204, 'preserved': 3205, 'questioning': 3206, 'resolute': 3207, 'rubbed': 3208, 'series': 3209, 'severely': 3210, 'sex': 3211, 'shaft': 3212, 'shillings': 3213, 'shrill': 3214, 'shudder': 3215, 'sinking': 3216, 'sixty': 3217, 'sooth': 3218, 'source': 3219, 'stair': 3220, 'stake': 3221, 'steep': 3222, 'stepping': 3223, 'stock': 3224, 'supported': 3225, 'talks': 3226, 'telegram': 3227, 'travellers': 3228, 'wrath': 3229, 'adopted': 3230, 'alarming': 3231, 'animation': 3232, 'apply': 3233, 'awaiting': 3234, 'brains': 3235, 'bustle': 3236, 'carriages': 3237, 'cest': 3238, 'childs': 3239, 'coloured': 3240, 'conceived': 3241, 'condemned': 3242, 'corners': 3243, 'crazy': 3244, 'darted': 3245, 'deserved': 3246, 'destroyed': 3247, 'duke': 3248, 'embraced': 3249, 'encouraging': 3250, 'error': 3251, 'feverish': 3252, 'frowned': 3253, 'fun': 3254, 'funny': 3255, 'handle': 3256, 'hanged': 3257, 'hey': 3258, 'impulse': 3259, 'indians': 3260, 'innocence': 3261, 'investigation': 3262, 'involuntarily': 3263, 'kissing': 3264, 'lana': 3265, 'laws': 3266, 'lessons': 3267, 'likeness': 3268, 'needs': 3269, 'peril': 3270, 'port': 3271, 'pot': 3272, 'preferred': 3273, 'pretended': 3274, 'previously': 3275, 'protested': 3276, 'remorse': 3277, 'robert': 3278, 'scenes': 3279, 'services': 3280, 'solicitude': 3281, 'solitude': 3282, 'strain': 3283, 'straw': 3284, 'stretch': 3285, 'stuff': 3286, 'suited': 3287, 'swallowed': 3288, 'totally': 3289, 'uttering': 3290, 'vile': 3291, 'walks': 3292, 'whence': 3293, 'worried': 3294, 'affect': 3295, 'apology': 3296, 'appointed': 3297, 'approbation': 3298, 'assembled': 3299, 'atmosphere': 3300, 'autumn': 3301, 'band': 3302, 'ben': 3303, 'bodies': 3304, 'bottles': 3305, 'cloth': 3306, 'conceive': 3307, 'contented': 3308, 'council': 3309, 'cupboard': 3310, 'dignified': 3311, 'disappearance': 3312, 'disturb': 3313, 'faced': 3314, 'facing': 3315, 'ford': 3316, 'forgetting': 3317, 'gather': 3318, 'gloves': 3319, 'hospital': 3320, 'increasing': 3321, 'injury': 3322, 'kalganov': 3323, 'louder': 3324, 'mortal': 3325, 'obeyed': 3326, 'pack': 3327, 'peering': 3328, 'pushing': 3329, 'reflect': 3330, 'resolutely': 3331, 'sail': 3332, 'shade': 3333, 'shameful': 3334, 'soothing': 3335, 'staggered': 3336, 'subtle': 3337, 'suitable': 3338, 'summoned': 3339, 'tempted': 3340, 'threshold': 3341, 'uncles': 3342, 'villain': 3343, 'win': 3344, 'wonderfully': 3345, 'wrist': 3346, 'announce': 3347, 'carelessly': 3348, 'cautiously': 3349, 'chanced': 3350, 'chill': 3351, 'chimney': 3352, 'churchyard': 3353, 'clapped': 3354, 'claypole': 3355, 'colours': 3356, 'comrade': 3357, 'concerns': 3358, 'contrast': 3359, 'crew': 3360, 'depends': 3361, 'dirt': 3362, 'distorted': 3363, 'doubted': 3364, 'dreaded': 3365, 'employ': 3366, 'endeavouring': 3367, 'entertained': 3368, 'forbid': 3369, 'frighten': 3370, 'glances': 3371, 'greatcoat': 3372, 'hilt': 3373, 'indicated': 3374, 'lift': 3375, 'literary': 3376, 'martin': 3377, 'mens': 3378, 'movements': 3379, 'neglect': 3380, 'neglected': 3381, 'overheard': 3382, 'owing': 3383, 'painfully': 3384, 'painted': 3385, 'paying': 3386, 'pleasures': 3387, 'poet': 3388, 'poole': 3389, 'preparation': 3390, 'preparations': 3391, 'prepare': 3392, 'recognized': 3393, 'roughly': 3394, 'salt': 3395, 'sang': 3396, 'scared': 3397, 'schoolboy': 3398, 'sealed': 3399, 'secured': 3400, 'shocking': 3401, 'smaller': 3402, 'souls': 3403, 'stated': 3404, 'timid': 3405, 'travel': 3406, 'trifling': 3407, 'twentyfive': 3408, 'upwards': 3409, 'volume': 3410, 'warrant': 3411, 'yell': 3412, 'advantages': 3413, 'annoyance': 3414, 'answers': 3415, 'arent': 3416, 'arrange': 3417, 'backward': 3418, 'betray': 3419, 'bite': 3420, 'bows': 3421, 'cabinet': 3422, 'cares': 3423, 'cellar': 3424, 'chambers': 3425, 'cocked': 3426, 'crupp': 3427, 'curiously': 3428, 'denis': 3429, 'destination': 3430, 'dining': 3431, 'discretion': 3432, 'disguise': 3433, 'embrace': 3434, 'faded': 3435, 'fortunes': 3436, 'fought': 3437, 'frequent': 3438, 'fright': 3439, 'gloomily': 3440, 'goodby': 3441, 'goodnight': 3442, 'heather': 3443, 'hordle': 3444, 'infinite': 3445, 'joking': 3446, 'lesson': 3447, 'madman': 3448, 'magnificent': 3449, 'mann': 3450, 'mate': 3451, 'miracle': 3452, 'momentary': 3453, 'neighbouring': 3454, 'oak': 3455, 'offices': 3456, 'passengers': 3457, 'plucked': 3458, 'pondering': 3459, 'prayed': 3460, 'profit': 3461, 'rascal': 3462, 'recollected': 3463, 'relate': 3464, 'remembering': 3465, 'screaming': 3466, 'sensations': 3467, 'siberia': 3468, 'sobbing': 3469, 'sprung': 3470, 'stupidity': 3471, 'successful': 3472, 'summit': 3473, 'switzerland': 3474, 'sworn': 3475, 'threatening': 3476, 'type': 3477, 'unfortunately': 3478, 'withdrew': 3479, 'wits': 3480, 'amuse': 3481, 'aroused': 3482, 'audible': 3483, 'avoided': 3484, 'benwick': 3485, 'bid': 3486, 'blown': 3487, 'cheerfulness': 3488, 'clasping': 3489, 'completed': 3490, 'covering': 3491, 'daring': 3492, 'discover': 3493, 'disorder': 3494, 'doent': 3495, 'dwell': 3496, 'enthusiasm': 3497, 'explanations': 3498, 'flow': 3499, 'gallantry': 3500, 'grim': 3501, 'hearty': 3502, 'herr': 3503, 'intellect': 3504, 'lawn': 3505, 'lend': 3506, 'letting': 3507, 'lieutenant': 3508, 'limited': 3509, 'measured': 3510, 'oldfashioned': 3511, 'overwhelmed': 3512, 'phrase': 3513, 'plateau': 3514, 'providence': 3515, 'rattled': 3516, 'reasoning': 3517, 'reckoned': 3518, 'refer': 3519, 'remove': 3520, 'respects': 3521, 'robbed': 3522, 'saddle': 3523, 'silk': 3524, 'sire': 3525, 'snatched': 3526, 'stammered': 3527, 'stool': 3528, 'sunshine': 3529, 'surroundings': 3530, 'tales': 3531, 'tenderly': 3532, 'undertake': 3533, 'uppercross': 3534, 'upright': 3535, 'velvet': 3536, 'vice': 3537, 'wednesday': 3538, 'weep': 3539, 'wiser': 3540, 'agent': 3541, 'ages': 3542, 'attacked': 3543, 'blaze': 3544, 'bone': 3545, 'brass': 3546, 'brittles': 3547, 'brooding': 3548, 'captains': 3549, 'complaint': 3550, 'complexion': 3551, 'connexion': 3552, 'copy': 3553, 'courtyard': 3554, 'cruelly': 3555, 'demand': 3556, 'destroy': 3557, 'distinct': 3558, 'drawer': 3559, 'educated': 3560, 'extended': 3561, 'fence': 3562, 'footman': 3563, 'generals': 3564, 'gratified': 3565, 'hints': 3566, 'improvement': 3567, 'inconvenience': 3568, 'inquiring': 3569, 'irritated': 3570, 'j': 3571, 'jest': 3572, 'jewels': 3573, 'list': 3574, 'loaded': 3575, 'manuscript': 3576, 'mechanically': 3577, 'mild': 3578, 'museum': 3579, 'nae': 3580, 'obscure': 3581, 'occupy': 3582, 'penny': 3583, 'performance': 3584, 'pledge': 3585, 'prevailed': 3586, 'propriety': 3587, 'protect': 3588, 'reflecting': 3589, 'restless': 3590, 'rouble': 3591, 'semyon': 3592, 'speaks': 3593, 'spectacle': 3594, 'strongest': 3595, 'talent': 3596, 'test': 3597, 'thither': 3598, 'tolerable': 3599, 'treatment': 3600, 'umble': 3601, 'uneasily': 3602, 'unexpectedly': 3603, 'unjust': 3604, 'youthful': 3605, 'advised': 3606, 'behave': 3607, 'bolt': 3608, 'bowing': 3609, 'bush': 3610, 'cease': 3611, 'charged': 3612, 'chodinge': 3613, 'clutched': 3614, 'crack': 3615, 'curls': 3616, 'deliberately': 3617, 'diningroom': 3618, 'entry': 3619, 'experienced': 3620, 'fiercely': 3621, 'formal': 3622, 'frantic': 3623, 'grieved': 3624, 'helping': 3625, 'humphrey': 3626, 'interfere': 3627, 'jump': 3628, 'knitting': 3629, 'lack': 3630, 'ladyship': 3631, 'maldon': 3632, 'mell': 3633, 'mission': 3634, 'mourning': 3635, 'mowcher': 3636, 'native': 3637, 'notions': 3638, 'obligation': 3639, 'packet': 3640, 'passes': 3641, 'peculiarly': 3642, 'preserve': 3643, 'pretence': 3644, 'process': 3645, 'respectful': 3646, 'responsibility': 3647, 'resting': 3648, 'results': 3649, 'senseless': 3650, 'shutters': 3651, 'spiteful': 3652, 'store': 3653, 'strained': 3654, 'ticket': 3655, 'trivial': 3656, 'tumbled': 3657, 'uncommon': 3658, 'university': 3659, 'unlikely': 3660, 'virtues': 3661, 'waking': 3662, 'ward': 3663, 'wreck': 3664, 'advertisement': 3665, 'aim': 3666, 'applause': 3667, 'arthur': 3668, 'attempts': 3669, 'awaited': 3670, 'belt': 3671, 'boiling': 3672, 'branch': 3673, 'branches': 3674, 'carpet': 3675, 'causes': 3676, 'chaise': 3677, 'cheerfully': 3678, 'chillip': 3679, 'confidential': 3680, 'conjecture': 3681, 'consequently': 3682, 'containing': 3683, 'counter': 3684, 'crept': 3685, 'depressed': 3686, 'elegance': 3687, 'encounter': 3688, 'engage': 3689, 'entreaty': 3690, 'exaggerated': 3691, 'fancies': 3692, 'feels': 3693, 'flush': 3694, 'gallant': 3695, 'goodwill': 3696, 'governess': 3697, 'grip': 3698, 'harder': 3699, 'hasty': 3700, 'holds': 3701, 'hut': 3702, 'insensible': 3703, 'insist': 3704, 'lifting': 3705, 'longing': 3706, 'moonlight': 3707, 'neednt': 3708, 'numbers': 3709, 'obstinate': 3710, 'odinet': 3711, 'opposed': 3712, 'oppressed': 3713, 'permit': 3714, 'personally': 3715, 'pictures': 3716, 'pour': 3717, 'proportion': 3718, 'pursuing': 3719, 'queen': 3720, 'rear': 3721, 'related': 3722, 'remarkably': 3723, 'renewed': 3724, 'reported': 3725, 'require': 3726, 'reserved': 3727, 'responsible': 3728, 'revived': 3729, 'roaring': 3730, 'royal': 3731, 'separated': 3732, 'shared': 3733, 'shuddered': 3734, 'sophy': 3735, 'steal': 3736, 'stirring': 3737, 'students': 3738, 'swollen': 3739, 'talents': 3740, 'thence': 3741, 'thieves': 3742, 'thread': 3743, 'tragic': 3744, 'triumphant': 3745, 'whipped': 3746, 'wing': 3747, 'yelled': 3748, 'acquaintances': 3749, 'approve': 3750, 'beds': 3751, 'bestowed': 3752, 'boast': 3753, 'bob': 3754, 'bowman': 3755, 'bride': 3756, 'briskly': 3757, 'bursting': 3758, 'c': 3759, 'changing': 3760, 'clearer': 3761, 'cliff': 3762, 'clung': 3763, 'compelled': 3764, 'courteous': 3765, 'criminals': 3766, 'darya': 3767, 'declined': 3768, 'deeds': 3769, 'desirous': 3770, 'disconcerted': 3771, 'dye': 3772, 'earn': 3773, 'emotions': 3774, 'endured': 3775, 'envy': 3776, 'exalted': 3777, 'exception': 3778, 'exertion': 3779, 'fain': 3780, 'faults': 3781, 'ferrier': 3782, 'forge': 3783, 'gaily': 3784, 'gathering': 3785, 'humility': 3786, 'induce': 3787, 'injustice': 3788, 'insane': 3789, 'irritable': 3790, 'irritably': 3791, 'joyfully': 3792, 'labour': 3793, 'load': 3794, 'mail': 3795, 'pages': 3796, 'passy': 3797, 'patch': 3798, 'pavilion': 3799, 'performed': 3800, 'peter': 3801, 'philosophy': 3802, 'principle': 3803, 'purposes': 3804, 'quality': 3805, 'rarely': 3806, 'rational': 3807, 'recovering': 3808, 'refuge': 3809, 'rejoice': 3810, 'removal': 3811, 'render': 3812, 'reverence': 3813, 'rosa': 3814, 'satisfactory': 3815, 'studied': 3816, 'torment': 3817, 'unconsciously': 3818, 'vulgar': 3819, 'wellknown': 3820, 'wheels': 3821, 'wheres': 3822, 'whistling': 3823, 'whither': 3824, 'writer': 3825, 'writes': 3826, 'accompany': 3827, 'allowance': 3828, 'bachelor': 3829, 'backwards': 3830, 'betwixt': 3831, 'block': 3832, 'blowing': 3833, 'butcher': 3834, 'cautious': 3835, 'christ': 3836, 'coincidence': 3837, 'commanded': 3838, 'conducted': 3839, 'confound': 3840, 'consented': 3841, 'contemptible': 3842, 'counted': 3843, 'coward': 3844, 'crimes': 3845, 'declaration': 3846, 'despised': 3847, 'determine': 3848, 'doras': 3849, 'existed': 3850, 'fatigue': 3851, 'feather': 3852, 'finds': 3853, 'finest': 3854, 'flame': 3855, 'gallery': 3856, 'gang': 3857, 'gladly': 3858, 'hammer': 3859, 'hunt': 3860, 'identity': 3861, 'inches': 3862, 'included': 3863, 'indulgence': 3864, 'inexplicable': 3865, 'intellectual': 3866, 'intending': 3867, 'irregular': 3868, 'jones': 3869, 'lamps': 3870, 'landing': 3871, 'le': 3872, 'legend': 3873, 'loring': 3874, 'lowered': 3875, 'lunch': 3876, 'maintained': 3877, 'maple': 3878, 'moat': 3879, 'noted': 3880, 'objections': 3881, 'overcoat': 3882, 'packed': 3883, 'pencil': 3884, 'poison': 3885, 'political': 3886, 'proceeding': 3887, 'quantity': 3888, 'rags': 3889, 'recently': 3890, 'reception': 3891, 'recollections': 3892, 'relieve': 3893, 'seamen': 3894, 'secretly': 3895, 'seventeen': 3896, 'shops': 3897, 'sickly': 3898, 'sincerity': 3899, 'sixteen': 3900, 'sobbed': 3901, 'sole': 3902, 'stained': 3903, 'strict': 3904, 'strode': 3905, 'succession': 3906, 'sufferings': 3907, 'symptoms': 3908, 'terrified': 3909, 'tie': 3910, 'traveller': 3911, 'tune': 3912, 'vow': 3913, 'voyage': 3914, 'warnt': 3915, 'wealthy': 3916, 'yield': 3917, 'youngest': 3918, 'abbot': 3919, 'abilities': 3920, 'ahead': 3921, 'alteration': 3922, 'author': 3923, 'barsad': 3924, 'brick': 3925, 'calculated': 3926, 'capn': 3927, 'connections': 3928, 'contracted': 3929, 'convenience': 3930, 'convey': 3931, 'courtesy': 3932, 'deepest': 3933, 'depths': 3934, 'destined': 3935, 'effects': 3936, 'emphasis': 3937, 'excepting': 3938, 'execution': 3939, 'fainted': 3940, 'fainting': 3941, 'falls': 3942, 'farmer': 3943, 'farthing': 3944, 'feature': 3945, 'filling': 3946, 'folding': 3947, 'footing': 3948, 'founded': 3949, 'generation': 3950, 'guarded': 3951, 'harsh': 3952, 'independence': 3953, 'inspired': 3954, 'intercourse': 3955, 'interrupt': 3956, 'issue': 3957, 'ivolgin': 3958, 'lame': 3959, 'leads': 3960, 'leaf': 3961, 'massive': 3962, 'million': 3963, 'nails': 3964, 'odinness': 3965, 'offensive': 3966, 'owed': 3967, 'pacing': 3968, 'passenger': 3969, 'patron': 3970, 'pausing': 3971, 'physical': 3972, 'pink': 3973, 'pretending': 3974, 'print': 3975, 'provide': 3976, 'quitted': 3977, 'remainder': 3978, 'remote': 3979, 'restraint': 3980, 'rival': 3981, 'rolles': 3982, 'rusty': 3983, 'searching': 3984, 'shooting': 3985, 'sins': 3986, 'slave': 3987, 'solely': 3988, 'solution': 3989, 'spanish': 3990, 'sport': 3991, 'springing': 3992, 'submitted': 3993, 'tolerably': 3994, 'tortured': 3995, 'tossing': 3996, 'underneath': 3997, 'veil': 3998, 'waters': 3999, 'wed': 4000, 'wi': 4001, 'yates': 4002, 'absorbed': 4003, 'assisted': 4004, 'associated': 4005, 'attract': 4006, 'banks': 4007, 'beaulieu': 4008, 'betrothed': 4009, 'blazing': 4010, 'boldly': 4011, 'boot': 4012, 'brightly': 4013, 'cabin': 4014, 'cheap': 4015, 'cheese': 4016, 'clenched': 4017, 'cole': 4018, 'collect': 4019, 'communicated': 4020, 'conclude': 4021, 'confident': 4022, 'continuing': 4023, 'creation': 4024, 'defense': 4025, 'desires': 4026, 'dimly': 4027, 'discuss': 4028, 'distracted': 4029, 'dreaming': 4030, 'dressing': 4031, 'elbows': 4032, 'evenings': 4033, 'fedka': 4034, 'felicity': 4035, 'fiery': 4036, 'flag': 4037, 'flesh': 4038, 'forefinger': 4039, 'frost': 4040, 'greeted': 4041, 'handel': 4042, 'harmony': 4043, 'heir': 4044, 'inevitable': 4045, 'inferior': 4046, 'instinct': 4047, 'insulting': 4048, 'invented': 4049, 'judging': 4050, 'ken': 4051, 'kneeling': 4052, 'lent': 4053, 'lyme': 4054, 'manifestoes': 4055, 'marketplace': 4056, 'mirror': 4057, 'mixture': 4058, 'modesty': 4059, 'naked': 4060, 'oblige': 4061, 'odinbook': 4062, 'odining': 4063, 'permitted': 4064, 'perry': 4065, 'picking': 4066, 'pitch': 4067, 'pouring': 4068, 'premises': 4069, 'presentiment': 4070, 'principles': 4071, 'printed': 4072, 'reaching': 4073, 'reconciled': 4074, 'resistance': 4075, 'sailors': 4076, 'screen': 4077, 'seize': 4078, 'settling': 4079, 'shattered': 4080, 'shelf': 4081, 'significance': 4082, 'submit': 4083, 'supplied': 4084, 'suppressed': 4085, 'tapped': 4086, 'temporary': 4087, 'tendency': 4088, 'terrace': 4089, 'threats': 4090, 'trail': 4091, 'tread': 4092, 'uproar': 4093, 'vaguely': 4094, 'werent': 4095, 'woke': 4096, 'yarmouth': 4097, 'acquired': 4098, 'acute': 4099, 'angle': 4100, 'aros': 4101, 'ascended': 4102, 'ass': 4103, 'assistant': 4104, 'becomes': 4105, 'bells': 4106, 'bet': 4107, 'bidding': 4108, 'bolter': 4109, 'buildings': 4110, 'cathedral': 4111, 'chorus': 4112, 'chuse': 4113, 'clapping': 4114, 'compare': 4115, 'conclusions': 4116, 'consulted': 4117, 'contemptuous': 4118, 'cough': 4119, 'crisis': 4120, 'dances': 4121, 'depended': 4122, 'depth': 4123, 'destruction': 4124, 'disliked': 4125, 'display': 4126, 'drawers': 4127, 'earned': 4128, 'earthly': 4129, 'erkel': 4130, 'excessive': 4131, 'expressing': 4132, 'fame': 4133, 'favor': 4134, 'fenya': 4135, 'fifth': 4136, 'fixing': 4137, 'forming': 4138, 'frozen': 4139, 'ghastly': 4140, 'giant': 4141, 'glare': 4142, 'grotesque': 4143, 'hamlet': 4144, 'happiest': 4145, 'hedge': 4146, 'honestly': 4147, 'horseback': 4148, 'hum': 4149, 'impressions': 4150, 'india': 4151, 'indignantly': 4152, 'ippolit': 4153, 'janet': 4154, 'june': 4155, 'lean': 4156, 'leaping': 4157, 'lovers': 4158, 'millions': 4159, 'newspapers': 4160, 'orphan': 4161, 'oxford': 4162, 'panting': 4163, 'passionately': 4164, 'peaceful': 4165, 'persuasion': 4166, 'politely': 4167, 'principally': 4168, 'professors': 4169, 'prospects': 4170, 'quest': 4171, 'recovery': 4172, 'refusal': 4173, 'released': 4174, 'rely': 4175, 'rifle': 4176, 'rigid': 4177, 'romance': 4178, 'ruddy': 4179, 'rumours': 4180, 'shield': 4181, 'sideways': 4182, 'signify': 4183, 'skull': 4184, 'slope': 4185, 'solve': 4186, 'spain': 4187, 'staff': 4188, 'stamped': 4189, 'strolled': 4190, 'supposition': 4191, 'swinging': 4192, 'term': 4193, 'threatened': 4194, 'thrill': 4195, 'tremble': 4196, 'trifon': 4197, 'unseen': 4198, 'unto': 4199, 'vacant': 4200, 'vent': 4201, 'villon': 4202, 'visiting': 4203, 'whistled': 4204, 'wilderness': 4205, 'wings': 4206, 'withered': 4207, 'abandon': 4208, 'abuse': 4209, 'adding': 4210, 'amazing': 4211, 'annes': 4212, 'authorities': 4213, 'b': 4214, 'beetles': 4215, 'biting': 4216, 'british': 4217, 'bullet': 4218, 'butter': 4219, 'cane': 4220, 'charity': 4221, 'consistent': 4222, 'constable': 4223, 'correspondence': 4224, 'creeping': 4225, 'dame': 4226, 'dasha': 4227, 'dearer': 4228, 'defiance': 4229, 'discourse': 4230, 'displayed': 4231, 'doings': 4232, 'eccentric': 4233, 'elders': 4234, 'emerged': 4235, 'enjoying': 4236, 'entertain': 4237, 'escort': 4238, 'fang': 4239, 'fourteen': 4240, 'frightful': 4241, 'fringe': 4242, 'gallows': 4243, 'gasping': 4244, 'gentleness': 4245, 'glimmer': 4246, 'goodhumoured': 4247, 'guided': 4248, 'guns': 4249, 'halloa': 4250, 'handwriting': 4251, 'hark': 4252, 'haughty': 4253, 'horribly': 4254, 'horrors': 4255, 'inch': 4256, 'indignant': 4257, 'judges': 4258, 'justly': 4259, 'lighting': 4260, 'luggage': 4261, 'malignant': 4262, 'marshes': 4263, 'menacing': 4264, 'methods': 4265, 'musgroves': 4266, 'nowadays': 4267, 'observations': 4268, 'partial': 4269, 'precaution': 4270, 'proposition': 4271, 'push': 4272, 'questioned': 4273, 'rattle': 4274, 'refusing': 4275, 'regiment': 4276, 'rejoiced': 4277, 'repent': 4278, 'repose': 4279, 'represent': 4280, 'respectfully': 4281, 'retreat': 4282, 'revealed': 4283, 'smoked': 4284, 'soup': 4285, 'speeches': 4286, 'stumbled': 4287, 'syllable': 4288, 'thursday': 4289, 'tightly': 4290, 'total': 4291, 'twilight': 4292, 'undertaker': 4293, 'unreasonable': 4294, 'vision': 4295, 'washed': 4296, 'wire': 4297, 'worship': 4298, 'wrung': 4299, 'accent': 4300, 'admirable': 4301, 'agoing': 4302, 'agreement': 4303, 'alacrity': 4304, 'allusion': 4305, 'aristocratic': 4306, 'ashes': 4307, 'awe': 4308, 'bah': 4309, 'balls': 4310, 'bears': 4311, 'breeze': 4312, 'briefly': 4313, 'brightened': 4314, 'brisk': 4315, 'buffoon': 4316, 'century': 4317, 'chuckled': 4318, 'climbed': 4319, 'comfortably': 4320, 'conspicuous': 4321, 'contemplation': 4322, 'cordially': 4323, 'curtains': 4324, 'decline': 4325, 'disgraceful': 4326, 'displeasure': 4327, 'drag': 4328, 'draught': 4329, 'earliest': 4330, 'employer': 4331, 'entreated': 4332, 'excessively': 4333, 'excite': 4334, 'expenses': 4335, 'explaining': 4336, 'faster': 4337, 'flower': 4338, 'flutter': 4339, 'fortunately': 4340, 'fountain': 4341, 'goods': 4342, 'harville': 4343, 'hesitate': 4344, 'hesitating': 4345, 'honesty': 4346, 'hudson': 4347, 'humiliation': 4348, 'ii': 4349, 'invariably': 4350, 'joint': 4351, 'katya': 4352, 'leapt': 4353, 'liking': 4354, 'lingering': 4355, 'malicious': 4356, 'mare': 4357, 'matches': 4358, 'measures': 4359, 'mirth': 4360, 'mortification': 4361, 'musical': 4362, 'peeping': 4363, 'personage': 4364, 'pool': 4365, 'possess': 4366, 'praying': 4367, 'proofs': 4368, 'purposely': 4369, 'quit': 4370, 'rag': 4371, 'reckless': 4372, 'release': 4373, 'repeatedly': 4374, 'restore': 4375, 'restrained': 4376, 'rightly': 4377, 'samovar': 4378, 'shepherd': 4379, 'shew': 4380, 'sobs': 4381, 'sparkling': 4382, 'spiritual': 4383, 'stamping': 4384, 'studying': 4385, 'sydney': 4386, 'terrors': 4387, 'toast': 4388, 'trifles': 4389, 'unequal': 4390, 'urgent': 4391, 'vous': 4392, 'whip': 4393, 'willingly': 4394, 'wiped': 4395, 'wiping': 4396, 'worldly': 4397, 'aback': 4398, 'abode': 4399, 'absurdity': 4400, 'accord': 4401, 'admission': 4402, 'advancing': 4403, 'affliction': 4404, 'animated': 4405, 'artist': 4406, 'asks': 4407, 'attractive': 4408, 'baggage': 4409, 'beasts': 4410, 'bedside': 4411, 'bide': 4412, 'bloody': 4413, 'bodince': 4414, 'brighter': 4415, 'brightness': 4416, 'casting': 4417, 'catastrophe': 4418, 'cave': 4419, 'circles': 4420, 'commit': 4421, 'consisted': 4422, 'convictions': 4423, 'copecks': 4424, 'copper': 4425, 'cordial': 4426, 'couch': 4427, 'crash': 4428, 'created': 4429, 'critical': 4430, 'crush': 4431, 'dearly': 4432, 'deliver': 4433, 'dense': 4434, 'devotion': 4435, 'discharge': 4436, 'discharged': 4437, 'disclosed': 4438, 'disengaged': 4439, 'disturbance': 4440, 'dressinggown': 4441, 'dried': 4442, 'dusk': 4443, 'dwelt': 4444, 'encountered': 4445, 'encourage': 4446, 'entertainment': 4447, 'entire': 4448, 'european': 4449, 'expressly': 4450, 'fed': 4451, 'fires': 4452, 'flatter': 4453, 'foremost': 4454, 'frivolous': 4455, 'fruit': 4456, 'gallop': 4457, 'genteel': 4458, 'glared': 4459, 'gleamed': 4460, 'graceful': 4461, 'grimly': 4462, 'groan': 4463, 'groaned': 4464, 'guineas': 4465, 'hardened': 4466, 'ink': 4467, 'invisible': 4468, 'killing': 4469, 'kingdom': 4470, 'knot': 4471, 'lavinia': 4472, 'lighter': 4473, 'liverpool': 4474, 'malice': 4475, 'manager': 4476, 'mender': 4477, 'minister': 4478, 'mutton': 4479, 'nigh': 4480, 'noon': 4481, 'norland': 4482, 'nowhere': 4483, 'orlick': 4484, 'parcel': 4485, 'phelps': 4486, 'phrases': 4487, 'planned': 4488, 'plot': 4489, 'poem': 4490, 'preceding': 4491, 'preference': 4492, 'pressure': 4493, 'prompt': 4494, 'promptly': 4495, 'quivered': 4496, 'relaxed': 4497, 'religion': 4498, 'repay': 4499, 'requested': 4500, 'riddle': 4501, 'rumour': 4502, 'scruple': 4503, 'searched': 4504, 'secondly': 4505, 'sets': 4506, 'shivering': 4507, 'shrieked': 4508, 'signals': 4509, 'skirts': 4510, 'sneer': 4511, 'sob': 4512, 'solemnity': 4513, 'spending': 4514, 'stockings': 4515, 'stretching': 4516, 'strictly': 4517, 'studies': 4518, 'subdued': 4519, 'tapping': 4520, 'temptation': 4521, 'thickly': 4522, 'thumb': 4523, 'tiptoe': 4524, 'travelled': 4525, 'universal': 4526, 'unseemly': 4527, 'vodka': 4528, 'withdraw': 4529, 'wronged': 4530, 'accepting': 4531, 'accidentally': 4532, 'afforded': 4533, 'altar': 4534, 'ant': 4535, 'appropriate': 4536, 'arrows': 4537, 'associate': 4538, 'avenue': 4539, 'benefactor': 4540, 'bitterness': 4541, 'clerks': 4542, 'clinging': 4543, 'colleague': 4544, 'college': 4545, 'deaf': 4546, 'describing': 4547, 'dialogue': 4548, 'dwelling': 4549, 'elliots': 4550, 'enable': 4551, 'engaging': 4552, 'failure': 4553, 'fashionable': 4554, 'flattering': 4555, 'gateway': 4556, 'groups': 4557, 'halfhour': 4558, 'handing': 4559, 'hearth': 4560, 'hither': 4561, 'improbable': 4562, 'inhabitants': 4563, 'inquisitive': 4564, 'inspection': 4565, 'joining': 4566, 'ladder': 4567, 'lawyers': 4568, 'lee': 4569, 'limits': 4570, 'lingered': 4571, 'lists': 4572, 'marched': 4573, 'merriment': 4574, 'mister': 4575, 'mortified': 4576, 'murderers': 4577, 'national': 4578, 'november': 4579, 'odinston': 4580, 'overlooked': 4581, 'paced': 4582, 'pan': 4583, 'parent': 4584, 'photograph': 4585, 'poetry': 4586, 'polenka': 4587, 'producing': 4588, 'publichouse': 4589, 'purchase': 4590, 'purple': 4591, 'pursue': 4592, 'recommendation': 4593, 'regarding': 4594, 'reluctance': 4595, 'robber': 4596, 'romantic': 4597, 'rouse': 4598, 'seal': 4599, 'seats': 4600, 'sorrowful': 4601, 'steamer': 4602, 'straining': 4603, 'sullen': 4604, 'summons': 4605, 'surgeon': 4606, 'sweeping': 4607, 'swell': 4608, 'swords': 4609, 'thrusting': 4610, 'title': 4611, 'tormented': 4612, 'traitor': 4613, 'twitching': 4614, 'unlucky': 4615, 'unmistakable': 4616, 'vindictive': 4617, 'waked': 4618, 'wash': 4619, 'watches': 4620, 'whoever': 4621, 'activity': 4622, 'affecting': 4623, 'affectionately': 4624, 'apologize': 4625, 'appearances': 4626, 'apple': 4627, 'arguments': 4628, 'assent': 4629, 'assert': 4630, 'attendance': 4631, 'attendant': 4632, 'avail': 4633, 'barred': 4634, 'bills': 4635, 'brig': 4636, 'brook': 4637, 'cage': 4638, 'censure': 4639, 'chase': 4640, 'cherished': 4641, 'coals': 4642, 'coldness': 4643, 'concealment': 4644, 'cord': 4645, 'cordiality': 4646, 'coughing': 4647, 'deceased': 4648, 'denied': 4649, 'designs': 4650, 'desolate': 4651, 'development': 4652, 'distrust': 4653, 'drooping': 4654, 'ebenezer': 4655, 'emily': 4656, 'emphatically': 4657, 'engagements': 4658, 'exquisite': 4659, 'fearfully': 4660, 'forbidden': 4661, 'fork': 4662, 'forwards': 4663, 'frenchman': 4664, 'garret': 4665, 'glove': 4666, 'heed': 4667, 'hired': 4668, 'humiliating': 4669, 'hysterics': 4670, 'ice': 4671, 'ilya': 4672, 'imprudent': 4673, 'inheritance': 4674, 'inquiringly': 4675, 'insolent': 4676, 'interference': 4677, 'irresistible': 4678, 'jagged': 4679, 'lain': 4680, 'landed': 4681, 'liable': 4682, 'lightning': 4683, 'litter': 4684, 'lodgers': 4685, 'lowest': 4686, 'melted': 4687, 'metal': 4688, 'mostly': 4689, 'motioned': 4690, 'natures': 4691, 'nerve': 4692, 'nicolas': 4693, 'occasioned': 4694, 'overtaken': 4695, 'partiality': 4696, 'pitiful': 4697, 'posted': 4698, 'prime': 4699, 'range': 4700, 'ranks': 4701, 'rapidity': 4702, 'rapture': 4703, 'recognize': 4704, 'refrain': 4705, 'religious': 4706, 'rent': 4707, 'replying': 4708, 'resigned': 4709, 'resources': 4710, 'ribbon': 4711, 'rob': 4712, 'rome': 4713, 'rows': 4714, 'salary': 4715, 'sovereign': 4716, 'specially': 4717, 'squeezed': 4718, 'stealing': 4719, 'strengthened': 4720, 'sweep': 4721, 'thereupon': 4722, 'thorough': 4723, 'tidings': 4724, 'tremendous': 4725, 'tricks': 4726, 'twinkling': 4727, 'ungrateful': 4728, 'union': 4729, 'unlocked': 4730, 'using': 4731, 'valet': 4732, 'winking': 4733, 'worthless': 4734, 'abominable': 4735, 'adjoining': 4736, 'admiring': 4737, 'adopt': 4738, 'anticipated': 4739, 'apples': 4740, 'application': 4741, 'approved': 4742, 'arch': 4743, 'barney': 4744, 'besought': 4745, 'blamed': 4746, 'brink': 4747, 'brutal': 4748, 'chancellor': 4749, 'chicago': 4750, 'chre': 4751, 'clad': 4752, 'classes': 4753, 'conquered': 4754, 'counting': 4755, 'countryside': 4756, 'crofts': 4757, 'crouching': 4758, 'debts': 4759, 'deer': 4760, 'dejected': 4761, 'descend': 4762, 'detected': 4763, 'dictator': 4764, 'ditch': 4765, 'dreary': 4766, 'eodin': 4767, 'episode': 4768, 'eventually': 4769, 'evremonde': 4770, 'expose': 4771, 'familiarity': 4772, 'fearing': 4773, 'filthy': 4774, 'fireplace': 4775, 'fitting': 4776, 'flood': 4777, 'fluttered': 4778, 'frances': 4779, 'frantically': 4780, 'gaiety': 4781, 'gap': 4782, 'goddards': 4783, 'hereafter': 4784, 'horizon': 4785, 'hotly': 4786, 'humbly': 4787, 'improve': 4788, 'interrupting': 4789, 'janes': 4790, 'jorkins': 4791, 'laughs': 4792, 'lef': 4793, 'listener': 4794, 'logical': 4795, 'menatarms': 4796, 'merits': 4797, 'musing': 4798, 'muttering': 4799, 'neatly': 4800, 'nevertheless': 4801, 'nod': 4802, 'notebook': 4803, 'novel': 4804, 'objected': 4805, 'odini': 4806, 'odinitch': 4807, 'origin': 4808, 'overhead': 4809, 'overpowered': 4810, 'palm': 4811, 'panic': 4812, 'passages': 4813, 'pattern': 4814, 'pedro': 4815, 'perceiving': 4816, 'pianoforte': 4817, 'poker': 4818, 'porters': 4819, 'prize': 4820, 'realise': 4821, 'recollecting': 4822, 'regretted': 4823, 'repentance': 4824, 'replaced': 4825, 'resolve': 4826, 'roman': 4827, 'ross': 4828, 'scorn': 4829, 'selden': 4830, 'seventy': 4831, 'shabby': 4832, 'shuddering': 4833, 'shutting': 4834, 'sighing': 4835, 'sleepy': 4836, 'soil': 4837, 'sorrows': 4838, 'star': 4839, 'steele': 4840, 'stillness': 4841, 'tray': 4842, 'tumbling': 4843, 'uncertainty': 4844, 'veins': 4845, 'vessel': 4846, 'vigorous': 4847, 'virtuous': 4848, 'wander': 4849, 'wayside': 4850, 'whilst': 4851, 'witnessed': 4852, 'wonders': 4853, 'wringing': 4854, 'accompanying': 4855, 'acts': 4856, 'ambition': 4857, 'ample': 4858, 'apologies': 4859, 'articulated': 4860, 'assume': 4861, 'awhile': 4862, 'background': 4863, 'bailey': 4864, 'basin': 4865, 'beautifully': 4866, 'beckoned': 4867, 'behalf': 4868, 'bend': 4869, 'bind': 4870, 'blade': 4871, 'blathers': 4872, 'blum': 4873, 'bravo': 4874, 'breach': 4875, 'build': 4876, 'bulk': 4877, 'cabman': 4878, 'cannon': 4879, 'canterbury': 4880, 'checking': 4881, 'choked': 4882, 'clumsy': 4883, 'coats': 4884, 'comforted': 4885, 'comforts': 4886, 'commissary': 4887, 'composition': 4888, 'congratulations': 4889, 'crackit': 4890, 'croft': 4891, 'darkened': 4892, 'dash': 4893, 'deliberation': 4894, 'derived': 4895, 'desperation': 4896, 'detain': 4897, 'dieu': 4898, 'disdain': 4899, 'displeased': 4900, 'dispute': 4901, 'dover': 4902, 'drops': 4903, 'esteemed': 4904, 'exclaiming': 4905, 'expensive': 4906, 'faithfully': 4907, 'fan': 4908, 'fare': 4909, 'firmness': 4910, 'flattered': 4911, 'flinging': 4912, 'flushing': 4913, 'foam': 4914, 'foreseen': 4915, 'fritz': 4916, 'gardens': 4917, 'haggard': 4918, 'hailed': 4919, 'hansom': 4920, 'hay': 4921, 'hears': 4922, 'holywood': 4923, 'hospitality': 4924, 'hugh': 4925, 'ideal': 4926, 'impressive': 4927, 'impressively': 4928, 'indicate': 4929, 'infernal': 4930, 'injuries': 4931, 'intolerable': 4932, 'irony': 4933, 'itand': 4934, 'jaw': 4935, 'je': 4936, 'jews': 4937, 'jokes': 4938, 'joyful': 4939, 'latest': 4940, 'lid': 4941, 'link': 4942, 'lots': 4943, 'margaret': 4944, 'markleham': 4945, 'medicine': 4946, 'mentioning': 4947, 'milk': 4948, 'mornings': 4949, 'mournful': 4950, 'naughty': 4951, 'oars': 4952, 'odinhandkerchief': 4953, 'odinion': 4954, 'officials': 4955, 'panie': 4956, 'passions': 4957, 'peep': 4958, 'penetrated': 4959, 'perception': 4960, 'pet': 4961, 'petty': 4962, 'pig': 4963, 'pile': 4964, 'pious': 4965, 'pleaded': 4966, 'portsmouth': 4967, 'professed': 4968, 'prolonged': 4969, 'promising': 4970, 'punish': 4971, 'rails': 4972, 'reasonably': 4973, 'recalling': 4974, 'receipt': 4975, 'relish': 4976, 'responded': 4977, 'rugged': 4978, 'rules': 4979, 'savagely': 4980, 'seaman': 4981, 'severity': 4982, 'shrinking': 4983, 'shy': 4984, 'sickness': 4985, 'smoothed': 4986, 'snug': 4987, 'sombre': 4988, 'spectators': 4989, 'speculation': 4990, 'spots': 4991, 'stable': 4992, 'stores': 4993, 'stricken': 4994, 'strikes': 4995, 'substance': 4996, 'sugar': 4997, 'tastes': 4998, 'theories': 4999, 'theyd': 5000, 'thicket': 5001, 'tin': 5002, 'tranquillity': 5003, 'umbrella': 5004, 'unbroken': 5005, 'valued': 5006, 'vera': 5007, 'wars': 5008, 'wickedness': 5009, 'wig': 5010, 'wineshop': 5011, 'wink': 5012, 'worlds': 5013, 'accursed': 5014, 'afoot': 5015, 'allowing': 5016, 'approval': 5017, 'apron': 5018, 'ardour': 5019, 'arina': 5020, 'association': 5021, 'attach': 5022, 'attained': 5023, 'aversion': 5024, 'backs': 5025, 'bald': 5026, 'bally': 5027, 'bestow': 5028, 'birthday': 5029, 'brush': 5030, 'bureau': 5031, 'casimir': 5032, 'cavalier': 5033, 'celebrated': 5034, 'climbing': 5035, 'column': 5036, 'combined': 5037, 'comic': 5038, 'compass': 5039, 'conference': 5040, 'confidently': 5041, 'contemplated': 5042, 'contrived': 5043, 'convicts': 5044, 'coronet': 5045, 'courts': 5046, 'craving': 5047, 'depart': 5048, 'developed': 5049, 'dipped': 5050, 'discern': 5051, 'disposal': 5052, 'disturbing': 5053, 'division': 5054, 'echoes': 5055, 'enabled': 5056, 'equality': 5057, 'exceeding': 5058, 'fascinating': 5059, 'feast': 5060, 'feminine': 5061, 'fixedly': 5062, 'foundation': 5063, 'fraud': 5064, 'frown': 5065, 'gargery': 5066, 'gaunt': 5067, 'grasped': 5068, 'grasping': 5069, 'grinning': 5070, 'grows': 5071, 'harris': 5072, 'hermitage': 5073, 'hypothesis': 5074, 'impossibility': 5075, 'indulge': 5076, 'ingenious': 5077, 'ingenuity': 5078, 'insolence': 5079, 'investigating': 5080, 'isle': 5081, 'jove': 5082, 'largest': 5083, 'lawful': 5084, 'leap': 5085, 'lion': 5086, 'magistrate': 5087, 'maiden': 5088, 'mates': 5089, 'middleaged': 5090, 'mockery': 5091, 'model': 5092, 'mouse': 5093, 'murderous': 5094, 'mysteries': 5095, 'oneself': 5096, 'oppose': 5097, 'outward': 5098, 'overtook': 5099, 'perezvon': 5100, 'phantom': 5101, 'porch': 5102, 'posts': 5103, 'procession': 5104, 'promises': 5105, 'prudent': 5106, 'quicker': 5107, 'raving': 5108, 'raw': 5109, 'realised': 5110, 'realize': 5111, 'repetition': 5112, 'republic': 5113, 'repulsion': 5114, 'restaurant': 5115, 'retained': 5116, 'richmond': 5117, 'rings': 5118, 'risingham': 5119, 'sacrificed': 5120, 'scaffold': 5121, 'schemes': 5122, 'scruples': 5123, 'shoe': 5124, 'shrink': 5125, 'shrubbery': 5126, 'sleeves': 5127, 'slippers': 5128, 'slumber': 5129, 'spell': 5130, 'startling': 5131, 'suggestive': 5132, 'superiority': 5133, 'swing': 5134, 'tables': 5135, 'teaching': 5136, 'thrashed': 5137, 'timidity': 5138, 'traced': 5139, 'triumphantly': 5140, 'turf': 5141, 'underground': 5142, 'uniform': 5143, 'unkind': 5144, 'varied': 5145, 'vicious': 5146, 'victory': 5147, 'washing': 5148, 'whispers': 5149, 'wives': 5150, 'yon': 5151, 'accomplice': 5152, 'accusation': 5153, 'actor': 5154, 'additional': 5155, 'affirmative': 5156, 'alley': 5157, 'alluded': 5158, 'argue': 5159, 'artful': 5160, 'artificial': 5161, 'assailant': 5162, 'assurances': 5163, 'attacks': 5164, 'attempting': 5165, 'attribute': 5166, 'au': 5167, 'bark': 5168, 'barrel': 5169, 'belongs': 5170, 'bewilderment': 5171, 'bible': 5172, 'bits': 5173, 'bordeaux': 5174, 'bounded': 5175, 'bourgh': 5176, 'boxes': 5177, 'button': 5178, 'calmness': 5179, 'charmed': 5180, 'cliffs': 5181, 'commands': 5182, 'committee': 5183, 'comprehended': 5184, 'console': 5185, 'consultation': 5186, 'consulting': 5187, 'crawling': 5188, 'dacre': 5189, 'darker': 5190, 'decisive': 5191, 'deference': 5192, 'department': 5193, 'descent': 5194, 'desperately': 5195, 'diamonds': 5196, 'disappear': 5197, 'discovering': 5198, 'discussed': 5199, 'discussing': 5200, 'divide': 5201, 'drowned': 5202, 'eastern': 5203, 'eloquence': 5204, 'emiodin': 5205, 'etc': 5206, 'eyelids': 5207, 'feebly': 5208, 'ferocity': 5209, 'foresaw': 5210, 'forlorn': 5211, 'forster': 5212, 'friday': 5213, 'fuss': 5214, 'geese': 5215, 'genuinely': 5216, 'greeting': 5217, 'groom': 5218, 'groped': 5219, 'grumbled': 5220, 'guidance': 5221, 'gunn': 5222, 'handsomely': 5223, 'happening': 5224, 'harp': 5225, 'hateful': 5226, 'holidays': 5227, 'hook': 5228, 'horsemen': 5229, 'hunger': 5230, 'imploring': 5231, 'impudent': 5232, 'incoherent': 5233, 'indications': 5234, 'indulged': 5235, 'insanity': 5236, 'irish': 5237, 'joes': 5238, 'keeper': 5239, 'lap': 5240, 'latin': 5241, 'lazy': 5242, 'links': 5243, 'literally': 5244, 'lurking': 5245, 'magazine': 5246, 'majesty': 5247, 'male': 5248, 'mask': 5249, 'merrily': 5250, 'mocking': 5251, 'morgan': 5252, 'nightcap': 5253, 'nightmare': 5254, 'odinand': 5255, 'offend': 5256, 'operation': 5257, 'paler': 5258, 'patted': 5259, 'perform': 5260, 'piercing': 5261, 'plates': 5262, 'playful': 5263, 'pluck': 5264, 'plunge': 5265, 'pondered': 5266, 'praised': 5267, 'premature': 5268, 'pretext': 5269, 'professions': 5270, 'proudly': 5271, 'psychology': 5272, 'publicly': 5273, 'quickness': 5274, 'refreshment': 5275, 'regained': 5276, 'regularly': 5277, 'rejected': 5278, 'reports': 5279, 'reproachfully': 5280, 'retain': 5281, 'retire': 5282, 'reveal': 5283, 'rudely': 5284, 'scanlan': 5285, 'scarlet': 5286, 'shallow': 5287, 'shameless': 5288, 'shewn': 5289, 'shine': 5290, 'shiver': 5291, 'shouts': 5292, 'shrewd': 5293, 'sits': 5294, 'slap': 5295, 'straker': 5296, 'stress': 5297, 'sweetness': 5298, 'sympathetic': 5299, 'teacher': 5300, 'unusually': 5301, 'unwell': 5302, 'upward': 5303, 'verse': 5304, 'verses': 5305, 'visibly': 5306, 'voluntarily': 5307, 'weighing': 5308, 'winds': 5309, 'wisest': 5310, 'wrists': 5311, 'zeal': 5312, 'accidental': 5313, 'acquit': 5314, 'agents': 5315, 'alighted': 5316, 'ambitious': 5317, 'apartments': 5318, 'arched': 5319, 'ascertain': 5320, 'astonishing': 5321, 'await': 5322, 'banker': 5323, 'blackness': 5324, 'blunder': 5325, 'bohemia': 5326, 'boss': 5327, 'buttons': 5328, 'carved': 5329, 'cassilis': 5330, 'chairman': 5331, 'chapel': 5332, 'childrens': 5333, 'claimed': 5334, 'climb': 5335, 'coin': 5336, 'comparatively': 5337, 'concealing': 5338, 'condescension': 5339, 'constitution': 5340, 'contradict': 5341, 'cracked': 5342, 'cravat': 5343, 'crooked': 5344, 'curling': 5345, 'dangers': 5346, 'dealing': 5347, 'delicious': 5348, 'delusion': 5349, 'dependence': 5350, 'dismiss': 5351, 'doubled': 5352, 'drifted': 5353, 'drifting': 5354, 'dryly': 5355, 'eligible': 5356, 'emptied': 5357, 'enterprise': 5358, 'entreaties': 5359, 'entrusted': 5360, 'erect': 5361, 'eternity': 5362, 'exhaustion': 5363, 'extraordinarily': 5364, 'exultation': 5365, 'fancying': 5366, 'fatigued': 5367, 'finishing': 5368, 'flames': 5369, 'foolishness': 5370, 'forcing': 5371, 'foresee': 5372, 'fortitude': 5373, 'gaining': 5374, 'galley': 5375, 'games': 5376, 'gestures': 5377, 'gifts': 5378, 'glaring': 5379, 'governors': 5380, 'gratifying': 5381, 'greedy': 5382, 'harshly': 5383, 'hazard': 5384, 'heel': 5385, 'ho': 5386, 'holder': 5387, 'honorable': 5388, 'horrified': 5389, 'howling': 5390, 'identify': 5391, 'impress': 5392, 'incidents': 5393, 'including': 5394, 'inquest': 5395, 'instinctively': 5396, 'irrelevant': 5397, 'itbut': 5398, 'jacob': 5399, 'jug': 5400, 'kick': 5401, 'knowd': 5402, 'lifetime': 5403, 'loaf': 5404, 'loathsome': 5405, 'lookout': 5406, 'luxury': 5407, 'maintain': 5408, 'map': 5409, 'maude': 5410, 'mei': 5411, 'merchants': 5412, 'miracles': 5413, 'misfortunes': 5414, 'mounting': 5415, 'muddy': 5416, 'murdering': 5417, 'n': 5418, 'nieces': 5419, 'nilitch': 5420, 'nobility': 5421, 'notwithstanding': 5422, 'oaths': 5423, 'obstacles': 5424, 'obstinately': 5425, 'ominous': 5426, 'outline': 5427, 'patting': 5428, 'perfection': 5429, 'perspiration': 5430, 'pie': 5431, 'pips': 5432, 'pitied': 5433, 'placid': 5434, 'podincution': 5435, 'policy': 5436, 'possibilities': 5437, 'preoccupied': 5438, 'prey': 5439, 'prudence': 5440, 'quarrelled': 5441, 'quarrelling': 5442, 'random': 5443, 'regrets': 5444, 'remonstrated': 5445, 'reproached': 5446, 'reproof': 5447, 'rousing': 5448, 'sailed': 5449, 'sailor': 5450, 'scotch': 5451, 'scott': 5452, 'seas': 5453, 'selfishness': 5454, 'sentimental': 5455, 'shaws': 5456, 'shilling': 5457, 'shrunk': 5458, 'slain': 5459, 'solved': 5460, 'spirited': 5461, 'stately': 5462, 'sticks': 5463, 'stomach': 5464, 'stormy': 5465, 'sums': 5466, 'surprize': 5467, 'surprized': 5468, 'swelling': 5469, 'tasted': 5470, 'tearing': 5471, 'thankee': 5472, 'thundered': 5473, 'tomb': 5474, 'towers': 5475, 'unaffected': 5476, 'uncommonly': 5477, 'unwelcome': 5478, 'verge': 5479, 'vigour': 5480, 'warmed': 5481, 'wench': 5482, 'wider': 5483, 'workmen': 5484, 'wretchedness': 5485, 'accuse': 5486, 'ached': 5487, 'affront': 5488, 'alert': 5489, 'anchorage': 5490, 'appreciate': 5491, 'argued': 5492, 'arriving': 5493, 'attain': 5494, 'attraction': 5495, 'ave': 5496, 'avoiding': 5497, 'banner': 5498, 'barrier': 5499, 'baynes': 5500, 'beats': 5501, 'beef': 5502, 'bitten': 5503, 'blackened': 5504, 'bodily': 5505, 'bounds': 5506, 'bowmen': 5507, 'caps': 5508, 'carries': 5509, 'chatter': 5510, 'cheering': 5511, 'chuckle': 5512, 'cigarette': 5513, 'clarissa': 5514, 'clutching': 5515, 'combination': 5516, 'community': 5517, 'composedly': 5518, 'comprehension': 5519, 'condemn': 5520, 'congratulated': 5521, 'considerations': 5522, 'corn': 5523, 'corpse': 5524, 'crosses': 5525, 'customers': 5526, 'damned': 5527, 'deceiving': 5528, 'dependent': 5529, 'deprived': 5530, 'designed': 5531, 'despairing': 5532, 'deuce': 5533, 'devote': 5534, 'disgraced': 5535, 'dissatisfied': 5536, 'divine': 5537, 'dragging': 5538, 'dripping': 5539, 'earl': 5540, 'ech': 5541, 'ejaculated': 5542, 'elaborate': 5543, 'element': 5544, 'eminent': 5545, 'endless': 5546, 'ensued': 5547, 'excitedly': 5548, 'exert': 5549, 'exertions': 5550, 'exists': 5551, 'experiment': 5552, 'extinguished': 5553, 'extra': 5554, 'eyed': 5555, 'faculties': 5556, 'faltering': 5557, 'ferocious': 5558, 'fervent': 5559, 'forecastle': 5560, 'fragments': 5561, 'fulfilled': 5562, 'funnel': 5563, 'gaganov': 5564, 'giddy': 5565, 'gordon': 5566, 'gratification': 5567, 'greatness': 5568, 'grieve': 5569, 'grizzled': 5570, 'grudge': 5571, 'hamilton': 5572, 'harmless': 5573, 'heavier': 5574, 'heightened': 5575, 'homage': 5576, 'hoofs': 5577, 'hopeful': 5578, 'hows': 5579, 'hugged': 5580, 'hunting': 5581, 'imitation': 5582, 'implored': 5583, 'incessant': 5584, 'inconceivable': 5585, 'indescribable': 5586, 'intelligible': 5587, 'ironical': 5588, 'italian': 5589, 'jerked': 5590, 'junction': 5591, 'k': 5592, 'kicking': 5593, 'kinds': 5594, 'kinsman': 5595, 'knelt': 5596, 'knitted': 5597, 'liar': 5598, 'limp': 5599, 'liquor': 5600, 'lowering': 5601, 'mais': 5602, 'manly': 5603, 'margin': 5604, 'mattress': 5605, 'meals': 5606, 'memories': 5607, 'merciful': 5608, 'midday': 5609, 'mire': 5610, 'moaning': 5611, 'mode': 5612, 'moderate': 5613, 'morally': 5614, 'multitude': 5615, 'mum': 5616, 'nail': 5617, 'needle': 5618, 'novelty': 5619, 'observant': 5620, 'obstacle': 5621, 'obtain': 5622, 'occurrence': 5623, 'odinions': 5624, 'odinly': 5625, 'opponent': 5626, 'outburst': 5627, 'outcry': 5628, 'overtake': 5629, 'pained': 5630, 'painting': 5631, 'paragraph': 5632, 'patients': 5633, 'patronage': 5634, 'paupers': 5635, 'perpetual': 5636, 'perplexed': 5637, 'persistent': 5638, 'pestle': 5639, 'pierced': 5640, 'pint': 5641, 'pipes': 5642, 'placing': 5643, 'poles': 5644, 'presents': 5645, 'privilege': 5646, 'projected': 5647, 'prosperous': 5648, 'pudding': 5649, 'purely': 5650, 'rankeillor': 5651, 'rattling': 5652, 'referring': 5653, 'relapsed': 5654, 'remonstrance': 5655, 'resented': 5656, 'response': 5657, 'robe': 5658, 'rood': 5659, 'sack': 5660, 'safer': 5661, 'sailing': 5662, 'salvation': 5663, 'sanguine': 5664, 'scale': 5665, 'schooner': 5666, 'scowling': 5667, 'september': 5668, 'serene': 5669, 'sheets': 5670, 'shewed': 5671, 'shriek': 5672, 'signature': 5673, 'sketch': 5674, 'smoothly': 5675, 'snuff': 5676, 'specimen': 5677, 'squeeze': 5678, 'staid': 5679, 'steam': 5680, 'stewart': 5681, 'sticking': 5682, 'stockade': 5683, 'submission': 5684, 'suffice': 5685, 'tangle': 5686, 'tease': 5687, 'tenant': 5688, 'testimony': 5689, 'throbbing': 5690, 'toil': 5691, 'tranquil': 5692, 'treachery': 5693, 'treating': 5694, 'tremulous': 5695, 'troublesome': 5696, 'tunstall': 5697, 'twentyfour': 5698, 'unsettled': 5699, 'utterance': 5700, 'vigorously': 5701, 'wearied': 5702, 'weighed': 5703, 'welcomed': 5704, 'westward': 5705, 'wholesome': 5706, 'wipe': 5707, 'workman': 5708, 'writhing': 5709, 'abashed': 5710, 'abrupt': 5711, 'aching': 5712, 'addresses': 5713, 'aha': 5714, 'aimed': 5715, 'alarms': 5716, 'alongside': 5717, 'alternative': 5718, 'amidst': 5719, 'andreas': 5720, 'animals': 5721, 'anticipation': 5722, 'arranging': 5723, 'assembly': 5724, 'atheist': 5725, 'audibly': 5726, 'beseech': 5727, 'blinded': 5728, 'bodys': 5729, 'bork': 5730, 'boyish': 5731, 'bred': 5732, 'breeches': 5733, 'breeding': 5734, 'bridle': 5735, 'bristol': 5736, 'brushed': 5737, 'canal': 5738, 'candid': 5739, 'casually': 5740, 'centuries': 5741, 'chances': 5742, 'chat': 5743, 'china': 5744, 'cigars': 5745, 'clatter': 5746, 'coal': 5747, 'compact': 5748, 'compassionate': 5749, 'complaining': 5750, 'compromise': 5751, 'concentrated': 5752, 'confine': 5753, 'confounded': 5754, 'connect': 5755, 'consumption': 5756, 'creaking': 5757, 'dainty': 5758, 'daisy': 5759, 'darting': 5760, 'daybreak': 5761, 'dealt': 5762, 'declaring': 5763, 'dejection': 5764, 'didst': 5765, 'disconnected': 5766, 'divined': 5767, 'documents': 5768, 'drooped': 5769, 'echo': 5770, 'ellis': 5771, 'engine': 5772, 'escorted': 5773, 'exciting': 5774, 'extensive': 5775, 'fascinated': 5776, 'ferry': 5777, 'fervour': 5778, 'flickering': 5779, 'flies': 5780, 'fort': 5781, 'fugitives': 5782, 'garcia': 5783, 'glorious': 5784, 'graces': 5785, 'graciously': 5786, 'graden': 5787, 'grain': 5788, 'greek': 5789, 'greet': 5790, 'grinned': 5791, 'gross': 5792, 'handy': 5793, 'hayter': 5794, 'healthy': 5795, 'heerd': 5796, 'hinder': 5797, 'homeward': 5798, 'huddled': 5799, 'humane': 5800, 'hushed': 5801, 'immensely': 5802, 'inconvenient': 5803, 'infant': 5804, 'initials': 5805, 'inwardly': 5806, 'july': 5807, 'kent': 5808, 'knoll': 5809, 'lashed': 5810, 'lightened': 5811, 'lined': 5812, 'lodger': 5813, 'management': 5814, 'manor': 5815, 'mantle': 5816, 'meek': 5817, 'mend': 5818, 'methinks': 5819, 'moaned': 5820, 'moss': 5821, 'mount': 5822, 'needless': 5823, 'negative': 5824, 'newcomer': 5825, 'observer': 5826, 'odds': 5827, 'odious': 5828, 'offers': 5829, 'opportunities': 5830, 'outlaw': 5831, 'outrage': 5832, 'overwhelming': 5833, 'paint': 5834, 'pang': 5835, 'patches': 5836, 'peered': 5837, 'pew': 5838, 'pit': 5839, 'pleasantry': 5840, 'pork': 5841, 'precautions': 5842, 'precise': 5843, 'procured': 5844, 'prodigious': 5845, 'prosperity': 5846, 'provoked': 5847, 'puzzle': 5848, 'readers': 5849, 'refined': 5850, 'relationship': 5851, 'resuming': 5852, 'returns': 5853, 'reverie': 5854, 'root': 5855, 'sally': 5856, 'sanction': 5857, 'scanty': 5858, 'screwed': 5859, 'sham': 5860, 'sinner': 5861, 'slipping': 5862, 'smiths': 5863, 'species': 5864, 'spoil': 5865, 'stabbed': 5866, 'stables': 5867, 'staggering': 5868, 'stain': 5869, 'states': 5870, 'stealthily': 5871, 'streaming': 5872, 'stroll': 5873, 'struggles': 5874, 'succeeding': 5875, 'sulky': 5876, 'sullenly': 5877, 'sunny': 5878, 'supreme': 5879, 'surly': 5880, 'surmise': 5881, 'surrounding': 5882, 'sustained': 5883, 'swallow': 5884, 'swarthy': 5885, 'thatll': 5886, 'therell': 5887, 'thine': 5888, 'tickets': 5889, 'trained': 5890, 'trip': 5891, 'troop': 5892, 'understands': 5893, 'unfolded': 5894, 'unique': 5895, 'unpardonable': 5896, 'vehemence': 5897, 'virgin': 5898, 'wailed': 5899, 'walker': 5900, 'wax': 5901, 'weigh': 5902, 'wickfields': 5903, 'wilkins': 5904, 'woe': 5905, 'worrying': 5906, 'wrought': 5907, 'yesterdays': 5908, 'yielded': 5909, 'abject': 5910, 'accordance': 5911, 'accurately': 5912, 'acquiescence': 5913, 'amen': 5914, 'anecdote': 5915, 'anon': 5916, 'anonymous': 5917, 'ardent': 5918, 'arising': 5919, 'arras': 5920, 'ascertained': 5921, 'asserted': 5922, 'attractions': 5923, 'aught': 5924, 'bacon': 5925, 'beings': 5926, 'bleeding': 5927, 'blunt': 5928, 'boards': 5929, 'boasted': 5930, 'boiled': 5931, 'bond': 5932, 'bowl': 5933, 'brighton': 5934, 'bully': 5935, 'bury': 5936, 'canvas': 5937, 'cecil': 5938, 'chart': 5939, 'cheery': 5940, 'civilities': 5941, 'civilly': 5942, 'clap': 5943, 'cleanshaven': 5944, 'clouded': 5945, 'complacency': 5946, 'concluding': 5947, 'confirm': 5948, 'confronted': 5949, 'considerate': 5950, 'contest': 5951, 'conversations': 5952, 'correspondent': 5953, 'councillor': 5954, 'cowardly': 5955, 'cream': 5956, 'crouched': 5957, 'crutch': 5958, 'dagger': 5959, 'data': 5960, 'dated': 5961, 'debate': 5962, 'deception': 5963, 'deduce': 5964, 'deserves': 5965, 'discipline': 5966, 'disdainfully': 5967, 'disregarded': 5968, 'distressing': 5969, 'dixon': 5970, 'doomed': 5971, 'downcast': 5972, 'dug': 5973, 'dusty': 5974, 'earrings': 5975, 'effected': 5976, 'electric': 5977, 'elses': 5978, 'enclosed': 5979, 'enclosure': 5980, 'engineer': 5981, 'engrossed': 5982, 'enscombe': 5983, 'ettie': 5984, 'evils': 5985, 'excess': 5986, 'expert': 5987, 'factory': 5988, 'farce': 5989, 'favoured': 5990, 'ferapont': 5991, 'fists': 5992, 'flowed': 5993, 'followers': 5994, 'forces': 5995, 'gascon': 5996, 'gasp': 5997, 'gigantic': 5998, 'giv': 5999, 'gleaming': 6000, 'glittering': 6001, 'glowed': 6002, 'goodmorning': 6003, 'grate': 6004, 'grating': 6005, 'grievous': 6006, 'groping': 6007, 'hallo': 6008, 'handful': 6009, 'harbour': 6010, 'hats': 6011, 'hehe': 6012, 'hoarsely': 6013, 'hurrah': 6014, 'immovable': 6015, 'impertinent': 6016, 'influenced': 6017, 'ingratitude': 6018, 'inmates': 6019, 'insignificant': 6020, 'instances': 6021, 'introducing': 6022, 'inviting': 6023, 'irresistibly': 6024, 'journeys': 6025, 'judgement': 6026, 'kindhearted': 6027, 'lands': 6028, 'launch': 6029, 'lecture': 6030, 'lessen': 6031, 'literature': 6032, 'lodged': 6033, 'losses': 6034, 'machine': 6035, 'mason': 6036, 'matthew': 6037, 'mix': 6038, 'mournfully': 6039, 'moustache': 6040, 'mouths': 6041, 'musgrave': 6042, 'nobleman': 6043, 'noiselessly': 6044, 'obstinacy': 6045, 'oldest': 6046, 'originally': 6047, 'pantry': 6048, 'pathetic': 6049, 'penitence': 6050, 'perchance': 6051, 'perilous': 6052, 'physician': 6053, 'piled': 6054, 'plants': 6055, 'plays': 6056, 'pledged': 6057, 'polished': 6058, 'posture': 6059, 'pounced': 6060, 'preceded': 6061, 'prices': 6062, 'proclaimed': 6063, 'promotion': 6064, 'protected': 6065, 'pursuits': 6066, 'puts': 6067, 'quinion': 6068, 'radiant': 6069, 'reappeared': 6070, 'recognition': 6071, 'redheaded': 6072, 'regards': 6073, 'relics': 6074, 'remembrances': 6075, 'removing': 6076, 'renewal': 6077, 'requires': 6078, 'rescue': 6079, 'respecting': 6080, 'retreating': 6081, 'reverently': 6082, 'revoir': 6083, 'revolting': 6084, 'revolution': 6085, 'ridicule': 6086, 'rooted': 6087, 'rorie': 6088, 'rug': 6089, 'ruins': 6090, 'rung': 6091, 'sadness': 6092, 'salutation': 6093, 'samsonov': 6094, 'sarcastically': 6095, 'scandalous': 6096, 'scoundrels': 6097, 'senior': 6098, 'shadowy': 6099, 'shaggy': 6100, 'sheer': 6101, 'shivered': 6102, 'significantly': 6103, 'situations': 6104, 'skeleton': 6105, 'skylight': 6106, 'snap': 6107, 'spoon': 6108, 'starving': 6109, 'stoutly': 6110, 'stove': 6111, 'strangest': 6112, 'stunned': 6113, 'suddenness': 6114, 'suspecting': 6115, 'tablecloth': 6116, 'tap': 6117, 'tempt': 6118, 'tenants': 6119, 'tent': 6120, 'theme': 6121, 'thirst': 6122, 'threat': 6123, 'throne': 6124, 'timber': 6125, 'topic': 6126, 'toss': 6127, 'tracks': 6128, 'trials': 6129, 'trod': 6130, 'tunnel': 6131, 'turnkey': 6132, 'unhappily': 6133, 'urge': 6134, 'vices': 6135, 'villa': 6136, 'vivid': 6137, 'vrublevsky': 6138, 'wager': 6139, 'wail': 6140, 'welfare': 6141, 'whiskers': 6142, 'wisely': 6143, 'workhouse': 6144, 'acceptable': 6145, 'accounted': 6146, 'accurate': 6147, 'adieu': 6148, 'adversary': 6149, 'adviser': 6150, 'afresh': 6151, 'agafya': 6152, 'alliance': 6153, 'anchor': 6154, 'angels': 6155, 'april': 6156, 'assertion': 6157, 'associations': 6158, 'astounded': 6159, 'august': 6160, 'babe': 6161, 'badge': 6162, 'bearded': 6163, 'befell': 6164, 'befodin': 6165, 'believes': 6166, 'betraying': 6167, 'bloom': 6168, 'blurted': 6169, 'borrow': 6170, 'borrowed': 6171, 'bridegroom': 6172, 'bull': 6173, 'busily': 6174, 'bye': 6175, 'capture': 6176, 'chattering': 6177, 'chicken': 6178, 'choosing': 6179, 'clocks': 6180, 'closet': 6181, 'cog': 6182, 'color': 6183, 'companies': 6184, 'complicated': 6185, 'concert': 6186, 'confided': 6187, 'constancy': 6188, 'contain': 6189, 'curled': 6190, 'curve': 6191, 'custody': 6192, 'dangling': 6193, 'deficient': 6194, 'definitely': 6195, 'defy': 6196, 'degradation': 6197, 'delayed': 6198, 'depression': 6199, 'detained': 6200, 'detectives': 6201, 'disinterested': 6202, 'diverted': 6203, 'doady': 6204, 'donkey': 6205, 'drily': 6206, 'duncan': 6207, 'eccles': 6208, 'effective': 6209, 'egg': 6210, 'eggs': 6211, 'elevated': 6212, 'embers': 6213, 'ending': 6214, 'englishmen': 6215, 'entitled': 6216, 'estates': 6217, 'eve': 6218, 'exclaim': 6219, 'experiences': 6220, 'extremity': 6221, 'farthest': 6222, 'february': 6223, 'fervently': 6224, 'feverishly': 6225, 'file': 6226, 'fishing': 6227, 'fling': 6228, 'floated': 6229, 'flowing': 6230, 'folks': 6231, 'gar': 6232, 'ghostly': 6233, 'goodhumour': 6234, 'goodnature': 6235, 'gravel': 6236, 'greedily': 6237, 'grinding': 6238, 'groans': 6239, 'growth': 6240, 'guards': 6241, 'harness': 6242, 'headlong': 6243, 'helmet': 6244, 'herand': 6245, 'hidingplace': 6246, 'highnesss': 6247, 'hissed': 6248, 'honours': 6249, 'hopelessly': 6250, 'horn': 6251, 'il': 6252, 'imitate': 6253, 'implied': 6254, 'imposed': 6255, 'imprisonment': 6256, 'imprudence': 6257, 'indispensable': 6258, 'infamous': 6259, 'inspiration': 6260, 'instructed': 6261, 'involuntary': 6262, 'islands': 6263, 'italy': 6264, 'jerkin': 6265, 'lance': 6266, 'lances': 6267, 'landowner': 6268, 'leathern': 6269, 'limb': 6270, 'limit': 6271, 'littimer': 6272, 'loan': 6273, 'loathing': 6274, 'locks': 6275, 'luckily': 6276, 'lucys': 6277, 'luxurious': 6278, 'lyons': 6279, 'mac': 6280, 'madly': 6281, 'marble': 6282, 'marvel': 6283, 'medium': 6284, 'meekly': 6285, 'mildly': 6286, 'mill': 6287, 'minnie': 6288, 'modestly': 6289, 'moriarty': 6290, 'naught': 6291, 'needful': 6292, 'net': 6293, 'newly': 6294, 'nno': 6295, 'notorious': 6296, 'nursing': 6297, 'obligations': 6298, 'obscurity': 6299, 'orange': 6300, 'outrageous': 6301, 'outstretched': 6302, 'overpowering': 6303, 'owned': 6304, 'panted': 6305, 'paradise': 6306, 'paroxysm': 6307, 'parson': 6308, 'partially': 6309, 'pauls': 6310, 'pension': 6311, 'perseverance': 6312, 'picturesque': 6313, 'pitched': 6314, 'planning': 6315, 'politics': 6316, 'possessions': 6317, 'postoffice': 6318, 'praises': 6319, 'preliminary': 6320, 'preparatory': 6321, 'project': 6322, 'prominent': 6323, 'published': 6324, 'pulse': 6325, 'punctually': 6326, 'pupils': 6327, 'puppy': 6328, 'qualified': 6329, 'quarrels': 6330, 'que': 6331, 'quitting': 6332, 'raging': 6333, 'rays': 6334, 'reconcile': 6335, 'relating': 6336, 'reluctantly': 6337, 'resisted': 6338, 'retreated': 6339, 'riches': 6340, 'ridden': 6341, 'righteous': 6342, 'robbers': 6343, 'rosy': 6344, 'rub': 6345, 'ruffled': 6346, 'sails': 6347, 'sarcastic': 6348, 'sends': 6349, 'sentences': 6350, 'sentry': 6351, 'sermon': 6352, 'significant': 6353, 'simpson': 6354, 'situated': 6355, 'slammed': 6356, 'slapped': 6357, 'soften': 6358, 'solomon': 6359, 'songs': 6360, 'sounding': 6361, 'southampton': 6362, 'spat': 6363, 'sped': 6364, 'spoilt': 6365, 'spray': 6366, 'springs': 6367, 'stains': 6368, 'stamp': 6369, 'steward': 6370, 'stray': 6371, 'strayed': 6372, 'stumbling': 6373, 'sunken': 6374, 'sunset': 6375, 'superfluous': 6376, 'superstition': 6377, 'superstitious': 6378, 'survey': 6379, 'talkative': 6380, 'taylor': 6381, 'threaten': 6382, 'tools': 6383, 'torches': 6384, 'tout': 6385, 'towel': 6386, 'transformed': 6387, 'transparent': 6388, 'tranter': 6389, 'traversed': 6390, 'tribunal': 6391, 'twitched': 6392, 'unbounded': 6393, 'untouched': 6394, 'valiant': 6395, 'verandah': 6396, 'w': 6397, 'warming': 6398, 'watchman': 6399, 'wherein': 6400, 'whist': 6401, 'widower': 6402, 'wrathfully': 6403, 'wrinkled': 6404, 'yew': 6405, 'zhutchka': 6406, 'abused': 6407, 'ache': 6408, 'acknowledgment': 6409, 'administered': 6410, 'adorned': 6411, 'affectation': 6412, 'aghast': 6413, 'airs': 6414, 'alter': 6415, 'ames': 6416, 'anothers': 6417, 'anxieties': 6418, 'appealing': 6419, 'appin': 6420, 'approving': 6421, 'assuming': 6422, 'beggars': 6423, 'berth': 6424, 'bicycle': 6425, 'bidden': 6426, 'bielokonski': 6427, 'bishops': 6428, 'bland': 6429, 'bloodstained': 6430, 'candlestick': 6431, 'chains': 6432, 'clambered': 6433, 'cleaned': 6434, 'cleverer': 6435, 'codinn': 6436, 'commercial': 6437, 'compartment': 6438, 'complied': 6439, 'compose': 6440, 'compressed': 6441, 'conception': 6442, 'constraint': 6443, 'convincing': 6444, 'coolness': 6445, 'correctly': 6446, 'costume': 6447, 'coughed': 6448, 'cowardice': 6449, 'crave': 6450, 'crawled': 6451, 'crisp': 6452, 'criticism': 6453, 'crowds': 6454, 'crowns': 6455, 'crumpled': 6456, 'culture': 6457, 'custoodin': 6458, 'demands': 6459, 'descending': 6460, 'deserving': 6461, 'diabolical': 6462, 'dies': 6463, 'dignitary': 6464, 'disaster': 6465, 'discreet': 6466, 'dispose': 6467, 'donwell': 6468, 'doth': 6469, 'downwards': 6470, 'dressingroom': 6471, 'drowning': 6472, 'duly': 6473, 'ecstatic': 6474, 'embracing': 6475, 'en': 6476, 'exaggerate': 6477, 'exile': 6478, 'expedient': 6479, 'fairy': 6480, 'fewer': 6481, 'fireside': 6482, 'flock': 6483, 'flown': 6484, 'fomitch': 6485, 'fondly': 6486, 'fowl': 6487, 'fox': 6488, 'framed': 6489, 'freshness': 6490, 'gaiters': 6491, 'gale': 6492, 'gas': 6493, 'ghosts': 6494, 'gladness': 6495, 'growl': 6496, 'guinea': 6497, 'guitar': 6498, 'halt': 6499, 'hampshire': 6500, 'hangs': 6501, 'headache': 6502, 'heavenly': 6503, 'helplessly': 6504, 'henceforth': 6505, 'hillside': 6506, 'holiday': 6507, 'homes': 6508, 'hounds': 6509, 'housemaid': 6510, 'hullo': 6511, 'hurled': 6512, 'hysterically': 6513, 'ikon': 6514, 'imagining': 6515, 'immortality': 6516, 'imparted': 6517, 'imperfect': 6518, 'incessantly': 6519, 'incongruous': 6520, 'indoors': 6521, 'inquisitively': 6522, 'insect': 6523, 'instruments': 6524, 'issued': 6525, 'ivans': 6526, 'january': 6527, 'journeyed': 6528, 'judicious': 6529, 'kettle': 6530, 'kicked': 6531, 'kisses': 6532, 'lass': 6533, 'liver': 6534, 'livid': 6535, 'lump': 6536, 'lunatic': 6537, 'majestically': 6538, 'majority': 6539, 'manifest': 6540, 'mansion': 6541, 'materially': 6542, 'mended': 6543, 'mess': 6544, 'misha': 6545, 'morbid': 6546, 'mumbled': 6547, 'mused': 6548, 'muskets': 6549, 'mute': 6550, 'napoleon': 6551, 'necessarily': 6552, 'necklace': 6553, 'negro': 6554, 'nicely': 6555, 'noi': 6556, 'nought': 6557, 'novels': 6558, 'nursed': 6559, 'ocean': 6560, 'olalla': 6561, 'onward': 6562, 'packing': 6563, 'paths': 6564, 'penetration': 6565, 'penitent': 6566, 'perish': 6567, 'persistently': 6568, 'persuading': 6569, 'perturbation': 6570, 'philosopher': 6571, 'pinch': 6572, 'plague': 6573, 'plant': 6574, 'pope': 6575, 'preaching': 6576, 'presentation': 6577, 'privately': 6578, 'proprietor': 6579, 'protector': 6580, 'proves': 6581, 'pupil': 6582, 'quiver': 6583, 'rat': 6584, 'remarking': 6585, 'renew': 6586, 'representation': 6587, 'resume': 6588, 'revive': 6589, 'richest': 6590, 'rider': 6591, 'roadway': 6592, 'rot': 6593, 'rounds': 6594, 'route': 6595, 'rustling': 6596, 'scholar': 6597, 'scissors': 6598, 'scolding': 6599, 'scrap': 6600, 'scratching': 6601, 'shatushka': 6602, 'shrugging': 6603, 'sixth': 6604, 'slaves': 6605, 'sleeper': 6606, 'slender': 6607, 'snarled': 6608, 'sordid': 6609, 'speedy': 6610, 'spies': 6611, 'split': 6612, 'spotted': 6613, 'squeezing': 6614, 'stationed': 6615, 'strongs': 6616, 'stubbs': 6617, 'sunlight': 6618, 'supplication': 6619, 'surgery': 6620, 'swelled': 6621, 'taller': 6622, 'teachers': 6623, 'teapot': 6624, 'tearful': 6625, 'temples': 6626, 'thirteen': 6627, 'thoughtless': 6628, 'throws': 6629, 'tip': 6630, 'toes': 6631, 'torch': 6632, 'tour': 6633, 'toward': 6634, 'toy': 6635, 'tradesman': 6636, 'twelvemonth': 6637, 'unmoved': 6638, 'uppermost': 6639, 'vapour': 6640, 'victims': 6641, 'vividly': 6642, 'walters': 6643, 'wavering': 6644, 'waves': 6645, 'weariness': 6646, 'wills': 6647, 'wisp': 6648, 'witty': 6649, 'wolf': 6650, 'wry': 6651, 'x': 6652, 'yegorytch': 6653, 'acceptance': 6654, 'accommodation': 6655, 'accuracy': 6656, 'acquitted': 6657, 'admitting': 6658, 'advocate': 6659, 'afanasy': 6660, 'alexander': 6661, 'alicia': 6662, 'ambush': 6663, 'andand': 6664, 'anew': 6665, 'appealed': 6666, 'apprehensions': 6667, 'apt': 6668, 'arisen': 6669, 'articulate': 6670, 'arts': 6671, 'ash': 6672, 'assuring': 6673, 'asunder': 6674, 'attacking': 6675, 'attire': 6676, 'bargemen': 6677, 'basis': 6678, 'bedstead': 6679, 'bedwin': 6680, 'befall': 6681, 'benevolence': 6682, 'berlin': 6683, 'blessington': 6684, 'blinds': 6685, 'bolder': 6686, 'borders': 6687, 'breadth': 6688, 'bundles': 6689, 'calamity': 6690, 'camden': 6691, 'cape': 6692, 'carelessness': 6693, 'carrier': 6694, 'caves': 6695, 'ce': 6696, 'chalk': 6697, 'channel': 6698, 'characteristics': 6699, 'charges': 6700, 'charing': 6701, 'chateau': 6702, 'cheerily': 6703, 'chimed': 6704, 'chitling': 6705, 'chodinged': 6706, 'circuit': 6707, 'clan': 6708, 'click': 6709, 'colouring': 6710, 'commendation': 6711, 'commonly': 6712, 'competent': 6713, 'conceit': 6714, 'confirmation': 6715, 'conquest': 6716, 'conspiracy': 6717, 'consternation': 6718, 'contributed': 6719, 'convulsively': 6720, 'courses': 6721, 'crust': 6722, 'curtly': 6723, 'curtsey': 6724, 'daria': 6725, 'dashing': 6726, 'dates': 6727, 'declares': 6728, 'defeat': 6729, 'defiant': 6730, 'delaford': 6731, 'demeanour': 6732, 'demon': 6733, 'detect': 6734, 'diffidence': 6735, 'disappoint': 6736, 'disgusted': 6737, 'dishes': 6738, 'divinity': 6739, 'dozing': 6740, 'drug': 6741, 'easter': 6742, 'elect': 6743, 'enoch': 6744, 'entertaining': 6745, 'estimate': 6746, 'everlasting': 6747, 'excellence': 6748, 'exceptional': 6749, 'excused': 6750, 'excuses': 6751, 'exeter': 6752, 'eyeing': 6753, 'faintest': 6754, 'felipe': 6755, 'firing': 6756, 'fiveandtwenty': 6757, 'flask': 6758, 'flattery': 6759, 'fluttering': 6760, 'foi': 6761, 'foliage': 6762, 'forbearance': 6763, 'forcibly': 6764, 'formally': 6765, 'fret': 6766, 'frosty': 6767, 'fruits': 6768, 'g': 6769, 'grimpen': 6770, 'hail': 6771, 'handled': 6772, 'harrison': 6773, 'hasten': 6774, 'haughtily': 6775, 'heaps': 6776, 'heated': 6777, 'heights': 6778, 'highway': 6779, 'homely': 6780, 'hood': 6781, 'humbug': 6782, 'hunted': 6783, 'hurst': 6784, 'imminent': 6785, 'impending': 6786, 'imperfectly': 6787, 'improvements': 6788, 'impudence': 6789, 'inhabited': 6790, 'injure': 6791, 'innkeeper': 6792, 'inscription': 6793, 'instruction': 6794, 'insufferable': 6795, 'insupportable': 6796, 'intimately': 6797, 'intrigue': 6798, 'intrusion': 6799, 'invent': 6800, 'invention': 6801, 'inward': 6802, 'jesus': 6803, 'joram': 6804, 'journal': 6805, 'kindest': 6806, 'landscape': 6807, 'latch': 6808, 'latters': 6809, 'lions': 6810, 'listeners': 6811, 'loft': 6812, 'lookingglass': 6813, 'lordship': 6814, 'lust': 6815, 'malady': 6816, 'mantelpiece': 6817, 'meanness': 6818, 'meditating': 6819, 'meetings': 6820, 'meets': 6821, 'memorable': 6822, 'mines': 6823, 'minutely': 6824, 'misgiving': 6825, 'misunderstanding': 6826, 'moodin': 6827, 'nation': 6828, 'nicolai': 6829, 'nightfall': 6830, 'nineteen': 6831, 'noisy': 6832, 'northern': 6833, 'offense': 6834, 'oftener': 6835, 'oil': 6836, 'overboard': 6837, 'oysters': 6838, 'patiently': 6839, 'payment': 6840, 'pays': 6841, 'pecuniary': 6842, 'penetrate': 6843, 'perished': 6844, 'personality': 6845, 'petition': 6846, 'phenomenon': 6847, 'piano': 6848, 'pine': 6849, 'pines': 6850, 'planted': 6851, 'plump': 6852, 'plunder': 6853, 'policestation': 6854, 'powdered': 6855, 'practised': 6856, 'preserving': 6857, 'problems': 6858, 'profoundly': 6859, 'prophet': 6860, 'prostrate': 6861, 'provinces': 6862, 'provincial': 6863, 'proving': 6864, 'provoking': 6865, 'publicity': 6866, 'pushkin': 6867, 'questioner': 6868, 'quickened': 6869, 'radiance': 6870, 'raptures': 6871, 'ray': 6872, 'reassured': 6873, 'rebel': 6874, 'repair': 6875, 'repaired': 6876, 'resolving': 6877, 'retort': 6878, 'reverse': 6879, 'rivers': 6880, 'robin': 6881, 'roost': 6882, 'roots': 6883, 'roundhouse': 6884, 'sahib': 6885, 'sale': 6886, 'salem': 6887, 'sallow': 6888, 'scrambled': 6889, 'scribbled': 6890, 'scrupulous': 6891, 'selected': 6892, 'selection': 6893, 'serf': 6894, 'serving': 6895, 'shores': 6896, 'shrew': 6897, 'shrieks': 6898, 'shutter': 6899, 'simplest': 6900, 'singularly': 6901, 'skirt': 6902, 'sloping': 6903, 'smelt': 6904, 'soninlaw': 6905, 'soothed': 6906, 'sorely': 6907, 'sparkled': 6908, 'sparrow': 6909, 'spasov': 6910, 'specimens': 6911, 'spit': 6912, 'spreading': 6913, 'stab': 6914, 'statue': 6915, 'stature': 6916, 'steeles': 6917, 'stopt': 6918, 'stuffed': 6919, 'stump': 6920, 'stupidly': 6921, 'submissive': 6922, 'sufferer': 6923, 'suits': 6924, 'summers': 6925, 'summon': 6926, 'superintendent': 6927, 'supporting': 6928, 'surveying': 6929, 'suspiciously': 6930, 'sweat': 6931, 'tarry': 6932, 'tended': 6933, 'throng': 6934, 'tiger': 6935, 'tim': 6936, 'towns': 6937, 'trader': 6938, 'travels': 6939, 'treaty': 6940, 'tremor': 6941, 'trim': 6942, 'troops': 6943, 'trusting': 6944, 'unaccountable': 6945, 'unfair': 6946, 'ungracious': 6947, 'unhappiness': 6948, 'universally': 6949, 'universe': 6950, 'valise': 6951, 'van': 6952, 'venerable': 6953, 'vessels': 6954, 'vital': 6955, 'voluntary': 6956, 'wailing': 6957, 'warmest': 6958, 'weaker': 6959, 'welltodo': 6960, 'western': 6961, 'whereabouts': 6962, 'wherefore': 6963, 'whimpering': 6964, 'whirl': 6965, 'yawning': 6966, 'actress': 6967, 'advancement': 6968, 'advantageous': 6969, 'afflicted': 6970, 'ajar': 6971, 'albany': 6972, 'alec': 6973, 'annoy': 6974, 'apparition': 6975, 'appleyard': 6976, 'array': 6977, 'askance': 6978, 'ballroom': 6979, 'bandbox': 6980, 'barclay': 6981, 'blazed': 6982, 'bleak': 6983, 'boasting': 6984, 'bony': 6985, 'border': 6986, 'brace': 6987, 'bravely': 6988, 'bruised': 6989, 'bustling': 6990, 'calculation': 6991, 'capricious': 6992, 'caring': 6993, 'chaplain': 6994, 'cheat': 6995, 'chivalry': 6996, 'clearness': 6997, 'cleft': 6998, 'climate': 6999, 'complex': 7000, 'conductor': 7001, 'confidentially': 7002, 'connexions': 7003, 'consequent': 7004, 'contradiction': 7005, 'controlled': 7006, 'conversing': 7007, 'cooked': 7008, 'countinghouse': 7009, 'cow': 7010, 'creep': 7011, 'cripple': 7012, 'danl': 7013, 'darkly': 7014, 'dazed': 7015, 'deacon': 7016, 'dealer': 7017, 'decay': 7018, 'deduced': 7019, 'defer': 7020, 'deliberate': 7021, 'denial': 7022, 'denying': 7023, 'despatch': 7024, 'despatched': 7025, 'detached': 7026, 'devilish': 7027, 'dictionary': 7028, 'dispatched': 7029, 'disreputable': 7030, 'dissolved': 7031, 'dock': 7032, 'doorstep': 7033, 'downward': 7034, 'dowry': 7035, 'drunkenness': 7036, 'duff': 7037, 'edinburgh': 7038, 'elements': 7039, 'endowed': 7040, 'endurance': 7041, 'energies': 7042, 'enthusiastic': 7043, 'epileptic': 7044, 'essence': 7045, 'external': 7046, 'falsehood': 7047, 'feathers': 7048, 'fetched': 7049, 'fidelity': 7050, 'firstrate': 7051, 'flavour': 7052, 'floating': 7053, 'footstep': 7054, 'forfeit': 7055, 'foundations': 7056, 'fragment': 7057, 'fte': 7058, 'functionary': 7059, 'gait': 7060, 'gamfield': 7061, 'garments': 7062, 'generations': 7063, 'gentlemanly': 7064, 'gospel': 7065, 'gratefully': 7066, 'groaning': 7067, 'guessing': 7068, 'guillotine': 7069, 'halted': 7070, 'halting': 7071, 'hardship': 7072, 'heaved': 7073, 'hem': 7074, 'hindrance': 7075, 'huts': 7076, 'identified': 7077, 'idleness': 7078, 'images': 7079, 'imaginary': 7080, 'impelled': 7081, 'impetuous': 7082, 'imposing': 7083, 'improper': 7084, 'indebted': 7085, 'inevitably': 7086, 'infer': 7087, 'influences': 7088, 'inseparable': 7089, 'insufficient': 7090, 'intervened': 7091, 'invaluable': 7092, 'ironically': 7093, 'irritate': 7094, 'iti': 7095, 'jackson': 7096, 'jerk': 7097, 'jewel': 7098, 'joints': 7099, 'kondratyevna': 7100, 'kuzma': 7101, 'lanyon': 7102, 'lasting': 7103, 'log': 7104, 'maids': 7105, 'maman': 7106, 'marsh': 7107, 'martins': 7108, 'menace': 7109, 'mercenary': 7110, 'michaelmas': 7111, 'mistakes': 7112, 'mistrust': 7113, 'mittwalden': 7114, 'mob': 7115, 'moir': 7116, 'muster': 7117, 'naething': 7118, 'narrowly': 7119, 'necks': 7120, 'neighborhood': 7121, 'nikodim': 7122, 'norbury': 7123, 'normal': 7124, 'notable': 7125, 'obedience': 7126, 'odinson': 7127, 'onwards': 7128, 'organ': 7129, 'p': 7130, 'partition': 7131, 'passport': 7132, 'permanent': 7133, 'pictured': 7134, 'pinned': 7135, 'pitiable': 7136, 'plead': 7137, 'pleading': 7138, 'plymouth': 7139, 'polish': 7140, 'pooh': 7141, 'potatoes': 7142, 'presumed': 7143, 'presumption': 7144, 'prevail': 7145, 'priests': 7146, 'punished': 7147, 'purity': 7148, 'quote': 7149, 'rapped': 7150, 'rapturously': 7151, 'reads': 7152, 'reasoned': 7153, 'redfaced': 7154, 'relatives': 7155, 'relic': 7156, 'retirement': 7157, 'rewarded': 7158, 'ribbons': 7159, 'ribs': 7160, 'rogues': 7161, 'rounded': 7162, 'ruffian': 7163, 'rustle': 7164, 'sands': 7165, 'sandy': 7166, 'scots': 7167, 'scowrers': 7168, 'scrape': 7169, 'scruodin': 7170, 'scrymgeour': 7171, 'scuffle': 7172, 'sensibility': 7173, 'serenity': 7174, 'settlement': 7175, 'shrank': 7176, 'sixpence': 7177, 'skins': 7178, 'slate': 7179, 'sleeps': 7180, 'sliding': 7181, 'slung': 7182, 'smartly': 7183, 'soho': 7184, 'soothe': 7185, 'spark': 7186, 'spyglass': 7187, 'stealthy': 7188, 'stoop': 7189, 'storey': 7190, 'striving': 7191, 'strove': 7192, 'sturdy': 7193, 'subsided': 7194, 'surf': 7195, 'surveyed': 7196, 'suspended': 7197, 'sussex': 7198, 'swearing': 7199, 'sweetest': 7200, 'swim': 7201, 'tangled': 7202, 'tattered': 7203, 'tedious': 7204, 'telegraph': 7205, 'tempest': 7206, 'thanking': 7207, 'theer': 7208, 'thirtyfive': 7209, 'thomson': 7210, 'thoroughfare': 7211, 'tinker': 7212, 'tint': 7213, 'tooth': 7214, 'tow': 7215, 'troubling': 7216, 'trumpet': 7217, 'trunks': 7218, 'trustworthy': 7219, 'turner': 7220, 'twentieth': 7221, 'twinkled': 7222, 'twins': 7223, 'unavailing': 7224, 'unchanged': 7225, 'undergone': 7226, 'undertaken': 7227, 'unfit': 7228, 'ushered': 7229, 'vainly': 7230, 'vanish': 7231, 'varying': 7232, 'verdict': 7233, 'wages': 7234, 'waits': 7235, 'wasting': 7236, 'weel': 7237, 'wells': 7238, 'wheeled': 7239, 'whereas': 7240, 'whisker': 7241, 'winchester': 7242, 'wintry': 7243, 'wounds': 7244, 'yielding': 7245, 'youyou': 7246, 'ability': 7247, 'abreast': 7248, 'abundance': 7249, 'access': 7250, 'admirably': 7251, 'advisable': 7252, 'alleys': 7253, 'aloof': 7254, 'amazingly': 7255, 'amendment': 7256, 'amends': 7257, 'anisim': 7258, 'announcement': 7259, 'apemen': 7260, 'apiece': 7261, 'apprehensive': 7262, 'arbour': 7263, 'arter': 7264, 'ascent': 7265, 'aspirations': 7266, 'assault': 7267, 'assisting': 7268, 'assuredly': 7269, 'avenge': 7270, 'awkwardly': 7271, 'awkwardness': 7272, 'bags': 7273, 'bandage': 7274, 'barrels': 7275, 'barren': 7276, 'begs': 7277, 'belly': 7278, 'blacksmith': 7279, 'blandly': 7280, 'blanket': 7281, 'blast': 7282, 'blossom': 7283, 'blotted': 7284, 'boar': 7285, 'bonny': 7286, 'bother': 7287, 'brabanter': 7288, 'brewery': 7289, 'brushwood': 7290, 'bulky': 7291, 'bunch': 7292, 'burger': 7293, 'businesslike': 7294, 'cadogan': 7295, 'calculations': 7296, 'camilla': 7297, 'cash': 7298, 'cemetery': 7299, 'certes': 7300, 'certificate': 7301, 'chariot': 7302, 'cher': 7303, 'chimneypiece': 7304, 'chimneys': 7305, 'chodingers': 7306, 'choking': 7307, 'circular': 7308, 'columns': 7309, 'commanding': 7310, 'commented': 7311, 'condescended': 7312, 'confide': 7313, 'confidences': 7314, 'construction': 7315, 'consumed': 7316, 'contact': 7317, 'contorted': 7318, 'cooking': 7319, 'copse': 7320, 'cords': 7321, 'costs': 7322, 'countries': 7323, 'covert': 7324, 'crashing': 7325, 'curses': 7326, 'curved': 7327, 'cushing': 7328, 'cushions': 7329, 'daresay': 7330, 'dass': 7331, 'dears': 7332, 'declining': 7333, 'deduction': 7334, 'deformed': 7335, 'degrading': 7336, 'delightfully': 7337, 'deposited': 7338, 'derbyshire': 7339, 'desiring': 7340, 'despondency': 7341, 'detested': 7342, 'device': 7343, 'dig': 7344, 'dingy': 7345, 'dinners': 7346, 'disadvantage': 7347, 'discoloured': 7348, 'discoveries': 7349, 'dispersed': 7350, 'dooty': 7351, 'downright': 7352, 'dramatic': 7353, 'drawled': 7354, 'droll': 7355, 'economy': 7356, 'effectually': 7357, 'eighty': 7358, 'elapsed': 7359, 'elephant': 7360, 'eloquent': 7361, 'emergency': 7362, 'errors': 7363, 'est': 7364, 'establish': 7365, 'estimation': 7366, 'existing': 7367, 'expects': 7368, 'exploits': 7369, 'extending': 7370, 'extravagance': 7371, 'failing': 7372, 'farmers': 7373, 'fascination': 7374, 'fastening': 7375, 'feed': 7376, 'fiend': 7377, 'firelight': 7378, 'foes': 7379, 'forearm': 7380, 'forester': 7381, 'frail': 7382, 'fugitive': 7383, 'furthest': 7384, 'galloping': 7385, 'gascony': 7386, 'gentlemanlike': 7387, 'glee': 7388, 'glittered': 7389, 'globe': 7390, 'graves': 7391, 'hah': 7392, 'hardhearted': 7393, 'harvilles': 7394, 'hauled': 7395, 'hearers': 7396, 'hedges': 7397, 'honored': 7398, 'hotels': 7399, 'housekeeping': 7400, 'hue': 7401, 'hughes': 7402, 'humor': 7403, 'ikons': 7404, 'illhumour': 7405, 'impertinence': 7406, 'imply': 7407, 'impropriety': 7408, 'improving': 7409, 'inclinations': 7410, 'indecision': 7411, 'indicating': 7412, 'infancy': 7413, 'informing': 7414, 'innocently': 7415, 'innumerable': 7416, 'inspire': 7417, 'instantaneous': 7418, 'institution': 7419, 'intensely': 7420, 'intrude': 7421, 'involve': 7422, 'irresolute': 7423, 'isolated': 7424, 'jacks': 7425, 'jail': 7426, 'jaws': 7427, 'jelland': 7428, 'jonathan': 7429, 'kenyon': 7430, 'kite': 7431, 'l': 7432, 'laboratory': 7433, 'labours': 7434, 'laden': 7435, 'lament': 7436, 'lamplight': 7437, 'lanes': 7438, 'librarian': 7439, 'loitering': 7440, 'lounging': 7441, 'magic': 7442, 'malthus': 7443, 'maltroit': 7444, 'manchester': 7445, 'masterful': 7446, 'materials': 7447, 'meddle': 7448, 'meditations': 7449, 'memorial': 7450, 'metropolis': 7451, 'miserably': 7452, 'moderation': 7453, 'monotonous': 7454, 'motioning': 7455, 'moves': 7456, 'muffled': 7457, 'mutineers': 7458, 'nations': 7459, 'navy': 7460, 'nest': 7461, 'norwood': 7462, 'nostrils': 7463, 'novice': 7464, 'omitted': 7465, 'onion': 7466, 'ornament': 7467, 'orphans': 7468, 'painter': 7469, 'parade': 7470, 'pas': 7471, 'percy': 7472, 'philip': 7473, 'pier': 7474, 'piping': 7475, 'pirate': 7476, 'plainer': 7477, 'plausible': 7478, 'playfulness': 7479, 'poisonous': 7480, 'poorer': 7481, 'poorly': 7482, 'pretensions': 7483, 'prisons': 7484, 'proposals': 7485, 'punctual': 7486, 'pursuers': 7487, 'quaint': 7488, 'queens': 7489, 'recommending': 7490, 'reconciliation': 7491, 'region': 7492, 'replies': 7493, 'reproaches': 7494, 'reproachful': 7495, 'repugnance': 7496, 'researches': 7497, 'residencia': 7498, 'respectability': 7499, 'retiring': 7500, 'rifles': 7501, 'roofs': 7502, 'ropes': 7503, 'rotten': 7504, 'routine': 7505, 'saith': 7506, 'saloon': 7507, 'salute': 7508, 'schoolfellows': 7509, 'scraps': 7510, 'scratched': 7511, 'scrawled': 7512, 'screams': 7513, 'seafaring': 7514, 'shading': 7515, 'shafts': 7516, 'shaped': 7517, 'sheltered': 7518, 'shewing': 7519, 'shower': 7520, 'silenced': 7521, 'simpleton': 7522, 'singer': 7523, 'skiffins': 7524, 'slunk': 7525, 'slyly': 7526, 'smote': 7527, 'smouldering': 7528, 'sneered': 7529, 'snegiryov': 7530, 'socman': 7531, 'sohn': 7532, 'sour': 7533, 'sources': 7534, 'speakers': 7535, 'spear': 7536, 'specialist': 7537, 'sphere': 7538, 'stableboy': 7539, 'standard': 7540, 'startop': 7541, 'starved': 7542, 'stating': 7543, 'stations': 7544, 'steeped': 7545, 'stewards': 7546, 'stiffly': 7547, 'streamed': 7548, 'strengthen': 7549, 'stride': 7550, 'strings': 7551, 'strip': 7552, 'substantial': 7553, 'sung': 7554, 'superiors': 7555, 'supernatural': 7556, 'surprises': 7557, 'swaying': 7558, 'tact': 7559, 'temperament': 7560, 'terrific': 7561, 'theft': 7562, 'tilted': 7563, 'token': 7564, 'tormenting': 7565, 'training': 7566, 'tramp': 7567, 'transaction': 7568, 'trigger': 7569, 'trodden': 7570, 'troth': 7571, 'twentythree': 7572, 'twin': 7573, 'twinkle': 7574, 'ugh': 7575, 'unbearable': 7576, 'uncontrollable': 7577, 'undertook': 7578, 'undid': 7579, 'undone': 7580, 'ungenerous': 7581, 'unintelligible': 7582, 'unnoticed': 7583, 'unpleasantness': 7584, 'unsuccessful': 7585, 'uses': 7586, 'variation': 7587, 'venturing': 7588, 'vicarage': 7589, 'vowed': 7590, 'wallet': 7591, 'wary': 7592, 'weakened': 7593, 'wellbred': 7594, 'whirling': 7595, 'willesden': 7596, 'winked': 7597, 'withdrawn': 7598, 'writhed': 7599, 'yesi': 7600, 'accomplish': 7601, 'accosted': 7602, 'adapted': 7603, 'advances': 7604, 'adventurous': 7605, 'agency': 7606, 'agonies': 7607, 'alehouse': 7608, 'alleged': 7609, 'alyona': 7610, 'amie': 7611, 'amost': 7612, 'antecedents': 7613, 'anticipating': 7614, 'appalling': 7615, 'armor': 7616, 'ascending': 7617, 'assailants': 7618, 'astray': 7619, 'atlantic': 7620, 'avowal': 7621, 'awaits': 7622, 'baseness': 7623, 'bashful': 7624, 'battered': 7625, 'battery': 7626, 'beam': 7627, 'beaming': 7628, 'behaving': 7629, 'benevolent': 7630, 'bigger': 7631, 'binding': 7632, 'bloated': 7633, 'bloodshed': 7634, 'boardingschool': 7635, 'boldness': 7636, 'bolts': 7637, 'brambles': 7638, 'bravest': 7639, 'breaks': 7640, 'brethren': 7641, 'brides': 7642, 'britain': 7643, 'brooks': 7644, 'burke': 7645, 'burley': 7646, 'buzz': 7647, 'carter': 7648, 'cartridges': 7649, 'cheered': 7650, 'chestnut': 7651, 'chilled': 7652, 'chink': 7653, 'chooses': 7654, 'christs': 7655, 'clang': 7656, 'clash': 7657, 'cleveland': 7658, 'cluster': 7659, 'cock': 7660, 'coins': 7661, 'commenced': 7662, 'comment': 7663, 'communicative': 7664, 'comparative': 7665, 'compensation': 7666, 'complaints': 7667, 'complaisance': 7668, 'complimented': 7669, 'compromised': 7670, 'conclusive': 7671, 'condescend': 7672, 'conjectured': 7673, 'conjectures': 7674, 'conscientious': 7675, 'consumptive': 7676, 'contains': 7677, 'contentment': 7678, 'cottages': 7679, 'counsellor': 7680, 'covers': 7681, 'create': 7682, 'creditable': 7683, 'croaked': 7684, 'cursing': 7685, 'cushion': 7686, 'dares': 7687, 'dawkins': 7688, 'deemed': 7689, 'defended': 7690, 'deficiency': 7691, 'define': 7692, 'deigned': 7693, 'devoutly': 7694, 'disappointments': 7695, 'disclosure': 7696, 'distaste': 7697, 'divert': 7698, 'doubly': 7699, 'downs': 7700, 'dreamy': 7701, 'drums': 7702, 'durst': 7703, 'dyou': 7704, 'eagle': 7705, 'ecstatically': 7706, 'elevation': 7707, 'enchanted': 7708, 'energetic': 7709, 'exaggeration': 7710, 'exasperated': 7711, 'exceed': 7712, 'exceptionally': 7713, 'fanciful': 7714, 'fatigues': 7715, 'finer': 7716, 'finery': 7717, 'flannel': 7718, 'flats': 7719, 'flaxen': 7720, 'flourish': 7721, 'foe': 7722, 'foggy': 7723, 'fondness': 7724, 'footmen': 7725, 'foretold': 7726, 'fortyfive': 7727, 'fruitless': 7728, 'furnish': 7729, 'galloped': 7730, 'gaol': 7731, 'gaping': 7732, 'generously': 7733, 'giants': 7734, 'gigs': 7735, 'glimmering': 7736, 'goal': 7737, 'grownup': 7738, 'grumbling': 7739, 'habitual': 7740, 'halfanhour': 7741, 'hamper': 7742, 'hastening': 7743, 'hearkening': 7744, 'herd': 7745, 'heri': 7746, 'highgate': 7747, 'himand': 7748, 'hostile': 7749, 'hovering': 7750, 'hugo': 7751, 'hunsford': 7752, 'illuminated': 7753, 'illustrious': 7754, 'impassive': 7755, 'impulsively': 7756, 'incomprehensible': 7757, 'incredulous': 7758, 'indication': 7759, 'indulging': 7760, 'inference': 7761, 'inflexible': 7762, 'instinctive': 7763, 'insults': 7764, 'interior': 7765, 'investigate': 7766, 'irritability': 7767, 'jovial': 7768, 'kerchief': 7769, 'keyhole': 7770, 'kindled': 7771, 'knowed': 7772, 'labouring': 7773, 'labyrinth': 7774, 'lace': 7775, 'landladys': 7776, 'lastly': 7777, 'lays': 7778, 'leer': 7779, 'liberality': 7780, 'lining': 7781, 'lone': 7782, 'loosened': 7783, 'lounged': 7784, 'lunacy': 7785, 'madding': 7786, 'marjory': 7787, 'marshals': 7788, 'martyrs': 7789, 'matine': 7790, 'mayor': 7791, 'meadows': 7792, 'mes': 7793, 'methodical': 7794, 'millionaire': 7795, 'miraculous': 7796, 'missis': 7797, 'misty': 7798, 'misunderstood': 7799, 'moan': 7800, 'mock': 7801, 'monsters': 7802, 'montigny': 7803, 'mort': 7804, 'mortifying': 7805, 'muodin': 7806, 'muscular': 7807, 'na': 7808, 'nameless': 7809, 'nephews': 7810, 'nicety': 7811, 'nick': 7812, 'noises': 7813, 'norfolk': 7814, 'nunnery': 7815, 'october': 7816, 'oddly': 7817, 'offending': 7818, 'openness': 7819, 'opium': 7820, 'orderly': 7821, 'outbreak': 7822, 'outright': 7823, 'outskirts': 7824, 'overhear': 7825, 'overlook': 7826, 'pane': 7827, 'panels': 7828, 'parallel': 7829, 'parliament': 7830, 'paved': 7831, 'peal': 7832, 'pence': 7833, 'penetrating': 7834, 'penknife': 7835, 'per': 7836, 'peremptorily': 7837, 'perpetually': 7838, 'persecution': 7839, 'pilot': 7840, 'pin': 7841, 'pinnacle': 7842, 'plaintive': 7843, 'plaster': 7844, 'plucking': 7845, 'poisoned': 7846, 'porlock': 7847, 'portly': 7848, 'prejudice': 7849, 'prejudices': 7850, 'prematurely': 7851, 'preposterous': 7852, 'prettier': 7853, 'prettily': 7854, 'prevailing': 7855, 'privacy': 7856, 'procure': 7857, 'profitable': 7858, 'progressive': 7859, 'prompted': 7860, 'provoke': 7861, 'psychological': 7862, 'questionable': 7863, 'qui': 7864, 'r': 7865, 'rail': 7866, 'rajahs': 7867, 'rarity': 7868, 'rats': 7869, 'recorded': 7870, 'reddening': 7871, 'rede': 7872, 'redruth': 7873, 'refreshed': 7874, 'relenting': 7875, 'relied': 7876, 'renounce': 7877, 'repulsive': 7878, 'requiring': 7879, 'rescued': 7880, 'resentful': 7881, 'resign': 7882, 'resolutions': 7883, 'restlessly': 7884, 'reverend': 7885, 'riot': 7886, 'roadside': 7887, 'robust': 7888, 'rocky': 7889, 'rubbish': 7890, 'rue': 7891, 'ruefully': 7892, 'ruler': 7893, 'salutations': 7894, 'scare': 7895, 'schoolmaster': 7896, 'scolded': 7897, 'scores': 7898, 'seasons': 7899, 'securing': 7900, 'separately': 7901, 'seventh': 7902, 'shadowed': 7903, 'shapes': 7904, 'shares': 7905, 'sharing': 7906, 'shells': 7907, 'shirtcollar': 7908, 'shuffled': 7909, 'shyness': 7910, 'sights': 7911, 'sinners': 7912, 'slander': 7913, 'slighted': 7914, 'slit': 7915, 'smashed': 7916, 'snatch': 7917, 'soaked': 7918, 'sorrowfully': 7919, 'soundly': 7920, 'spectre': 7921, 'spur': 7922, 'stages': 7923, 'steadfastly': 7924, 'stifling': 7925, 'stocking': 7926, 'strand': 7927, 'subordinate': 7928, 'subsequent': 7929, 'sucked': 7930, 'suffolk': 7931, 'suggestions': 7932, 'suite': 7933, 'supercilious': 7934, 'suppress': 7935, 'surviving': 7936, 'swamp': 7937, 'swayed': 7938, 'tails': 7939, 'tempers': 7940, 'tempting': 7941, 'terminated': 7942, 'testify': 7943, 'thereby': 7944, 'thrice': 7945, 'throats': 7946, 'tiffey': 7947, 'tilneys': 7948, 'timeand': 7949, 'topics': 7950, 'tortures': 7951, 'tother': 7952, 'tottering': 7953, 'treats': 7954, 'tuft': 7955, 'tumble': 7956, 'turret': 7957, 'uncovered': 7958, 'undecided': 7959, 'underwood': 7960, 'undisturbed': 7961, 'undo': 7962, 'uneven': 7963, 'unfeeling': 7964, 'unluckily': 7965, 'unprecedented': 7966, 'unwillingness': 7967, 'usher': 7968, 'v': 7969, 'verify': 7970, 'villages': 7971, 'visions': 7972, 'vote': 7973, 'vows': 7974, 'warnings': 7975, 'wery': 7976, 'wheel': 7977, 'whiles': 7978, 'wholl': 7979, 'wilful': 7980, 'winced': 7981, 'wineglass': 7982, 'withdrawing': 7983, 'abhorrence': 7984, 'abide': 7985, 'abnormal': 7986, 'accidents': 7987, 'ace': 7988, 'acutely': 7989, 'affable': 7990, 'airy': 7991, 'album': 7992, 'alice': 7993, 'alluding': 7994, 'ally': 7995, 'aloysius': 7996, 'amateur': 7997, 'amelia': 7998, 'applying': 7999, 'appreciated': 8000, 'arguing': 8001, 'aristocrat': 8002, 'artistic': 8003, 'attired': 8004, 'attributed': 8005, 'auld': 8006, 'ballad': 8007, 'banished': 8008, 'bareheaded': 8009, 'barely': 8010, 'bastille': 8011, 'bearings': 8012, 'beauties': 8013, 'beckoning': 8014, 'beeches': 8015, 'beholding': 8016, 'blackguard': 8017, 'blessings': 8018, 'blindly': 8019, 'bodinced': 8020, 'boomed': 8021, 'bored': 8022, 'boulders': 8023, 'boxer': 8024, 'breck': 8025, 'brilliancy': 8026, 'bristling': 8027, 'broth': 8028, 'brutes': 8029, 'buccaneers': 8030, 'buffet': 8031, 'burly': 8032, 'butchers': 8033, 'butt': 8034, 'cake': 8035, 'calendar': 8036, 'california': 8037, 'calmer': 8038, 'camarade': 8039, 'candour': 8040, 'captive': 8041, 'captured': 8042, 'carts': 8043, 'casement': 8044, 'charmingly': 8045, 'chickweed': 8046, 'claws': 8047, 'coffeeroom': 8048, 'coles': 8049, 'colleagues': 8050, 'comb': 8051, 'comforting': 8052, 'comical': 8053, 'commence': 8054, 'commencement': 8055, 'communications': 8056, 'comparing': 8057, 'complained': 8058, 'compliance': 8059, 'confessing': 8060, 'conspirators': 8061, 'contemplating': 8062, 'contend': 8063, 'convulsions': 8064, 'convulsive': 8065, 'copying': 8066, 'coracle': 8067, 'corrected': 8068, 'corresponding': 8069, 'countryman': 8070, 'covenant': 8071, 'coverlet': 8072, 'crafty': 8073, 'creak': 8074, 'crop': 8075, 'cuff': 8076, 'cultivated': 8077, 'curiosities': 8078, 'customs': 8079, 'darkest': 8080, 'dart': 8081, 'dax': 8082, 'december': 8083, 'decently': 8084, 'decorum': 8085, 'deepened': 8086, 'defenceless': 8087, 'defined': 8088, 'delicately': 8089, 'destitute': 8090, 'detestable': 8091, 'develop': 8092, 'devoid': 8093, 'devouring': 8094, 'diet': 8095, 'digging': 8096, 'directing': 8097, 'dirk': 8098, 'disclose': 8099, 'discontented': 8100, 'disgusting': 8101, 'disparity': 8102, 'doom': 8103, 'dram': 8104, 'draped': 8105, 'drawback': 8106, 'drawbridge': 8107, 'dreamily': 8108, 'dresses': 8109, 'drunkard': 8110, 'empire': 8111, 'endeavours': 8112, 'enfield': 8113, 'escaping': 8114, 'excursion': 8115, 'exerted': 8116, 'exhibited': 8117, 'exposing': 8118, 'exposure': 8119, 'extract': 8120, 'eyeglass': 8121, 'fee': 8122, 'feelingly': 8123, 'fellah': 8124, 'fidgeted': 8125, 'filipovs': 8126, 'firstclass': 8127, 'fleet': 8128, 'fleeting': 8129, 'flogged': 8130, 'foo': 8131, 'footprints': 8132, 'forbade': 8133, 'forbidding': 8134, 'foreigner': 8135, 'foresight': 8136, 'forfeited': 8137, 'forgiving': 8138, 'formality': 8139, 'fourandtwenty': 8140, 'funds': 8141, 'gabelle': 8142, 'gable': 8143, 'garment': 8144, 'garrison': 8145, 'gayly': 8146, 'gentility': 8147, 'glade': 8148, 'gleefully': 8149, 'glimpses': 8150, 'glint': 8151, 'goodlooking': 8152, 'goodly': 8153, 'gorge': 8154, 'grandeur': 8155, 'granite': 8156, 'graver': 8157, 'grieving': 8158, 'hairs': 8159, 'hallucination': 8160, 'hammersmith': 8161, 'haze': 8162, 'heaped': 8163, 'hehehe': 8164, 'helpful': 8165, 'helplessness': 8166, 'heretofore': 8167, 'heroic': 8168, 'highland': 8169, 'hire': 8170, 'holes': 8171, 'hubbub': 8172, 'humiliated': 8173, 'husky': 8174, 'hymn': 8175, 'identical': 8176, 'illtimed': 8177, 'illwill': 8178, 'imperious': 8179, 'implore': 8180, 'impotent': 8181, 'impulses': 8182, 'incidental': 8183, 'indiscretion': 8184, 'individuals': 8185, 'inducement': 8186, 'infamy': 8187, 'inherited': 8188, 'intensity': 8189, 'intentionally': 8190, 'iosif': 8191, 'jailer': 8192, 'jar': 8193, 'jewish': 8194, 'joyous': 8195, 'kinder': 8196, 'knave': 8197, 'kneel': 8198, 'knocker': 8199, 'knuckles': 8200, 'lacey': 8201, 'lamentations': 8202, 'lang': 8203, 'languid': 8204, 'leaders': 8205, 'lefthand': 8206, 'lens': 8207, 'liberties': 8208, 'lida': 8209, 'likelihood': 8210, 'lithe': 8211, 'loyal': 8212, 'lungs': 8213, 'majestic': 8214, 'malignantly': 8215, 'mania': 8216, 'marvelled': 8217, 'mastered': 8218, 'mcpherson': 8219, 'mechanical': 8220, 'messengers': 8221, 'metallic': 8222, 'mice': 8223, 'mike': 8224, 'mindful': 8225, 'misconduct': 8226, 'misgivings': 8227, 'misled': 8228, 'moist': 8229, 'mortals': 8230, 'mule': 8231, 'murders': 8232, 'muslin': 8233, 'mysteriously': 8234, 'mystic': 8235, 'natives': 8236, 'network': 8237, 'nightly': 8238, 'nocturnal': 8239, 'noel': 8240, 'nonsensical': 8241, 'numbered': 8242, 'odina': 8243, 'oppressive': 8244, 'ordering': 8245, 'orthodox': 8246, 'overcame': 8247, 'overjoyed': 8248, 'parley': 8249, 'passersby': 8250, 'patriot': 8251, 'pearls': 8252, 'peculiarity': 8253, 'perched': 8254, 'performing': 8255, 'pinner': 8256, 'plantation': 8257, 'plaything': 8258, 'plunging': 8259, 'plus': 8260, 'porochial': 8261, 'porridge': 8262, 'pose': 8263, 'practically': 8264, 'practise': 8265, 'pranks': 8266, 'preach': 8267, 'prediction': 8268, 'prehistoric': 8269, 'prescribed': 8270, 'presenting': 8271, 'proclaim': 8272, 'profess': 8273, 'promote': 8274, 'pronounce': 8275, 'prophecy': 8276, 'protruded': 8277, 'provocation': 8278, 'publish': 8279, 'puffing': 8280, 'pycroft': 8281, 'raged': 8282, 'railings': 8283, 'railways': 8284, 'rambling': 8285, 'rebellion': 8286, 'rebellious': 8287, 'recourse': 8288, 'refrained': 8289, 'regardless': 8290, 'regretting': 8291, 'reins': 8292, 'reject': 8293, 'rejoicing': 8294, 'reliance': 8295, 'remembers': 8296, 'representing': 8297, 'resent': 8298, 'resignation': 8299, 'review': 8300, 'richer': 8301, 'rides': 8302, 'ridge': 8303, 'ripe': 8304, 'rises': 8305, 'ritual': 8306, 'roger': 8307, 'rudeness': 8308, 'russians': 8309, 'san': 8310, 'satan': 8311, 'schoolboys': 8312, 'scold': 8313, 'scornful': 8314, 'secluded': 8315, 'seclusion': 8316, 'section': 8317, 'seed': 8318, 'seemingly': 8319, 'selfcommand': 8320, 'selfrespect': 8321, 'semblance': 8322, 'seneschal': 8323, 'sequence': 8324, 'serfs': 8325, 'settles': 8326, 'shaded': 8327, 'shakes': 8328, 'shalt': 8329, 'shamefaced': 8330, 'shawls': 8331, 'shelves': 8332, 'shipman': 8333, 'shotgun': 8334, 'sickening': 8335, 'signified': 8336, 'similarly': 8337, 'simpler': 8338, 'sinful': 8339, 'sinned': 8340, 'sirs': 8341, 'skilful': 8342, 'skilled': 8343, 'skipped': 8344, 'skipper': 8345, 'slay': 8346, 'slumbers': 8347, 'snatching': 8348, 'southwest': 8349, 'sparks': 8350, 'spoiled': 8351, 'spouse': 8352, 'sprawling': 8353, 'spurs': 8354, 'spying': 8355, 'squat': 8356, 'steadfast': 8357, 'stepfather': 8358, 'stripped': 8359, 'strolling': 8360, 'stupefied': 8361, 'successfully': 8362, 'successor': 8363, 'suggests': 8364, 'surged': 8365, 'sweetheart': 8366, 'sweetly': 8367, 'sweets': 8368, 'swoon': 8369, 'symptom': 8370, 'tape': 8371, 'tarts': 8372, 'tend': 8373, 'testified': 8374, 'thames': 8375, 'theatrical': 8376, 'thinner': 8377, 'thundering': 8378, 'tinge': 8379, 'tingling': 8380, 'tipsy': 8381, 'toi': 8382, 'toilet': 8383, 'tolkatchenko': 8384, 'tommy': 8385, 'tongues': 8386, 'tool': 8387, 'tough': 8388, 'traffic': 8389, 'transported': 8390, 'trash': 8391, 'treading': 8392, 'treasures': 8393, 'trevelyan': 8394, 'trevor': 8395, 'tumbler': 8396, 'tyrant': 8397, 'unconcern': 8398, 'unconcerned': 8399, 'undertakers': 8400, 'undertaking': 8401, 'unheard': 8402, 'unmarried': 8403, 'unsatisfactory': 8404, 'urgency': 8405, 'vagabond': 8406, 'valleys': 8407, 'vase': 8408, 'vastly': 8409, 'vegetable': 8410, 'ventilator': 8411, 'viewed': 8412, 'villainous': 8413, 'volumes': 8414, 'watchful': 8415, 'waterbrook': 8416, 'wavered': 8417, 'weaknesses': 8418, 'whirled': 8419, 'widely': 8420, 'windy': 8421, 'winning': 8422, 'worm': 8423, 'wreath': 8424, 'wretches': 8425, 'yawn': 8426, 'yawned': 8427, 'yere': 8428, 'zambo': 8429, '3rd': 8430, 'absentminded': 8431, 'abusing': 8432, 'accents': 8433, 'accomplishments': 8434, 'acquire': 8435, 'actors': 8436, 'administrative': 8437, 'afar': 8438, 'affronted': 8439, 'agra': 8440, 'agreeably': 8441, 'analysis': 8442, 'ancestors': 8443, 'anderson': 8444, 'ankles': 8445, 'anticipate': 8446, 'anybodys': 8447, 'anyones': 8448, 'apologise': 8449, 'ardalion': 8450, 'artfully': 8451, 'artless': 8452, 'assassin': 8453, 'associates': 8454, 'astonish': 8455, 'audacious': 8456, 'audacity': 8457, 'avenging': 8458, 'bailiff': 8459, 'banking': 8460, 'barnards': 8461, 'benbow': 8462, 'bernard': 8463, 'bethought': 8464, 'beware': 8465, 'billiardroom': 8466, 'blameless': 8467, 'blest': 8468, 'blinking': 8469, 'bliss': 8470, 'blunders': 8471, 'blurred': 8472, 'blushes': 8473, 'boisterous': 8474, 'boughs': 8475, 'breakers': 8476, 'breakfasted': 8477, 'brim': 8478, 'brotherinlaw': 8479, 'burglary': 8480, 'burthen': 8481, 'buying': 8482, 'capper': 8483, 'caprice': 8484, 'car': 8485, 'caroline': 8486, 'casks': 8487, 'cavalry': 8488, 'ceasing': 8489, 'cells': 8490, 'ceremonious': 8491, 'champion': 8492, 'champions': 8493, 'chaos': 8494, 'chemical': 8495, 'childwife': 8496, 'chinese': 8497, 'chuckling': 8498, 'clattered': 8499, 'claude': 8500, 'clients': 8501, 'cling': 8502, 'clump': 8503, 'cluny': 8504, 'collecting': 8505, 'combat': 8506, 'commander': 8507, 'commend': 8508, 'complacently': 8509, 'conceited': 8510, 'concession': 8511, 'conducting': 8512, 'confiding': 8513, 'confinement': 8514, 'congratulation': 8515, 'consists': 8516, 'constructed': 8517, 'contrivance': 8518, 'contrive': 8519, 'conveniently': 8520, 'conveyance': 8521, 'conveying': 8522, 'coroner': 8523, 'corps': 8524, 'correspond': 8525, 'corridors': 8526, 'corroborated': 8527, 'corruption': 8528, 'costly': 8529, 'couldnae': 8530, 'coz': 8531, 'cradle': 8532, 'craft': 8533, 'crawl': 8534, 'creakles': 8535, 'creetur': 8536, 'crowned': 8537, 'cruise': 8538, 'crushing': 8539, 'cudgel': 8540, 'cups': 8541, 'curly': 8542, 'cuts': 8543, 'dalrymple': 8544, 'debauchery': 8545, 'decayed': 8546, 'decency': 8547, 'deliverance': 8548, 'demonstration': 8549, 'deposit': 8550, 'depravity': 8551, 'deprive': 8552, 'deserts': 8553, 'devised': 8554, 'devoured': 8555, 'dictate': 8556, 'disapprobation': 8557, 'discontent': 8558, 'dismounted': 8559, 'disorderly': 8560, 'distributed': 8561, 'dotted': 8562, 'doze': 8563, 'dozed': 8564, 'drenched': 8565, 'dresscoat': 8566, 'drift': 8567, 'drives': 8568, 'drum': 8569, 'easychair': 8570, 'ebb': 8571, 'eddy': 8572, 'elastic': 8573, 'elopement': 8574, 'embarrassing': 8575, 'emlys': 8576, 'emphatic': 8577, 'engraved': 8578, 'entreating': 8579, 'equipped': 8580, 'everingham': 8581, 'excluded': 8582, 'exhibition': 8583, 'exploit': 8584, 'fading': 8585, 'falcon': 8586, 'fantasy': 8587, 'ferryman': 8588, 'flaring': 8589, 'fleshy': 8590, 'flirt': 8591, 'flopson': 8592, 'fold': 8593, 'fonder': 8594, 'foolery': 8595, 'foolishly': 8596, 'footmarks': 8597, 'forbear': 8598, 'frae': 8599, 'frenzied': 8600, 'friars': 8601, 'fund': 8602, 'garb': 8603, 'gems': 8604, 'gipsies': 8605, 'girt': 8606, 'glided': 8607, 'goat': 8608, 'goddard': 8609, 'grays': 8610, 'grazed': 8611, 'greasy': 8612, 'greetings': 8613, 'grievance': 8614, 'gruel': 8615, 'hairy': 8616, 'halfdozen': 8617, 'handling': 8618, 'hardy': 8619, 'harvest': 8620, 'heaving': 8621, 'hedgehog': 8622, 'henderson': 8623, 'herald': 8624, 'hind': 8625, 'historical': 8626, 'hola': 8627, 'hospitable': 8628, 'hostess': 8629, 'housebreaker': 8630, 'hubble': 8631, 'humbled': 8632, 'humorous': 8633, 'hundredrouble': 8634, 'hundredth': 8635, 'hunters': 8636, 'hypocrisy': 8637, 'idiocy': 8638, 'idol': 8639, 'illused': 8640, 'imbecile': 8641, 'immortal': 8642, 'impaired': 8643, 'incoherently': 8644, 'incredibly': 8645, 'incumbent': 8646, 'inexperienced': 8647, 'infallibly': 8648, 'inferred': 8649, 'insects': 8650, 'insensibility': 8651, 'insipid': 8652, 'insistently': 8653, 'instincts': 8654, 'internal': 8655, 'interpose': 8656, 'intricate': 8657, 'intruder': 8658, 'investigations': 8659, 'invitations': 8660, 'irons': 8661, 'irrepressible': 8662, 'ives': 8663, 'ivory': 8664, 'ivy': 8665, 'jeer': 8666, 'jerusalem': 8667, 'jesting': 8668, 'joyce': 8669, 'knives': 8670, 'lancaster': 8671, 'languidly': 8672, 'languor': 8673, 'laughingly': 8674, 'laurel': 8675, 'lazarus': 8676, 'legally': 8677, 'leisurely': 8678, 'lengths': 8679, 'les': 8680, 'lessened': 8681, 'liberalism': 8682, 'licence': 8683, 'lied': 8684, 'lifes': 8685, 'linger': 8686, 'lisped': 8687, 'loathed': 8688, 'logic': 8689, 'longbow': 8690, 'longsuffering': 8691, 'lookee': 8692, 'loomed': 8693, 'louse': 8694, 'lyagavy': 8695, 'mair': 8696, 'manatarms': 8697, 'martyr': 8698, 'marvellous': 8699, 'masses': 8700, 'mcevoy': 8701, 'meditation': 8702, 'menacingly': 8703, 'miller': 8704, 'minor': 8705, 'mixing': 8706, 'monkey': 8707, 'moore': 8708, 'mottled': 8709, 'muddled': 8710, 'muscle': 8711, 'mutter': 8712, 'naval': 8713, 'navarre': 8714, 'nave': 8715, 'needlework': 8716, 'neighbors': 8717, 'neva': 8718, 'niggardly': 8719, 'nobles': 8720, 'nobly': 8721, 'norwich': 8722, 'noses': 8723, 'oaken': 8724, 'obedient': 8725, 'odinevna': 8726, 'odour': 8727, 'omit': 8728, 'opens': 8729, 'orchestra': 8730, 'ordained': 8731, 'outlined': 8732, 'overhung': 8733, 'owners': 8734, 'painters': 8735, 'pangs': 8736, 'pani': 8737, 'pardoned': 8738, 'partners': 8739, 'pat': 8740, 'patched': 8741, 'pathway': 8742, 'patriotic': 8743, 'patriots': 8744, 'penalty': 8745, 'perhotin': 8746, 'philosophical': 8747, 'physically': 8748, 'pills': 8749, 'pinched': 8750, 'plank': 8751, 'plea': 8752, 'pleases': 8753, 'plotnikovs': 8754, 'pointedly': 8755, 'ponderous': 8756, 'powerless': 8757, 'precision': 8758, 'presuming': 8759, 'prettiest': 8760, 'preventing': 8761, 'pricked': 8762, 'primitive': 8763, 'privileged': 8764, 'privileges': 8765, 'proportions': 8766, 'proposing': 8767, 'publication': 8768, 'pumproom': 8769, 'quieted': 8770, 'quoted': 8771, 'railing': 8772, 'rained': 8773, 'rasping': 8774, 'rationally': 8775, 'reaction': 8776, 'realism': 8777, 'recess': 8778, 'recesses': 8779, 'recognising': 8780, 'records': 8781, 'redoubled': 8782, 'reef': 8783, 'rehearse': 8784, 'relapse': 8785, 'reluctant': 8786, 'reminder': 8787, 'repented': 8788, 'repress': 8789, 'repressed': 8790, 'republican': 8791, 'respective': 8792, 'restlessness': 8793, 'revelation': 8794, 'richly': 8795, 'risked': 8796, 'rivals': 8797, 'riverside': 8798, 'riveted': 8799, 'rookery': 8800, 'sacrament': 8801, 'sacrifices': 8802, 'sanity': 8803, 'satisfying': 8804, 'scarf': 8805, 'scenery': 8806, 'schoolfellow': 8807, 'scornfully': 8808, 'scraping': 8809, 'screw': 8810, 'seaward': 8811, 'secondary': 8812, 'secondhand': 8813, 'seeks': 8814, 'selfreproach': 8815, 'sententiously': 8816, 'sentinel': 8817, 'sequel': 8818, 'seriousness': 8819, 'serves': 8820, 'seventyfive': 8821, 'sewed': 8822, 'shedding': 8823, 'shifting': 8824, 'shoemaker': 8825, 'shorter': 8826, 'shots': 8827, 'shrieking': 8828, 'shuffling': 8829, 'sideboard': 8830, 'sidelong': 8831, 'sidetable': 8832, 'sighs': 8833, 'sighted': 8834, 'sings': 8835, 'skirmish': 8836, 'skyline': 8837, 'slavery': 8838, 'sleepless': 8839, 'slew': 8840, 'smeared': 8841, 'smelling': 8842, 'smilingly': 8843, 'smokingroom': 8844, 'smoky': 8845, 'sobered': 8846, 'southern': 8847, 'spine': 8848, 'sprinkled': 8849, 'spun': 8850, 'spyers': 8851, 'stanniford': 8852, 'stays': 8853, 'steaming': 8854, 'sting': 8855, 'straggling': 8856, 'straightforward': 8857, 'surround': 8858, 'swallowing': 8859, 'swam': 8860, 'swarm': 8861, 'swimming': 8862, 'swiss': 8863, 'talented': 8864, 'tapestry': 8865, 'taps': 8866, 'ted': 8867, 'tenth': 8868, 'testament': 8869, 'therein': 8870, 'thrash': 8871, 'thud': 8872, 'ties': 8873, 'toiling': 8874, 'tor': 8875, 'touches': 8876, 'township': 8877, 'trabb': 8878, 'trailing': 8879, 'trampled': 8880, 'transport': 8881, 'treacherous': 8882, 'tries': 8883, 'trumpets': 8884, 'tumult': 8885, 'tutor': 8886, 'twentyseven': 8887, 'unawares': 8888, 'unceremoniously': 8889, 'unfinished': 8890, 'unquestionably': 8891, 'unused': 8892, 'usefulness': 8893, 'vantage': 8894, 'venomous': 8895, 'vex': 8896, 'vicinity': 8897, 'vigilance': 8898, 'villains': 8899, 'volcanic': 8900, 'volunteered': 8901, 'wallis': 8902, 'warily': 8903, 'wears': 8904, 'weatherbeaten': 8905, 'wharf': 8906, 'whereupon': 8907, 'whine': 8908, 'whining': 8909, 'wicket': 8910, 'wistfully': 8911, 'withheld': 8912, 'woodman': 8913, 'woodston': 8914, 'wrinkles': 8915, 'wrongs': 8916, 'youand': 8917, 'yourn': 8918, '2': 8919, '3': 8920, 'aberration': 8921, 'absurdly': 8922, 'aches': 8923, 'acknowledging': 8924, 'acquiesced': 8925, 'actively': 8926, 'ad': 8927, 'adelada': 8928, 'admirer': 8929, 'admirers': 8930, 'admires': 8931, 'adore': 8932, 'adored': 8933, 'agen': 8934, 'agreeing': 8935, 'aie': 8936, 'aims': 8937, 'ainslie': 8938, 'allotted': 8939, 'aloft': 8940, 'alternately': 8941, 'ami': 8942, 'amply': 8943, 'amusements': 8944, 'anecdotes': 8945, 'angelic': 8946, 'angered': 8947, 'announcing': 8948, 'answerable': 8949, 'antagonist': 8950, 'apologised': 8951, 'applauded': 8952, 'apprehensively': 8953, 'apprentice': 8954, 'approvingly': 8955, 'arches': 8956, 'area': 8957, 'aright': 8958, 'assumption': 8959, 'atheism': 8960, 'atrocious': 8961, 'attaching': 8962, 'auntie': 8963, 'aurora': 8964, 'averse': 8965, 'averted': 8966, 'balloon': 8967, 'banging': 8968, 'banknotes': 8969, 'barbarous': 8970, 'baskets': 8971, 'beads': 8972, 'beamed': 8973, 'beams': 8974, 'bearer': 8975, 'beau': 8976, 'beddoes': 8977, 'bees': 8978, 'bellowed': 8979, 'bellows': 8980, 'benches': 8981, 'bilious': 8982, 'billy': 8983, 'birmingham': 8984, 'blacker': 8985, 'blanche': 8986, 'bled': 8987, 'blighted': 8988, 'blithe': 8989, 'blocked': 8990, 'bluff': 8991, 'blunderstone': 8992, 'bookstall': 8993, 'braced': 8994, 'brackley': 8995, 'bravado': 8996, 'breathlessly': 8997, 'bricks': 8998, 'brightening': 8999, 'bronze': 9000, 'broom': 9001, 'bruises': 9002, 'brunton': 9003, 'brushing': 9004, 'bucket': 9005, 'bushy': 9006, 'busied': 9007, 'butterflies': 9008, 'buttoned': 9009, 'bystreet': 9010, 'cable': 9011, 'caf': 9012, 'calculate': 9013, 'cam': 9014, 'camberwell': 9015, 'casts': 9016, 'cavaliers': 9017, 'caviare': 9018, 'center': 9019, 'charade': 9020, 'charitable': 9021, 'charms': 9022, 'chattered': 9023, 'chemist': 9024, 'cheque': 9025, 'cherish': 9026, 'chestnuts': 9027, 'christchurch': 9028, 'chubby': 9029, 'civiodintion': 9030, 'clair': 9031, 'clem': 9032, 'clenching': 9033, 'clerical': 9034, 'clink': 9035, 'clubs': 9036, 'clutch': 9037, 'cly': 9038, 'combatants': 9039, 'combe': 9040, 'comer': 9041, 'comments': 9042, 'communicating': 9043, 'complacent': 9044, 'completing': 9045, 'comply': 9046, 'comprised': 9047, 'concentration': 9048, 'condemnation': 9049, 'connoisseur': 9050, 'consenting': 9051, 'constitutional': 9052, 'contended': 9053, 'contention': 9054, 'continuous': 9055, 'contrasted': 9056, 'contrition': 9057, 'converse': 9058, 'convicted': 9059, 'cooks': 9060, 'cooling': 9061, 'covent': 9062, 'creek': 9063, 'crest': 9064, 'cripples': 9065, 'crowding': 9066, 'crucifix': 9067, 'crystal': 9068, 'cuffs': 9069, 'cupboards': 9070, 'cured': 9071, 'curving': 9072, 'cynicism': 9073, 'davie': 9074, 'dealings': 9075, 'deathbed': 9076, 'decree': 9077, 'deductions': 9078, 'defiantly': 9079, 'degraded': 9080, 'delivery': 9081, 'deplorable': 9082, 'desisted': 9083, 'despicable': 9084, 'detest': 9085, 'dexterity': 9086, 'differ': 9087, 'dint': 9088, 'dip': 9089, 'disagreeably': 9090, 'discernment': 9091, 'discomposed': 9092, 'disfigured': 9093, 'disordered': 9094, 'dive': 9095, 'diversion': 9096, 'diverting': 9097, 'dividing': 9098, 'doll': 9099, 'dollars': 9100, 'donkeys': 9101, 'doorpost': 9102, 'doubting': 9103, 'dozens': 9104, 'dresler': 9105, 'drown': 9106, 'duration': 9107, 'eastward': 9108, 'ecclesiastical': 9109, 'edges': 9110, 'edifice': 9111, 'elias': 9112, 'encamped': 9113, 'enduring': 9114, 'enigmatic': 9115, 'enlarge': 9116, 'entail': 9117, 'entries': 9118, 'envied': 9119, 'envious': 9120, 'environment': 9121, 'everybodys': 9122, 'exceeded': 9123, 'execute': 9124, 'exercised': 9125, 'exhibit': 9126, 'expeditions': 9127, 'experiments': 9128, 'explains': 9129, 'explosive': 9130, 'expressively': 9131, 'faculty': 9132, 'fails': 9133, 'fairest': 9134, 'fatherland': 9135, 'favorite': 9136, 'favourites': 9137, 'favours': 9138, 'fearless': 9139, 'feat': 9140, 'featherbed': 9141, 'feigned': 9142, 'financial': 9143, 'fingernails': 9144, 'flapped': 9145, 'flaw': 9146, 'fleeing': 9147, 'flourished': 9148, 'folds': 9149, 'forebodings': 9150, 'forenoon': 9151, 'forgave': 9152, 'forrester': 9153, 'foully': 9154, 'foundered': 9155, 'fowls': 9156, 'friar': 9157, 'frock': 9158, 'fullerton': 9159, 'gambler': 9160, 'genial': 9161, 'gerolstein': 9162, 'gleeman': 9163, 'glistening': 9164, 'glitter': 9165, 'goldmines': 9166, 'gomez': 9167, 'gorse': 9168, 'grammar': 9169, 'gratify': 9170, 'gripping': 9171, 'growed': 9172, 'growling': 9173, 'gruff': 9174, 'grusha': 9175, 'halfpenny': 9176, 'halfwhisper': 9177, 'handkerchiefs': 9178, 'handsomest': 9179, 'hangings': 9180, 'hardest': 9181, 'hardships': 9182, 'hare': 9183, 'harvey': 9184, 'hates': 9185, 'haunts': 9186, 'hazarded': 9187, 'healing': 9188, 'heartless': 9189, 'heave': 9190, 'heer': 9191, 'hermit': 9192, 'hinges': 9193, 'hissing': 9194, 'hob': 9195, 'hobby': 9196, 'holdhurst': 9197, 'horner': 9198, 'hugging': 9199, 'hurts': 9200, 'imitated': 9201, 'immoral': 9202, 'impose': 9203, 'impostor': 9204, 'impulsive': 9205, 'inaudible': 9206, 'incline': 9207, 'incompatible': 9208, 'inconsiderable': 9209, 'inconsistency': 9210, 'inconsistent': 9211, 'indies': 9212, 'indisposed': 9213, 'indistinct': 9214, 'individuality': 9215, 'inexpressibly': 9216, 'inferences': 9217, 'injunction': 9218, 'injuring': 9219, 'insinuating': 9220, 'installed': 9221, 'intimation': 9222, 'intonation': 9223, 'intoxicated': 9224, 'invariable': 9225, 'irrevocably': 9226, 'israel': 9227, 'item': 9228, 'jackal': 9229, 'jarvis': 9230, 'jaunty': 9231, 'jeered': 9232, 'jeering': 9233, 'jerking': 9234, 'junior': 9235, 'juryman': 9236, 'justification': 9237, 'kep': 9238, 'kettley': 9239, 'knocks': 9240, 'knots': 9241, 'kopecks': 9242, 'laboured': 9243, 'ladyships': 9244, 'languages': 9245, 'largely': 9246, 'laura': 9247, 'league': 9248, 'lecturer': 9249, 'lengthened': 9250, 'leper': 9251, 'lids': 9252, 'limbkins': 9253, 'littered': 9254, 'livery': 9255, 'loathe': 9256, 'locking': 9257, 'loghouse': 9258, 'loosely': 9259, 'lor': 9260, 'lordships': 9261, 'lovingly': 9262, 'lowly': 9263, 'luckless': 9264, 'ludicrous': 9265, 'lumberroom': 9266, 'lusty': 9267, 'madonna': 9268, 'mainsail': 9269, 'marches': 9270, 'marias': 9271, 'markham': 9272, 'marshall': 9273, 'matrimonial': 9274, 'matrimony': 9275, 'mayhap': 9276, 'meadow': 9277, 'measuring': 9278, 'mebut': 9279, 'medals': 9280, 'meditated': 9281, 'melas': 9282, 'melting': 9283, 'memoirs': 9284, 'merest': 9285, 'mikolka': 9286, 'mischievous': 9287, 'miseries': 9288, 'monoplane': 9289, 'morality': 9290, 'mormon': 9291, 'morsel': 9292, 'muckle': 9293, 'mug': 9294, 'mull': 9295, 'murrain': 9296, 'muscles': 9297, 'musket': 9298, 'muzzle': 9299, 'ne': 9300, 'newgate': 9301, 'ninepence': 9302, 'noose': 9303, 'obeying': 9304, 'oblivion': 9305, 'observance': 9306, 'obtaining': 9307, 'occurrences': 9308, 'occurring': 9309, 'odinthat': 9310, 'odinyou': 9311, 'offender': 9312, 'oppression': 9313, 'organization': 9314, 'outhouse': 9315, 'packets': 9316, 'paddington': 9317, 'paleness': 9318, 'panicstricken': 9319, 'panovie': 9320, 'partnership': 9321, 'pawnbroker': 9322, 'paws': 9323, 'peaks': 9324, 'peculiarities': 9325, 'perceptible': 9326, 'perpetrated': 9327, 'perusal': 9328, 'petit': 9329, 'petrified': 9330, 'photographs': 9331, 'pies': 9332, 'pigs': 9333, 'pillar': 9334, 'pillows': 9335, 'pitying': 9336, 'placidly': 9337, 'pleasantest': 9338, 'pledges': 9339, 'plight': 9340, 'poignant': 9341, 'pond': 9342, 'poorest': 9343, 'practicable': 9344, 'prejudiced': 9345, 'premium': 9346, 'preservation': 9347, 'presided': 9348, 'presiding': 9349, 'presumably': 9350, 'priceless': 9351, 'printing': 9352, 'prior': 9353, 'priory': 9354, 'production': 9355, 'profusion': 9356, 'programme': 9357, 'projecting': 9358, 'promoted': 9359, 'propped': 9360, 'protestations': 9361, 'providing': 9362, 'pterodactyl': 9363, 'puckered': 9364, 'puffed': 9365, 'purchased': 9366, 'purport': 9367, 'qualifications': 9368, 'quintet': 9369, 'racing': 9370, 'rack': 9371, 'raeburn': 9372, 'ransom': 9373, 'raved': 9374, 'realizing': 9375, 'recounted': 9376, 'reddish': 9377, 'redhot': 9378, 'refinement': 9379, 'register': 9380, 'regularity': 9381, 'rein': 9382, 'reminding': 9383, 'repaid': 9384, 'reparation': 9385, 'replace': 9386, 'resident': 9387, 'resorted': 9388, 'resounded': 9389, 'riddles': 9390, 'ripple': 9391, 'rupture': 9392, 'rushes': 9393, 'sagacity': 9394, 'salon': 9395, 'sarcasm': 9396, 'satisfactorily': 9397, 'savages': 9398, 'scanning': 9399, 'scar': 9400, 'schneider': 9401, 'scowled': 9402, 'screwing': 9403, 'scrutinised': 9404, 'seals': 9405, 'select': 9406, 'sentenced': 9407, 'sentimentality': 9408, 'serviceable': 9409, 'shady': 9410, 'shamefully': 9411, 'sheepskin': 9412, 'shpigulin': 9413, 'shrewdness': 9414, 'si': 9415, 'siege': 9416, 'singlehanded': 9417, 'singly': 9418, 'sipping': 9419, 'slab': 9420, 'slower': 9421, 'slumbering': 9422, 'smack': 9423, 'snapping': 9424, 'sneering': 9425, 'snoring': 9426, 'snorting': 9427, 'snowy': 9428, 'socialist': 9429, 'societies': 9430, 'socks': 9431, 'softening': 9432, 'softer': 9433, 'southerton': 9434, 'spasm': 9435, 'speck': 9436, 'speculations': 9437, 'spiker': 9438, 'sporting': 9439, 'starry': 9440, 'starvation': 9441, 'stephen': 9442, 'strangled': 9443, 'streams': 9444, 'strides': 9445, 'strive': 9446, 'strokes': 9447, 'subdue': 9448, 'submissively': 9449, 'successive': 9450, 'summerhouse': 9451, 'sup': 9452, 'surrender': 9453, 'surrey': 9454, 'swan': 9455, 'tack': 9456, 'taverns': 9457, 'teathings': 9458, 'telegrams': 9459, 'telescope': 9460, 'terentieff': 9461, 'thevenin': 9462, 'thicker': 9463, 'thrashing': 9464, 'threads': 9465, 'thrilled': 9466, 'tickled': 9467, 'tiller': 9468, 'timbers': 9469, 'timofey': 9470, 'tirade': 9471, 'toilette': 9472, 'tokens': 9473, 'tops': 9474, 'torrent': 9475, 'tracing': 9476, 'transactions': 9477, 'transition': 9478, 'trapdoor': 9479, 'tremendously': 9480, 'trimmed': 9481, 'trotted': 9482, 'trow': 9483, 'truer': 9484, 'truths': 9485, 'tunbridge': 9486, 'turkey': 9487, 'turmoil': 9488, 'ultimate': 9489, 'unavoidable': 9490, 'unaware': 9491, 'unco': 9492, 'uncouth': 9493, 'undisguised': 9494, 'undoubted': 9495, 'unfeigned': 9496, 'unite': 9497, 'unkindness': 9498, 'unmistakably': 9499, 'unprotected': 9500, 'unthinkable': 9501, 'unutterable': 9502, 'unwholesome': 9503, 'unwillingly': 9504, 'uplifted': 9505, 'urchin': 9506, 'urging': 9507, 'utility': 9508, 'vacancy': 9509, 'vegetation': 9510, 'verbal': 9511, 'verily': 9512, 'vigil': 9513, 'villainy': 9514, 'villefranche': 9515, 'violin': 9516, 'vouch': 9517, 'wad': 9518, 'waggon': 9519, 'wakened': 9520, 'walworth': 9521, 'wanderings': 9522, 'wanton': 9523, 'warehouse': 9524, 'warren': 9525, 'warriors': 9526, 'waterloo': 9527, 'weighty': 9528, 'whatll': 9529, 'whig': 9530, 'whitehaired': 9531, 'wildest': 9532, 'windibank': 9533, 'wines': 9534, 'wisteria': 9535, 'wouldnae': 9536, 'wretchedly': 9537, 'writers': 9538, 'yearly': 9539, 'yearning': 9540, 'youths': 9541})\n"
          ]
        }
      ]
    },
    {
      "cell_type": "markdown",
      "source": [
        "## 토치 텍스트의 데이터로더 만들기"
      ],
      "metadata": {
        "id": "hzCDs6cN8BC1"
      }
    },
    {
      "cell_type": "code",
      "source": [
        "from torchtext.legacy.data import Iterator"
      ],
      "metadata": {
        "id": "7z0MA2Jp75Rk"
      },
      "execution_count": null,
      "outputs": []
    },
    {
      "cell_type": "code",
      "source": [
        "batch_size=5"
      ],
      "metadata": {
        "id": "Ha0tbbJF8J9K"
      },
      "execution_count": null,
      "outputs": []
    },
    {
      "cell_type": "code",
      "source": [
        "train_loader=Iterator(dataset=train_data,batch_size=batch_size)\n",
        "test_loader=Iterator(dataset=test_data,batch_size=batch_size)"
      ],
      "metadata": {
        "id": "7ol2mwWwPeV4"
      },
      "execution_count": null,
      "outputs": []
    },
    {
      "cell_type": "code",
      "source": [
        "print('훈련 데이터의 미니 배치 수 : {}'.format(len(train_loader)))\n",
        "print('테스트 데이터의 미니 배치 수 : {}'.format(len(test_loader)))"
      ],
      "metadata": {
        "colab": {
          "base_uri": "https://localhost:8080/"
        },
        "id": "oxpywDEVRtsR",
        "outputId": "33621df7-4421-4747-9c13-8143daee6eba"
      },
      "execution_count": null,
      "outputs": [
        {
          "output_type": "stream",
          "name": "stdout",
          "text": [
            "훈련 데이터의 미니 배치 수 : 10976\n",
            "테스트 데이터의 미니 배치 수 : 3924\n"
          ]
        }
      ]
    },
    {
      "cell_type": "code",
      "source": [
        "batch = next(iter(train_loader)) # 첫번째 미니배치"
      ],
      "metadata": {
        "id": "Z3y5pIoiRvKZ"
      },
      "execution_count": null,
      "outputs": []
    },
    {
      "cell_type": "code",
      "source": [
        "print(type(batch))"
      ],
      "metadata": {
        "colab": {
          "base_uri": "https://localhost:8080/"
        },
        "id": "AT4cPkhjR2T7",
        "outputId": "dc763578-023b-4d03-a246-d4654d28f3db"
      },
      "execution_count": null,
      "outputs": [
        {
          "output_type": "stream",
          "name": "stdout",
          "text": [
            "<class 'torchtext.legacy.data.batch.Batch'>\n"
          ]
        }
      ]
    },
    {
      "cell_type": "markdown",
      "source": [
        "일반적인 데이터로더와 토치 텍스트의 데이터로더는 조금 다른데 일반적인 데이터로터는 미니배치를 텐서로 가져오지만 토치텍스트의 데이터로더는 torchtext.data.batch.Batch 객체를 가져오는 것을 볼 수 있다. "
      ],
      "metadata": {
        "id": "bpsKmfSzR3vD"
      }
    },
    {
      "cell_type": "code",
      "source": [
        "print(batch.text)"
      ],
      "metadata": {
        "colab": {
          "base_uri": "https://localhost:8080/"
        },
        "id": "pux8wJCZRxJl",
        "outputId": "02a2655e-e134-4cba-988d-0402827005dc"
      },
      "execution_count": null,
      "outputs": [
        {
          "output_type": "stream",
          "name": "stdout",
          "text": [
            "tensor([[8513,  127,  229,  477, 3893,   40,    0,   22,    6,    2,    3,    2,\n",
            "            0,    1,    1,    1,    1,    1,    1,    1],\n",
            "        [ 904,  190, 2967, 6073,  944,  258,  143,    4,  656, 2408,   45, 4851,\n",
            "          777,  190, 2672,  197,  629, 9226,  629,   77],\n",
            "        [3789,  616,   87,  106, 4822,  187, 9435,  856,  100,    1,    1,    1,\n",
            "            1,    1,    1,    1,    1,    1,    1,    1],\n",
            "        [  19,  590,  202,   98,  466,    5,    0,   99,  349, 1870,  525,    1,\n",
            "            1,    1,    1,    1,    1,    1,    1,    1],\n",
            "        [3187,  359,    8, 5385, 1480,    0,  627,    1,    1,    1,    1,    1,\n",
            "            1,    1,    1,    1,    1,    1,    1,    1]])\n"
          ]
        }
      ]
    },
    {
      "cell_type": "markdown",
      "source": [
        "각 샘플은 더 이상 단어 시퀀스가 아니라 정수 시퀀스임을 볼 수 있습니다. 각 단어는 단어 집합에서 정해진대로 각 단어에 맵핑되는 고유한 정수로 변환된 상태입니다. 각 샘플의 중간, 중간에는 숫자 0이 존재하는데 이는 <unk> 토큰의 번호로 단어 집합에 포함되지 못한 단어들은 <unk>라는 토큰으로 변환되었습니다."
      ],
      "metadata": {
        "id": "r-VvLhpQTCl2"
      }
    },
    {
      "cell_type": "code",
      "source": [
        "print(batch.text.shape)"
      ],
      "metadata": {
        "colab": {
          "base_uri": "https://localhost:8080/"
        },
        "id": "jyNSZxpeRzmO",
        "outputId": "ed357e38-a13a-4134-c3d8-4ebb9d4f2062"
      },
      "execution_count": null,
      "outputs": [
        {
          "output_type": "stream",
          "name": "stdout",
          "text": [
            "torch.Size([5, 20])\n"
          ]
        }
      ]
    },
    {
      "cell_type": "markdown",
      "source": [
        "## 데이터 로더 만들기\n",
        "\n",
        "훈련데이터와 테스트 데이터는 분리했지만 검증 데이터를 분리해야한다. 훈련데이터를 다시 8:2로 분리해 검증 데이터를 만들겠다. "
      ],
      "metadata": {
        "id": "gto6VMjWWjnP"
      }
    },
    {
      "cell_type": "code",
      "source": [
        "trainset,valset=train_data.split(split_ratio=0.8)"
      ],
      "metadata": {
        "id": "XVrGlWafWHl8"
      },
      "execution_count": null,
      "outputs": []
    },
    {
      "cell_type": "markdown",
      "source": [
        "훈련데이터는 train_data,테스트 데이터는 test_data, 검증 데이터는 valset 에 저장\n",
        "\n",
        "토치텍스트는 모든 텍스트를 배치 처리하는 것을 지원하고, 단어를 인덱스 번호로 대체하는 bucketlterator를 제공한다. bucketlterator는 batch_size,device,shuffle 등의 인자를 받는다. batch_size는 앞서 64로 설정했었다. "
      ],
      "metadata": {
        "id": "CWit9cwOXW4M"
      }
    },
    {
      "cell_type": "code",
      "source": [
        "train_iter, val_iter, test_iter = data.BucketIterator.splits(\n",
        "        (trainset, valset, test_data), batch_size=batch_size,\n",
        "        shuffle=True, repeat=False)"
      ],
      "metadata": {
        "id": "rzgCw_QbWoXX"
      },
      "execution_count": null,
      "outputs": []
    },
    {
      "cell_type": "markdown",
      "source": [
        "64개씩 묶었을 때 총 배치의 개수가 몇개가 되는지 출력"
      ],
      "metadata": {
        "id": "HnyVDlukc1ib"
      }
    },
    {
      "cell_type": "code",
      "source": [
        "print('훈련 데이터의 미니 배치의 개수 : {}'.format(len(train_iter)))\n",
        "print('테스트 데이터의 미니 배치의 개수 : {}'.format(len(test_iter)))\n",
        "print('검증 데이터의 미니 배치의 개수 : {}'.format(len(val_iter)))"
      ],
      "metadata": {
        "colab": {
          "base_uri": "https://localhost:8080/"
        },
        "id": "j34d0p0OrQyk",
        "outputId": "b770cddf-a60f-45cc-b97e-aaccadbecae4"
      },
      "execution_count": null,
      "outputs": [
        {
          "output_type": "stream",
          "name": "stdout",
          "text": [
            "훈련 데이터의 미니 배치의 개수 : 686\n",
            "테스트 데이터의 미니 배치의 개수 : 307\n",
            "검증 데이터의 미니 배치의 개수 : 172\n"
          ]
        }
      ]
    },
    {
      "cell_type": "markdown",
      "source": [
        "## RNN 모델 구현"
      ],
      "metadata": {
        "id": "UMvrV8aPhVIu"
      }
    },
    {
      "cell_type": "code",
      "source": [
        "n_classes=5"
      ],
      "metadata": {
        "id": "6eFtT_Gihhr9"
      },
      "execution_count": null,
      "outputs": []
    },
    {
      "cell_type": "code",
      "source": [
        "class GRU(nn.Module):\n",
        "    def __init__(self, n_layers, hidden_dim, n_vocab, embed_dim, n_classes, dropout_p=0.2):\n",
        "        super(GRU, self).__init__()\n",
        "        self.n_layers = n_layers\n",
        "        self.hidden_dim = hidden_dim\n",
        "\n",
        "        self.embed = nn.Embedding(n_vocab, embed_dim)\n",
        "        self.dropout = nn.Dropout(dropout_p)\n",
        "        self.gru = nn.GRU(embed_dim, self.hidden_dim,\n",
        "                          num_layers=self.n_layers,\n",
        "                          batch_first=True)\n",
        "        self.out = nn.Linear(self.hidden_dim, n_classes)\n",
        "\n",
        "    def forward(self, x):\n",
        "        x = self.embed(x)\n",
        "        h_0 = self._init_state(batch_size=x.size(0)) # 첫번째 히든 스테이트를 0벡터로 초기화\n",
        "        x, _ = self.gru(x, h_0)  # GRU의 리턴값은 (배치 크기, 시퀀스 길이, 은닉 상태의 크기)\n",
        "        h_t = x[:,-1,:] # (배치 크기, 은닉 상태의 크기)의 텐서로 크기가 변경됨. 즉, 마지막 time-step의 은닉 상태만 가져온다.\n",
        "        self.dropout(h_t)\n",
        "        logit = self.out(h_t)  # (배치 크기, 은닉 상태의 크기) -> (배치 크기, 출력층의 크기)\n",
        "        return logit\n",
        "\n",
        "    def _init_state(self, batch_size=1):\n",
        "        weight = next(self.parameters()).data\n",
        "        return weight.new(self.n_layers, batch_size, self.hidden_dim).zero_()"
      ],
      "metadata": {
        "id": "RHXJjF9vhM3n"
      },
      "execution_count": null,
      "outputs": []
    },
    {
      "cell_type": "code",
      "source": [
        "model = GRU(1, 256, vocab_size, 128, n_classes, 0.5).to(device)\n",
        "optimizer = torch.optim.Adam(model.parameters(), lr=lr)"
      ],
      "metadata": {
        "id": "-kQCczeohp2r"
      },
      "execution_count": null,
      "outputs": []
    },
    {
      "cell_type": "code",
      "source": [
        "for epoch in range(epochs):\n",
        "    avg_cost = 0\n",
        "\n",
        "    for b,batch in enumerate(train_iter):\n",
        "      x,y=batch.text.to(device),batch.label.to(device)\n",
        "\n",
        "      optimizer.zero_grad()\n",
        "      hypothesis = model(x)\n",
        "      cost = F.cross_entropy(hypothesis, y)\n",
        "      cost.backward()\n",
        "      optimizer.step()\n",
        "\n",
        "      avg_cost += cost / 686\n",
        "\n",
        "    print('[Epoch: {:>4}] cost = {:>.9}'.format(epoch + 1, avg_cost))"
      ],
      "metadata": {
        "colab": {
          "base_uri": "https://localhost:8080/"
        },
        "id": "uxsrOqwZlQoD",
        "outputId": "2a5429c6-6264-4e05-bd03-bebcf0859f71"
      },
      "execution_count": null,
      "outputs": [
        {
          "output_type": "stream",
          "name": "stdout",
          "text": [
            "[Epoch:    1] cost = 1.30642819\n",
            "[Epoch:    2] cost = 0.922698498\n",
            "[Epoch:    3] cost = 0.697003961\n",
            "[Epoch:    4] cost = 0.512160718\n",
            "[Epoch:    5] cost = 0.350746274\n",
            "[Epoch:    6] cost = 0.23489967\n",
            "[Epoch:    7] cost = 0.158955172\n",
            "[Epoch:    8] cost = 0.110223182\n",
            "[Epoch:    9] cost = 0.0899261758\n",
            "[Epoch:   10] cost = 0.0730146915\n"
          ]
        }
      ]
    },
    {
      "cell_type": "code",
      "source": [
        ""
      ],
      "metadata": {
        "id": "nrVvXn7S_6qe"
      },
      "execution_count": null,
      "outputs": []
    }
  ]
}