{
  "nbformat": 4,
  "nbformat_minor": 0,
  "metadata": {
    "colab": {
      "name": "신용카드 사용자 연체 예측 AI 경진대회.ipynb",
      "provenance": [],
      "authorship_tag": "ABX9TyN9hW5IVmMtJLomeQ8f7Q4n",
      "include_colab_link": true
    },
    "kernelspec": {
      "name": "python3",
      "display_name": "Python 3"
    },
    "language_info": {
      "name": "python"
    }
  },
  "cells": [
    {
      "cell_type": "markdown",
      "metadata": {
        "id": "view-in-github",
        "colab_type": "text"
      },
      "source": [
        "<a href=\"https://colab.research.google.com/github/jiin124/Dacon/blob/main/%EC%8B%A0%EC%9A%A9%EC%B9%B4%EB%93%9C_%EC%82%AC%EC%9A%A9%EC%9E%90_%EC%97%B0%EC%B2%B4_%EC%98%88%EC%B8%A1_AI_%EA%B2%BD%EC%A7%84%EB%8C%80%ED%9A%8C.ipynb\" target=\"_parent\"><img src=\"https://colab.research.google.com/assets/colab-badge.svg\" alt=\"Open In Colab\"/></a>"
      ]
    },
    {
      "cell_type": "markdown",
      "metadata": {
        "id": "6l2QdiUYHZtI"
      },
      "source": [
        "# 신용카드 사용자 연체 예측 AI 경진대회\n",
        "\n",
        "1. 주제 \n",
        "\n",
        "신용카드 사용자 데이터를 보고 사용자의 대금 연체 정도를 예측하는 알고리즘 개발 \n",
        "\n",
        "\n",
        "\n",
        "2. 배경\n",
        "\n",
        "신용카드사는 신용카드 신청자가 제출한 개인정보와 데이터를 활용해 신용 점수를 산정합니다. 신용카드사는 이 신용 점수를 활용해 신청자의 향후 채무 불이행과 신용카드 대급 연체 가능성을 예측합니다. \n",
        "\n",
        "현재 많은 금융업계는 인공지능(AI)를 활용한 금융 서비스를 구현하고자 합니다. 사용자의 대금 연체 정도를 예측할 수 있는 인공지능 알고리즘을 개발해 금융업계에 제안할 수 있는 인사이트를 발굴해주세요!\n",
        "\n",
        "\n",
        "\n",
        "3. 대회 설명\n",
        "\n",
        "신용카드 사용자들의 개인 신상정보 데이터로 사용자의 신용카드 대금 연체 정도를 예측\n",
        "\n"
      ]
    },
    {
      "cell_type": "code",
      "metadata": {
        "id": "IJpUEPDSHXqT"
      },
      "source": [
        "import pandas as pd\n",
        "import numpy as np\n",
        "import matplotlib.pyplot as plt\n",
        "import seaborn as sns\n",
        "\n",
        "from sklearn.preprocessing import StandardScaler\n",
        "from sklearn.model_selection import train_test_split\n",
        "from sklearn.metrics import accuracy_score,precision_score,recall_score,roc_auc_score\n",
        "from sklearn.metrics import f1_score,confusion_matrix,precision_recall_curve,roc_curve\n"
      ],
      "execution_count": 39,
      "outputs": []
    },
    {
      "cell_type": "code",
      "metadata": {
        "colab": {
          "base_uri": "https://localhost:8080/",
          "height": 374
        },
        "id": "p42S6iYFJFsB",
        "outputId": "b521cd15-e949-4f37-8dc6-9f53a819575c"
      },
      "source": [
        "train=pd.read_csv(\"train.csv\")\n",
        "train.head()"
      ],
      "execution_count": 142,
      "outputs": [
        {
          "output_type": "execute_result",
          "data": {
            "text/html": [
              "<div>\n",
              "<style scoped>\n",
              "    .dataframe tbody tr th:only-of-type {\n",
              "        vertical-align: middle;\n",
              "    }\n",
              "\n",
              "    .dataframe tbody tr th {\n",
              "        vertical-align: top;\n",
              "    }\n",
              "\n",
              "    .dataframe thead th {\n",
              "        text-align: right;\n",
              "    }\n",
              "</style>\n",
              "<table border=\"1\" class=\"dataframe\">\n",
              "  <thead>\n",
              "    <tr style=\"text-align: right;\">\n",
              "      <th></th>\n",
              "      <th>index</th>\n",
              "      <th>gender</th>\n",
              "      <th>car</th>\n",
              "      <th>reality</th>\n",
              "      <th>child_num</th>\n",
              "      <th>income_total</th>\n",
              "      <th>income_type</th>\n",
              "      <th>edu_type</th>\n",
              "      <th>family_type</th>\n",
              "      <th>house_type</th>\n",
              "      <th>DAYS_BIRTH</th>\n",
              "      <th>DAYS_EMPLOYED</th>\n",
              "      <th>FLAG_MOBIL</th>\n",
              "      <th>work_phone</th>\n",
              "      <th>phone</th>\n",
              "      <th>email</th>\n",
              "      <th>occyp_type</th>\n",
              "      <th>family_size</th>\n",
              "      <th>begin_month</th>\n",
              "      <th>credit</th>\n",
              "    </tr>\n",
              "  </thead>\n",
              "  <tbody>\n",
              "    <tr>\n",
              "      <th>0</th>\n",
              "      <td>0</td>\n",
              "      <td>F</td>\n",
              "      <td>N</td>\n",
              "      <td>N</td>\n",
              "      <td>0</td>\n",
              "      <td>202500.0</td>\n",
              "      <td>Commercial associate</td>\n",
              "      <td>Higher education</td>\n",
              "      <td>Married</td>\n",
              "      <td>Municipal apartment</td>\n",
              "      <td>-13899</td>\n",
              "      <td>-4709</td>\n",
              "      <td>1</td>\n",
              "      <td>0</td>\n",
              "      <td>0</td>\n",
              "      <td>0</td>\n",
              "      <td>NaN</td>\n",
              "      <td>2.0</td>\n",
              "      <td>-6.0</td>\n",
              "      <td>1.0</td>\n",
              "    </tr>\n",
              "    <tr>\n",
              "      <th>1</th>\n",
              "      <td>1</td>\n",
              "      <td>F</td>\n",
              "      <td>N</td>\n",
              "      <td>Y</td>\n",
              "      <td>1</td>\n",
              "      <td>247500.0</td>\n",
              "      <td>Commercial associate</td>\n",
              "      <td>Secondary / secondary special</td>\n",
              "      <td>Civil marriage</td>\n",
              "      <td>House / apartment</td>\n",
              "      <td>-11380</td>\n",
              "      <td>-1540</td>\n",
              "      <td>1</td>\n",
              "      <td>0</td>\n",
              "      <td>0</td>\n",
              "      <td>1</td>\n",
              "      <td>Laborers</td>\n",
              "      <td>3.0</td>\n",
              "      <td>-5.0</td>\n",
              "      <td>1.0</td>\n",
              "    </tr>\n",
              "    <tr>\n",
              "      <th>2</th>\n",
              "      <td>2</td>\n",
              "      <td>M</td>\n",
              "      <td>Y</td>\n",
              "      <td>Y</td>\n",
              "      <td>0</td>\n",
              "      <td>450000.0</td>\n",
              "      <td>Working</td>\n",
              "      <td>Higher education</td>\n",
              "      <td>Married</td>\n",
              "      <td>House / apartment</td>\n",
              "      <td>-19087</td>\n",
              "      <td>-4434</td>\n",
              "      <td>1</td>\n",
              "      <td>0</td>\n",
              "      <td>1</td>\n",
              "      <td>0</td>\n",
              "      <td>Managers</td>\n",
              "      <td>2.0</td>\n",
              "      <td>-22.0</td>\n",
              "      <td>2.0</td>\n",
              "    </tr>\n",
              "    <tr>\n",
              "      <th>3</th>\n",
              "      <td>3</td>\n",
              "      <td>F</td>\n",
              "      <td>N</td>\n",
              "      <td>Y</td>\n",
              "      <td>0</td>\n",
              "      <td>202500.0</td>\n",
              "      <td>Commercial associate</td>\n",
              "      <td>Secondary / secondary special</td>\n",
              "      <td>Married</td>\n",
              "      <td>House / apartment</td>\n",
              "      <td>-15088</td>\n",
              "      <td>-2092</td>\n",
              "      <td>1</td>\n",
              "      <td>0</td>\n",
              "      <td>1</td>\n",
              "      <td>0</td>\n",
              "      <td>Sales staff</td>\n",
              "      <td>2.0</td>\n",
              "      <td>-37.0</td>\n",
              "      <td>0.0</td>\n",
              "    </tr>\n",
              "    <tr>\n",
              "      <th>4</th>\n",
              "      <td>4</td>\n",
              "      <td>F</td>\n",
              "      <td>Y</td>\n",
              "      <td>Y</td>\n",
              "      <td>0</td>\n",
              "      <td>157500.0</td>\n",
              "      <td>State servant</td>\n",
              "      <td>Higher education</td>\n",
              "      <td>Married</td>\n",
              "      <td>House / apartment</td>\n",
              "      <td>-15037</td>\n",
              "      <td>-2105</td>\n",
              "      <td>1</td>\n",
              "      <td>0</td>\n",
              "      <td>0</td>\n",
              "      <td>0</td>\n",
              "      <td>Managers</td>\n",
              "      <td>2.0</td>\n",
              "      <td>-26.0</td>\n",
              "      <td>2.0</td>\n",
              "    </tr>\n",
              "  </tbody>\n",
              "</table>\n",
              "</div>"
            ],
            "text/plain": [
              "   index gender car reality  ...   occyp_type  family_size begin_month credit\n",
              "0      0      F   N       N  ...          NaN          2.0        -6.0    1.0\n",
              "1      1      F   N       Y  ...     Laborers          3.0        -5.0    1.0\n",
              "2      2      M   Y       Y  ...     Managers          2.0       -22.0    2.0\n",
              "3      3      F   N       Y  ...  Sales staff          2.0       -37.0    0.0\n",
              "4      4      F   Y       Y  ...     Managers          2.0       -26.0    2.0\n",
              "\n",
              "[5 rows x 20 columns]"
            ]
          },
          "metadata": {},
          "execution_count": 142
        }
      ]
    },
    {
      "cell_type": "code",
      "metadata": {
        "colab": {
          "base_uri": "https://localhost:8080/"
        },
        "id": "7NKF3l5fJJoa",
        "outputId": "c1be6041-5d12-4907-8ee3-1730d73e3c4b"
      },
      "source": [
        "train.info()"
      ],
      "execution_count": 143,
      "outputs": [
        {
          "output_type": "stream",
          "name": "stdout",
          "text": [
            "<class 'pandas.core.frame.DataFrame'>\n",
            "RangeIndex: 26457 entries, 0 to 26456\n",
            "Data columns (total 20 columns):\n",
            " #   Column         Non-Null Count  Dtype  \n",
            "---  ------         --------------  -----  \n",
            " 0   index          26457 non-null  int64  \n",
            " 1   gender         26457 non-null  object \n",
            " 2   car            26457 non-null  object \n",
            " 3   reality        26457 non-null  object \n",
            " 4   child_num      26457 non-null  int64  \n",
            " 5   income_total   26457 non-null  float64\n",
            " 6   income_type    26457 non-null  object \n",
            " 7   edu_type       26457 non-null  object \n",
            " 8   family_type    26457 non-null  object \n",
            " 9   house_type     26457 non-null  object \n",
            " 10  DAYS_BIRTH     26457 non-null  int64  \n",
            " 11  DAYS_EMPLOYED  26457 non-null  int64  \n",
            " 12  FLAG_MOBIL     26457 non-null  int64  \n",
            " 13  work_phone     26457 non-null  int64  \n",
            " 14  phone          26457 non-null  int64  \n",
            " 15  email          26457 non-null  int64  \n",
            " 16  occyp_type     18286 non-null  object \n",
            " 17  family_size    26457 non-null  float64\n",
            " 18  begin_month    26457 non-null  float64\n",
            " 19  credit         26457 non-null  float64\n",
            "dtypes: float64(4), int64(8), object(8)\n",
            "memory usage: 4.0+ MB\n"
          ]
        }
      ]
    },
    {
      "cell_type": "markdown",
      "metadata": {
        "id": "nDrpYny-J5LM"
      },
      "source": [
        "26457,20"
      ]
    },
    {
      "cell_type": "code",
      "metadata": {
        "colab": {
          "base_uri": "https://localhost:8080/"
        },
        "id": "poU0lZE-JLhz",
        "outputId": "0384baf9-4c37-4271-cdae-3eb869f0d5a9"
      },
      "source": [
        "train.isna().sum()"
      ],
      "execution_count": 144,
      "outputs": [
        {
          "output_type": "execute_result",
          "data": {
            "text/plain": [
              "index               0\n",
              "gender              0\n",
              "car                 0\n",
              "reality             0\n",
              "child_num           0\n",
              "income_total        0\n",
              "income_type         0\n",
              "edu_type            0\n",
              "family_type         0\n",
              "house_type          0\n",
              "DAYS_BIRTH          0\n",
              "DAYS_EMPLOYED       0\n",
              "FLAG_MOBIL          0\n",
              "work_phone          0\n",
              "phone               0\n",
              "email               0\n",
              "occyp_type       8171\n",
              "family_size         0\n",
              "begin_month         0\n",
              "credit              0\n",
              "dtype: int64"
            ]
          },
          "metadata": {},
          "execution_count": 144
        }
      ]
    },
    {
      "cell_type": "code",
      "metadata": {
        "colab": {
          "base_uri": "https://localhost:8080/",
          "height": 408
        },
        "id": "j8tn91ugJw70",
        "outputId": "41d4b7f3-6b0e-4a2e-bdd2-d72536d070c5"
      },
      "source": [
        "test=pd.read_csv(\"test.csv\")\n",
        "test.head()"
      ],
      "execution_count": 145,
      "outputs": [
        {
          "output_type": "execute_result",
          "data": {
            "text/html": [
              "<div>\n",
              "<style scoped>\n",
              "    .dataframe tbody tr th:only-of-type {\n",
              "        vertical-align: middle;\n",
              "    }\n",
              "\n",
              "    .dataframe tbody tr th {\n",
              "        vertical-align: top;\n",
              "    }\n",
              "\n",
              "    .dataframe thead th {\n",
              "        text-align: right;\n",
              "    }\n",
              "</style>\n",
              "<table border=\"1\" class=\"dataframe\">\n",
              "  <thead>\n",
              "    <tr style=\"text-align: right;\">\n",
              "      <th></th>\n",
              "      <th>index</th>\n",
              "      <th>gender</th>\n",
              "      <th>car</th>\n",
              "      <th>reality</th>\n",
              "      <th>child_num</th>\n",
              "      <th>income_total</th>\n",
              "      <th>income_type</th>\n",
              "      <th>edu_type</th>\n",
              "      <th>family_type</th>\n",
              "      <th>house_type</th>\n",
              "      <th>DAYS_BIRTH</th>\n",
              "      <th>DAYS_EMPLOYED</th>\n",
              "      <th>FLAG_MOBIL</th>\n",
              "      <th>work_phone</th>\n",
              "      <th>phone</th>\n",
              "      <th>email</th>\n",
              "      <th>occyp_type</th>\n",
              "      <th>family_size</th>\n",
              "      <th>begin_month</th>\n",
              "    </tr>\n",
              "  </thead>\n",
              "  <tbody>\n",
              "    <tr>\n",
              "      <th>0</th>\n",
              "      <td>26457</td>\n",
              "      <td>M</td>\n",
              "      <td>Y</td>\n",
              "      <td>N</td>\n",
              "      <td>0</td>\n",
              "      <td>112500.0</td>\n",
              "      <td>Pensioner</td>\n",
              "      <td>Secondary / secondary special</td>\n",
              "      <td>Civil marriage</td>\n",
              "      <td>House / apartment</td>\n",
              "      <td>-21990</td>\n",
              "      <td>365243</td>\n",
              "      <td>1</td>\n",
              "      <td>0</td>\n",
              "      <td>1</td>\n",
              "      <td>0</td>\n",
              "      <td>NaN</td>\n",
              "      <td>2.0</td>\n",
              "      <td>-60.0</td>\n",
              "    </tr>\n",
              "    <tr>\n",
              "      <th>1</th>\n",
              "      <td>26458</td>\n",
              "      <td>F</td>\n",
              "      <td>N</td>\n",
              "      <td>Y</td>\n",
              "      <td>0</td>\n",
              "      <td>135000.0</td>\n",
              "      <td>State servant</td>\n",
              "      <td>Higher education</td>\n",
              "      <td>Married</td>\n",
              "      <td>House / apartment</td>\n",
              "      <td>-18964</td>\n",
              "      <td>-8671</td>\n",
              "      <td>1</td>\n",
              "      <td>0</td>\n",
              "      <td>1</td>\n",
              "      <td>0</td>\n",
              "      <td>Core staff</td>\n",
              "      <td>2.0</td>\n",
              "      <td>-36.0</td>\n",
              "    </tr>\n",
              "    <tr>\n",
              "      <th>2</th>\n",
              "      <td>26459</td>\n",
              "      <td>F</td>\n",
              "      <td>N</td>\n",
              "      <td>Y</td>\n",
              "      <td>0</td>\n",
              "      <td>69372.0</td>\n",
              "      <td>Working</td>\n",
              "      <td>Secondary / secondary special</td>\n",
              "      <td>Married</td>\n",
              "      <td>House / apartment</td>\n",
              "      <td>-15887</td>\n",
              "      <td>-217</td>\n",
              "      <td>1</td>\n",
              "      <td>1</td>\n",
              "      <td>1</td>\n",
              "      <td>0</td>\n",
              "      <td>Laborers</td>\n",
              "      <td>2.0</td>\n",
              "      <td>-40.0</td>\n",
              "    </tr>\n",
              "    <tr>\n",
              "      <th>3</th>\n",
              "      <td>26460</td>\n",
              "      <td>M</td>\n",
              "      <td>Y</td>\n",
              "      <td>N</td>\n",
              "      <td>0</td>\n",
              "      <td>112500.0</td>\n",
              "      <td>Commercial associate</td>\n",
              "      <td>Secondary / secondary special</td>\n",
              "      <td>Married</td>\n",
              "      <td>House / apartment</td>\n",
              "      <td>-19270</td>\n",
              "      <td>-2531</td>\n",
              "      <td>1</td>\n",
              "      <td>1</td>\n",
              "      <td>0</td>\n",
              "      <td>0</td>\n",
              "      <td>Drivers</td>\n",
              "      <td>2.0</td>\n",
              "      <td>-41.0</td>\n",
              "    </tr>\n",
              "    <tr>\n",
              "      <th>4</th>\n",
              "      <td>26461</td>\n",
              "      <td>F</td>\n",
              "      <td>Y</td>\n",
              "      <td>Y</td>\n",
              "      <td>0</td>\n",
              "      <td>225000.0</td>\n",
              "      <td>State servant</td>\n",
              "      <td>Higher education</td>\n",
              "      <td>Married</td>\n",
              "      <td>House / apartment</td>\n",
              "      <td>-17822</td>\n",
              "      <td>-9385</td>\n",
              "      <td>1</td>\n",
              "      <td>1</td>\n",
              "      <td>0</td>\n",
              "      <td>0</td>\n",
              "      <td>Managers</td>\n",
              "      <td>2.0</td>\n",
              "      <td>-8.0</td>\n",
              "    </tr>\n",
              "  </tbody>\n",
              "</table>\n",
              "</div>"
            ],
            "text/plain": [
              "   index gender car reality  ...  email  occyp_type family_size begin_month\n",
              "0  26457      M   Y       N  ...      0         NaN         2.0       -60.0\n",
              "1  26458      F   N       Y  ...      0  Core staff         2.0       -36.0\n",
              "2  26459      F   N       Y  ...      0    Laborers         2.0       -40.0\n",
              "3  26460      M   Y       N  ...      0     Drivers         2.0       -41.0\n",
              "4  26461      F   Y       Y  ...      0    Managers         2.0        -8.0\n",
              "\n",
              "[5 rows x 19 columns]"
            ]
          },
          "metadata": {},
          "execution_count": 145
        }
      ]
    },
    {
      "cell_type": "code",
      "metadata": {
        "colab": {
          "base_uri": "https://localhost:8080/"
        },
        "id": "fuq3c9ijJ1PH",
        "outputId": "ba4c9715-f18a-407c-ccfe-56b5d7bca3fe"
      },
      "source": [
        "test.info()"
      ],
      "execution_count": 110,
      "outputs": [
        {
          "output_type": "stream",
          "name": "stdout",
          "text": [
            "<class 'pandas.core.frame.DataFrame'>\n",
            "RangeIndex: 10000 entries, 0 to 9999\n",
            "Data columns (total 19 columns):\n",
            " #   Column         Non-Null Count  Dtype  \n",
            "---  ------         --------------  -----  \n",
            " 0   index          10000 non-null  int64  \n",
            " 1   gender         10000 non-null  object \n",
            " 2   car            10000 non-null  object \n",
            " 3   reality        10000 non-null  object \n",
            " 4   child_num      10000 non-null  int64  \n",
            " 5   income_total   10000 non-null  float64\n",
            " 6   income_type    10000 non-null  object \n",
            " 7   edu_type       10000 non-null  object \n",
            " 8   family_type    10000 non-null  object \n",
            " 9   house_type     10000 non-null  object \n",
            " 10  DAYS_BIRTH     10000 non-null  int64  \n",
            " 11  DAYS_EMPLOYED  10000 non-null  int64  \n",
            " 12  FLAG_MOBIL     10000 non-null  int64  \n",
            " 13  work_phone     10000 non-null  int64  \n",
            " 14  phone          10000 non-null  int64  \n",
            " 15  email          10000 non-null  int64  \n",
            " 16  occyp_type     6848 non-null   object \n",
            " 17  family_size    10000 non-null  float64\n",
            " 18  begin_month    10000 non-null  float64\n",
            "dtypes: float64(3), int64(8), object(8)\n",
            "memory usage: 1.4+ MB\n"
          ]
        }
      ]
    },
    {
      "cell_type": "code",
      "metadata": {
        "colab": {
          "base_uri": "https://localhost:8080/"
        },
        "id": "_gKbVw6sJ9f2",
        "outputId": "62fc5018-60dc-46e9-e7e2-9d6b3cbaaf65"
      },
      "source": [
        "test.isna().sum()"
      ],
      "execution_count": 111,
      "outputs": [
        {
          "output_type": "execute_result",
          "data": {
            "text/plain": [
              "index               0\n",
              "gender              0\n",
              "car                 0\n",
              "reality             0\n",
              "child_num           0\n",
              "income_total        0\n",
              "income_type         0\n",
              "edu_type            0\n",
              "family_type         0\n",
              "house_type          0\n",
              "DAYS_BIRTH          0\n",
              "DAYS_EMPLOYED       0\n",
              "FLAG_MOBIL          0\n",
              "work_phone          0\n",
              "phone               0\n",
              "email               0\n",
              "occyp_type       3152\n",
              "family_size         0\n",
              "begin_month         0\n",
              "dtype: int64"
            ]
          },
          "metadata": {},
          "execution_count": 111
        }
      ]
    },
    {
      "cell_type": "code",
      "metadata": {
        "colab": {
          "base_uri": "https://localhost:8080/",
          "height": 203
        },
        "id": "jvOHBC38E6YQ",
        "outputId": "29ffeb78-6869-49f7-fb31-a75e15cd89a0"
      },
      "source": [
        "sub=pd.read_csv('sample_submission.csv')\n",
        "sub.head()"
      ],
      "execution_count": 141,
      "outputs": [
        {
          "output_type": "execute_result",
          "data": {
            "text/html": [
              "<div>\n",
              "<style scoped>\n",
              "    .dataframe tbody tr th:only-of-type {\n",
              "        vertical-align: middle;\n",
              "    }\n",
              "\n",
              "    .dataframe tbody tr th {\n",
              "        vertical-align: top;\n",
              "    }\n",
              "\n",
              "    .dataframe thead th {\n",
              "        text-align: right;\n",
              "    }\n",
              "</style>\n",
              "<table border=\"1\" class=\"dataframe\">\n",
              "  <thead>\n",
              "    <tr style=\"text-align: right;\">\n",
              "      <th></th>\n",
              "      <th>index</th>\n",
              "      <th>0</th>\n",
              "      <th>1</th>\n",
              "      <th>2</th>\n",
              "    </tr>\n",
              "  </thead>\n",
              "  <tbody>\n",
              "    <tr>\n",
              "      <th>0</th>\n",
              "      <td>26457</td>\n",
              "      <td>0</td>\n",
              "      <td>0</td>\n",
              "      <td>0</td>\n",
              "    </tr>\n",
              "    <tr>\n",
              "      <th>1</th>\n",
              "      <td>26458</td>\n",
              "      <td>0</td>\n",
              "      <td>0</td>\n",
              "      <td>0</td>\n",
              "    </tr>\n",
              "    <tr>\n",
              "      <th>2</th>\n",
              "      <td>26459</td>\n",
              "      <td>0</td>\n",
              "      <td>0</td>\n",
              "      <td>0</td>\n",
              "    </tr>\n",
              "    <tr>\n",
              "      <th>3</th>\n",
              "      <td>26460</td>\n",
              "      <td>0</td>\n",
              "      <td>0</td>\n",
              "      <td>0</td>\n",
              "    </tr>\n",
              "    <tr>\n",
              "      <th>4</th>\n",
              "      <td>26461</td>\n",
              "      <td>0</td>\n",
              "      <td>0</td>\n",
              "      <td>0</td>\n",
              "    </tr>\n",
              "  </tbody>\n",
              "</table>\n",
              "</div>"
            ],
            "text/plain": [
              "   index  0  1  2\n",
              "0  26457  0  0  0\n",
              "1  26458  0  0  0\n",
              "2  26459  0  0  0\n",
              "3  26460  0  0  0\n",
              "4  26461  0  0  0"
            ]
          },
          "metadata": {},
          "execution_count": 141
        }
      ]
    },
    {
      "cell_type": "markdown",
      "metadata": {
        "id": "POF5shRoKSNt"
      },
      "source": [
        "# EDA"
      ]
    },
    {
      "cell_type": "code",
      "metadata": {
        "colab": {
          "base_uri": "https://localhost:8080/"
        },
        "id": "1qLHn3G8KRu2",
        "outputId": "8938e0eb-17fa-4710-ad58-35e274e37383"
      },
      "source": [
        "train.columns"
      ],
      "execution_count": 112,
      "outputs": [
        {
          "output_type": "execute_result",
          "data": {
            "text/plain": [
              "Index(['index', 'gender', 'car', 'reality', 'child_num', 'income_total',\n",
              "       'income_type', 'edu_type', 'family_type', 'house_type', 'DAYS_BIRTH',\n",
              "       'DAYS_EMPLOYED', 'FLAG_MOBIL', 'work_phone', 'phone', 'email',\n",
              "       'occyp_type', 'family_size', 'begin_month', 'credit'],\n",
              "      dtype='object')"
            ]
          },
          "metadata": {},
          "execution_count": 112
        }
      ]
    },
    {
      "cell_type": "code",
      "metadata": {
        "colab": {
          "base_uri": "https://localhost:8080/"
        },
        "id": "PgditwAbKjD6",
        "outputId": "7e0d7fbe-ec4d-4194-cd1c-dbed86b570ba"
      },
      "source": [
        "train.info()"
      ],
      "execution_count": 113,
      "outputs": [
        {
          "output_type": "stream",
          "name": "stdout",
          "text": [
            "<class 'pandas.core.frame.DataFrame'>\n",
            "RangeIndex: 26457 entries, 0 to 26456\n",
            "Data columns (total 20 columns):\n",
            " #   Column         Non-Null Count  Dtype  \n",
            "---  ------         --------------  -----  \n",
            " 0   index          26457 non-null  int64  \n",
            " 1   gender         26457 non-null  object \n",
            " 2   car            26457 non-null  object \n",
            " 3   reality        26457 non-null  object \n",
            " 4   child_num      26457 non-null  int64  \n",
            " 5   income_total   26457 non-null  float64\n",
            " 6   income_type    26457 non-null  object \n",
            " 7   edu_type       26457 non-null  object \n",
            " 8   family_type    26457 non-null  object \n",
            " 9   house_type     26457 non-null  object \n",
            " 10  DAYS_BIRTH     26457 non-null  int64  \n",
            " 11  DAYS_EMPLOYED  26457 non-null  int64  \n",
            " 12  FLAG_MOBIL     26457 non-null  int64  \n",
            " 13  work_phone     26457 non-null  int64  \n",
            " 14  phone          26457 non-null  int64  \n",
            " 15  email          26457 non-null  int64  \n",
            " 16  occyp_type     18286 non-null  object \n",
            " 17  family_size    26457 non-null  float64\n",
            " 18  begin_month    26457 non-null  float64\n",
            " 19  credit         26457 non-null  float64\n",
            "dtypes: float64(4), int64(8), object(8)\n",
            "memory usage: 4.0+ MB\n"
          ]
        }
      ]
    },
    {
      "cell_type": "code",
      "metadata": {
        "colab": {
          "base_uri": "https://localhost:8080/"
        },
        "id": "0N0IsPs0KCrk",
        "outputId": "12d36062-0414-4b44-c8a5-d241e9e24dd3"
      },
      "source": [
        "train['gender'].value_counts()"
      ],
      "execution_count": 114,
      "outputs": [
        {
          "output_type": "execute_result",
          "data": {
            "text/plain": [
              "F    17697\n",
              "M     8760\n",
              "Name: gender, dtype: int64"
            ]
          },
          "metadata": {},
          "execution_count": 114
        }
      ]
    },
    {
      "cell_type": "code",
      "metadata": {
        "colab": {
          "base_uri": "https://localhost:8080/"
        },
        "id": "xNv0KahzKZTt",
        "outputId": "403a3b2f-2c1c-4305-f1a8-59166b98cc74"
      },
      "source": [
        "train['car'].value_counts()"
      ],
      "execution_count": 115,
      "outputs": [
        {
          "output_type": "execute_result",
          "data": {
            "text/plain": [
              "N    16410\n",
              "Y    10047\n",
              "Name: car, dtype: int64"
            ]
          },
          "metadata": {},
          "execution_count": 115
        }
      ]
    },
    {
      "cell_type": "code",
      "metadata": {
        "colab": {
          "base_uri": "https://localhost:8080/"
        },
        "id": "fO0rVeYTKn6O",
        "outputId": "91a69d15-7bf8-49b4-8c56-5b8c0e32a2e2"
      },
      "source": [
        "train['reality'].value_counts()"
      ],
      "execution_count": 116,
      "outputs": [
        {
          "output_type": "execute_result",
          "data": {
            "text/plain": [
              "Y    17830\n",
              "N     8627\n",
              "Name: reality, dtype: int64"
            ]
          },
          "metadata": {},
          "execution_count": 116
        }
      ]
    },
    {
      "cell_type": "code",
      "metadata": {
        "colab": {
          "base_uri": "https://localhost:8080/"
        },
        "id": "l34VgTu0KrjB",
        "outputId": "c666662d-99af-4746-cd8f-484063d98294"
      },
      "source": [
        "train['child_num'].value_counts()"
      ],
      "execution_count": 117,
      "outputs": [
        {
          "output_type": "execute_result",
          "data": {
            "text/plain": [
              "0     18340\n",
              "1      5386\n",
              "2      2362\n",
              "3       306\n",
              "4        47\n",
              "5        10\n",
              "14        3\n",
              "7         2\n",
              "19        1\n",
              "Name: child_num, dtype: int64"
            ]
          },
          "metadata": {},
          "execution_count": 117
        }
      ]
    },
    {
      "cell_type": "code",
      "metadata": {
        "colab": {
          "base_uri": "https://localhost:8080/"
        },
        "id": "SQG-C7L1LGIB",
        "outputId": "7847fe33-c039-4954-e6ea-845912a51c34"
      },
      "source": [
        "train['income_type'].value_counts()"
      ],
      "execution_count": 118,
      "outputs": [
        {
          "output_type": "execute_result",
          "data": {
            "text/plain": [
              "Working                 13645\n",
              "Commercial associate     6202\n",
              "Pensioner                4449\n",
              "State servant            2154\n",
              "Student                     7\n",
              "Name: income_type, dtype: int64"
            ]
          },
          "metadata": {},
          "execution_count": 118
        }
      ]
    },
    {
      "cell_type": "code",
      "metadata": {
        "colab": {
          "base_uri": "https://localhost:8080/"
        },
        "id": "ZH8o6H-gLN7N",
        "outputId": "944483ab-974c-45b9-f384-8d0631ff52a6"
      },
      "source": [
        "train['edu_type'].value_counts()"
      ],
      "execution_count": 119,
      "outputs": [
        {
          "output_type": "execute_result",
          "data": {
            "text/plain": [
              "Secondary / secondary special    17995\n",
              "Higher education                  7162\n",
              "Incomplete higher                 1020\n",
              "Lower secondary                    257\n",
              "Academic degree                     23\n",
              "Name: edu_type, dtype: int64"
            ]
          },
          "metadata": {},
          "execution_count": 119
        }
      ]
    },
    {
      "cell_type": "code",
      "metadata": {
        "colab": {
          "base_uri": "https://localhost:8080/"
        },
        "id": "k6Kxg5e3LTQ7",
        "outputId": "fec3e4db-0bcc-4a18-9abe-46606a4360da"
      },
      "source": [
        "train['family_type'].value_counts()"
      ],
      "execution_count": 23,
      "outputs": [
        {
          "output_type": "execute_result",
          "data": {
            "text/plain": [
              "Married                 18196\n",
              "Single / not married     3496\n",
              "Civil marriage           2123\n",
              "Separated                1539\n",
              "Widow                    1103\n",
              "Name: family_type, dtype: int64"
            ]
          },
          "metadata": {},
          "execution_count": 23
        }
      ]
    },
    {
      "cell_type": "code",
      "metadata": {
        "colab": {
          "base_uri": "https://localhost:8080/"
        },
        "id": "4NKPO6XmLXYf",
        "outputId": "b096d0f9-092b-4108-d325-50c1cd22b5a7"
      },
      "source": [
        "train['house_type'].value_counts()"
      ],
      "execution_count": 24,
      "outputs": [
        {
          "output_type": "execute_result",
          "data": {
            "text/plain": [
              "House / apartment      23653\n",
              "With parents            1257\n",
              "Municipal apartment      818\n",
              "Rented apartment         429\n",
              "Office apartment         190\n",
              "Co-op apartment          110\n",
              "Name: house_type, dtype: int64"
            ]
          },
          "metadata": {},
          "execution_count": 24
        }
      ]
    },
    {
      "cell_type": "code",
      "metadata": {
        "colab": {
          "base_uri": "https://localhost:8080/"
        },
        "id": "TE58kEiuLccj",
        "outputId": "28cd2ab8-07cf-4260-8da1-3eb38b3239a7"
      },
      "source": [
        "train['DAYS_EMPLOYED'].value_counts()"
      ],
      "execution_count": 29,
      "outputs": [
        {
          "output_type": "execute_result",
          "data": {
            "text/plain": [
              " 365243    4438\n",
              "-401         57\n",
              "-1539        47\n",
              "-200         45\n",
              "-2087        44\n",
              "           ... \n",
              "-8171         1\n",
              "-12253        1\n",
              "-6060         1\n",
              "-1898         1\n",
              "-2103         1\n",
              "Name: DAYS_EMPLOYED, Length: 3470, dtype: int64"
            ]
          },
          "metadata": {},
          "execution_count": 29
        }
      ]
    },
    {
      "cell_type": "markdown",
      "metadata": {
        "id": "06LtnCwRMGHS"
      },
      "source": [
        "DAYS_EMPLOYED는 전처리가 필요해 보임"
      ]
    },
    {
      "cell_type": "code",
      "metadata": {
        "colab": {
          "base_uri": "https://localhost:8080/"
        },
        "id": "_a9MO7XoLmVD",
        "outputId": "a381160b-10f8-4ae0-b3f3-3d81444af5a1"
      },
      "source": [
        "train['work_phone'].value_counts()"
      ],
      "execution_count": 30,
      "outputs": [
        {
          "output_type": "execute_result",
          "data": {
            "text/plain": [
              "0    20511\n",
              "1     5946\n",
              "Name: work_phone, dtype: int64"
            ]
          },
          "metadata": {},
          "execution_count": 30
        }
      ]
    },
    {
      "cell_type": "code",
      "metadata": {
        "colab": {
          "base_uri": "https://localhost:8080/"
        },
        "id": "vP0UceUaMIeP",
        "outputId": "575fbe31-0927-430d-918e-11e08ab51dd2"
      },
      "source": [
        "train['occyp_type'].value_counts()\n"
      ],
      "execution_count": 31,
      "outputs": [
        {
          "output_type": "execute_result",
          "data": {
            "text/plain": [
              "Laborers                 4512\n",
              "Core staff               2646\n",
              "Sales staff              2539\n",
              "Managers                 2167\n",
              "Drivers                  1575\n",
              "High skill tech staff    1040\n",
              "Accountants               902\n",
              "Medicine staff            864\n",
              "Cooking staff             457\n",
              "Security staff            424\n",
              "Cleaning staff            403\n",
              "Private service staff     243\n",
              "Low-skill Laborers        127\n",
              "Waiters/barmen staff      124\n",
              "Secretaries                97\n",
              "Realty agents              63\n",
              "HR staff                   62\n",
              "IT staff                   41\n",
              "Name: occyp_type, dtype: int64"
            ]
          },
          "metadata": {},
          "execution_count": 31
        }
      ]
    },
    {
      "cell_type": "code",
      "metadata": {
        "colab": {
          "base_uri": "https://localhost:8080/"
        },
        "id": "tDWKSD26MPPX",
        "outputId": "98b78ece-56a7-49e7-966e-c2c7285496e8"
      },
      "source": [
        "train['family_size'].value_counts()"
      ],
      "execution_count": 32,
      "outputs": [
        {
          "output_type": "execute_result",
          "data": {
            "text/plain": [
              "2.0     14106\n",
              "1.0      5109\n",
              "3.0      4632\n",
              "4.0      2260\n",
              "5.0       291\n",
              "6.0        44\n",
              "7.0         9\n",
              "15.0        3\n",
              "9.0         2\n",
              "20.0        1\n",
              "Name: family_size, dtype: int64"
            ]
          },
          "metadata": {},
          "execution_count": 32
        }
      ]
    },
    {
      "cell_type": "code",
      "metadata": {
        "colab": {
          "base_uri": "https://localhost:8080/"
        },
        "id": "up0FG7kPMW--",
        "outputId": "b184d90f-1325-4ee4-b7a5-9259e44e70e8"
      },
      "source": [
        "train['credit'].value_counts()"
      ],
      "execution_count": 33,
      "outputs": [
        {
          "output_type": "execute_result",
          "data": {
            "text/plain": [
              "2.0    16968\n",
              "1.0     6267\n",
              "0.0     3222\n",
              "Name: credit, dtype: int64"
            ]
          },
          "metadata": {},
          "execution_count": 33
        }
      ]
    },
    {
      "cell_type": "markdown",
      "metadata": {
        "id": "H0w1bPisOGcn"
      },
      "source": [
        "# 전처리\n",
        "\n",
        "- 일단 occyp_type 이거 어떻게 null 처리 할지 생각\n",
        "- object형 데이터 처리\n",
        "- DAYS_EMPLOYED 음수값 너무 많았던거 처리. 근데 이게 뭔데;; 왜 음수값이 있는건데!!!\n",
        "- index랑 뭔지 모르겠는 FLAG_MOBIL 컬럼 삭제"
      ]
    },
    {
      "cell_type": "code",
      "metadata": {
        "colab": {
          "base_uri": "https://localhost:8080/"
        },
        "id": "xDK6uSnTMkJ1",
        "outputId": "dde1deb5-fd4e-4454-9a0b-28a8fa9ec848"
      },
      "source": [
        "train.info()"
      ],
      "execution_count": 8,
      "outputs": [
        {
          "output_type": "stream",
          "name": "stdout",
          "text": [
            "<class 'pandas.core.frame.DataFrame'>\n",
            "RangeIndex: 26457 entries, 0 to 26456\n",
            "Data columns (total 20 columns):\n",
            " #   Column         Non-Null Count  Dtype  \n",
            "---  ------         --------------  -----  \n",
            " 0   index          26457 non-null  int64  \n",
            " 1   gender         26457 non-null  object \n",
            " 2   car            26457 non-null  object \n",
            " 3   reality        26457 non-null  object \n",
            " 4   child_num      26457 non-null  int64  \n",
            " 5   income_total   26457 non-null  float64\n",
            " 6   income_type    26457 non-null  object \n",
            " 7   edu_type       26457 non-null  object \n",
            " 8   family_type    26457 non-null  object \n",
            " 9   house_type     26457 non-null  object \n",
            " 10  DAYS_BIRTH     26457 non-null  int64  \n",
            " 11  DAYS_EMPLOYED  26457 non-null  int64  \n",
            " 12  FLAG_MOBIL     26457 non-null  int64  \n",
            " 13  work_phone     26457 non-null  int64  \n",
            " 14  phone          26457 non-null  int64  \n",
            " 15  email          26457 non-null  int64  \n",
            " 16  occyp_type     18286 non-null  object \n",
            " 17  family_size    26457 non-null  float64\n",
            " 18  begin_month    26457 non-null  float64\n",
            " 19  credit         26457 non-null  float64\n",
            "dtypes: float64(4), int64(8), object(8)\n",
            "memory usage: 4.0+ MB\n"
          ]
        }
      ]
    },
    {
      "cell_type": "code",
      "metadata": {
        "id": "LYzH8mATOePW"
      },
      "source": [
        "train=train.drop(['index','FLAG_MOBIL'],axis=1)\n"
      ],
      "execution_count": 146,
      "outputs": []
    },
    {
      "cell_type": "code",
      "metadata": {
        "id": "TATRLF7_PHZB"
      },
      "source": [
        "test=test.drop(['index','FLAG_MOBIL'],axis=1)"
      ],
      "execution_count": 147,
      "outputs": []
    },
    {
      "cell_type": "code",
      "metadata": {
        "colab": {
          "base_uri": "https://localhost:8080/"
        },
        "id": "qiUdqTO8Pz72",
        "outputId": "388c9f05-7082-460c-dba6-f23b686080cc"
      },
      "source": [
        "train.columns"
      ],
      "execution_count": 148,
      "outputs": [
        {
          "output_type": "execute_result",
          "data": {
            "text/plain": [
              "Index(['gender', 'car', 'reality', 'child_num', 'income_total', 'income_type',\n",
              "       'edu_type', 'family_type', 'house_type', 'DAYS_BIRTH', 'DAYS_EMPLOYED',\n",
              "       'work_phone', 'phone', 'email', 'occyp_type', 'family_size',\n",
              "       'begin_month', 'credit'],\n",
              "      dtype='object')"
            ]
          },
          "metadata": {},
          "execution_count": 148
        }
      ]
    },
    {
      "cell_type": "code",
      "metadata": {
        "id": "XEJnXSCnPR66"
      },
      "source": [
        "cat=['gender', 'car', 'reality','income_type','edu_type', 'family_type','house_type','occyp_type']"
      ],
      "execution_count": 149,
      "outputs": []
    },
    {
      "cell_type": "code",
      "metadata": {
        "id": "9b2ezkCy7BT4"
      },
      "source": [
        "train['occyp_type']=train['occyp_type'].fillna('NaN')"
      ],
      "execution_count": 150,
      "outputs": []
    },
    {
      "cell_type": "code",
      "metadata": {
        "id": "U2wnBcrY-BF8"
      },
      "source": [
        "test['occyp_type']=test['occyp_type'].fillna('NaN')"
      ],
      "execution_count": 151,
      "outputs": []
    },
    {
      "cell_type": "code",
      "metadata": {
        "id": "yV58HsMN5121"
      },
      "source": [
        "def cat_encoding(array):\n",
        "  for i in array:\n",
        "    train[i]=encoder.fit_transform(train[i])\n",
        "    test[i]=encoder.transform(test[i])"
      ],
      "execution_count": 152,
      "outputs": []
    },
    {
      "cell_type": "code",
      "metadata": {
        "id": "ssvVI80IQUae"
      },
      "source": [
        "from sklearn.preprocessing import LabelEncoder\n",
        "\n",
        "encoder=LabelEncoder()\n",
        "cat_encoding(cat)"
      ],
      "execution_count": 153,
      "outputs": []
    },
    {
      "cell_type": "code",
      "metadata": {
        "colab": {
          "base_uri": "https://localhost:8080/"
        },
        "id": "eHJWPcQg7cVi",
        "outputId": "fd343084-20dc-4508-c391-8b422b48f298"
      },
      "source": [
        "train.info()"
      ],
      "execution_count": 154,
      "outputs": [
        {
          "output_type": "stream",
          "name": "stdout",
          "text": [
            "<class 'pandas.core.frame.DataFrame'>\n",
            "RangeIndex: 26457 entries, 0 to 26456\n",
            "Data columns (total 18 columns):\n",
            " #   Column         Non-Null Count  Dtype  \n",
            "---  ------         --------------  -----  \n",
            " 0   gender         26457 non-null  int64  \n",
            " 1   car            26457 non-null  int64  \n",
            " 2   reality        26457 non-null  int64  \n",
            " 3   child_num      26457 non-null  int64  \n",
            " 4   income_total   26457 non-null  float64\n",
            " 5   income_type    26457 non-null  int64  \n",
            " 6   edu_type       26457 non-null  int64  \n",
            " 7   family_type    26457 non-null  int64  \n",
            " 8   house_type     26457 non-null  int64  \n",
            " 9   DAYS_BIRTH     26457 non-null  int64  \n",
            " 10  DAYS_EMPLOYED  26457 non-null  int64  \n",
            " 11  work_phone     26457 non-null  int64  \n",
            " 12  phone          26457 non-null  int64  \n",
            " 13  email          26457 non-null  int64  \n",
            " 14  occyp_type     26457 non-null  int64  \n",
            " 15  family_size    26457 non-null  float64\n",
            " 16  begin_month    26457 non-null  float64\n",
            " 17  credit         26457 non-null  float64\n",
            "dtypes: float64(4), int64(14)\n",
            "memory usage: 3.6 MB\n"
          ]
        }
      ]
    },
    {
      "cell_type": "code",
      "metadata": {
        "colab": {
          "base_uri": "https://localhost:8080/"
        },
        "id": "LdOAXNAZ7ixu",
        "outputId": "bcdd8336-a8b5-4772-abf6-3e9fea9460a1"
      },
      "source": [
        "test.info()"
      ],
      "execution_count": 155,
      "outputs": [
        {
          "output_type": "stream",
          "name": "stdout",
          "text": [
            "<class 'pandas.core.frame.DataFrame'>\n",
            "RangeIndex: 10000 entries, 0 to 9999\n",
            "Data columns (total 17 columns):\n",
            " #   Column         Non-Null Count  Dtype  \n",
            "---  ------         --------------  -----  \n",
            " 0   gender         10000 non-null  int64  \n",
            " 1   car            10000 non-null  int64  \n",
            " 2   reality        10000 non-null  int64  \n",
            " 3   child_num      10000 non-null  int64  \n",
            " 4   income_total   10000 non-null  float64\n",
            " 5   income_type    10000 non-null  int64  \n",
            " 6   edu_type       10000 non-null  int64  \n",
            " 7   family_type    10000 non-null  int64  \n",
            " 8   house_type     10000 non-null  int64  \n",
            " 9   DAYS_BIRTH     10000 non-null  int64  \n",
            " 10  DAYS_EMPLOYED  10000 non-null  int64  \n",
            " 11  work_phone     10000 non-null  int64  \n",
            " 12  phone          10000 non-null  int64  \n",
            " 13  email          10000 non-null  int64  \n",
            " 14  occyp_type     10000 non-null  int64  \n",
            " 15  family_size    10000 non-null  float64\n",
            " 16  begin_month    10000 non-null  float64\n",
            "dtypes: float64(3), int64(14)\n",
            "memory usage: 1.3 MB\n"
          ]
        }
      ]
    },
    {
      "cell_type": "code",
      "metadata": {
        "colab": {
          "base_uri": "https://localhost:8080/",
          "height": 223
        },
        "id": "M8M9ZYjN7nqd",
        "outputId": "e0f6eac6-a819-4209-d6eb-a7adb6c09464"
      },
      "source": [
        "train.head()"
      ],
      "execution_count": 130,
      "outputs": [
        {
          "output_type": "execute_result",
          "data": {
            "text/html": [
              "<div>\n",
              "<style scoped>\n",
              "    .dataframe tbody tr th:only-of-type {\n",
              "        vertical-align: middle;\n",
              "    }\n",
              "\n",
              "    .dataframe tbody tr th {\n",
              "        vertical-align: top;\n",
              "    }\n",
              "\n",
              "    .dataframe thead th {\n",
              "        text-align: right;\n",
              "    }\n",
              "</style>\n",
              "<table border=\"1\" class=\"dataframe\">\n",
              "  <thead>\n",
              "    <tr style=\"text-align: right;\">\n",
              "      <th></th>\n",
              "      <th>gender</th>\n",
              "      <th>car</th>\n",
              "      <th>reality</th>\n",
              "      <th>child_num</th>\n",
              "      <th>income_total</th>\n",
              "      <th>income_type</th>\n",
              "      <th>edu_type</th>\n",
              "      <th>family_type</th>\n",
              "      <th>house_type</th>\n",
              "      <th>DAYS_BIRTH</th>\n",
              "      <th>DAYS_EMPLOYED</th>\n",
              "      <th>work_phone</th>\n",
              "      <th>phone</th>\n",
              "      <th>email</th>\n",
              "      <th>occyp_type</th>\n",
              "      <th>family_size</th>\n",
              "      <th>begin_month</th>\n",
              "      <th>credit</th>\n",
              "    </tr>\n",
              "  </thead>\n",
              "  <tbody>\n",
              "    <tr>\n",
              "      <th>0</th>\n",
              "      <td>0</td>\n",
              "      <td>0</td>\n",
              "      <td>0</td>\n",
              "      <td>0</td>\n",
              "      <td>202500.0</td>\n",
              "      <td>0</td>\n",
              "      <td>1</td>\n",
              "      <td>1</td>\n",
              "      <td>2</td>\n",
              "      <td>-13899</td>\n",
              "      <td>-4709</td>\n",
              "      <td>0</td>\n",
              "      <td>0</td>\n",
              "      <td>0</td>\n",
              "      <td>12</td>\n",
              "      <td>2.0</td>\n",
              "      <td>-6.0</td>\n",
              "      <td>1.0</td>\n",
              "    </tr>\n",
              "    <tr>\n",
              "      <th>1</th>\n",
              "      <td>0</td>\n",
              "      <td>0</td>\n",
              "      <td>1</td>\n",
              "      <td>1</td>\n",
              "      <td>247500.0</td>\n",
              "      <td>0</td>\n",
              "      <td>4</td>\n",
              "      <td>0</td>\n",
              "      <td>1</td>\n",
              "      <td>-11380</td>\n",
              "      <td>-1540</td>\n",
              "      <td>0</td>\n",
              "      <td>0</td>\n",
              "      <td>1</td>\n",
              "      <td>8</td>\n",
              "      <td>3.0</td>\n",
              "      <td>-5.0</td>\n",
              "      <td>1.0</td>\n",
              "    </tr>\n",
              "    <tr>\n",
              "      <th>2</th>\n",
              "      <td>1</td>\n",
              "      <td>1</td>\n",
              "      <td>1</td>\n",
              "      <td>0</td>\n",
              "      <td>450000.0</td>\n",
              "      <td>4</td>\n",
              "      <td>1</td>\n",
              "      <td>1</td>\n",
              "      <td>1</td>\n",
              "      <td>-19087</td>\n",
              "      <td>-4434</td>\n",
              "      <td>0</td>\n",
              "      <td>1</td>\n",
              "      <td>0</td>\n",
              "      <td>10</td>\n",
              "      <td>2.0</td>\n",
              "      <td>-22.0</td>\n",
              "      <td>2.0</td>\n",
              "    </tr>\n",
              "    <tr>\n",
              "      <th>3</th>\n",
              "      <td>0</td>\n",
              "      <td>0</td>\n",
              "      <td>1</td>\n",
              "      <td>0</td>\n",
              "      <td>202500.0</td>\n",
              "      <td>0</td>\n",
              "      <td>4</td>\n",
              "      <td>1</td>\n",
              "      <td>1</td>\n",
              "      <td>-15088</td>\n",
              "      <td>-2092</td>\n",
              "      <td>0</td>\n",
              "      <td>1</td>\n",
              "      <td>0</td>\n",
              "      <td>15</td>\n",
              "      <td>2.0</td>\n",
              "      <td>-37.0</td>\n",
              "      <td>0.0</td>\n",
              "    </tr>\n",
              "    <tr>\n",
              "      <th>4</th>\n",
              "      <td>0</td>\n",
              "      <td>1</td>\n",
              "      <td>1</td>\n",
              "      <td>0</td>\n",
              "      <td>157500.0</td>\n",
              "      <td>2</td>\n",
              "      <td>1</td>\n",
              "      <td>1</td>\n",
              "      <td>1</td>\n",
              "      <td>-15037</td>\n",
              "      <td>-2105</td>\n",
              "      <td>0</td>\n",
              "      <td>0</td>\n",
              "      <td>0</td>\n",
              "      <td>10</td>\n",
              "      <td>2.0</td>\n",
              "      <td>-26.0</td>\n",
              "      <td>2.0</td>\n",
              "    </tr>\n",
              "  </tbody>\n",
              "</table>\n",
              "</div>"
            ],
            "text/plain": [
              "   gender  car  reality  ...  family_size  begin_month  credit\n",
              "0       0    0        0  ...          2.0         -6.0     1.0\n",
              "1       0    0        1  ...          3.0         -5.0     1.0\n",
              "2       1    1        1  ...          2.0        -22.0     2.0\n",
              "3       0    0        1  ...          2.0        -37.0     0.0\n",
              "4       0    1        1  ...          2.0        -26.0     2.0\n",
              "\n",
              "[5 rows x 18 columns]"
            ]
          },
          "metadata": {},
          "execution_count": 130
        }
      ]
    },
    {
      "cell_type": "code",
      "metadata": {
        "colab": {
          "base_uri": "https://localhost:8080/",
          "height": 223
        },
        "id": "doYLNnQeAb67",
        "outputId": "bd7a754b-0902-4dd5-947c-7d040e322121"
      },
      "source": [
        "test.head()"
      ],
      "execution_count": 101,
      "outputs": [
        {
          "output_type": "execute_result",
          "data": {
            "text/html": [
              "<div>\n",
              "<style scoped>\n",
              "    .dataframe tbody tr th:only-of-type {\n",
              "        vertical-align: middle;\n",
              "    }\n",
              "\n",
              "    .dataframe tbody tr th {\n",
              "        vertical-align: top;\n",
              "    }\n",
              "\n",
              "    .dataframe thead th {\n",
              "        text-align: right;\n",
              "    }\n",
              "</style>\n",
              "<table border=\"1\" class=\"dataframe\">\n",
              "  <thead>\n",
              "    <tr style=\"text-align: right;\">\n",
              "      <th></th>\n",
              "      <th>gender</th>\n",
              "      <th>car</th>\n",
              "      <th>reality</th>\n",
              "      <th>child_num</th>\n",
              "      <th>income_total</th>\n",
              "      <th>income_type</th>\n",
              "      <th>edu_type</th>\n",
              "      <th>family_type</th>\n",
              "      <th>house_type</th>\n",
              "      <th>DAYS_BIRTH</th>\n",
              "      <th>DAYS_EMPLOYED</th>\n",
              "      <th>work_phone</th>\n",
              "      <th>phone</th>\n",
              "      <th>email</th>\n",
              "      <th>occyp_type</th>\n",
              "      <th>family_size</th>\n",
              "      <th>begin_month</th>\n",
              "    </tr>\n",
              "  </thead>\n",
              "  <tbody>\n",
              "    <tr>\n",
              "      <th>0</th>\n",
              "      <td>1</td>\n",
              "      <td>1</td>\n",
              "      <td>0</td>\n",
              "      <td>0</td>\n",
              "      <td>112500.0</td>\n",
              "      <td>1</td>\n",
              "      <td>4</td>\n",
              "      <td>0</td>\n",
              "      <td>1</td>\n",
              "      <td>-21990</td>\n",
              "      <td>365243</td>\n",
              "      <td>0</td>\n",
              "      <td>1</td>\n",
              "      <td>0</td>\n",
              "      <td>12</td>\n",
              "      <td>2.0</td>\n",
              "      <td>-60.0</td>\n",
              "    </tr>\n",
              "    <tr>\n",
              "      <th>1</th>\n",
              "      <td>0</td>\n",
              "      <td>0</td>\n",
              "      <td>1</td>\n",
              "      <td>0</td>\n",
              "      <td>135000.0</td>\n",
              "      <td>2</td>\n",
              "      <td>1</td>\n",
              "      <td>1</td>\n",
              "      <td>1</td>\n",
              "      <td>-18964</td>\n",
              "      <td>-8671</td>\n",
              "      <td>0</td>\n",
              "      <td>1</td>\n",
              "      <td>0</td>\n",
              "      <td>3</td>\n",
              "      <td>2.0</td>\n",
              "      <td>-36.0</td>\n",
              "    </tr>\n",
              "    <tr>\n",
              "      <th>2</th>\n",
              "      <td>0</td>\n",
              "      <td>0</td>\n",
              "      <td>1</td>\n",
              "      <td>0</td>\n",
              "      <td>69372.0</td>\n",
              "      <td>4</td>\n",
              "      <td>4</td>\n",
              "      <td>1</td>\n",
              "      <td>1</td>\n",
              "      <td>-15887</td>\n",
              "      <td>-217</td>\n",
              "      <td>1</td>\n",
              "      <td>1</td>\n",
              "      <td>0</td>\n",
              "      <td>8</td>\n",
              "      <td>2.0</td>\n",
              "      <td>-40.0</td>\n",
              "    </tr>\n",
              "    <tr>\n",
              "      <th>3</th>\n",
              "      <td>1</td>\n",
              "      <td>1</td>\n",
              "      <td>0</td>\n",
              "      <td>0</td>\n",
              "      <td>112500.0</td>\n",
              "      <td>0</td>\n",
              "      <td>4</td>\n",
              "      <td>1</td>\n",
              "      <td>1</td>\n",
              "      <td>-19270</td>\n",
              "      <td>-2531</td>\n",
              "      <td>1</td>\n",
              "      <td>0</td>\n",
              "      <td>0</td>\n",
              "      <td>4</td>\n",
              "      <td>2.0</td>\n",
              "      <td>-41.0</td>\n",
              "    </tr>\n",
              "    <tr>\n",
              "      <th>4</th>\n",
              "      <td>0</td>\n",
              "      <td>1</td>\n",
              "      <td>1</td>\n",
              "      <td>0</td>\n",
              "      <td>225000.0</td>\n",
              "      <td>2</td>\n",
              "      <td>1</td>\n",
              "      <td>1</td>\n",
              "      <td>1</td>\n",
              "      <td>-17822</td>\n",
              "      <td>-9385</td>\n",
              "      <td>1</td>\n",
              "      <td>0</td>\n",
              "      <td>0</td>\n",
              "      <td>10</td>\n",
              "      <td>2.0</td>\n",
              "      <td>-8.0</td>\n",
              "    </tr>\n",
              "  </tbody>\n",
              "</table>\n",
              "</div>"
            ],
            "text/plain": [
              "   gender  car  reality  child_num  ...  email  occyp_type  family_size  begin_month\n",
              "0       1    1        0          0  ...      0          12          2.0        -60.0\n",
              "1       0    0        1          0  ...      0           3          2.0        -36.0\n",
              "2       0    0        1          0  ...      0           8          2.0        -40.0\n",
              "3       1    1        0          0  ...      0           4          2.0        -41.0\n",
              "4       0    1        1          0  ...      0          10          2.0         -8.0\n",
              "\n",
              "[5 rows x 17 columns]"
            ]
          },
          "metadata": {},
          "execution_count": 101
        }
      ]
    },
    {
      "cell_type": "code",
      "metadata": {
        "id": "XhX22Mey-p7V"
      },
      "source": [
        "train['family_size']=train['family_size'].astype('int')"
      ],
      "execution_count": 156,
      "outputs": []
    },
    {
      "cell_type": "code",
      "metadata": {
        "id": "lVvz50Ks-_lE"
      },
      "source": [
        "test['family_size']=test['family_size'].astype('int')"
      ],
      "execution_count": 157,
      "outputs": []
    },
    {
      "cell_type": "markdown",
      "metadata": {
        "id": "mfwcWRls_rvP"
      },
      "source": [
        "# StandardScaler 적용"
      ]
    },
    {
      "cell_type": "code",
      "metadata": {
        "id": "wJqIVPWS_sPR"
      },
      "source": [
        "scaler=StandardScaler()\n",
        "train_drop_credit=train.drop(['credit'],axis=1)\n",
        "train_scaled=scaler.fit_transform(train_drop_credit)\n",
        "test_scaled=scaler.fit_transform(test)"
      ],
      "execution_count": 158,
      "outputs": []
    },
    {
      "cell_type": "code",
      "metadata": {
        "colab": {
          "base_uri": "https://localhost:8080/",
          "height": 437
        },
        "id": "8CKxGC3WA8HF",
        "outputId": "8eb3c66a-1799-4427-b070-dce5b0954ab4"
      },
      "source": [
        "train_df_scaled=pd.DataFrame(data=train_scaled,columns=train_drop_credit.columns)\n",
        "train_df_scaled"
      ],
      "execution_count": 159,
      "outputs": [
        {
          "output_type": "execute_result",
          "data": {
            "text/html": [
              "<div>\n",
              "<style scoped>\n",
              "    .dataframe tbody tr th:only-of-type {\n",
              "        vertical-align: middle;\n",
              "    }\n",
              "\n",
              "    .dataframe tbody tr th {\n",
              "        vertical-align: top;\n",
              "    }\n",
              "\n",
              "    .dataframe thead th {\n",
              "        text-align: right;\n",
              "    }\n",
              "</style>\n",
              "<table border=\"1\" class=\"dataframe\">\n",
              "  <thead>\n",
              "    <tr style=\"text-align: right;\">\n",
              "      <th></th>\n",
              "      <th>gender</th>\n",
              "      <th>car</th>\n",
              "      <th>reality</th>\n",
              "      <th>child_num</th>\n",
              "      <th>income_total</th>\n",
              "      <th>income_type</th>\n",
              "      <th>edu_type</th>\n",
              "      <th>family_type</th>\n",
              "      <th>house_type</th>\n",
              "      <th>DAYS_BIRTH</th>\n",
              "      <th>DAYS_EMPLOYED</th>\n",
              "      <th>work_phone</th>\n",
              "      <th>phone</th>\n",
              "      <th>email</th>\n",
              "      <th>occyp_type</th>\n",
              "      <th>family_size</th>\n",
              "      <th>begin_month</th>\n",
              "    </tr>\n",
              "  </thead>\n",
              "  <tbody>\n",
              "    <tr>\n",
              "      <th>0</th>\n",
              "      <td>-0.703562</td>\n",
              "      <td>-0.782463</td>\n",
              "      <td>-1.437626</td>\n",
              "      <td>-0.573599</td>\n",
              "      <td>0.149136</td>\n",
              "      <td>-1.379572</td>\n",
              "      <td>-1.563528</td>\n",
              "      <td>-0.385583</td>\n",
              "      <td>0.762704</td>\n",
              "      <td>0.490075</td>\n",
              "      <td>-0.463930</td>\n",
              "      <td>-0.538417</td>\n",
              "      <td>-0.645705</td>\n",
              "      <td>-0.316937</td>\n",
              "      <td>0.664329</td>\n",
              "      <td>-0.214735</td>\n",
              "      <td>1.215231</td>\n",
              "    </tr>\n",
              "    <tr>\n",
              "      <th>1</th>\n",
              "      <td>-0.703562</td>\n",
              "      <td>-0.782463</td>\n",
              "      <td>0.695591</td>\n",
              "      <td>0.764529</td>\n",
              "      <td>0.590848</td>\n",
              "      <td>-1.379572</td>\n",
              "      <td>0.672647</td>\n",
              "      <td>-1.435432</td>\n",
              "      <td>-0.296331</td>\n",
              "      <td>1.089621</td>\n",
              "      <td>-0.440878</td>\n",
              "      <td>-0.538417</td>\n",
              "      <td>-0.645705</td>\n",
              "      <td>3.155199</td>\n",
              "      <td>-0.266747</td>\n",
              "      <td>0.876135</td>\n",
              "      <td>1.275620</td>\n",
              "    </tr>\n",
              "    <tr>\n",
              "      <th>2</th>\n",
              "      <td>1.421339</td>\n",
              "      <td>1.278015</td>\n",
              "      <td>0.695591</td>\n",
              "      <td>-0.573599</td>\n",
              "      <td>2.578550</td>\n",
              "      <td>0.924752</td>\n",
              "      <td>-1.563528</td>\n",
              "      <td>-0.385583</td>\n",
              "      <td>-0.296331</td>\n",
              "      <td>-0.744719</td>\n",
              "      <td>-0.461929</td>\n",
              "      <td>-0.538417</td>\n",
              "      <td>1.548696</td>\n",
              "      <td>-0.316937</td>\n",
              "      <td>0.198791</td>\n",
              "      <td>-0.214735</td>\n",
              "      <td>0.249003</td>\n",
              "    </tr>\n",
              "    <tr>\n",
              "      <th>3</th>\n",
              "      <td>-0.703562</td>\n",
              "      <td>-0.782463</td>\n",
              "      <td>0.695591</td>\n",
              "      <td>-0.573599</td>\n",
              "      <td>0.149136</td>\n",
              "      <td>-1.379572</td>\n",
              "      <td>0.672647</td>\n",
              "      <td>-0.385583</td>\n",
              "      <td>-0.296331</td>\n",
              "      <td>0.207081</td>\n",
              "      <td>-0.444893</td>\n",
              "      <td>-0.538417</td>\n",
              "      <td>1.548696</td>\n",
              "      <td>-0.316937</td>\n",
              "      <td>1.362636</td>\n",
              "      <td>-0.214735</td>\n",
              "      <td>-0.656836</td>\n",
              "    </tr>\n",
              "    <tr>\n",
              "      <th>4</th>\n",
              "      <td>-0.703562</td>\n",
              "      <td>1.278015</td>\n",
              "      <td>0.695591</td>\n",
              "      <td>-0.573599</td>\n",
              "      <td>-0.292575</td>\n",
              "      <td>-0.227410</td>\n",
              "      <td>-1.563528</td>\n",
              "      <td>-0.385583</td>\n",
              "      <td>-0.296331</td>\n",
              "      <td>0.219220</td>\n",
              "      <td>-0.444988</td>\n",
              "      <td>-0.538417</td>\n",
              "      <td>-0.645705</td>\n",
              "      <td>-0.316937</td>\n",
              "      <td>0.198791</td>\n",
              "      <td>-0.214735</td>\n",
              "      <td>0.007446</td>\n",
              "    </tr>\n",
              "    <tr>\n",
              "      <th>...</th>\n",
              "      <td>...</td>\n",
              "      <td>...</td>\n",
              "      <td>...</td>\n",
              "      <td>...</td>\n",
              "      <td>...</td>\n",
              "      <td>...</td>\n",
              "      <td>...</td>\n",
              "      <td>...</td>\n",
              "      <td>...</td>\n",
              "      <td>...</td>\n",
              "      <td>...</td>\n",
              "      <td>...</td>\n",
              "      <td>...</td>\n",
              "      <td>...</td>\n",
              "      <td>...</td>\n",
              "      <td>...</td>\n",
              "      <td>...</td>\n",
              "    </tr>\n",
              "    <tr>\n",
              "      <th>26452</th>\n",
              "      <td>-0.703562</td>\n",
              "      <td>-0.782463</td>\n",
              "      <td>-1.437626</td>\n",
              "      <td>2.102658</td>\n",
              "      <td>0.369992</td>\n",
              "      <td>-0.227410</td>\n",
              "      <td>0.672647</td>\n",
              "      <td>-0.385583</td>\n",
              "      <td>-0.296331</td>\n",
              "      <td>0.923252</td>\n",
              "      <td>-0.444108</td>\n",
              "      <td>-0.538417</td>\n",
              "      <td>-0.645705</td>\n",
              "      <td>-0.316937</td>\n",
              "      <td>-1.430592</td>\n",
              "      <td>1.967005</td>\n",
              "      <td>1.456788</td>\n",
              "    </tr>\n",
              "    <tr>\n",
              "      <th>26453</th>\n",
              "      <td>-0.703562</td>\n",
              "      <td>-0.782463</td>\n",
              "      <td>0.695591</td>\n",
              "      <td>0.764529</td>\n",
              "      <td>-0.071719</td>\n",
              "      <td>0.924752</td>\n",
              "      <td>-1.563528</td>\n",
              "      <td>0.664265</td>\n",
              "      <td>-0.296331</td>\n",
              "      <td>0.158765</td>\n",
              "      <td>-0.447679</td>\n",
              "      <td>-0.538417</td>\n",
              "      <td>-0.645705</td>\n",
              "      <td>-0.316937</td>\n",
              "      <td>0.664329</td>\n",
              "      <td>-0.214735</td>\n",
              "      <td>-1.260729</td>\n",
              "    </tr>\n",
              "    <tr>\n",
              "      <th>26454</th>\n",
              "      <td>-0.703562</td>\n",
              "      <td>1.278015</td>\n",
              "      <td>-1.437626</td>\n",
              "      <td>-0.573599</td>\n",
              "      <td>1.032559</td>\n",
              "      <td>0.924752</td>\n",
              "      <td>0.672647</td>\n",
              "      <td>-1.435432</td>\n",
              "      <td>3.939810</td>\n",
              "      <td>1.398558</td>\n",
              "      <td>-0.444333</td>\n",
              "      <td>-0.538417</td>\n",
              "      <td>-0.645705</td>\n",
              "      <td>-0.316937</td>\n",
              "      <td>-1.430592</td>\n",
              "      <td>-0.214735</td>\n",
              "      <td>0.067835</td>\n",
              "    </tr>\n",
              "    <tr>\n",
              "      <th>26455</th>\n",
              "      <td>1.421339</td>\n",
              "      <td>-0.782463</td>\n",
              "      <td>0.695591</td>\n",
              "      <td>-0.573599</td>\n",
              "      <td>-0.160062</td>\n",
              "      <td>0.924752</td>\n",
              "      <td>-0.818136</td>\n",
              "      <td>1.714114</td>\n",
              "      <td>-0.296331</td>\n",
              "      <td>1.383563</td>\n",
              "      <td>-0.430454</td>\n",
              "      <td>-0.538417</td>\n",
              "      <td>-0.645705</td>\n",
              "      <td>-0.316937</td>\n",
              "      <td>-0.266747</td>\n",
              "      <td>-1.305605</td>\n",
              "      <td>-1.985400</td>\n",
              "    </tr>\n",
              "    <tr>\n",
              "      <th>26456</th>\n",
              "      <td>-0.703562</td>\n",
              "      <td>-0.782463</td>\n",
              "      <td>-1.437626</td>\n",
              "      <td>-0.573599</td>\n",
              "      <td>-1.043485</td>\n",
              "      <td>0.924752</td>\n",
              "      <td>0.672647</td>\n",
              "      <td>-1.435432</td>\n",
              "      <td>-0.296331</td>\n",
              "      <td>-0.859440</td>\n",
              "      <td>-0.437045</td>\n",
              "      <td>-0.538417</td>\n",
              "      <td>-0.645705</td>\n",
              "      <td>-0.316937</td>\n",
              "      <td>1.828174</td>\n",
              "      <td>-0.214735</td>\n",
              "      <td>1.034063</td>\n",
              "    </tr>\n",
              "  </tbody>\n",
              "</table>\n",
              "<p>26457 rows × 17 columns</p>\n",
              "</div>"
            ],
            "text/plain": [
              "         gender       car   reality  ...  occyp_type  family_size  begin_month\n",
              "0     -0.703562 -0.782463 -1.437626  ...    0.664329    -0.214735     1.215231\n",
              "1     -0.703562 -0.782463  0.695591  ...   -0.266747     0.876135     1.275620\n",
              "2      1.421339  1.278015  0.695591  ...    0.198791    -0.214735     0.249003\n",
              "3     -0.703562 -0.782463  0.695591  ...    1.362636    -0.214735    -0.656836\n",
              "4     -0.703562  1.278015  0.695591  ...    0.198791    -0.214735     0.007446\n",
              "...         ...       ...       ...  ...         ...          ...          ...\n",
              "26452 -0.703562 -0.782463 -1.437626  ...   -1.430592     1.967005     1.456788\n",
              "26453 -0.703562 -0.782463  0.695591  ...    0.664329    -0.214735    -1.260729\n",
              "26454 -0.703562  1.278015 -1.437626  ...   -1.430592    -0.214735     0.067835\n",
              "26455  1.421339 -0.782463  0.695591  ...   -0.266747    -1.305605    -1.985400\n",
              "26456 -0.703562 -0.782463 -1.437626  ...    1.828174    -0.214735     1.034063\n",
              "\n",
              "[26457 rows x 17 columns]"
            ]
          },
          "metadata": {},
          "execution_count": 159
        }
      ]
    },
    {
      "cell_type": "code",
      "metadata": {
        "colab": {
          "base_uri": "https://localhost:8080/",
          "height": 437
        },
        "id": "d3Km3--EBSwe",
        "outputId": "c78e9571-5cd6-4086-cdec-6071bb22e068"
      },
      "source": [
        "test_df_scaled=pd.DataFrame(data=test_scaled,columns=test.columns)\n",
        "test_df_scaled"
      ],
      "execution_count": 160,
      "outputs": [
        {
          "output_type": "execute_result",
          "data": {
            "text/html": [
              "<div>\n",
              "<style scoped>\n",
              "    .dataframe tbody tr th:only-of-type {\n",
              "        vertical-align: middle;\n",
              "    }\n",
              "\n",
              "    .dataframe tbody tr th {\n",
              "        vertical-align: top;\n",
              "    }\n",
              "\n",
              "    .dataframe thead th {\n",
              "        text-align: right;\n",
              "    }\n",
              "</style>\n",
              "<table border=\"1\" class=\"dataframe\">\n",
              "  <thead>\n",
              "    <tr style=\"text-align: right;\">\n",
              "      <th></th>\n",
              "      <th>gender</th>\n",
              "      <th>car</th>\n",
              "      <th>reality</th>\n",
              "      <th>child_num</th>\n",
              "      <th>income_total</th>\n",
              "      <th>income_type</th>\n",
              "      <th>edu_type</th>\n",
              "      <th>family_type</th>\n",
              "      <th>house_type</th>\n",
              "      <th>DAYS_BIRTH</th>\n",
              "      <th>DAYS_EMPLOYED</th>\n",
              "      <th>work_phone</th>\n",
              "      <th>phone</th>\n",
              "      <th>email</th>\n",
              "      <th>occyp_type</th>\n",
              "      <th>family_size</th>\n",
              "      <th>begin_month</th>\n",
              "    </tr>\n",
              "  </thead>\n",
              "  <tbody>\n",
              "    <tr>\n",
              "      <th>0</th>\n",
              "      <td>1.435588</td>\n",
              "      <td>1.278418</td>\n",
              "      <td>-1.417189</td>\n",
              "      <td>-0.596243</td>\n",
              "      <td>-0.714468</td>\n",
              "      <td>-0.813916</td>\n",
              "      <td>0.674315</td>\n",
              "      <td>-1.426741</td>\n",
              "      <td>-0.29971</td>\n",
              "      <td>-1.422177</td>\n",
              "      <td>2.211692</td>\n",
              "      <td>-0.542831</td>\n",
              "      <td>1.541090</td>\n",
              "      <td>-0.305963</td>\n",
              "      <td>0.645340</td>\n",
              "      <td>-0.225667</td>\n",
              "      <td>-2.063135</td>\n",
              "    </tr>\n",
              "    <tr>\n",
              "      <th>1</th>\n",
              "      <td>-0.696579</td>\n",
              "      <td>-0.782217</td>\n",
              "      <td>0.705622</td>\n",
              "      <td>-0.596243</td>\n",
              "      <td>-0.492869</td>\n",
              "      <td>-0.235563</td>\n",
              "      <td>-1.563703</td>\n",
              "      <td>-0.384944</td>\n",
              "      <td>-0.29971</td>\n",
              "      <td>-0.701265</td>\n",
              "      <td>-0.495587</td>\n",
              "      <td>-0.542831</td>\n",
              "      <td>1.541090</td>\n",
              "      <td>-0.305963</td>\n",
              "      <td>-1.455604</td>\n",
              "      <td>-0.225667</td>\n",
              "      <td>-0.595043</td>\n",
              "    </tr>\n",
              "    <tr>\n",
              "      <th>2</th>\n",
              "      <td>-0.696579</td>\n",
              "      <td>-0.782217</td>\n",
              "      <td>0.705622</td>\n",
              "      <td>-0.596243</td>\n",
              "      <td>-1.139229</td>\n",
              "      <td>0.921143</td>\n",
              "      <td>0.674315</td>\n",
              "      <td>-0.384944</td>\n",
              "      <td>-0.29971</td>\n",
              "      <td>0.031797</td>\n",
              "      <td>-0.434377</td>\n",
              "      <td>1.842192</td>\n",
              "      <td>1.541090</td>\n",
              "      <td>-0.305963</td>\n",
              "      <td>-0.288413</td>\n",
              "      <td>-0.225667</td>\n",
              "      <td>-0.839725</td>\n",
              "    </tr>\n",
              "    <tr>\n",
              "      <th>3</th>\n",
              "      <td>1.435588</td>\n",
              "      <td>1.278418</td>\n",
              "      <td>-1.417189</td>\n",
              "      <td>-0.596243</td>\n",
              "      <td>-0.714468</td>\n",
              "      <td>-1.392269</td>\n",
              "      <td>0.674315</td>\n",
              "      <td>-0.384944</td>\n",
              "      <td>-0.29971</td>\n",
              "      <td>-0.774166</td>\n",
              "      <td>-0.451131</td>\n",
              "      <td>1.842192</td>\n",
              "      <td>-0.648891</td>\n",
              "      <td>-0.305963</td>\n",
              "      <td>-1.222166</td>\n",
              "      <td>-0.225667</td>\n",
              "      <td>-0.900895</td>\n",
              "    </tr>\n",
              "    <tr>\n",
              "      <th>4</th>\n",
              "      <td>-0.696579</td>\n",
              "      <td>1.278418</td>\n",
              "      <td>0.705622</td>\n",
              "      <td>-0.596243</td>\n",
              "      <td>0.393527</td>\n",
              "      <td>-0.235563</td>\n",
              "      <td>-1.563703</td>\n",
              "      <td>-0.384944</td>\n",
              "      <td>-0.29971</td>\n",
              "      <td>-0.429196</td>\n",
              "      <td>-0.500757</td>\n",
              "      <td>1.842192</td>\n",
              "      <td>-0.648891</td>\n",
              "      <td>-0.305963</td>\n",
              "      <td>0.178464</td>\n",
              "      <td>-0.225667</td>\n",
              "      <td>1.117732</td>\n",
              "    </tr>\n",
              "    <tr>\n",
              "      <th>...</th>\n",
              "      <td>...</td>\n",
              "      <td>...</td>\n",
              "      <td>...</td>\n",
              "      <td>...</td>\n",
              "      <td>...</td>\n",
              "      <td>...</td>\n",
              "      <td>...</td>\n",
              "      <td>...</td>\n",
              "      <td>...</td>\n",
              "      <td>...</td>\n",
              "      <td>...</td>\n",
              "      <td>...</td>\n",
              "      <td>...</td>\n",
              "      <td>...</td>\n",
              "      <td>...</td>\n",
              "      <td>...</td>\n",
              "      <td>...</td>\n",
              "    </tr>\n",
              "    <tr>\n",
              "      <th>9995</th>\n",
              "      <td>-0.696579</td>\n",
              "      <td>1.278418</td>\n",
              "      <td>0.705622</td>\n",
              "      <td>-0.596243</td>\n",
              "      <td>0.171928</td>\n",
              "      <td>0.921143</td>\n",
              "      <td>-0.817697</td>\n",
              "      <td>-0.384944</td>\n",
              "      <td>-0.29971</td>\n",
              "      <td>-0.612878</td>\n",
              "      <td>-0.472150</td>\n",
              "      <td>1.842192</td>\n",
              "      <td>1.541090</td>\n",
              "      <td>-0.305963</td>\n",
              "      <td>-2.155919</td>\n",
              "      <td>-0.225667</td>\n",
              "      <td>0.444857</td>\n",
              "    </tr>\n",
              "    <tr>\n",
              "      <th>9996</th>\n",
              "      <td>1.435588</td>\n",
              "      <td>1.278418</td>\n",
              "      <td>0.705622</td>\n",
              "      <td>-0.596243</td>\n",
              "      <td>0.171928</td>\n",
              "      <td>0.921143</td>\n",
              "      <td>0.674315</td>\n",
              "      <td>-1.426741</td>\n",
              "      <td>-0.29971</td>\n",
              "      <td>1.223231</td>\n",
              "      <td>-0.442327</td>\n",
              "      <td>1.842192</td>\n",
              "      <td>-0.648891</td>\n",
              "      <td>-0.305963</td>\n",
              "      <td>-0.288413</td>\n",
              "      <td>-0.225667</td>\n",
              "      <td>-0.472701</td>\n",
              "    </tr>\n",
              "    <tr>\n",
              "      <th>9997</th>\n",
              "      <td>-0.696579</td>\n",
              "      <td>-0.782217</td>\n",
              "      <td>0.705622</td>\n",
              "      <td>-0.596243</td>\n",
              "      <td>1.058325</td>\n",
              "      <td>0.921143</td>\n",
              "      <td>0.674315</td>\n",
              "      <td>-0.384944</td>\n",
              "      <td>-0.29971</td>\n",
              "      <td>-1.190132</td>\n",
              "      <td>-0.534302</td>\n",
              "      <td>-0.542831</td>\n",
              "      <td>-0.648891</td>\n",
              "      <td>-0.305963</td>\n",
              "      <td>0.411902</td>\n",
              "      <td>-0.225667</td>\n",
              "      <td>-1.757283</td>\n",
              "    </tr>\n",
              "    <tr>\n",
              "      <th>9998</th>\n",
              "      <td>-0.696579</td>\n",
              "      <td>1.278418</td>\n",
              "      <td>-1.417189</td>\n",
              "      <td>-0.596243</td>\n",
              "      <td>-0.049671</td>\n",
              "      <td>-1.392269</td>\n",
              "      <td>0.674315</td>\n",
              "      <td>-0.384944</td>\n",
              "      <td>-0.29971</td>\n",
              "      <td>-0.124011</td>\n",
              "      <td>-0.440662</td>\n",
              "      <td>-0.542831</td>\n",
              "      <td>1.541090</td>\n",
              "      <td>-0.305963</td>\n",
              "      <td>0.645340</td>\n",
              "      <td>-0.225667</td>\n",
              "      <td>-0.411531</td>\n",
              "    </tr>\n",
              "    <tr>\n",
              "      <th>9999</th>\n",
              "      <td>-0.696579</td>\n",
              "      <td>-0.782217</td>\n",
              "      <td>0.705622</td>\n",
              "      <td>-0.596243</td>\n",
              "      <td>0.836725</td>\n",
              "      <td>0.921143</td>\n",
              "      <td>-1.563703</td>\n",
              "      <td>-0.384944</td>\n",
              "      <td>-0.29971</td>\n",
              "      <td>1.635861</td>\n",
              "      <td>-0.434160</td>\n",
              "      <td>-0.542831</td>\n",
              "      <td>-0.648891</td>\n",
              "      <td>3.268370</td>\n",
              "      <td>-0.288413</td>\n",
              "      <td>-0.225667</td>\n",
              "      <td>0.934221</td>\n",
              "    </tr>\n",
              "  </tbody>\n",
              "</table>\n",
              "<p>10000 rows × 17 columns</p>\n",
              "</div>"
            ],
            "text/plain": [
              "        gender       car   reality  ...  occyp_type  family_size  begin_month\n",
              "0     1.435588  1.278418 -1.417189  ...    0.645340    -0.225667    -2.063135\n",
              "1    -0.696579 -0.782217  0.705622  ...   -1.455604    -0.225667    -0.595043\n",
              "2    -0.696579 -0.782217  0.705622  ...   -0.288413    -0.225667    -0.839725\n",
              "3     1.435588  1.278418 -1.417189  ...   -1.222166    -0.225667    -0.900895\n",
              "4    -0.696579  1.278418  0.705622  ...    0.178464    -0.225667     1.117732\n",
              "...        ...       ...       ...  ...         ...          ...          ...\n",
              "9995 -0.696579  1.278418  0.705622  ...   -2.155919    -0.225667     0.444857\n",
              "9996  1.435588  1.278418  0.705622  ...   -0.288413    -0.225667    -0.472701\n",
              "9997 -0.696579 -0.782217  0.705622  ...    0.411902    -0.225667    -1.757283\n",
              "9998 -0.696579  1.278418 -1.417189  ...    0.645340    -0.225667    -0.411531\n",
              "9999 -0.696579 -0.782217  0.705622  ...   -0.288413    -0.225667     0.934221\n",
              "\n",
              "[10000 rows x 17 columns]"
            ]
          },
          "metadata": {},
          "execution_count": 160
        }
      ]
    },
    {
      "cell_type": "markdown",
      "metadata": {
        "id": "izQtASzwCTld"
      },
      "source": [
        "# 모델 학습, 예측"
      ]
    },
    {
      "cell_type": "code",
      "metadata": {
        "colab": {
          "base_uri": "https://localhost:8080/"
        },
        "id": "Qbv-7uYgEiXR",
        "outputId": "5f454149-5f96-4fc3-f95e-2aa531cb6af9"
      },
      "source": [
        "train.columns"
      ],
      "execution_count": 161,
      "outputs": [
        {
          "output_type": "execute_result",
          "data": {
            "text/plain": [
              "Index(['gender', 'car', 'reality', 'child_num', 'income_total', 'income_type',\n",
              "       'edu_type', 'family_type', 'house_type', 'DAYS_BIRTH', 'DAYS_EMPLOYED',\n",
              "       'work_phone', 'phone', 'email', 'occyp_type', 'family_size',\n",
              "       'begin_month', 'credit'],\n",
              "      dtype='object')"
            ]
          },
          "metadata": {},
          "execution_count": 161
        }
      ]
    },
    {
      "cell_type": "code",
      "metadata": {
        "colab": {
          "base_uri": "https://localhost:8080/"
        },
        "id": "NFNbHuAoEkP2",
        "outputId": "1d16add0-0fc8-4d54-feaa-0aaf62c4b502"
      },
      "source": [
        "test.columns"
      ],
      "execution_count": 162,
      "outputs": [
        {
          "output_type": "execute_result",
          "data": {
            "text/plain": [
              "Index(['gender', 'car', 'reality', 'child_num', 'income_total', 'income_type',\n",
              "       'edu_type', 'family_type', 'house_type', 'DAYS_BIRTH', 'DAYS_EMPLOYED',\n",
              "       'work_phone', 'phone', 'email', 'occyp_type', 'family_size',\n",
              "       'begin_month'],\n",
              "      dtype='object')"
            ]
          },
          "metadata": {},
          "execution_count": 162
        }
      ]
    },
    {
      "cell_type": "code",
      "metadata": {
        "id": "1_6WabK8CD2L"
      },
      "source": [
        "from xgboost import XGBClassifier\n",
        "from sklearn.linear_model import LogisticRegression\n",
        "\n",
        "X_train=train_df_scaled\n",
        "y_train=train[['credit']]\n",
        "X_test=test_df_scaled"
      ],
      "execution_count": 163,
      "outputs": []
    },
    {
      "cell_type": "markdown",
      "metadata": {
        "id": "cpFsJzIZEt2F"
      },
      "source": [
        "# RandomForestClassifier"
      ]
    },
    {
      "cell_type": "code",
      "metadata": {
        "id": "xp3ET1m5Hn1p"
      },
      "source": [
        "from sklearn.ensemble import RandomForestClassifier\n",
        "from sklearn.metrics import accuracy_score, log_loss\n",
        "from sklearn.metrics import f1_score\n",
        "\n",
        "X_train1,X_val,y_train1,y_val=train_test_split(X_train,y_train,stratify=y_train,test_size=0.25)\n"
      ],
      "execution_count": 173,
      "outputs": []
    },
    {
      "cell_type": "code",
      "metadata": {
        "colab": {
          "base_uri": "https://localhost:8080/"
        },
        "id": "dJDeD_9GJP6g",
        "outputId": "5abe029b-ed47-4d8c-d96b-a1c4ef2c14b1"
      },
      "source": [
        "print(X_train1.shape)\n",
        "print(X_val.shape)\n",
        "print(y_train1.shape)\n",
        "print(y_val.shape)"
      ],
      "execution_count": 177,
      "outputs": [
        {
          "output_type": "stream",
          "name": "stdout",
          "text": [
            "(19842, 17)\n",
            "(6615, 17)\n",
            "(19842, 1)\n",
            "(6615, 1)\n"
          ]
        }
      ]
    },
    {
      "cell_type": "code",
      "metadata": {
        "colab": {
          "base_uri": "https://localhost:8080/"
        },
        "id": "7gZQAOz_NLeY",
        "outputId": "1cf8d87e-fbd6-46dc-8288-f4e7956db751"
      },
      "source": [
        "clf=RandomForestClassifier()\n",
        "clf.fit(X_train1,y_train1)\n",
        "y_pred=clf.predict_proba(X_val)"
      ],
      "execution_count": 178,
      "outputs": [
        {
          "output_type": "stream",
          "name": "stderr",
          "text": [
            "/usr/local/lib/python3.7/dist-packages/ipykernel_launcher.py:2: DataConversionWarning: A column-vector y was passed when a 1d array was expected. Please change the shape of y to (n_samples,), for example using ravel().\n",
            "  \n"
          ]
        }
      ]
    },
    {
      "cell_type": "code",
      "metadata": {
        "colab": {
          "base_uri": "https://localhost:8080/"
        },
        "id": "lSM3ijSfJTVk",
        "outputId": "cdd7f8f3-6d2b-4e84-c8e0-09543fc6e7e5"
      },
      "source": [
        "from sklearn.model_selection import KFold,StratifiedKFold\n",
        "from tensorflow.keras.utils import to_categorical\n",
        "\n",
        "def run_kfold(clf):\n",
        "  folds=StratifiedKFold(n_splits=5,shuffle=True)\n",
        "  outcomes=[]\n",
        "  sub=np.zeros((X_test.shape[0],3))\n",
        "  for n_fold,(train_index,val_index) in enumerate(folds.split(X_train,y_train)):\n",
        "    X_train1,X_val=X_train.iloc[train_index],X_train.iloc[val_index]\n",
        "    y_train1,y_val=y_train.iloc[train_index],y_train.iloc[val_index]\n",
        "    clf.fit(X_train1,y_train1)\n",
        "\n",
        "    predictions=clf.predict_proba(X_val)\n",
        "\n",
        "    logloss=log_loss(to_categorical(y_val['credit']),predictions)\n",
        "    outcomes.append(logloss)\n",
        "    print(f\"FOLD {n_fold} : logloss: {logloss}\")\n",
        "\n",
        "    sub+=clf.predict_proba(X_test)\n",
        "\n",
        "  mean_outcome=np.mean(outcomes)\n",
        "\n",
        "  print(\"Mean:{}\".format(mean_outcome))\n",
        "  return sub/folds.n_splits\n",
        "\n",
        "my_sub=run_kfold(clf)"
      ],
      "execution_count": 181,
      "outputs": [
        {
          "output_type": "stream",
          "name": "stderr",
          "text": [
            "/usr/local/lib/python3.7/dist-packages/ipykernel_launcher.py:11: DataConversionWarning: A column-vector y was passed when a 1d array was expected. Please change the shape of y to (n_samples,), for example using ravel().\n",
            "  # This is added back by InteractiveShellApp.init_path()\n"
          ]
        },
        {
          "output_type": "stream",
          "name": "stdout",
          "text": [
            "FOLD 0 : logloss: 0.9381975975206435\n"
          ]
        },
        {
          "output_type": "stream",
          "name": "stderr",
          "text": [
            "/usr/local/lib/python3.7/dist-packages/ipykernel_launcher.py:11: DataConversionWarning: A column-vector y was passed when a 1d array was expected. Please change the shape of y to (n_samples,), for example using ravel().\n",
            "  # This is added back by InteractiveShellApp.init_path()\n"
          ]
        },
        {
          "output_type": "stream",
          "name": "stdout",
          "text": [
            "FOLD 1 : logloss: 0.8923659085733081\n"
          ]
        },
        {
          "output_type": "stream",
          "name": "stderr",
          "text": [
            "/usr/local/lib/python3.7/dist-packages/ipykernel_launcher.py:11: DataConversionWarning: A column-vector y was passed when a 1d array was expected. Please change the shape of y to (n_samples,), for example using ravel().\n",
            "  # This is added back by InteractiveShellApp.init_path()\n"
          ]
        },
        {
          "output_type": "stream",
          "name": "stdout",
          "text": [
            "FOLD 2 : logloss: 0.9684116043708088\n"
          ]
        },
        {
          "output_type": "stream",
          "name": "stderr",
          "text": [
            "/usr/local/lib/python3.7/dist-packages/ipykernel_launcher.py:11: DataConversionWarning: A column-vector y was passed when a 1d array was expected. Please change the shape of y to (n_samples,), for example using ravel().\n",
            "  # This is added back by InteractiveShellApp.init_path()\n"
          ]
        },
        {
          "output_type": "stream",
          "name": "stdout",
          "text": [
            "FOLD 3 : logloss: 0.9408546019725301\n"
          ]
        },
        {
          "output_type": "stream",
          "name": "stderr",
          "text": [
            "/usr/local/lib/python3.7/dist-packages/ipykernel_launcher.py:11: DataConversionWarning: A column-vector y was passed when a 1d array was expected. Please change the shape of y to (n_samples,), for example using ravel().\n",
            "  # This is added back by InteractiveShellApp.init_path()\n"
          ]
        },
        {
          "output_type": "stream",
          "name": "stdout",
          "text": [
            "FOLD 4 : logloss: 0.9037065041351915\n",
            "Mean:0.9287072433144964\n"
          ]
        }
      ]
    },
    {
      "cell_type": "code",
      "metadata": {
        "colab": {
          "base_uri": "https://localhost:8080/"
        },
        "id": "lcAp2hPyNdcx",
        "outputId": "a775d943-9ddd-41dc-c14c-e4df33f1e0ca"
      },
      "source": [
        "my_sub"
      ],
      "execution_count": 182,
      "outputs": [
        {
          "output_type": "execute_result",
          "data": {
            "text/plain": [
              "array([[0.0504    , 0.133     , 0.8166    ],\n",
              "       [0.308     , 0.18366667, 0.50833333],\n",
              "       [0.087     , 0.14116667, 0.77183333],\n",
              "       ...,\n",
              "       [0.014     , 0.0635    , 0.9225    ],\n",
              "       [0.328     , 0.24016667, 0.43183333],\n",
              "       [0.11166667, 0.23313333, 0.6552    ]])"
            ]
          },
          "metadata": {},
          "execution_count": 182
        }
      ]
    },
    {
      "cell_type": "code",
      "metadata": {
        "colab": {
          "base_uri": "https://localhost:8080/"
        },
        "id": "ML32DgwuN8LJ",
        "outputId": "5f89f796-0733-4b7f-f193-93a286ced361"
      },
      "source": [
        "sub.loc[:,1:]=my_sub"
      ],
      "execution_count": 183,
      "outputs": [
        {
          "output_type": "stream",
          "name": "stderr",
          "text": [
            "/usr/local/lib/python3.7/dist-packages/ipykernel_launcher.py:1: FutureWarning: Slicing a positional slice with .loc is not supported, and will raise TypeError in a future version.  Use .loc with labels or .iloc with positions instead.\n",
            "  \"\"\"Entry point for launching an IPython kernel.\n"
          ]
        }
      ]
    },
    {
      "cell_type": "code",
      "metadata": {
        "colab": {
          "base_uri": "https://localhost:8080/",
          "height": 417
        },
        "id": "rxAvgZkGOD6T",
        "outputId": "6082817b-c9f7-4801-b83f-a4555489d50c"
      },
      "source": [
        "sub"
      ],
      "execution_count": 184,
      "outputs": [
        {
          "output_type": "execute_result",
          "data": {
            "text/html": [
              "<div>\n",
              "<style scoped>\n",
              "    .dataframe tbody tr th:only-of-type {\n",
              "        vertical-align: middle;\n",
              "    }\n",
              "\n",
              "    .dataframe tbody tr th {\n",
              "        vertical-align: top;\n",
              "    }\n",
              "\n",
              "    .dataframe thead th {\n",
              "        text-align: right;\n",
              "    }\n",
              "</style>\n",
              "<table border=\"1\" class=\"dataframe\">\n",
              "  <thead>\n",
              "    <tr style=\"text-align: right;\">\n",
              "      <th></th>\n",
              "      <th>index</th>\n",
              "      <th>0</th>\n",
              "      <th>1</th>\n",
              "      <th>2</th>\n",
              "    </tr>\n",
              "  </thead>\n",
              "  <tbody>\n",
              "    <tr>\n",
              "      <th>0</th>\n",
              "      <td>26457</td>\n",
              "      <td>0.050400</td>\n",
              "      <td>0.133000</td>\n",
              "      <td>0.816600</td>\n",
              "    </tr>\n",
              "    <tr>\n",
              "      <th>1</th>\n",
              "      <td>26458</td>\n",
              "      <td>0.308000</td>\n",
              "      <td>0.183667</td>\n",
              "      <td>0.508333</td>\n",
              "    </tr>\n",
              "    <tr>\n",
              "      <th>2</th>\n",
              "      <td>26459</td>\n",
              "      <td>0.087000</td>\n",
              "      <td>0.141167</td>\n",
              "      <td>0.771833</td>\n",
              "    </tr>\n",
              "    <tr>\n",
              "      <th>3</th>\n",
              "      <td>26460</td>\n",
              "      <td>0.078967</td>\n",
              "      <td>0.088500</td>\n",
              "      <td>0.832533</td>\n",
              "    </tr>\n",
              "    <tr>\n",
              "      <th>4</th>\n",
              "      <td>26461</td>\n",
              "      <td>0.121133</td>\n",
              "      <td>0.193000</td>\n",
              "      <td>0.685867</td>\n",
              "    </tr>\n",
              "    <tr>\n",
              "      <th>...</th>\n",
              "      <td>...</td>\n",
              "      <td>...</td>\n",
              "      <td>...</td>\n",
              "      <td>...</td>\n",
              "    </tr>\n",
              "    <tr>\n",
              "      <th>9995</th>\n",
              "      <td>36452</td>\n",
              "      <td>0.114000</td>\n",
              "      <td>0.277267</td>\n",
              "      <td>0.608733</td>\n",
              "    </tr>\n",
              "    <tr>\n",
              "      <th>9996</th>\n",
              "      <td>36453</td>\n",
              "      <td>0.210000</td>\n",
              "      <td>0.356067</td>\n",
              "      <td>0.433933</td>\n",
              "    </tr>\n",
              "    <tr>\n",
              "      <th>9997</th>\n",
              "      <td>36454</td>\n",
              "      <td>0.014000</td>\n",
              "      <td>0.063500</td>\n",
              "      <td>0.922500</td>\n",
              "    </tr>\n",
              "    <tr>\n",
              "      <th>9998</th>\n",
              "      <td>36455</td>\n",
              "      <td>0.328000</td>\n",
              "      <td>0.240167</td>\n",
              "      <td>0.431833</td>\n",
              "    </tr>\n",
              "    <tr>\n",
              "      <th>9999</th>\n",
              "      <td>36456</td>\n",
              "      <td>0.111667</td>\n",
              "      <td>0.233133</td>\n",
              "      <td>0.655200</td>\n",
              "    </tr>\n",
              "  </tbody>\n",
              "</table>\n",
              "<p>10000 rows × 4 columns</p>\n",
              "</div>"
            ],
            "text/plain": [
              "      index         0         1         2\n",
              "0     26457  0.050400  0.133000  0.816600\n",
              "1     26458  0.308000  0.183667  0.508333\n",
              "2     26459  0.087000  0.141167  0.771833\n",
              "3     26460  0.078967  0.088500  0.832533\n",
              "4     26461  0.121133  0.193000  0.685867\n",
              "...     ...       ...       ...       ...\n",
              "9995  36452  0.114000  0.277267  0.608733\n",
              "9996  36453  0.210000  0.356067  0.433933\n",
              "9997  36454  0.014000  0.063500  0.922500\n",
              "9998  36455  0.328000  0.240167  0.431833\n",
              "9999  36456  0.111667  0.233133  0.655200\n",
              "\n",
              "[10000 rows x 4 columns]"
            ]
          },
          "metadata": {},
          "execution_count": 184
        }
      ]
    },
    {
      "cell_type": "code",
      "metadata": {
        "id": "p4KnNqrBOFDc"
      },
      "source": [
        "sub.to_csv('my_sub.csv', index=False)"
      ],
      "execution_count": 185,
      "outputs": []
    },
    {
      "cell_type": "markdown",
      "metadata": {
        "id": "JdVmf7w1ReVO"
      },
      "source": [
        "# xgboost"
      ]
    },
    {
      "cell_type": "code",
      "metadata": {
        "colab": {
          "base_uri": "https://localhost:8080/"
        },
        "id": "CxAAmDlKQy__",
        "outputId": "f4009cff-785b-40df-cdb2-36fe7f7c6549"
      },
      "source": [
        "xgb=XGBClassifier()\n",
        "xgb.fit(X_train1,y_train1)\n",
        "y_pred=xgb.predict_proba(X_val)"
      ],
      "execution_count": 186,
      "outputs": [
        {
          "output_type": "stream",
          "name": "stderr",
          "text": [
            "/usr/local/lib/python3.7/dist-packages/sklearn/preprocessing/_label.py:235: DataConversionWarning: A column-vector y was passed when a 1d array was expected. Please change the shape of y to (n_samples, ), for example using ravel().\n",
            "  y = column_or_1d(y, warn=True)\n",
            "/usr/local/lib/python3.7/dist-packages/sklearn/preprocessing/_label.py:268: DataConversionWarning: A column-vector y was passed when a 1d array was expected. Please change the shape of y to (n_samples, ), for example using ravel().\n",
            "  y = column_or_1d(y, warn=True)\n"
          ]
        }
      ]
    },
    {
      "cell_type": "code",
      "metadata": {
        "colab": {
          "base_uri": "https://localhost:8080/"
        },
        "id": "iBLFAWHmQ8YM",
        "outputId": "547d1b41-9c6d-4843-a71a-2d941155eb64"
      },
      "source": [
        "my_sub_xgb=run_kfold(xgb)"
      ],
      "execution_count": 187,
      "outputs": [
        {
          "output_type": "stream",
          "name": "stderr",
          "text": [
            "/usr/local/lib/python3.7/dist-packages/sklearn/preprocessing/_label.py:235: DataConversionWarning: A column-vector y was passed when a 1d array was expected. Please change the shape of y to (n_samples, ), for example using ravel().\n",
            "  y = column_or_1d(y, warn=True)\n",
            "/usr/local/lib/python3.7/dist-packages/sklearn/preprocessing/_label.py:268: DataConversionWarning: A column-vector y was passed when a 1d array was expected. Please change the shape of y to (n_samples, ), for example using ravel().\n",
            "  y = column_or_1d(y, warn=True)\n"
          ]
        },
        {
          "output_type": "stream",
          "name": "stdout",
          "text": [
            "FOLD 0 : logloss: 0.7945857232637866\n"
          ]
        },
        {
          "output_type": "stream",
          "name": "stderr",
          "text": [
            "/usr/local/lib/python3.7/dist-packages/sklearn/preprocessing/_label.py:235: DataConversionWarning: A column-vector y was passed when a 1d array was expected. Please change the shape of y to (n_samples, ), for example using ravel().\n",
            "  y = column_or_1d(y, warn=True)\n",
            "/usr/local/lib/python3.7/dist-packages/sklearn/preprocessing/_label.py:268: DataConversionWarning: A column-vector y was passed when a 1d array was expected. Please change the shape of y to (n_samples, ), for example using ravel().\n",
            "  y = column_or_1d(y, warn=True)\n"
          ]
        },
        {
          "output_type": "stream",
          "name": "stdout",
          "text": [
            "FOLD 1 : logloss: 0.8009923943730236\n"
          ]
        },
        {
          "output_type": "stream",
          "name": "stderr",
          "text": [
            "/usr/local/lib/python3.7/dist-packages/sklearn/preprocessing/_label.py:235: DataConversionWarning: A column-vector y was passed when a 1d array was expected. Please change the shape of y to (n_samples, ), for example using ravel().\n",
            "  y = column_or_1d(y, warn=True)\n",
            "/usr/local/lib/python3.7/dist-packages/sklearn/preprocessing/_label.py:268: DataConversionWarning: A column-vector y was passed when a 1d array was expected. Please change the shape of y to (n_samples, ), for example using ravel().\n",
            "  y = column_or_1d(y, warn=True)\n"
          ]
        },
        {
          "output_type": "stream",
          "name": "stdout",
          "text": [
            "FOLD 2 : logloss: 0.7941905907150185\n"
          ]
        },
        {
          "output_type": "stream",
          "name": "stderr",
          "text": [
            "/usr/local/lib/python3.7/dist-packages/sklearn/preprocessing/_label.py:235: DataConversionWarning: A column-vector y was passed when a 1d array was expected. Please change the shape of y to (n_samples, ), for example using ravel().\n",
            "  y = column_or_1d(y, warn=True)\n",
            "/usr/local/lib/python3.7/dist-packages/sklearn/preprocessing/_label.py:268: DataConversionWarning: A column-vector y was passed when a 1d array was expected. Please change the shape of y to (n_samples, ), for example using ravel().\n",
            "  y = column_or_1d(y, warn=True)\n"
          ]
        },
        {
          "output_type": "stream",
          "name": "stdout",
          "text": [
            "FOLD 3 : logloss: 0.7940410068601882\n"
          ]
        },
        {
          "output_type": "stream",
          "name": "stderr",
          "text": [
            "/usr/local/lib/python3.7/dist-packages/sklearn/preprocessing/_label.py:235: DataConversionWarning: A column-vector y was passed when a 1d array was expected. Please change the shape of y to (n_samples, ), for example using ravel().\n",
            "  y = column_or_1d(y, warn=True)\n",
            "/usr/local/lib/python3.7/dist-packages/sklearn/preprocessing/_label.py:268: DataConversionWarning: A column-vector y was passed when a 1d array was expected. Please change the shape of y to (n_samples, ), for example using ravel().\n",
            "  y = column_or_1d(y, warn=True)\n"
          ]
        },
        {
          "output_type": "stream",
          "name": "stdout",
          "text": [
            "FOLD 4 : logloss: 0.8058082340748115\n",
            "Mean:0.7979235898573657\n"
          ]
        }
      ]
    },
    {
      "cell_type": "code",
      "metadata": {
        "colab": {
          "base_uri": "https://localhost:8080/",
          "height": 417
        },
        "id": "r_MPqFexRHB1",
        "outputId": "e6c6e1e7-74f5-469d-a8e2-5a1cc4e3a21a"
      },
      "source": [
        "sub1=pd.read_csv(\"sample_submission.csv\")\n",
        "sub1"
      ],
      "execution_count": 188,
      "outputs": [
        {
          "output_type": "execute_result",
          "data": {
            "text/html": [
              "<div>\n",
              "<style scoped>\n",
              "    .dataframe tbody tr th:only-of-type {\n",
              "        vertical-align: middle;\n",
              "    }\n",
              "\n",
              "    .dataframe tbody tr th {\n",
              "        vertical-align: top;\n",
              "    }\n",
              "\n",
              "    .dataframe thead th {\n",
              "        text-align: right;\n",
              "    }\n",
              "</style>\n",
              "<table border=\"1\" class=\"dataframe\">\n",
              "  <thead>\n",
              "    <tr style=\"text-align: right;\">\n",
              "      <th></th>\n",
              "      <th>index</th>\n",
              "      <th>0</th>\n",
              "      <th>1</th>\n",
              "      <th>2</th>\n",
              "    </tr>\n",
              "  </thead>\n",
              "  <tbody>\n",
              "    <tr>\n",
              "      <th>0</th>\n",
              "      <td>26457</td>\n",
              "      <td>0</td>\n",
              "      <td>0</td>\n",
              "      <td>0</td>\n",
              "    </tr>\n",
              "    <tr>\n",
              "      <th>1</th>\n",
              "      <td>26458</td>\n",
              "      <td>0</td>\n",
              "      <td>0</td>\n",
              "      <td>0</td>\n",
              "    </tr>\n",
              "    <tr>\n",
              "      <th>2</th>\n",
              "      <td>26459</td>\n",
              "      <td>0</td>\n",
              "      <td>0</td>\n",
              "      <td>0</td>\n",
              "    </tr>\n",
              "    <tr>\n",
              "      <th>3</th>\n",
              "      <td>26460</td>\n",
              "      <td>0</td>\n",
              "      <td>0</td>\n",
              "      <td>0</td>\n",
              "    </tr>\n",
              "    <tr>\n",
              "      <th>4</th>\n",
              "      <td>26461</td>\n",
              "      <td>0</td>\n",
              "      <td>0</td>\n",
              "      <td>0</td>\n",
              "    </tr>\n",
              "    <tr>\n",
              "      <th>...</th>\n",
              "      <td>...</td>\n",
              "      <td>...</td>\n",
              "      <td>...</td>\n",
              "      <td>...</td>\n",
              "    </tr>\n",
              "    <tr>\n",
              "      <th>9995</th>\n",
              "      <td>36452</td>\n",
              "      <td>0</td>\n",
              "      <td>0</td>\n",
              "      <td>0</td>\n",
              "    </tr>\n",
              "    <tr>\n",
              "      <th>9996</th>\n",
              "      <td>36453</td>\n",
              "      <td>0</td>\n",
              "      <td>0</td>\n",
              "      <td>0</td>\n",
              "    </tr>\n",
              "    <tr>\n",
              "      <th>9997</th>\n",
              "      <td>36454</td>\n",
              "      <td>0</td>\n",
              "      <td>0</td>\n",
              "      <td>0</td>\n",
              "    </tr>\n",
              "    <tr>\n",
              "      <th>9998</th>\n",
              "      <td>36455</td>\n",
              "      <td>0</td>\n",
              "      <td>0</td>\n",
              "      <td>0</td>\n",
              "    </tr>\n",
              "    <tr>\n",
              "      <th>9999</th>\n",
              "      <td>36456</td>\n",
              "      <td>0</td>\n",
              "      <td>0</td>\n",
              "      <td>0</td>\n",
              "    </tr>\n",
              "  </tbody>\n",
              "</table>\n",
              "<p>10000 rows × 4 columns</p>\n",
              "</div>"
            ],
            "text/plain": [
              "      index  0  1  2\n",
              "0     26457  0  0  0\n",
              "1     26458  0  0  0\n",
              "2     26459  0  0  0\n",
              "3     26460  0  0  0\n",
              "4     26461  0  0  0\n",
              "...     ... .. .. ..\n",
              "9995  36452  0  0  0\n",
              "9996  36453  0  0  0\n",
              "9997  36454  0  0  0\n",
              "9998  36455  0  0  0\n",
              "9999  36456  0  0  0\n",
              "\n",
              "[10000 rows x 4 columns]"
            ]
          },
          "metadata": {},
          "execution_count": 188
        }
      ]
    },
    {
      "cell_type": "code",
      "metadata": {
        "colab": {
          "base_uri": "https://localhost:8080/"
        },
        "id": "57JTR3i-RHMT",
        "outputId": "f227ffdf-86b6-4b77-b9f5-374ea3f532ba"
      },
      "source": [
        "sub1.loc[:,1:]=my_sub_xgb"
      ],
      "execution_count": 191,
      "outputs": [
        {
          "output_type": "stream",
          "name": "stderr",
          "text": [
            "/usr/local/lib/python3.7/dist-packages/ipykernel_launcher.py:1: FutureWarning: Slicing a positional slice with .loc is not supported, and will raise TypeError in a future version.  Use .loc with labels or .iloc with positions instead.\n",
            "  \"\"\"Entry point for launching an IPython kernel.\n"
          ]
        }
      ]
    },
    {
      "cell_type": "code",
      "metadata": {
        "colab": {
          "base_uri": "https://localhost:8080/",
          "height": 417
        },
        "id": "ltgYpm_sRZhb",
        "outputId": "3dde07b7-5eca-4f4f-f309-a8aca0635b03"
      },
      "source": [
        "sub1"
      ],
      "execution_count": 192,
      "outputs": [
        {
          "output_type": "execute_result",
          "data": {
            "text/html": [
              "<div>\n",
              "<style scoped>\n",
              "    .dataframe tbody tr th:only-of-type {\n",
              "        vertical-align: middle;\n",
              "    }\n",
              "\n",
              "    .dataframe tbody tr th {\n",
              "        vertical-align: top;\n",
              "    }\n",
              "\n",
              "    .dataframe thead th {\n",
              "        text-align: right;\n",
              "    }\n",
              "</style>\n",
              "<table border=\"1\" class=\"dataframe\">\n",
              "  <thead>\n",
              "    <tr style=\"text-align: right;\">\n",
              "      <th></th>\n",
              "      <th>index</th>\n",
              "      <th>0</th>\n",
              "      <th>1</th>\n",
              "      <th>2</th>\n",
              "    </tr>\n",
              "  </thead>\n",
              "  <tbody>\n",
              "    <tr>\n",
              "      <th>0</th>\n",
              "      <td>26457</td>\n",
              "      <td>0.102875</td>\n",
              "      <td>0.167627</td>\n",
              "      <td>0.729498</td>\n",
              "    </tr>\n",
              "    <tr>\n",
              "      <th>1</th>\n",
              "      <td>26458</td>\n",
              "      <td>0.120099</td>\n",
              "      <td>0.176769</td>\n",
              "      <td>0.703132</td>\n",
              "    </tr>\n",
              "    <tr>\n",
              "      <th>2</th>\n",
              "      <td>26459</td>\n",
              "      <td>0.119615</td>\n",
              "      <td>0.188447</td>\n",
              "      <td>0.691938</td>\n",
              "    </tr>\n",
              "    <tr>\n",
              "      <th>3</th>\n",
              "      <td>26460</td>\n",
              "      <td>0.105829</td>\n",
              "      <td>0.166593</td>\n",
              "      <td>0.727578</td>\n",
              "    </tr>\n",
              "    <tr>\n",
              "      <th>4</th>\n",
              "      <td>26461</td>\n",
              "      <td>0.135247</td>\n",
              "      <td>0.209721</td>\n",
              "      <td>0.655033</td>\n",
              "    </tr>\n",
              "    <tr>\n",
              "      <th>...</th>\n",
              "      <td>...</td>\n",
              "      <td>...</td>\n",
              "      <td>...</td>\n",
              "      <td>...</td>\n",
              "    </tr>\n",
              "    <tr>\n",
              "      <th>9995</th>\n",
              "      <td>36452</td>\n",
              "      <td>0.115758</td>\n",
              "      <td>0.189012</td>\n",
              "      <td>0.695230</td>\n",
              "    </tr>\n",
              "    <tr>\n",
              "      <th>9996</th>\n",
              "      <td>36453</td>\n",
              "      <td>0.100873</td>\n",
              "      <td>0.226073</td>\n",
              "      <td>0.673054</td>\n",
              "    </tr>\n",
              "    <tr>\n",
              "      <th>9997</th>\n",
              "      <td>36454</td>\n",
              "      <td>0.088861</td>\n",
              "      <td>0.154322</td>\n",
              "      <td>0.756817</td>\n",
              "    </tr>\n",
              "    <tr>\n",
              "      <th>9998</th>\n",
              "      <td>36455</td>\n",
              "      <td>0.088198</td>\n",
              "      <td>0.170166</td>\n",
              "      <td>0.741636</td>\n",
              "    </tr>\n",
              "    <tr>\n",
              "      <th>9999</th>\n",
              "      <td>36456</td>\n",
              "      <td>0.102022</td>\n",
              "      <td>0.237010</td>\n",
              "      <td>0.660968</td>\n",
              "    </tr>\n",
              "  </tbody>\n",
              "</table>\n",
              "<p>10000 rows × 4 columns</p>\n",
              "</div>"
            ],
            "text/plain": [
              "      index         0         1         2\n",
              "0     26457  0.102875  0.167627  0.729498\n",
              "1     26458  0.120099  0.176769  0.703132\n",
              "2     26459  0.119615  0.188447  0.691938\n",
              "3     26460  0.105829  0.166593  0.727578\n",
              "4     26461  0.135247  0.209721  0.655033\n",
              "...     ...       ...       ...       ...\n",
              "9995  36452  0.115758  0.189012  0.695230\n",
              "9996  36453  0.100873  0.226073  0.673054\n",
              "9997  36454  0.088861  0.154322  0.756817\n",
              "9998  36455  0.088198  0.170166  0.741636\n",
              "9999  36456  0.102022  0.237010  0.660968\n",
              "\n",
              "[10000 rows x 4 columns]"
            ]
          },
          "metadata": {},
          "execution_count": 192
        }
      ]
    },
    {
      "cell_type": "code",
      "metadata": {
        "id": "gVy9fyWuRlKn"
      },
      "source": [
        "sub1.to_csv('my_sub1.csv', index=False)"
      ],
      "execution_count": 193,
      "outputs": []
    },
    {
      "cell_type": "markdown",
      "metadata": {
        "id": "pKxEERwUOSD-"
      },
      "source": [
        ""
      ]
    }
  ]
}